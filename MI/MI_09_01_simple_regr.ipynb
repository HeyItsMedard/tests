{
 "cells": [
  {
   "cell_type": "markdown",
   "metadata": {},
   "source": [
    "## Simple regression\n",
    "\n",
    "Given 1 independent variable and 1 dependent variable, estimate their relationship with a linear function."
   ]
  },
  {
   "cell_type": "markdown",
   "metadata": {},
   "source": [
    "### Example problem: house prices\n",
    "\n",
    "We have data about sold houses: area and selling price.\n",
    "We want to predict the selling price of our house (dependent variable).\n",
    "We know its area (independent variable)."
   ]
  },
  {
   "cell_type": "markdown",
   "metadata": {},
   "source": [
    "Generate random data"
   ]
  },
  {
   "cell_type": "code",
   "execution_count": 24,
   "metadata": {},
   "outputs": [],
   "source": [
    "import random\n",
    "\n",
    "area, price = [], []\n",
    "for _ in range(50):\n",
    "    a = random.randint(30, 120)\n",
    "    area.append(a)\n",
    "    p = (a + 1) * (850_000 + random.randint(-100_000, 200_000))\n",
    "    if a > 90:\n",
    "        p = (a + 20) * (450_000 + random.randint(-100_000, 200_000))\n",
    "    price.append(p)"
   ]
  },
  {
   "cell_type": "markdown",
   "metadata": {},
   "source": [
    "Plot data"
   ]
  },
  {
   "cell_type": "code",
   "execution_count": 26,
   "metadata": {},
   "outputs": [
    {
     "data": {
      "application/vnd.plotly.v1+json": {
       "config": {
        "plotlyServerURL": "https://plot.ly"
       },
       "data": [
        {
         "hovertemplate": "Area [m²]=%{x}<br>Price [Ft]=%{y}<extra></extra>",
         "legendgroup": "",
         "marker": {
          "color": "#636efa",
          "symbol": "circle"
         },
         "mode": "markers",
         "name": "",
         "orientation": "v",
         "showlegend": false,
         "type": "scatter",
         "x": [
          38,
          38,
          120,
          57,
          34,
          116,
          75,
          97,
          111,
          110,
          72,
          115,
          47,
          57,
          57,
          78,
          35,
          37,
          82,
          55,
          90,
          83,
          106,
          120,
          47,
          44,
          115,
          34,
          57,
          116,
          113,
          72,
          68,
          34,
          50,
          96,
          88,
          106,
          46,
          46,
          91,
          115,
          45,
          54,
          120,
          34,
          120,
          64,
          49,
          78
         ],
         "xaxis": "x",
         "y": [
          38099490,
          36277995,
          64527260,
          44747174,
          27939275,
          76546920,
          60578232,
          52698438,
          81580905,
          78668330,
          67871823,
          84218940,
          49088112,
          51676898,
          54029378,
          59516862,
          34198560,
          36920534,
          76839906,
          55316520,
          93545270,
          68554332,
          64645560,
          85039780,
          37038480,
          46331190,
          58616325,
          27058430,
          54931858,
          82836784,
          78581188,
          67686111,
          52355682,
          32260340,
          50784015,
          71961296,
          92137873,
          76911912,
          35507748,
          44850220,
          54146355,
          58576095,
          36928064,
          45836725,
          64897700,
          27812575,
          64033480,
          66276080,
          43388350,
          64836485
         ],
         "yaxis": "y"
        }
       ],
       "layout": {
        "legend": {
         "tracegroupgap": 0
        },
        "margin": {
         "t": 60
        },
        "template": {
         "data": {
          "bar": [
           {
            "error_x": {
             "color": "#2a3f5f"
            },
            "error_y": {
             "color": "#2a3f5f"
            },
            "marker": {
             "line": {
              "color": "#E5ECF6",
              "width": 0.5
             },
             "pattern": {
              "fillmode": "overlay",
              "size": 10,
              "solidity": 0.2
             }
            },
            "type": "bar"
           }
          ],
          "barpolar": [
           {
            "marker": {
             "line": {
              "color": "#E5ECF6",
              "width": 0.5
             },
             "pattern": {
              "fillmode": "overlay",
              "size": 10,
              "solidity": 0.2
             }
            },
            "type": "barpolar"
           }
          ],
          "carpet": [
           {
            "aaxis": {
             "endlinecolor": "#2a3f5f",
             "gridcolor": "white",
             "linecolor": "white",
             "minorgridcolor": "white",
             "startlinecolor": "#2a3f5f"
            },
            "baxis": {
             "endlinecolor": "#2a3f5f",
             "gridcolor": "white",
             "linecolor": "white",
             "minorgridcolor": "white",
             "startlinecolor": "#2a3f5f"
            },
            "type": "carpet"
           }
          ],
          "choropleth": [
           {
            "colorbar": {
             "outlinewidth": 0,
             "ticks": ""
            },
            "type": "choropleth"
           }
          ],
          "contour": [
           {
            "colorbar": {
             "outlinewidth": 0,
             "ticks": ""
            },
            "colorscale": [
             [
              0,
              "#0d0887"
             ],
             [
              0.1111111111111111,
              "#46039f"
             ],
             [
              0.2222222222222222,
              "#7201a8"
             ],
             [
              0.3333333333333333,
              "#9c179e"
             ],
             [
              0.4444444444444444,
              "#bd3786"
             ],
             [
              0.5555555555555556,
              "#d8576b"
             ],
             [
              0.6666666666666666,
              "#ed7953"
             ],
             [
              0.7777777777777778,
              "#fb9f3a"
             ],
             [
              0.8888888888888888,
              "#fdca26"
             ],
             [
              1,
              "#f0f921"
             ]
            ],
            "type": "contour"
           }
          ],
          "contourcarpet": [
           {
            "colorbar": {
             "outlinewidth": 0,
             "ticks": ""
            },
            "type": "contourcarpet"
           }
          ],
          "heatmap": [
           {
            "colorbar": {
             "outlinewidth": 0,
             "ticks": ""
            },
            "colorscale": [
             [
              0,
              "#0d0887"
             ],
             [
              0.1111111111111111,
              "#46039f"
             ],
             [
              0.2222222222222222,
              "#7201a8"
             ],
             [
              0.3333333333333333,
              "#9c179e"
             ],
             [
              0.4444444444444444,
              "#bd3786"
             ],
             [
              0.5555555555555556,
              "#d8576b"
             ],
             [
              0.6666666666666666,
              "#ed7953"
             ],
             [
              0.7777777777777778,
              "#fb9f3a"
             ],
             [
              0.8888888888888888,
              "#fdca26"
             ],
             [
              1,
              "#f0f921"
             ]
            ],
            "type": "heatmap"
           }
          ],
          "heatmapgl": [
           {
            "colorbar": {
             "outlinewidth": 0,
             "ticks": ""
            },
            "colorscale": [
             [
              0,
              "#0d0887"
             ],
             [
              0.1111111111111111,
              "#46039f"
             ],
             [
              0.2222222222222222,
              "#7201a8"
             ],
             [
              0.3333333333333333,
              "#9c179e"
             ],
             [
              0.4444444444444444,
              "#bd3786"
             ],
             [
              0.5555555555555556,
              "#d8576b"
             ],
             [
              0.6666666666666666,
              "#ed7953"
             ],
             [
              0.7777777777777778,
              "#fb9f3a"
             ],
             [
              0.8888888888888888,
              "#fdca26"
             ],
             [
              1,
              "#f0f921"
             ]
            ],
            "type": "heatmapgl"
           }
          ],
          "histogram": [
           {
            "marker": {
             "pattern": {
              "fillmode": "overlay",
              "size": 10,
              "solidity": 0.2
             }
            },
            "type": "histogram"
           }
          ],
          "histogram2d": [
           {
            "colorbar": {
             "outlinewidth": 0,
             "ticks": ""
            },
            "colorscale": [
             [
              0,
              "#0d0887"
             ],
             [
              0.1111111111111111,
              "#46039f"
             ],
             [
              0.2222222222222222,
              "#7201a8"
             ],
             [
              0.3333333333333333,
              "#9c179e"
             ],
             [
              0.4444444444444444,
              "#bd3786"
             ],
             [
              0.5555555555555556,
              "#d8576b"
             ],
             [
              0.6666666666666666,
              "#ed7953"
             ],
             [
              0.7777777777777778,
              "#fb9f3a"
             ],
             [
              0.8888888888888888,
              "#fdca26"
             ],
             [
              1,
              "#f0f921"
             ]
            ],
            "type": "histogram2d"
           }
          ],
          "histogram2dcontour": [
           {
            "colorbar": {
             "outlinewidth": 0,
             "ticks": ""
            },
            "colorscale": [
             [
              0,
              "#0d0887"
             ],
             [
              0.1111111111111111,
              "#46039f"
             ],
             [
              0.2222222222222222,
              "#7201a8"
             ],
             [
              0.3333333333333333,
              "#9c179e"
             ],
             [
              0.4444444444444444,
              "#bd3786"
             ],
             [
              0.5555555555555556,
              "#d8576b"
             ],
             [
              0.6666666666666666,
              "#ed7953"
             ],
             [
              0.7777777777777778,
              "#fb9f3a"
             ],
             [
              0.8888888888888888,
              "#fdca26"
             ],
             [
              1,
              "#f0f921"
             ]
            ],
            "type": "histogram2dcontour"
           }
          ],
          "mesh3d": [
           {
            "colorbar": {
             "outlinewidth": 0,
             "ticks": ""
            },
            "type": "mesh3d"
           }
          ],
          "parcoords": [
           {
            "line": {
             "colorbar": {
              "outlinewidth": 0,
              "ticks": ""
             }
            },
            "type": "parcoords"
           }
          ],
          "pie": [
           {
            "automargin": true,
            "type": "pie"
           }
          ],
          "scatter": [
           {
            "fillpattern": {
             "fillmode": "overlay",
             "size": 10,
             "solidity": 0.2
            },
            "type": "scatter"
           }
          ],
          "scatter3d": [
           {
            "line": {
             "colorbar": {
              "outlinewidth": 0,
              "ticks": ""
             }
            },
            "marker": {
             "colorbar": {
              "outlinewidth": 0,
              "ticks": ""
             }
            },
            "type": "scatter3d"
           }
          ],
          "scattercarpet": [
           {
            "marker": {
             "colorbar": {
              "outlinewidth": 0,
              "ticks": ""
             }
            },
            "type": "scattercarpet"
           }
          ],
          "scattergeo": [
           {
            "marker": {
             "colorbar": {
              "outlinewidth": 0,
              "ticks": ""
             }
            },
            "type": "scattergeo"
           }
          ],
          "scattergl": [
           {
            "marker": {
             "colorbar": {
              "outlinewidth": 0,
              "ticks": ""
             }
            },
            "type": "scattergl"
           }
          ],
          "scattermapbox": [
           {
            "marker": {
             "colorbar": {
              "outlinewidth": 0,
              "ticks": ""
             }
            },
            "type": "scattermapbox"
           }
          ],
          "scatterpolar": [
           {
            "marker": {
             "colorbar": {
              "outlinewidth": 0,
              "ticks": ""
             }
            },
            "type": "scatterpolar"
           }
          ],
          "scatterpolargl": [
           {
            "marker": {
             "colorbar": {
              "outlinewidth": 0,
              "ticks": ""
             }
            },
            "type": "scatterpolargl"
           }
          ],
          "scatterternary": [
           {
            "marker": {
             "colorbar": {
              "outlinewidth": 0,
              "ticks": ""
             }
            },
            "type": "scatterternary"
           }
          ],
          "surface": [
           {
            "colorbar": {
             "outlinewidth": 0,
             "ticks": ""
            },
            "colorscale": [
             [
              0,
              "#0d0887"
             ],
             [
              0.1111111111111111,
              "#46039f"
             ],
             [
              0.2222222222222222,
              "#7201a8"
             ],
             [
              0.3333333333333333,
              "#9c179e"
             ],
             [
              0.4444444444444444,
              "#bd3786"
             ],
             [
              0.5555555555555556,
              "#d8576b"
             ],
             [
              0.6666666666666666,
              "#ed7953"
             ],
             [
              0.7777777777777778,
              "#fb9f3a"
             ],
             [
              0.8888888888888888,
              "#fdca26"
             ],
             [
              1,
              "#f0f921"
             ]
            ],
            "type": "surface"
           }
          ],
          "table": [
           {
            "cells": {
             "fill": {
              "color": "#EBF0F8"
             },
             "line": {
              "color": "white"
             }
            },
            "header": {
             "fill": {
              "color": "#C8D4E3"
             },
             "line": {
              "color": "white"
             }
            },
            "type": "table"
           }
          ]
         },
         "layout": {
          "annotationdefaults": {
           "arrowcolor": "#2a3f5f",
           "arrowhead": 0,
           "arrowwidth": 1
          },
          "autotypenumbers": "strict",
          "coloraxis": {
           "colorbar": {
            "outlinewidth": 0,
            "ticks": ""
           }
          },
          "colorscale": {
           "diverging": [
            [
             0,
             "#8e0152"
            ],
            [
             0.1,
             "#c51b7d"
            ],
            [
             0.2,
             "#de77ae"
            ],
            [
             0.3,
             "#f1b6da"
            ],
            [
             0.4,
             "#fde0ef"
            ],
            [
             0.5,
             "#f7f7f7"
            ],
            [
             0.6,
             "#e6f5d0"
            ],
            [
             0.7,
             "#b8e186"
            ],
            [
             0.8,
             "#7fbc41"
            ],
            [
             0.9,
             "#4d9221"
            ],
            [
             1,
             "#276419"
            ]
           ],
           "sequential": [
            [
             0,
             "#0d0887"
            ],
            [
             0.1111111111111111,
             "#46039f"
            ],
            [
             0.2222222222222222,
             "#7201a8"
            ],
            [
             0.3333333333333333,
             "#9c179e"
            ],
            [
             0.4444444444444444,
             "#bd3786"
            ],
            [
             0.5555555555555556,
             "#d8576b"
            ],
            [
             0.6666666666666666,
             "#ed7953"
            ],
            [
             0.7777777777777778,
             "#fb9f3a"
            ],
            [
             0.8888888888888888,
             "#fdca26"
            ],
            [
             1,
             "#f0f921"
            ]
           ],
           "sequentialminus": [
            [
             0,
             "#0d0887"
            ],
            [
             0.1111111111111111,
             "#46039f"
            ],
            [
             0.2222222222222222,
             "#7201a8"
            ],
            [
             0.3333333333333333,
             "#9c179e"
            ],
            [
             0.4444444444444444,
             "#bd3786"
            ],
            [
             0.5555555555555556,
             "#d8576b"
            ],
            [
             0.6666666666666666,
             "#ed7953"
            ],
            [
             0.7777777777777778,
             "#fb9f3a"
            ],
            [
             0.8888888888888888,
             "#fdca26"
            ],
            [
             1,
             "#f0f921"
            ]
           ]
          },
          "colorway": [
           "#636efa",
           "#EF553B",
           "#00cc96",
           "#ab63fa",
           "#FFA15A",
           "#19d3f3",
           "#FF6692",
           "#B6E880",
           "#FF97FF",
           "#FECB52"
          ],
          "font": {
           "color": "#2a3f5f"
          },
          "geo": {
           "bgcolor": "white",
           "lakecolor": "white",
           "landcolor": "#E5ECF6",
           "showlakes": true,
           "showland": true,
           "subunitcolor": "white"
          },
          "hoverlabel": {
           "align": "left"
          },
          "hovermode": "closest",
          "mapbox": {
           "style": "light"
          },
          "paper_bgcolor": "white",
          "plot_bgcolor": "#E5ECF6",
          "polar": {
           "angularaxis": {
            "gridcolor": "white",
            "linecolor": "white",
            "ticks": ""
           },
           "bgcolor": "#E5ECF6",
           "radialaxis": {
            "gridcolor": "white",
            "linecolor": "white",
            "ticks": ""
           }
          },
          "scene": {
           "xaxis": {
            "backgroundcolor": "#E5ECF6",
            "gridcolor": "white",
            "gridwidth": 2,
            "linecolor": "white",
            "showbackground": true,
            "ticks": "",
            "zerolinecolor": "white"
           },
           "yaxis": {
            "backgroundcolor": "#E5ECF6",
            "gridcolor": "white",
            "gridwidth": 2,
            "linecolor": "white",
            "showbackground": true,
            "ticks": "",
            "zerolinecolor": "white"
           },
           "zaxis": {
            "backgroundcolor": "#E5ECF6",
            "gridcolor": "white",
            "gridwidth": 2,
            "linecolor": "white",
            "showbackground": true,
            "ticks": "",
            "zerolinecolor": "white"
           }
          },
          "shapedefaults": {
           "line": {
            "color": "#2a3f5f"
           }
          },
          "ternary": {
           "aaxis": {
            "gridcolor": "white",
            "linecolor": "white",
            "ticks": ""
           },
           "baxis": {
            "gridcolor": "white",
            "linecolor": "white",
            "ticks": ""
           },
           "bgcolor": "#E5ECF6",
           "caxis": {
            "gridcolor": "white",
            "linecolor": "white",
            "ticks": ""
           }
          },
          "title": {
           "x": 0.05
          },
          "xaxis": {
           "automargin": true,
           "gridcolor": "white",
           "linecolor": "white",
           "ticks": "",
           "title": {
            "standoff": 15
           },
           "zerolinecolor": "white",
           "zerolinewidth": 2
          },
          "yaxis": {
           "automargin": true,
           "gridcolor": "white",
           "linecolor": "white",
           "ticks": "",
           "title": {
            "standoff": 15
           },
           "zerolinecolor": "white",
           "zerolinewidth": 2
          }
         }
        },
        "xaxis": {
         "anchor": "y",
         "domain": [
          0,
          1
         ],
         "title": {
          "text": "Area [m²]"
         }
        },
        "yaxis": {
         "anchor": "x",
         "domain": [
          0,
          1
         ],
         "title": {
          "text": "Price [Ft]"
         }
        }
       }
      }
     },
     "metadata": {},
     "output_type": "display_data"
    }
   ],
   "source": [
    "import plotly.express as px\n",
    "\n",
    "fig = px.scatter(x=area, y=price, labels={\"x\": \"Area [m²]\", \"y\": \"Price [Ft]\"})\n",
    "fig.show()"
   ]
  },
  {
   "cell_type": "markdown",
   "metadata": {},
   "source": [
    "### Problem: find a *line* that best fits the data\n",
    "\n",
    "Line ~ linear function: $y = ax + b$\n",
    "\n",
    "We need to find values for the parameters $a$ and $b$."
   ]
  },
  {
   "cell_type": "code",
   "execution_count": 27,
   "metadata": {},
   "outputs": [
    {
     "data": {
      "application/vnd.plotly.v1+json": {
       "config": {
        "plotlyServerURL": "https://plot.ly"
       },
       "data": [
        {
         "hovertemplate": "x=%{x}<br>y=%{y}<extra></extra>",
         "legendgroup": "",
         "line": {
          "color": "#636efa",
          "dash": "solid"
         },
         "marker": {
          "symbol": "circle"
         },
         "mode": "lines",
         "name": "",
         "orientation": "v",
         "showlegend": false,
         "type": "scatter",
         "x": [
          34,
          120
         ],
         "xaxis": "x",
         "y": [
          30600000,
          108000000
         ],
         "yaxis": "y"
        },
        {
         "hovertemplate": "Area [m²]=%{x}<br>Price [Ft]=%{y}<extra></extra>",
         "legendgroup": "",
         "marker": {
          "color": "#636efa",
          "symbol": "circle"
         },
         "mode": "markers",
         "name": "",
         "orientation": "v",
         "showlegend": false,
         "type": "scatter",
         "x": [
          38,
          38,
          120,
          57,
          34,
          116,
          75,
          97,
          111,
          110,
          72,
          115,
          47,
          57,
          57,
          78,
          35,
          37,
          82,
          55,
          90,
          83,
          106,
          120,
          47,
          44,
          115,
          34,
          57,
          116,
          113,
          72,
          68,
          34,
          50,
          96,
          88,
          106,
          46,
          46,
          91,
          115,
          45,
          54,
          120,
          34,
          120,
          64,
          49,
          78
         ],
         "xaxis": "x",
         "y": [
          38099490,
          36277995,
          64527260,
          44747174,
          27939275,
          76546920,
          60578232,
          52698438,
          81580905,
          78668330,
          67871823,
          84218940,
          49088112,
          51676898,
          54029378,
          59516862,
          34198560,
          36920534,
          76839906,
          55316520,
          93545270,
          68554332,
          64645560,
          85039780,
          37038480,
          46331190,
          58616325,
          27058430,
          54931858,
          82836784,
          78581188,
          67686111,
          52355682,
          32260340,
          50784015,
          71961296,
          92137873,
          76911912,
          35507748,
          44850220,
          54146355,
          58576095,
          36928064,
          45836725,
          64897700,
          27812575,
          64033480,
          66276080,
          43388350,
          64836485
         ],
         "yaxis": "y"
        }
       ],
       "layout": {
        "legend": {
         "tracegroupgap": 0
        },
        "margin": {
         "t": 60
        },
        "template": {
         "data": {
          "bar": [
           {
            "error_x": {
             "color": "#2a3f5f"
            },
            "error_y": {
             "color": "#2a3f5f"
            },
            "marker": {
             "line": {
              "color": "#E5ECF6",
              "width": 0.5
             },
             "pattern": {
              "fillmode": "overlay",
              "size": 10,
              "solidity": 0.2
             }
            },
            "type": "bar"
           }
          ],
          "barpolar": [
           {
            "marker": {
             "line": {
              "color": "#E5ECF6",
              "width": 0.5
             },
             "pattern": {
              "fillmode": "overlay",
              "size": 10,
              "solidity": 0.2
             }
            },
            "type": "barpolar"
           }
          ],
          "carpet": [
           {
            "aaxis": {
             "endlinecolor": "#2a3f5f",
             "gridcolor": "white",
             "linecolor": "white",
             "minorgridcolor": "white",
             "startlinecolor": "#2a3f5f"
            },
            "baxis": {
             "endlinecolor": "#2a3f5f",
             "gridcolor": "white",
             "linecolor": "white",
             "minorgridcolor": "white",
             "startlinecolor": "#2a3f5f"
            },
            "type": "carpet"
           }
          ],
          "choropleth": [
           {
            "colorbar": {
             "outlinewidth": 0,
             "ticks": ""
            },
            "type": "choropleth"
           }
          ],
          "contour": [
           {
            "colorbar": {
             "outlinewidth": 0,
             "ticks": ""
            },
            "colorscale": [
             [
              0,
              "#0d0887"
             ],
             [
              0.1111111111111111,
              "#46039f"
             ],
             [
              0.2222222222222222,
              "#7201a8"
             ],
             [
              0.3333333333333333,
              "#9c179e"
             ],
             [
              0.4444444444444444,
              "#bd3786"
             ],
             [
              0.5555555555555556,
              "#d8576b"
             ],
             [
              0.6666666666666666,
              "#ed7953"
             ],
             [
              0.7777777777777778,
              "#fb9f3a"
             ],
             [
              0.8888888888888888,
              "#fdca26"
             ],
             [
              1,
              "#f0f921"
             ]
            ],
            "type": "contour"
           }
          ],
          "contourcarpet": [
           {
            "colorbar": {
             "outlinewidth": 0,
             "ticks": ""
            },
            "type": "contourcarpet"
           }
          ],
          "heatmap": [
           {
            "colorbar": {
             "outlinewidth": 0,
             "ticks": ""
            },
            "colorscale": [
             [
              0,
              "#0d0887"
             ],
             [
              0.1111111111111111,
              "#46039f"
             ],
             [
              0.2222222222222222,
              "#7201a8"
             ],
             [
              0.3333333333333333,
              "#9c179e"
             ],
             [
              0.4444444444444444,
              "#bd3786"
             ],
             [
              0.5555555555555556,
              "#d8576b"
             ],
             [
              0.6666666666666666,
              "#ed7953"
             ],
             [
              0.7777777777777778,
              "#fb9f3a"
             ],
             [
              0.8888888888888888,
              "#fdca26"
             ],
             [
              1,
              "#f0f921"
             ]
            ],
            "type": "heatmap"
           }
          ],
          "heatmapgl": [
           {
            "colorbar": {
             "outlinewidth": 0,
             "ticks": ""
            },
            "colorscale": [
             [
              0,
              "#0d0887"
             ],
             [
              0.1111111111111111,
              "#46039f"
             ],
             [
              0.2222222222222222,
              "#7201a8"
             ],
             [
              0.3333333333333333,
              "#9c179e"
             ],
             [
              0.4444444444444444,
              "#bd3786"
             ],
             [
              0.5555555555555556,
              "#d8576b"
             ],
             [
              0.6666666666666666,
              "#ed7953"
             ],
             [
              0.7777777777777778,
              "#fb9f3a"
             ],
             [
              0.8888888888888888,
              "#fdca26"
             ],
             [
              1,
              "#f0f921"
             ]
            ],
            "type": "heatmapgl"
           }
          ],
          "histogram": [
           {
            "marker": {
             "pattern": {
              "fillmode": "overlay",
              "size": 10,
              "solidity": 0.2
             }
            },
            "type": "histogram"
           }
          ],
          "histogram2d": [
           {
            "colorbar": {
             "outlinewidth": 0,
             "ticks": ""
            },
            "colorscale": [
             [
              0,
              "#0d0887"
             ],
             [
              0.1111111111111111,
              "#46039f"
             ],
             [
              0.2222222222222222,
              "#7201a8"
             ],
             [
              0.3333333333333333,
              "#9c179e"
             ],
             [
              0.4444444444444444,
              "#bd3786"
             ],
             [
              0.5555555555555556,
              "#d8576b"
             ],
             [
              0.6666666666666666,
              "#ed7953"
             ],
             [
              0.7777777777777778,
              "#fb9f3a"
             ],
             [
              0.8888888888888888,
              "#fdca26"
             ],
             [
              1,
              "#f0f921"
             ]
            ],
            "type": "histogram2d"
           }
          ],
          "histogram2dcontour": [
           {
            "colorbar": {
             "outlinewidth": 0,
             "ticks": ""
            },
            "colorscale": [
             [
              0,
              "#0d0887"
             ],
             [
              0.1111111111111111,
              "#46039f"
             ],
             [
              0.2222222222222222,
              "#7201a8"
             ],
             [
              0.3333333333333333,
              "#9c179e"
             ],
             [
              0.4444444444444444,
              "#bd3786"
             ],
             [
              0.5555555555555556,
              "#d8576b"
             ],
             [
              0.6666666666666666,
              "#ed7953"
             ],
             [
              0.7777777777777778,
              "#fb9f3a"
             ],
             [
              0.8888888888888888,
              "#fdca26"
             ],
             [
              1,
              "#f0f921"
             ]
            ],
            "type": "histogram2dcontour"
           }
          ],
          "mesh3d": [
           {
            "colorbar": {
             "outlinewidth": 0,
             "ticks": ""
            },
            "type": "mesh3d"
           }
          ],
          "parcoords": [
           {
            "line": {
             "colorbar": {
              "outlinewidth": 0,
              "ticks": ""
             }
            },
            "type": "parcoords"
           }
          ],
          "pie": [
           {
            "automargin": true,
            "type": "pie"
           }
          ],
          "scatter": [
           {
            "fillpattern": {
             "fillmode": "overlay",
             "size": 10,
             "solidity": 0.2
            },
            "type": "scatter"
           }
          ],
          "scatter3d": [
           {
            "line": {
             "colorbar": {
              "outlinewidth": 0,
              "ticks": ""
             }
            },
            "marker": {
             "colorbar": {
              "outlinewidth": 0,
              "ticks": ""
             }
            },
            "type": "scatter3d"
           }
          ],
          "scattercarpet": [
           {
            "marker": {
             "colorbar": {
              "outlinewidth": 0,
              "ticks": ""
             }
            },
            "type": "scattercarpet"
           }
          ],
          "scattergeo": [
           {
            "marker": {
             "colorbar": {
              "outlinewidth": 0,
              "ticks": ""
             }
            },
            "type": "scattergeo"
           }
          ],
          "scattergl": [
           {
            "marker": {
             "colorbar": {
              "outlinewidth": 0,
              "ticks": ""
             }
            },
            "type": "scattergl"
           }
          ],
          "scattermapbox": [
           {
            "marker": {
             "colorbar": {
              "outlinewidth": 0,
              "ticks": ""
             }
            },
            "type": "scattermapbox"
           }
          ],
          "scatterpolar": [
           {
            "marker": {
             "colorbar": {
              "outlinewidth": 0,
              "ticks": ""
             }
            },
            "type": "scatterpolar"
           }
          ],
          "scatterpolargl": [
           {
            "marker": {
             "colorbar": {
              "outlinewidth": 0,
              "ticks": ""
             }
            },
            "type": "scatterpolargl"
           }
          ],
          "scatterternary": [
           {
            "marker": {
             "colorbar": {
              "outlinewidth": 0,
              "ticks": ""
             }
            },
            "type": "scatterternary"
           }
          ],
          "surface": [
           {
            "colorbar": {
             "outlinewidth": 0,
             "ticks": ""
            },
            "colorscale": [
             [
              0,
              "#0d0887"
             ],
             [
              0.1111111111111111,
              "#46039f"
             ],
             [
              0.2222222222222222,
              "#7201a8"
             ],
             [
              0.3333333333333333,
              "#9c179e"
             ],
             [
              0.4444444444444444,
              "#bd3786"
             ],
             [
              0.5555555555555556,
              "#d8576b"
             ],
             [
              0.6666666666666666,
              "#ed7953"
             ],
             [
              0.7777777777777778,
              "#fb9f3a"
             ],
             [
              0.8888888888888888,
              "#fdca26"
             ],
             [
              1,
              "#f0f921"
             ]
            ],
            "type": "surface"
           }
          ],
          "table": [
           {
            "cells": {
             "fill": {
              "color": "#EBF0F8"
             },
             "line": {
              "color": "white"
             }
            },
            "header": {
             "fill": {
              "color": "#C8D4E3"
             },
             "line": {
              "color": "white"
             }
            },
            "type": "table"
           }
          ]
         },
         "layout": {
          "annotationdefaults": {
           "arrowcolor": "#2a3f5f",
           "arrowhead": 0,
           "arrowwidth": 1
          },
          "autotypenumbers": "strict",
          "coloraxis": {
           "colorbar": {
            "outlinewidth": 0,
            "ticks": ""
           }
          },
          "colorscale": {
           "diverging": [
            [
             0,
             "#8e0152"
            ],
            [
             0.1,
             "#c51b7d"
            ],
            [
             0.2,
             "#de77ae"
            ],
            [
             0.3,
             "#f1b6da"
            ],
            [
             0.4,
             "#fde0ef"
            ],
            [
             0.5,
             "#f7f7f7"
            ],
            [
             0.6,
             "#e6f5d0"
            ],
            [
             0.7,
             "#b8e186"
            ],
            [
             0.8,
             "#7fbc41"
            ],
            [
             0.9,
             "#4d9221"
            ],
            [
             1,
             "#276419"
            ]
           ],
           "sequential": [
            [
             0,
             "#0d0887"
            ],
            [
             0.1111111111111111,
             "#46039f"
            ],
            [
             0.2222222222222222,
             "#7201a8"
            ],
            [
             0.3333333333333333,
             "#9c179e"
            ],
            [
             0.4444444444444444,
             "#bd3786"
            ],
            [
             0.5555555555555556,
             "#d8576b"
            ],
            [
             0.6666666666666666,
             "#ed7953"
            ],
            [
             0.7777777777777778,
             "#fb9f3a"
            ],
            [
             0.8888888888888888,
             "#fdca26"
            ],
            [
             1,
             "#f0f921"
            ]
           ],
           "sequentialminus": [
            [
             0,
             "#0d0887"
            ],
            [
             0.1111111111111111,
             "#46039f"
            ],
            [
             0.2222222222222222,
             "#7201a8"
            ],
            [
             0.3333333333333333,
             "#9c179e"
            ],
            [
             0.4444444444444444,
             "#bd3786"
            ],
            [
             0.5555555555555556,
             "#d8576b"
            ],
            [
             0.6666666666666666,
             "#ed7953"
            ],
            [
             0.7777777777777778,
             "#fb9f3a"
            ],
            [
             0.8888888888888888,
             "#fdca26"
            ],
            [
             1,
             "#f0f921"
            ]
           ]
          },
          "colorway": [
           "#636efa",
           "#EF553B",
           "#00cc96",
           "#ab63fa",
           "#FFA15A",
           "#19d3f3",
           "#FF6692",
           "#B6E880",
           "#FF97FF",
           "#FECB52"
          ],
          "font": {
           "color": "#2a3f5f"
          },
          "geo": {
           "bgcolor": "white",
           "lakecolor": "white",
           "landcolor": "#E5ECF6",
           "showlakes": true,
           "showland": true,
           "subunitcolor": "white"
          },
          "hoverlabel": {
           "align": "left"
          },
          "hovermode": "closest",
          "mapbox": {
           "style": "light"
          },
          "paper_bgcolor": "white",
          "plot_bgcolor": "#E5ECF6",
          "polar": {
           "angularaxis": {
            "gridcolor": "white",
            "linecolor": "white",
            "ticks": ""
           },
           "bgcolor": "#E5ECF6",
           "radialaxis": {
            "gridcolor": "white",
            "linecolor": "white",
            "ticks": ""
           }
          },
          "scene": {
           "xaxis": {
            "backgroundcolor": "#E5ECF6",
            "gridcolor": "white",
            "gridwidth": 2,
            "linecolor": "white",
            "showbackground": true,
            "ticks": "",
            "zerolinecolor": "white"
           },
           "yaxis": {
            "backgroundcolor": "#E5ECF6",
            "gridcolor": "white",
            "gridwidth": 2,
            "linecolor": "white",
            "showbackground": true,
            "ticks": "",
            "zerolinecolor": "white"
           },
           "zaxis": {
            "backgroundcolor": "#E5ECF6",
            "gridcolor": "white",
            "gridwidth": 2,
            "linecolor": "white",
            "showbackground": true,
            "ticks": "",
            "zerolinecolor": "white"
           }
          },
          "shapedefaults": {
           "line": {
            "color": "#2a3f5f"
           }
          },
          "ternary": {
           "aaxis": {
            "gridcolor": "white",
            "linecolor": "white",
            "ticks": ""
           },
           "baxis": {
            "gridcolor": "white",
            "linecolor": "white",
            "ticks": ""
           },
           "bgcolor": "#E5ECF6",
           "caxis": {
            "gridcolor": "white",
            "linecolor": "white",
            "ticks": ""
           }
          },
          "title": {
           "x": 0.05
          },
          "xaxis": {
           "automargin": true,
           "gridcolor": "white",
           "linecolor": "white",
           "ticks": "",
           "title": {
            "standoff": 15
           },
           "zerolinecolor": "white",
           "zerolinewidth": 2
          },
          "yaxis": {
           "automargin": true,
           "gridcolor": "white",
           "linecolor": "white",
           "ticks": "",
           "title": {
            "standoff": 15
           },
           "zerolinecolor": "white",
           "zerolinewidth": 2
          }
         }
        },
        "xaxis": {
         "anchor": "y",
         "domain": [
          0,
          1
         ],
         "title": {
          "text": "x"
         }
        },
        "yaxis": {
         "anchor": "x",
         "domain": [
          0,
          1
         ],
         "title": {
          "text": "y"
         }
        }
       }
      }
     },
     "metadata": {},
     "output_type": "display_data"
    }
   ],
   "source": [
    "a = 900_000\n",
    "b = 0\n",
    "x_range = [min(area), max(area)]\n",
    "fig2 = px.line(x=x_range, y=[a * x + b for x in x_range])\n",
    "fig2.add_traces(fig.data)\n",
    "fig2.show()"
   ]
  },
  {
   "cell_type": "markdown",
   "metadata": {},
   "source": [
    "#### Measure the distance from the data (the error, or loss)"
   ]
  },
  {
   "cell_type": "markdown",
   "metadata": {},
   "source": [
    "Mean Squared Error\n",
    "\n",
    "$$MSE = \\frac{1}{m} \\sum_{i=1}^{m} (ax_i+b - y_i)^2$$\n",
    "\n",
    "($m$ is the number of elements in the teaching data, $n$ is used for the number of input variables, which is 1 now)"
   ]
  },
  {
   "cell_type": "code",
   "execution_count": 28,
   "metadata": {},
   "outputs": [
    {
     "data": {
      "text/plain": [
       "'354_435_177_821_166.25'"
      ]
     },
     "execution_count": 28,
     "metadata": {},
     "output_type": "execute_result"
    }
   ],
   "source": [
    "def distance(a, b, x, y):\n",
    "    return (a * x + b - y) ** 2\n",
    "\n",
    "\n",
    "def error(a, b):\n",
    "    return sum([distance(a, b, x, y) for x, y in zip(area, price)]) / len(area)\n",
    "\n",
    "\n",
    "f\"{error(a, b):_}\""
   ]
  },
  {
   "cell_type": "markdown",
   "metadata": {},
   "source": [
    "### Minimize the error\n",
    "\n",
    "Find values for $a$ and $b$ that minimize the error function."
   ]
  },
  {
   "cell_type": "markdown",
   "metadata": {},
   "source": [
    "This is an optimization problem, where $a$ and $b$ are the decision variables, and the objective is to minimize $MSE(a,b)$."
   ]
  },
  {
   "cell_type": "code",
   "execution_count": 29,
   "metadata": {},
   "outputs": [
    {
     "data": {
      "text/plain": [
       "35.252880924116624"
      ]
     },
     "execution_count": 29,
     "metadata": {},
     "output_type": "execute_result"
    }
   ],
   "source": [
    "# try manually\n",
    "a = 900_000\n",
    "b = -100_000\n",
    "error(a, b) / 10_000_000_000_000"
   ]
  },
  {
   "cell_type": "code",
   "execution_count": 30,
   "metadata": {},
   "outputs": [
    {
     "data": {
      "text/plain": [
       "'best_a=800_000.0, best_b=-2_500_000.0, best=19.597696952116625'"
      ]
     },
     "execution_count": 30,
     "metadata": {},
     "output_type": "execute_result"
    }
   ],
   "source": [
    "# brute-force search\n",
    "best_a, best_b = a, b\n",
    "best = error(a, b)\n",
    "import numpy as np\n",
    "\n",
    "for a, b in zip(\n",
    "    np.linspace(800_000, 1_000_000, 10_000), np.linspace(-2_500_000, 0, 10_000)\n",
    "):\n",
    "    err = error(a, b)\n",
    "    if err < best:\n",
    "        best = err\n",
    "        best_a, best_b = a, b\n",
    "f\"{best_a=:_}, {best_b=:_}, best={best / 10_000_000_000_000}\""
   ]
  },
  {
   "cell_type": "markdown",
   "metadata": {},
   "source": [
    "To better understand the problem, look at the plot of the error function for different $a,b$ values."
   ]
  },
  {
   "cell_type": "code",
   "execution_count": 31,
   "metadata": {},
   "outputs": [
    {
     "data": {
      "application/vnd.plotly.v1+json": {
       "config": {
        "plotlyServerURL": "https://plot.ly"
       },
       "data": [
        {
         "type": "surface",
         "x": [
          800000,
          802020.2020202021,
          804040.404040404,
          806060.6060606061,
          808080.808080808,
          810101.0101010101,
          812121.2121212122,
          814141.4141414141,
          816161.6161616162,
          818181.8181818182,
          820202.0202020202,
          822222.2222222222,
          824242.4242424242,
          826262.6262626263,
          828282.8282828283,
          830303.0303030303,
          832323.2323232323,
          834343.4343434343,
          836363.6363636364,
          838383.8383838384,
          840404.0404040404,
          842424.2424242424,
          844444.4444444445,
          846464.6464646464,
          848484.8484848485,
          850505.0505050505,
          852525.2525252525,
          854545.4545454546,
          856565.6565656565,
          858585.8585858586,
          860606.0606060605,
          862626.2626262626,
          864646.4646464647,
          866666.6666666666,
          868686.8686868687,
          870707.0707070706,
          872727.2727272727,
          874747.4747474748,
          876767.6767676767,
          878787.8787878788,
          880808.0808080808,
          882828.2828282828,
          884848.4848484849,
          886868.6868686869,
          888888.8888888889,
          890909.0909090909,
          892929.2929292929,
          894949.494949495,
          896969.696969697,
          898989.898989899,
          901010.101010101,
          903030.303030303,
          905050.505050505,
          907070.7070707071,
          909090.9090909091,
          911111.1111111111,
          913131.3131313131,
          915151.5151515151,
          917171.7171717172,
          919191.9191919192,
          921212.1212121212,
          923232.3232323232,
          925252.5252525252,
          927272.7272727273,
          929292.9292929292,
          931313.1313131313,
          933333.3333333333,
          935353.5353535353,
          937373.7373737374,
          939393.9393939395,
          941414.1414141414,
          943434.3434343435,
          945454.5454545454,
          947474.7474747475,
          949494.9494949495,
          951515.1515151515,
          953535.3535353536,
          955555.5555555555,
          957575.7575757576,
          959595.9595959596,
          961616.1616161616,
          963636.3636363636,
          965656.5656565656,
          967676.7676767677,
          969696.9696969697,
          971717.1717171717,
          973737.3737373737,
          975757.5757575757,
          977777.7777777778,
          979797.9797979798,
          981818.1818181818,
          983838.3838383838,
          985858.5858585858,
          987878.7878787878,
          989898.9898989899,
          991919.191919192,
          993939.3939393939,
          995959.595959596,
          997979.7979797979,
          1000000
         ],
         "y": [
          -1000000,
          -959595.9595959596,
          -919191.9191919192,
          -878787.8787878788,
          -838383.8383838384,
          -797979.7979797979,
          -757575.7575757576,
          -717171.7171717172,
          -676767.6767676768,
          -636363.6363636364,
          -595959.595959596,
          -555555.5555555555,
          -515151.51515151514,
          -474747.4747474748,
          -434343.4343434344,
          -393939.3939393939,
          -353535.35353535356,
          -313131.3131313132,
          -272727.2727272727,
          -232323.23232323234,
          -191919.19191919197,
          -151515.1515151515,
          -111111.11111111112,
          -70707.07070707076,
          -30303.030303030275,
          10101.010101010092,
          50505.05050505046,
          90909.09090909082,
          131313.1313131312,
          171717.1717171718,
          212121.21212121216,
          252525.25252525252,
          292929.2929292929,
          333333.33333333326,
          373737.3737373736,
          414141.414141414,
          454545.4545454546,
          494949.49494949495,
          535353.5353535353,
          575757.5757575757,
          616161.616161616,
          656565.6565656564,
          696969.696969697,
          737373.7373737374,
          777777.7777777778,
          818181.8181818181,
          858585.8585858585,
          898989.8989898989,
          939393.9393939395,
          979797.9797979798,
          1020202.0202020202,
          1060606.0606060605,
          1101010.101010101,
          1141414.1414141413,
          1181818.1818181816,
          1222222.222222222,
          1262626.2626262624,
          1303030.3030303027,
          1343434.3434343436,
          1383838.383838384,
          1424242.4242424243,
          1464646.4646464647,
          1505050.505050505,
          1545454.5454545454,
          1585858.5858585858,
          1626262.6262626261,
          1666666.6666666665,
          1707070.7070707069,
          1747474.7474747472,
          1787878.7878787876,
          1828282.828282828,
          1868686.8686868688,
          1909090.9090909092,
          1949494.9494949495,
          1989898.98989899,
          2030303.0303030303,
          2070707.0707070706,
          2111111.111111111,
          2151515.1515151514,
          2191919.1919191917,
          2232323.232323232,
          2272727.2727272725,
          2313131.313131313,
          2353535.353535353,
          2393939.393939394,
          2434343.4343434344,
          2474747.474747475,
          2515151.515151515,
          2555555.5555555555,
          2595959.595959596,
          2636363.6363636362,
          2676767.6767676766,
          2717171.717171717,
          2757575.7575757573,
          2797979.7979797977,
          2838383.838383838,
          2878787.878787879,
          2919191.9191919193,
          2959595.9595959596,
          3000000
         ],
         "z": [
          [
           197080498221166.25,
           198611186352214.2,
           200194709581721.3,
           201831067909687.88,
           203520261336113.62,
           205262289860998.88,
           207057153484343.44,
           208904852206147.4,
           210805386026410.62,
           212758754945133.25,
           214764958962315.12,
           216823998077956.44,
           218935872292056.88,
           221100581604617.03,
           223318126015636.3,
           225588505525114.8,
           227911720133052.8,
           230287769839450.1,
           232716654644306.72,
           235198374547622.84,
           237732929549398.1,
           240320319649632.75,
           242960544848326.84,
           245653605145480.1,
           248399500541092.88,
           251198231035164.75,
           254049796627696.16,
           256954197318687,
           259911433108136.9,
           262921503996046.44,
           265984409982415.1,
           269100151067243.12,
           272268727250530.75,
           275490138532277.38,
           278764384912483.56,
           282091466391148.8,
           285471382968273.7,
           288904134643857.8,
           292389721417901.2,
           295928143290404,
           299519400261366.3,
           303163492330787.75,
           306860419498668.6,
           310610181765008.8,
           314412779129808.25,
           318268211593067.1,
           322176479154785.2,
           326137581814962.8,
           330151519573599.75,
           334218292430695.9,
           338337900386251.5,
           342510343440266.4,
           346735621592740.6,
           351013734843674.25,
           355344683193067.06,
           359728466640919.4,
           364165085187230.8,
           368654538832001.75,
           373196827575232.3,
           377791951416921.75,
           382439910357070.8,
           387140704395678.8,
           391894333532746.75,
           396700797768273.8,
           401560097102259.94,
           406472231534705.7,
           411437201065610.5,
           416455005694974.94,
           421525645422798.75,
           426649120249081.8,
           431825430173824.25,
           437054575197025.94,
           442336555318686.94,
           447671370538807.4,
           453059020857387.1,
           458499506274426.2,
           463992826789924.8,
           469538982403882.06,
           475137973116299.5,
           480789798927175.94,
           486494459836511.5,
           492251955844306.9,
           498062286950561.06,
           503925453155275.06,
           509841454458448.06,
           515810290860080.5,
           521831962360172.4,
           527906468958723.25,
           534033810655734.06,
           540213987451204,
           546446999345133.2,
           552732846337521.6,
           559071528428369.44,
           565463045617676.6,
           571907397905443.5,
           578404585291669.4,
           584954607776354.4,
           591557465359499.1,
           598213158041102.8,
           604921685821166.1
          ],
          [
           197172461447041.1,
           198715334457183.03,
           200311042565784.03,
           201959585772844.7,
           203660964078364.44,
           205415177482343.56,
           207222225984782.16,
           209082109585680,
           210994828285037.3,
           212960382082853.88,
           214978770979129.72,
           217049994973864.9,
           219174054067059.44,
           221350948258713.4,
           223580677548826.72,
           225863241937399.2,
           228198641424431.16,
           230586876009922.4,
           233027945693873,
           235521850476282.97,
           238068590357152.3,
           240668165336480.9,
           243320575414269.1,
           246025820590516.4,
           248783900865223,
           251594816238388.9,
           254458566710014.2,
           257375152280099.03,
           260344572948642.84,
           263366828715646.38,
           266441919581108.97,
           269569845545031.03,
           272750606607412.6,
           275984202768253.12,
           279270634027553.3,
           282609900385312.56,
           286002001841531.4,
           289446938396209.6,
           292944710049346.94,
           296495316800943.75,
           300098758650999.94,
           303755035599515.25,
           307464147646490.2,
           311226094791924.4,
           315040877035817.75,
           318908494378170.56,
           322828946818982.75,
           326802234358254.2,
           330828356995985.2,
           334907314732175.3,
           339039107566824.94,
           343223735499933.5,
           347461198531501.75,
           351751496661529.56,
           356094629890016.3,
           360490598216962.56,
           364939401642367.94,
           369441040166233.06,
           373995513788557.25,
           378602822509340.75,
           383262966328583.94,
           387975945246286,
           392741759262447.5,
           397560408377068.6,
           402431892590148.9,
           407356211901688.4,
           412333366311687.25,
           417363355820145.7,
           422446180427063.5,
           427581840132440.6,
           432770334936276.75,
           438011664838572.75,
           443305829839327.6,
           448652829938542,
           454052665136215.5,
           459505335432348.5,
           465010840826941.2,
           470569181319992.6,
           476180356911503.94,
           481844367601474.5,
           487561213389904.06,
           493330894276793.1,
           499153410262141.6,
           505028761345949.44,
           510956947528216.56,
           516937968808942.75,
           522971825188128.56,
           529058516665773.6,
           535198043241878.4,
           541390404916442.25,
           547635601689465.25,
           553933633560947.94,
           560284500530889.44,
           566688202599290.9,
           573144739766151.2,
           579654112031471.4,
           586216319395250.1,
           592831361857489,
           599499239418186.8,
           606219952077344.1
          ],
          [
           197267689645878.16,
           198822747535113.97,
           200430640522809,
           202091368608963.53,
           203804931793577.28,
           205571330076650.44,
           207390563458182.9,
           209262631938174.75,
           211187535516626,
           213165274193536.56,
           215195847968906.4,
           217279256842735.6,
           219415500815024.1,
           221604579885772,
           223846494054979.28,
           226141243322645.75,
           228488827688771.62,
           230889247153356.84,
           233342501716401.56,
           235848591377905.56,
           238407516137868.62,
           241019275996291.38,
           243683870953173.4,
           246401301008514.56,
           249171566162315.28,
           251994666414575.28,
           254870601765294.4,
           257799372214473.25,
           260780977762111.1,
           263815418408208.47,
           266902694152765.1,
           270042804995781.25,
           273235750937256.62,
           276481531977191.16,
           279780148115585.38,
           283131599352438.5,
           286535885687751.3,
           289993007121523.56,
           293502963653754.75,
           297065755284445.7,
           300681382013595.8,
           304349843841205.1,
           308071140767274.06,
           311845272791802.2,
           315672239914789.5,
           319552042136236.25,
           323484679456142.25,
           327470151874507.8,
           331508459391332.75,
           335599602006616.75,
           339743579720360.44,
           343940392532563.06,
           348190040443225.25,
           352492523452346.94,
           356847841559927.75,
           361255994765967.94,
           365716983070467.25,
           370230806473426.3,
           374797464974844.8,
           379416958574722.25,
           384089287273059.1,
           388814451069855.2,
           393592449965110.75,
           398423283958826,
           403306953051000,
           408243457241633.7,
           413232796530726.4,
           418274970918278.9,
           423369980404290.6,
           428517824988761.75,
           433718504671691.94,
           438972019453081.75,
           444278369332930.5,
           449637554311239.06,
           455049574388006.56,
           460514429563233.44,
           466032119836920,
           471602645209065.4,
           477226005679670.5,
           482902201248735.06,
           488631231916258.6,
           494413097682241.8,
           500247798546684.06,
           506135334509586.06,
           512075705570947.1,
           518068911730767.44,
           524114952989047.25,
           530213829345786.25,
           536365540800984.9,
           542570087354642.56,
           548827469006759.6,
           555137685757336.06,
           561500737606371.7,
           567916624553867.2,
           574385346599821.6,
           580906903744235.6,
           587481295987108.5,
           594108523328441.6,
           600788585768232.8,
           607521483306484.1
          ],
          [
           197366182817676.8,
           198933425586006.72,
           200553503452795.72,
           202226416418044.16,
           203952164481751.9,
           205730747643919.03,
           207562165904545.44,
           209446419263631.25,
           211383507721176.47,
           213373431277181.03,
           215416189931644.84,
           217511783684568,
           219660212535950.4,
           221861476485792.4,
           224115575534093.56,
           226422509680854,
           228782278926073.97,
           231194883269753.03,
           233660322711891.72,
           236178597252489.62,
           238749706891546.88,
           241373651629063.53,
           244050431465039.53,
           246780046399474.6,
           249562496432369.28,
           252397781563723.1,
           255285901793536.44,
           258226857121809.16,
           261220647548541,
           264267273073732.4,
           267366733697382.97,
           270519029419493.1,
           273724160240062.4,
           276982126159090.9,
           280292927176579.12,
           283656563292526.25,
           287073034506933,
           290542340819799.2,
           294064482231124.4,
           297639458740909.2,
           301267270349153.4,
           304947917055856.6,
           308681398861019.44,
           312467715764641.7,
           316306867766722.94,
           320198854867263.75,
           324143677066263.6,
           328141334363723.3,
           332191826759642.1,
           336295154254020.1,
           340451316846857.6,
           344660314538154.25,
           348922147327910.6,
           353236815216126.2,
           357604318202800.75,
           362024656287934.94,
           366497829471528.25,
           371023837753581.4,
           375602681134093.6,
           380234359613065.06,
           384918873190496,
           389656221866386.2,
           394446405640735.75,
           399289424513544.8,
           404185278484812.8,
           409133967554540.25,
           414135491722727.2,
           419189850989373.6,
           424297045354479.25,
           429457074818044.3,
           434669939380068.5,
           439935639040552.2,
           445254173799494.94,
           450625543656897.4,
           456049748612759.06,
           461526788667079.94,
           467056663819860.56,
           472639374071099.8,
           478274919420798.94,
           483963299868957.6,
           489704515415575.06,
           495498566060652.25,
           501345451804188.25,
           507245172646184,
           513197728586639.44,
           519203119625553.5,
           525261345762927.44,
           531372406998760.2,
           537536303333052.9,
           543753034765804.6,
           550022601297015.6,
           556345002926686.25,
           562720239654815.75,
           569148311481405.2,
           575629218406453.8,
           582162960429961.6,
           588749537551928.4,
           595388949772354.9,
           602081197091240.8,
           608826279508585.9
          ],
          [
           197467940962437.56,
           199047368609861.3,
           200679631355744.4,
           202364729200086.88,
           204102662142888.44,
           205893430184149.62,
           207737033323870.1,
           209633471562049.75,
           211582744898689,
           213584853333787.44,
           215639796867345.28,
           217747575499362.38,
           219908189229838.84,
           222121638058774.75,
           224387921986169.88,
           226707041012024.25,
           229078995136338.2,
           231503784359111.28,
           233981408680343.88,
           236511868100035.84,
           239095162618186.97,
           241731292234797.56,
           244420256949867.6,
           247162056763396.62,
           249956691675385.28,
           252804161685833.16,
           255704466794740.38,
           258657607002107.03,
           261663582307932.84,
           264722392712218.2,
           267834038214962.8,
           270998518816166.75,
           274215834515830.1,
           277485985313952.6,
           280808971210534.7,
           284184792205575.94,
           287613448299076.6,
           291094939491036.75,
           294629265781455.94,
           298216427170334.75,
           301856423657672.8,
           305549255243470,
           309294921927726.9,
           313093423710442.94,
           316944760591618.3,
           320848932571253.1,
           324805939649346.94,
           328815781825900.5,
           332878459100913.25,
           336993971474385.3,
           341162318946316.75,
           345383501516707.4,
           349657519185557.6,
           353984371952867.2,
           358364059818635.9,
           362796582782864.06,
           367281940845551.25,
           371820134006698.25,
           376411162266304.56,
           381055025624370,
           385751724080894.9,
           390501257635878.94,
           395303626289322.5,
           400158830041225.5,
           405066868891587.5,
           410027742840409.1,
           415041451887689.8,
           420107996033430.06,
           425227375277629.94,
           430399589620288.9,
           435624639061407.1,
           440902523600984.8,
           446233243239021.5,
           451616797975518,
           457053187810473.6,
           462542412743888.3,
           468084472775762.9,
           473679367906096.2,
           479327098134889.25,
           485027663462141.8,
           490781063887853.25,
           496587299412024.4,
           502446370034654.5,
           508358275755744.3,
           514323016575293.6,
           520340592493301.5,
           526411003509769.4,
           532534249624696.3,
           538710330838082.75,
           544939247149928.6,
           551220998560233.5,
           557555585068998.06,
           563943006676221.6,
           570383263381905,
           576876355186047.4,
           583422282088649.4,
           590021044089710.2,
           596672641189230.8,
           603377073387210.2,
           610134340683649.4
          ],
          [
           197572964080160.2,
           199164576606677.97,
           200809024231654.97,
           202506306955091.4,
           204256424776987,
           206059377697342.1,
           207915165716156.44,
           209823788833430.25,
           211785247049163.3,
           213799540363355.84,
           215866668776007.53,
           217986632287118.62,
           220159430896689.12,
           222385064604718.97,
           224663533411208.1,
           226994837316156.47,
           229378976319564.28,
           231815950421431.4,
           234305759621758.03,
           236848403920543.8,
           239443883317788.9,
           242092197813493.53,
           244793347407657.47,
           247547332100280.53,
           250354151891363.25,
           253213806780904.97,
           256126296768906.12,
           259091621855366.84,
           262109782040286.6,
           265180777323665.9,
           268304607705504.47,
           271481273185802.53,
           274710773764559.8,
           277993109441776.25,
           281328280217452.28,
           284716286091587.5,
           288157127064182.2,
           291650803135236.2,
           295197314304749.44,
           298796660572722.2,
           302448841939154.2,
           306153858404045.4,
           309911709967396.25,
           313722396629206.3,
           317585918389475.6,
           321502275248204.4,
           325471467205392.25,
           329493494261039.7,
           333568356415146.44,
           337696053667712.56,
           341876586018737.9,
           346109953468222.5,
           350396156016166.56,
           354735193662570.25,
           359127066407432.8,
           363571774250754.9,
           368069317192536.5,
           372619695232777.25,
           377222908371477.44,
           381878956608636.9,
           386587839944255.7,
           391349558378333.75,
           396164111910871.2,
           401031500541868.2,
           405951724271324.25,
           410924783099239.75,
           415950677025614.5,
           421029406050448.75,
           426160970173742.5,
           431345369395495.44,
           436582603715707.6,
           441872673134379.1,
           447215577651509.94,
           452611317267100.25,
           458059891981149.75,
           463561301793658.56,
           469115546704626.8,
           474722626714054.4,
           480382541821941.44,
           486095292028288.2,
           491860877333093.44,
           497679297736358.6,
           503550553238082.6,
           509474643838266.5,
           515451569536909.5,
           521481330334011.6,
           527563926229573.4,
           533699357223594.2,
           539887623316074.8,
           546128724507014.6,
           552422660796413.4,
           558769432184271.94,
           565169038670589.4,
           571621480255366.6,
           578126756938603.1,
           584684868720298.9,
           591295815600453.8,
           597959597579068.4,
           604676214656141.8,
           611445666831675.2
          ],
          [
           197681252170844.9,
           199285049576456.72,
           200941682080527.62,
           202651149683058.1,
           204413452384047.62,
           206228590183496.7,
           208096563081405.1,
           210017371077772.72,
           211991014172599.88,
           214017492365886.3,
           216096805657632,
           218228954047837.12,
           220413937536501.4,
           222651756123625.3,
           224942409809208.44,
           227285898593250.8,
           229682222475752.62,
           232131381456713.7,
           234633375536134.2,
           237188204714014.03,
           239795868990353.16,
           242456368365151.72,
           245169702838409.62,
           247935872410126.72,
           250754877080303.25,
           253626716848939,
           256551391716034.16,
           259528901681588.84,
           262559246745602.6,
           265642426908075.97,
           268778442169008.38,
           271967292528400.3,
           275208977986251.72,
           278503498542562.12,
           281850854197332.2,
           285251044950561.25,
           288704070802249.9,
           292209931752397.9,
           295768627801005.06,
           299380158948071.8,
           303044525193597.8,
           306761726537583.1,
           310531762980027.8,
           314354634520931.8,
           318230341160295.06,
           322158882898117.75,
           326140259734399.7,
           330174471669141.06,
           334261518702342.06,
           338401400834001.75,
           342594118064121.25,
           346839670392699.75,
           351138057819738.06,
           355489280345235.44,
           359893337969192.1,
           364350230691608.2,
           368859958512483.5,
           373422521431818.3,
           378037919449612.56,
           382706152565866,
           387427220780578.75,
           392201124093750.75,
           397027862505382.25,
           401907436015473.25,
           406839844624023.2,
           411825088331032.6,
           416863167136501.25,
           421954081040429.7,
           427097830042817.25,
           432294414143664.25,
           437543833342970.25,
           442846087640735.94,
           448201177036960.6,
           453609101531645.06,
           459069861124788.56,
           464583455816391.25,
           470149885606453.6,
           475769150494975.06,
           481441250481956,
           487166185567396.6,
           492943955751295.94,
           498774561033655.06,
           504658001414472.9,
           510594276893750.9,
           516583387471488.06,
           522625333147684,
           528720113922339.8,
           534867729795454.5,
           541068180767028.9,
           547321466837062.8,
           553627588005555.6,
           559986544272508.2,
           566398335637919.6,
           572862962101790.9,
           579380423664121.2,
           585950720324911.2,
           592573852084160,
           599249818941868.6,
           605978620898036,
           612760257952663.2
          ],
          [
           197792805234491.47,
           199408787519197.12,
           201077604902362.03,
           202799257383986.44,
           204573744964070.1,
           206401067642613.03,
           208281225419615.44,
           210214218295077.03,
           212200046268998.12,
           214238709341378.53,
           216330207512218.2,
           218474540781517.3,
           220671709149275.62,
           222921712615493.44,
           225224551180170.56,
           227580224843306.84,
           229988733604902.62,
           232450077464957.6,
           234964256423472.12,
           237531270480446,
           240151119635879.03,
           242823803889771.56,
           245549323242123.44,
           248327677692934.38,
           251158867242205,
           254042891889934.72,
           256979751636123.97,
           259969446480772.6,
           263011976423880.25,
           266107341465447.6,
           269255541605473.97,
           272456576843959.88,
           275710447180905.25,
           279017152616309.56,
           282376693150173.6,
           285789068782496.75,
           289254279513279.25,
           292772325342521.25,
           296343206270222.4,
           299966922296383.1,
           303643473421003.06,
           307372859644082.25,
           311155080965621.06,
           314990137385619.06,
           318878028904076.2,
           322818755520992.94,
           326812317236368.75,
           330858714050204.25,
           334957945962498.94,
           339110012973252.8,
           343314915082466.2,
           347572652290138.8,
           351883224596270.75,
           356246632000862.4,
           360662874503912.9,
           365131952105423.1,
           369653864805392.3,
           374228612603821.06,
           378856195500709.25,
           383536613496056.6,
           388269866589863.5,
           393055954782129.4,
           397894878072854.9,
           402786636462039.75,
           407731229949683.75,
           412728658535787.1,
           417778922220349.94,
           422882021003372.25,
           428037954884853.8,
           433246723864794.5,
           438508327943194.75,
           443822767120054.25,
           449190041395372.9,
           454610150769151.4,
           460083095241388.9,
           465608874812085.7,
           471187489481241.8,
           476818939248857.2,
           482503224114932.25,
           488240344079466.6,
           494030299142460.06,
           499873089303913.1,
           505768714563825.2,
           511717174922196.9,
           517718470379027.94,
           523772600934318,
           529879566588067.6,
           536039367340276.25,
           542252003190945.06,
           548517474140072.6,
           554835780187659.25,
           561206921333705.8,
           567630897578211.4,
           574107708921176.5,
           580637355362601.1,
           587219836902484.9,
           593855153540827.5,
           600543305277630.1,
           607284292112891.5,
           614078114046612.8
          ],
          [
           197907623271099.97,
           199535790434899.6,
           201216792697158.44,
           202950630057876.88,
           204737302517054.3,
           206576810074691.4,
           208469152730787.62,
           210414330485343.28,
           212412343338358.44,
           214463191289832.75,
           216566874339766.38,
           218723392488159.4,
           220932745735011.8,
           223194934080323.56,
           225509957524094.62,
           227877816066324.75,
           230298509707014.7,
           232772038446163.6,
           235298402283772.03,
           237877601219839.88,
           240509635254366.97,
           243194504387353.4,
           245932208618799.2,
           248722747948704.2,
           251566122377068.84,
           254462331903892.47,
           257411376529175.62,
           260413256252918.2,
           263467971075119.84,
           266575520995781.12,
           269735906014901.56,
           272949126132481.44,
           276215181348520.72,
           279534071663019.12,
           282905797075977.06,
           286330357587394.2,
           289807753197270.6,
           293337983905606.75,
           296921049712401.6,
           300556950617656.4,
           304245686621370.4,
           307987257723543.6,
           311781663924176.4,
           315628905223268.2,
           319528981620819.4,
           323481893116830.06,
           327487639711299.75,
           331546221404229.3,
           335657638195618,
           339821890085465.8,
           344038977073773.2,
           348308899160539.75,
           352631656345765.8,
           357007248629451.2,
           361435676011595.75,
           365916938492199.75,
           370451036071262.8,
           375037968748785.75,
           379677736524767.94,
           384370339399209.25,
           389115777372110.06,
           393914050443469.94,
           398765158613289.5,
           403669101881568.5,
           408625880248306.25,
           413635493713503.5,
           418697942277160.3,
           423813225939276.56,
           428981344699852.2,
           434202298558886.9,
           439476087516380.9,
           444802711572334.56,
           450182170726747.2,
           455614464979619.44,
           461099594330950.94,
           466637558780741.7,
           472228358328992,
           477871992975701.25,
           483568462720870.25,
           489317767564498.6,
           495119907506586.06,
           500974882547133.2,
           506882692686138.94,
           512843337923604.6,
           518856818259529.75,
           524923133693913.8,
           531042284226757.7,
           537214269858060.25,
           543439090587822.75,
           549716746416044.4,
           556047237342725.1,
           562430563367865.5,
           568866724491465,
           575355720713524.1,
           581897552034042.5,
           588492218453020.4,
           595139719970456.8,
           601840056586353.5,
           608593228300709,
           615399235113524.4
          ],
          [
           198025706280670.3,
           199666058323563.97,
           201359245464916.75,
           203105267704729.16,
           204904125043000.62,
           206755817479731.62,
           208660345014921.88,
           210617707648571.56,
           212627905380680.6,
           214690938211248.88,
           216806806140276.44,
           218975509167763.47,
           221197047293709.8,
           223471420518115.53,
           225798628840980.6,
           228178672262304.75,
           230611550782088.56,
           233097264400331.53,
           235635813117034,
           238227196932195.7,
           240871415845816.62,
           243568469857897.2,
           246318358968437.1,
           249121083177435.97,
           251976642484894.53,
           254885036890812.12,
           257846266395189.16,
           260860330998025.72,
           263927230699321.4,
           267046965499076.62,
           270219535397291,
           273444940393964.9,
           276723180489098.16,
           280054255682690.44,
           283438165974742.5,
           286874911365253.4,
           290364491854223.94,
           293906907441654,
           297502158127542.94,
           301150243911891.56,
           304851164794699.6,
           308604920775966.6,
           312411511855693.3,
           316270938033879.25,
           320183199310524.5,
           324148295685628.94,
           328166227159192.8,
           332236993731216.1,
           336360595401698.94,
           340537032170640.7,
           344766304038041.94,
           349048411003902.5,
           353383353068222.56,
           357771130231002.06,
           362211742492240.56,
           366705189851938.6,
           371251472310095.75,
           375850589866712.5,
           380502542521788.56,
           385207330275323.8,
           389964953127318.6,
           394775411077772.6,
           399638704126685.8,
           404554832274058.9,
           409523795519890.75,
           414545593864182.2,
           419620227306932.75,
           424747695848142.8,
           429927999487812.4,
           435161138225941.2,
           440447112062529.25,
           445785920997576.94,
           451177565031083.44,
           456622044163049.7,
           462119358393475.06,
           467669507722359.8,
           473272492149704.06,
           478928311675507.25,
           484636966299770.3,
           490398456022492.6,
           496212780843674,
           502079940763314.9,
           507999935781415.06,
           513972765897974.56,
           519998431112993.7,
           526076931426471.6,
           532208266838409.1,
           538392437348805.94,
           544629442957662.4,
           550919283664977.94,
           557261959470752.8,
           563657470374987.4,
           570105816377680.6,
           576606997478833.6,
           583161013678446,
           589767864976517.8,
           596427551373048.5,
           603140072868039.1,
           609905429461488.2,
           616723621153397.6
          ],
          [
           198147054263202.88,
           199799591185190.53,
           201504963205637.3,
           203263170324543.6,
           205074212541909.12,
           206938089857734.03,
           208854802272018.25,
           210824349784761.84,
           212846732395964.8,
           214921950105627.12,
           217050002913748.75,
           219230890820329.7,
           221464613825369.97,
           223751171928869.62,
           226090565130828.72,
           228482793431246.9,
           230927856830124.6,
           233425755327461.53,
           235976488923257.88,
           238580057617513.7,
           241236461410228.7,
           243945700301403.12,
           246707774291036.88,
           249522683379129.8,
           252390427565682.25,
           255311006850693.9,
           258284421234165,
           261310670716095.6,
           264389755296485.12,
           267521674975334.3,
           270706429752642.62,
           273944019628410.53,
           277234444602637.72,
           280577704675324,
           283973799846469.94,
           287422730116074.94,
           290924495484139.5,
           294479095950663.4,
           298086531515646.5,
           301746802179089,
           305459907940990.94,
           309225848801352.06,
           313044624760172.7,
           316916235817452.6,
           320840681973191.7,
           324817963227390.25,
           328848079580048.2,
           332931031031165.25,
           337066817580742.06,
           341255439228777.75,
           345496895975273.2,
           349791187820227.75,
           354138314763641.7,
           358538276805515,
           362991073945847.5,
           367496706184639.5,
           372055173521890.56,
           376666475957601.25,
           381330613491771.44,
           386047586124400.6,
           390817393855489.5,
           395640036685037.44,
           400515514613044.75,
           405443827639511.6,
           410424975764437.4,
           415458958987822.8,
           420545777309667.25,
           425685430729971.5,
           430877919248735.1,
           436123242865957.75,
           441421401581639.8,
           446772395395781.4,
           452176224308381.8,
           457632888319442.2,
           463142387428961.7,
           468704721636940.25,
           474319890943378.56,
           479987895348275.75,
           485708734851632.6,
           491482409453449.06,
           497308919153724.5,
           503188263952459.1,
           509120443849653.2,
           515105458845306.8,
           521143308939419.75,
           527233994131991.7,
           533377514423023.25,
           539573869812513.94,
           545823060300464.4,
           552125085886874.2,
           558479946571742.6,
           564887642355071.2,
           571348173236858.8,
           577861539217105.9,
           584427740295811.9,
           591046776472977.6,
           597718647748602.1,
           604443354122686.8,
           611220895595230.1,
           618051272166233.2
          ],
          [
           198271667218697.16,
           199936389019778.72,
           201653945919319.53,
           203424337917319.8,
           205247565013779.16,
           207123627208698.16,
           209052524502076.4,
           211034256893913.88,
           213068824384210.88,
           215156226972967.16,
           217296464660182.72,
           219489537445857.6,
           221735445329991.84,
           224034188312585.6,
           226385766393638.56,
           228790179573150.75,
           231247427851122.4,
           233757511227553.3,
           236320429702443.62,
           238936183275793.47,
           241604771947602.2,
           244326195717870.72,
           247100454586598.47,
           249927548553785.4,
           252807477619431.9,
           255740241783537.44,
           258725841046102.47,
           261764275407127.03,
           264855544866610.56,
           267999649424553.75,
           271196589080956.12,
           274446363835817.88,
           277748973689139.1,
           281104418640919.3,
           284512698691159.25,
           287973813839858.2,
           291487764087016.7,
           295054549432634.6,
           298674169876711.5,
           302346625419248.2,
           306071916060244,
           309850041799699.06,
           313681002637613.75,
           317564798573987.6,
           321501429608820.7,
           325490895742113.2,
           329533196973864.94,
           333628333304076.2,
           337776304732746.8,
           341977111259876.6,
           346230752885465.94,
           350537229609514.3,
           354896541432022.4,
           359308688352989.6,
           363773670372416.06,
           368291487490302,
           372862139706647.44,
           377485627021452,
           382161949434715.94,
           386891106946439.1,
           391673099556621.75,
           396507927265263.75,
           401395590072365.25,
           406336087977925.94,
           411329420981945.8,
           416375589084425.06,
           421474592285363.7,
           426626430584761.75,
           431831103982619.4,
           437088612478936.2,
           442398956073712,
           447762134766947.4,
           453178148558642.06,
           458646997448796.25,
           464168681437409.7,
           469743200524482.2,
           475370554710014.5,
           481050743994005.7,
           486783768376456.56,
           492569627857366.75,
           498408322436736.2,
           504299852114564.94,
           510244216890853.1,
           516241416765600.75,
           522291451738807.6,
           528394321810473.25,
           534550026980598.8,
           540758567249183.7,
           547019942616228,
           553334153081731.7,
           559701198645694.4,
           566121079308116.5,
           572593795068998,
           579119345928339,
           585697731886139.2,
           592328952942399.1,
           599013009097117.6,
           605749900350296.4,
           612539626701933.5,
           619382188152030.8
          ],
          [
           198399545147153.4,
           200076451827328.97,
           201806193605963.75,
           203588770483057.97,
           205424182458611.4,
           207312429532624.25,
           209253511705096.53,
           211247428976027.97,
           213294181345418.9,
           215393768813269.16,
           217546191379578.6,
           219751449044347.6,
           222009541807575.72,
           224320469669263.47,
           226684232629410.44,
           229100830688016.47,
           231570263845082.2,
           234092532100607,
           236667635454591.44,
           239295573907035.03,
           241976347457937.97,
           244709956107300.3,
           247496399855122.16,
           250335678701402.97,
           253227792646143.44,
           256172741689343,
           259170525831001.97,
           262221145071120.38,
           265324599409697.9,
           268480888846735.12,
           271690013382231.38,
           274951973016187.16,
           278266767748602.28,
           281634397579476.56,
           285054862508810.5,
           288528162536603.4,
           292054297662855.75,
           295633267887567.75,
           299265073210738.56,
           302949713632369.2,
           306687189152459,
           310477499771008,
           314320645488016.6,
           318216626303484.5,
           322165442217411.7,
           326167093229798,
           330221579340643.94,
           334328900549949.1,
           338489056857713.56,
           342702048263937.4,
           346967874768620.75,
           351286536371763,
           355658033073365.06,
           360082364873426.44,
           364559531771946.75,
           369089533768926.75,
           373672370864365.75,
           378308043058264.5,
           382996550350622.4,
           387737892741439.6,
           392532070230716.25,
           397379082818452.3,
           402278930504647.44,
           407231613289302.25,
           412237131172416,
           417295484153989.5,
           422406672234021.94,
           427570695412513.94,
           432787553689465.4,
           438057247064876.06,
           443379775538746.06,
           448755139111075.5,
           454183337781864,
           459664371551112.4,
           465198240418819.5,
           470784944384986.2,
           476424483449612.4,
           482116857612697.5,
           487862066874242.5,
           493660111234246.8,
           499510990692709.8,
           505414705249632.9,
           511371254905014.6,
           517380639658856.25,
           523442859511157.1,
           529557914461917.1,
           535725804511136.6,
           541946529658815.2,
           548220089904953.6,
           554546485249551.2,
           560925715692607.7,
           567357781234124.1,
           573842681874099.4,
           580380417612534.4,
           586970988449428.8,
           593614394384782.5,
           600310635418594.6,
           607059711550867.5,
           613861622781598.5,
           620716369110789.6
          ],
          [
           198530688048571.47,
           200219779607841.12,
           201961706265569.84,
           203756468021758,
           205604064876405.4,
           207504496829512.28,
           209457763881078.47,
           211463866031103.9,
           213522803279588.88,
           215634575626533.03,
           217799183071936.47,
           220016625615799.4,
           222286903258121.56,
           224610015998903.2,
           226985963838144.16,
           229414746775844.2,
           231896364812003.84,
           234430817946622.62,
           237018106179701.03,
           239658229511238.62,
           242351187941235.47,
           245096981469691.84,
           247895610096607.56,
           250747073821982.38,
           253651372645816.84,
           256608506568110.3,
           259618475588863.28,
           262681279708075.8,
           265796918925747.28,
           268965393241878.38,
           272186702656468.6,
           275460847169518.38,
           278787826781027.53,
           282167641490995.75,
           285600291299423.56,
           289085776206310.44,
           292624096211656.8,
           296215251315462.7,
           299859241517727.6,
           303556066818452.2,
           307305727217636,
           311108222715279.1,
           314963553311381.5,
           318871719005943.4,
           322832719798964.5,
           326846555690444.9,
           330913226680384.5,
           335032732768783.75,
           339205073955642.4,
           343430250240960.06,
           347708261624737.25,
           352039108106973.5,
           356422789687669.6,
           360859306366824.94,
           365348658144439.1,
           369890845020513.2,
           374485866995046.25,
           379133724068038.8,
           383834416239490.9,
           388587943509402.06,
           393394305877772.56,
           398253503344602.3,
           403165535909891.75,
           408130403573640.6,
           413148106335848.25,
           418218644196515.5,
           423342017155642,
           428518225213228.06,
           433747268369273.5,
           439029146623778.3,
           444363859976741.94,
           449751408428165.6,
           455191791978048.2,
           460685010626390,
           466231064373191.4,
           471829953218452,
           477481677162172.25,
           483186236204351.1,
           488943630344990,
           494753859584088.5,
           500616923921645.6,
           506532823357662.5,
           512501557892138.4,
           518523127525073.75,
           524597532256468.9,
           530724772086322.75,
           536904847014636.25,
           543137757041408.75,
           549423502166641.06,
           555762082390332.5,
           562153497712483.2,
           568597748133093.5,
           575094833652162.6,
           581644754269691.5,
           588247509985679.9,
           594903100800127.6,
           601611526713034.1,
           608372787724400.6,
           615186883834225.6,
           622053815042510.8
          ],
          [
           198665095922951.8,
           200366372361315.38,
           202120483898138.03,
           203927430533420.25,
           205787212267161.53,
           207699829099362.53,
           209665281030022.62,
           211683568059141.9,
           213754690186720.88,
           215878647412759.12,
           218055439737256.53,
           220285067160213.44,
           222567529681629.53,
           224902827301505.1,
           227290960019840.03,
           229731927836634.1,
           232225730751887.7,
           234772368765600.53,
           237371841877772.84,
           240024150088404.47,
           242729293397495.3,
           245487271805045.62,
           248298085311055.28,
           251161733915524.03,
           254078217618452.44,
           257047536419839.97,
           260069690319686.88,
           263144679317993.28,
           266272503414758.84,
           269453162609983.8,
           272686656903668.03,
           275972986295811.88,
           279312150786414.84,
           282704150375477.1,
           286148985062998.9,
           289646654848979.75,
           293197159733420.06,
           296800499716319.9,
           300456674797678.8,
           304165684977497.4,
           307927530255775.06,
           311742210632512.1,
           315609726107708.7,
           319530076681364.44,
           323503262353479.44,
           327529283124053.8,
           331608138993087.6,
           335739829960580.8,
           339924356026533.4,
           344161717190945,
           348451913453816.1,
           352794944815146.44,
           357190811274936.3,
           361639512833185.75,
           366141049489894,
           370695421245061.94,
           375302628098688.9,
           379962670050775.6,
           384675547101321.6,
           389441259250326.56,
           394259806497791.1,
           399131188843714.9,
           404055406288098.25,
           409032458830941.06,
           414062346472242.75,
           419145069212004.06,
           424280627050224.56,
           429469019986904.5,
           434710248022043.94,
           440004311155642.56,
           445351209387700.4,
           450750942718217.8,
           456203511147194.4,
           461708914674630.5,
           467267153300525.7,
           472878227024880.25,
           478542135847694.4,
           484258879768967.6,
           490028458788700.4,
           495850872906892.56,
           501726122123543.7,
           507654206438654.5,
           513635125852224.3,
           519668880364253.94,
           525755469974742.6,
           531894894683690.5,
           538087154491098,
           544332249396964.56,
           550630179401290.9,
           556980944504076.4,
           563384544705321.1,
           569840980005025.2,
           576350250403188.4,
           582912355899811.5,
           589527296494893.6,
           596195072188435.4,
           602915682980435.8,
           609689128870896.1,
           616515409859815.6,
           623394525947194.4
          ],
          [
           198802768770293.9,
           200516230087751.38,
           202282526503668.03,
           204101658018044.25,
           205973624630879.56,
           207898426342174.38,
           209876063151928.4,
           211906535060141.9,
           213989842066814.7,
           216125984171946.88,
           218314961375538.25,
           220556773677589.12,
           222851421078099.28,
           225198903577068.8,
           227599221174497.7,
           230052373870385.7,
           232558361664733.3,
           235117184557540.1,
           237728842548806.3,
           240393335638531.9,
           243110663826716.7,
           245880827113361.03,
           248703825498464.6,
           251579658982027.38,
           254508327564049.75,
           257489831244531.25,
           260524170023472.12,
           263611343900872.47,
           266751352876731.88,
           269944196951051.12,
           273189876123829.28,
           276488390395066.88,
           279839739764764.03,
           283243924232920.06,
           286700943799535.94,
           290210798464610.75,
           293773488228145.1,
           297389013090138.94,
           301057373050591.75,
           304778568109504.25,
           308552598266876.06,
           312379463522706.9,
           316259163876997.44,
           320191699329747.2,
           324177069880956.06,
           328215275530624.6,
           332306316278752.2,
           336450192125339.3,
           340646903070385.9,
           344896449113891.5,
           349198830255856.6,
           353554046496280.94,
           357962097835164.8,
           362422984272508.2,
           366936705808310.5,
           371503262442572.3,
           376122654175293.2,
           380794881006473.94,
           385519942936113.8,
           390297839964212.94,
           395128572090771.4,
           400012139315789.25,
           404948541639266.5,
           409937779061203.25,
           414979851581598.9,
           420074759200453.94,
           425222501917768.56,
           430423079733542.56,
           435676492647775.94,
           440982740660468.5,
           446341823771620.4,
           451753741981231.75,
           457218495289302.2,
           462736083695832.2,
           468306507200821.44,
           473929765804269.94,
           479605859506178.2,
           485334788306545.2,
           491116552205371.94,
           496951151202658.2,
           502838585298403.25,
           508778854492608.06,
           514771958785271.8,
           520817898176395.4,
           526916672665978,
           533068282254019.94,
           539272726940521.44,
           545530006725482,
           551840121608902.2,
           558203071590781.75,
           564618856671120.1,
           571087476849918.5,
           577608932127175.8,
           584183222502892.8,
           590810347977068.9,
           597490308549704.4,
           604223104220798.8,
           611008734990353.4,
           617847200858366.4,
           624738501824839.6
          ],
          [
           198943706590597.9,
           200669352787149.38,
           202447834082160.03,
           204279150475630.16,
           206163301967559.4,
           208100288557948.25,
           210090110246796.25,
           212132767034103.62,
           214228258919870.47,
           216376585904096.62,
           218577747986781.97,
           220831745167926.84,
           223138577447530.97,
           225498244825594.4,
           227910747302117.28,
           230376084877099.25,
           232894257550540.84,
           235465265322441.47,
           238089108192801.75,
           240765786161621.44,
           243495299228900,
           246277647394638.38,
           249112830658835.97,
           252000849021492.72,
           254941702482609,
           257935391042184.56,
           260981914700219.3,
           264081273456713.62,
           267233467311667.16,
           270438496265080.12,
           273696360316952.38,
           277007059467284,
           280370593716075.03,
           283786963063325.2,
           287256167509034.8,
           290778207053203.7,
           294353081695832,
           297980791436919.75,
           301661336276466.6,
           305394716214473,
           309180931250938.7,
           313019981385863.75,
           316911866619248.1,
           320856586951091.9,
           324854142381394.8,
           328904532910157.3,
           333007758537378.8,
           337163819263059.9,
           341372715087200.4,
           345634446009800.06,
           349949012030859.1,
           354316413150377.5,
           358736649368355.25,
           363209720684792.5,
           367735627099688.75,
           372314368613044.75,
           376945945224859.6,
           381630356935134.2,
           386367603743868,
           391157685651061.1,
           396000602656713.7,
           400896354760825.25,
           405844941963396.5,
           410846364264427.25,
           415900621663916.94,
           421007714161866.06,
           426167641758274.56,
           431380404453142.4,
           436646002246469.8,
           441964435138256.5,
           447335703128502.06,
           452759806217207.5,
           458236744404371.94,
           463766517689996.06,
           469349126074079.2,
           474984569556621.6,
           480672848137623.75,
           486413961817084.75,
           492207910595005.5,
           498054694471385.75,
           503954313446224.9,
           509906767519523.5,
           515912056691281.25,
           521970180961498.9,
           528081140330175.7,
           534244934797311.25,
           540461564362906.9,
           546731029026961.44,
           553053328789475.44,
           559428463650449.06,
           565856433609881.5,
           572337238667773.9,
           578870878824124.8,
           585457354078935.9,
           592096664432205.9,
           598788809883935.4,
           605533790434123.9,
           612331606082772.4,
           619182256829879.5,
           626085742675446.4
          ],
          [
           199087909383863.88,
           200825740459509.25,
           202616406633613.84,
           204459907906178,
           206356244277201.25,
           208305415746684.03,
           210307422314626,
           212362263981027.4,
           214469940745888.2,
           216630452609208.3,
           218843799570987.6,
           221109981631226.44,
           223428998789924.44,
           225800851047082,
           228225538402698.8,
           230703060856774.8,
           233233418409310.3,
           235816611060304.9,
           238452638809759.12,
           241141501657672.62,
           243883199604045.44,
           246677732648877.6,
           249525100792169.3,
           252425304033919.9,
           255378342374130.25,
           258384215812799.62,
           261442924349928.53,
           264554467985516.84,
           267718846719564.2,
           270936060552071.25,
           274206109483037.3,
           277528993512463.03,
           280904712640347.97,
           284333266866692.1,
           287814656191495.75,
           291348880614758.5,
           294935940136480.94,
           298575834756662.56,
           302268564475303.4,
           306014129292403.75,
           309812529207963.6,
           313663764221982.3,
           317567834334460.75,
           321524739545398.5,
           325534479854795.4,
           329597055262651.8,
           333712465768967.3,
           337880711373742.5,
           342101792076976.9,
           346375707878670.5,
           350702458778823.7,
           355082044777435.8,
           359514465874507.75,
           363999722070038.9,
           368537813364029.2,
           373128739756478.9,
           377772501247387.75,
           382469097836756.4,
           387218529524584.4,
           392020796310871.2,
           396875898195617.7,
           401783835178823.44,
           406744607260488.75,
           411758214440613.2,
           416824656719196.9,
           421943934096240.2,
           427116046571742.56,
           432340994145704.3,
           437618776818125.7,
           442949394589006.3,
           448332847458346.06,
           453769135426145.2,
           459258258492403.7,
           464800216657121.75,
           470395009920298.94,
           476042638281935.4,
           481743101742031.5,
           487496400300586.4,
           493302533957601.1,
           499161502713075.44,
           505073306567008.4,
           511037945519401.1,
           517055419570252.8,
           523125728719564.2,
           529248872967335.1,
           535424852313564.75,
           541653666758254.2,
           547935316301402.56,
           554269800943011.06,
           560657120683078.3,
           567097275521604.6,
           573590265458590.9,
           580136090494036.2,
           586734750627941,
           593386245860305.1,
           600090576191128.6,
           606847741620411,
           613657742148153.4,
           620520577774354.1,
           627436248499015.4
          ],
          [
           199235377150091.97,
           200985393104831.38,
           202788244158029.88,
           204643930309688,
           206552451559805.2,
           208513807908382,
           210527999355417.9,
           212595025900913.28,
           214714887544867.97,
           216887584287282.1,
           219113116128155.38,
           221391483067488.1,
           223722685105280.12,
           226106722241531.75,
           228543594476242.53,
           231033301809412.4,
           233575844241041.88,
           236171221771130.53,
           238819434399678.75,
           241520482126686.25,
           244274364952152.9,
           247081082876079.25,
           249940635898464.7,
           252853024019309.38,
           255818247238613.62,
           258836305556376.9,
           261907198972599.88,
           265030927487282.2,
           268207491100423.53,
           271436889812024.53,
           274719123622084.56,
           278054192530604.28,
           281442096537583.16,
           284882835643021.2,
           288376409846918.9,
           291922819149275.6,
           295522063550091.94,
           299174143049367.6,
           302879057647102.3,
           306636807343296.8,
           310447392137950.56,
           314310812031063.25,
           318227067022635.7,
           322196157112667.4,
           326218082301158.4,
           330292842588108.44,
           334420437973518,
           338600868457387.2,
           342834134039715.6,
           347120234720503.1,
           351459170499750.25,
           355850941377456.44,
           360295547353622.3,
           364792988428247.5,
           369343264601331.7,
           373946375872875.4,
           378602322242878.2,
           383311103711340.9,
           388072720278262.75,
           392887171943643.5,
           397754458707484.06,
           402674580569783.7,
           407647537530542.9,
           412673329589761.5,
           417751956747439.1,
           422883419003576.3,
           428067716358172.75,
           433304848811228.56,
           438594816362743.8,
           443937619012718.3,
           449333256761152.06,
           454781729608045.4,
           460283037553397.7,
           465837180597209.75,
           471444158739480.94,
           477103971980211.4,
           482816620319401.4,
           488582103757050.3,
           494400422293159.2,
           500271575927727.06,
           506195564660754.2,
           512172388492240.75,
           518202047422186.6,
           524284541450591.94,
           530419870577456.75,
           536608034802780.25,
           542849034126563.7,
           549142868548806.25,
           555489538069508.56,
           561889042688669.8,
           568341382406290.4,
           574846557222370.2,
           581404567136909.5,
           588015412149908.5,
           594679092261366.5,
           601395607471284.1,
           608164957779660.1,
           614987143186496.5,
           621862163691791.6,
           628790019295546.4
          ],
          [
           199386109889281.8,
           201148310723115.12,
           202963346655407.72,
           204831217686159.8,
           206751923815370.9,
           208725465043041.56,
           210751841369171.53,
           212831052793760.84,
           214963099316809.53,
           217147980938317.72,
           219385697658284.9,
           221676249476711.62,
           224019636393597.6,
           226415858408943.12,
           228864915522747.84,
           231366807735011.75,
           233921535045735.2,
           236529097454917.84,
           239189494962560,
           241902727568661.53,
           244668795273222.16,
           247487698076242.3,
           250359435977721.84,
           253284008977660.47,
           256261417076058.62,
           259291660272916.1,
           262374738568232.97,
           265510651962009.25,
           268699400454244.44,
           271940984044939.4,
           275235402734093.53,
           278582656521707,
           281982745407780,
           285435669392312.06,
           288941428475303.7,
           292500022656754.4,
           296111451936664.6,
           299775716315034.2,
           303492815791862.94,
           307262750367151.4,
           311085520040899,
           314961124813105.94,
           318889564683772.2,
           322870839652897.8,
           326904949720482.6,
           330991894886527.1,
           335131675151030.56,
           339324290513993.56,
           343569740975415.94,
           347868026535297.56,
           352219147193638.5,
           356623102950438.8,
           361079893805698.56,
           365589519759417.6,
           370151980811595.8,
           374767276962233.5,
           379435408211330.5,
           384156374558886.9,
           388930176004902.75,
           393756812549377.6,
           398636284192312.06,
           403568590933705.75,
           408553732773558.9,
           413591709711871.5,
           418682521748643.1,
           423826168883873.94,
           429022651117564.5,
           434271968449714.3,
           439574120880323.6,
           444929108409392.06,
           450336931036919.75,
           455797588762906.94,
           461311081587353.4,
           466877409510259.2,
           472496572531624.5,
           478168570651448.94,
           483893403869733.06,
           489671072186475.94,
           495501575601678.4,
           501384914115340.6,
           507321087727461.6,
           513310096438042.25,
           519351940247082,
           525446619154581.1,
           531594133160539.94,
           537794482264957.7,
           544047666467834.94,
           550353685769171.44,
           556712540168967.6,
           563124229667222.9,
           569588754263937.2,
           576106113959111.4,
           582676308752744.8,
           589299338644837.2,
           595975203635389.6,
           602703903724400.8,
           609485438911871.1,
           616319809197801.2,
           623207014582190.4,
           630147055065039.4
          ],
          [
           199540107601433.56,
           201314493314360.88,
           203141714125747.4,
           205021770035593.44,
           206954661043898.6,
           208940387150663.2,
           210978948355887.12,
           213070344659570.44,
           215214576061713.12,
           217411642562315.16,
           219661544161376.38,
           221964280858897.03,
           224319852654877.1,
           226728259549316.44,
           229189501542215.2,
           231703578633573.12,
           234270490823390.47,
           236890238111667.16,
           239562820498403.16,
           242288237983598.72,
           245066490567253.38,
           247897578249367.44,
           250781501029940.97,
           253718258908973.6,
           256707851886465.75,
           259750279962417.16,
           262845543136827.88,
           265993641409698.2,
           269194574781027.4,
           272448343250816.3,
           275754946819064.28,
           279114385485771.9,
           282526659250938.75,
           285991768114564.8,
           289509712076650.5,
           293080491137195.1,
           296704105296199.25,
           300380554553662.94,
           304109838909585.75,
           307891958363968.06,
           311726912916809.6,
           315614702568110.4,
           319555327317870.75,
           323548787166090.4,
           327595082112769.2,
           331694212157907.3,
           335846177301504.9,
           340050977543561.9,
           344308612884078.25,
           348619083323053.75,
           352982388860488.75,
           357398529496382.94,
           361867505230736.6,
           366389316063549.8,
           370963961994822.06,
           375591443024553.6,
           380271759152744.56,
           385004910379394.94,
           389790896704504.75,
           394629718128073.7,
           399521374650102.2,
           404465866270589.6,
           409463192989536.75,
           414513354806943.1,
           419616351722808.8,
           424772183737134.06,
           429980850849918.3,
           435242353061162,
           440556690370865.2,
           445923862779027.7,
           451343870285649.5,
           456816712890730.75,
           462342390594270.94,
           467920903396270.9,
           473552251296730,
           479236434295648.3,
           484973452393026.3,
           490763305588863.1,
           496605993883159.8,
           502501517275916,
           508449875767130.8,
           514451069356805.5,
           520505098044939.2,
           526611961831532.56,
           532771660716585.4,
           538984194700096.75,
           545249563782068.06,
           551567767962498.4,
           557938807241388.5,
           564362681618738,
           570839391094546.4,
           577368935668814.4,
           583951315341541.6,
           590586530112728.2,
           597274579982374.5,
           604015464950479.8,
           610809185017043.9,
           617655740182068.5,
           624555130445551.2,
           631507355807494.1
          ],
          [
           199697370286547.25,
           201483940878568.62,
           203323346569049,
           205215587357989.03,
           207160663245388.12,
           209158574231246.8,
           211209320315564.72,
           213312901498341.9,
           215469317779578.6,
           217678569159274.6,
           219940655637429.84,
           222255577214044.47,
           224623333889118.38,
           227043925662651.84,
           229517352534644.47,
           232043614505096.3,
           234622711574007.72,
           237254643741378.4,
           239939411007208.38,
           242677013371497.88,
           245467450834246.47,
           248310723395454.62,
           251206831055122.1,
           254155773813248.56,
           257157551669834.72,
           260212164624880.1,
           263319612678384.8,
           266479895830348.97,
           269693014080772.28,
           272958967429655.16,
           276277755876997.16,
           279649379422798.7,
           283073838067059.5,
           286551131809779.5,
           290081260650959.2,
           293664224590597.8,
           297300023628695.94,
           300988657765253.44,
           304730127000270.25,
           308524431333746.5,
           312371570765682.06,
           316271545296076.75,
           320224354924931.2,
           324229999652244.7,
           328288479478017.56,
           332399794402249.75,
           336563944424941.2,
           340780929546092.25,
           345050749765702.56,
           349373405083771.9,
           353748895500301.06,
           358177221015289.2,
           362658381628736.94,
           367192377340643.94,
           371779208151010,
           376418874059835.6,
           381111375067120.6,
           385856711172864.8,
           390654882377068.6,
           395505888679731.6,
           400409730080854.06,
           405366406580435.5,
           410375918178476.56,
           415438264874977.1,
           420553446669936.56,
           425721463563355.6,
           430942315555233.8,
           436216002645571.75,
           441542524834368.94,
           446921882121625.44,
           452354074507340.94,
           457839101991516.25,
           463376964574150.4,
           468967662255244.4,
           474611195034797.6,
           480307562912809.7,
           486056765889281.7,
           491858803964212.6,
           497713677137603.25,
           503621385409452.94,
           509581928779762.06,
           515595307248530.6,
           521661520815758.5,
           527780569481445.6,
           533952453245592.25,
           540177172108197.75,
           546454726069263.2,
           552785115128787.44,
           559168339286771.75,
           565604398543215,
           572093292898117.5,
           578635022351479.4,
           585229586903300.5,
           591876986553581.1,
           598577221302321.1,
           605330291149520.5,
           612136196095178.9,
           618994936139297,
           625906511281874,
           632870921522911
          ],
          [
           199857897944623,
           201656653415738.4,
           203508243985312.9,
           205412669653346.8,
           207369930419839.84,
           209380026284792.53,
           211442957248204.3,
           213558723310075.56,
           215727324470406.25,
           217948760729196.12,
           220223032086445.4,
           222550138542154.03,
           224930080096321.88,
           227362856748949.28,
           229848468500035.9,
           232386915349581.75,
           234978197297587.03,
           237622314344051.7,
           240319266488975.75,
           243069053732359.1,
           245871676074201.8,
           248727133514503.75,
           251635426053265.25,
           254596553690485.8,
           257610516426165.88,
           260677314260305.25,
           263796947192903.88,
           266969415223962.03,
           270194718353479.28,
           273472856581456.12,
           276803829907892.12,
           280187638332787.6,
           283624281856142.5,
           287113760477956.3,
           290656074198230.06,
           294251223016962.5,
           297899206934154.75,
           301600025949806.25,
           305353680063917,
           309160169276487.2,
           313019493587516.8,
           316931652997005.5,
           320896647504953.8,
           324914477111361.44,
           328985141816228.2,
           333108641619554.2,
           337284976521339.75,
           341514146521584.6,
           345796151620289.1,
           350130991817452.44,
           354518667113075.5,
           358959177507157.44,
           363452522999699.1,
           367998703590700.3,
           372597719280160.25,
           377249570068079.94,
           381954255954458.6,
           386711776939297.1,
           391522133022594.9,
           396385324204351.7,
           401301350484568.25,
           406270211863243.5,
           411291908340378.8,
           416366439915973.1,
           421493806590026.56,
           426674008362539.7,
           431907045233511.75,
           437192917202943.7,
           442531624270834.8,
           447923166437185.25,
           453367543701994.8,
           458864756065264.06,
           464414803526992.4,
           470017686087180.2,
           475673403745827.25,
           481381956502933.4,
           487143344358499.44,
           492957567312524.2,
           498824625365008.94,
           504744518515952.9,
           510717246765355.75,
           516742810113218.3,
           522821208559539.8,
           528952442104321.2,
           535136510747561.94,
           541373414489261.25,
           547663153329420.6,
           554005727268038.94,
           560401136305116.9,
           566849380440654.4,
           573350459674650.5,
           579904374007106.8,
           586511123438021.8,
           593170707967396.1,
           599883127595230.2,
           606648382321523.9,
           613466472146275.9,
           620337397069488.2,
           627261157091159,
           634237752211289.8
          ],
          [
           200021690575660.72,
           201832630925869.97,
           203696406374538.38,
           205613016921666.38,
           207582462567253.4,
           209604743311299.88,
           211679859153805.8,
           213807810094771.1,
           215988596134195.6,
           218222217272079.56,
           220508673508422.62,
           222847964843225.2,
           225240091276487.1,
           227685052808208.53,
           230182849438389.1,
           232733481167028.84,
           235336947994128.2,
           237993249919686.72,
           240702386943704.72,
           243464359066182.2,
           246279166287118.7,
           249146808606514.84,
           252067286024370.16,
           255040598540684.72,
           258066746155458.75,
           261145728868692,
           264277546680384.7,
           267462199590536.8,
           270699687599148.1,
           273990010706218.88,
           277333168911748.84,
           280729162215738.3,
           284177990618187.06,
           287679654119095,
           291234152718462.6,
           294841486416289.06,
           298501655212575.3,
           302214659107320.8,
           305980498100525.5,
           309799172192189.75,
           313670681382313.2,
           317595025670896,
           321572205057938.2,
           325602219543439.6,
           329685069127400.5,
           333820753809820.5,
           338009273590699.94,
           342250628470038.8,
           346544818447837.2,
           350891843524094.5,
           355291703698811.4,
           359744398971987.5,
           364249929343623.1,
           368808294813718.25,
           373419495382272.25,
           378083531049285.8,
           382800401814758.56,
           387570107678690.94,
           392392648641082.6,
           397268024701933.5,
           402196235861243.94,
           407177282119013.44,
           412211163475242.4,
           417297879929930.8,
           422437431483078.3,
           427629818134685.4,
           432875039884751.5,
           438173096733277.1,
           443523988680262.4,
           448927715725706.9,
           454384277869610.3,
           459893675111973.5,
           465455907452795.6,
           471070974892077.6,
           476738877429818.75,
           482459615066018.9,
           488233187800678.6,
           494059595633797.6,
           499938838565376.06,
           505870916595414,
           511855829723911.1,
           517893577950867.44,
           523984161276283.06,
           530127579700158.25,
           536323833222492.94,
           542572921843286.4,
           548874845562539.7,
           555229604380251.8,
           561637198296423.94,
           568097627311055.2,
           574610891424145.5,
           581176990635695.6,
           587795924945704.4,
           594467694354173,
           601192298861101.1,
           607969738466488.6,
           614800013170334.8,
           621683122972640.8,
           628619067873405.8,
           635607847872630.4
          ],
          [
           200188748179660.3,
           202011873408963.47,
           203887833736725.88,
           205816629162947.75,
           207798259687628.84,
           209832725310769.38,
           211920026032369.25,
           214060161852428.28,
           216253132770946.84,
           218498938787924.88,
           220797579903361.97,
           223149056117258.47,
           225553367429614.38,
           228010513840429.6,
           230520495349704.25,
           233083311957438.03,
           235698963663631.38,
           238367450468283.84,
           241088772371395.8,
           243862929372967.16,
           246689921472997.7,
           249569748671487.62,
           252502410968437.1,
           255487908363845.6,
           258526240857713.53,
           261617408450040.84,
           264761411140827.44,
           267958248930073.6,
           271207921817778.75,
           274510429803943.47,
           277865772888567.4,
           281273951071650.84,
           284734964353193.75,
           288248812733195.56,
           291815496211657.2,
           295435014788577.6,
           299107368463957.75,
           302832557237797.25,
           306610581110095.94,
           310441440080854,
           314325134150071.5,
           318261663317748.25,
           322251027583884.4,
           326293226948479.94,
           330388261411534.7,
           334536130973048.6,
           338736835633022,
           342990375391454.94,
           347296750248347.2,
           351655960203698.56,
           356068005257509.6,
           360532885409779.5,
           365050600660509.1,
           369621151009698.25,
           374244536457346.25,
           378920757003453.94,
           383649812648020.5,
           388431703391046.8,
           393266429232532.5,
           398153990172477.25,
           403094386210881.5,
           408087617347745.06,
           413133683583068,
           418232584916850.5,
           423384321349091.94,
           428588892879792.9,
           433846299508952.9,
           439156541236572.75,
           444519618062651.75,
           449935529987190.25,
           455404277010187.8,
           460925859131644.8,
           466500276351560.9,
           472127528669936.9,
           477807616086771.94,
           483540538602066,
           489326296215819.75,
           495164888928032.5,
           501056316738705.2,
           507000579647837.06,
           512997677655428,
           519047610761478.5,
           525150378965988,
           531305982268957.1,
           537514420670385.8,
           543775694170273.2,
           550089802768620.6,
           556456746465426.8,
           562876525260692.8,
           569349139154418,
           575874588146602.1,
           582452872237246.2,
           589083991426349.2,
           595767945713911.9,
           602504735099933.6,
           609294359584415.2,
           616136819167355.2,
           623032113848755.4,
           629980243628614.2,
           636981208506933
          ],
          [
           200359070756621.75,
           202194380865018.97,
           204082526071875.3,
           206023506377191.16,
           208017321780966.25,
           210063972283200.62,
           212163457883894.44,
           214315778583047.53,
           216520934380660.1,
           218778925276732,
           221089751271263.16,
           223453412364253.7,
           225869908555703.44,
           228339239845612.8,
           230861406233981.25,
           233436407720809.03,
           236064244306096.28,
           238744915989842.8,
           241478422772048.8,
           244264764652714.1,
           247103941631838.53,
           249995953709422.53,
           252940800885465.8,
           255938483159968.3,
           258989000532930.4,
           262092353004351.53,
           265248540574232.2,
           268457563242572.28,
           271719421009371.4,
           275034113874630.12,
           278401641838348.12,
           281822004900525.4,
           285295203061162.2,
           288821236320258,
           292400104677813.5,
           296031808133828.06,
           299716346688302.2,
           303453720341235.56,
           307243929092628.2,
           311086972942480.4,
           314982851890791.7,
           318931565937562.44,
           322933115082792.5,
           326987499326482.06,
           331094718668630.8,
           335254773109238.94,
           339467662648306.06,
           343733387285832.94,
           348051947021819.2,
           352423341856264.5,
           356847571789169.4,
           361324636820533.44,
           365854536950357.06,
           370437272178640.06,
           375072842505382,
           379761247930583.6,
           384502488454244.4,
           389296564076364.56,
           394143474796944.06,
           399043220615982.9,
           403995801533481.2,
           409001217549438.56,
           414059468663855.5,
           419170554876732,
           424334476188067.4,
           429551232597862.3,
           434820824106116.5,
           440143250712830.2,
           445518512418003.25,
           450946609221635.6,
           456427541123727.1,
           461961308124278.2,
           467547910223288.3,
           473187347420757.94,
           478879619716686.94,
           484624727111075.2,
           490422669603923.06,
           496273447195229.8,
           502177059884996.5,
           508133507673222.2,
           514142790559907.1,
           520204908545051.6,
           526319861628654.94,
           532487649810718.06,
           538708273091240.6,
           544981731470222.2,
           551308024947663.4,
           557687153523563.5,
           564119117197923.5,
           570603915970742.9,
           577141549842021,
           583732018811758.8,
           590375322879955.9,
           597071462046612.5,
           603820436311728.2,
           610622245675303.6,
           617476890137337.9,
           624384369697831.8,
           631344684356784.6,
           638357834114197.5
          ],
          [
           200532658306545.3,
           202380153294036.53,
           204280483379986.88,
           206233648564396.72,
           208239648847265.75,
           210298484228594.12,
           212410154708381.97,
           214574660286629.03,
           216792000963335.44,
           219062176738501.4,
           221385187612126.47,
           223761033584210.97,
           226189714654754.7,
           228671230823757.9,
           231205582091220.47,
           233792768457142.25,
           236432789921523.44,
           239125646484363.9,
           241871338145663.88,
           244669864905423.16,
           247521226763641.47,
           250425423720319.53,
           253382455775456.88,
           256392322929053.3,
           259455025181109.3,
           262570562531624.4,
           265738934980599,
           268960142528033.12,
           272234185173926.16,
           275561062918278.97,
           278940775761090.8,
           282373323702362.2,
           285858706742092.8,
           289396924880282.6,
           292987978116932.2,
           296631866452040.7,
           300328589885608.6,
           304078148417636.2,
           307880542048122.7,
           311735770777068.8,
           315643834604474.25,
           319604733530338.9,
           323618467554663.1,
           327685036677446.56,
           331804440898689.1,
           335976680218391.25,
           340201754636552.5,
           344479664153173.25,
           348810408768253.44,
           353193988481792.8,
           357630403293791.6,
           362119653204249.6,
           366661738213167.2,
           371256658320544.06,
           375904413526380,
           380605003830675.6,
           385358429233430.25,
           390164689734644.5,
           395023785334318.25,
           399935716032450.9,
           404900481829043.2,
           409918082724094.6,
           414988518717605.5,
           420111789809575.75,
           425287896000005.25,
           430516837288894.06,
           435798613676242.25,
           441133225162049.75,
           446520671746316.8,
           451960953429043.2,
           457454070210228.6,
           463000022089874.06,
           468598809067977.8,
           474250431144541.7,
           479954888319564.6,
           485712180593046.75,
           491522307964988.5,
           497385270435389.2,
           503301068004249.8,
           509269700671569.5,
           515291168437348.4,
           521365471301586.94,
           527492609264284.3,
           533672582325441.5,
           539905390485058.06,
           546191033743133.44,
           552529512099668.56,
           558920825554662.8,
           565364974108116.8,
           571861957760029.9,
           578411776510402.1,
           585014430359233.9,
           591669919306525,
           598378243352275.5,
           605139402496485.2,
           611953396739154.9,
           618820226080282.8,
           625739890519870.8,
           632712390057917.6,
           639737724694424.1
          ],
          [
           200709510829430.75,
           202569190696015.8,
           204481705661060.16,
           206447055724563.97,
           208465240886526.9,
           210536261146949.38,
           212660116505831.1,
           214836806963172.12,
           217066332518972.62,
           219348693173232.44,
           221683888925951.53,
           224071919777130,
           226512785726767.72,
           229006486774864.9,
           231553022921421.47,
           234152394166437.1,
           236804600509912.28,
           239509641951846.7,
           242267518492240.56,
           245078230131093.88,
           247941776868406.28,
           250858158704178.25,
           253827375638409.53,
           256849427671099.9,
           259924314802249.9,
           263052037031859.1,
           266232594359927.6,
           269465986786455.7,
           272752214311442.75,
           276091276934889.4,
           279483174656795.38,
           282927907477160.56,
           286425475395985.25,
           289975878413269.06,
           293579116529012.5,
           297235189743214.94,
           300944098055876.94,
           304705841466998.4,
           308520419976578.9,
           312387833584619,
           316308082291118.4,
           320281166096076.94,
           324307084999495.06,
           328385839001372.44,
           332517428101709.2,
           336701852300505.25,
           340939111597760.4,
           345229205993475.4,
           349572135487649.5,
           353967900080282.6,
           358416499771375.5,
           362917934560927.4,
           367472204448938.94,
           372079309435409.8,
           376739249520339.75,
           381452024703729.25,
           386217634985577.94,
           391036080365886.25,
           395907360844653.8,
           400831476421880.5,
           405808427097566.75,
           410838212871712.06,
           415920833744317.06,
           421056289715381.25,
           426244580784904.6,
           431485706952887.5,
           436779668219329.5,
           442126464584231.25,
           447526096047592.2,
           452978562609412.56,
           458483864269692,
           464042001028431.06,
           469652972885629.1,
           475316779841286.8,
           481033421895403.7,
           486802899047979.8,
           492625211299015.6,
           498500358648510.2,
           504428341096464.5,
           510409158642878.4,
           516442811287751.4,
           522529299031083.7,
           528668621872875.25,
           534860779813126.3,
           541105772851836.75,
           547403600989006.25,
           553754264224635.25,
           560157762558723.4,
           566614095991271.2,
           573123264522278.4,
           579685268151744.8,
           586300106879670.6,
           592967780706055.6,
           599688289630900.1,
           606461633654203.9,
           613287812775967,
           620166826996189.1,
           627098676314871,
           634083360732012.1,
           641120880247612.6
          ],
          [
           200889628325278.03,
           202761493070957.12,
           204686192915095.4,
           206663727857693.28,
           208694097898750.12,
           210777303038266.56,
           212913343276242.25,
           215102218612677.25,
           217343929047571.75,
           219638474580925.53,
           221985855212738.47,
           224386070943011,
           226839121771742.72,
           229345007698933.84,
           231903728724584.3,
           234515284848694,
           237179676071263.12,
           239896902392291.6,
           242666963811779.4,
           245489860329726.6,
           248365591946133.1,
           251294158660998.97,
           254275560474324.2,
           257309797386108.6,
           260396869396352.47,
           263536776505055.62,
           266729518712218.16,
           269975096017840.1,
           273273508421921.12,
           276624755924461.88,
           280028838525461.72,
           283485756224920.94,
           286995509022839.6,
           290558096919217.4,
           294173519914054.75,
           297841778007351.25,
           301562871199107.25,
           305336799489322.7,
           309163562877997.06,
           313043161365131.1,
           316975594950724.5,
           320960863634777.2,
           324998967417289.2,
           329089906298260.56,
           333233680277691.06,
           337430289355581.06,
           341679733531930.4,
           345982012806739.2,
           350337127180007.3,
           354745076651734.5,
           359205861221921.25,
           363719480890567.1,
           368285935657672.75,
           372905225523237.6,
           377577350487261.5,
           382302310549744.9,
           387080105710687.6,
           391910735970089.75,
           396794201327951.2,
           401730501784272,
           406719637339052.25,
           411761607992291.44,
           416856413743990.3,
           422004054594148.75,
           427204530542766.06,
           432457841589842.75,
           437763987735378.9,
           443122968979374.4,
           448534785321829.44,
           453999436762743.75,
           459516923302117.1,
           465087244939950.25,
           470710401676242.2,
           476386393510993.8,
           482115220444204.75,
           487896882475874.8,
           493731379606004.56,
           499618711834593.2,
           505558879161641.8,
           511551881587149.44,
           517597719111116.25,
           523696391733542.56,
           529847899454428,
           536052242273772.8,
           542309420191577.5,
           548619433207840.8,
           554982281322563.94,
           561397964535746.2,
           567866482847387.9,
           574387836257489.2,
           580962024766049.1,
           587589048373069,
           594268907078547.9,
           601001600882486.4,
           607787129784884.2,
           614625493785741.6,
           621516692885057.6,
           628460727082833.2,
           635457596379068.4,
           642507300773762.9
          ],
          [
           201073010794087.3,
           202957060418860.38,
           204893945142092.56,
           206883664963784.44,
           208926219883935.25,
           211021609902545.7,
           213169835019615.3,
           215370895235144.25,
           217624790549132.75,
           219931520961580.53,
           222291086472487.44,
           224703487081853.84,
           227168722789679.56,
           229686793595964.72,
           232257699500709.16,
           234881440503912.84,
           237558016605576,
           240287427805698.28,
           243069674104280.12,
           245904755501321.28,
           248792671996821.7,
           251733423590781.6,
           254727010283200.8,
           257773432074079.16,
           260872688963417.03,
           264024780951214.12,
           267229708037470.62,
           270487470222186.6,
           273798067505361.56,
           277161499886996.2,
           280577767367090.03,
           284046869945643.25,
           287568807622655.94,
           291143580398127.6,
           294771188272059,
           298451631244449.4,
           302184909315299.25,
           305971022484608.75,
           309809970752377.2,
           313701754118605.2,
           317646372583292.5,
           321643826146439.06,
           325694114808045.06,
           329797238568110.5,
           333953197426635.06,
           338161991383619.06,
           342423620439062.2,
           346738084592964.8,
           351105383845327.1,
           355525518196148.25,
           359998487645428.94,
           364524292193168.94,
           369102931839368.3,
           373734406584027.2,
           378418716427145.1,
           383155861368722.56,
           387945841408759.06,
           392788656547255.25,
           397684306784210.75,
           402632792119625.5,
           407634112553499.6,
           412688268085832.9,
           417795258716625.75,
           422955084445878,
           428167745273589.4,
           433433241199760.06,
           438751572224390.2,
           444122738347479.75,
           449546739569028.6,
           455023575889036.94,
           460553247307504.3,
           466135753824431.2,
           471771095439817.2,
           477459272153662.94,
           483200283965967.94,
           488994130876731.7,
           494840812885955.5,
           500740329993638.2,
           506692682199780.5,
           512697869504382.25,
           518755891907443.1,
           524866749408963.25,
           531030442008942.75,
           537246969707381.75,
           543516332504280.3,
           549838530399637.44,
           556213563393454.56,
           562641431485730.6,
           569122134676466.5,
           575655672965661.6,
           582242046353315.8,
           588881254839429.6,
           595573298424002.4,
           602318177107034.8,
           609115890888526.5,
           615966439768477.8,
           622869823746887.9,
           629826042823757.9,
           636835096999086.6,
           643896986272875.2
          ],
          [
           201259658235858.75,
           203155892739725.75,
           205104962342051.9,
           207106867042837.75,
           209161606842082.56,
           211269181739786.88,
           213429591735950.47,
           215642836830573.4,
           217908917023655.88,
           220227832315197.6,
           222599582705198.62,
           225024168193658.97,
           227501588780578.6,
           230031844465957.75,
           232614935249796.2,
           235250861132093.75,
           237939622112850.88,
           240681218192067.16,
           243475649369743.03,
           246322915645878.16,
           249223017020472.44,
           252175953493526.38,
           255181725065039.56,
           258240331735011.88,
           261351773503443.75,
           264516050370334.72,
           267733162335685.16,
           271003109399495.16,
           274325891561764.16,
           277701508822492.8,
           281129961181680.56,
           284611248639327.75,
           288145371195434.4,
           291732328850000.06,
           295372121603025.4,
           299064749454509.8,
           302810212404453.75,
           306608510452857.06,
           310459643599719.5,
           314363611845041.44,
           318320415188822.75,
           322330053631063.25,
           326392527171763.3,
           330507835810922.75,
           334675979548541.2,
           338896958384619,
           343170772319156.25,
           347497421352153.06,
           351876905483609.1,
           356309224713524.4,
           360794379041898.9,
           365332368468732.9,
           369923192994026.25,
           374566852617779.06,
           379263347339990.9,
           384012677160662.25,
           388814842079792.8,
           393669842097383.06,
           398577677213432.5,
           403538347427941.25,
           408551852740909.4,
           413618193152336.5,
           418737368662223.44,
           423909379270569.5,
           429134224977374.94,
           434411905782639.5,
           439742421686363.7,
           445125772688547.2,
           450561958789190.06,
           456050979988292.25,
           461592836285853.7,
           467187527681874.5,
           472835054176354.6,
           478535415769294.06,
           484288612460692.9,
           490094644250551.06,
           495953511138868.75,
           501865213125645.25,
           507829750210881.6,
           513847122394577.4,
           519917329676732,
           526040372057346.5,
           532216249536420,
           538444962113952.9,
           544726509789945.1,
           551060892564396.5,
           557448110437307.5,
           563888163408677.6,
           570381051478507.5,
           576926774646796.5,
           583525332913544.5,
           590176726278752.4,
           596880954742419.2,
           603638018304545.6,
           610447916965131.4,
           617310650724176.8,
           624226219581680.4,
           631194623537644.1,
           638215862592067,
           645289936744949.6
          ],
          [
           201449570650591.84,
           203357990033552.84,
           205319244514973,
           207333334094852.7,
           209400258773191.47,
           211520018549989.9,
           213692613425247.47,
           215918043398964.4,
           218196308471140.8,
           220527408641776.47,
           222911343910871.47,
           225348114278425.8,
           227837719744439.4,
           230380160308912.53,
           232975435971844.88,
           235623546733236.47,
           238324492593087.6,
           241078273551397.72,
           243884889608167.56,
           246744340763396.75,
           249656627017085,
           252621748369232.88,
           255639704819840,
           258710496368906.3,
           261834123016432.12,
           265010584762417.12,
           268239881606861.53,
           271522013549765.47,
           274856980591128.44,
           278244782730951,
           281685419969232.75,
           285178892305974,
           288725199741174.5,
           292324342274834.25,
           295976319906953.5,
           299681132637531.94,
           303438780466569.6,
           307249263394067.06,
           311112581420023.4,
           315028734544439.5,
           318997722767314.8,
           323019546088649.3,
           327094204508443.2,
           331221698026696.5,
           335402026643409,
           339635190358580.8,
           343921189172212,
           348260023084302.75,
           352651692094852.8,
           357096196203861.94,
           361593535411330.6,
           366143709717258.4,
           370746719121645.8,
           375402563624492.6,
           380111243225798.56,
           384872757925563.7,
           389687107723788.3,
           394554292620472.4,
           399474312615615.94,
           404447167709218.6,
           409472857901280.4,
           414551383191801.8,
           419682743580782.56,
           424866939068222.94,
           430103969654122.2,
           435393835338480.75,
           440736536121298.8,
           446132072002576.25,
           451580442982313.1,
           457081649060509.4,
           462635690237164.5,
           468242566512279.6,
           473902277885853.44,
           479614824357887.25,
           485380205928380,
           491198422597331.8,
           497069474364743.5,
           502993361230614.06,
           508970083194944.4,
           514999640257734.06,
           521082032418982.9,
           527217259678691.1,
           533405322036858.5,
           539646219493485.44,
           545939952048572,
           552286519702116.94,
           558685922454122.2,
           565138160304586,
           571643233253510,
           578201141300892.8,
           584811884446735,
           591475462691036.9,
           598191876033797.4,
           604961124475017.9,
           611783208014697.9,
           618658126652836.8,
           625585880389434.8,
           632566469224492.8,
           639599893158009.5,
           646686152189985.9
          ],
          [
           201642748038287,
           203563352300341.88,
           205536791660856.03,
           207563066119829.8,
           209642175677262.6,
           211774120333154.84,
           213958900087506.38,
           216196514940317.3,
           218486964891587.62,
           220830249941317.3,
           223226370089506.2,
           225675325336154.44,
           228177115681262.12,
           230731741124829.1,
           233339201666855.6,
           235999497307341.03,
           238712628046286.12,
           241478593883690.3,
           244297394819554.16,
           247169030853877.16,
           250093501986659.53,
           253070808217901.25,
           256100949547602.44,
           259183925975762.72,
           262319737502382.44,
           265508384127461.56,
           268749865851000,
           272044182672997.75,
           275391334593454.62,
           278791321612371.25,
           282244143729747,
           285749800945582.06,
           289308293259876.7,
           292919620672630.25,
           296583783183843.56,
           300300780793515.94,
           304070613501647.7,
           307893281308239,
           311768784213289.3,
           315697122216799.25,
           319678295318768.56,
           323712303519197.06,
           327799146818085,
           331938825215432.3,
           336131338711238.7,
           340376687305504.7,
           344674870998229.75,
           349025889789414.25,
           353429743679058.4,
           357886432667161.5,
           362395956753724.25,
           366958315938745.8,
           371573510222227.4,
           376241539604168.06,
           380962404084568.06,
           385736103663427.2,
           390562638340745.75,
           395442008116523.75,
           400374212990761.25,
           405359252963457.7,
           410397128034613.94,
           415487838204229.06,
           420631383472303.8,
           425827763838837.94,
           431076979303831.2,
           436379029867283.8,
           441733915529195.75,
           447141636289567.2,
           452602192148398.06,
           458115583105688.3,
           463681809161437.6,
           469300870315646.6,
           474972766568314.3,
           480697497919442,
           486475064369028.75,
           492305465917074.75,
           498188702563580.3,
           504124774308544.75,
           510113681151969.2,
           516155423093852.8,
           522250000134195.44,
           528397412272997.75,
           534597659510259.06,
           540850741845980.2,
           547156659280160.3,
           553515411812799.44,
           559926999443898.5,
           566391422173456.5,
           572908680001474.4,
           579478772927951.4,
           586101700952887.4,
           592777464076282.9,
           599506062298138,
           606287495618452.1,
           613121764037225.6,
           620008867554459,
           626948806170151,
           633941579884302.8,
           640987188696913.2,
           648085632607984
          ],
          [
           201839190398944,
           203771979540092.9,
           205757603779701,
           207796063117768.72,
           209887357554295.44,
           212031487089281.62,
           214228451722727.25,
           216478251454632.12,
           218780886284996.4,
           221136356213820.16,
           223544661241102.88,
           226005801366845.25,
           228519776591046.72,
           231086586913707.84,
           233706232334828.16,
           236378712854407.62,
           239104028472446.7,
           241882179188944.88,
           244713165003902.53,
           247596985917319.72,
           250533641929195.97,
           253523133039531.72,
           256565459248326.84,
           259660620555581.03,
           262808616961294.72,
           266009448465467.75,
           269263115068100.12,
           272569616769192.1,
           275928953568742.9,
           279341125466753.4,
           282806132463223,
           286323974558152.1,
           289894651751540.8,
           293518164043388.25,
           297194511433695.56,
           300923693922461.9,
           304705711509687.75,
           308540564195372.9,
           312428251979517.25,
           316368774862121.2,
           320362132843184.5,
           324408325922706.75,
           328507354100688.75,
           332659217377129.94,
           336863915752030.3,
           341121449225390.25,
           345431817797209.3,
           349795021467488,
           354211060236225.8,
           358679934103423.2,
           363201643069079.6,
           367776187133195.5,
           372403566295770.9,
           377083780556805.44,
           381816829916299.2,
           386602714374252.6,
           391441433930665.06,
           396332988585537.2,
           401277378338868.5,
           406274603190658.9,
           411324663140908.94,
           416427558189618.3,
           421583288336787.06,
           426791853582415.2,
           432053253926502.2,
           437367489369048.9,
           442734559910054.75,
           448154465549520.25,
           453627206287445.06,
           459152782123829.2,
           464731193058672.4,
           470362439091975.44,
           476046520223737.1,
           481783436453958.75,
           487573187782639.5,
           493415774209779.44,
           499311195735378.94,
           505259452359437.6,
           511260544081955.75,
           517314470902933.4,
           523421232822370.06,
           529580829840266.3,
           535793261956621.44,
           542058529171436.6,
           548376631484710.75,
           554747568896443.94,
           561171341406636.94,
           567647949015288.9,
           574177391722400.5,
           580759669527971.5,
           587394782432001.8,
           594082730434491.2,
           600823513535440.1,
           607617131734848.6,
           614463585032716,
           621362873429042.9,
           628314996923829,
           635319955517074.9,
           642377749208779.5,
           649488377998943.6
          ],
          [
           202038897732563.2,
           203983871752806,
           205981680871508.1,
           208032325088669.72,
           210135804404290.47,
           212292118818370.72,
           214501268330910.28,
           216763252941909,
           219078072651367.38,
           221445727459284.9,
           223866217365661.75,
           226339542370498.03,
           228865702473793.62,
           231444697675548.56,
           234076527975762.88,
           236761193374436.38,
           239498693871569.4,
           242289029467161.56,
           245132200161213.25,
           248028205953724.25,
           250977046844694.53,
           253978722834124.28,
           257033233922013.38,
           260140580108361.56,
           263300761393169.3,
           266513777776436.2,
           269779629258162.56,
           273098315838348.44,
           276469837516993.25,
           279894194294097.6,
           283371386169661.4,
           286901413143684.44,
           290484275216167,
           294119972387108.5,
           297808504656509.75,
           301549872024370.06,
           305344074490689.8,
           309191112055469,
           313090984718707.3,
           317043692480405.2,
           321049235340562.4,
           325107613299178.75,
           329218826356254.6,
           333382874511789.9,
           337599757765784.25,
           341869476118238.06,
           346192029569151.25,
           350567418118523.8,
           354995641766355.8,
           359476700512646.75,
           364010594357397.4,
           368597323300607.1,
           373236887342276.56,
           377929286482405.1,
           382674520720992.9,
           387472590058040.2,
           392323494493546.56,
           397227234027512.56,
           402183808659938.06,
           407193218390822.5,
           412255463220166.6,
           417370543147969.7,
           422538458174232.3,
           427759208298954.56,
           433032793522135.5,
           438359213843776.3,
           443738469263876.06,
           449170559782435.44,
           454655485399454.3,
           460193246114932.5,
           465783841928869.7,
           471427272841266.56,
           477123538852122.25,
           482872639961437.94,
           488674576169212.6,
           494529347475446.56,
           500436953880140.2,
           506397395383292.5,
           512410671984905.06,
           518476783684976.3,
           524595730483506.9,
           530767512380497.1,
           536992129375946.4,
           543269581469855.1,
           549599868662223.5,
           555982990953050.6,
           562418948342337.7,
           568907740830083.9,
           575449368416289.2,
           582043831100954.4,
           588691128884078.1,
           595391261765661.5,
           602144229745704.5,
           608950032824207,
           615808671001168.5,
           622720144276589.6,
           629684452650469.4,
           636701596122809.1,
           643771574693607.8,
           650894388362866.4
          ],
          [
           202241870039144.03,
           204199028938480.88,
           206209022936276.9,
           208271852032532.47,
           210387516227247.3,
           212556015520421.47,
           214777349912054.97,
           217051519402147.72,
           219378523990700,
           221758363677711.56,
           224191038463182.38,
           226676548347112.62,
           229214893329502.12,
           231806073410351.1,
           234450088589659.4,
           237146938867426.75,
           239896624243653.75,
           242699144718339.97,
           245554500291485.6,
           248462690963090.72,
           251423716733154.84,
           254437577601678.44,
           257504273568661.6,
           260623804634103.75,
           263796170798005.53,
           267021372060366.44,
           270299408421186.72,
           273630279880466.53,
           277013986438205.28,
           280450528094403.8,
           283939904849061.4,
           287482116702178.4,
           291077163653754.8,
           294725045703790.44,
           298425762852285.75,
           302179315099239.8,
           305985702444653.6,
           309844924888526.9,
           313756982430859.1,
           317721875071650.94,
           321739602810902.2,
           325810165648612.5,
           329933563584782.4,
           334109796619411.56,
           338338864752499.8,
           342620767984047.7,
           346955506314054.6,
           351343079742521.25,
           355783488269447.2,
           360276731894832.25,
           364822810618676.9,
           369421724440980.5,
           374073473361743.7,
           378778057380966.56,
           383535476498648.06,
           388345730714789.4,
           393208820029389.75,
           398124744442449.75,
           403093503953969.1,
           408115098563947.6,
           413189528272385.5,
           418316793079282.75,
           423496892984639.5,
           428729827988455.4,
           434015598090730.56,
           439354203291465.2,
           444745643590658.94,
           450189918988312.3,
           455687029484425.25,
           461236975078997.2,
           466839755772028.56,
           472495371563519.25,
           478203822453469.1,
           483965108441878.5,
           489779229528747.06,
           495646185714074.94,
           501565976997862.6,
           507538603380109.1,
           513564064860815.25,
           519642361439980.9,
           525773493117605.5,
           531957459893689.7,
           538194261768232.75,
           544483898741235.75,
           550826370812697.94,
           557221677982619.06,
           563669820250999.8,
           570170797617839.9,
           576724610083139.6,
           583331257646898.4,
           589990740309116.4,
           596703058069793.9,
           603468210928930.8,
           610286198886526.8,
           617157021942582.5,
           624080680097097.5,
           631057173350071.5,
           638086501701505.4,
           645168665151397.9,
           652303663699750.2
          ],
          [
           202448107318686.9,
           204417451097117.8,
           206439629974007.8,
           208514643949357.28,
           210642493023165.9,
           212823177195434.12,
           215056696466161.6,
           217343050835348.28,
           219682240302994.6,
           222074264869100.2,
           224519124533664.9,
           227016819296689.2,
           229567349158172.6,
           232170714118115.62,
           234826914176517.75,
           237535949333379.2,
           240297819588700.2,
           243112524942480.38,
           245980065394719.97,
           248900440945418.88,
           251873651594577.1,
           254899697342194.7,
           257978578188271.75,
           261110294132807.88,
           264294845175803.62,
           267532231317258.44,
           270822452557172.62,
           274165508895546.44,
           277561400332379.2,
           281010126867671.72,
           284511688501423.25,
           288066085233634.3,
           291673317064304.9,
           295333383993434.3,
           299046286021023.5,
           302812023147071.5,
           306630595371579.44,
           310502002694546.5,
           314426245115972.75,
           318403322635858.75,
           322433235254203.75,
           326515982971008.1,
           330651565786271.94,
           334839983699995.06,
           339081236712177.44,
           343375324822819.25,
           347722248031920.2,
           352122006339480.6,
           356574599745500.6,
           361080028249979.7,
           365638291852918.06,
           370249390554315.75,
           374913324354173.06,
           379630093252489.6,
           384399697249265.25,
           389222136344500.5,
           394097410538195.06,
           399025519830348.8,
           404006464220962.25,
           409040243710034.56,
           414126858297566.5,
           419266307983557.75,
           424458592768008.4,
           429703712650918.3,
           435001667632287.44,
           440352457712116.2,
           445756082890403.8,
           451212543167151.4,
           456721838542358,
           462283969016023.94,
           467898934588149.2,
           473566735258733.94,
           479287371027777.7,
           485060841895281.1,
           490887147861243.6,
           496766288925665.7,
           502698265088547.06,
           508683076349887.6,
           514720722709687.8,
           520811204167947.25,
           526954520724665.7,
           533150672379843.8,
           539399659133481.1,
           545701480985578,
           552056137936134.25,
           558463629985149.25,
           564923957132624.1,
           571437119378558.1,
           578003116722951.8,
           584621949165804.8,
           591293616707116.4,
           598018119346888.4,
           604795457085118.5,
           611625629921808.8,
           618508637856958.4,
           625444480890567.5,
           632433159022635.2,
           639474672253163.1,
           646569020582149.6,
           653716204009596.1
          ],
          [
           202657609571191.7,
           204639138228716.47,
           206673501984700.56,
           208760700839144,
           210900734792046.7,
           213093603843408.8,
           215339307993230.25,
           217637847241510.97,
           219989221588251.2,
           222393431033450.72,
           224850475577109.4,
           227360355219227.56,
           229923069959805.03,
           232538619798842.03,
           235207004736338.2,
           237928224772293.53,
           240702279906708.47,
           243529170139582.6,
           246408895470916.12,
           249341455900709.16,
           252326851428961.2,
           255365082055672.88,
           258456147780843.88,
           261600048604474,
           264796784526563.7,
           268046355547112.56,
           271348761666120.72,
           274704002883588.44,
           278112079199515.25,
           281572990613901.6,
           285086737126747.2,
           288653318738052.2,
           292272735447816.6,
           295944987256040.06,
           299670074162723.25,
           303447996167865.25,
           307278753271467,
           311162345473528.2,
           315098772774048.4,
           319088035173028.25,
           323130132670467.25,
           327225065266365.56,
           331372832960723.4,
           335573435753540.7,
           339826873644816.94,
           344133146634552.6,
           348492254722747.5,
           352904197909402.2,
           357368976194515.94,
           361886589578088.9,
           366457038060121.4,
           371080321640612.94,
           375756440319564.25,
           380485394096974.9,
           385267182972844.56,
           390101806947173.6,
           394989266019962,
           399929560191209.94,
           404922689460917.25,
           409968653829083.5,
           415067453295709.6,
           420219087860794.75,
           425423557524339.2,
           430680862286343.25,
           435991002146806.5,
           441353977105728.75,
           446769787163110.75,
           452238432318951.94,
           457759912573252.6,
           463334227926012.6,
           468961378377231.8,
           474641363926910.56,
           480374184575048.06,
           486159840321645.8,
           491998331166702.4,
           497889657110218.25,
           503833818152193.5,
           509830814292628,
           515880645531522.3,
           521983311868875.7,
           528138813304688.25,
           534347149838960.25,
           540608321471691.44,
           546922328202882.4,
           553289170032532.5,
           559708846960641.5,
           566181358987210.2,
           572706706112238.1,
           579284888335725.6,
           585915905657672.5,
           592599758078078.6,
           599336445596944.1,
           606125968214268.8,
           612968325930053,
           619863518744296.5,
           626811546656999.4,
           633812409668161.2,
           640866107777782.9,
           647972640985863.2,
           655132009292403.6
          ],
          [
           202870376796658.56,
           204864090333277.44,
           206910638968355.44,
           209010022701892.88,
           211162241533889.44,
           213367295464345.62,
           215625184493261,
           217935908620635.8,
           220299467846469.9,
           222715862170763.4,
           225185091593516.1,
           227707156114728.2,
           230282055734399.56,
           232909790452530.47,
           235590360269120.62,
           238323765184170.1,
           241110005197678.97,
           243949080309647,
           246840990520074.6,
           249785735828961.47,
           252783316236307.6,
           255833731742113.25,
           258936982346378.2,
           262093068049102.25,
           265301988850285.9,
           268563744749928.72,
           271878335748030.9,
           275245761844592.56,
           278666023039613.38,
           282139119333093.8,
           285665050725033.25,
           289243817215432.25,
           292875418804290.56,
           296559855491608.2,
           300297127277385.2,
           304087234161621.25,
           307930176144317,
           311825953225472,
           315774565405086.3,
           319776012683159.9,
           323830295059693.2,
           327937412534685.3,
           332097365108137.25,
           336310152780048.25,
           340575775550418.56,
           344894233419248.2,
           349265526386537.06,
           353689654452285.6,
           358166617616493.44,
           362696415879160.3,
           367279049240286.94,
           371914517699872.5,
           376602821257917.75,
           381343959914422.25,
           386137933669385.94,
           390984742522809.06,
           395884386474691.25,
           400836865525033.2,
           405842179673834.56,
           410900328921094.9,
           416011313266814.75,
           421175132710993.75,
           426391787253632.56,
           431661276894730.3,
           436983601634287.44,
           442358761472303.94,
           447786756408779.75,
           453267586443715.06,
           458801251577109.5,
           464387751808963.5,
           470027087139276.8,
           475719257568049.5,
           481464263095281.1,
           487262103720972.6,
           493112779445123.06,
           499016290267733.06,
           504972636188802.5,
           510981817208330.75,
           517043833326318.9,
           523158684542766.4,
           529326370857672.9,
           535546892271038.9,
           541820248782864,
           548146440393148.8,
           554525467101893.06,
           560957328909096.06,
           567442025814758.8,
           573979557818880.8,
           580569924921462.4,
           587213127122503,
           593909164422003,
           600658036819962.5,
           607459744316381,
           614314286911259.2,
           621221664604596.8,
           628181877396393.6,
           635194925286649.2,
           642260808275365,
           649379526362539.2,
           656551079548173.9
          ],
          [
           203086408995087.28,
           205092307410800.03,
           207151040924972,
           209262609537603.4,
           211427013248694.1,
           213644252058244.16,
           215914325966253.47,
           218237234972722.2,
           220612979077650.3,
           223041558281037.75,
           225522972582884.44,
           228057221983190.6,
           230644306481955.9,
           233284226079180.8,
           235976980774864.97,
           238722570569008.28,
           241520995461611.2,
           244372255452673.16,
           247276350542194.72,
           250233280730175.6,
           253243046016615.62,
           256305646401515.28,
           259421081884874.2,
           262589352466692.16,
           265810458146969.9,
           269084398925706.7,
           272411174802902.84,
           275790785778558.53,
           279223231852673.25,
           282708513025247.5,
           286246629296281.06,
           289837580665774,
           293481367133726.3,
           297177988700137.8,
           300927445365008.9,
           304729737128338.9,
           308584863990128.7,
           312492825950377.6,
           316453623009085.8,
           320467255166253.5,
           324533722421880.6,
           328653024775966.8,
           332825162228512.5,
           337050134779517.6,
           341327942428981.8,
           345658585176905.5,
           350042063023288.44,
           354478375968130.8,
           358967524011432.75,
           363509507153193.6,
           368104325393414.06,
           372751978732093.6,
           377452467169232.8,
           382205790704831.25,
           387011949338889.06,
           391870943071406.2,
           396782771902382.3,
           401747435831818.25,
           406764934859713.44,
           411835268986067.75,
           416958438210881.75,
           422134442534154.6,
           427363281955887.25,
           432644956476079.1,
           437979466094730.25,
           443366810811840.75,
           448806990627410.4,
           454300005541439.6,
           459845855553928.5,
           465444540664876.4,
           471096060874283.25,
           476800416182150,
           482557606588475.6,
           488367632093261.06,
           494230492696505.7,
           500146188398209.4,
           506114719198372.75,
           512136085096995.06,
           518210286094077.25,
           524337322189618.75,
           530517193383619.1,
           536749899676079.2,
           543035441066998.3,
           549373817556376.9,
           555765029144215.2,
           562209075830512,
           568705957615268.8,
           575255674498484.8,
           581858226480160.1,
           588513613560295,
           595221835738888.8,
           601982893015942.4,
           608796785391455,
           615663512865427,
           622583075437858.4,
           629555473108749.4,
           636580705878099,
           643658773745908.9,
           650789676712177.1,
           657973414776905.6
          ],
          [
           203305706166477.88,
           205323789461284.7,
           207394707854550.56,
           209518461346276,
           211695049936460.56,
           213924473625104.6,
           216206732412208,
           218541826297770.6,
           220929755281792.75,
           223370519364274.16,
           225864118545214.84,
           228410552824614.8,
           231009822202474.25,
           233661926678793.12,
           236366866253571.2,
           239124640926808.44,
           241935250698505.3,
           244798695568661.25,
           247714975537276.8,
           250684090604351.72,
           253706040769885.8,
           256780826033879.3,
           259908446396332.2,
           263088901857244.16,
           266322192416615.8,
           269608318074446.44,
           272947278830736.62,
           276339074685486.38,
           279783705638695,
           283281171690363.25,
           286831472840490.75,
           290434609089077.6,
           294090580436123.94,
           297799386881629.4,
           301561028425594.4,
           305375505068018.5,
           309242816808902.2,
           313162963648245.2,
           317135945586047.25,
           321161762622309.06,
           325240414757030,
           329371901990210.1,
           333556224321850,
           337793381751948.94,
           342083374280507.06,
           346426201907524.75,
           350821864633001.6,
           355270362456938.1,
           359771695379333.94,
           364325863400188.8,
           368932866519503.2,
           373592704737276.8,
           378305378053509.8,
           383070886468202.3,
           387889229981354,
           392760408592964.94,
           397684422303035.4,
           402661271111565.06,
           407690955018554.3,
           412773474024002.75,
           417908828127910.5,
           423097017330277.4,
           428338041631104,
           433631901030389.94,
           438978595528134.9,
           444378125124339.25,
           449830489819003.2,
           455335689612126.4,
           460893724503708.8,
           466504594493750.9,
           472168299582251.75,
           477884839769212.5,
           483654215054632,
           489476425438511.4,
           495351470920850,
           501279351501647.6,
           507260067180904.94,
           513293617958621.4,
           519380003834797.4,
           525519224809432.8,
           531711280882527.2,
           537956172054081.2,
           544253898324094.2,
           550604459692567.1,
           557007856159499.1,
           563464087724890.2,
           569973154388740.8,
           576535056151050.5,
           583149793011820.1,
           589817364971049,
           596537772028736.6,
           603311014184884.1,
           610137091439490.5,
           617016003792556.5,
           623947751244082.1,
           630932333794067.4,
           637969751442510.8,
           645060004189414.5,
           652203092034776.8,
           659399014978599
          ],
          [
           203528268310830.47,
           205558536484731.2,
           207641639757091.12,
           209777578127910.44,
           211966351597188.9,
           214207960164927.03,
           216502403831124.3,
           218849682595781,
           221249796458897.03,
           223702745420472.44,
           226208529480507.1,
           228767148639001.16,
           231378602895954.4,
           234042892251367.25,
           236760016705239.3,
           239529976257570.56,
           242352770908361.38,
           245228400657611.38,
           248156865505320.72,
           251138165451489.62,
           254172300496117.56,
           257259270639205.25,
           260399075880752.1,
           263591716220758.03,
           266837191659223.56,
           270135502196148.3,
           273486647831532.3,
           276890628565376,
           280347444397678.72,
           283857095328441.06,
           287419581357662.25,
           291034902485343.25,
           294703058711483.6,
           298424050036083,
           302197876459142.06,
           306024537980659.94,
           309904034600637.5,
           313836366319074.5,
           317821533135970.6,
           321859535051326.4,
           325950372065141.25,
           330094044177415.44,
           334290551388149.25,
           338539893697342.1,
           342842071104994.2,
           347197083611106.06,
           351604931215676.75,
           356065613918707.25,
           360579131720197.06,
           365145484620145.75,
           369764672618554.06,
           374436695715421.75,
           379161553910748.8,
           383939247204535.25,
           388769775596780.9,
           393653139087485.8,
           398589337676650.06,
           403578371364273.8,
           408620240150357.2,
           413714944034899.4,
           418862483017901.1,
           424062857099362.2,
           429316066279282.56,
           434622110557662.6,
           439980989934501.4,
           445392704409800,
           450857253983557.5,
           456374638655774.75,
           461944858426451.4,
           467567913295587.25,
           473243803263182.3,
           478972528329236.8,
           484754088493750.5,
           490588483756723.7,
           496475714118156.25,
           502415779578047.94,
           508408680136399.4,
           514454415793209.7,
           520552986548479.6,
           526704392402208.94,
           532908633354397.4,
           539165709405045.4,
           545475620554152.4,
           551838366801718.94,
           558253948147745.2,
           564722364592229.9,
           571243616135174.5,
           577817702776578.6,
           584444624516442.2,
           591124381354764.9,
           597856973291546.6,
           604642400326788.1,
           611480662460488.2,
           618371759692648.8,
           625315692023267.9,
           632312459452346.8,
           639362061979884.1,
           646464499605882,
           653619772330338.6,
           660827880153254.5
          ],
          [
           203754095428145.2,
           205796548481139.88,
           207891836632593.72,
           210039959882507.1,
           212240918230879.6,
           214494711677711.62,
           216801340223002.88,
           219160803866753.47,
           221573102608963.56,
           224038236449632.88,
           226556205388761.53,
           229127009426349.53,
           231750648562396.84,
           234427122796903.53,
           237156432129869.56,
           239938576561294.8,
           242773556091179.56,
           245661370719523.47,
           248602020446327.1,
           251595505271589.75,
           254641825195311.75,
           257740980217493.25,
           260892970338134.2,
           264097795557234.03,
           267355455874793.56,
           270665951290812.38,
           274029281805290.3,
           277445447418227.84,
           280914448129624.62,
           284436283939480.8,
           288010954847796.2,
           291638460854571.06,
           295318801959805.3,
           299051978163498.75,
           302837989465651.75,
           306676835866263.7,
           310568517365335.25,
           314513033962866.2,
           318510385658856.25,
           322560572453306,
           326663594346214.94,
           330819451337583.06,
           335028143427410.75,
           339289670615697.75,
           343604032902443.8,
           347971230287649.44,
           352391262771314.1,
           356864130353438.6,
           361389833034022.3,
           365968370813065.2,
           370599743690567.5,
           375283951666529.06,
           380020994740950.06,
           384810872913830.56,
           389653586185170,
           394549134554968.9,
           399497518023227.4,
           404498736589945.06,
           409552790255122.06,
           414659679018758.2,
           419819402880854.2,
           425031961841409.06,
           430297355900423.5,
           435615585057897.4,
           440986649313830.25,
           446410548668222.8,
           451887283121074.3,
           457416852672385.7,
           462999257322156.06,
           468634497070386,
           474322571917074.94,
           480063481862223.5,
           485857226905831.06,
           491703807047898.25,
           497603222288424.9,
           503555472627410.3,
           509560558064855.94,
           515618478600760.2,
           521729234235124.2,
           527892824967947.25,
           534109250799229.8,
           540378511728972,
           546700607757172.56,
           553075538883833.5,
           559503305108953.6,
           565983906432532.4,
           572517342854571,
           579103614375068.8,
           585742720994026.4,
           592434662711443.1,
           599179439527318.8,
           605977051441654,
           612827498454448.5,
           619730780565702.6,
           626686897775415.9,
           633695850083588.5,
           640757637490220.5,
           647872259995311.9,
           655039717598862.5,
           662260010300872.5
          ],
          [
           203983187518421.7,
           206037825450510.38,
           208145298481058.03,
           210305606610065.38,
           212518749837531.97,
           214784728163457.97,
           217103541587843.16,
           219475190110687.62,
           221899673731991.7,
           224376992451755.12,
           226907146269977.56,
           229490135186659.62,
           232125959201800.88,
           234814618315401.56,
           237556112527461.62,
           240350441837980.84,
           243197606246959.53,
           246097605754397.6,
           249050440360294.9,
           252056110064651.72,
           255114614867467.7,
           258225954768743,
           261390129768477.88,
           264607139866671.8,
           267876985063325.4,
           271199665358438.03,
           274575180752010.1,
           278003531244041.56,
           281484716834532.2,
           285018737523482.4,
           288605593310891.75,
           292245284196760.6,
           295937810181088.9,
           299683171263876.1,
           303481367445123.2,
           307332398724829,
           311236265102994.7,
           315192966579619.44,
           319202503154703.56,
           323264874828247.2,
           327380081600250.2,
           331548123470712.2,
           335769000439633.75,
           340042712507014.8,
           344369259672854.9,
           348748641937154.5,
           353180859299913.2,
           357665911761131.6,
           362203799320809.4,
           366794521978946.06,
           371438079735542.4,
           376134472590597.8,
           380883700544112.9,
           385685763596087.44,
           390540661746520.9,
           395448394995413.75,
           400408963342766,
           405422366788577.7,
           410488605332848.9,
           415607678975579.06,
           420779587716768.75,
           426004331556417.75,
           431281910494526.06,
           436612324531094,
           441995573666120.8,
           447431657899607.2,
           452920577231552.75,
           458462331661957.94,
           464056921190822.4,
           469704345818146.3,
           475404605543929.25,
           481157700368172,
           486963630290873.5,
           492822395312034.6,
           498733995431655.25,
           504698430649734.6,
           510715700966274.2,
           516785806381272.25,
           522908746894730.2,
           529084522506647.44,
           535313133217023.94,
           541594579025859.7,
           547928859933154.8,
           554315975938909.5,
           560755927043123.2,
           567248713245796.2,
           573794334546928.8,
           580392790946520.5,
           587044082444572.1,
           593748209041082.6,
           600505170736052.4,
           607314967529481.6,
           614177599421370.1,
           621093066411718.4,
           628061368500525.6,
           635082505687792.4,
           642156477973518,
           649283285357703.5,
           656462927840347.6,
           663695405421452
          ],
          [
           204215544581660.12,
           206282367392842.72,
           208402025302484.44,
           210574518310585.8,
           212799846417146.16,
           215078009622166.12,
           217409007925645.4,
           219792841327583.8,
           222229509827981.88,
           224719013426839.1,
           227261352124155.7,
           229856525919931.62,
           232504534814166.88,
           235205378806861.56,
           237959057898015.6,
           240765572087628.72,
           243624921375701.53,
           246537105762233.4,
           249502125247224.72,
           252519979830675.53,
           255590669512585.47,
           258714194292954.88,
           261890554171783.7,
           265119749149071.47,
           268401779224819,
           271736644399025.7,
           275124344671691.56,
           278564880042817.16,
           282058250512401.8,
           285604456080446,
           289203496746949.25,
           292855372511912,
           296560083375334.25,
           300317629337215.5,
           304128010397556.44,
           307991226556356.25,
           311907277813615.8,
           315876164169334.9,
           319897885623512.75,
           323972442176150.3,
           328099833827247.25,
           332280060576803.44,
           336513122424819.06,
           340799019371293.9,
           345137751416228.06,
           349529318559621.56,
           353973720801474.25,
           358470958141786.5,
           363021030580558.2,
           367623938117789.06,
           372279680753479.4,
           376988258487628.8,
           381749671320237.75,
           386563919251306.06,
           391431002280833.44,
           396350920408820.6,
           401323673635266.75,
           406349261960172.5,
           411427685383537.44,
           416558943905361.7,
           421743037525645.4,
           426979966244388.25,
           432269730061590.56,
           437612328977252.4,
           443007762991373.2,
           448456032103953.6,
           453957136314993.1,
           459511075624492.25,
           465117850032450.9,
           470777459538868.56,
           476489904143745.5,
           482255183847082.06,
           488073298648877.5,
           493944248549132.94,
           499868033547847.06,
           505844653645020.56,
           511874108840654.06,
           517956399134746.25,
           524091524527298.2,
           530279485018309.44,
           536520280607779.75,
           542813911295709.7,
           549160377082098.5,
           555559677966947.2,
           562011813950255.1,
           568516785032022.1,
           575074591212248.5,
           581685232490934.5,
           588348708868079.6,
           595065020343684.4,
           601834166917747.9,
           608656148590271.1,
           615530965361253.6,
           622458617230695.9,
           629439104198597,
           636472426264957.9,
           643558583429777.5,
           650697575693056.8,
           657889403054795.1,
           665134065514993.2
          ],
          [
           204451166617860.4,
           206530174308137,
           208662017096872.75,
           210846694984068.1,
           213084207969722.38,
           215374556053836.25,
           217717739236409.47,
           220113757517442,
           222562610896933.9,
           225064299374885.25,
           227618822951295.72,
           230226181626165.75,
           232886375399494.84,
           235599404271283.53,
           238365268241531.6,
           241183967310238.7,
           244055501477405.38,
           246979870743031.2,
           249957075107116.56,
           252987114569661.38,
           256069989130665.12,
           259205698790128.53,
           262394243548051.28,
           265635623404433.12,
           268929838359274.6,
           272276888412575.25,
           275676773564335.2,
           279129493814554.7,
           282635049163233.2,
           286193439610371.44,
           289804665155968.75,
           293468725800025.5,
           297185621542541.7,
           300955352383516.8,
           304777918322951.75,
           308653319360845.7,
           312581555497199.06,
           316562626732011.94,
           320596533065284,
           324683274497015.44,
           328822851027206.4,
           333015262655856.44,
           337260509382966.06,
           341558591208534.94,
           345909508132562.94,
           350313260155050.5,
           354769847275997.2,
           359279269495403.6,
           363841526813269.06,
           368456619229593.8,
           373124546744378.06,
           377845309357621.6,
           382618907069324.4,
           387445339879486.8,
           392324607788108.25,
           397256710795189.2,
           402241648900729.25,
           407279422104728.9,
           412370030407188.2,
           417513473808106.25,
           422709752307483.8,
           427958865905320.75,
           433260814601617.06,
           438615598396372.8,
           444023217289587.75,
           449483671281261.94,
           454996960371395.5,
           460563084559988.5,
           466182043847041.06,
           471853838232552.9,
           477578467716523.75,
           483355932298954.3,
           489186231979843.7,
           495069366759192.8,
           501005336637001.44,
           506994141613268.9,
           513035781687996.06,
           519130256861182.3,
           525277567132828.2,
           531477712502933.5,
           537730692971497.75,
           544036508538521.5,
           550395159204004.4,
           556806644967947.1,
           563270965830348.9,
           569788121791209.8,
           576358112850530.4,
           582980939008310.1,
           589656600264549.2,
           596385096619247.9,
           603166428072405.6,
           610000594624023,
           616887596274099,
           623827433022635.2,
           630820104869630.4,
           637865611815085.5,
           644963953858999,
           652115131001372.4,
           659319143242204.5,
           666575990581496.5
          ],
          [
           204690053627022.84,
           206781246196393.4,
           208925273864223.16,
           211122136630512.4,
           213371834495260.75,
           215674367458468.62,
           218029735520135.8,
           220437938680262.25,
           222898976938848.2,
           225412850295893.44,
           227979558751397.97,
           230599102305361.88,
           233271480957784.9,
           235996694708667.72,
           238774743558009.56,
           241605627505810.75,
           244489346552071.4,
           247425900696791.2,
           250415289939970.6,
           253457514281609.2,
           256552573721707,
           259700468260264.44,
           262901197897281.16,
           266154762632757,
           269461162466692.47,
           272820397399087,
           276232467429940.84,
           279697372559254.44,
           283215112787026.94,
           286785688113258.94,
           290409098537950.3,
           294085344061101,
           297814424682711.1,
           301596340402780.4,
           305431091221309.25,
           309318677138297.25,
           313259098153744.6,
           317252354267651.44,
           321298445480017.4,
           325397371790842.9,
           329549133200127.56,
           333753729707871.7,
           338011161314075.25,
           342321428018738.2,
           346684529821860.25,
           351100466723441.75,
           355569238723482.3,
           360090845821982.6,
           364665288018942.2,
           369292565314360.9,
           373972677708239.1,
           378705625200576.6,
           383491407791373.44,
           388330025480629.7,
           393221478268345.25,
           398165766154520.2,
           403162889139154.25,
           408212847222247.7,
           413315640403800.9,
           418471268683812.94,
           423679732062284.56,
           428941030539215.44,
           434255164114605.94,
           439622132788455.5,
           445041936560764.4,
           450514575431532.6,
           456040049400760,
           461618358468447.1,
           467249502634593.7,
           472933481899199.4,
           478670296262264.2,
           484459945723788.75,
           490302430283772.25,
           496197749942215.4,
           502145904699117.7,
           508146894554479.1,
           514200719508300.56,
           520307379560580.6,
           526466874711320.4,
           532679204960519.7,
           538944370308177.94,
           545262370754295.7,
           551633206298872.56,
           558056876941909.06,
           564533382683405.2,
           571062723523359.9,
           577644899461774.5,
           584279910498648,
           590967756633981.4,
           597708437867773.9,
           604501954200025.5,
           611348305630736.8,
           618247492159906.9,
           625199513787537.1,
           632204370513626.5,
           639262062338175,
           646372589261182.8,
           653535951282650.1,
           660752148402576.4,
           668021180620962.4
          ],
          [
           204932205609147.12,
           207035583057611.6,
           209191795604535.3,
           211400843249918.56,
           213662725993760.88,
           215977443836062.7,
           218344996776823.88,
           220765384816044.3,
           223238607953724.2,
           225764666189863.44,
           228343559524461.84,
           230975287957519.75,
           233659851489036.88,
           236397250119013.53,
           239187483847449.4,
           242030552674344.47,
           244926456599699.1,
           247875195623512.84,
           250876769745786.2,
           253931178966518.88,
           257038423285710.62,
           260198502703362,
           263411417219472.7,
           266677166834042.47,
           269995751547071.88,
           273367171358560.4,
           276791426268508.38,
           280268516276915.84,
           283798441383782.3,
           287381201589108.3,
           291016796892893.56,
           294705227295138.3,
           298446492795842.4,
           302240593395005.56,
           306087529092628.5,
           309987299888710.25,
           313939905783251.7,
           317945346776252.6,
           322003622867712.44,
           326114734057631.94,
           330278680346010.8,
           334495461732848.75,
           338765078218146.25,
           343087529801903.1,
           347462816484119.1,
           351890938264794.56,
           356371895143929.2,
           360905687121523.44,
           365492314197577.06,
           370131776372089.6,
           374824073645061.75,
           379569206016493.2,
           384367173486384.3,
           389217976054734.4,
           394121613721543.75,
           399078086486812.6,
           404087394350540.75,
           409149537312728.2,
           414264515373375.4,
           419432328532481.44,
           424652976790047.1,
           429926460146071.75,
           435252778600556.06,
           440631932153499.75,
           446063920804902.56,
           451548744554764.8,
           457086403403086.25,
           462676897349867.4,
           468320226395107.7,
           474016390538807.44,
           479765389780966.25,
           485567224121584.9,
           491421893560662.2,
           497329398098199.25,
           503289737734195.6,
           509302912468651.06,
           515368922301566.3,
           521487767232940.56,
           527659447262774.25,
           533883962391067.7,
           540161312617819.6,
           546491497943031.44,
           552874518366702.5,
           559310373888832.9,
           565799064509422.6,
           572340590228471.6,
           578934951045980,
           585582146961947.6,
           592282177976374.8,
           599035044089261.1,
           605840745300607,
           612699281610412.2,
           619610653018676.8,
           626574859525400.5,
           633591901130583.9,
           640661777834226.5,
           647784489636327.8,
           654960036536889.2,
           662188418535909.4,
           669469635633389.9
          ],
          [
           205177622564233.25,
           207293184891791.75,
           209461582317809.38,
           211682814842286.6,
           213956882465222.88,
           216283785186618.72,
           218663523006473.88,
           221096095924788.3,
           223581503941562.16,
           226119747056795.28,
           228710825270487.75,
           231354738582639.62,
           234051486993250.62,
           236801070502321.28,
           239603489109851.16,
           242458742815840.2,
           245366831620288.72,
           248327755523196.53,
           251341514524563.8,
           254408108624390.4,
           257527537822676.2,
           260699802119421.6,
           263924901514626.2,
           267202836008289.97,
           270533605600413.3,
           273917210290995.75,
           277353650080037.7,
           280842924967539.1,
           284385034953499.56,
           287979980037919.7,
           291627760220798.94,
           295328375502137.6,
           299081825881935.6,
           302888111360192.8,
           306747231936909.6,
           310659187612085.4,
           314623978385720.8,
           318641604257815.56,
           322712065228369.44,
           326835361297383,
           331011492464855.7,
           335240458730787.6,
           339522260095179.2,
           343856896558030,
           348244368119339.8,
           352684674779109.4,
           357177816537337.94,
           361723793394026,
           366322605349173.7,
           370974252402780.5,
           375678734554846.5,
           380436051805371.75,
           385246204154356.6,
           390109191601801.06,
           395025014147704.4,
           399993671792067.2,
           405015164534889.2,
           410089492376170.6,
           415216655315911.5,
           420396653354111.94,
           425629486490771.4,
           430915154725890.2,
           436253658059468.3,
           441644996491506.06,
           447089170022002.8,
           452586178650958.94,
           458136022378374.5,
           463738701204249.4,
           469394215128583.94,
           475102564151377.5,
           480863748272630.3,
           486677767492342.75,
           492544621810514.2,
           498464311227145.4,
           504436835742235.44,
           510462195355784.9,
           516540390067794.3,
           522671419878262.2,
           528855284787190.2,
           535091984794577.06,
           541381519900423.4,
           547723890104729.25,
           554119095407493.94,
           560567135808718.56,
           567068011308402.1,
           573621721906545,
           580228267603147.5,
           586887648398209,
           593599864291730.2,
           600364915283710.8,
           607182801374150.5,
           614053522563049.6,
           620977078850407.8,
           627953470236225.6,
           634982696720503,
           642064758303239.9,
           649199654984435,
           656387386764090.6,
           663627953642204.6,
           670921355618778.8
          ],
          [
           205426304492281.4,
           207554051698933.88,
           209734634004045.44,
           211968051407616.56,
           214254303909647,
           216593391510136.72,
           218985314209085.72,
           221430072006494.16,
           223927664902362,
           226478092896689.16,
           229081355989475.53,
           231737454180721.3,
           234446387470426.44,
           237208155858591,
           240022759345214.8,
           242890197930297.75,
           245810471613840.4,
           248783580395842.1,
           251809524276303.38,
           254888303255223.97,
           258019917332603.72,
           261204366508442.97,
           264441650782741.72,
           267731770155499.4,
           271074724626716.62,
           274470514196393.16,
           277919138864529,
           281420598631124.4,
           284974893496178.8,
           288582023459692.9,
           292241988521666.06,
           295954788682098.7,
           299720423940990.8,
           303538894298341.9,
           307410199754152.6,
           311334340308422.44,
           315311315961151.8,
           319341126712340.5,
           323423772561988.44,
           327559253510095.9,
           331747569556662.5,
           335988720701688.6,
           340282706945173.94,
           344629528287118.7,
           349029184727522.6,
           353481676266385.94,
           357987002903708.6,
           362545164639490.75,
           367156161473732.3,
           371819993406432.9,
           376536660437593.06,
           381306162567212.3,
           386128499795291.1,
           391003672121829.44,
           395931679546826.8,
           400912522070283.44,
           405946199692199.6,
           411032712412575.2,
           416172060231410,
           421364243148704.06,
           426609261164457.6,
           431907114278670.56,
           437257802491342.56,
           442661325802474.2,
           448117684212065.06,
           453626877720115.2,
           459188906326624.6,
           464803770031593.44,
           470471468835021.75,
           476192002736909.5,
           481965371737256.3,
           487791575836062.6,
           493670615033327.94,
           499602489329053.1,
           505587198723237.4,
           511624743215880.75,
           517715122806984,
           523858337496545.94,
           530054387284567.7,
           536303272171048.8,
           542604992155988.9,
           548959547239388.9,
           555366937421247.6,
           561827162701565.94,
           568340223080344.1,
           574906118557580.8,
           581524849133277,
           588196414807432.6,
           594920815580048,
           601698051451122.2,
           608528122420656,
           615411028488649.2,
           622346769655101.5,
           629335345920013.1,
           636376757283384.4,
           643471003745214.8,
           650618085305503.9,
           657818001964253.6,
           665070753721461.6,
           672376340577129.9
          ],
          [
           205678251393291.7,
           207818183479038.03,
           210010950663243.62,
           212256552945908.8,
           214554990327033.03,
           216906262806616.84,
           219310370384659.84,
           221767313061162.2,
           224277090836124,
           226839703709545.16,
           229455151681425.53,
           232123434751765.25,
           234844552920564.3,
           237618506187822.9,
           240445294553540.7,
           243324918017717.7,
           246257376580354.16,
           249242670241449.88,
           252280799001005.16,
           255371762859019.72,
           258515561815493.47,
           261712195870426.56,
           264961665023819.38,
           268263969275670.97,
           271619108625982.28,
           275027083074752.75,
           278487892621982.53,
           282001537267671.94,
           285568017011820.4,
           289187331854428.3,
           292859481795495.4,
           296584466835022.2,
           300362286973008.06,
           304192942209453.2,
           308076432544357.94,
           312012757977721.7,
           316001918509545.06,
           320043914139827.6,
           324138744868569.5,
           328286410695770.94,
           332486911621431.7,
           336740247645551.56,
           341046418768131,
           345405424989169.75,
           349817266308667.7,
           354281942726625.06,
           358799454243041.56,
           363369800857917.7,
           367992982571253.25,
           372668999383047.75,
           377397851293301.94,
           382179538302015.2,
           387014060409188,
           391901417614820.3,
           396841609918911.5,
           401834637321462.2,
           406880499822472.2,
           411979197421941.75,
           417130730119870.75,
           422335097916258.75,
           427592300811106.2,
           432902338804413.06,
           438265211896179.1,
           443680920086404.75,
           449149463375089.25,
           454670841762233.25,
           460245055247836.94,
           465872103831899.94,
           471551987514422.25,
           477284706295403.94,
           483070260174844.56,
           488908649152744.9,
           494799873229104.3,
           500743932403923.25,
           506740826677201.6,
           512790556048938.9,
           518893120519136.2,
           525048520087792,
           531256754754907.75,
           537517824520482.94,
           543831729384517.1,
           550198469347010.75,
           556618044407963.44,
           563090454567375.9,
           569615699825247.8,
           576193780181578.6,
           582824695636368.8,
           589508446189618.4,
           596245031841327.6,
           603034452591496,
           609876708440123.5,
           616771799387210.8,
           623719725432756.8,
           630720486576762.6,
           637774082819227.8,
           644880514160152.4,
           652039780599536,
           659251882137379.1,
           666516818773681.2,
           673834590508443.2
          ],
          [
           205933463267263.62,
           208085580232104.03,
           210290532295403.6,
           212548319457162.6,
           214858941717380.84,
           217222399076058.6,
           219638691533195.72,
           222107819088791.9,
           224629781742847.7,
           227204579495362.84,
           229832212346337.2,
           232512680295770.97,
           235245983343663.88,
           238032121490016.44,
           240871094734828.16,
           243762903078099.12,
           246707546519829.75,
           249705025060019.38,
           252755338698668.56,
           255858487435777,
           259014471271344.8,
           262223290205372.03,
           265484944237858.56,
           268799433368804.3,
           272166757598209.47,
           275586916926073.9,
           279059911352397.7,
           282585740877181,
           286164405500423.4,
           289795905222125.4,
           293480240042286.5,
           297217409960907.2,
           301007414977987.1,
           304850255093526.2,
           308745930307524.94,
           312694440619982.56,
           316695786030899.9,
           320749966540276.6,
           324856982148112.4,
           329016832854407.8,
           333229518659162.5,
           337495039562376.3,
           341813395564049.75,
           346184586664182.5,
           350608612862774.3,
           355085474159825.5,
           359615170555336.2,
           364197702049306.25,
           368833068641735.75,
           373521270332624.25,
           378262307121972.4,
           383056179009779.6,
           387902885996046.5,
           392802428080772.4,
           397754805263957.8,
           402760017545602.56,
           407818064925706.5,
           412928947404270,
           418092664981292.9,
           423309217656774.94,
           428578605430716.5,
           433900828303117.06,
           439275886273977.2,
           444703779343296.75,
           450184507511075.44,
           455718070777313.5,
           461304469142010.94,
           466943702605167.94,
           472635771166783.94,
           478380674826859.6,
           484178413585394.4,
           490028987442388.9,
           495932396397842,
           501888640451754.9,
           507897719604127.25,
           513959633854958.75,
           520074383204249.8,
           526241967651999.7,
           532462387198209.4,
           538735641842878.6,
           545061731586006.6,
           551440656427594.06,
           557872416367641.06,
           564357011406147.2,
           570894441543113.1,
           577484706778537.8,
           584127807112422.1,
           590823742544765.6,
           597572513075568.9,
           604374118704831.2,
           611228559432552.5,
           618135835258734,
           625095946183374.1,
           632108892206474,
           639174673328033,
           646293289548051.2,
           653464740866528.9,
           660689027283466.1,
           667966148798862.2,
           675296105412718.2
          ],
          [
           206191940114197.44,
           208356241958131.9,
           210573378900525.53,
           212843350941378.56,
           215166158080690.75,
           217541800318462.44,
           219970277654693.4,
           222451590089383.72,
           224985737622533.44,
           227572720254142.56,
           230212537984210.84,
           232905190812738.47,
           235650678739725.56,
           238449001765172.1,
           241300159889077.88,
           244204153111442.6,
           247160981432267.16,
           250170644851550.75,
           253233143369293.97,
           256348476985496.47,
           259516645700158.12,
           262737649513279.3,
           266011488424859.84,
           269338162434899.44,
           272717671543398.75,
           276150015750357.1,
           279635195055774.97,
           283173209459652.2,
           286764058961988.56,
           290407743562784.4,
           294104263262039.5,
           297853618059754.2,
           301655807955928.06,
           305510832950561.06,
           309418693043653.8,
           313379388235205.6,
           317392918525216.75,
           321459283913687.4,
           325578484400617.2,
           329750519986006.44,
           333975390669855.25,
           338253096452163.06,
           342583637332930.4,
           346967013312156.94,
           351403224389842.9,
           355892270565988.25,
           360434151840592.75,
           365028868213656.8,
           369676419685180.06,
           374376806255162.75,
           379130027923604.8,
           383936084690506,
           388794976555866.75,
           393706703519686.9,
           398671265581966.06,
           403688662742704.8,
           408758895001902.75,
           413881962359560.25,
           419057864815677.1,
           424286602370252.94,
           429568175023288.3,
           434902582774783.06,
           440289825624737.44,
           445729903573150.8,
           451222816620023.4,
           456768564765355.4,
           462367148009146.8,
           468018566351397.6,
           473722819792108,
           479479908331277.44,
           485289831968906.2,
           491152590704994.6,
           497068184539541.7,
           503036613472548.8,
           509057877504014.94,
           515131976633940.2,
           521258910862325.4,
           527438680189169.2,
           533671284614473.06,
           539956724138235.8,
           546294998760458.06,
           552686108481139.6,
           559130053300280.3,
           565626833217880.6,
           572176448233940.5,
           578778898348459.1,
           585434183561437.6,
           592142303872874.9,
           598903259282772.4,
           605717049791128.4,
           612583675397944,
           619503136103219,
           626475431906952.9,
           633500562809147.2,
           640578528809800.1,
           647709329908912.4,
           654892966106483.9,
           662129437402515.1,
           669418743797005.2,
           676760885289954.8
          ],
          [
           206453681934093.38,
           208630168657121.75,
           210859490478609.28,
           213141647398556.28,
           215476639416962.44,
           217864466533828.16,
           220305128749153.1,
           222798626062937.38,
           225344958475181.12,
           227944125985884.1,
           230596128595046.3,
           233300966302668.12,
           236058639108749.1,
           238869147013289.47,
           241732490016289.28,
           244648668117748.1,
           247617681317666.53,
           250639529616044.12,
           253714213012881.25,
           256841731508177.7,
           260022085101933.44,
           263255273794148.47,
           266541297584823.03,
           269880156473956.7,
           273271850461549.9,
           276716379547602.25,
           280213743732113.97,
           283763943015085.25,
           287366977396515.56,
           291022846876405.44,
           294731551454754.56,
           298493091131563.06,
           302307465906831.06,
           306174675780557.94,
           310094720752744.7,
           314067600823390.25,
           318093315992495.6,
           322171866260060.25,
           326303251626083.94,
           330487472090567.3,
           334724527653509.8,
           339014418314911.6,
           343357144074772.8,
           347752704933093.6,
           352201100889873.44,
           356702331945112.8,
           361256398098811.2,
           365863299350969.25,
           370523035701586.56,
           375235607150662.94,
           380001013698199.1,
           384819255344194.2,
           389690332088649.06,
           394614243931563.25,
           399590990872936.3,
           404620572912768.9,
           409702990051060.9,
           414838242287812.3,
           420026329623023.06,
           425267252056693.1,
           430561009588822.5,
           435907602219411.06,
           441307029948459.2,
           446759292775966.75,
           452264390701933.25,
           457822323726359.44,
           463433091849244.75,
           469096695070589.5,
           474813133390393.75,
           480582406808657.44,
           486404515325379.8,
           492279458940562.2,
           498207237654203.44,
           504187851466304.5,
           510221300376864.56,
           516307584385883.94,
           522446703493363.1,
           528638657699300.6,
           534883447003698.56,
           541181071406555.5,
           547531530907871.5,
           553934825507647.1,
           560390955205881.6,
           566899920002576.1,
           573461719897729.9,
           580076354891342.5,
           586743824983414.8,
           593464130173946.1,
           600237270462937.2,
           607063245850387.6,
           613942056336297,
           620873701920666.1,
           627858182603493.9,
           634895498384782.2,
           641985649264529.2,
           649128635242735.4,
           656324456319400.9,
           663573112494526.4,
           670874603768110.1,
           678228930140153.9
          ],
          [
           206718688726951.44,
           208907360329073.75,
           211148867029655.25,
           213443208828696.28,
           215790385726196.4,
           218190397722156.1,
           220643244816574.97,
           223148927009453.2,
           225707444300790.84,
           228318796690587.75,
           230982984178844.16,
           233700006765559.8,
           236469864450734.72,
           239292557234369.2,
           242168085116462.84,
           245096448097015.7,
           248077646176028.1,
           251111679353499.7,
           254198547629430.75,
           257338251003821.2,
           260530789476670.8,
           263776163047979.97,
           267074371717748.44,
           270425415485976.03,
           273829294352663.28,
           277286008317809.47,
           280795557381415.2,
           284357941543480.4,
           287973160804004.7,
           291641215162988.56,
           295362104620431.7,
           299135829176334.1,
           302962388830696.06,
           306841783583517.06,
           310774013434797.7,
           314759078384537.3,
           318796978432736.5,
           322887713579395.25,
           327031283824512.8,
           331227689168090.06,
           335476929610126.8,
           339779005150622.4,
           344133915789577.75,
           348541661526992.44,
           353002242362866.25,
           357515658297199.4,
           362081909329991.75,
           366700995461243.94,
           371372916690955.4,
           376097673019125.7,
           380875264445755.75,
           385705690970844.8,
           390588952594393.5,
           395525049316401.7,
           400513981136868.8,
           405555748055795.44,
           410650350073181.25,
           415797787189026.75,
           420998059403331.5,
           426251166716095.44,
           431557109127318.75,
           436915886637001.4,
           442327499245143.4,
           447791946951744.94,
           453309229756805.6,
           458879347660325.5,
           464502300662304.8,
           470178088762743.7,
           475906711961641.75,
           481688170258999.25,
           487522463654816,
           493409592149092.06,
           499349555741827.5,
           505342354433022.5,
           511387988222676.4,
           517486457110789.8,
           523637761097362.8,
           529841900182394.6,
           536098874365886.2,
           542408683647837.25,
           548771328028247.1,
           555186807507116.75,
           561655122084445.5,
           568176271760233.9,
           574750256534481.5,
           581377076407188,
           588056731378354.4,
           594789221447979.6,
           601574546616064.8,
           608412706882609,
           615303702247612.4,
           622247532711075.6,
           629244198272997.6,
           636293698933379.4,
           643396034692220.4,
           650551205549520.9,
           657759211505280.4,
           665020052559499.4,
           672333728712177.5,
           679700239963315
          ],
          [
           206986960492771.2,
           209187816973987.47,
           211441508553662.97,
           213748035231797.9,
           216107397008392,
           218519593883445.62,
           220984625856958.53,
           223502492928930.7,
           226073195099362.4,
           228696732368253.4,
           231373104735603.56,
           234102312201413.2,
           236884354765682.12,
           239719232428410.44,
           242606945189598.2,
           245547493049245.03,
           248540876007351.3,
           251587094063916.84,
           254686147218941.97,
           257838035472426.4,
           261042758824370,
           264300317274773.03,
           267610710823635.56,
           270973939470957.16,
           274390003216738.28,
           277858902060978.47,
           281380636003678.16,
           284955205044837.5,
           288582609184455.6,
           292262848422533.5,
           295995922759070.44,
           299781832194067,
           303620576727522.9,
           307512156359437.75,
           311456571089812.4,
           315453820918646,
           319503905845939.3,
           323606825871691.75,
           327762580995903.4,
           331971171218574.75,
           336232596539705.25,
           340546856959295.06,
           344913952477344.25,
           349333883093852.75,
           353806648808820.75,
           358332249622247.8,
           362910685534134.2,
           367541956544480.2,
           372226062653285.5,
           376963003860549.94,
           381752780166273.8,
           386595391570457.06,
           391490838073099.8,
           396439119674201.94,
           401440236373762.94,
           406494188171783.6,
           411600975068263.4,
           416760597063202.8,
           421973054156601.5,
           427238346348459.25,
           432556473638776.75,
           437927436027553.4,
           443351233514789.44,
           448827866100484.94,
           454357333784639.44,
           459939636567253.4,
           465574774448326.75,
           471262747427859.2,
           477003555505851.6,
           482797198682303.2,
           488643676957213.7,
           494542990330583.94,
           500495138802412.9,
           506500122372701.94,
           512557941041450,
           518668594808657.44,
           524832083674324.3,
           531048407638450,
           537317566701035.7,
           543639560862080.75,
           550014390121584.56,
           556442054479548.3,
           562922553935970.75,
           569455888490853.2,
           576042058144194.6,
           582681062895995.2,
           589372902746255.6,
           596117577694974.8,
           602915087742153.9,
           609765432887792.2,
           616668613131889.5,
           623624628474446.5,
           630633478915462.5,
           637695164454938.4,
           644809685092873.4,
           651977040829267.8,
           659197231664121,
           666470257597434.2,
           673796118629206.1,
           681174814759437.9
          ],
          [
           207258497231552.9,
           209471538591863.2,
           211737415050632.6,
           214056126607861.53,
           216427673263549.62,
           218852055017697.25,
           221329271870304.12,
           223859323821370.2,
           226442210870895.8,
           229077933018880.88,
           231766490265324.97,
           234507882610228.6,
           237302110053591.47,
           240149172595413.88,
           243049070235695.4,
           246001802974436.28,
           249007370811636.56,
           252065773747296.16,
           255177011781415.25,
           258341084913993.47,
           261557993145031.03,
           264827736474528.12,
           268150314902484.53,
           271525728428900.1,
           274953977053775.16,
           278435060777109.47,
           281968979598903.2,
           285555733519156.3,
           289195322537868.6,
           292887746655040.25,
           296633005870671.4,
           300431100184761.75,
           304282029597311.5,
           308185794108320.56,
           312142393717789.06,
           316151828425716.75,
           320214098232103.75,
           324329203136950.44,
           328497143140255.94,
           332717918242021.25,
           336991528442245.75,
           341317973740929.44,
           345697254138072.75,
           350129369633675.3,
           354614320227737.06,
           359152105920258.1,
           363742726711238.56,
           368386182600678.56,
           373082473588577.8,
           377831599674936.25,
           382633560859754.25,
           387488357143031.2,
           392395988524767.8,
           397356455004963.94,
           402369756583619.06,
           407435893260733.6,
           412554865036307.4,
           417726671910340.75,
           422951313882833.5,
           428228790953785.4,
           433559103123196.75,
           438942250391067.1,
           444378232757397.2,
           449867050222186.56,
           455408702785435.1,
           461003190447143.06,
           466650513207310.4,
           472350671065936.8,
           478103664023023.2,
           483909492078568.6,
           489768155232573.25,
           495679653485037.25,
           501643986835960.5,
           507661155285343.5,
           513731158833185.4,
           519853997479486.6,
           526029671224247.5,
           532258180067467.5,
           538539524009147.06,
           544873703049285.8,
           551260717187883.94,
           557700566424941.25,
           564193250760457.9,
           570738770194434.1,
           577337124726869.8,
           583988314357764.4,
           590692339087118.8,
           597449198914931.9,
           604258893841204.8,
           611121423865937,
           618036788989128.5,
           625004989210779.5,
           632026024530889.5,
           639099894949459.1,
           646226600466488.1,
           653406141081976.5,
           660638516795923.6,
           667923727608330.8,
           675261773519196.6,
           682652654528522.8
          ],
          [
           207533298943296.6,
           209758525182700.84,
           212036586520564.2,
           214367482956887.16,
           216751214491669.16,
           219187781124910.72,
           221677182856611.56,
           224219419686771.62,
           226814491615391.25,
           229462398642470.2,
           232163140768008.3,
           234916717992005.9,
           237723130314462.72,
           240582377735379,
           243494460254754.75,
           246459377872589.4,
           249477130588883.75,
           252547718403637.25,
           255671141316850.25,
           258847399328522.56,
           262076492438654.16,
           265358420647245.16,
           268693183954295.7,
           272080782359805.1,
           275521215863774.03,
           279014484466202.38,
           282560588167090,
           286159526966437.2,
           289811300864243.25,
           293515909860509.1,
           297273353955234.06,
           301083633148418.44,
           304946747440062.4,
           308862696830165.2,
           312831481318727.75,
           316853100905749.2,
           320927555591230.3,
           325054845375170.9,
           329234970257570.4,
           333467930238429.6,
           337753725317748.1,
           342092355495525.8,
           346483820771763.06,
           350928121146459.6,
           355425256619615.4,
           359975227191230.44,
           364578032861304.94,
           369233673629838.75,
           373942149496832.06,
           378703460462284.3,
           383517606526196.06,
           388384587688567.1,
           393304403949397.8,
           398277055308687.8,
           403302541766436.94,
           408380863322645.6,
           413512019977313.25,
           418696011730440.75,
           423932838582027.25,
           429222500532073.2,
           434564997580578.4,
           439960329727542.9,
           445408496972966.9,
           450909499316850.3,
           456463336759192.8,
           462070009299994.75,
           467729516939255.8,
           473441859676976.75,
           479207037513156.56,
           485025050447796.06,
           490895898480894.8,
           496819581612452.94,
           502796099842469.94,
           508825453170946.8,
           514907641597882.8,
           521042665123278.06,
           527230523747132.94,
           533471217469446.6,
           539764746290220.2,
           546111110209453.1,
           552510309227145.06,
           558962343343296.5,
           565467212557907.1,
           572024916870977.2,
           578635456282506.9,
           585298830792495,
           592015040400943.5,
           598784085107850.8,
           605605964913218.1,
           612480679817044.1,
           619408229819329.5,
           626388614920074.2,
           633421835119278.2,
           640507890416942,
           647646780813064.9,
           654838506307647.2,
           662083066900688.5,
           669380462592189.6,
           676730693382149.2,
           684133759270569.2
          ],
          [
           207811365628002.4,
           210048776746500.56,
           212339022963457.97,
           214682104278874.8,
           217078020692750.84,
           219526772205086.4,
           222028358815881.12,
           224582780525135.25,
           227190037332848.84,
           229850129239021.7,
           232563056243653.8,
           235328818346745.44,
           238147415548296.16,
           241018847848306.47,
           243943115246776,
           246920217743704.8,
           249950155339093.1,
           253032928032940.47,
           256168535825247.56,
           259356978716013.9,
           262598256705239.38,
           265892369792924.28,
           269239317979068.7,
           272639101263672.12,
           276091719646735.28,
           279597173128257.47,
           283155461708239,
           286766585386680.06,
           290430544163580.3,
           294147338038940.06,
           297916967012759,
           301739431085037.4,
           305614730255775.1,
           309542864524972.06,
           313523833892628.5,
           317557638358744.06,
           321644277923319.1,
           325783752586353.6,
           329976062347847.2,
           334221207207800.25,
           338519187166212.94,
           342870002223084.56,
           347273652378415.75,
           351730137632206.1,
           356239457984455.9,
           360801613435164.9,
           365416603984333.2,
           370084429631961.25,
           374805090378048.5,
           379578586222594.75,
           384404917165600.75,
           389284083207065.6,
           394216084346990.3,
           399200920585374.2,
           404238591922217.1,
           409329098357519.8,
           414472439891281.5,
           419668616523502.75,
           424917628254183.44,
           430219475083323.2,
           435574157010922.6,
           440981674036980.94,
           446442026161499.06,
           451955213384476.4,
           457521235705912.8,
           463140093125808.6,
           468811785644163.94,
           474536313260978.6,
           480313675976252.6,
           486143873789985.94,
           492026906702178.4,
           497962774712830.5,
           503951477821941.8,
           509993016029512.56,
           516087389335542.6,
           522234597740031.7,
           528434641242980.56,
           534687519844388.3,
           540993233544255.94,
           547351782342582.75,
           553763166239368.56,
           560227385234614.2,
           566744439328318.5,
           573314328520482.8,
           579937052811106.6,
           586612612200188.8,
           593341006687730.9,
           600122236273732.4,
           606956300958193.2,
           613843200741113.6,
           620782935622492.5,
           627775505602331.5,
           634820910680629.4,
           641919150857387.1,
           649070226132604,
           656274136506280.4,
           663530881978415.4,
           670840462549010.6,
           678202878218064.5,
           685618128985578.2
          ],
          [
           208092697285669.88,
           210342293283262.03,
           212644724379313.44,
           214999990573824.25,
           217408091866794.2,
           219869028258223.75,
           222382799748112.44,
           224949406336460.6,
           227568848023268.12,
           230241124808534.97,
           232966236692261.03,
           235744183674446.56,
           238574965755091.4,
           241458582934195.6,
           244395035211759.1,
           247384322587781.88,
           250426445062264.03,
           253521402635205.56,
           256669195306606.53,
           259869823076466.75,
           263123285944786.3,
           266429583911565.28,
           269788716976803.56,
           273200685140501,
           276665488402658,
           280183126763274.2,
           283753600222349.75,
           287376908779884.75,
           291053052435878.94,
           294782031190332.7,
           298563845043245.56,
           302398493994617.94,
           306285978044449.75,
           310226297192740.6,
           314219451439490.94,
           318265440784700.5,
           322364265228369.5,
           326515924770498,
           330720419411085.5,
           334977749150132.75,
           339287913987639.2,
           343650913923604.75,
           348066748958029.9,
           352535419090914.4,
           357056924322258.06,
           361631264652061.1,
           366258440080323.5,
           370938450607045.25,
           375671296232226.56,
           380456976955866.9,
           385295492777966.56,
           390186843698525.6,
           395131029717544.2,
           400128050835022.2,
           405177907050959.1,
           410280598365355.75,
           415436124778211.4,
           420644486289526.56,
           425905682899301.25,
           431219714607534.9,
           436586581414228.3,
           442006283319380.5,
           447478820322992.56,
           453004192425064,
           458582399625594.3,
           464213441924584.25,
           469897319322033.4,
           475634031817942,
           481423579412310,
           487265962105137.44,
           493161179896423.94,
           499109232786170.06,
           505110120774375.2,
           511163843861039.75,
           517270402046163.8,
           523429795329746.9,
           529642023711789.75,
           535907087192291.2,
           542224985771252.94,
           548595719448673.5,
           555019288224553.7,
           561495692098893.1,
           568024931071691.6,
           574607005142949.9,
           581241914312667.2,
           587929658580843.6,
           594670237947479.9,
           601463652412575.1,
           608309901976129.9,
           615208986638144.4,
           622160906398617.2,
           629165661257549.9,
           636223251214942.1,
           643333676270793.8,
           650496936425104.4,
           657713031677875,
           664981962029104.1,
           672303727478793.5,
           679678328026941.1,
           687105763673549
          ],
          [
           208377293916299.4,
           210639074792985.6,
           212953690768130.8,
           215321141841735.6,
           217741428013799.7,
           220214549284323.1,
           222740505653305.8,
           225319297120747.9,
           227950923686649.3,
           230635385351010.2,
           233372682113830.25,
           236162813975109.75,
           239005780934848.47,
           241901582993046.7,
           244850220149704.2,
           247851692404820.97,
           250905999758397.12,
           254013142210432.53,
           257173119760927.53,
           260385932409881.62,
           263651580157295.16,
           266970063003168,
           270341380947500.53,
           273765533990291.75,
           277242522131542.8,
           280772345371252.9,
           284355003709422.5,
           287990497146051.56,
           291678825681139.56,
           295419989314687.4,
           299213988046694.1,
           303060821877160.4,
           306960490806086.2,
           310912994833471.06,
           314918333959315.44,
           318976508183618.94,
           323087517506381.8,
           327251361927604.44,
           331468041447285.94,
           335737556065427.06,
           340059905782027.4,
           344435090597087.06,
           348863110510606.2,
           353343965522584.6,
           357877655633022.2,
           362464180841919.2,
           367103541149275.5,
           371795736555091.4,
           376540767059366.5,
           381338632662100.8,
           386189333363294.75,
           391092869162947.5,
           396049240061060.06,
           401058446057632,
           406120487152663.06,
           411235363346153.44,
           416403074638103.2,
           421623621028512.3,
           426897002517380.9,
           432223219104708.6,
           437602270790495.8,
           443034157574742.3,
           448518879457448.06,
           454056436438613.5,
           459646828518237.94,
           465290055696321.6,
           470986117972864.75,
           476735015347867.4,
           482536747821329.5,
           488391315393250.75,
           494298718063631.1,
           500258955832471.4,
           506272028699770.2,
           512337936665529.06,
           518456679729747.06,
           524628257892424.06,
           530852671153560.94,
           537129919513156.56,
           543460002971212.06,
           549842921527726.9,
           556278675182700.6,
           562767263936133.94,
           569308687788026.5,
           575902946738378.6,
           582550040787190.4,
           589249969934460.5,
           596002734180190.6,
           602808333524379.8,
           609666767967028.9,
           616578037508136.9,
           623542142147704,
           630559081885731,
           637628856722216.8,
           644751466657162.6,
           651926911690567.4,
           659155191822431.9,
           666436307052754.5,
           673770257381537.8,
           681157042808779.5,
           688596663334481.2
          ],
          [
           208665155519890.75,
           210939121275670.88,
           213265922129910.2,
           215645558082608.97,
           218078029133766.88,
           220563335283384.3,
           223101476531461.03,
           225692452877997.1,
           228336264322992.56,
           231032910866447.3,
           233782392508361.38,
           236584709248734.84,
           239439861087567.56,
           242347848024859.75,
           245308670060611.3,
           248322327194821.75,
           251388819427492,
           254508146758621.44,
           257680309188210.28,
           260905306716258.56,
           264183139342765.97,
           267513807067732.75,
           270897309891159.16,
           274333647813044.47,
           277822820833389.53,
           281364828952193.6,
           284959672169457.06,
           288607350485180.2,
           292307863899362.2,
           296061212412003.8,
           299867396023104.75,
           303726414732664.94,
           307638268540684.7,
           311602957447163.44,
           315620481452101.75,
           319690840555499.25,
           323814034757356.25,
           327990064057672.6,
           332218928456448.1,
           336500627953683.25,
           340835162549377.7,
           345222532243531.06,
           349662737036144.25,
           354155776927216.7,
           358701651916748.25,
           363300362004739.4,
           367951907191189.44,
           372656287476099.2,
           377413502859468.5,
           382223553341296.6,
           387086438921584.3,
           392002159600331.4,
           396970715377537.94,
           401992106253203.8,
           407066332227328.56,
           412193393299913.1,
           417373289470956.8,
           422606020740459.94,
           427891587108422.6,
           433229988574844.3,
           438621225139725.44,
           444065296803065.7,
           449562203564865.6,
           455111945425125.06,
           460714522383843.25,
           466369934441021.25,
           472078181596658.06,
           477839263850754.8,
           483653181203310.8,
           489519933654326.25,
           495439521203800.5,
           501411943851734.56,
           507437201598127.4,
           513515294442980.25,
           519646222386292.2,
           525829985428063.2,
           532066583568293.94,
           538356016806983.7,
           544698285144133.2,
           551093388579742,
           557541327113809.7,
           564042100746337,
           570595709477323.4,
           577202153306769.4,
           583861432234675,
           590573546261039.4,
           597338495385863.4,
           604156279609146.8,
           611026898930889.5,
           617950353351091.6,
           624926642869752.5,
           631955767486873.5,
           639037727202453.5,
           646172522016493,
           653360151928991.8,
           660600616939949.9,
           667893917049367.2,
           675240052257244.1,
           682639022563579.9,
           690090827968375.6
          ],
          [
           208956282096444.38,
           211242432731318.4,
           213581418464651.6,
           215973239296444.44,
           218417895226696.3,
           220915386255407.7,
           223465712382578.4,
           226068873608208.38,
           228724869932297.88,
           231433701354846.6,
           234195367875854.6,
           237009869495322.1,
           239877206213248.75,
           242797378029635,
           245770384944480.38,
           248796226957785,
           251874904069549.16,
           255006416279772.56,
           258190763588455.28,
           261427945995597.56,
           264717963501198.97,
           268060816105259.8,
           271456503807780.1,
           274905026608759.4,
           278406384508198.4,
           281960577506096.4,
           285567605602453.94,
           289227468797270.94,
           292940167090547.06,
           296705700482282.6,
           300524068972477.4,
           304395272561131.6,
           308319311248245.2,
           312296185033818.1,
           316325893917850.44,
           320408437900341.8,
           324543816981292.8,
           328732031160703.25,
           332973080438572.6,
           337266964814901.75,
           341613684289690.1,
           346013238862937.6,
           350465628534644.75,
           354970853304811.1,
           359528913173436.56,
           364139808140521.44,
           368803538206065.7,
           373520103370069.5,
           378289503632532.6,
           383111738993454.9,
           387986809452836.75,
           392914715010677.5,
           397895455666977.94,
           402929031421737.8,
           408015442274956.75,
           413154688226635.2,
           418346769276772.8,
           423591685425369.8,
           428889436672426.56,
           434240023017942.25,
           439643444461917.4,
           445099701004351.5,
           450608792645245.6,
           456170719384598.8,
           461785481222411.1,
           467453078158682.8,
           473173510193413.94,
           478946777326604.4,
           484772879558254.5,
           490651816888363.7,
           496583589316932.06,
           502568196843960.2,
           508605639469447.1,
           514695917193393.94,
           520839030015799.7,
           527034977936664.75,
           533283760955989.5,
           539585379073772.94,
           545939832290016.5,
           552347120604719.1,
           558807244017880.9,
           565320202529502.2,
           571885996139582.8,
           578504624848122.9,
           585176088655122.4,
           591900387560580.5,
           598677521564498.5,
           605507490666875.9,
           612390294867712.6,
           619325934167009,
           626314408564764,
           633355718060978.5,
           640449862655652.5,
           647596842348786.1,
           654796657140378.9,
           662049307030431,
           669354792018941.8,
           676713112105913,
           684124267291342.5,
           691588257575232.5
          ],
          [
           209250673645959.72,
           211549009159927.72,
           213900179772354.88,
           216304185483241.7,
           218761026292587.4,
           221270702200392.84,
           223833213206657.53,
           226448559311381.47,
           229116740514564.9,
           231837756816207.7,
           234611608216309.6,
           237438294714871.03,
           240317816311891.7,
           243250173007371.84,
           246235364801311.25,
           249273391693709.8,
           252364253684568,
           255507950773885.28,
           258704482961662.12,
           261953850247898.25,
           265256052632593.6,
           268611090115748.56,
           272018962697362.72,
           275479670377436.03,
           278993213155968.88,
           282559591032960.94,
           286178804008412.44,
           289850852082323.44,
           293575735254693.44,
           297353453525523.06,
           301184006894811.75,
           305067395362560.06,
           309003618928767.7,
           312992677593434.3,
           317034571356560.6,
           321129300218146.06,
           325276864178190.94,
           329477263236695.3,
           333730497393658.75,
           338036566649081.8,
           342395471002964.2,
           346807210455305.7,
           351271785006106.7,
           355789194655367,
           360359439403086.6,
           364982519249265.44,
           369658434193903.6,
           374387184237001.44,
           379168769378558.56,
           384003189618574.75,
           388890444957050.4,
           393830535393985.4,
           398823460929379.7,
           403869221563233.8,
           408967817295546.4,
           414119248126318.8,
           419323514055550.4,
           424580615083241.5,
           429890551209392,
           435253322434001.7,
           440668928757070.8,
           446137370178599.06,
           451658646698586.94,
           457232758317034.2,
           462859705033940.25,
           468539486849306.06,
           474272103763131.2,
           480057555775415.6,
           485895842886159.7,
           491786965095362.94,
           497730922403025.2,
           503727714809147.25,
           509777342313728.06,
           515879804916768.8,
           522035102618268.6,
           528243235418227.6,
           534504203316646.4,
           540818006313524,
           547184644408861.44,
           553604117602658.2,
           560076425894913.8,
           566601569285629.2,
           573179547774803.5,
           579810361362437.6,
           586494010048530.9,
           593230493833083.2,
           600019812716095.2,
           606861966697566.4,
           613756955777497.2,
           620704779955887.5,
           627705439232736.4,
           634758933608045.2,
           641865263081813.1,
           649024427654040.5,
           656236427324727.1,
           663501262093873.4,
           670818931961478.2,
           678189436927543.2,
           685612776992067,
           693088952155050.6
          ],
          [
           209548330168436.97,
           211858850561499.03,
           214222206053020.1,
           216638396643000.8,
           219107422331440.6,
           221629283118340,
           224203979003698.6,
           226831509987516.53,
           229511876069793.9,
           232245077250530.62,
           235031113529726.6,
           237869984907382,
           240761691383496.56,
           243706232958070.75,
           246703609631104.12,
           249753821402596.62,
           252856868272548.75,
           256012750240960,
           259221467307830.8,
           262483019473160.9,
           265797406736950.28,
           269164629099199.16,
           272584686559907.28,
           276057579119074.53,
           279583306776701.44,
           283161869532787.5,
           286793267387332.9,
           290477500340337.8,
           294214568391801.75,
           298004471541725.4,
           301847209790108.06,
           305742783136950.3,
           309691191582251.94,
           313692435126012.6,
           317746513768232.94,
           321853427508912.25,
           326013176348051.06,
           330225760285649.5,
           334491179321706.94,
           338809433456223.8,
           343180522689200.1,
           347604447020635.6,
           352081206450530.6,
           356610800978884.94,
           361193230605698.5,
           365828495330971.25,
           370516595154703.44,
           375257530076895.2,
           380051300097546.4,
           384897905216656.56,
           389797345434225.94,
           394749620750254.9,
           399754731164743.4,
           404812676677691.1,
           409923457289098,
           415087072998964.5,
           420303523807289.94,
           425572809714075.2,
           430894930719319.44,
           436269886823023.1,
           441697678025186.2,
           447178304325808.56,
           452711765724890.3,
           458298062222431.5,
           463937193818431.5,
           469629160512891.5,
           475373962305810.3,
           481171599197188.9,
           487022071187026.94,
           492925378275324.2,
           498881520462080.3,
           504890497747296.4,
           510952310130971.2,
           517066957613105.75,
           523234440193699.6,
           529454757872752.75,
           535727910650265.2,
           542053898526236.75,
           548432721500668.2,
           554864379573559.06,
           561348872744908.75,
           567886201014717.9,
           574476364382986.5,
           581119362849714.4,
           587815196414901.6,
           594563865078547.9,
           601365368840654.1,
           608219707701219,
           615126881660243.6,
           622086890717727.9,
           629099734873671,
           636165414128073.5,
           643283928480935.4,
           650455277932257,
           657679462482037.5,
           664956482130277.5,
           672286336876976.5,
           679669026722135.5,
           687104551665753.2,
           694592911707831
          ],
          [
           209849251663876.12,
           212171956936032.16,
           214547497306647.16,
           216975872775721.88,
           219457083343255.7,
           221991129009249.1,
           224578009773701.7,
           227217725636613.47,
           229910276597984.9,
           232655662657815.6,
           235453883816105.44,
           238304940072854.75,
           241208831428063.44,
           244165557881731.44,
           247175119433858.9,
           250237516084445.38,
           253352747833491.47,
           256520814680996.6,
           259741716626961.44,
           263015453671385.53,
           266342025814268.84,
           269721433055611.6,
           273153675395413.84,
           276638752833675,
           280176665370395.97,
           283767413005575.94,
           287410995739215.25,
           291107413571314.2,
           294856666501872.1,
           298658754530889.75,
           302513677658366.44,
           306421435884302.5,
           310382029208698.1,
           314395457631552.75,
           318461721152867.06,
           322580819772640.4,
           326752753490873.25,
           330977522307565.5,
           335255126222716.8,
           339585565236328,
           343968839348398.2,
           348404948558927.56,
           352893892867916.5,
           357435672275364.75,
           362030286781272.4,
           366677736385639.1,
           371378021088465.2,
           376131140889750.9,
           380937095789496.06,
           385795885787700.2,
           390707510884363.75,
           395671971079486.56,
           400689266373069.06,
           405759396765110.8,
           410882362255611.6,
           416058162844571.8,
           421286798531991.4,
           426568269317870.5,
           431902575202208.9,
           437289716185006.5,
           442729692266263.6,
           448222503445979.94,
           453768149724155.6,
           459366631100790.75,
           465017947575884.9,
           470722099149438.6,
           476479085821451.44,
           482288907591924,
           488151564460856,
           494067056428246.94,
           500035383494097.25,
           506056545658407.44,
           512130542921176.2,
           518257375282404.9,
           524437042742092.6,
           530669545300239.5,
           536954882956846.06,
           543293055711911.75,
           549684063565437.2,
           556127906517421.8,
           562624584567865.4,
           569174097716768.5,
           575776445964131,
           582431629309952.9,
           589139647754234.1,
           595900501296974.4,
           602714189938174.4,
           609580713677833.5,
           616500072515952.2,
           623472266452530.4,
           630497295487567.2,
           637575159621064,
           644705858853019.6,
           651889393183435.2,
           659125762612309.9,
           666414967139644.1,
           673757006765436.8,
           681151881489689.9,
           688599591312401.5,
           696100136233573
          ],
          [
           210153438132277.44,
           212488328283527.38,
           214876053533236.53,
           217316613881405.16,
           219810009328032.9,
           222356239873120.2,
           224955305516666.75,
           227607206258672.62,
           230311942099137.97,
           233069513038062.56,
           235879919075446.47,
           238743160211289.75,
           241659236445592.4,
           244628147778354.53,
           247649894209575.72,
           250724475739256.3,
           253851892367396.28,
           257032144093995.47,
           260265230919054.2,
           263551152842572.38,
           266889909864549.7,
           270281501984986.4,
           273725929203882.56,
           277223191521237.75,
           280773288937052.56,
           284376221451326.5,
           288031989064059.8,
           291740591775252.8,
           295502029584904.6,
           299316302493016.2,
           303183410499586.94,
           307103353604616.94,
           311076131808106.5,
           315101745110055.1,
           319180193510463.5,
           323311477009330.75,
           327495595606657.56,
           331732549302443.8,
           336022338096689.2,
           340364961989394.06,
           344760420980558.25,
           349208715070181.8,
           353709844258264.6,
           358263808544807,
           362870607929808.3,
           367530242413269.1,
           372242711995189.2,
           377008016675568.9,
           381826156454408,
           386697131331706.25,
           391620941307463.8,
           396597586381680.56,
           401627066554356.9,
           406709381825492.5,
           411844532195087.25,
           417032517663141.6,
           422273338229655.2,
           427566993894628.2,
           432913484658060.6,
           438312810519952.2,
           443764971480303.1,
           449269967539113.44,
           454827798696383.2,
           460438464952112.25,
           466101966306300.4,
           471818302758948.06,
           477587474310054.94,
           483409480959621.5,
           489284322707647.4,
           495211999554132.56,
           501192511499076.75,
           507225858542480.75,
           513312040684343.4,
           519451057924666.06,
           525642910263447.94,
           531887597700688.75,
           538185120236389.2,
           544535477870548.9,
           550938670603168.06,
           557394698434246.8,
           563903561363784.4,
           570465259391781.6,
           577079792518238.1,
           583747160743153.9,
           590467364066529.2,
           597240402488363.5,
           604066276008657.2,
           610944984627410.5,
           617876528344623,
           624860907160295.2,
           631898121074426.1,
           638988170087017,
           646131054198066.4,
           653326773407575.6,
           660575327715544.8,
           667876717121972.5,
           675230941626859.6,
           682638001230206.5,
           690097895932012.1,
           697610625732277.5
          ],
          [
           210460889573640.53,
           212807964603984.44,
           215207874732787.47,
           217660619960050.2,
           220166200285771.88,
           222724615709953.16,
           225335866232593.7,
           227999951853693.47,
           230716872573252.84,
           233486628391271.47,
           236309219307749.25,
           239184645322686.6,
           242112906436083.03,
           245094002647939.2,
           248127933958254.44,
           251214700367028.88,
           254354301874262.97,
           257546738479956.16,
           260792010184108.84,
           264090116986720.84,
           267441058887792.03,
           270844835887322.9,
           274301447985313,
           277810895181762.2,
           281373177476670.84,
           284988294870038.94,
           288656247361866.2,
           292377034952152.94,
           296150657640898.8,
           299977115428104.3,
           303856408313768.94,
           307788536297893.06,
           311773499380476.6,
           315811297561519.1,
           319901930841021.5,
           324045399218982.6,
           328241702695403.56,
           332490841270283.75,
           336792814943623.06,
           341147623715421.94,
           345555267585680.2,
           350015746554397.5,
           354529060621574.56,
           359095209787210.56,
           363714194051306.06,
           368386013413860.8,
           373110667874875.1,
           377888157434348.6,
           382718482092281.5,
           387601641848673.75,
           392537636703525.2,
           397526466656836.06,
           402568131708606.25,
           407662631858836.06,
           412809967107524.8,
           418010137454673.06,
           423263142900280.5,
           428568983444347.7,
           433927659086873.8,
           439339169827859.44,
           444803515667304.4,
           450320696605208.56,
           455890712641572.2,
           461513563776395.44,
           467189250009677.5,
           472917771341419.25,
           478699127771620.06,
           484533319300280.56,
           490420345927400.5,
           496360207652979.44,
           502352904477017.7,
           508398436399515.5,
           514496803420472.4,
           520648005539888.9,
           526852042757764.75,
           533108915074099.6,
           539418622488893.94,
           545781165002147.6,
           552196542613860.94,
           558664755324033.4,
           565185803132665.2,
           571759686039756.1,
           578386404045306.5,
           585065957149316.4,
           591798345351785.6,
           598583568652714.1,
           605421627052101.9,
           612312520549948.8,
           619256249146255.5,
           626252812841021.4,
           633302211634246.5,
           640404445525931,
           647559514516075,
           654767418604677.9,
           662028157791740.6,
           669341732077262.8,
           676708141461243.8,
           684127385943684.4,
           691599465524584.2,
           699124380203943.4
          ],
          [
           210771605987965.53,
           213130865897403.47,
           215542960905300.44,
           218007891011657.1,
           220525656216472.72,
           223096256519747.97,
           225719691921482.6,
           228395962421676.3,
           231125068020329.62,
           233907008717442.16,
           236741784513013.9,
           239629395407045.25,
           242569841399535.6,
           245563122490485.72,
           248609238679895,
           251708189967763.44,
           254859976354091.47,
           258064597838878.6,
           261322054422125.2,
           264632346103831.3,
           267995472883996.47,
           271411434762621.2,
           274880231739705.3,
           278401863815248.44,
           281976330989251.2,
           285603633261713.06,
           289283770632634.4,
           293016743102015.2,
           296802550669855.06,
           300641193336154.5,
           304532671100913.06,
           308476983964131.25,
           312474131925808.7,
           316524114985945.06,
           320626933144541.5,
           324782586401596.6,
           328991074757111.4,
           333252398211085.7,
           337566556763518.8,
           341933550414411.7,
           346353379163763.94,
           350826043011575.25,
           355351541957846.25,
           359929876002576.44,
           364561045145765.8,
           369245049387414.56,
           373981888727522.75,
           378771563166090.25,
           383614072703117.06,
           388509417338603.1,
           393457597072548.8,
           398458611904953.44,
           403512461835817.7,
           408619146865141.6,
           413778666992924.2,
           418991022219166.4,
           424256212543867.94,
           429574237967028.8,
           434945098488649.2,
           440368794108728.5,
           445845324827267.7,
           451374690644265.8,
           456956891559723.5,
           462591927573640.56,
           468279798686016.6,
           474020504896852.4,
           479814046206147.1,
           485660422613901.5,
           491559634120115.25,
           497511680724788.4,
           503516562427920.56,
           509574279229512.6,
           515684831129563.06,
           521848218128073.6,
           528064440225043.44,
           534333497420472.3,
           540655389714360.9,
           547030117106708.25,
           553457679597515.25,
           559938077186782.06,
           566471309874507.6,
           573057377660692.9,
           579696280545336.9,
           586388018528441,
           593132591610004.1,
           599929999790026.1,
           606780243068508.2,
           613683321445449.1,
           620639234920849.6,
           627647983494709.9,
           634709567167028.5,
           641823985937807.2,
           648991239807045,
           656211328774742.4,
           663484252840899,
           670810012005515,
           678188606268589.8,
           685620035630124.5,
           693104300090118.1,
           700641399648571.6
          ],
          [
           211085587375252.53,
           213457032163784.3,
           215881312050775.44,
           218358427036225.88,
           220888377120135.6,
           223471162302504.84,
           226106782583333.25,
           228795237962621.03,
           231536528440368.25,
           234330654016574.84,
           237177614691240.62,
           240077410464365.88,
           243030041335950.28,
           246035507305994.3,
           249093808374497.56,
           252204944541459.97,
           255368915806881.9,
           258585722170763,
           261855363633103.72,
           265177840193903.6,
           268553151853162.88,
           271981298610881.53,
           275462280467059.53,
           278996097421696.7,
           282582749474793.44,
           286222236626349.2,
           289914558876364.56,
           293659716224839.4,
           297457708671773.06,
           301308536217166.6,
           305212198861019.2,
           309168696603331.2,
           313178029444102.7,
           317240197383333.2,
           321355200421023.3,
           325523038557172.6,
           329743711791781.3,
           334017220124849.5,
           338343563556376.56,
           342722742086363.6,
           347154755714809.75,
           351639604441714.94,
           356177288267079.94,
           360767807190904.06,
           365411161213187.25,
           370107350333930.25,
           374856374553132.2,
           379658233870793.75,
           384512928286914.75,
           389420457801494.5,
           394380822414534.25,
           399394022126032.8,
           404460056935991.2,
           409578926844408.8,
           414750631851285.6,
           419975171956621.6,
           425252547160417.06,
           430582757462671.94,
           435965802863386.4,
           441401683362559.6,
           446890398960192.8,
           452431949656284.9,
           458026335450836.5,
           463673556343847.4,
           469373612335317.7,
           475126503425247.2,
           480932229613635.94,
           486790790900484.4,
           492702187285792.06,
           498666418769559.4,
           504683485351785.44,
           510753387032471.2,
           516876123811615.8,
           523051695689220.3,
           529280102665284.25,
           535561344739807.06,
           541895421912789.44,
           548282334184230.9,
           554722081554132,
           561214664022492.6,
           567760081589312.1,
           574358334254591.2,
           581009422018329.5,
           587713344880527.4,
           594470102841184.5,
           601279695900300.6,
           608142124057876.5,
           615057387313911.2,
           622025485668406.1,
           629046419121359.9,
           636120187672772.8,
           643246791322645.6,
           650426230070977.1,
           657658503917768.5,
           664943612863019,
           672281556906729,
           679672336048897.6,
           687115950289526.6,
           694612399628614,
           702161684066161.5
          ],
          [
           211402833735501.62,
           213786463403127.44,
           216222928169212.44,
           218712228033757,
           221254362996760.6,
           223849333058223.75,
           226497138218146.2,
           229197778476527.97,
           231951253833369.16,
           234757564288669.72,
           237616709842429.4,
           240528690494648.7,
           243493506245327.12,
           246511157094465.03,
           249581643042062.25,
           252704964088118.6,
           255881120232634.56,
           259110111475609.7,
           262391937817044.3,
           265726599256938.28,
           269114095795291.3,
           272554427432104.03,
           276047594167376,
           279593596001107.16,
           283192432933297.8,
           286844104963947.75,
           290548612093056.94,
           294305954320625.5,
           298116131646653.4,
           301979144071140.9,
           305894991594087.25,
           309863674215493.5,
           313885191935358.8,
           317959544753683.4,
           322086732670467.6,
           326266755685710.75,
           330499613799413.5,
           334785307011575.5,
           339123835322196.7,
           343515198731277.5,
           347959397238817.7,
           352456430844817,
           357006299549275.8,
           361609003352193.94,
           366264542253571.25,
           370972916253408.06,
           375734125351703.8,
           380548169548459.6,
           385415048843674.3,
           390334763237348.25,
           395307312729481.8,
           400332697320074.5,
           405410917009126.8,
           410541971796638.4,
           415725861682608.94,
           420962586667039.2,
           426252146749928.6,
           431594541931277.5,
           436989772211085.8,
           442437837589353.2,
           447938738066080.2,
           453492473641266.25,
           459099044314911.8,
           464758450087016.8,
           470470690957581.1,
           476235766926604.56,
           482053677994087.25,
           487924424160029.6,
           493848005424431.4,
           499824421787292.5,
           505853673248612.56,
           511935759808392.25,
           518070681466630.94,
           524258438223329.44,
           530499030078487.2,
           536792457032103.75,
           543138719084180.3,
           549537816234715.8,
           555989748483710.9,
           562494515831165.5,
           569052118277079,
           575662555821452,
           582325828464284.2,
           589041936205576.1,
           595810879045327.4,
           602632656983537.4,
           609507270020207.4,
           616434718155335.9,
           623415001388924.9,
           630448119720972.6,
           637534073151479.5,
           644672861680445.9,
           651864485307871.6,
           659108944033756.9,
           666406237858101.5,
           673756366780905.6,
           681159330802168.1,
           688615129921890.9,
           696123764140072.4,
           703685233456713.8
          ],
          [
           211723345068712.47,
           214119159615432.2,
           216567809260611.16,
           219069294004249.72,
           221623613846347.3,
           224230768786904.47,
           226890758825920.84,
           229603583963396.62,
           232369244199331.75,
           235187739533726.28,
           238059069966579.9,
           240983235497893.12,
           243960236127665.6,
           246990071855897.44,
           250072742682588.62,
           253208248607738.97,
           256396589631348.9,
           259637765753418,
           262931776973946.56,
           266278623292934.53,
           269678304710381.56,
           273130821226288.16,
           276636172840654.2,
           280194359553479.3,
           283805381364763.94,
           287469238274507.7,
           291185930282710.94,
           294955457389373.6,
           298777819594495.44,
           302653016898076.8,
           306581049300117.4,
           310561916800617.4,
           314595619399576.8,
           318682157096995.2,
           322821529892873.3,
           327013737787210.44,
           331258780780007.06,
           335556658871263.25,
           339907372060978.44,
           344310920349153.2,
           348767303735787.3,
           353276522220880.6,
           357838575804433.4,
           362453464486445.44,
           367121188266916.8,
           371841747145847.4,
           376615141123237.44,
           381441370199087.06,
           386320434373395.7,
           391252333646163.8,
           396237068017391.1,
           401274637487077.8,
           406365042055224.06,
           411508281721829.5,
           416704356486894.4,
           421953266350418.56,
           427255011312401.75,
           432609591372844.56,
           438017006531746.9,
           443477256789108.25,
           448990342144929.06,
           454556262599209.25,
           460175018151948.8,
           465846608803147.75,
           471571034552806,
           477348295400923.25,
           483178391347500,
           489061322392536.3,
           494997088536032.2,
           500985689777987.25,
           507027126118401.25,
           513121397557275.06,
           519268504094607.75,
           525468445730400.2,
           531721222464651.75,
           538026834297362.5,
           544385281228533.06,
           550796563258162.4,
           557260680386251.6,
           563777632612799.9,
           570347419937807.5,
           576970042361274.4,
           583645499883200.5,
           590373792503586.4,
           597154920222431.6,
           603988883039735.6,
           610875680955499.5,
           617815313969722.4,
           624807782082405.1,
           631853085293546.8,
           638951223603147.6,
           646102197011208.1,
           653306005517727.8,
           660562649122706.9,
           667872127826145.5,
           675234441628043.5,
           682649590528400,
           690117574527217,
           697638393624492.1,
           705212047820227.6
          ],
          [
           212047121374885.28,
           214455120800699.1,
           216915955324971.9,
           219429624947704.4,
           221996129668896,
           224615469488547.12,
           227287644406657.44,
           230012654423227.2,
           232790499538256.3,
           235621179751744.88,
           238504695063692.4,
           241441045474099.62,
           244430230982965.9,
           247472251590291.88,
           250567107296076.97,
           253714798100321.28,
           256915324003025.2,
           260168685004188.25,
           263474881103810.84,
           266833912301892.72,
           270245778598433.84,
           273710479993434.4,
           277228016486894.3,
           280798388078813.38,
           284421594769192.06,
           288097636558029.75,
           291826513445326.94,
           295608225431083.7,
           299442772515299.4,
           303330154697974.75,
           307270371979109.25,
           311263424358703.2,
           315309311836756.56,
           319408034413268.94,
           323559592088241.06,
           327763984861672.1,
           332021212733562.75,
           336331275703912.9,
           340694173772722,
           345109906939990.8,
           349578475205718.9,
           354099878569906.2,
           358674117032552.8,
           363301190593658.94,
           367981099253224.4,
           372713843011248.9,
           377499421867732.8,
           382337835822676.25,
           387229084876079.2,
           392173169027941.06,
           397170088278262.3,
           402219842627043.06,
           407322432074283.25,
           412477856619982.75,
           417686116264141.25,
           422947211006759.7,
           428261140847837.06,
           433627905787373.6,
           439047505825369.94,
           444519940961825.25,
           450045211196740.25,
           455623316530114.25,
           461254256961947.7,
           466938032492240.4,
           472674643120992.6,
           478464088848204.2,
           484306369673874.9,
           490201485598005.2,
           496149436620594.8,
           502150222741643.94,
           508203843961151.75,
           514310300279119.44,
           520469591695546.3,
           526681718210432.75,
           532946679823778.2,
           539264476535583.06,
           545635108345847.4,
           552058575254570.75,
           558534877261753.94,
           565064014367396.1,
           571645986571497.6,
           578280793874058.8,
           584968436275078.8,
           591708913774558.6,
           598502226372497.9,
           605348374068896,
           612247356863753.6,
           619199174757070.4,
           626203827748847,
           633261315839082.6,
           640371639027777.6,
           647534797314932.1,
           654750790700545.5,
           662019619184618.9,
           669341282767151.4,
           676715781448143.2,
           684143115227594,
           691623284105504.4,
           699156288081874.1,
           706742127156703.2
          ],
          [
           212374162654019.9,
           214794346958927.7,
           217267366362294.6,
           219793220864121.03,
           222371910464406.6,
           225003435163151.72,
           227687794960356.1,
           230424989856019.7,
           233215019850142.88,
           236057884942725.25,
           238953585133766.84,
           241902120423268.03,
           244903490811228.38,
           247957696297648.28,
           251064736882527.38,
           254224612565865.62,
           257437323347663.56,
           260702869227920.44,
           264021250206637.12,
           267392466283812.8,
           270816517459447.88,
           274293403733542.47,
           277823125106096.3,
           281405681577109.3,
           285041073146582,
           288729299814513.75,
           292470361580904.9,
           296264258445755.5,
           300110990409065.25,
           304010557470834.56,
           307962959631062.94,
           311968196889751,
           316026269246898.25,
           320137176702504.75,
           324300919256570.8,
           328517496909095.8,
           332786909660080.5,
           337109157509524.5,
           341484240457427.6,
           345912158503790.4,
           350392911648612.4,
           354926499891893.56,
           359512923233634.3,
           364152181673834.25,
           368844275212493.5,
           373589203849612.4,
           378386967585190.2,
           383237566419227.5,
           388141000351724.3,
           393097269382680.25,
           398106373512095.7,
           403168312739970.25,
           408283087066304.3,
           413450696491098,
           418671141014350.56,
           423944420636062.56,
           429270535356233.75,
           434649485174864.6,
           440081270091954.8,
           445565890107504.2,
           451103345221512.9,
           456693635433981.06,
           462336760744908.75,
           468032721154295.44,
           473781516662141.4,
           479583147268446.9,
           485437612973211.5,
           491344913776435.8,
           497305049678119.44,
           503318020678262.5,
           509383826776864.5,
           515502467973926.2,
           521673944269446.9,
           527898255663427.06,
           534175402155866.56,
           540505383746765.4,
           546888200436123.8,
           553323852223941.06,
           559812339110218.3,
           566353661094954.5,
           572947818178149.9,
           579594810359805,
           586294637639919,
           593047300018492.8,
           599852797495526.1,
           606711130071017.8,
           613622297744969.9,
           620586300517380.4,
           627603138388251,
           634672811357580.8,
           641795319425369.5,
           648970662591618.1,
           656198840856325.2,
           663479854219492.8,
           670813702681119.2,
           678200386241204.9,
           685639904899749.8,
           693132258656754.4,
           700677447512217.9,
           708275471466141
          ],
          [
           212704468906116.8,
           215136838090118.53,
           217622042372579.4,
           220160081753499.84,
           222750956232879.38,
           225394665810718.38,
           228091210487016.72,
           230840590261774.38,
           233642805134991.47,
           236497855106667.84,
           239405740176803.53,
           242366460345398.56,
           245380015612452.88,
           248446405977966.72,
           251565631441939.8,
           254737692004371.97,
           257962587665263.88,
           261240318424614.88,
           264570884282425.38,
           267954285238695.16,
           271390521293424.12,
           274879592446612.75,
           278421498698260.7,
           282016240048367.6,
           285663816496934.2,
           289364228043960,
           293117474689445.06,
           296923556433389.6,
           300782473275793.3,
           304694225216656.6,
           308658812255979.1,
           312676234393760.94,
           316746491630002.2,
           320869583964702.6,
           325045511397862.75,
           329274273929481.75,
           333555871559560.4,
           337890304288098.4,
           342277572115095.3,
           346717675040552.1,
           351210613064468.1,
           355756386186843.25,
           360354994407678.06,
           365006437726972.06,
           369710716144725.2,
           374467829660937.75,
           379277778275609.7,
           384140561988741.2,
           389056180800331.8,
           394024634710381.7,
           399045923718891.2,
           404120047825859.6,
           409247007031287.75,
           414426801335175.25,
           419659430737521.75,
           424944895238327.8,
           430283194837593.1,
           435674329535318.06,
           441118299331502.06,
           446615104226145.4,
           452164744219248.25,
           457767219310810.25,
           463422529500831.6,
           469130674789312.56,
           474891655176252.3,
           480705470661651.94,
           486572121245510.56,
           492491606927828.8,
           498463927708606.4,
           504489083587843.44,
           510567074565539.44,
           516697900641695.06,
           522881561816309.7,
           529118058089383.94,
           535407389460917.44,
           541749555930910.25,
           548144557499362.5,
           554592394166273.75,
           561093065931645.06,
           567646572795475.2,
           574252914757764.6,
           580912091818513.6,
           587624103977721.6,
           594388951235389.5,
           601206633591516.5,
           608077151046102.5,
           615000503599148.1,
           621976691250652.9,
           629005714000617.4,
           636087571849041.2,
           643222264795924,
           650409792841266.6,
           657650155985067.6,
           664943354227329.1,
           672289387568049.2,
           679688256007229.4,
           687139959544868,
           694644498180966.5,
           702201871915524,
           709812080748541.2
          ],
          [
           213038040131175.4,
           215482594194271.16,
           217979983355826.03,
           220530207615840.4,
           223133266974313.8,
           225789161431246.88,
           228497890986639.12,
           231259455640490.75,
           234073855392801.88,
           236941090243572.2,
           239861160192801.8,
           242834065240490.9,
           245859805386639.1,
           248938380631246.9,
           252069790974313.97,
           255254036415840.2,
           258491116955825.9,
           261781032594270.97,
           265123783331175.4,
           268519369166539.28,
           271967790100362.2,
           275469046132644.72,
           279023137263386.62,
           282630063492587.44,
           286289824820248.2,
           290002421246367.75,
           293767852770946.8,
           297586119393985.5,
           301457221115483.1,
           305381157935440.3,
           309357929853856.6,
           313387536870732.7,
           317469978986067.9,
           321605256199862.2,
           325793368512116.2,
           330034315922829.25,
           334328098432001.75,
           338674716039633.8,
           343074168745724.94,
           347526456550275.6,
           352031579453285.6,
           356589537454754.5,
           361200330554683.4,
           365863958753071.4,
           370580422049918.5,
           375349720445225.06,
           380171853938990.8,
           385046822531216.25,
           389974626221901.2,
           394955265011044.8,
           399988738898648.2,
           405075047884710.75,
           410214191969232.9,
           415406171152214.3,
           420650985433654.8,
           425948634813554.9,
           431299119291914.06,
           436702438868732.75,
           442158593544010.94,
           447667583317748.2,
           453229408189945.06,
           458844068160601.1,
           464511563229716.4,
           470231893397291.25,
           476005058663325.2,
           481831059027818.3,
           487709894490771.2,
           493641565052183.25,
           499626070712055.06,
           505663411470385.8,
           511753587327175.8,
           517896598282425.5,
           524092444336134,
           530341125488302.4,
           536642641738929.94,
           542996993088016.5,
           549404179535562.8,
           555864201081568.2,
           562377057726032.94,
           568942749468957.5,
           575561276310340.8,
           582232638250183.8,
           588956835288485.8,
           595733867425247.5,
           602563734660468.5,
           609446436994148.5,
           616381974426288.2,
           623370346956886.8,
           630411554585945.5,
           637505597313463,
           644652475139439.8,
           651852188063875.9,
           659104736086771.5,
           666410119208126.9,
           673768337427941.2,
           681179390746215,
           688643279162947.6,
           696160002678140.1,
           703729561291791.5,
           711351955003902.6
          ],
          [
           213374876329196.03,
           215831615271385.7,
           218341189312034.53,
           220903598451142.88,
           223518842688710.25,
           226186922024737.28,
           228907836459223.53,
           231681585992169.12,
           234508170623574.16,
           237387590353438.47,
           240319845181762.1,
           243304935108545.2,
           246342860133787.28,
           249433620257489.12,
           252577215479650.2,
           255773645800270.4,
           259022911219350.03,
           262325011736888.97,
           265679947352887.44,
           269087718067345.12,
           272548323880262.16,
           276061764791638.7,
           279628040801474.47,
           283247151909769.25,
           286919098116523.9,
           290643879421737.5,
           294421495825410.6,
           298251947327543.2,
           302135233928134.75,
           306071355627186.06,
           310060312424696.3,
           314102104320666.4,
           318196731315095.5,
           322344193407983.75,
           326544490599331.75,
           330797622889138.75,
           335103590277405.4,
           339462392764131.2,
           343874030349316.25,
           348338503032960.94,
           352855810815064.8,
           357425953695628,
           362048931674650.6,
           366724744752132.75,
           371453392928073.6,
           376234876202474.25,
           381069194575333.94,
           385956348046653.4,
           390896336616431.94,
           395889160284669.8,
           400934819051367.2,
           406033312916523.6,
           411184641880139.8,
           416388805942215.1,
           421645805102749.6,
           426955639361743.75,
           432318308719196.75,
           437733813175109.6,
           443202152729481.75,
           448723327382312.9,
           454297337133603.75,
           459924181983353.6,
           465603861931562.94,
           471336376978231.94,
           477121727123359.75,
           482959912366947.2,
           488850932708993.94,
           494794788149499.8,
           500791478688465.5,
           506841004325890.4,
           512943365061774.3,
           519098560896117.8,
           525306591828920.5,
           531567457860182.75,
           537881158989904.25,
           544247695218084.6,
           550667066544724.94,
           557139272969824.2,
           563664314493383.2,
           570242191115401.6,
           576872902835879,
           583556449654815.9,
           590292831572211.9,
           597082048588067.5,
           603924100702382.4,
           610818987915156.4,
           617766710226389.9,
           624767267636082.8,
           631820660144235.1,
           638926887750846.8,
           646085950455917.5,
           653297848259448.1,
           660562581161437.2,
           667880149161886.6,
           675250552260794.9,
           682673790458162.5,
           690149863753989.2,
           697678772148275.8,
           705260515641021,
           712895094232226.2
          ],
          [
           213714977500178.53,
           216183901321462.16,
           218705660241204.88,
           221280254259407.25,
           223907683376068.72,
           226587947591189.72,
           229321046904769.84,
           232106981316809.47,
           234945750827308.38,
           237837355436266.75,
           240781795143684.28,
           243779069949561.16,
           246829179853897.4,
           249932124856693.2,
           253087904957948.25,
           256296520157662.38,
           259557970455836.12,
           262872255852469,
           266239376347561.44,
           269659331941113.16,
           273132122633124.03,
           276657748423594.44,
           280236209312524.28,
           283867505299913.2,
           287551636385761.7,
           291288602570069.25,
           295078403852836.25,
           298921040234062.8,
           302816511713748.4,
           306764818291893.6,
           310765959968498,
           314819936743561.75,
           318926748617085,
           323086395589067.25,
           327298877659509.2,
           331564194828410.1,
           335882347095770.75,
           340253334461590.6,
           344677156925869.6,
           349153814488608.2,
           353683307149806.06,
           358265634909463.25,
           362900797767579.75,
           367588795724155.75,
           372329628779190.94,
           377123296932685.25,
           381969800184639.06,
           386869138535052.56,
           391821311983925.2,
           396826320531256.8,
           401884164177048.2,
           406994842921298.6,
           412158356764008.8,
           417374705705178.2,
           422643889744806.5,
           427965908882894.4,
           433340763119441.6,
           438768452454448.3,
           444248976887914.4,
           449782336419839.75,
           455368531050224.25,
           461007560779068.25,
           466699425606371.7,
           472444125532134.3,
           478241660556356.4,
           484092030679037.6,
           489995235900178.2,
           495951276219778.4,
           501960151637837.8,
           508021862154356.6,
           514136407769334.56,
           520303788482772.2,
           526524004294668.6,
           532797055205024.94,
           539122941213840.3,
           545501662321115.06,
           551933218526849.4,
           558417609831042.3,
           564954836233695.2,
           571544897734807.5,
           578187794334379,
           584883526032409.9,
           591632092828899.9,
           598433494723849.4,
           605287731717258.4,
           612194803809126.4,
           619154710999453.9,
           626167453288240.5,
           633233030675487.2,
           640351443161192.6,
           647522690745357.2,
           654746773427981.6,
           662023691209065.1,
           669353444088608.2,
           676736032066610.4,
           684171455143072.2,
           691659713317992.8,
           699200806591373.2,
           706794734963212.5,
           714441498433511.8
          ],
          [
           214058343644123.25,
           216539452344500.84,
           219073396143337.53,
           221660175040633.8,
           224299789036389.16,
           226992238130604.12,
           229737522323278.4,
           232535641614411.88,
           235386596004004.9,
           238290385492057.16,
           241247010078568.6,
           244256469763539.6,
           247318764546969.72,
           250433894428859.44,
           253601859409208.53,
           256822659488016.56,
           260096294665284.25,
           263422764941011.25,
           266802070315197.47,
           270234210787843.16,
           273719186358948.16,
           277256997028512.6,
           280847642796536.38,
           284491123663019.2,
           288187439627961.6,
           291936590691363.2,
           295738576853224.2,
           299593398113544.75,
           303501054472324.4,
           307461545929563.44,
           311474872485261.8,
           315541034139419.56,
           319660030892036.8,
           323831862743113.06,
           328056529692648.94,
           332334031740643.9,
           336664368887098.25,
           341047541132012.25,
           345483548475385.1,
           349972390917217.75,
           354514068457509.6,
           359108581096260.5,
           363755928833471.2,
           368456111669141.25,
           373209129603270.3,
           378014982635858.75,
           382873670766906.4,
           387785193996413.7,
           392749552324380.4,
           397766745750806.2,
           402836774275691.44,
           407959637899035.8,
           413135336620839.94,
           418363870441103.25,
           423645239359825.5,
           428979443377007.6,
           434366482492648.6,
           439806356706749.4,
           445299066019309.5,
           450844610430328.6,
           456442989939807.2,
           462094204547745.2,
           467798254254142.4,
           473555139058999.44,
           479364858962315.1,
           485227413964090.56,
           491142804064324.9,
           497111029263019.06,
           503132089560172.75,
           509205984955785.44,
           515332715449857.2,
           521512281042388.94,
           527744681733379.1,
           534029917522829.44,
           540367988410738.94,
           546758894397107.5,
           553202635481935.75,
           559699211665222.8,
           566248622946969.9,
           572850869327175.9,
           579505950805841.2,
           586213867382966.4,
           592974619058550.1,
           599788205832593.9,
           606654627705096.5,
           613573884676058.5,
           620545976745480.4,
           627570903913360.8,
           634648666179701.1,
           641779263544500.9,
           648962696007759.2,
           656198963569477.5,
           663488066229654.9,
           670830003988292.1,
           678224776845388.5,
           685672384800944.1,
           693172827854958.6,
           700726106007433.2,
           708332219258366.5,
           715991167607759.5
          ],
          [
           214404974761029.56,
           216898268340501.1,
           219444397018431.8,
           222043360794822.16,
           224695159669671.44,
           227399793642980.38,
           230157262714748.56,
           232967566884976,
           235830706153662.97,
           238746680520809.25,
           241715489986414.62,
           244737134550479.62,
           247811614213003.75,
           250938928973987.53,
           254119078833430.4,
           257352063791332.56,
           260637883847694.12,
           263976539002515,
           267368029255795.3,
           270812354607534.97,
           274309515057733.84,
           277859510606392.28,
           281462341253510.03,
           285118006999086.94,
           288826507843123.25,
           292587843785618.94,
           296402014826573.8,
           300269020965988.25,
           304188862203861.8,
           308161538540194.94,
           312187049974987.3,
           316265396508238.94,
           320396578139950.2,
           324580594870120.44,
           328817446698750.1,
           333107133625839,
           337449655651387.6,
           341845012775395.4,
           346293204997862.3,
           350794232318788.94,
           355348094738174.94,
           359954792256019.9,
           364614324872324.5,
           369326692587088.25,
           374091895400311.1,
           378909933311993.75,
           383780806322135.44,
           388704514430736.6,
           393681057637797.4,
           398710435943317.06,
           403792649347296.3,
           408927697849734.8,
           414115581450632.75,
           419356300149990,
           424649853947806.3,
           429996242844082.2,
           435395466838817.4,
           440847525932012,
           446352420123666.06,
           451910149413779.25,
           457520713802351.8,
           463184113289383.75,
           468900347874874.94,
           474669417558825.8,
           480491322341235.7,
           486366062222104.8,
           492293637201433.4,
           498274047279221.5,
           504307292455468.75,
           510393372730175.75,
           516532288103341.5,
           522724038574967.06,
           528968624145051.4,
           535266044813595.8,
           541616300580599.06,
           548019391446061.5,
           554475317409983.8,
           560984078472364.9,
           567545674633205.9,
           574160105892506,
           580827372250265.4,
           587547473706484,
           594320410261161.9,
           601146181914299.5,
           608024788665896.5,
           614956230515952.4,
           621940507464467.6,
           628977619511442.5,
           636067566656876.9,
           643210348900770.4,
           650405966243123,
           657654418683935.4,
           664955706223206.5,
           672309828860937.8,
           679716786597127.9,
           687176579431777.8,
           694689207364886.1,
           702254670396454.6,
           709872968526482,
           717544101754969
          ],
          [
           214754870850897.84,
           217260349309463.44,
           219818662866488.03,
           222429811521972.38,
           225093795275915.7,
           227810614128318.6,
           230580268079180.7,
           233402757128502.12,
           236278081276283.03,
           239206240522523.2,
           242187234867222.7,
           245221064310381.56,
           248307728851999.75,
           251447228492077.4,
           254639563230614.28,
           257884733067610.4,
           261182738003066,
           264533578036980.84,
           267937253169355.12,
           271393763400188.8,
           274903108729481.62,
           278465289157234,
           282080304683445.75,
           285748155308116.5,
           289468841031246.9,
           293242361852836.4,
           297068717772885.4,
           300947908791393.8,
           304879934908361.4,
           308864796123788.44,
           312902492437674.6,
           316993023850020.44,
           321136390360825.5,
           325332591970089.75,
           329581628677813.6,
           333883500483996.4,
           338238207388638.8,
           342645749391740.7,
           347106126493301.5,
           351619338693322.06,
           356185385991802,
           360804268388740.9,
           365475985884139.4,
           370200538477997.25,
           374977926170314.3,
           379808148961090.8,
           384691206850326.25,
           389627099838021.8,
           394615827924176.06,
           399657391108789.94,
           404751789391863.1,
           409899022773395.4,
           415099091253387.4,
           420351994831838.75,
           425657733508748.94,
           431016307284118.9,
           436427716157948,
           441891960130236.56,
           447409039200984.56,
           452978953370191.75,
           458601702637858.4,
           464277287003984.2,
           470005706468569.44,
           475786961031614.3,
           481621050693117.94,
           487507975453081.25,
           493447735311503.75,
           499440330268385.8,
           505485760323727.25,
           511584025477528,
           517735125729787.6,
           523939061080507.4,
           530195831529685.5,
           536505437077323.7,
           542867877723421.06,
           549283153467977.44,
           555751264310993.6,
           562272210252469.06,
           568845991292404,
           575472607430797.8,
           582152058667651,
           588884345002963.9,
           595669466436735.8,
           602507422968967.4,
           609398214599658.4,
           616341841328808.1,
           623338303156417.5,
           630387600082486.1,
           637489732107014.5,
           644644699230001.9,
           651852501451448.8,
           659113138771355,
           666426611189720.2,
           673792918706545.2,
           681212061321829.5,
           688684039035573.2,
           696208851847775.5,
           703786499758437.9,
           711416982767559.2,
           719100300875140.1
          ],
          [
           215108031913728.16,
           217625695251387.72,
           220196193687506.3,
           222819527222084.56,
           225495695855121.8,
           228224699586618.7,
           231006538416574.75,
           233841212344990.12,
           236728721371865.1,
           239669065497199.28,
           242662244720992.7,
           245708259043245.56,
           248807108463957.72,
           251958792983129.38,
           255163312600760.12,
           258420667316850.2,
           261730857131399.75,
           265093882044408.56,
           268509742055876.84,
           271978437165804.53,
           275499967374191.38,
           279074332681037.62,
           282701533086343.25,
           286381568590108.06,
           290114439192332.5,
           293900144893015.8,
           297738685692158.8,
           301630061589761.25,
           305574272585822.75,
           309571318680343.75,
           313621199873324.1,
           317723916164763.75,
           321879467554662.8,
           326087854043020.94,
           330349075629838.8,
           334663132315115.56,
           339030024098851.94,
           343449750981047.9,
           347922312961702.75,
           352447710040817.2,
           357025942218390.9,
           361657009494423.94,
           366340911868916.4,
           371077649341868.3,
           375867221913279.25,
           380709629583149.6,
           385604872351479.25,
           390552950218268.4,
           395553863183517.06,
           400607611247224.6,
           405714194409391.75,
           410873612670018.06,
           416085866029104.2,
           421350954486649.4,
           426668878042653.6,
           432039636697117.4,
           437463230450040.6,
           442939659301423.2,
           448468923251265.1,
           454051022299566.2,
           459685956446326.75,
           465373725691546.56,
           471114330035225.8,
           476907769477364.5,
           482754044017962.2,
           488653153657019.4,
           494605098394535.94,
           500609878230511.94,
           506667493164947.4,
           512777943197842.2,
           518941228329195.75,
           525157348559009.5,
           531426303887281.75,
           537748094314013.94,
           544122719839205.1,
           550550180462855.6,
           557030476184965.7,
           563563607005534.6,
           570149572924563.5,
           576788373942051.8,
           583480010057998.8,
           590224481272405.6,
           597021787585271.6,
           603871928996597,
           610774905506382.1,
           617730717114625.6,
           624739363821329.2,
           631800845626492,
           638915162530114.1,
           646082314532195.8,
           653302301632736.1,
           660575123831736.2,
           667900781129195.5,
           675279273525114.4,
           682710601019492.6,
           690194763612330.2,
           697731761303626.8,
           705321594093383,
           712964261981598.4,
           720659764968273.6
          ],
          [
           215464457949520.6,
           217994306166274.12,
           220576989481486.72,
           223212507895158.88,
           225900861407290.12,
           228642050017880.97,
           231436073726931.12,
           234282932534440.4,
           237182626440409.3,
           240135155444837.47,
           243140519547724.8,
           246198718749071.56,
           249309753048877.72,
           252473622447143.3,
           255690326943868.25,
           258959866539052.2,
           262282241232695.75,
           265657451024798.47,
           269085495915360.84,
           272566375904382.4,
           276100090991863.16,
           279686641177803.38,
           283326026462203.2,
           287018246845061.8,
           290763302326380.2,
           294561192906157.7,
           298411918584394.5,
           302315479361090.8,
           306271875236246.25,
           310281106209861.4,
           314343172281935.6,
           318458073452469.25,
           322625809721462.4,
           326846381088914.44,
           331119787554826.25,
           335446029119196.94,
           339825105782027.44,
           344257017543317.1,
           348741764403066,
           353279346361274.4,
           357869763417942.2,
           362513015573069.1,
           367209102826655.7,
           371958025178701.5,
           376759782629206.56,
           381614375178170.8,
           386521802825594.4,
           391482065571477.44,
           396495163415820.06,
           401561096358621.6,
           406679864399882.9,
           411851467539603.1,
           417075905777782.9,
           422353179114422.3,
           427683287549520.56,
           433066231083078.4,
           438502009715095.25,
           443990623445571.94,
           449532072274508,
           455126356201902.9,
           460773475227757.6,
           466473429352071.2,
           472226218574844.4,
           478031842896077.06,
           483890302315768.9,
           489801596833920.06,
           495765726450530.56,
           501782691165600.56,
           507852490979129.8,
           513975125891118.5,
           520150595901566.3,
           526378901010473.7,
           532660041217839.8,
           538994016523666.06,
           545380826927951.4,
           551820472430695.75,
           558312953031899.94,
           564858268731563.1,
           571456419529685.9,
           578107405426268,
           584811226421309.2,
           591567882514809.8,
           598377373706769.5,
           605239699997189.1,
           612154861386068.2,
           619122857873405.6,
           626143689459203.4,
           633217356143459.5,
           640343857926176.1,
           647523194807351.5,
           654755366786985.9,
           662040373865080.4,
           669378216041633.5,
           676768893316646.4,
           684212405690118.6,
           691708753162050.1,
           699257935732440.5,
           706859953401291,
           714514806168599.9,
           722222494034369
          ],
          [
           215824148958274.72,
           218366182054122.2,
           220961050248428.8,
           223608753541194.9,
           226309291932420.16,
           229062665422104.97,
           231868874010249.03,
           234727917696852.3,
           237639796481915.2,
           240604510365437.28,
           243622059347418.72,
           246692443427859.47,
           249815662606759.47,
           252991716884119.16,
           256220606259937.84,
           259502330734215.9,
           262836890306953.44,
           266224284978150.12,
           269664514747806.44,
           273157579615921.97,
           276703479582496.7,
           280302214647530.97,
           283953784811024.6,
           287658190072977.25,
           291415430433389.6,
           295225505892261,
           299088416449591.8,
           303004162105382.3,
           306972742859631.6,
           310994158712340.7,
           315068409663508.75,
           319195495713136.5,
           323375416861223.5,
           327608173107769.56,
           331893764452775.4,
           336232190896240.06,
           340623452438164.44,
           345067549078548.25,
           349564480817391.06,
           354114247654693.5,
           358716849590455.25,
           363372286624676.2,
           368080558757356.56,
           372841665988496.25,
           377655608318095.06,
           382522385746153.6,
           387441998272671.25,
           392414445897648.4,
           397439728621084.75,
           402517846442980.25,
           407648799363335.5,
           412832587382149.75,
           418069210499423.5,
           423358668715156.9,
           428700962029349.2,
           434096090442000.9,
           439544053953111.8,
           445044852562682.4,
           450598486270712.25,
           456204955077201.4,
           461864258982149.75,
           467576397985557.5,
           473341372087424.75,
           479159181287751.4,
           485029825586537.06,
           490953304983782.25,
           496929619479486.56,
           502958769073650.6,
           509040753766273.94,
           515175573557356.4,
           521363228446898.3,
           527603718434899.5,
           533897043521360.25,
           540243203706280.06,
           546642198989659.25,
           553094029371497.75,
           559598694851795.7,
           566156195430553,
           572766531107769.6,
           579429701883445.6,
           586145707757580.8,
           592914548730175.6,
           599736224801229.4,
           606610735970742.6,
           613538082238715.9,
           620518263605147,
           627551280070038.6,
           634637131633389.2,
           641775818295199.5,
           648967340055469.1,
           656211696914197.2,
           663508888871385.6,
           670858915927033,
           678261778081139.9,
           685717475333705.9,
           693226007684731.5,
           700787375134215.8,
           708401577682160.1,
           716068615328563.2,
           723788488073426.2
          ],
          [
           216187104939990.84,
           218741322914932.3,
           221348375988332.84,
           224008264160192.97,
           226720987430512.1,
           229486545799290.97,
           232304939266529,
           235176167832226.28,
           238100231496383.1,
           241077130258999.2,
           244106864120074.44,
           247189433079609.2,
           250324837137603.25,
           253513076294056.88,
           256754150548969.6,
           260048059902341.56,
           263394804354173.1,
           266794383904463.72,
           270246798553214,
           273752048300423.4,
           277310133146092.16,
           280921053090220.4,
           284584808132808,
           288301398273854.75,
           292070823513360.94,
           295893083851326.25,
           299768179287751.1,
           303696109822635.5,
           307676875455978.94,
           311710476187781.8,
           315796912018044,
           319936182946765.7,
           324128288973946.7,
           328373230099586.75,
           332671006323686.4,
           337021617646245.1,
           341425064067263.5,
           345881345586741.25,
           350390462204677.94,
           354952413921074.44,
           359567200735930.2,
           364234822649244.94,
           368955279661019.25,
           373728571771253.1,
           378554698979946,
           383433661287098.25,
           388365458692709.8,
           393350091196780.9,
           398387558799311.44,
           403477861500300.94,
           408620999299750.06,
           413816972197658.25,
           419065780194026,
           424367423288853.2,
           429721901482139.44,
           435129214773885.25,
           440589363164090.3,
           446102346652754.6,
           451668165239878.5,
           457286818925461.6,
           462958307709504.2,
           468682631592005.75,
           474459790572966.94,
           480289784652387.6,
           486172613830267.25,
           492108278106606.3,
           498096777481404.6,
           504138111954662.75,
           510232281526379.8,
           516379286196556.5,
           522579125965192.3,
           528831800832287.6,
           535137310797841.8,
           541495655861855.94,
           547906836024329.2,
           554370851285261.5,
           560887701644653.5,
           567457387102504.6,
           574079907658815.2,
           580755263313585.5,
           587483454066814.5,
           594264479918503.4,
           601098340868651,
           607985036917258.1,
           614924568064325,
           621916934309850.8,
           628962135653836.4,
           636060172096280.5,
           643211043637185,
           650414750276548.2,
           657671292014370.8,
           664980668850653,
           672342880785394.1,
           679757927818595,
           687225809950255,
           694746527180374.6,
           702320079508953,
           709946466935991.1,
           717625689461488.5,
           725357747085445.5
          ],
          [
           216553325894668.88,
           219119728748704.25,
           221738966701198.75,
           224411039752152.97,
           227135947901566.1,
           229913691149438.75,
           232744269495770.8,
           235627682940562.03,
           238563931483812.8,
           241553015125522.97,
           244594933865692.28,
           247689687704320.9,
           250837276641408.84,
           254037700676956.44,
           257290959810963.25,
           260597054043429.12,
           263955983374354.47,
           267367747803739.28,
           270832347331583.47,
           274349781957886.88,
           277920051682649.56,
           281543156505871.8,
           285219096427553.44,
           288947871447694.06,
           292729481566294.25,
           296563926783353.75,
           300451207098872.5,
           304391322512850.8,
           308384273025288.06,
           312430058636185.06,
           316528679345541.1,
           320680135153356.7,
           324884426059631.75,
           329141552064365.75,
           333451513167559.44,
           337814309369212.06,
           342229940669324.3,
           346698407067896.1,
           351219708564926.75,
           355793845160417.25,
           360420816854366.9,
           365100623646775.75,
           369833265537644.2,
           374618742526971.75,
           379457054614758.6,
           384348201801004.9,
           389292184085710.56,
           394289001468875.5,
           399338653950500,
           404441141530583.6,
           409596464209126.56,
           414804621986128.8,
           420065614861590.75,
           425379442835511.7,
           430746105907892,
           436165604078731.5,
           441637937348030.56,
           447163105715789.06,
           452741109182006.94,
           458371947746683.75,
           464055621409820.4,
           469792130171415.75,
           475581474031471.2,
           481423652989985.5,
           487318667046959.4,
           493266516202392.2,
           499267200456284.8,
           505320719808636.6,
           511427074259447.75,
           517586263808718.5,
           523798288456448.2,
           530063148202637.7,
           536380843047285.6,
           542751372990393.5,
           549174738031961.06,
           555650938171987.2,
           562179973410473.4,
           568761843747418.4,
           575396549182822.9,
           582084089716686.9,
           588824465349010,
           595617676079792.4,
           602463721909034.5,
           609362602836735.9,
           616314318862896.6,
           623318869987516.4,
           630376256210595.6,
           637486477532133.9,
           644649533952132.2,
           651865425470589.6,
           659134152087506.1,
           666455713802882.1,
           673830110616717.5,
           681257342529012.1,
           688737409539766.1,
           696270311648979.6,
           703856048856652,
           711494621162784.1,
           719186028567375.5,
           726930271070426.2
          ],
          [
           216922811822309.1,
           219501399555438.4,
           222132822387026.97,
           224817080317074.97,
           227554173345582.16,
           230344101472548.75,
           233186864697974.8,
           236082463021860.1,
           239030896444204.8,
           242032164965008.9,
           245086268584272.12,
           248193207301994.84,
           251352981118176.72,
           254565590032818.28,
           257831034045919.1,
           261149313157478.9,
           264520427367498.38,
           267944376675976.88,
           271421161082915,
           274950780588312.53,
           278533235192169.2,
           282168524894485.4,
           285856649695260.8,
           289597609594495.6,
           293391404592189.75,
           297238034688343.2,
           301137499882955.75,
           305089800176028.1,
           309094935567559.4,
           313152906057550.5,
           317263711646000.4,
           321427352332910,
           325643828118278.94,
           329913139002106.94,
           334235284984394.75,
           338610266065141.44,
           343038082244347.5,
           347518733522013.2,
           352052219898137.94,
           356638541372722.2,
           361277697945766,
           365969689617268.75,
           370714516387231.1,
           375512178255652.8,
           380362675222533.44,
           385266007287873.8,
           390222174451673.4,
           395231176713932.4,
           400293014074650.75,
           405407686533828.4,
           410575194091465.25,
           415795536747561.5,
           421068714502117.1,
           426394727355132.3,
           431773575306606.56,
           437205258356540.2,
           442689776504933.1,
           448227129751785.7,
           453817318097097.5,
           459460341540868.3,
           465156200083099.06,
           470904893723788.4,
           476706422462937.5,
           482560786300546.2,
           488467985236613.6,
           494428019271140.75,
           500440888404127.2,
           506506592635572.94,
           512625131965478.3,
           518796506393842.9,
           525020715920666.4,
           531297760545949.75,
           537627640269691.8,
           544010355091894,
           550445905012554.94,
           556934290031675.4,
           563475510149255.4,
           570069565365294.2,
           576716455679793,
           583416181092751,
           590168741604167.8,
           596974137214044.8,
           603832367922380.1,
           610743433729175.6,
           617707334634430.4,
           624724070638144.1,
           631793641740317.5,
           638916047940949.9,
           646091289240041.9,
           653319365637593.5,
           660600277133603.8,
           667934023728073.9,
           675320605421002.8,
           682760022212391.5,
           690252274102239.6,
           697797361090547.5,
           705395283177313.4,
           713046040362539.6,
           720749632646224.8,
           728506060028369.8
          ],
          [
           217295562722911,
           219886335335134.38,
           222529943045816.75,
           225226385854958.88,
           227975663762559.9,
           230777776768620.62,
           233632724873140.56,
           236540508076119.8,
           239501126377558.47,
           242514579777456.53,
           245580868275813.75,
           248699991872630.44,
           251871950567906.4,
           255096744361641.8,
           258374373253836.6,
           261704837244490.38,
           265088136333603.8,
           268524270521176.4,
           272013239807208.53,
           275555044191699.9,
           279149683674650.6,
           282797158256060.7,
           286497467935930.25,
           290250612714258.8,
           294056592591046.94,
           297915407566294.4,
           301827057640001.06,
           305791542812167.4,
           309808863082792.6,
           313879018451877.44,
           318002008919421.4,
           322177834485425.06,
           326406495149887.94,
           330687990912809.94,
           335022321774191.56,
           339409487734032.06,
           343849488792332.25,
           348342324949091.94,
           352887996204310.75,
           357486502557989.06,
           362137844010126.75,
           366842020560723.44,
           371599032209779.8,
           376408878957295.44,
           381271560803270.06,
           386187077747704.3,
           391155429790597.8,
           396176616931951.06,
           401250639171763.2,
           406377496510034.75,
           411557188946765.75,
           416789716481955.7,
           422075079115605.6,
           427413276847714.75,
           432804309678282.8,
           438248177607310.56,
           443744880634797.4,
           449294418760743.8,
           454896791985149.6,
           460552000308014.4,
           466260043729338.94,
           472020922249122.56,
           477834635867365.5,
           483701184584068.06,
           489620568399229.6,
           495592787312850.6,
           501617841324930.94,
           507695730435470.75,
           513826454644470.06,
           520010013951928.6,
           526246408357846.06,
           532535637862223.5,
           538877702465059.7,
           545272602166355.75,
           551720336966110.75,
           558220906864325.06,
           564774311860998.9,
           571380551956132,
           578039627149724.5,
           584751537441776.6,
           591516282832287.5,
           598333863321258.1,
           605204278908687.9,
           612127529594577.2,
           619103615378925.8,
           626132536261733.4,
           633214292243000.8,
           640348883322727.1,
           647536309500913.2,
           654776570777558.5,
           662069667152662.8,
           669415598626226.9,
           676814365198249.9,
           684265966868733,
           691770403637674.8,
           699327675505076.2,
           706937782470936.4,
           714600724535256.8,
           722316501698035.9,
           730085113959274.8
          ],
          [
           217671578596474.8,
           220274536087792.2,
           222930328677568.7,
           225638956365804.62,
           228400419152499.7,
           231214717037654.25,
           234081850021268.25,
           237001818103341.44,
           239974621283874.16,
           243000259562866.1,
           246078732940317.38,
           249210041416227.88,
           252394184990597.9,
           255631163663427.28,
           258920977434716,
           262263626304463.75,
           265659110272671.16,
           269107429339337.72,
           272608583504463.8,
           276162572768049.1,
           279769397130093.84,
           283429056590597.94,
           287141551149561.4,
           290906880806984,
           294725045562866.2,
           298596045417207.4,
           302519880370008.2,
           306496550421268.4,
           310526055570987.6,
           314608395819166.4,
           318743571165804.5,
           322931581610901.94,
           327172427154458.8,
           331466107796474.8,
           335812623536950.3,
           340211974375884.9,
           344664160313279.1,
           349169181349132.75,
           353727037483445.4,
           358337728716217.75,
           363001255047449.4,
           367717616477140.2,
           372486813005290.25,
           377308844631899.94,
           382183711356968.75,
           387111413180496.9,
           392091950102484.3,
           397125322122931.44,
           402211529241837.6,
           407350571459203.1,
           412542448775028.25,
           417787161189312.2,
           423084708702055.75,
           428435091313258.94,
           433838309022921.2,
           439294361831042.6,
           444803249737623.5,
           450364972742663.94,
           455979530846163.7,
           461646924048122.5,
           467367152348541.06,
           473140215747418.56,
           478966114244755.7,
           484844847840552,
           490776416534807.5,
           496760820327522.6,
           502798059218696.8,
           508888133208330.6,
           515031042296423.75,
           521226786482976.4,
           527475365767987.94,
           533776780151459.06,
           540131029633389.25,
           546538114213779.2,
           552998033892628.2,
           559510788669936.75,
           566076378545704.5,
           572694803519931.4,
           579366063592617.9,
           586090158763763.9,
           592867089033369,
           599696854401433.5,
           606579454867957.2,
           613514890432940.5,
           620503161096383.2,
           627544266858284.6,
           634638207718645.9,
           641784983677466.1,
           648984594734746.4,
           656237040890485.6,
           663542322144684.1,
           670900438497342.1,
           678311389948459.1,
           685775176498035.8,
           693291798146072,
           700861254892567.1,
           708483546737521.6,
           716158673680935.5,
           723886635722808.6,
           731667432863141.6
          ],
          [
           218050859443000.7,
           220666001813411.97,
           223333979282282.3,
           226054791849612.4,
           228828439515401.38,
           231654922279649.9,
           234534240142357.88,
           237466393103525.03,
           240451381163151.62,
           243489204321237.62,
           246579862577782.84,
           249723355932787.44,
           252919684386251.28,
           256168847938174.72,
           259470846588557.38,
           262825680337399.12,
           266233349184700.53,
           269693853130461,
           273207192174681.03,
           276773366317360.47,
           280392375558499,
           284064219898097.1,
           287788899336154.56,
           291566413872671,
           295396763507647.25,
           299279948241082.4,
           303215968072977.06,
           307204823003331.4,
           311246513032144.5,
           315341038159417.44,
           319488398385149.25,
           323688593709340.75,
           327941624131991.7,
           332247489653101.5,
           336606190272671.1,
           341017725990699.6,
           345482096807187.8,
           349999302722135.44,
           354569343735542.06,
           359192219847408.3,
           363867931057733.8,
           368596477366518.6,
           373377858773762.9,
           378212075279466.4,
           383099126883629.2,
           388039013586251.4,
           393031735387332.75,
           398077292286873.75,
           403175684284874,
           408326911381333.6,
           413530973576252.4,
           418787870869630.3,
           424097603261468.06,
           429460170751765.1,
           434875573340521.25,
           440343811027736.75,
           445864883813411.75,
           451438791697545.94,
           457065534680139.75,
           462745112761192.5,
           468477525940705.06,
           474262774218676.25,
           480100857595107.44,
           485991776069998,
           491935529643347.4,
           497932118315156.4,
           503981542085424.5,
           510083800954152.5,
           516238894921339.7,
           522446823986986.06,
           528707588151091.6,
           535021187413656.6,
           541387621774680.94,
           547806891234164.75,
           554278995792107.8,
           560803935448510.2,
           567381710203372.1,
           574012320056692.9,
           580695765008473.2,
           587432045058713.2,
           594221160207412.5,
           601063110454570.8,
           607957895800188.4,
           614905516244265.9,
           621905971786802.5,
           628959262427797.9,
           636065388167253,
           643224349005167.2,
           650436144941541.5,
           657700775976374.9,
           665018242109667,
           672388543341419,
           679811679671630.1,
           687287651100300.9,
           694816457627430.8,
           702398099253020,
           710032575977068.4,
           717719887799576.5,
           725460034720543.4,
           733253016739970.2
          ],
          [
           218433405262488.6,
           221060732511993.9,
           223740894859958.25,
           226473892306382.2,
           229259724851265.28,
           232098392494607.84,
           234989895236409.7,
           237934233076670.72,
           240931406015391.44,
           243981414052571.4,
           247084257188210.38,
           250239935422309.03,
           253448448754866.84,
           256709797185884.28,
           260023980715360.88,
           263390999343296.62,
           266810853069691.97,
           270283541894546.4,
           273809065817860.44,
           277387424839633.8,
           281018618959866.38,
           284702648178558.5,
           288439512495709.94,
           292229211911320.4,
           296071746425390.56,
           299967116037919.75,
           303915320748908.4,
           307916360558356.5,
           311970235466263.7,
           316076945472630.6,
           320236490577456.5,
           324448870780741.8,
           328714086082486.6,
           333032136482690.5,
           337403021981354.2,
           341826742578476.75,
           346303298274058.94,
           350832689068100.44,
           355414914960601.06,
           360049975951561.1,
           364737872040980.6,
           369478603228859.4,
           374272169515197.5,
           379118570899995.06,
           384017807383251.75,
           388969878964968.2,
           393974785645143.25,
           399032527423778.3,
           404143104300872.6,
           409306516276426,
           414522763350438.9,
           419791845522910.94,
           425113762793842.6,
           430488515163233.5,
           435916102631083.75,
           441396525197393.25,
           446929782862162,
           452515875625390.4,
           458154803487077.94,
           463846566447224.8,
           469591164505831.2,
           475388597662896.56,
           481238865918421.7,
           487141969272406.2,
           493097907724849.44,
           499106681275752.4,
           505168289925114.75,
           511282733672936.4,
           517450012519217.6,
           523670126463958.06,
           529943075507157.4,
           536268859648816.75,
           542647478888934.75,
           549078933227512.9,
           555563222664549.7,
           562100347200045.94,
           568690306834001.9,
           575333101566416.6,
           582028731397291.1,
           588777196326624.9,
           595578496354418.2,
           602432631480670.5,
           609339601705382.2,
           616299407028553.2,
           623312047450183.6,
           630377522970273.4,
           637495833588822.8,
           644666979305830.9,
           651890960121299.1,
           659167776035226,
           666497427047612.6,
           673879913158458.4,
           681315234367763.4,
           688803390675528.4,
           696344382081752,
           703938208586435.5,
           711584870189577.5,
           719284366891179.9,
           727036698691240.6,
           734841865589761.6
          ],
          [
           218819216054938.3,
           221458728183537.56,
           224151075410595.97,
           226896257736113.8,
           229694275160090.75,
           232545127682527.3,
           235448815303423.2,
           238405338022778.28,
           241414695840592.88,
           244476888756866.72,
           247591916771599.9,
           250759779884792.47,
           253980478096444.3,
           257254011406555.53,
           260580379815126.2,
           263959583322155.84,
           267391621927645.2,
           270876495631593.62,
           274414204434001.62,
           278004748334869,
           281648127334195.5,
           285344341431981.56,
           289093390628226.94,
           292895274922931.4,
           296749994316095.56,
           300657548807718.6,
           304617938397801.1,
           308631163086343.4,
           312697222873344.3,
           316816117758805.25,
           320987847742725.2,
           325212412825104.6,
           329489813005943.5,
           333820048285241.25,
           338203118662998.8,
           342639024139215.25,
           347127764713891.4,
           351669340387026.9,
           356263751158621.5,
           360910997028675.8,
           365611077997189.2,
           370363994064161.8,
           375169745229594.06,
           380028331493485.6,
           384939752855836.06,
           389904009316646.3,
           394921100875915.7,
           399991027533644.56,
           405113789289832.9,
           410289386144480.4,
           415517818097586.94,
           420799085149153.1,
           426133187299178.6,
           431520124547663.75,
           436959896894607.75,
           442452504340011.2,
           447997946883874.06,
           453596224526196.25,
           459247337266977.94,
           464951285106218.9,
           470708068043919.06,
           476517686080078.6,
           482380139214697.4,
           488295427447776,
           494263550779313.25,
           500284509209310.06,
           506358302737766.5,
           512484931364682,
           518664395090057.1,
           524896693913891.5,
           531181827836185.2,
           537519796856938.25,
           543910600976150.3,
           550354240193822.2,
           556850714509953.2,
           563400023924543.4,
           570002168437593.1,
           576657148049102,
           583364962759070.6,
           590125612567498.5,
           596939097474385.2,
           603805417479731.9,
           610724572583537.1,
           617696562785802.5,
           624721388086527.1,
           631799048485710.6,
           638929543983354.1,
           646112874579456,
           653349040274018.1,
           660638041067039.2,
           667979876958519.5,
           675374547948459.2,
           682822054036858.4,
           690322395223717,
           697875571509034.8,
           705481582892812.1,
           713140429375048.1,
           720852110955744.5,
           728616627634899.5,
           736433979412513.9
          ],
          [
           219208291820350,
           221859988828043.2,
           224564520934195.4,
           227321888138807.3,
           230132090441878.3,
           232995127843408.9,
           235911000343398.62,
           238879707941847.56,
           241901250638756.25,
           244975628434124.12,
           248102841327951.2,
           251282889320237.6,
           254515772410983.56,
           257801490600188.8,
           261140043887853.4,
           264531432273977.1,
           267975655758560.3,
           271472714341602.75,
           275022608023104.75,
           278625336803066.1,
           282280900681486.6,
           285989299658366.5,
           289750533733705.8,
           293564602907504.25,
           297431507179762.25,
           301351246550479.5,
           305323821019656.06,
           309349230587292.25,
           313427475253387.3,
           317558555017942.2,
           321742469880956,
           325979219842429.4,
           330268804902362.1,
           334611225060753.94,
           339006480317605.44,
           343454570672915.9,
           347955496126686,
           352509256678915.4,
           357115852329604.06,
           361775283078752.06,
           366487548926359.44,
           371252649872426.25,
           376070585916952.4,
           380941357059937.94,
           385864963301382.5,
           390841404641286.75,
           395870681079649.75,
           400952792616472.8,
           406087739251755.1,
           411275520985496.25,
           416516137817697.1,
           421809589748357.1,
           427155876777476.75,
           432554998905055.8,
           438006956131093.6,
           443511748455591.2,
           449069375878547.8,
           454679838399964.25,
           460343136019839.94,
           466059268738174.56,
           471828236554968.9,
           477650039470222.25,
           483524677483935.25,
           489452150596107.7,
           495432458806739.1,
           501465602115829.8,
           507551580523380,
           513690394029389.7,
           519882042633858.75,
           526126526336787.2,
           532423845138174.75,
           538773999038021.7,
           545176988036327.75,
           551632812133093.44,
           558141471328318.56,
           564702965622002.8,
           571317295014146.6,
           577984459504749.1,
           584704459093811.8,
           591477293781333.5,
           598302963567314.4,
           605181468451754.8,
           612112808434654.4,
           619096983516013.6,
           626133993695832.1,
           633223838974109.5,
           640366519350846.5,
           647562034826043.2,
           654810385399698.9,
           662111571071814.2,
           669465591842388.4,
           676872447711422.4,
           684332138678915.1,
           691844664744867.9,
           699410025909279.5,
           707028222172150.9,
           714699253533480.9,
           722423119993271.2,
           730199821551519.9,
           738029358208228.8
          ],
          [
           219600632558723.56,
           222264514445510.72,
           224981231430757.03,
           227750783514462.84,
           230573170696627.8,
           233448392977252.28,
           236376450356336,
           239357342833879.03,
           242391070409881.56,
           245477633084343.44,
           248617030857264.56,
           251809263728645.03,
           255054331698484.7,
           258352234766784.03,
           261702972933542.62,
           265106546198760.2,
           268562954562437.44,
           272072198024573.84,
           275634276585169.88,
           279249190244225,
           282916939001739.5,
           286637522857713.5,
           290410941812146.8,
           294237195865039.2,
           298116285016391.2,
           302048209266202.4,
           306032968614472.94,
           310070563061202.94,
           314160992606392.06,
           318304257250040.8,
           322500356992148.6,
           326749291832715.94,
           331051061771742.8,
           335405666809228.4,
           339813106945174.06,
           344273382179578.4,
           348786492512442.5,
           353352437943765.8,
           357971218473548.3,
           362642834101790.4,
           367367284828491.94,
           372144570653652.4,
           376974691577272.56,
           381857647599352.2,
           386793438719890.75,
           391782064938888.8,
           396823526256346.06,
           401917822672263.06,
           407064954186639.2,
           412264920799474.5,
           417517722510769.2,
           422823359320523.2,
           428181831228736.75,
           433593138235409.75,
           439057280340541.7,
           444574257544133.1,
           450144069846183.7,
           455766717246694.06,
           461442199745663.6,
           467170517343092.3,
           472951670038980.75,
           478785657833328,
           484672480726134.9,
           490612138717401.4,
           496604631807126.6,
           502649959995311.6,
           508748123281955.44,
           514899121667059.25,
           521102955150622.25,
           527359623732644.5,
           533669127413125.94,
           540031466192067.06,
           546446640069467.06,
           552914649045326.9,
           559435493119645.75,
           566009172292424,
           572635686563661.6,
           579315035933358.5,
           586047220401515,
           592832239968131,
           599670094633205.6,
           606560784396740.2,
           613504309258733.5,
           620500669219186.8,
           627549864278099.1,
           634651894435470.5,
           641806759691301.6,
           649014460045592,
           656274995498341.6,
           663588366049550.9,
           670954571699219.1,
           678373612447347.2,
           685845488293933.9,
           693370199238980.4,
           700947745282486.4,
           708578126424451.5,
           716261342664875.6,
           723997394003759.9,
           731786280441102.4,
           739628001976905.1
          ],
          [
           219996238270059.28,
           222672305035940.44,
           225401206900280.6,
           228182943863080.4,
           231017515924339.38,
           233904923084057.88,
           236845165342235.6,
           239838242698872.53,
           242884155153969.1,
           245982902707524.88,
           249134485359539.97,
           252338903110014.38,
           255596155958948.1,
           258906243906341.4,
           262269166952193.88,
           265684925096505.53,
           269153518339276.72,
           272674946680507.1,
           276249210120197.03,
           279876308658346.2,
           283556242294954.6,
           287289011030022.56,
           291074614863549.8,
           294913053795536.25,
           298804327825982.2,
           302748436954887.4,
           306745381182251.9,
           310795160508075.94,
           314897774932358.94,
           319053224455101.6,
           323261509076303.5,
           327522628795964.75,
           331836583614085.5,
           336203373530665.2,
           340622998545704.75,
           345095458659203.2,
           349620753871161.2,
           354198884181578.56,
           358829849590454.94,
           363513650097791.25,
           368250285703586.56,
           373039756407841.1,
           377882062210555.2,
           382777203111728.6,
           387725179111361.2,
           392725990209453.4,
           397779636406004.5,
           402886117701015.4,
           408045434094485.6,
           413257585586414.75,
           418522572176803.44,
           423840393865651.44,
           429211050652958.94,
           434634542538726,
           440110869522952,
           445640031605637.4,
           451222028786782,
           456856861066386,
           462544528444449.94,
           468285030920972.3,
           474078368495954.56,
           479924541169395.94,
           485823548941296.9,
           491775391811657.1,
           497780069780476.6,
           503837582847755.4,
           509947931013493.5,
           516111114277691.06,
           522327132640348,
           528595986101464.3,
           534917674661039.8,
           541292198319075.06,
           547719557075568.6,
           554199750930522.5,
           560732779883935.5,
           567318643935807.8,
           573957343086139.4,
           580648877334930,
           587393246682180.8,
           594190451127890.4,
           601040490672058.9,
           607943365314687.2,
           614899075055774.8,
           621907619895322,
           628968999833328.4,
           636083214869794.1,
           643250265004718.9,
           650470150238103.2,
           657742870569947,
           665068426000250.2,
           672446816529012.4,
           679878042156234.1,
           687362102881915,
           694898998706055.6,
           702488729628655.4,
           710131295649714.8,
           717826696769232.6,
           725574932987210.8,
           733376004303647.5,
           741229910718544.1
          ],
          [
           220395108954356.75,
           223083360599331.9,
           225824447342766.16,
           228618369184659.88,
           231465126125012.72,
           234364718163825.2,
           237317145301096.8,
           240322407536827.88,
           243380504871018.3,
           246491437303668.12,
           249655204834777.1,
           252871807464345.56,
           256141245192373.2,
           259463518018860.47,
           262838625943806.84,
           266266568967212.47,
           269747347089077.72,
           273280960309402.03,
           276867408628185.9,
           280506692045429.2,
           284198810561131.56,
           287943764175293.44,
           291741552887914.75,
           295592176698994.94,
           299495635608534.94,
           303451929616534.06,
           307461058722992.5,
           311523022927910.56,
           315637822231287.75,
           319805456633124.2,
           324025926133420.06,
           328299230732175.3,
           332625370429390.06,
           337004345225063.7,
           341436155119197.2,
           345920800111789.4,
           350458280202841.5,
           355048595392352.9,
           359691745680323.25,
           364387731066753.5,
           369136551551642.6,
           373938207134991.4,
           378792697816799.4,
           383700023597066.8,
           388660184475793.44,
           393673180452979.4,
           398739011528624.56,
           403857677702729.4,
           409029178975293.5,
           414253515346316.8,
           419530686815799.6,
           424860693383741.4,
           430243535050142.9,
           435679211815003.75,
           441167723678323.6,
           446709070640103.1,
           452303252700341.6,
           457950269859039.75,
           463650122116197.4,
           469402809471814.25,
           475208331925890.4,
           481066689478425.6,
           486977882129420.5,
           492941909878874.8,
           498958772726788.2,
           505028470673160.8,
           511151003717992.9,
           517326371861284.4,
           523554575103035.5,
           529835613443245.75,
           536169486881915.25,
           542556195419044.25,
           548995739054632.2,
           555488117788679.75,
           562033331621186.5,
           568631380552152.8,
           575282264581578.6,
           581985983709463.1,
           588742537935807.5,
           595551927260611.2,
           602414151683874.1,
           609329211205596.1,
           616297105825777.9,
           623317835544419,
           630391400361519.2,
           637517800277078.8,
           644697035291097.9,
           651929105403575.9,
           659214010614513.9,
           666551750923911,
           673942326331766.9,
           681385736838083,
           688881982442857.9,
           696431063146092.4,
           704032978947785.9,
           711687729847939.1,
           719395315846551.1,
           727155736943623.4,
           734968993139154.1,
           742835084433144.6
          ],
          [
           220797244611616.25,
           223497681135685.2,
           226250952758213.47,
           229057059479201.2,
           231916001298647.97,
           234827778216554.4,
           237792390232920.12,
           240809837347745,
           243880119561029.53,
           247003236872773.25,
           250179189282976.2,
           253407976791638.6,
           256689599398760.38,
           260024057104341.4,
           263411349908381.9,
           266851477810881.44,
           270344440811840.72,
           273890238911258.88,
           277488872109136.75,
           281140340405473.97,
           284844643800270.3,
           288601782293526.2,
           292411755885241.4,
           296274564575415.8,
           300190208364049.7,
           304158687251142.7,
           308180001236695.2,
           312254150320707.1,
           316381134503178.1,
           320560953784108.8,
           324793608163498.56,
           329079097641347.8,
           333417422217656.3,
           337808581892424.06,
           342252576665651.56,
           346749406537337.9,
           351299071507483.9,
           355901571576089.25,
           360556906743153.5,
           365265077008677.7,
           370026082372660.94,
           374839922835103.6,
           379706598396005.6,
           384626109055366.9,
           389598454813187.4,
           394623635669467.4,
           399701651624206.56,
           404832502677405.44,
           410016188829063.44,
           415252710079180.56,
           420542066427757.25,
           425884257874793.25,
           431279284420288.75,
           436727146064243.5,
           442227842806657.25,
           447781374647530.8,
           453387741586863.2,
           459046943624655.6,
           464758980760907.06,
           470523852995617.75,
           476341560328787.8,
           482212102760417.1,
           488135480290505.94,
           494111692919054.2,
           500140740646061.5,
           506222623471528.2,
           512357341395454.4,
           518544894417839.8,
           524785282538684.9,
           531078505757988.94,
           537424564075752.4,
           543823457491975.25,
           550275186006657.5,
           556779749619799.06,
           563337148331399.9,
           569947382141459.9,
           576610451049979.6,
           583326355056958.1,
           590095094162396.6,
           596916668366294.4,
           603791077668651.1,
           610718322069467.4,
           617698401568742.8,
           624731316166477.6,
           631817065862672.2,
           638955650657325.5,
           646147070550438.5,
           653391325542010.6,
           660688415632042.5,
           668038340820533.8,
           675441101107483.9,
           682896696492893.4,
           690405126976762.2,
           697966392559090.9,
           705580493239878.4,
           713247429019125.8,
           720967199896831.6,
           728739805872997.6,
           736565246947622.4,
           744443523120706.9
          ],
          [
           221202645241837.75,
           223915266645000.7,
           226680723146622.75,
           229499014746704.56,
           232370141445245.38,
           235294103242245.75,
           238270900137705.3,
           241300532131624.3,
           244382999224002.88,
           247518301414840.44,
           250706438704137.28,
           253947411091893.75,
           257241218578109.47,
           260587861162784.53,
           263987338845918.88,
           267439651627512.4,
           270944799507565.7,
           274502782486077.8,
           278113600563049.7,
           281777253738480.8,
           285493742012371.25,
           289263065384721.1,
           293085223855530.25,
           296960217424798.56,
           300888046092526.4,
           304868709858713.5,
           308902208723359.75,
           312988542686465.8,
           317127711748030.75,
           321319715908055.5,
           325564555166539.2,
           329862229523482.25,
           334212738978884.8,
           338616083532746.7,
           343072263185067.94,
           347581277935848.25,
           352143127785088.2,
           356757812732787.7,
           361425332778945.75,
           366145687923563.94,
           370918878166641.25,
           375744903508177.94,
           380623763948173.8,
           385555459486629.2,
           390539990123543.5,
           395577355858917.44,
           400667556692750.6,
           405810592625043.44,
           411006463655795.44,
           416255169785006.6,
           421556711012677.6,
           426911087338807.1,
           432318298763396.56,
           437778345286445.4,
           443291226907953.25,
           448856943627920.5,
           454475495446347.25,
           460146882363233.4,
           465871104378578.94,
           471648161492383.5,
           477478053704647.5,
           483360781015370.9,
           489296343424553.6,
           495284740932195.94,
           501325973538296.9,
           507420041242857.75,
           513566944045877.75,
           519766681947357.25,
           526019254947296.3,
           532324663045694.4,
           538682906242551.8,
           545093984537868.75,
           551557897931644.6,
           558074646423880.4,
           564644230014575.2,
           571266648703729.1,
           577941902491343,
           584669991377415.4,
           591450915361947.9,
           598284674444939.6,
           605171268626390.1,
           612110697906300.5,
           619102962284669.8,
           626148061761498.8,
           633245996336787.4,
           640396766010534.5,
           647600370782741.6,
           654856810653407.4,
           662166085622533.1,
           669528195690118.4,
           676943140856162.4,
           684410921120666.4,
           691931536483629,
           699504986945051.2,
           707131272504933.2,
           714810393163274.4,
           722542348920074.1,
           730327139775334.1,
           738164765729053.1,
           746055226781231.9
          ],
          [
           221611310845021,
           224336117127278,
           227113758507994.16,
           229944234987169.88,
           232827546564804.7,
           235763693240898.97,
           238752675015452.6,
           241794491888465.47,
           244889143859937.8,
           248036630929869.6,
           251236953098260.47,
           254490110365110.84,
           257796102730420.47,
           261154930194189.6,
           264566592756417.9,
           268031090417105.44,
           271548423176252.44,
           275118591033858.72,
           278741593989924.6,
           282417432044449.75,
           286146105197434.06,
           289927613448877.8,
           293761956798781,
           297649135247143.2,
           301589148793965.1,
           305581997439246.06,
           309627681182986.4,
           313726200025186.44,
           317877553965845.3,
           322081743004963.94,
           326338767142541.6,
           330648626378578.8,
           335011320713075.3,
           339426850146031.06,
           343895214677446.4,
           348416414307320.7,
           352990449035654.56,
           357617318862447.94,
           362297023787700.2,
           367029563811412.25,
           371814938933583.5,
           376653149154213.94,
           381544194473303.94,
           386488074890853.2,
           391484790406861.6,
           396534341021329.6,
           401636726734256.75,
           406791947545643.44,
           412000003455489.44,
           417260894463794.56,
           422574620570559.4,
           427941181775783.1,
           433360578079466.56,
           438832809481609.25,
           444357875982210.94,
           449935777581272.5,
           455566514278793.06,
           461250086074773.06,
           466986492969212.56,
           472775734962111.06,
           478617812053469.2,
           484512724243286.5,
           490460471531563.2,
           496461053918299.5,
           502514471403494.75,
           508620723987149.25,
           514779811669263.2,
           520991734449836.75,
           527256492328869.7,
           533574085306361.8,
           539944513382313.25,
           546367776556724.2,
           552843874829593.94,
           559372808200923.6,
           565954576670712.4,
           572589180238960.1,
           579276618905668.1,
           586016892670834.6,
           592810001534461,
           599655945496546.5,
           606554724557091.2,
           613506338716095.2,
           620510787973558.8,
           627568072329481.9,
           634678191783864.1,
           641841146336705.6,
           649056935988006.1,
           656325560737766.4,
           663647020585986.1,
           671021315532665.2,
           678448445577803.2,
           685928410721400.9,
           693461210963457.5,
           701046846303974.4,
           708685316742949.9,
           716376622280385,
           724120762916278.9,
           731917738650632.8,
           739767549483445.6,
           747670195414718.1
          ],
          [
           222023241421166.25,
           224760232582517.28,
           227550058842327.38,
           230392720200597,
           233288216657325.75,
           236236548212514.1,
           239237714866161.72,
           242291716618268.44,
           245398553468834.97,
           248558225417860.6,
           251770732465345.4,
           255036074611289.72,
           258354251855693.25,
           261725264198556.38,
           265149111639878.75,
           268625794179660.28,
           272155311817901.38,
           275737664554601.44,
           279372852389761.28,
           283060875323380.4,
           286801733355458.56,
           290595426485996.4,
           294441954714993.6,
           298341318042449.8,
           302293516468365.56,
           306298549992740.5,
           310356418615574.8,
           314467122336868.8,
           318630661156621.7,
           322847035074834.25,
           327116244091505.94,
           331438288206637.1,
           335813167420227.7,
           340240881732277.1,
           344721431142786.7,
           349254815651754.8,
           353841035259182.8,
           358480089965070.06,
           363171979769416.3,
           367916704672222.25,
           372714264673487.5,
           377564659773211.75,
           382467889971395.94,
           387423955268039.4,
           392432855663141.6,
           397494591156703.6,
           402609161748724.56,
           407776567439205.25,
           412996808228145.2,
           418269884115544.3,
           423595795101403.1,
           428974541185720.9,
           434406122368498.25,
           439890538649734.8,
           445427790029430.75,
           451017876507586.06,
           456660798084200.56,
           462356554759274.5,
           468105146532808,
           473906573404800.4,
           479760835375252.56,
           485667932444163.75,
           491627864611534.5,
           497640631877364.75,
           503706234241653.94,
           509824671704402.6,
           515995944265610.5,
           522220051925277.94,
           528496994683404.8,
           534826772539990.94,
           541209385495036.3,
           547644833548541.1,
           554133116700504.9,
           560674234950928.56,
           567268188299811.2,
           573914976747153.4,
           580614600292955,
           587367058937215.5,
           594172352679935.6,
           601030481521115.1,
           607941445460753.9,
           614905244498852.2,
           621921878635409.6,
           628991347870426.8,
           636113652203902.8,
           643288791635837.9,
           650516766166232.9,
           657797575795086.9,
           665131220522400.8,
           672517700348173.8,
           679957015272405.6,
           687449165295097.2,
           694994150416248.4,
           702591970635858.8,
           710242625953928.4,
           717946116370457.2,
           725702441885445.2,
           733511602498893.1,
           741373598210799.9,
           749288429021165.9
          ]
         ]
        }
       ],
       "layout": {
        "template": {
         "data": {
          "bar": [
           {
            "error_x": {
             "color": "#2a3f5f"
            },
            "error_y": {
             "color": "#2a3f5f"
            },
            "marker": {
             "line": {
              "color": "#E5ECF6",
              "width": 0.5
             },
             "pattern": {
              "fillmode": "overlay",
              "size": 10,
              "solidity": 0.2
             }
            },
            "type": "bar"
           }
          ],
          "barpolar": [
           {
            "marker": {
             "line": {
              "color": "#E5ECF6",
              "width": 0.5
             },
             "pattern": {
              "fillmode": "overlay",
              "size": 10,
              "solidity": 0.2
             }
            },
            "type": "barpolar"
           }
          ],
          "carpet": [
           {
            "aaxis": {
             "endlinecolor": "#2a3f5f",
             "gridcolor": "white",
             "linecolor": "white",
             "minorgridcolor": "white",
             "startlinecolor": "#2a3f5f"
            },
            "baxis": {
             "endlinecolor": "#2a3f5f",
             "gridcolor": "white",
             "linecolor": "white",
             "minorgridcolor": "white",
             "startlinecolor": "#2a3f5f"
            },
            "type": "carpet"
           }
          ],
          "choropleth": [
           {
            "colorbar": {
             "outlinewidth": 0,
             "ticks": ""
            },
            "type": "choropleth"
           }
          ],
          "contour": [
           {
            "colorbar": {
             "outlinewidth": 0,
             "ticks": ""
            },
            "colorscale": [
             [
              0,
              "#0d0887"
             ],
             [
              0.1111111111111111,
              "#46039f"
             ],
             [
              0.2222222222222222,
              "#7201a8"
             ],
             [
              0.3333333333333333,
              "#9c179e"
             ],
             [
              0.4444444444444444,
              "#bd3786"
             ],
             [
              0.5555555555555556,
              "#d8576b"
             ],
             [
              0.6666666666666666,
              "#ed7953"
             ],
             [
              0.7777777777777778,
              "#fb9f3a"
             ],
             [
              0.8888888888888888,
              "#fdca26"
             ],
             [
              1,
              "#f0f921"
             ]
            ],
            "type": "contour"
           }
          ],
          "contourcarpet": [
           {
            "colorbar": {
             "outlinewidth": 0,
             "ticks": ""
            },
            "type": "contourcarpet"
           }
          ],
          "heatmap": [
           {
            "colorbar": {
             "outlinewidth": 0,
             "ticks": ""
            },
            "colorscale": [
             [
              0,
              "#0d0887"
             ],
             [
              0.1111111111111111,
              "#46039f"
             ],
             [
              0.2222222222222222,
              "#7201a8"
             ],
             [
              0.3333333333333333,
              "#9c179e"
             ],
             [
              0.4444444444444444,
              "#bd3786"
             ],
             [
              0.5555555555555556,
              "#d8576b"
             ],
             [
              0.6666666666666666,
              "#ed7953"
             ],
             [
              0.7777777777777778,
              "#fb9f3a"
             ],
             [
              0.8888888888888888,
              "#fdca26"
             ],
             [
              1,
              "#f0f921"
             ]
            ],
            "type": "heatmap"
           }
          ],
          "heatmapgl": [
           {
            "colorbar": {
             "outlinewidth": 0,
             "ticks": ""
            },
            "colorscale": [
             [
              0,
              "#0d0887"
             ],
             [
              0.1111111111111111,
              "#46039f"
             ],
             [
              0.2222222222222222,
              "#7201a8"
             ],
             [
              0.3333333333333333,
              "#9c179e"
             ],
             [
              0.4444444444444444,
              "#bd3786"
             ],
             [
              0.5555555555555556,
              "#d8576b"
             ],
             [
              0.6666666666666666,
              "#ed7953"
             ],
             [
              0.7777777777777778,
              "#fb9f3a"
             ],
             [
              0.8888888888888888,
              "#fdca26"
             ],
             [
              1,
              "#f0f921"
             ]
            ],
            "type": "heatmapgl"
           }
          ],
          "histogram": [
           {
            "marker": {
             "pattern": {
              "fillmode": "overlay",
              "size": 10,
              "solidity": 0.2
             }
            },
            "type": "histogram"
           }
          ],
          "histogram2d": [
           {
            "colorbar": {
             "outlinewidth": 0,
             "ticks": ""
            },
            "colorscale": [
             [
              0,
              "#0d0887"
             ],
             [
              0.1111111111111111,
              "#46039f"
             ],
             [
              0.2222222222222222,
              "#7201a8"
             ],
             [
              0.3333333333333333,
              "#9c179e"
             ],
             [
              0.4444444444444444,
              "#bd3786"
             ],
             [
              0.5555555555555556,
              "#d8576b"
             ],
             [
              0.6666666666666666,
              "#ed7953"
             ],
             [
              0.7777777777777778,
              "#fb9f3a"
             ],
             [
              0.8888888888888888,
              "#fdca26"
             ],
             [
              1,
              "#f0f921"
             ]
            ],
            "type": "histogram2d"
           }
          ],
          "histogram2dcontour": [
           {
            "colorbar": {
             "outlinewidth": 0,
             "ticks": ""
            },
            "colorscale": [
             [
              0,
              "#0d0887"
             ],
             [
              0.1111111111111111,
              "#46039f"
             ],
             [
              0.2222222222222222,
              "#7201a8"
             ],
             [
              0.3333333333333333,
              "#9c179e"
             ],
             [
              0.4444444444444444,
              "#bd3786"
             ],
             [
              0.5555555555555556,
              "#d8576b"
             ],
             [
              0.6666666666666666,
              "#ed7953"
             ],
             [
              0.7777777777777778,
              "#fb9f3a"
             ],
             [
              0.8888888888888888,
              "#fdca26"
             ],
             [
              1,
              "#f0f921"
             ]
            ],
            "type": "histogram2dcontour"
           }
          ],
          "mesh3d": [
           {
            "colorbar": {
             "outlinewidth": 0,
             "ticks": ""
            },
            "type": "mesh3d"
           }
          ],
          "parcoords": [
           {
            "line": {
             "colorbar": {
              "outlinewidth": 0,
              "ticks": ""
             }
            },
            "type": "parcoords"
           }
          ],
          "pie": [
           {
            "automargin": true,
            "type": "pie"
           }
          ],
          "scatter": [
           {
            "fillpattern": {
             "fillmode": "overlay",
             "size": 10,
             "solidity": 0.2
            },
            "type": "scatter"
           }
          ],
          "scatter3d": [
           {
            "line": {
             "colorbar": {
              "outlinewidth": 0,
              "ticks": ""
             }
            },
            "marker": {
             "colorbar": {
              "outlinewidth": 0,
              "ticks": ""
             }
            },
            "type": "scatter3d"
           }
          ],
          "scattercarpet": [
           {
            "marker": {
             "colorbar": {
              "outlinewidth": 0,
              "ticks": ""
             }
            },
            "type": "scattercarpet"
           }
          ],
          "scattergeo": [
           {
            "marker": {
             "colorbar": {
              "outlinewidth": 0,
              "ticks": ""
             }
            },
            "type": "scattergeo"
           }
          ],
          "scattergl": [
           {
            "marker": {
             "colorbar": {
              "outlinewidth": 0,
              "ticks": ""
             }
            },
            "type": "scattergl"
           }
          ],
          "scattermapbox": [
           {
            "marker": {
             "colorbar": {
              "outlinewidth": 0,
              "ticks": ""
             }
            },
            "type": "scattermapbox"
           }
          ],
          "scatterpolar": [
           {
            "marker": {
             "colorbar": {
              "outlinewidth": 0,
              "ticks": ""
             }
            },
            "type": "scatterpolar"
           }
          ],
          "scatterpolargl": [
           {
            "marker": {
             "colorbar": {
              "outlinewidth": 0,
              "ticks": ""
             }
            },
            "type": "scatterpolargl"
           }
          ],
          "scatterternary": [
           {
            "marker": {
             "colorbar": {
              "outlinewidth": 0,
              "ticks": ""
             }
            },
            "type": "scatterternary"
           }
          ],
          "surface": [
           {
            "colorbar": {
             "outlinewidth": 0,
             "ticks": ""
            },
            "colorscale": [
             [
              0,
              "#0d0887"
             ],
             [
              0.1111111111111111,
              "#46039f"
             ],
             [
              0.2222222222222222,
              "#7201a8"
             ],
             [
              0.3333333333333333,
              "#9c179e"
             ],
             [
              0.4444444444444444,
              "#bd3786"
             ],
             [
              0.5555555555555556,
              "#d8576b"
             ],
             [
              0.6666666666666666,
              "#ed7953"
             ],
             [
              0.7777777777777778,
              "#fb9f3a"
             ],
             [
              0.8888888888888888,
              "#fdca26"
             ],
             [
              1,
              "#f0f921"
             ]
            ],
            "type": "surface"
           }
          ],
          "table": [
           {
            "cells": {
             "fill": {
              "color": "#EBF0F8"
             },
             "line": {
              "color": "white"
             }
            },
            "header": {
             "fill": {
              "color": "#C8D4E3"
             },
             "line": {
              "color": "white"
             }
            },
            "type": "table"
           }
          ]
         },
         "layout": {
          "annotationdefaults": {
           "arrowcolor": "#2a3f5f",
           "arrowhead": 0,
           "arrowwidth": 1
          },
          "autotypenumbers": "strict",
          "coloraxis": {
           "colorbar": {
            "outlinewidth": 0,
            "ticks": ""
           }
          },
          "colorscale": {
           "diverging": [
            [
             0,
             "#8e0152"
            ],
            [
             0.1,
             "#c51b7d"
            ],
            [
             0.2,
             "#de77ae"
            ],
            [
             0.3,
             "#f1b6da"
            ],
            [
             0.4,
             "#fde0ef"
            ],
            [
             0.5,
             "#f7f7f7"
            ],
            [
             0.6,
             "#e6f5d0"
            ],
            [
             0.7,
             "#b8e186"
            ],
            [
             0.8,
             "#7fbc41"
            ],
            [
             0.9,
             "#4d9221"
            ],
            [
             1,
             "#276419"
            ]
           ],
           "sequential": [
            [
             0,
             "#0d0887"
            ],
            [
             0.1111111111111111,
             "#46039f"
            ],
            [
             0.2222222222222222,
             "#7201a8"
            ],
            [
             0.3333333333333333,
             "#9c179e"
            ],
            [
             0.4444444444444444,
             "#bd3786"
            ],
            [
             0.5555555555555556,
             "#d8576b"
            ],
            [
             0.6666666666666666,
             "#ed7953"
            ],
            [
             0.7777777777777778,
             "#fb9f3a"
            ],
            [
             0.8888888888888888,
             "#fdca26"
            ],
            [
             1,
             "#f0f921"
            ]
           ],
           "sequentialminus": [
            [
             0,
             "#0d0887"
            ],
            [
             0.1111111111111111,
             "#46039f"
            ],
            [
             0.2222222222222222,
             "#7201a8"
            ],
            [
             0.3333333333333333,
             "#9c179e"
            ],
            [
             0.4444444444444444,
             "#bd3786"
            ],
            [
             0.5555555555555556,
             "#d8576b"
            ],
            [
             0.6666666666666666,
             "#ed7953"
            ],
            [
             0.7777777777777778,
             "#fb9f3a"
            ],
            [
             0.8888888888888888,
             "#fdca26"
            ],
            [
             1,
             "#f0f921"
            ]
           ]
          },
          "colorway": [
           "#636efa",
           "#EF553B",
           "#00cc96",
           "#ab63fa",
           "#FFA15A",
           "#19d3f3",
           "#FF6692",
           "#B6E880",
           "#FF97FF",
           "#FECB52"
          ],
          "font": {
           "color": "#2a3f5f"
          },
          "geo": {
           "bgcolor": "white",
           "lakecolor": "white",
           "landcolor": "#E5ECF6",
           "showlakes": true,
           "showland": true,
           "subunitcolor": "white"
          },
          "hoverlabel": {
           "align": "left"
          },
          "hovermode": "closest",
          "mapbox": {
           "style": "light"
          },
          "paper_bgcolor": "white",
          "plot_bgcolor": "#E5ECF6",
          "polar": {
           "angularaxis": {
            "gridcolor": "white",
            "linecolor": "white",
            "ticks": ""
           },
           "bgcolor": "#E5ECF6",
           "radialaxis": {
            "gridcolor": "white",
            "linecolor": "white",
            "ticks": ""
           }
          },
          "scene": {
           "xaxis": {
            "backgroundcolor": "#E5ECF6",
            "gridcolor": "white",
            "gridwidth": 2,
            "linecolor": "white",
            "showbackground": true,
            "ticks": "",
            "zerolinecolor": "white"
           },
           "yaxis": {
            "backgroundcolor": "#E5ECF6",
            "gridcolor": "white",
            "gridwidth": 2,
            "linecolor": "white",
            "showbackground": true,
            "ticks": "",
            "zerolinecolor": "white"
           },
           "zaxis": {
            "backgroundcolor": "#E5ECF6",
            "gridcolor": "white",
            "gridwidth": 2,
            "linecolor": "white",
            "showbackground": true,
            "ticks": "",
            "zerolinecolor": "white"
           }
          },
          "shapedefaults": {
           "line": {
            "color": "#2a3f5f"
           }
          },
          "ternary": {
           "aaxis": {
            "gridcolor": "white",
            "linecolor": "white",
            "ticks": ""
           },
           "baxis": {
            "gridcolor": "white",
            "linecolor": "white",
            "ticks": ""
           },
           "bgcolor": "#E5ECF6",
           "caxis": {
            "gridcolor": "white",
            "linecolor": "white",
            "ticks": ""
           }
          },
          "title": {
           "x": 0.05
          },
          "xaxis": {
           "automargin": true,
           "gridcolor": "white",
           "linecolor": "white",
           "ticks": "",
           "title": {
            "standoff": 15
           },
           "zerolinecolor": "white",
           "zerolinewidth": 2
          },
          "yaxis": {
           "automargin": true,
           "gridcolor": "white",
           "linecolor": "white",
           "ticks": "",
           "title": {
            "standoff": 15
           },
           "zerolinecolor": "white",
           "zerolinewidth": 2
          }
         }
        }
       }
      }
     },
     "metadata": {},
     "output_type": "display_data"
    }
   ],
   "source": [
    "# plot error(a,b)\n",
    "import plotly.graph_objects as go\n",
    "import numpy as np\n",
    "\n",
    "a_range = np.linspace(800_000, 1_000_000, 100)\n",
    "b_range = np.linspace(-1_000_000, 3_000_000, 100)\n",
    "err_values = [[error(a, b) for a in a_range] for b in b_range]\n",
    "fig3 = go.Figure(data=[go.Surface(x=a_range, y=b_range, z=err_values)])\n",
    "# fig3.write_html(\"3dplot.html\")\n",
    "fig3.show()"
   ]
  },
  {
   "cell_type": "markdown",
   "metadata": {},
   "source": [
    "#### We can use a smarter search method than brute-force.\n",
    "\n",
    "LP and MILP are out of the question, as the objective function is not linear.\n",
    "\n",
    "We could use a genetic algorithm or other sophisticated metaheuristic but it would be overkill. It's just a quadratic function, only with 2 variables.\n",
    "\n",
    "If it had only 1 variable, we could easily solve its derivative equation for 0. With multiple variables it becomes a lot more complicated but still possible, see [the normal equation method](https://www.datacamp.com/tutorial/tutorial-normal-equation-for-linear-regression).\n",
    "\n",
    "Instead of this, we will use a simpler, iterative numerical method, the **gradient descent**. It uses the partial derivatives to guide the search in the right direction, so we need much fewer steps than for brute-force search. This method will be useful in other machine learning problems as well, while the normal equation method is only for linear regression."
   ]
  },
  {
   "cell_type": "markdown",
   "metadata": {},
   "source": [
    "The partial derivatives at any point give us the steepness of the slope (the gradient) at that place. If it's high, we are far from the bottom.\n",
    "\n",
    "$$MSE(a,b) = \\frac{1}{m} \\sum_{i=1}^{m} (ax_i+b - y_i)^2$$\n",
    "\n",
    "$$\\frac{\\partial MSE(a,b)}{\\partial a} = \\frac{2}{m} \\sum_{i=1}^{m} x_i(ax_i+b - y_i)$$\n",
    "\n",
    "$$\\frac{\\partial MSE(a,b)}{\\partial b} = \\frac{2}{m} \\sum_{i=1}^{m} (ax_i+b - y_i)$$\n",
    "\n",
    "*The constant factor $\\frac{2}{m}$ is irrelevant for optimization. The 2 is often omitted but the $\\frac{1}{m}$ is good for normalization.*\n",
    "\n",
    "Start from any $(a,b)$ point and update the position based on the gradient.\n",
    "\n",
    "*If the gradient is positive, we have to decrease the variable, if it's negative, we have to increase.*\n",
    "\n",
    "$$a_{k+1} = a_k - \\alpha \\frac{\\partial MSE(a,b)}{\\partial a}$$\n",
    "\n",
    "$$b_{k+1} = b_k - \\alpha \\frac{\\partial MSE(a,b)}{\\partial b}$$\n",
    "\n",
    "$\\alpha$ is the learning rate, or step size parameter. If it's too small, convergence will be slow but if it's too large, it may even diverge.\n",
    "\n",
    "![](https://miro.medium.com/max/626/1*GjLAgjRNpbbwJPtRdmmh7w.png)\n"
   ]
  },
  {
   "cell_type": "code",
   "execution_count": 32,
   "metadata": {},
   "outputs": [
    {
     "name": "stdout",
     "output_type": "stream",
     "text": [
      "Step 0001: 799,545 Ft/m² +77,821 Ft, error: 2002.4173034293244\n",
      "Step 0002: 799,095 Ft/m² +56,204 Ft, error: 1997.4683029789392\n",
      "Step 0003: 798,650 Ft/m² +35,138 Ft, error: 1992.6464164190324\n",
      "Step 0004: 798,209 Ft/m² +14,616 Ft, error: 1987.9476651225991\n",
      "Step 0005: 797,773 Ft/m² -5,372 Ft, error: 1983.3681959866256\n",
      "Step 0006: 797,341 Ft/m² -24,834 Ft, error: 1978.9042774707525\n",
      "Step 0007: 796,913 Ft/m² -43,780 Ft, error: 1974.5522957608969\n",
      "Step 0008: 796,489 Ft/m² -62,216 Ft, error: 1970.3087510539954\n",
      "Step 0009: 796,069 Ft/m² -80,152 Ft, error: 1966.1702539599642\n",
      "Step 0010: 795,654 Ft/m² -97,596 Ft, error: 1962.1335220172311\n",
      "Step 0011: 795,242 Ft/m² -114,555 Ft, error: 1958.1953763182116\n",
      "Step 0012: 794,835 Ft/m² -131,037 Ft, error: 1954.352738241307\n",
      "Step 0013: 794,431 Ft/m² -147,050 Ft, error: 1950.6026262860162\n",
      "Step 0014: 794,031 Ft/m² -162,602 Ft, error: 1946.9421530079353\n",
      "Step 0015: 793,635 Ft/m² -177,699 Ft, error: 1943.3685220504963\n",
      "Step 0016: 793,242 Ft/m² -192,350 Ft, error: 1939.8790252703548\n",
      "Step 0017: 792,854 Ft/m² -206,562 Ft, error: 1936.4710399535263\n",
      "Step 0018: 792,468 Ft/m² -220,341 Ft, error: 1933.1420261193603\n",
      "Step 0019: 792,087 Ft/m² -233,694 Ft, error: 1929.8895239096082\n",
      "Step 0020: 791,708 Ft/m² -246,630 Ft, error: 1926.7111510598738\n",
      "Step 0021: 791,333 Ft/m² -259,153 Ft, error: 1923.6046004508842\n",
      "Step 0022: 790,962 Ft/m² -271,272 Ft, error: 1920.5676377370232\n",
      "Step 0023: 790,594 Ft/m² -282,992 Ft, error: 1917.598099049711\n",
      "Step 0024: 790,229 Ft/m² -294,320 Ft, error: 1914.6938887732724\n",
      "Step 0025: 789,867 Ft/m² -305,262 Ft, error: 1911.8529773909668\n",
      "Step 0026: 789,508 Ft/m² -315,825 Ft, error: 1909.073399399039\n",
      "Step 0027: 789,153 Ft/m² -326,015 Ft, error: 1906.3532512865581\n",
      "Step 0028: 788,801 Ft/m² -335,837 Ft, error: 1903.6906895790432\n",
      "Step 0029: 788,451 Ft/m² -345,298 Ft, error: 1901.083928943803\n",
      "Step 0030: 788,105 Ft/m² -354,404 Ft, error: 1898.5312403550931\n",
      "Step 0031: 787,761 Ft/m² -363,160 Ft, error: 1896.0309493171646\n",
      "Step 0032: 787,421 Ft/m² -371,572 Ft, error: 1893.5814341433909\n",
      "Step 0033: 787,083 Ft/m² -379,646 Ft, error: 1891.1811242897131\n",
      "Step 0034: 786,748 Ft/m² -387,387 Ft, error: 1888.8284987406687\n",
      "Step 0035: 786,416 Ft/m² -394,801 Ft, error: 1886.5220844463672\n",
      "Step 0036: 786,086 Ft/m² -401,892 Ft, error: 1884.2604548087804\n",
      "Step 0037: 785,759 Ft/m² -408,667 Ft, error: 1882.0422282158208\n",
      "Step 0038: 785,435 Ft/m² -415,129 Ft, error: 1879.866066621656\n",
      "Step 0039: 785,113 Ft/m² -421,285 Ft, error: 1877.7306741718617\n",
      "Step 0040: 784,794 Ft/m² -427,140 Ft, error: 1875.6347958719311\n",
      "Step 0041: 784,477 Ft/m² -432,698 Ft, error: 1873.5772162978303\n",
      "Step 0042: 784,163 Ft/m² -437,963 Ft, error: 1871.556758347219\n",
      "Step 0043: 783,851 Ft/m² -442,942 Ft, error: 1869.5722820301226\n",
      "Step 0044: 783,542 Ft/m² -447,638 Ft, error: 1867.6226832977175\n",
      "Step 0045: 783,235 Ft/m² -452,056 Ft, error: 1865.7068929081304\n",
      "Step 0046: 782,930 Ft/m² -456,201 Ft, error: 1863.8238753279873\n",
      "Step 0047: 782,628 Ft/m² -460,077 Ft, error: 1861.972627668663\n",
      "Step 0048: 782,328 Ft/m² -463,689 Ft, error: 1860.1521786560768\n",
      "Step 0049: 782,030 Ft/m² -467,040 Ft, error: 1858.36158763302\n",
      "Step 0050: 781,734 Ft/m² -470,136 Ft, error: 1856.5999435929498\n",
      "Step 0051: 781,441 Ft/m² -472,980 Ft, error: 1854.8663642442916\n",
      "Step 0052: 781,149 Ft/m² -475,576 Ft, error: 1853.1599951042604\n",
      "Step 0053: 780,860 Ft/m² -477,928 Ft, error: 1851.4800086212897\n",
      "Step 0054: 780,572 Ft/m² -480,042 Ft, error: 1849.8256033251396\n",
      "Step 0055: 780,287 Ft/m² -481,919 Ft, error: 1848.1960030038545\n",
      "Step 0056: 780,003 Ft/m² -483,565 Ft, error: 1846.5904559066569\n",
      "Step 0057: 779,722 Ft/m² -484,982 Ft, error: 1845.0082339720348\n",
      "Step 0058: 779,443 Ft/m² -486,176 Ft, error: 1843.4486320801614\n",
      "Step 0059: 779,165 Ft/m² -487,149 Ft, error: 1841.9109673289274\n",
      "Step 0060: 778,889 Ft/m² -487,905 Ft, error: 1840.3945783328097\n",
      "Step 0061: 778,615 Ft/m² -488,447 Ft, error: 1838.8988245438659\n",
      "Step 0062: 778,343 Ft/m² -488,780 Ft, error: 1837.4230855941637\n",
      "Step 0063: 778,073 Ft/m² -488,907 Ft, error: 1835.9667606589687\n",
      "Step 0064: 777,804 Ft/m² -488,830 Ft, error: 1834.5292678400056\n",
      "Step 0065: 777,538 Ft/m² -488,554 Ft, error: 1833.110043568212\n",
      "Step 0066: 777,273 Ft/m² -488,081 Ft, error: 1831.7085420253172\n",
      "Step 0067: 777,009 Ft/m² -487,415 Ft, error: 1830.3242345836925\n",
      "Step 0068: 776,747 Ft/m² -486,560 Ft, error: 1828.956609263864\n",
      "Step 0069: 776,487 Ft/m² -485,517 Ft, error: 1827.605170209164\n",
      "Step 0070: 776,229 Ft/m² -484,291 Ft, error: 1826.2694371769362\n",
      "Step 0071: 775,972 Ft/m² -482,884 Ft, error: 1824.9489450458327\n",
      "Step 0072: 775,716 Ft/m² -481,299 Ft, error: 1823.643243338621\n",
      "Step 0073: 775,463 Ft/m² -479,540 Ft, error: 1822.3518957600788\n",
      "Step 0074: 775,210 Ft/m² -477,609 Ft, error: 1821.0744797494715\n",
      "Step 0075: 774,959 Ft/m² -475,508 Ft, error: 1819.8105860471246\n",
      "Step 0076: 774,710 Ft/m² -473,242 Ft, error: 1818.559818274718\n",
      "Step 0077: 774,462 Ft/m² -470,812 Ft, error: 1817.3217925287863\n",
      "Step 0078: 774,216 Ft/m² -468,221 Ft, error: 1816.0961369870731\n",
      "Step 0079: 773,971 Ft/m² -465,472 Ft, error: 1814.8824915272953\n",
      "Step 0080: 773,727 Ft/m² -462,568 Ft, error: 1813.6805073579428\n",
      "Step 0081: 773,484 Ft/m² -459,511 Ft, error: 1812.4898466607347\n",
      "Step 0082: 773,243 Ft/m² -456,303 Ft, error: 1811.3101822443484\n",
      "Step 0083: 773,004 Ft/m² -452,948 Ft, error: 1810.141197209086\n",
      "Step 0084: 772,765 Ft/m² -449,447 Ft, error: 1808.9825846221204\n",
      "Step 0085: 772,528 Ft/m² -445,804 Ft, error: 1807.8340472029859\n",
      "Step 0086: 772,292 Ft/m² -442,019 Ft, error: 1806.6952970190011\n",
      "Step 0087: 772,058 Ft/m² -438,097 Ft, error: 1805.5660551903043\n",
      "Step 0088: 771,824 Ft/m² -434,039 Ft, error: 1804.4460516041904\n",
      "Step 0089: 771,592 Ft/m² -429,847 Ft, error: 1803.3350246384653\n",
      "Step 0090: 771,361 Ft/m² -425,524 Ft, error: 1802.232720893536\n",
      "Step 0091: 771,131 Ft/m² -421,071 Ft, error: 1801.1388949329537\n",
      "Step 0092: 770,903 Ft/m² -416,492 Ft, error: 1800.0533090321355\n",
      "Step 0093: 770,675 Ft/m² -411,788 Ft, error: 1798.9757329350368\n",
      "Step 0094: 770,449 Ft/m² -406,961 Ft, error: 1797.9059436184816\n",
      "Step 0095: 770,224 Ft/m² -402,013 Ft, error: 1796.8437250639388\n",
      "Step 0096: 769,999 Ft/m² -396,946 Ft, error: 1795.7888680365033\n",
      "Step 0097: 769,776 Ft/m² -391,763 Ft, error: 1794.7411698708513\n",
      "Step 0098: 769,554 Ft/m² -386,465 Ft, error: 1793.7004342639466\n",
      "Step 0099: 769,333 Ft/m² -381,055 Ft, error: 1792.6664710742928\n",
      "Step 0100: 769,113 Ft/m² -375,533 Ft, error: 1791.6390961275213\n",
      "Step 0101: 768,894 Ft/m² -369,903 Ft, error: 1790.6181310281058\n",
      "Step 0102: 768,676 Ft/m² -364,165 Ft, error: 1789.6034029770365\n",
      "Step 0103: 768,459 Ft/m² -358,322 Ft, error: 1788.5947445952288\n",
      "Step 0104: 768,243 Ft/m² -352,376 Ft, error: 1787.591993752519\n",
      "Step 0105: 768,028 Ft/m² -346,327 Ft, error: 1786.5949934020512\n",
      "Step 0106: 767,814 Ft/m² -340,179 Ft, error: 1785.6035914198862\n",
      "Step 0107: 767,601 Ft/m² -333,932 Ft, error: 1784.6176404496862\n",
      "Step 0108: 767,388 Ft/m² -327,589 Ft, error: 1783.6369977522818\n",
      "Step 0109: 767,177 Ft/m² -321,150 Ft, error: 1782.6615250600062\n",
      "Step 0110: 766,966 Ft/m² -314,619 Ft, error: 1781.6910884356082\n",
      "Step 0111: 766,757 Ft/m² -307,995 Ft, error: 1780.7255581356312\n",
      "Step 0112: 766,548 Ft/m² -301,281 Ft, error: 1779.764808478099\n",
      "Step 0113: 766,340 Ft/m² -294,479 Ft, error: 1778.8087177143768\n",
      "Step 0114: 766,133 Ft/m² -287,589 Ft, error: 1777.8571679050738\n",
      "Step 0115: 765,927 Ft/m² -280,613 Ft, error: 1776.9100447998696\n",
      "Step 0116: 765,721 Ft/m² -273,554 Ft, error: 1775.9672377211218\n",
      "Step 0117: 765,517 Ft/m² -266,411 Ft, error: 1775.0286394511609\n",
      "Step 0118: 765,313 Ft/m² -259,188 Ft, error: 1774.0941461231275\n",
      "Step 0119: 765,110 Ft/m² -251,884 Ft, error: 1773.1636571152678\n",
      "Step 0120: 764,907 Ft/m² -244,502 Ft, error: 1772.2370749485513\n",
      "Step 0121: 764,706 Ft/m² -237,042 Ft, error: 1771.3143051875368\n",
      "Step 0122: 764,505 Ft/m² -229,507 Ft, error: 1770.3952563443454\n",
      "Step 0123: 764,305 Ft/m² -221,898 Ft, error: 1769.479839785686\n",
      "Step 0124: 764,106 Ft/m² -214,215 Ft, error: 1768.5679696427937\n",
      "Step 0125: 763,907 Ft/m² -206,460 Ft, error: 1767.659562724236\n",
      "Step 0126: 763,709 Ft/m² -198,634 Ft, error: 1766.754538431439\n",
      "Step 0127: 763,512 Ft/m² -190,739 Ft, error: 1765.8528186769113\n",
      "Step 0128: 763,315 Ft/m² -182,776 Ft, error: 1764.9543278050203\n",
      "Step 0129: 763,120 Ft/m² -174,745 Ft, error: 1764.0589925152947\n",
      "Step 0130: 762,924 Ft/m² -166,649 Ft, error: 1763.1667417881272\n",
      "Step 0131: 762,730 Ft/m² -158,488 Ft, error: 1762.2775068128303\n",
      "Step 0132: 762,536 Ft/m² -150,264 Ft, error: 1761.3912209179612\n",
      "Step 0133: 762,343 Ft/m² -141,977 Ft, error: 1760.507819503854\n",
      "Step 0134: 762,150 Ft/m² -133,628 Ft, error: 1759.627239977259\n",
      "Step 0135: 761,958 Ft/m² -125,220 Ft, error: 1758.7494216880732\n",
      "Step 0136: 761,767 Ft/m² -116,752 Ft, error: 1757.8743058680438\n",
      "Step 0137: 761,576 Ft/m² -108,226 Ft, error: 1757.0018355714164\n",
      "Step 0138: 761,386 Ft/m² -99,643 Ft, error: 1756.1319556174594\n",
      "Step 0139: 761,196 Ft/m² -91,003 Ft, error: 1755.2646125347987\n",
      "Step 0140: 761,007 Ft/m² -82,309 Ft, error: 1754.3997545075013\n",
      "Step 0141: 760,819 Ft/m² -73,561 Ft, error: 1753.5373313228724\n",
      "Step 0142: 760,631 Ft/m² -64,759 Ft, error: 1752.6772943208994\n",
      "Step 0143: 760,444 Ft/m² -55,905 Ft, error: 1751.8195963452788\n",
      "Step 0144: 760,257 Ft/m² -47,000 Ft, error: 1750.9641916959981\n",
      "Step 0145: 760,071 Ft/m² -38,045 Ft, error: 1750.1110360834223\n",
      "Step 0146: 759,885 Ft/m² -29,040 Ft, error: 1749.2600865838097\n",
      "Step 0147: 759,700 Ft/m² -19,987 Ft, error: 1748.4113015962432\n",
      "Step 0148: 759,515 Ft/m² -10,886 Ft, error: 1747.5646408009231\n",
      "Step 0149: 759,331 Ft/m² -1,738 Ft, error: 1746.7200651187738\n",
      "Step 0150: 759,148 Ft/m² +7,454 Ft, error: 1745.8775366723162\n",
      "Step 0151: 758,965 Ft/m² +16,693 Ft, error: 1745.0370187477888\n",
      "Step 0152: 758,782 Ft/m² +25,976 Ft, error: 1744.1984757584569\n",
      "Step 0153: 758,600 Ft/m² +35,302 Ft, error: 1743.3618732090797\n",
      "Step 0154: 758,418 Ft/m² +44,671 Ft, error: 1742.5271776614982\n",
      "Step 0155: 758,237 Ft/m² +54,082 Ft, error: 1741.6943567013122\n",
      "Step 0156: 758,057 Ft/m² +63,534 Ft, error: 1740.863378905611\n",
      "Step 0157: 757,877 Ft/m² +73,027 Ft, error: 1740.0342138117094\n",
      "Step 0158: 757,697 Ft/m² +82,559 Ft, error: 1739.2068318868903\n",
      "Step 0159: 757,517 Ft/m² +92,129 Ft, error: 1738.3812044990807\n",
      "Step 0160: 757,339 Ft/m² +101,738 Ft, error: 1737.5573038884743\n",
      "Step 0161: 757,160 Ft/m² +111,384 Ft, error: 1736.7351031400347\n",
      "Step 0162: 756,982 Ft/m² +121,067 Ft, error: 1735.9145761568652\n",
      "Step 0163: 756,805 Ft/m² +130,786 Ft, error: 1735.0956976344353\n",
      "Step 0164: 756,628 Ft/m² +140,541 Ft, error: 1734.2784430356012\n",
      "Step 0165: 756,451 Ft/m² +150,329 Ft, error: 1733.4627885664288\n",
      "Step 0166: 756,275 Ft/m² +160,152 Ft, error: 1732.6487111527679\n",
      "Step 0167: 756,099 Ft/m² +170,009 Ft, error: 1731.83618841758\n",
      "Step 0168: 755,923 Ft/m² +179,898 Ft, error: 1731.0251986589672\n",
      "Step 0169: 755,748 Ft/m² +189,819 Ft, error: 1730.215720828904\n",
      "Step 0170: 755,574 Ft/m² +199,771 Ft, error: 1729.4077345126327\n",
      "Step 0171: 755,399 Ft/m² +209,755 Ft, error: 1728.601219908718\n",
      "Step 0172: 755,225 Ft/m² +219,768 Ft, error: 1727.7961578097222\n",
      "Step 0173: 755,052 Ft/m² +229,811 Ft, error: 1726.9925295834996\n",
      "Step 0174: 754,879 Ft/m² +239,884 Ft, error: 1726.1903171550725\n",
      "Step 0175: 754,706 Ft/m² +249,985 Ft, error: 1725.3895029890803\n",
      "Step 0176: 754,533 Ft/m² +260,114 Ft, error: 1724.590070072786\n",
      "Step 0177: 754,361 Ft/m² +270,270 Ft, error: 1723.7920018996224\n",
      "Step 0178: 754,190 Ft/m² +280,453 Ft, error: 1722.9952824532493\n",
      "Step 0179: 754,018 Ft/m² +290,662 Ft, error: 1722.199896192112\n",
      "Step 0180: 753,847 Ft/m² +300,898 Ft, error: 1721.4058280345018\n",
      "Step 0181: 753,677 Ft/m² +311,158 Ft, error: 1720.6130633440732\n",
      "Step 0182: 753,506 Ft/m² +321,444 Ft, error: 1719.8215879158222\n",
      "Step 0183: 753,336 Ft/m² +331,753 Ft, error: 1719.0313879625119\n",
      "Step 0184: 753,167 Ft/m² +342,087 Ft, error: 1718.2424501015203\n",
      "Step 0185: 752,997 Ft/m² +352,443 Ft, error: 1717.4547613421075\n",
      "Step 0186: 752,828 Ft/m² +362,823 Ft, error: 1716.668309073082\n",
      "Step 0187: 752,660 Ft/m² +373,225 Ft, error: 1715.8830810508562\n",
      "Step 0188: 752,491 Ft/m² +383,648 Ft, error: 1715.099065387877\n",
      "Step 0189: 752,323 Ft/m² +394,094 Ft, error: 1714.3162505414334\n",
      "Step 0190: 752,155 Ft/m² +404,560 Ft, error: 1713.5346253027997\n",
      "Step 0191: 751,988 Ft/m² +415,047 Ft, error: 1712.7541787867287\n",
      "Step 0192: 751,821 Ft/m² +425,553 Ft, error: 1711.9749004212858\n",
      "Step 0193: 751,654 Ft/m² +436,080 Ft, error: 1711.196779937985\n",
      "Step 0194: 751,487 Ft/m² +446,626 Ft, error: 1710.4198073622558\n",
      "Step 0195: 751,321 Ft/m² +457,190 Ft, error: 1709.6439730041986\n",
      "Step 0196: 751,155 Ft/m² +467,774 Ft, error: 1708.869267449629\n",
      "Step 0197: 750,990 Ft/m² +478,375 Ft, error: 1708.095681551421\n",
      "Step 0198: 750,824 Ft/m² +488,994 Ft, error: 1707.323206421104\n",
      "Step 0199: 750,659 Ft/m² +499,630 Ft, error: 1706.5518334207372\n",
      "Step 0200: 750,494 Ft/m² +510,283 Ft, error: 1705.78155415504\n",
      "Step 0201: 750,330 Ft/m² +520,952 Ft, error: 1705.0123604637658\n",
      "Step 0202: 750,165 Ft/m² +531,638 Ft, error: 1704.2442444143162\n",
      "Step 0203: 750,001 Ft/m² +542,340 Ft, error: 1703.4771982945915\n",
      "Step 0204: 749,837 Ft/m² +553,057 Ft, error: 1702.7112146060688\n",
      "Step 0205: 749,674 Ft/m² +563,789 Ft, error: 1701.9462860570932\n",
      "Step 0206: 749,511 Ft/m² +574,535 Ft, error: 1701.1824055563807\n",
      "Step 0207: 749,348 Ft/m² +585,296 Ft, error: 1700.4195662067339\n",
      "Step 0208: 749,185 Ft/m² +596,072 Ft, error: 1699.6577612989465\n",
      "Step 0209: 749,022 Ft/m² +606,861 Ft, error: 1698.8969843059053\n",
      "Step 0210: 748,860 Ft/m² +617,663 Ft, error: 1698.1372288768766\n",
      "Step 0211: 748,698 Ft/m² +628,478 Ft, error: 1697.3784888319715\n",
      "Step 0212: 748,536 Ft/m² +639,307 Ft, error: 1696.620758156798\n",
      "Step 0213: 748,375 Ft/m² +650,147 Ft, error: 1695.8640309972538\n",
      "Step 0214: 748,213 Ft/m² +661,000 Ft, error: 1695.108301654517\n",
      "Step 0215: 748,052 Ft/m² +671,865 Ft, error: 1694.35356458017\n",
      "Step 0216: 747,891 Ft/m² +682,741 Ft, error: 1693.5998143714937\n",
      "Step 0217: 747,731 Ft/m² +693,629 Ft, error: 1692.8470457668925\n",
      "Step 0218: 747,570 Ft/m² +704,528 Ft, error: 1692.0952536414852\n",
      "Step 0219: 747,410 Ft/m² +715,437 Ft, error: 1691.344433002814\n",
      "Step 0220: 747,250 Ft/m² +726,357 Ft, error: 1690.5945789867037\n",
      "Step 0221: 747,091 Ft/m² +737,287 Ft, error: 1689.8456868532494\n",
      "Step 0222: 746,931 Ft/m² +748,227 Ft, error: 1689.0977519829182\n",
      "Step 0223: 746,772 Ft/m² +759,176 Ft, error: 1688.3507698727924\n",
      "Step 0224: 746,613 Ft/m² +770,135 Ft, error: 1687.6047361329206\n",
      "Step 0225: 746,454 Ft/m² +781,103 Ft, error: 1686.8596464827804\n",
      "Step 0226: 746,295 Ft/m² +792,080 Ft, error: 1686.115496747866\n",
      "Step 0227: 746,137 Ft/m² +803,066 Ft, error: 1685.3722828563637\n",
      "Step 0228: 745,979 Ft/m² +814,060 Ft, error: 1684.6300008359622\n",
      "Step 0229: 745,821 Ft/m² +825,062 Ft, error: 1683.888646810726\n",
      "Step 0230: 745,663 Ft/m² +836,072 Ft, error: 1683.148216998099\n",
      "Step 0231: 745,505 Ft/m² +847,090 Ft, error: 1682.408707705983\n",
      "Step 0232: 745,348 Ft/m² +858,115 Ft, error: 1681.6701153299257\n",
      "Step 0233: 745,190 Ft/m² +869,148 Ft, error: 1680.9324363503729\n",
      "Step 0234: 745,033 Ft/m² +880,188 Ft, error: 1680.1956673300372\n",
      "Step 0235: 744,876 Ft/m² +891,234 Ft, error: 1679.4598049113235\n",
      "Step 0236: 744,720 Ft/m² +902,287 Ft, error: 1678.7248458138508\n",
      "Step 0237: 744,563 Ft/m² +913,346 Ft, error: 1677.9907868320488\n",
      "Step 0238: 744,407 Ft/m² +924,412 Ft, error: 1677.2576248328253\n",
      "Step 0239: 744,251 Ft/m² +935,484 Ft, error: 1676.5253567533198\n",
      "Step 0240: 744,095 Ft/m² +946,561 Ft, error: 1675.7939795987054\n",
      "Step 0241: 743,939 Ft/m² +957,644 Ft, error: 1675.063490440093\n",
      "Step 0242: 743,784 Ft/m² +968,733 Ft, error: 1674.3338864124626\n",
      "Step 0243: 743,628 Ft/m² +979,826 Ft, error: 1673.6051647126988\n",
      "Step 0244: 743,473 Ft/m² +990,925 Ft, error: 1672.877322597658\n",
      "Step 0245: 743,318 Ft/m² +1,002,028 Ft, error: 1672.1503573823043\n",
      "Step 0246: 743,163 Ft/m² +1,013,137 Ft, error: 1671.424266437925\n",
      "Step 0247: 743,009 Ft/m² +1,024,249 Ft, error: 1670.699047190366\n",
      "Step 0248: 742,854 Ft/m² +1,035,366 Ft, error: 1669.9746971183588\n",
      "Step 0249: 742,700 Ft/m² +1,046,487 Ft, error: 1669.2512137518668\n",
      "Step 0250: 742,546 Ft/m² +1,057,613 Ft, error: 1668.5285946705167\n",
      "Step 0251: 742,392 Ft/m² +1,068,742 Ft, error: 1667.8068375020525\n",
      "Step 0252: 742,238 Ft/m² +1,079,874 Ft, error: 1667.0859399208532\n",
      "Step 0253: 742,084 Ft/m² +1,091,010 Ft, error: 1666.3658996464956\n",
      "Step 0254: 741,931 Ft/m² +1,102,150 Ft, error: 1665.646714442349\n",
      "Step 0255: 741,777 Ft/m² +1,113,292 Ft, error: 1664.9283821142426\n",
      "Step 0256: 741,624 Ft/m² +1,124,438 Ft, error: 1664.2109005091397\n",
      "Step 0257: 741,471 Ft/m² +1,135,586 Ft, error: 1663.494267513885\n",
      "Step 0258: 741,318 Ft/m² +1,146,738 Ft, error: 1662.778481053967\n",
      "Step 0259: 741,166 Ft/m² +1,157,891 Ft, error: 1662.063539092338\n",
      "Step 0260: 741,013 Ft/m² +1,169,048 Ft, error: 1661.349439628262\n",
      "Step 0261: 740,861 Ft/m² +1,180,206 Ft, error: 1660.6361806961988\n",
      "Step 0262: 740,708 Ft/m² +1,191,367 Ft, error: 1659.9237603647225\n",
      "Step 0263: 740,556 Ft/m² +1,202,530 Ft, error: 1659.2121767354824\n",
      "Step 0264: 740,404 Ft/m² +1,213,694 Ft, error: 1658.5014279421882\n",
      "Step 0265: 740,253 Ft/m² +1,224,860 Ft, error: 1657.7915121496267\n",
      "Step 0266: 740,101 Ft/m² +1,236,028 Ft, error: 1657.0824275527189\n",
      "Step 0267: 739,950 Ft/m² +1,247,198 Ft, error: 1656.3741723755938\n",
      "Step 0268: 739,798 Ft/m² +1,258,369 Ft, error: 1655.6667448707044\n",
      "Step 0269: 739,647 Ft/m² +1,269,541 Ft, error: 1654.9601433179582\n",
      "Step 0270: 739,496 Ft/m² +1,280,714 Ft, error: 1654.25436602389\n",
      "Step 0271: 739,345 Ft/m² +1,291,888 Ft, error: 1653.5494113208447\n",
      "Step 0272: 739,194 Ft/m² +1,303,063 Ft, error: 1652.8452775662024\n",
      "Step 0273: 739,044 Ft/m² +1,314,239 Ft, error: 1652.141963141614\n",
      "Step 0274: 738,893 Ft/m² +1,325,416 Ft, error: 1651.4394664522674\n",
      "Step 0275: 738,743 Ft/m² +1,336,593 Ft, error: 1650.737785926179\n",
      "Step 0276: 738,593 Ft/m² +1,347,771 Ft, error: 1650.0369200134953\n",
      "Step 0277: 738,443 Ft/m² +1,358,948 Ft, error: 1649.3368671858414\n",
      "Step 0278: 738,293 Ft/m² +1,370,127 Ft, error: 1648.6376259356598\n",
      "Step 0279: 738,143 Ft/m² +1,381,305 Ft, error: 1647.9391947755903\n",
      "Step 0280: 737,993 Ft/m² +1,392,483 Ft, error: 1647.241572237865\n",
      "Step 0281: 737,844 Ft/m² +1,403,661 Ft, error: 1646.5447568737159\n",
      "Step 0282: 737,694 Ft/m² +1,414,839 Ft, error: 1645.8487472528157\n",
      "Step 0283: 737,545 Ft/m² +1,426,017 Ft, error: 1645.1535419627132\n",
      "Step 0284: 737,396 Ft/m² +1,437,194 Ft, error: 1644.4591396083104\n",
      "Step 0285: 737,247 Ft/m² +1,448,371 Ft, error: 1643.7655388113465\n",
      "Step 0286: 737,098 Ft/m² +1,459,547 Ft, error: 1643.0727382098903\n",
      "Step 0287: 736,949 Ft/m² +1,470,723 Ft, error: 1642.3807364578565\n",
      "Step 0288: 736,801 Ft/m² +1,481,898 Ft, error: 1641.689532224544\n",
      "Step 0289: 736,652 Ft/m² +1,493,072 Ft, error: 1640.9991241941736\n",
      "Step 0290: 736,504 Ft/m² +1,504,245 Ft, error: 1640.3095110654479\n",
      "Step 0291: 736,356 Ft/m² +1,515,417 Ft, error: 1639.6206915511314\n",
      "Step 0292: 736,208 Ft/m² +1,526,588 Ft, error: 1638.932664377631\n",
      "Step 0293: 736,060 Ft/m² +1,537,758 Ft, error: 1638.245428284597\n",
      "Step 0294: 735,912 Ft/m² +1,548,927 Ft, error: 1637.5589820245407\n",
      "Step 0295: 735,764 Ft/m² +1,560,094 Ft, error: 1636.8733243624508\n",
      "Step 0296: 735,617 Ft/m² +1,571,260 Ft, error: 1636.1884540754388\n",
      "Step 0297: 735,469 Ft/m² +1,582,424 Ft, error: 1635.5043699523776\n",
      "Step 0298: 735,322 Ft/m² +1,593,587 Ft, error: 1634.82107079357\n",
      "Step 0299: 735,174 Ft/m² +1,604,748 Ft, error: 1634.1385554104124\n",
      "Step 0300: 735,027 Ft/m² +1,615,908 Ft, error: 1633.4568226250747\n",
      "Step 0301: 734,880 Ft/m² +1,627,066 Ft, error: 1632.7758712701982\n",
      "Step 0302: 734,734 Ft/m² +1,638,221 Ft, error: 1632.0957001885831\n",
      "Step 0303: 734,587 Ft/m² +1,649,375 Ft, error: 1631.416308232911\n",
      "Step 0304: 734,440 Ft/m² +1,660,527 Ft, error: 1630.7376942654519\n",
      "Step 0305: 734,294 Ft/m² +1,671,677 Ft, error: 1630.0598571577991\n",
      "Step 0306: 734,147 Ft/m² +1,682,825 Ft, error: 1629.3827957906065\n",
      "Step 0307: 734,001 Ft/m² +1,693,970 Ft, error: 1628.7065090533235\n",
      "Step 0308: 733,855 Ft/m² +1,705,113 Ft, error: 1628.0309958439548\n",
      "Step 0309: 733,709 Ft/m² +1,716,254 Ft, error: 1627.3562550688225\n",
      "Step 0310: 733,563 Ft/m² +1,727,393 Ft, error: 1626.682285642326\n",
      "Step 0311: 733,417 Ft/m² +1,738,529 Ft, error: 1626.009086486721\n",
      "Step 0312: 733,271 Ft/m² +1,749,663 Ft, error: 1625.336656531904\n",
      "Step 0313: 733,126 Ft/m² +1,760,794 Ft, error: 1624.6649947151998\n",
      "Step 0314: 732,980 Ft/m² +1,771,922 Ft, error: 1623.99409998115\n",
      "Step 0315: 732,835 Ft/m² +1,783,048 Ft, error: 1623.3239712813263\n",
      "Step 0316: 732,689 Ft/m² +1,794,171 Ft, error: 1622.654607574131\n",
      "Step 0317: 732,544 Ft/m² +1,805,291 Ft, error: 1621.986007824612\n",
      "Step 0318: 732,399 Ft/m² +1,816,408 Ft, error: 1621.3181710042852\n",
      "Step 0319: 732,254 Ft/m² +1,827,522 Ft, error: 1620.6510960909588\n",
      "Step 0320: 732,109 Ft/m² +1,838,634 Ft, error: 1619.9847820685668\n",
      "Step 0321: 731,965 Ft/m² +1,849,742 Ft, error: 1619.319227926998\n",
      "Step 0322: 731,820 Ft/m² +1,860,848 Ft, error: 1618.654432661945\n",
      "Step 0323: 731,675 Ft/m² +1,871,950 Ft, error: 1617.9903952747497\n",
      "Step 0324: 731,531 Ft/m² +1,883,049 Ft, error: 1617.3271147722485\n",
      "Step 0325: 731,387 Ft/m² +1,894,145 Ft, error: 1616.6645901666402\n",
      "Step 0326: 731,243 Ft/m² +1,905,238 Ft, error: 1616.0028204753319\n",
      "Step 0327: 731,098 Ft/m² +1,916,327 Ft, error: 1615.341804720814\n",
      "Step 0328: 730,954 Ft/m² +1,927,413 Ft, error: 1614.681541930527\n",
      "Step 0329: 730,811 Ft/m² +1,938,496 Ft, error: 1614.022031136734\n",
      "Step 0330: 730,667 Ft/m² +1,949,575 Ft, error: 1613.3632713763948\n",
      "Step 0331: 730,523 Ft/m² +1,960,651 Ft, error: 1612.7052616910526\n",
      "Step 0332: 730,380 Ft/m² +1,971,723 Ft, error: 1612.0480011267173\n",
      "Step 0333: 730,236 Ft/m² +1,982,792 Ft, error: 1611.3914887337487\n",
      "Step 0334: 730,093 Ft/m² +1,993,857 Ft, error: 1610.735723566752\n",
      "Step 0335: 729,949 Ft/m² +2,004,918 Ft, error: 1610.0807046844798\n",
      "Step 0336: 729,806 Ft/m² +2,015,976 Ft, error: 1609.4264311497143\n",
      "Step 0337: 729,663 Ft/m² +2,027,030 Ft, error: 1608.7729020291847\n",
      "Step 0338: 729,520 Ft/m² +2,038,080 Ft, error: 1608.1201163934647\n",
      "Step 0339: 729,377 Ft/m² +2,049,127 Ft, error: 1607.4680733168793\n",
      "Step 0340: 729,235 Ft/m² +2,060,169 Ft, error: 1606.8167718774175\n",
      "Step 0341: 729,092 Ft/m² +2,071,208 Ft, error: 1606.1662111566473\n",
      "Step 0342: 728,949 Ft/m² +2,082,243 Ft, error: 1605.5163902396275\n",
      "Step 0343: 728,807 Ft/m² +2,093,274 Ft, error: 1604.8673082148298\n",
      "Step 0344: 728,665 Ft/m² +2,104,301 Ft, error: 1604.2189641740583\n",
      "Step 0345: 728,522 Ft/m² +2,115,324 Ft, error: 1603.5713572123736\n",
      "Step 0346: 728,380 Ft/m² +2,126,343 Ft, error: 1602.9244864280195\n",
      "Step 0347: 728,238 Ft/m² +2,137,358 Ft, error: 1602.2783509223498\n",
      "Step 0348: 728,096 Ft/m² +2,148,368 Ft, error: 1601.6329497997606\n",
      "Step 0349: 727,954 Ft/m² +2,159,375 Ft, error: 1600.9882821676204\n",
      "Step 0350: 727,812 Ft/m² +2,170,377 Ft, error: 1600.3443471362098\n",
      "Step 0351: 727,671 Ft/m² +2,181,375 Ft, error: 1599.7011438186537\n",
      "Step 0352: 727,529 Ft/m² +2,192,369 Ft, error: 1599.0586713308596\n",
      "Step 0353: 727,388 Ft/m² +2,203,359 Ft, error: 1598.4169287914624\n",
      "Step 0354: 727,246 Ft/m² +2,214,344 Ft, error: 1597.7759153217644\n",
      "Step 0355: 727,105 Ft/m² +2,225,325 Ft, error: 1597.1356300456825\n",
      "Step 0356: 726,964 Ft/m² +2,236,302 Ft, error: 1596.4960720896847\n",
      "Step 0357: 726,823 Ft/m² +2,247,275 Ft, error: 1595.8572405827538\n",
      "Step 0358: 726,682 Ft/m² +2,258,243 Ft, error: 1595.2191346563216\n",
      "Step 0359: 726,541 Ft/m² +2,269,206 Ft, error: 1594.5817534442297\n",
      "Step 0360: 726,400 Ft/m² +2,280,165 Ft, error: 1593.9450960826741\n",
      "Step 0361: 726,259 Ft/m² +2,291,120 Ft, error: 1593.3091617101675\n",
      "Step 0362: 726,119 Ft/m² +2,302,070 Ft, error: 1592.6739494674866\n",
      "Step 0363: 725,978 Ft/m² +2,313,015 Ft, error: 1592.0394584976377\n",
      "Step 0364: 725,838 Ft/m² +2,323,956 Ft, error: 1591.4056879458035\n",
      "Step 0365: 725,697 Ft/m² +2,334,893 Ft, error: 1590.7726369593104\n",
      "Step 0366: 725,557 Ft/m² +2,345,825 Ft, error: 1590.1403046875894\n",
      "Step 0367: 725,417 Ft/m² +2,356,752 Ft, error: 1589.508690282133\n",
      "Step 0368: 725,277 Ft/m² +2,367,675 Ft, error: 1588.8777928964637\n",
      "Step 0369: 725,137 Ft/m² +2,378,592 Ft, error: 1588.2476116860896\n",
      "Step 0370: 724,997 Ft/m² +2,389,506 Ft, error: 1587.6181458084827\n",
      "Step 0371: 724,857 Ft/m² +2,400,414 Ft, error: 1586.9893944230284\n",
      "Step 0372: 724,717 Ft/m² +2,411,318 Ft, error: 1586.361356691011\n",
      "Step 0373: 724,578 Ft/m² +2,422,217 Ft, error: 1585.7340317755675\n",
      "Step 0374: 724,438 Ft/m² +2,433,111 Ft, error: 1585.1074188416637\n",
      "Step 0375: 724,299 Ft/m² +2,444,001 Ft, error: 1584.4815170560637\n",
      "Step 0376: 724,159 Ft/m² +2,454,885 Ft, error: 1583.8563255872975\n",
      "Step 0377: 724,020 Ft/m² +2,465,765 Ft, error: 1583.2318436056382\n",
      "Step 0378: 723,881 Ft/m² +2,476,640 Ft, error: 1582.6080702830739\n",
      "Step 0379: 723,742 Ft/m² +2,487,510 Ft, error: 1581.9850047932782\n",
      "Step 0380: 723,603 Ft/m² +2,498,376 Ft, error: 1581.362646311583\n",
      "Step 0381: 723,464 Ft/m² +2,509,236 Ft, error: 1580.7409940149626\n",
      "Step 0382: 723,325 Ft/m² +2,520,091 Ft, error: 1580.1200470820004\n",
      "Step 0383: 723,186 Ft/m² +2,530,942 Ft, error: 1579.499804692873\n",
      "Step 0384: 723,048 Ft/m² +2,541,787 Ft, error: 1578.8802660293197\n",
      "Step 0385: 722,909 Ft/m² +2,552,628 Ft, error: 1578.261430274628\n",
      "Step 0386: 722,771 Ft/m² +2,563,463 Ft, error: 1577.6432966136078\n",
      "Step 0387: 722,632 Ft/m² +2,574,294 Ft, error: 1577.0258642325732\n",
      "Step 0388: 722,494 Ft/m² +2,585,120 Ft, error: 1576.4091323193204\n",
      "Step 0389: 722,356 Ft/m² +2,595,940 Ft, error: 1575.7931000631124\n",
      "Step 0390: 722,218 Ft/m² +2,606,756 Ft, error: 1575.1777666546532\n",
      "Step 0391: 722,080 Ft/m² +2,617,566 Ft, error: 1574.5631312860762\n",
      "Step 0392: 721,942 Ft/m² +2,628,371 Ft, error: 1573.9491931509226\n",
      "Step 0393: 721,804 Ft/m² +2,639,172 Ft, error: 1573.335951444127\n",
      "Step 0394: 721,666 Ft/m² +2,649,967 Ft, error: 1572.7234053619998\n",
      "Step 0395: 721,528 Ft/m² +2,660,757 Ft, error: 1572.1115541022073\n",
      "Step 0396: 721,391 Ft/m² +2,671,542 Ft, error: 1571.500396863764\n",
      "Step 0397: 721,253 Ft/m² +2,682,321 Ft, error: 1570.8899328470097\n",
      "Step 0398: 721,116 Ft/m² +2,693,096 Ft, error: 1570.2801612535964\n",
      "Step 0399: 720,978 Ft/m² +2,703,865 Ft, error: 1569.6710812864787\n",
      "Step 0400: 720,841 Ft/m² +2,714,630 Ft, error: 1569.0626921498954\n",
      "Step 0401: 720,704 Ft/m² +2,725,389 Ft, error: 1568.4549930493563\n",
      "Step 0402: 720,567 Ft/m² +2,736,143 Ft, error: 1567.8479831916281\n",
      "Step 0403: 720,430 Ft/m² +2,746,891 Ft, error: 1567.2416617847282\n",
      "Step 0404: 720,293 Ft/m² +2,757,635 Ft, error: 1566.6360280379029\n",
      "Step 0405: 720,156 Ft/m² +2,768,373 Ft, error: 1566.0310811616237\n",
      "Step 0406: 720,019 Ft/m² +2,779,106 Ft, error: 1565.4268203675688\n",
      "Step 0407: 719,883 Ft/m² +2,789,834 Ft, error: 1564.8232448686188\n",
      "Step 0408: 719,746 Ft/m² +2,800,556 Ft, error: 1564.2203538788372\n",
      "Step 0409: 719,610 Ft/m² +2,811,273 Ft, error: 1563.6181466134694\n",
      "Step 0410: 719,473 Ft/m² +2,821,985 Ft, error: 1563.0166222889231\n",
      "Step 0411: 719,337 Ft/m² +2,832,692 Ft, error: 1562.4157801227652\n",
      "Step 0412: 719,201 Ft/m² +2,843,393 Ft, error: 1561.815619333709\n",
      "Step 0413: 719,064 Ft/m² +2,854,089 Ft, error: 1561.216139141606\n",
      "Step 0414: 718,928 Ft/m² +2,864,780 Ft, error: 1560.6173387674319\n",
      "Step 0415: 718,792 Ft/m² +2,875,465 Ft, error: 1560.0192174332863\n",
      "Step 0416: 718,656 Ft/m² +2,886,145 Ft, error: 1559.421774362376\n",
      "Step 0417: 718,521 Ft/m² +2,896,820 Ft, error: 1558.8250087790102\n",
      "Step 0418: 718,385 Ft/m² +2,907,489 Ft, error: 1558.2289199085938\n",
      "Step 0419: 718,249 Ft/m² +2,918,153 Ft, error: 1557.6335069776144\n",
      "Step 0420: 718,114 Ft/m² +2,928,811 Ft, error: 1557.0387692136394\n",
      "Step 0421: 717,978 Ft/m² +2,939,464 Ft, error: 1556.4447058453065\n",
      "Step 0422: 717,843 Ft/m² +2,950,112 Ft, error: 1555.851316102314\n",
      "Step 0423: 717,707 Ft/m² +2,960,755 Ft, error: 1555.2585992154197\n",
      "Step 0424: 717,572 Ft/m² +2,971,392 Ft, error: 1554.666554416429\n",
      "Step 0425: 717,437 Ft/m² +2,982,023 Ft, error: 1554.0751809381882\n",
      "Step 0426: 717,302 Ft/m² +2,992,649 Ft, error: 1553.4844780145772\n",
      "Step 0427: 717,167 Ft/m² +3,003,270 Ft, error: 1552.8944448805107\n",
      "Step 0428: 717,032 Ft/m² +3,013,885 Ft, error: 1552.305080771921\n",
      "Step 0429: 716,897 Ft/m² +3,024,495 Ft, error: 1551.7163849257604\n",
      "Step 0430: 716,762 Ft/m² +3,035,100 Ft, error: 1551.1283565799897\n",
      "Step 0431: 716,627 Ft/m² +3,045,699 Ft, error: 1550.5409949735774\n",
      "Step 0432: 716,493 Ft/m² +3,056,292 Ft, error: 1549.9542993464897\n",
      "Step 0433: 716,358 Ft/m² +3,066,880 Ft, error: 1549.368268939686\n",
      "Step 0434: 716,224 Ft/m² +3,077,463 Ft, error: 1548.7829029951185\n",
      "Step 0435: 716,089 Ft/m² +3,088,040 Ft, error: 1548.1982007557162\n",
      "Step 0436: 715,955 Ft/m² +3,098,611 Ft, error: 1547.6141614653948\n",
      "Step 0437: 715,821 Ft/m² +3,109,178 Ft, error: 1547.030784369036\n",
      "Step 0438: 715,687 Ft/m² +3,119,738 Ft, error: 1546.4480687124978\n",
      "Step 0439: 715,553 Ft/m² +3,130,293 Ft, error: 1545.8660137425957\n",
      "Step 0440: 715,419 Ft/m² +3,140,843 Ft, error: 1545.2846187071088\n",
      "Step 0441: 715,285 Ft/m² +3,151,387 Ft, error: 1544.703882854769\n",
      "Step 0442: 715,151 Ft/m² +3,161,926 Ft, error: 1544.1238054352632\n",
      "Step 0443: 715,017 Ft/m² +3,172,459 Ft, error: 1543.54438569922\n",
      "Step 0444: 714,884 Ft/m² +3,182,987 Ft, error: 1542.9656228982137\n",
      "Step 0445: 714,750 Ft/m² +3,193,509 Ft, error: 1542.3875162847576\n",
      "Step 0446: 714,617 Ft/m² +3,204,026 Ft, error: 1541.810065112296\n",
      "Step 0447: 714,483 Ft/m² +3,214,537 Ft, error: 1541.233268635208\n",
      "Step 0448: 714,350 Ft/m² +3,225,042 Ft, error: 1540.6571261088\n",
      "Step 0449: 714,217 Ft/m² +3,235,542 Ft, error: 1540.0816367892987\n",
      "Step 0450: 714,083 Ft/m² +3,246,037 Ft, error: 1539.5067999338519\n",
      "Step 0451: 713,950 Ft/m² +3,256,526 Ft, error: 1538.9326148005262\n",
      "Step 0452: 713,817 Ft/m² +3,267,009 Ft, error: 1538.3590806482982\n",
      "Step 0453: 713,684 Ft/m² +3,277,487 Ft, error: 1537.7861967370566\n",
      "Step 0454: 713,552 Ft/m² +3,287,959 Ft, error: 1537.2139623275953\n",
      "Step 0455: 713,419 Ft/m² +3,298,426 Ft, error: 1536.642376681612\n",
      "Step 0456: 713,286 Ft/m² +3,308,887 Ft, error: 1536.0714390617043\n",
      "Step 0457: 713,153 Ft/m² +3,319,343 Ft, error: 1535.5011487313684\n",
      "Step 0458: 713,021 Ft/m² +3,329,793 Ft, error: 1534.9315049549946\n",
      "Step 0459: 712,888 Ft/m² +3,340,238 Ft, error: 1534.3625069978616\n",
      "Step 0460: 712,756 Ft/m² +3,350,676 Ft, error: 1533.7941541261425\n",
      "Step 0461: 712,624 Ft/m² +3,361,110 Ft, error: 1533.226445606891\n",
      "Step 0462: 712,491 Ft/m² +3,371,538 Ft, error: 1532.6593807080476\n",
      "Step 0463: 712,359 Ft/m² +3,381,960 Ft, error: 1532.0929586984287\n",
      "Step 0464: 712,227 Ft/m² +3,392,377 Ft, error: 1531.527178847736\n",
      "Step 0465: 712,095 Ft/m² +3,402,788 Ft, error: 1530.962040426538\n",
      "Step 0466: 711,963 Ft/m² +3,413,193 Ft, error: 1530.3975427062826\n",
      "Step 0467: 711,831 Ft/m² +3,423,593 Ft, error: 1529.833684959284\n",
      "Step 0468: 711,700 Ft/m² +3,433,987 Ft, error: 1529.2704664587282\n",
      "Step 0469: 711,568 Ft/m² +3,444,376 Ft, error: 1528.707886478664\n",
      "Step 0470: 711,436 Ft/m² +3,454,759 Ft, error: 1528.1459442940043\n",
      "Step 0471: 711,305 Ft/m² +3,465,137 Ft, error: 1527.584639180523\n",
      "Step 0472: 711,173 Ft/m² +3,475,509 Ft, error: 1527.0239704148553\n",
      "Step 0473: 711,042 Ft/m² +3,485,875 Ft, error: 1526.4639372744896\n",
      "Step 0474: 710,911 Ft/m² +3,496,236 Ft, error: 1525.9045390377703\n",
      "Step 0475: 710,779 Ft/m² +3,506,591 Ft, error: 1525.345774983897\n",
      "Step 0476: 710,648 Ft/m² +3,516,941 Ft, error: 1524.787644392914\n",
      "Step 0477: 710,517 Ft/m² +3,527,285 Ft, error: 1524.230146545719\n",
      "Step 0478: 710,386 Ft/m² +3,537,623 Ft, error: 1523.673280724055\n",
      "Step 0479: 710,255 Ft/m² +3,547,956 Ft, error: 1523.117046210509\n",
      "Step 0480: 710,124 Ft/m² +3,558,283 Ft, error: 1522.5614422885103\n",
      "Step 0481: 709,994 Ft/m² +3,568,605 Ft, error: 1522.0064682423297\n",
      "Step 0482: 709,863 Ft/m² +3,578,921 Ft, error: 1521.4521233570772\n",
      "Step 0483: 709,732 Ft/m² +3,589,231 Ft, error: 1520.8984069186993\n",
      "Step 0484: 709,602 Ft/m² +3,599,536 Ft, error: 1520.3453182139747\n",
      "Step 0485: 709,471 Ft/m² +3,609,835 Ft, error: 1519.792856530523\n",
      "Step 0486: 709,341 Ft/m² +3,620,129 Ft, error: 1519.2410211567903\n",
      "Step 0487: 709,210 Ft/m² +3,630,417 Ft, error: 1518.6898113820528\n",
      "Step 0488: 709,080 Ft/m² +3,640,699 Ft, error: 1518.1392264964159\n",
      "Step 0489: 708,950 Ft/m² +3,650,976 Ft, error: 1517.5892657908125\n",
      "Step 0490: 708,820 Ft/m² +3,661,247 Ft, error: 1517.0399285570013\n",
      "Step 0491: 708,690 Ft/m² +3,671,512 Ft, error: 1516.491214087561\n",
      "Step 0492: 708,560 Ft/m² +3,681,772 Ft, error: 1515.943121675896\n",
      "Step 0493: 708,430 Ft/m² +3,692,027 Ft, error: 1515.3956506162297\n",
      "Step 0494: 708,300 Ft/m² +3,702,275 Ft, error: 1514.848800203603\n",
      "Step 0495: 708,171 Ft/m² +3,712,519 Ft, error: 1514.3025697338776\n",
      "Step 0496: 708,041 Ft/m² +3,722,756 Ft, error: 1513.7569585037254\n",
      "Step 0497: 707,911 Ft/m² +3,732,988 Ft, error: 1513.2119658106394\n",
      "Step 0498: 707,782 Ft/m² +3,743,214 Ft, error: 1512.667590952918\n",
      "Step 0499: 707,652 Ft/m² +3,753,435 Ft, error: 1512.1238332296791\n",
      "Step 0500: 707,523 Ft/m² +3,763,650 Ft, error: 1511.5806919408465\n",
      "Step 0501: 707,394 Ft/m² +3,773,859 Ft, error: 1511.0381663871485\n",
      "Step 0502: 707,265 Ft/m² +3,784,063 Ft, error: 1510.496255870128\n",
      "Step 0503: 707,136 Ft/m² +3,794,261 Ft, error: 1509.954959692129\n",
      "Step 0504: 707,006 Ft/m² +3,804,454 Ft, error: 1509.414277156303\n",
      "Step 0505: 706,877 Ft/m² +3,814,641 Ft, error: 1508.8742075666034\n",
      "Step 0506: 706,749 Ft/m² +3,824,823 Ft, error: 1508.3347502277816\n",
      "Step 0507: 706,620 Ft/m² +3,834,998 Ft, error: 1507.7959044453953\n",
      "Step 0508: 706,491 Ft/m² +3,845,169 Ft, error: 1507.2576695258003\n",
      "Step 0509: 706,362 Ft/m² +3,855,333 Ft, error: 1506.7200447761472\n",
      "Step 0510: 706,234 Ft/m² +3,865,492 Ft, error: 1506.1830295043853\n",
      "Step 0511: 706,105 Ft/m² +3,875,646 Ft, error: 1505.64662301926\n",
      "Step 0512: 705,977 Ft/m² +3,885,793 Ft, error: 1505.1108246303097\n",
      "Step 0513: 705,848 Ft/m² +3,895,936 Ft, error: 1504.575633647866\n",
      "Step 0514: 705,720 Ft/m² +3,906,072 Ft, error: 1504.0410493830523\n",
      "Step 0515: 705,592 Ft/m² +3,916,203 Ft, error: 1503.5070711477813\n",
      "Step 0516: 705,464 Ft/m² +3,926,329 Ft, error: 1502.9736982547565\n",
      "Step 0517: 705,336 Ft/m² +3,936,448 Ft, error: 1502.440930017471\n",
      "Step 0518: 705,208 Ft/m² +3,946,563 Ft, error: 1501.9087657502002\n",
      "Step 0519: 705,080 Ft/m² +3,956,671 Ft, error: 1501.3772047680097\n",
      "Step 0520: 704,952 Ft/m² +3,966,774 Ft, error: 1500.8462463867468\n",
      "Step 0521: 704,824 Ft/m² +3,976,872 Ft, error: 1500.3158899230443\n",
      "Step 0522: 704,696 Ft/m² +3,986,963 Ft, error: 1499.7861346943157\n",
      "Step 0523: 704,569 Ft/m² +3,997,050 Ft, error: 1499.2569800187575\n",
      "Step 0524: 704,441 Ft/m² +4,007,130 Ft, error: 1498.7284252153433\n",
      "Step 0525: 704,314 Ft/m² +4,017,205 Ft, error: 1498.2004696038298\n",
      "Step 0526: 704,186 Ft/m² +4,027,275 Ft, error: 1497.6731125047468\n",
      "Step 0527: 704,059 Ft/m² +4,037,339 Ft, error: 1497.146353239406\n",
      "Step 0528: 703,932 Ft/m² +4,047,397 Ft, error: 1496.6201911298906\n",
      "Step 0529: 703,804 Ft/m² +4,057,450 Ft, error: 1496.0946254990595\n",
      "Step 0530: 703,677 Ft/m² +4,067,497 Ft, error: 1495.5696556705475\n",
      "Step 0531: 703,550 Ft/m² +4,077,538 Ft, error: 1495.0452809687579\n",
      "Step 0532: 703,423 Ft/m² +4,087,574 Ft, error: 1494.521500718869\n",
      "Step 0533: 703,296 Ft/m² +4,097,605 Ft, error: 1493.9983142468259\n",
      "Step 0534: 703,169 Ft/m² +4,107,629 Ft, error: 1493.4757208793487\n",
      "Step 0535: 703,043 Ft/m² +4,117,649 Ft, error: 1492.9537199439187\n",
      "Step 0536: 702,916 Ft/m² +4,127,662 Ft, error: 1492.4323107687885\n",
      "Step 0537: 702,789 Ft/m² +4,137,670 Ft, error: 1491.9114926829777\n",
      "Step 0538: 702,663 Ft/m² +4,147,673 Ft, error: 1491.3912650162688\n",
      "Step 0539: 702,536 Ft/m² +4,157,670 Ft, error: 1490.8716270992104\n",
      "Step 0540: 702,410 Ft/m² +4,167,661 Ft, error: 1490.3525782631114\n",
      "Step 0541: 702,284 Ft/m² +4,177,647 Ft, error: 1489.834117840046\n",
      "Step 0542: 702,157 Ft/m² +4,187,627 Ft, error: 1489.3162451628482\n",
      "Step 0543: 702,031 Ft/m² +4,197,602 Ft, error: 1488.7989595651125\n",
      "Step 0544: 701,905 Ft/m² +4,207,571 Ft, error: 1488.282260381194\n",
      "Step 0545: 701,779 Ft/m² +4,217,534 Ft, error: 1487.7661469462012\n",
      "Step 0546: 701,653 Ft/m² +4,227,492 Ft, error: 1487.250618596007\n",
      "Step 0547: 701,527 Ft/m² +4,237,445 Ft, error: 1486.735674667236\n",
      "Step 0548: 701,401 Ft/m² +4,247,391 Ft, error: 1486.2213144972668\n",
      "Step 0549: 701,276 Ft/m² +4,257,333 Ft, error: 1485.7075374242365\n",
      "Step 0550: 701,150 Ft/m² +4,267,268 Ft, error: 1485.1943427870337\n",
      "Step 0551: 701,024 Ft/m² +4,277,199 Ft, error: 1484.6817299252978\n",
      "Step 0552: 700,899 Ft/m² +4,287,123 Ft, error: 1484.1696981794241\n",
      "Step 0553: 700,773 Ft/m² +4,297,042 Ft, error: 1483.6582468905538\n",
      "Step 0554: 700,648 Ft/m² +4,306,956 Ft, error: 1483.147375400581\n",
      "Step 0555: 700,523 Ft/m² +4,316,864 Ft, error: 1482.637083052145\n",
      "Step 0556: 700,397 Ft/m² +4,326,766 Ft, error: 1482.127369188639\n",
      "Step 0557: 700,272 Ft/m² +4,336,663 Ft, error: 1481.6182331541954\n",
      "Step 0558: 700,147 Ft/m² +4,346,555 Ft, error: 1481.1096742936988\n",
      "Step 0559: 700,022 Ft/m² +4,356,441 Ft, error: 1480.6016919527738\n",
      "Step 0560: 699,897 Ft/m² +4,366,321 Ft, error: 1480.0942854777932\n",
      "Step 0561: 699,772 Ft/m² +4,376,196 Ft, error: 1479.5874542158697\n",
      "Step 0562: 699,647 Ft/m² +4,386,065 Ft, error: 1479.0811975148615\n",
      "Step 0563: 699,523 Ft/m² +4,395,929 Ft, error: 1478.5755147233665\n",
      "Step 0564: 699,398 Ft/m² +4,405,787 Ft, error: 1478.0704051907219\n",
      "Step 0565: 699,273 Ft/m² +4,415,640 Ft, error: 1477.5658682670066\n",
      "Step 0566: 699,149 Ft/m² +4,425,487 Ft, error: 1477.0619033030348\n",
      "Step 0567: 699,024 Ft/m² +4,435,328 Ft, error: 1476.5585096503642\n",
      "Step 0568: 698,900 Ft/m² +4,445,164 Ft, error: 1476.0556866612826\n",
      "Step 0569: 698,776 Ft/m² +4,454,995 Ft, error: 1475.5534336888174\n",
      "Step 0570: 698,651 Ft/m² +4,464,820 Ft, error: 1475.0517500867331\n",
      "Step 0571: 698,527 Ft/m² +4,474,640 Ft, error: 1474.5506352095229\n",
      "Step 0572: 698,403 Ft/m² +4,484,454 Ft, error: 1474.0500884124197\n",
      "Step 0573: 698,279 Ft/m² +4,494,262 Ft, error: 1473.550109051381\n",
      "Step 0574: 698,155 Ft/m² +4,504,065 Ft, error: 1473.0506964831047\n",
      "Step 0575: 698,031 Ft/m² +4,513,863 Ft, error: 1472.5518500650105\n",
      "Step 0576: 697,907 Ft/m² +4,523,655 Ft, error: 1472.0535691552584\n",
      "Step 0577: 697,784 Ft/m² +4,533,442 Ft, error: 1471.5558531127256\n",
      "Step 0578: 697,660 Ft/m² +4,543,223 Ft, error: 1471.0587012970252\n",
      "Step 0579: 697,536 Ft/m² +4,552,998 Ft, error: 1470.562113068496\n",
      "Step 0580: 697,413 Ft/m² +4,562,768 Ft, error: 1470.066087788199\n",
      "Step 0581: 697,289 Ft/m² +4,572,533 Ft, error: 1469.5706248179295\n",
      "Step 0582: 697,166 Ft/m² +4,582,292 Ft, error: 1469.075723520199\n",
      "Step 0583: 697,043 Ft/m² +4,592,046 Ft, error: 1468.5813832582444\n",
      "Step 0584: 696,919 Ft/m² +4,601,794 Ft, error: 1468.0876033960296\n",
      "Step 0585: 696,796 Ft/m² +4,611,536 Ft, error: 1467.5943832982362\n",
      "Step 0586: 696,673 Ft/m² +4,621,274 Ft, error: 1467.10172233027\n",
      "Step 0587: 696,550 Ft/m² +4,631,005 Ft, error: 1466.6096198582532\n",
      "Step 0588: 696,427 Ft/m² +4,640,732 Ft, error: 1466.1180752490327\n",
      "Step 0589: 696,304 Ft/m² +4,650,452 Ft, error: 1465.627087870171\n",
      "Step 0590: 696,181 Ft/m² +4,660,168 Ft, error: 1465.1366570899472\n",
      "Step 0591: 696,058 Ft/m² +4,669,878 Ft, error: 1464.6467822773602\n",
      "Step 0592: 695,936 Ft/m² +4,679,582 Ft, error: 1464.1574628021237\n",
      "Step 0593: 695,813 Ft/m² +4,689,281 Ft, error: 1463.668698034667\n",
      "Step 0594: 695,691 Ft/m² +4,698,974 Ft, error: 1463.1804873461328\n",
      "Step 0595: 695,568 Ft/m² +4,708,662 Ft, error: 1462.6928301083788\n",
      "Step 0596: 695,446 Ft/m² +4,718,345 Ft, error: 1462.2057256939743\n",
      "Step 0597: 695,323 Ft/m² +4,728,022 Ft, error: 1461.7191734762032\n",
      "Step 0598: 695,201 Ft/m² +4,737,694 Ft, error: 1461.2331728290576\n",
      "Step 0599: 695,079 Ft/m² +4,747,360 Ft, error: 1460.7477231272396\n",
      "Step 0600: 694,957 Ft/m² +4,757,021 Ft, error: 1460.262823746163\n",
      "Step 0601: 694,835 Ft/m² +4,766,676 Ft, error: 1459.7784740619497\n",
      "Step 0602: 694,713 Ft/m² +4,776,326 Ft, error: 1459.2946734514294\n",
      "Step 0603: 694,591 Ft/m² +4,785,970 Ft, error: 1458.8114212921369\n",
      "Step 0604: 694,469 Ft/m² +4,795,609 Ft, error: 1458.3287169623159\n",
      "Step 0605: 694,347 Ft/m² +4,805,243 Ft, error: 1457.8465598409148\n",
      "Step 0606: 694,225 Ft/m² +4,814,871 Ft, error: 1457.3649493075848\n",
      "Step 0607: 694,104 Ft/m² +4,824,494 Ft, error: 1456.883884742682\n",
      "Step 0608: 693,982 Ft/m² +4,834,111 Ft, error: 1456.4033655272672\n",
      "Step 0609: 693,861 Ft/m² +4,843,723 Ft, error: 1455.9233910431021\n",
      "Step 0610: 693,739 Ft/m² +4,853,329 Ft, error: 1455.4439606726462\n",
      "Step 0611: 693,618 Ft/m² +4,862,930 Ft, error: 1454.9650737990646\n",
      "Step 0612: 693,496 Ft/m² +4,872,526 Ft, error: 1454.4867298062209\n",
      "Step 0613: 693,375 Ft/m² +4,882,116 Ft, error: 1454.0089280786754\n",
      "Step 0614: 693,254 Ft/m² +4,891,701 Ft, error: 1453.531668001688\n",
      "Step 0615: 693,133 Ft/m² +4,901,281 Ft, error: 1453.0549489612165\n",
      "Step 0616: 693,012 Ft/m² +4,910,855 Ft, error: 1452.5787703439125\n",
      "Step 0617: 692,891 Ft/m² +4,920,423 Ft, error: 1452.103131537128\n",
      "Step 0618: 692,770 Ft/m² +4,929,986 Ft, error: 1451.628031928905\n",
      "Step 0619: 692,649 Ft/m² +4,939,544 Ft, error: 1451.1534709079813\n",
      "Step 0620: 692,528 Ft/m² +4,949,097 Ft, error: 1450.679447863791\n",
      "Step 0621: 692,408 Ft/m² +4,958,644 Ft, error: 1450.2059621864546\n",
      "Step 0622: 692,287 Ft/m² +4,968,185 Ft, error: 1449.73301326679\n",
      "Step 0623: 692,167 Ft/m² +4,977,722 Ft, error: 1449.260600496303\n",
      "Step 0624: 692,046 Ft/m² +4,987,253 Ft, error: 1448.7887232671885\n",
      "Step 0625: 691,926 Ft/m² +4,996,778 Ft, error: 1448.317380972335\n",
      "Step 0626: 691,805 Ft/m² +5,006,298 Ft, error: 1447.846573005314\n",
      "Step 0627: 691,685 Ft/m² +5,015,813 Ft, error: 1447.3762987603911\n",
      "Step 0628: 691,565 Ft/m² +5,025,322 Ft, error: 1446.9065576325124\n",
      "Step 0629: 691,445 Ft/m² +5,034,826 Ft, error: 1446.4373490173139\n",
      "Step 0630: 691,325 Ft/m² +5,044,325 Ft, error: 1445.968672311117\n",
      "Step 0631: 691,205 Ft/m² +5,053,818 Ft, error: 1445.5005269109247\n",
      "Step 0632: 691,085 Ft/m² +5,063,306 Ft, error: 1445.032912214429\n",
      "Step 0633: 690,965 Ft/m² +5,072,789 Ft, error: 1444.565827619999\n",
      "Step 0634: 690,845 Ft/m² +5,082,266 Ft, error: 1444.0992725266897\n",
      "Step 0635: 690,725 Ft/m² +5,091,738 Ft, error: 1443.6332463342376\n",
      "Step 0636: 690,606 Ft/m² +5,101,205 Ft, error: 1443.167748443058\n",
      "Step 0637: 690,486 Ft/m² +5,110,666 Ft, error: 1442.7027782542475\n",
      "Step 0638: 690,366 Ft/m² +5,120,122 Ft, error: 1442.238335169581\n",
      "Step 0639: 690,247 Ft/m² +5,129,572 Ft, error: 1441.7744185915128\n",
      "Step 0640: 690,128 Ft/m² +5,139,017 Ft, error: 1441.3110279231742\n",
      "Step 0641: 690,008 Ft/m² +5,148,457 Ft, error: 1440.848162568372\n",
      "Step 0642: 689,889 Ft/m² +5,157,892 Ft, error: 1440.385821931591\n",
      "Step 0643: 689,770 Ft/m² +5,167,321 Ft, error: 1439.9240054179897\n",
      "Step 0644: 689,651 Ft/m² +5,176,745 Ft, error: 1439.4627124334045\n",
      "Step 0645: 689,532 Ft/m² +5,186,163 Ft, error: 1439.00194238434\n",
      "Step 0646: 689,413 Ft/m² +5,195,576 Ft, error: 1438.541694677978\n",
      "Step 0647: 689,294 Ft/m² +5,204,984 Ft, error: 1438.0819687221697\n",
      "Step 0648: 689,175 Ft/m² +5,214,387 Ft, error: 1437.622763925441\n",
      "Step 0649: 689,056 Ft/m² +5,223,784 Ft, error: 1437.164079696986\n",
      "Step 0650: 688,937 Ft/m² +5,233,176 Ft, error: 1436.7059154466685\n",
      "Step 0651: 688,819 Ft/m² +5,242,563 Ft, error: 1436.2482705850223\n",
      "Step 0652: 688,700 Ft/m² +5,251,944 Ft, error: 1435.7911445232494\n",
      "Step 0653: 688,582 Ft/m² +5,261,320 Ft, error: 1435.3345366732215\n",
      "Step 0654: 688,463 Ft/m² +5,270,691 Ft, error: 1434.8784464474707\n",
      "Step 0655: 688,345 Ft/m² +5,280,056 Ft, error: 1434.4228732592019\n",
      "Step 0656: 688,226 Ft/m² +5,289,416 Ft, error: 1433.9678165222847\n",
      "Step 0657: 688,108 Ft/m² +5,298,771 Ft, error: 1433.5132756512503\n",
      "Step 0658: 687,990 Ft/m² +5,308,120 Ft, error: 1433.0592500612922\n",
      "Step 0659: 687,872 Ft/m² +5,317,465 Ft, error: 1432.6057391682737\n",
      "Step 0660: 687,754 Ft/m² +5,326,804 Ft, error: 1432.1527423887137\n",
      "Step 0661: 687,636 Ft/m² +5,336,137 Ft, error: 1431.700259139794\n",
      "Step 0662: 687,518 Ft/m² +5,345,466 Ft, error: 1431.2482888393633\n",
      "Step 0663: 687,400 Ft/m² +5,354,789 Ft, error: 1430.7968309059215\n",
      "Step 0664: 687,282 Ft/m² +5,364,107 Ft, error: 1430.345884758633\n",
      "Step 0665: 687,165 Ft/m² +5,373,419 Ft, error: 1429.895449817319\n",
      "Step 0666: 687,047 Ft/m² +5,382,727 Ft, error: 1429.4455255024588\n",
      "Step 0667: 686,929 Ft/m² +5,392,029 Ft, error: 1428.9961112351898\n",
      "Step 0668: 686,812 Ft/m² +5,401,325 Ft, error: 1428.5472064373048\n",
      "Step 0669: 686,694 Ft/m² +5,410,617 Ft, error: 1428.098810531251\n",
      "Step 0670: 686,577 Ft/m² +5,419,903 Ft, error: 1427.6509229401313\n",
      "Step 0671: 686,460 Ft/m² +5,429,184 Ft, error: 1427.2035430877054\n",
      "Step 0672: 686,343 Ft/m² +5,438,460 Ft, error: 1426.756670398381\n",
      "Step 0673: 686,225 Ft/m² +5,447,731 Ft, error: 1426.3103042972225\n",
      "Step 0674: 686,108 Ft/m² +5,456,996 Ft, error: 1425.8644442099453\n",
      "Step 0675: 685,991 Ft/m² +5,466,256 Ft, error: 1425.419089562913\n",
      "Step 0676: 685,874 Ft/m² +5,475,511 Ft, error: 1424.9742397831453\n",
      "Step 0677: 685,757 Ft/m² +5,484,760 Ft, error: 1424.5298942983038\n",
      "Step 0678: 685,640 Ft/m² +5,494,005 Ft, error: 1424.0860525367075\n",
      "Step 0679: 685,524 Ft/m² +5,503,244 Ft, error: 1423.6427139273178\n",
      "Step 0680: 685,407 Ft/m² +5,512,478 Ft, error: 1423.199877899744\n",
      "Step 0681: 685,290 Ft/m² +5,521,706 Ft, error: 1422.7575438842441\n",
      "Step 0682: 685,174 Ft/m² +5,530,930 Ft, error: 1422.3157113117204\n",
      "Step 0683: 685,057 Ft/m² +5,540,148 Ft, error: 1421.8743796137205\n",
      "Step 0684: 684,941 Ft/m² +5,549,361 Ft, error: 1421.4335482224394\n",
      "Step 0685: 684,824 Ft/m² +5,558,569 Ft, error: 1420.9932165707096\n",
      "Step 0686: 684,708 Ft/m² +5,567,771 Ft, error: 1420.5533840920139\n",
      "Step 0687: 684,592 Ft/m² +5,576,969 Ft, error: 1420.114050220471\n",
      "Step 0688: 684,476 Ft/m² +5,586,161 Ft, error: 1419.6752143908463\n",
      "Step 0689: 684,360 Ft/m² +5,595,348 Ft, error: 1419.236876038541\n",
      "Step 0690: 684,243 Ft/m² +5,604,530 Ft, error: 1418.7990345996004\n",
      "Step 0691: 684,128 Ft/m² +5,613,706 Ft, error: 1418.3616895107093\n",
      "Step 0692: 684,012 Ft/m² +5,622,877 Ft, error: 1417.9248402091876\n",
      "Step 0693: 683,896 Ft/m² +5,632,044 Ft, error: 1417.4884861329947\n",
      "Step 0694: 683,780 Ft/m² +5,641,205 Ft, error: 1417.0526267207288\n",
      "Step 0695: 683,664 Ft/m² +5,650,360 Ft, error: 1416.617261411623\n",
      "Step 0696: 683,549 Ft/m² +5,659,511 Ft, error: 1416.1823896455462\n",
      "Step 0697: 683,433 Ft/m² +5,668,656 Ft, error: 1415.7480108630039\n",
      "Step 0698: 683,317 Ft/m² +5,677,797 Ft, error: 1415.314124505132\n",
      "Step 0699: 683,202 Ft/m² +5,686,932 Ft, error: 1414.8807300137041\n",
      "Step 0700: 683,087 Ft/m² +5,696,062 Ft, error: 1414.4478268311266\n",
      "Step 0701: 682,971 Ft/m² +5,705,186 Ft, error: 1414.0154144004332\n",
      "Step 0702: 682,856 Ft/m² +5,714,306 Ft, error: 1413.583492165294\n",
      "Step 0703: 682,741 Ft/m² +5,723,420 Ft, error: 1413.152059570008\n",
      "Step 0704: 682,626 Ft/m² +5,732,530 Ft, error: 1412.7211160595052\n",
      "Step 0705: 682,511 Ft/m² +5,741,634 Ft, error: 1412.2906610793414\n",
      "Step 0706: 682,396 Ft/m² +5,750,733 Ft, error: 1411.8606940757059\n",
      "Step 0707: 682,281 Ft/m² +5,759,826 Ft, error: 1411.431214495413\n",
      "Step 0708: 682,166 Ft/m² +5,768,915 Ft, error: 1411.0022217859034\n",
      "Step 0709: 682,051 Ft/m² +5,777,999 Ft, error: 1410.5737153952468\n",
      "Step 0710: 681,936 Ft/m² +5,787,077 Ft, error: 1410.1456947721374\n",
      "Step 0711: 681,822 Ft/m² +5,796,150 Ft, error: 1409.7181593658925\n",
      "Step 0712: 681,707 Ft/m² +5,805,218 Ft, error: 1409.291108626457\n",
      "Step 0713: 681,592 Ft/m² +5,814,281 Ft, error: 1408.864542004395\n",
      "Step 0714: 681,478 Ft/m² +5,823,339 Ft, error: 1408.4384589508998\n",
      "Step 0715: 681,364 Ft/m² +5,832,392 Ft, error: 1408.012858917781\n",
      "Step 0716: 681,249 Ft/m² +5,841,439 Ft, error: 1407.5877413574735\n",
      "Step 0717: 681,135 Ft/m² +5,850,482 Ft, error: 1407.16310572303\n",
      "Step 0718: 681,021 Ft/m² +5,859,519 Ft, error: 1406.7389514681256\n",
      "Step 0719: 680,907 Ft/m² +5,868,551 Ft, error: 1406.3152780470527\n",
      "Step 0720: 680,792 Ft/m² +5,877,578 Ft, error: 1405.8920849147246\n",
      "Step 0721: 680,678 Ft/m² +5,886,600 Ft, error: 1405.46937152667\n",
      "Step 0722: 680,564 Ft/m² +5,895,617 Ft, error: 1405.0471373390385\n",
      "Step 0723: 680,451 Ft/m² +5,904,629 Ft, error: 1404.6253818085909\n",
      "Step 0724: 680,337 Ft/m² +5,913,635 Ft, error: 1404.20410439271\n",
      "Step 0725: 680,223 Ft/m² +5,922,637 Ft, error: 1403.7833045493885\n",
      "Step 0726: 680,109 Ft/m² +5,931,633 Ft, error: 1403.3629817372357\n",
      "Step 0727: 679,996 Ft/m² +5,940,625 Ft, error: 1402.943135415475\n",
      "Step 0728: 679,882 Ft/m² +5,949,611 Ft, error: 1402.523765043944\n",
      "Step 0729: 679,769 Ft/m² +5,958,592 Ft, error: 1402.1048700830881\n",
      "Step 0730: 679,655 Ft/m² +5,967,568 Ft, error: 1401.6864499939704\n",
      "Step 0731: 679,542 Ft/m² +5,976,539 Ft, error: 1401.2685042382602\n",
      "Step 0732: 679,428 Ft/m² +5,985,505 Ft, error: 1400.8510322782386\n",
      "Step 0733: 679,315 Ft/m² +5,994,466 Ft, error: 1400.4340335767986\n",
      "Step 0734: 679,202 Ft/m² +6,003,421 Ft, error: 1400.0175075974375\n",
      "Step 0735: 679,089 Ft/m² +6,012,372 Ft, error: 1399.6014538042652\n",
      "Step 0736: 678,976 Ft/m² +6,021,318 Ft, error: 1399.1858716619956\n",
      "Step 0737: 678,863 Ft/m² +6,030,258 Ft, error: 1398.7707606359513\n",
      "Step 0738: 678,750 Ft/m² +6,039,194 Ft, error: 1398.3561201920622\n",
      "Step 0739: 678,637 Ft/m² +6,048,124 Ft, error: 1397.9419497968615\n",
      "Step 0740: 678,524 Ft/m² +6,057,049 Ft, error: 1397.5282489174879\n",
      "Step 0741: 678,411 Ft/m² +6,065,970 Ft, error: 1397.115017021683\n",
      "Step 0742: 678,299 Ft/m² +6,074,885 Ft, error: 1396.7022535777935\n",
      "Step 0743: 678,186 Ft/m² +6,083,795 Ft, error: 1396.28995805477\n",
      "Step 0744: 678,074 Ft/m² +6,092,700 Ft, error: 1395.8781299221619\n",
      "Step 0745: 677,961 Ft/m² +6,101,600 Ft, error: 1395.46676865012\n",
      "Step 0746: 677,849 Ft/m² +6,110,495 Ft, error: 1395.0558737094004\n",
      "Step 0747: 677,736 Ft/m² +6,119,385 Ft, error: 1394.645444571353\n",
      "Step 0748: 677,624 Ft/m² +6,128,270 Ft, error: 1394.2354807079307\n",
      "Step 0749: 677,512 Ft/m² +6,137,150 Ft, error: 1393.8259815916865\n",
      "Step 0750: 677,400 Ft/m² +6,146,025 Ft, error: 1393.4169466957665\n",
      "Step 0751: 677,288 Ft/m² +6,154,895 Ft, error: 1393.008375493918\n",
      "Step 0752: 677,175 Ft/m² +6,163,760 Ft, error: 1392.6002674604815\n",
      "Step 0753: 677,063 Ft/m² +6,172,620 Ft, error: 1392.1926220703979\n",
      "Step 0754: 676,952 Ft/m² +6,181,475 Ft, error: 1391.7854387991977\n",
      "Step 0755: 676,840 Ft/m² +6,190,324 Ft, error: 1391.3787171230144\n",
      "Step 0756: 676,728 Ft/m² +6,199,169 Ft, error: 1390.9724565185645\n",
      "Step 0757: 676,616 Ft/m² +6,208,009 Ft, error: 1390.5666564631679\n",
      "Step 0758: 676,505 Ft/m² +6,216,844 Ft, error: 1390.161316434729\n",
      "Step 0759: 676,393 Ft/m² +6,225,673 Ft, error: 1389.7564359117496\n",
      "Step 0760: 676,281 Ft/m² +6,234,498 Ft, error: 1389.352014373319\n",
      "Step 0761: 676,170 Ft/m² +6,243,318 Ft, error: 1388.9480512991202\n",
      "Step 0762: 676,059 Ft/m² +6,252,133 Ft, error: 1388.5445461694228\n",
      "Step 0763: 675,947 Ft/m² +6,260,942 Ft, error: 1388.1414984650885\n",
      "Step 0764: 675,836 Ft/m² +6,269,747 Ft, error: 1387.7389076675663\n",
      "Step 0765: 675,725 Ft/m² +6,278,547 Ft, error: 1387.336773258893\n",
      "Step 0766: 675,614 Ft/m² +6,287,342 Ft, error: 1386.935094721692\n",
      "Step 0767: 675,502 Ft/m² +6,296,131 Ft, error: 1386.533871539172\n",
      "Step 0768: 675,391 Ft/m² +6,304,916 Ft, error: 1386.133103195133\n",
      "Step 0769: 675,281 Ft/m² +6,313,696 Ft, error: 1385.7327891739556\n",
      "Step 0770: 675,170 Ft/m² +6,322,471 Ft, error: 1385.3329289606045\n",
      "Step 0771: 675,059 Ft/m² +6,331,241 Ft, error: 1384.9335220406294\n",
      "Step 0772: 674,948 Ft/m² +6,340,006 Ft, error: 1384.5345679001662\n",
      "Step 0773: 674,837 Ft/m² +6,348,766 Ft, error: 1384.136066025928\n",
      "Step 0774: 674,727 Ft/m² +6,357,521 Ft, error: 1383.7380159052132\n",
      "Step 0775: 674,616 Ft/m² +6,366,271 Ft, error: 1383.3404170258998\n",
      "Step 0776: 674,506 Ft/m² +6,375,016 Ft, error: 1382.9432688764482\n",
      "Step 0777: 674,395 Ft/m² +6,383,756 Ft, error: 1382.5465709458979\n",
      "Step 0778: 674,285 Ft/m² +6,392,491 Ft, error: 1382.1503227238666\n",
      "Step 0779: 674,174 Ft/m² +6,401,221 Ft, error: 1381.7545237005515\n",
      "Step 0780: 674,064 Ft/m² +6,409,947 Ft, error: 1381.359173366727\n",
      "Step 0781: 673,954 Ft/m² +6,418,667 Ft, error: 1380.964271213745\n",
      "Step 0782: 673,844 Ft/m² +6,427,382 Ft, error: 1380.5698167335365\n",
      "Step 0783: 673,734 Ft/m² +6,436,093 Ft, error: 1380.1758094186048\n",
      "Step 0784: 673,624 Ft/m² +6,444,798 Ft, error: 1379.78224876203\n",
      "Step 0785: 673,514 Ft/m² +6,453,499 Ft, error: 1379.3891342574673\n",
      "Step 0786: 673,404 Ft/m² +6,462,194 Ft, error: 1378.996465399145\n",
      "Step 0787: 673,294 Ft/m² +6,470,885 Ft, error: 1378.6042416818664\n",
      "Step 0788: 673,184 Ft/m² +6,479,571 Ft, error: 1378.2124626010066\n",
      "Step 0789: 673,074 Ft/m² +6,488,252 Ft, error: 1377.8211276525108\n",
      "Step 0790: 672,965 Ft/m² +6,496,928 Ft, error: 1377.4302363328977\n",
      "Step 0791: 672,855 Ft/m² +6,505,599 Ft, error: 1377.0397881392582\n",
      "Step 0792: 672,746 Ft/m² +6,514,265 Ft, error: 1376.6497825692493\n",
      "Step 0793: 672,636 Ft/m² +6,522,926 Ft, error: 1376.2602191211006\n",
      "Step 0794: 672,527 Ft/m² +6,531,582 Ft, error: 1375.87109729361\n",
      "Step 0795: 672,417 Ft/m² +6,540,234 Ft, error: 1375.4824165861437\n",
      "Step 0796: 672,308 Ft/m² +6,548,880 Ft, error: 1375.0941764986335\n",
      "Step 0797: 672,199 Ft/m² +6,557,522 Ft, error: 1374.7063765315802\n",
      "Step 0798: 672,090 Ft/m² +6,566,158 Ft, error: 1374.3190161860514\n",
      "Step 0799: 671,981 Ft/m² +6,574,790 Ft, error: 1373.9320949636776\n",
      "Step 0800: 671,872 Ft/m² +6,583,417 Ft, error: 1373.5456123666543\n",
      "Step 0801: 671,763 Ft/m² +6,592,039 Ft, error: 1373.1595678977465\n",
      "Step 0802: 671,654 Ft/m² +6,600,656 Ft, error: 1372.773961060277\n",
      "Step 0803: 671,545 Ft/m² +6,609,268 Ft, error: 1372.388791358132\n",
      "Step 0804: 671,436 Ft/m² +6,617,876 Ft, error: 1372.0040582957656\n",
      "Step 0805: 671,327 Ft/m² +6,626,478 Ft, error: 1371.619761378188\n",
      "Step 0806: 671,219 Ft/m² +6,635,076 Ft, error: 1371.2359001109735\n",
      "Step 0807: 671,110 Ft/m² +6,643,668 Ft, error: 1370.8524740002563\n",
      "Step 0808: 671,002 Ft/m² +6,652,256 Ft, error: 1370.469482552728\n",
      "Step 0809: 670,893 Ft/m² +6,660,839 Ft, error: 1370.0869252756413\n",
      "Step 0810: 670,785 Ft/m² +6,669,417 Ft, error: 1369.7048016768113\n",
      "Step 0811: 670,676 Ft/m² +6,677,991 Ft, error: 1369.3231112646042\n",
      "Step 0812: 670,568 Ft/m² +6,686,559 Ft, error: 1368.9418535479485\n",
      "Step 0813: 670,460 Ft/m² +6,695,123 Ft, error: 1368.5610280363244\n",
      "Step 0814: 670,352 Ft/m² +6,703,681 Ft, error: 1368.180634239777\n",
      "Step 0815: 670,244 Ft/m² +6,712,235 Ft, error: 1367.8006716688972\n",
      "Step 0816: 670,136 Ft/m² +6,720,784 Ft, error: 1367.4211398348361\n",
      "Step 0817: 670,028 Ft/m² +6,729,328 Ft, error: 1367.0420382492982\n",
      "Step 0818: 669,920 Ft/m² +6,737,867 Ft, error: 1366.6633664245405\n",
      "Step 0819: 669,812 Ft/m² +6,746,402 Ft, error: 1366.2851238733722\n",
      "Step 0820: 669,704 Ft/m² +6,754,932 Ft, error: 1365.9073101091574\n",
      "Step 0821: 669,596 Ft/m² +6,763,456 Ft, error: 1365.5299246458108\n",
      "Step 0822: 669,489 Ft/m² +6,771,976 Ft, error: 1365.1529669977965\n",
      "Step 0823: 669,381 Ft/m² +6,780,491 Ft, error: 1364.7764366801327\n",
      "Step 0824: 669,273 Ft/m² +6,789,002 Ft, error: 1364.4003332083823\n",
      "Step 0825: 669,166 Ft/m² +6,797,507 Ft, error: 1364.0246560986607\n",
      "Step 0826: 669,059 Ft/m² +6,806,008 Ft, error: 1363.649404867633\n",
      "Step 0827: 668,951 Ft/m² +6,814,504 Ft, error: 1363.2745790325093\n",
      "Step 0828: 668,844 Ft/m² +6,822,995 Ft, error: 1362.9001781110476\n",
      "Step 0829: 668,737 Ft/m² +6,831,481 Ft, error: 1362.5262016215538\n",
      "Step 0830: 668,629 Ft/m² +6,839,962 Ft, error: 1362.15264908288\n",
      "Step 0831: 668,522 Ft/m² +6,848,439 Ft, error: 1361.7795200144224\n",
      "Step 0832: 668,415 Ft/m² +6,856,911 Ft, error: 1361.4068139361218\n",
      "Step 0833: 668,308 Ft/m² +6,865,378 Ft, error: 1361.0345303684655\n",
      "Step 0834: 668,201 Ft/m² +6,873,840 Ft, error: 1360.6626688324818\n",
      "Step 0835: 668,094 Ft/m² +6,882,297 Ft, error: 1360.2912288497437\n",
      "Step 0836: 667,988 Ft/m² +6,890,750 Ft, error: 1359.9202099423646\n",
      "Step 0837: 667,881 Ft/m² +6,899,197 Ft, error: 1359.5496116330037\n",
      "Step 0838: 667,774 Ft/m² +6,907,640 Ft, error: 1359.1794334448562\n",
      "Step 0839: 667,667 Ft/m² +6,916,079 Ft, error: 1358.8096749016606\n",
      "Step 0840: 667,561 Ft/m² +6,924,512 Ft, error: 1358.4403355276963\n",
      "Step 0841: 667,454 Ft/m² +6,932,941 Ft, error: 1358.0714148477805\n",
      "Step 0842: 667,348 Ft/m² +6,941,365 Ft, error: 1357.702912387267\n",
      "Step 0843: 667,241 Ft/m² +6,949,784 Ft, error: 1357.3348276720515\n",
      "Step 0844: 667,135 Ft/m² +6,958,198 Ft, error: 1356.9671602285662\n",
      "Step 0845: 667,029 Ft/m² +6,966,608 Ft, error: 1356.5999095837785\n",
      "Step 0846: 666,923 Ft/m² +6,975,012 Ft, error: 1356.2330752651928\n",
      "Step 0847: 666,816 Ft/m² +6,983,412 Ft, error: 1355.8666568008507\n",
      "Step 0848: 666,710 Ft/m² +6,991,808 Ft, error: 1355.500653719326\n",
      "Step 0849: 666,604 Ft/m² +7,000,198 Ft, error: 1355.1350655497295\n",
      "Step 0850: 666,498 Ft/m² +7,008,584 Ft, error: 1354.7698918217043\n",
      "Step 0851: 666,392 Ft/m² +7,016,965 Ft, error: 1354.4051320654266\n",
      "Step 0852: 666,287 Ft/m² +7,025,341 Ft, error: 1354.040785811607\n",
      "Step 0853: 666,181 Ft/m² +7,033,713 Ft, error: 1353.6768525914863\n",
      "Step 0854: 666,075 Ft/m² +7,042,079 Ft, error: 1353.313331936838\n",
      "Step 0855: 665,969 Ft/m² +7,050,441 Ft, error: 1352.9502233799642\n",
      "Step 0856: 665,864 Ft/m² +7,058,799 Ft, error: 1352.5875264536987\n",
      "Step 0857: 665,758 Ft/m² +7,067,151 Ft, error: 1352.225240691407\n",
      "Step 0858: 665,653 Ft/m² +7,075,499 Ft, error: 1351.8633656269785\n",
      "Step 0859: 665,547 Ft/m² +7,083,842 Ft, error: 1351.5019007948365\n",
      "Step 0860: 665,442 Ft/m² +7,092,180 Ft, error: 1351.140845729929\n",
      "Step 0861: 665,337 Ft/m² +7,100,514 Ft, error: 1350.780199967729\n",
      "Step 0862: 665,231 Ft/m² +7,108,843 Ft, error: 1350.4199630442426\n",
      "Step 0863: 665,126 Ft/m² +7,117,167 Ft, error: 1350.060134495997\n",
      "Step 0864: 665,021 Ft/m² +7,125,486 Ft, error: 1349.7007138600445\n",
      "Step 0865: 664,916 Ft/m² +7,133,801 Ft, error: 1349.3417006739646\n",
      "Step 0866: 664,811 Ft/m² +7,142,111 Ft, error: 1348.9830944758596\n",
      "Step 0867: 664,706 Ft/m² +7,150,416 Ft, error: 1348.6248948043572\n",
      "Step 0868: 664,601 Ft/m² +7,158,717 Ft, error: 1348.267101198606\n",
      "Step 0869: 664,496 Ft/m² +7,167,013 Ft, error: 1347.9097131982771\n",
      "Step 0870: 664,391 Ft/m² +7,175,304 Ft, error: 1347.552730343565\n",
      "Step 0871: 664,287 Ft/m² +7,183,590 Ft, error: 1347.1961521751846\n",
      "Step 0872: 664,182 Ft/m² +7,191,872 Ft, error: 1346.839978234372\n",
      "Step 0873: 664,077 Ft/m² +7,200,149 Ft, error: 1346.4842080628819\n",
      "Step 0874: 663,973 Ft/m² +7,208,422 Ft, error: 1346.1288412029896\n",
      "Step 0875: 663,868 Ft/m² +7,216,689 Ft, error: 1345.7738771974891\n",
      "Step 0876: 663,764 Ft/m² +7,224,952 Ft, error: 1345.4193155896924\n",
      "Step 0877: 663,659 Ft/m² +7,233,211 Ft, error: 1345.0651559234316\n",
      "Step 0878: 663,555 Ft/m² +7,241,464 Ft, error: 1344.7113977430515\n",
      "Step 0879: 663,451 Ft/m² +7,249,713 Ft, error: 1344.3580405934176\n",
      "Step 0880: 663,347 Ft/m² +7,257,958 Ft, error: 1344.0050840199065\n",
      "Step 0881: 663,243 Ft/m² +7,266,197 Ft, error: 1343.6525275684182\n",
      "Step 0882: 663,139 Ft/m² +7,274,432 Ft, error: 1343.3003707853582\n",
      "Step 0883: 663,035 Ft/m² +7,282,663 Ft, error: 1342.9486132176526\n",
      "Step 0884: 662,931 Ft/m² +7,290,888 Ft, error: 1342.597254412738\n",
      "Step 0885: 662,827 Ft/m² +7,299,109 Ft, error: 1342.246293918566\n",
      "Step 0886: 662,723 Ft/m² +7,307,325 Ft, error: 1341.8957312835992\n",
      "Step 0887: 662,619 Ft/m² +7,315,537 Ft, error: 1341.545566056814\n",
      "Step 0888: 662,515 Ft/m² +7,323,744 Ft, error: 1341.1957977876948\n",
      "Step 0889: 662,412 Ft/m² +7,331,946 Ft, error: 1340.846426026239\n",
      "Step 0890: 662,308 Ft/m² +7,340,144 Ft, error: 1340.4974503229535\n",
      "Step 0891: 662,205 Ft/m² +7,348,337 Ft, error: 1340.1488702288573\n",
      "Step 0892: 662,101 Ft/m² +7,356,525 Ft, error: 1339.8006852954727\n",
      "Step 0893: 661,998 Ft/m² +7,364,709 Ft, error: 1339.452895074837\n",
      "Step 0894: 661,894 Ft/m² +7,372,888 Ft, error: 1339.1054991194906\n",
      "Step 0895: 661,791 Ft/m² +7,381,063 Ft, error: 1338.7584969824813\n",
      "Step 0896: 661,688 Ft/m² +7,389,232 Ft, error: 1338.4118882173686\n",
      "Step 0897: 661,584 Ft/m² +7,397,398 Ft, error: 1338.0656723782115\n",
      "Step 0898: 661,481 Ft/m² +7,405,558 Ft, error: 1337.719849019578\n",
      "Step 0899: 661,378 Ft/m² +7,413,714 Ft, error: 1337.374417696542\n",
      "Step 0900: 661,275 Ft/m² +7,421,865 Ft, error: 1337.0293779646786\n",
      "Step 0901: 661,172 Ft/m² +7,430,012 Ft, error: 1336.6847293800688\n",
      "Step 0902: 661,069 Ft/m² +7,438,154 Ft, error: 1336.3404714992976\n",
      "Step 0903: 660,967 Ft/m² +7,446,292 Ft, error: 1335.9966038794496\n",
      "Step 0904: 660,864 Ft/m² +7,454,425 Ft, error: 1335.6531260781155\n",
      "Step 0905: 660,761 Ft/m² +7,462,553 Ft, error: 1335.3100376533855\n",
      "Step 0906: 660,658 Ft/m² +7,470,676 Ft, error: 1334.9673381638481\n",
      "Step 0907: 660,556 Ft/m² +7,478,795 Ft, error: 1334.625027168598\n",
      "Step 0908: 660,453 Ft/m² +7,486,910 Ft, error: 1334.2831042272255\n",
      "Step 0909: 660,351 Ft/m² +7,495,020 Ft, error: 1333.9415688998195\n",
      "Step 0910: 660,248 Ft/m² +7,503,125 Ft, error: 1333.600420746972\n",
      "Step 0911: 660,146 Ft/m² +7,511,225 Ft, error: 1333.2596593297687\n",
      "Step 0912: 660,044 Ft/m² +7,519,322 Ft, error: 1332.9192842097955\n",
      "Step 0913: 659,941 Ft/m² +7,527,413 Ft, error: 1332.579294949135\n",
      "Step 0914: 659,839 Ft/m² +7,535,500 Ft, error: 1332.2396911103629\n",
      "Step 0915: 659,737 Ft/m² +7,543,582 Ft, error: 1331.900472256557\n",
      "Step 0916: 659,635 Ft/m² +7,551,660 Ft, error: 1331.5616379512844\n",
      "Step 0917: 659,533 Ft/m² +7,559,733 Ft, error: 1331.2231877586107\n",
      "Step 0918: 659,431 Ft/m² +7,567,801 Ft, error: 1330.8851212430936\n",
      "Step 0919: 659,329 Ft/m² +7,575,865 Ft, error: 1330.547437969786\n",
      "Step 0920: 659,227 Ft/m² +7,583,925 Ft, error: 1330.2101375042341\n",
      "Step 0921: 659,125 Ft/m² +7,591,980 Ft, error: 1329.8732194124746\n",
      "Step 0922: 659,024 Ft/m² +7,600,030 Ft, error: 1329.5366832610373\n",
      "Step 0923: 658,922 Ft/m² +7,608,075 Ft, error: 1329.200528616943\n",
      "Step 0924: 658,820 Ft/m² +7,616,117 Ft, error: 1328.864755047704\n",
      "Step 0925: 658,719 Ft/m² +7,624,153 Ft, error: 1328.5293621213234\n",
      "Step 0926: 658,617 Ft/m² +7,632,185 Ft, error: 1328.1943494062923\n",
      "Step 0927: 658,516 Ft/m² +7,640,213 Ft, error: 1327.8597164715918\n",
      "Step 0928: 658,414 Ft/m² +7,648,236 Ft, error: 1327.5254628866924\n",
      "Step 0929: 658,313 Ft/m² +7,656,254 Ft, error: 1327.1915882215499\n",
      "Step 0930: 658,212 Ft/m² +7,664,268 Ft, error: 1326.858092046613\n",
      "Step 0931: 658,111 Ft/m² +7,672,277 Ft, error: 1326.52497393281\n",
      "Step 0932: 658,009 Ft/m² +7,680,282 Ft, error: 1326.1922334515637\n",
      "Step 0933: 657,908 Ft/m² +7,688,282 Ft, error: 1325.8598701747762\n",
      "Step 0934: 657,807 Ft/m² +7,696,277 Ft, error: 1325.5278836748387\n",
      "Step 0935: 657,706 Ft/m² +7,704,269 Ft, error: 1325.1962735246243\n",
      "Step 0936: 657,605 Ft/m² +7,712,255 Ft, error: 1324.865039297492\n",
      "Step 0937: 657,504 Ft/m² +7,720,237 Ft, error: 1324.5341805672854\n",
      "Step 0938: 657,404 Ft/m² +7,728,215 Ft, error: 1324.20369690833\n",
      "Step 0939: 657,303 Ft/m² +7,736,188 Ft, error: 1323.8735878954324\n",
      "Step 0940: 657,202 Ft/m² +7,744,156 Ft, error: 1323.543853103884\n",
      "Step 0941: 657,101 Ft/m² +7,752,120 Ft, error: 1323.2144921094553\n",
      "Step 0942: 657,001 Ft/m² +7,760,080 Ft, error: 1322.8855044884008\n",
      "Step 0943: 656,900 Ft/m² +7,768,035 Ft, error: 1322.5568898174527\n",
      "Step 0944: 656,800 Ft/m² +7,775,985 Ft, error: 1322.2286476738213\n",
      "Step 0945: 656,699 Ft/m² +7,783,931 Ft, error: 1321.9007776352016\n",
      "Step 0946: 656,599 Ft/m² +7,791,872 Ft, error: 1321.5732792797642\n",
      "Step 0947: 656,499 Ft/m² +7,799,809 Ft, error: 1321.246152186156\n",
      "Step 0948: 656,399 Ft/m² +7,807,742 Ft, error: 1320.9193959335057\n",
      "Step 0949: 656,298 Ft/m² +7,815,670 Ft, error: 1320.5930101014146\n",
      "Step 0950: 656,198 Ft/m² +7,823,593 Ft, error: 1320.2669942699658\n",
      "Step 0951: 656,098 Ft/m² +7,831,512 Ft, error: 1319.9413480197131\n",
      "Step 0952: 655,998 Ft/m² +7,839,426 Ft, error: 1319.6160709316907\n",
      "Step 0953: 655,898 Ft/m² +7,847,336 Ft, error: 1319.2911625874037\n",
      "Step 0954: 655,798 Ft/m² +7,855,242 Ft, error: 1318.966622568833\n",
      "Step 0955: 655,698 Ft/m² +7,863,143 Ft, error: 1318.642450458435\n",
      "Step 0956: 655,599 Ft/m² +7,871,039 Ft, error: 1318.3186458391376\n",
      "Step 0957: 655,499 Ft/m² +7,878,931 Ft, error: 1317.9952082943416\n",
      "Step 0958: 655,399 Ft/m² +7,886,819 Ft, error: 1317.672137407921\n",
      "Step 0959: 655,300 Ft/m² +7,894,702 Ft, error: 1317.3494327642215\n",
      "Step 0960: 655,200 Ft/m² +7,902,581 Ft, error: 1317.0270939480565\n",
      "Step 0961: 655,100 Ft/m² +7,910,455 Ft, error: 1316.705120544718\n",
      "Step 0962: 655,001 Ft/m² +7,918,325 Ft, error: 1316.383512139959\n",
      "Step 0963: 654,902 Ft/m² +7,926,190 Ft, error: 1316.062268320009\n",
      "Step 0964: 654,802 Ft/m² +7,934,051 Ft, error: 1315.7413886715615\n",
      "Step 0965: 654,703 Ft/m² +7,941,907 Ft, error: 1315.420872781783\n",
      "Step 0966: 654,604 Ft/m² +7,949,759 Ft, error: 1315.1007202383055\n",
      "Step 0967: 654,505 Ft/m² +7,957,606 Ft, error: 1314.780930629227\n",
      "Step 0968: 654,405 Ft/m² +7,965,449 Ft, error: 1314.4615035431164\n",
      "Step 0969: 654,306 Ft/m² +7,973,288 Ft, error: 1314.142438569007\n",
      "Step 0970: 654,207 Ft/m² +7,981,122 Ft, error: 1313.8237352963968\n",
      "Step 0971: 654,108 Ft/m² +7,988,951 Ft, error: 1313.5053933152506\n",
      "Step 0972: 654,009 Ft/m² +7,996,776 Ft, error: 1313.1874122159982\n",
      "Step 0973: 653,911 Ft/m² +8,004,597 Ft, error: 1312.8697915895327\n",
      "Step 0974: 653,812 Ft/m² +8,012,413 Ft, error: 1312.5525310272105\n",
      "Step 0975: 653,713 Ft/m² +8,020,225 Ft, error: 1312.2356301208529\n",
      "Step 0976: 653,614 Ft/m² +8,028,033 Ft, error: 1311.919088462745\n",
      "Step 0977: 653,516 Ft/m² +8,035,836 Ft, error: 1311.6029056456318\n",
      "Step 0978: 653,417 Ft/m² +8,043,634 Ft, error: 1311.2870812627189\n",
      "Step 0979: 653,319 Ft/m² +8,051,429 Ft, error: 1310.971614907675\n",
      "Step 0980: 653,220 Ft/m² +8,059,218 Ft, error: 1310.65650617463\n",
      "Step 0981: 653,122 Ft/m² +8,067,004 Ft, error: 1310.3417546581727\n",
      "Step 0982: 653,024 Ft/m² +8,074,785 Ft, error: 1310.027359953352\n",
      "Step 0983: 652,925 Ft/m² +8,082,561 Ft, error: 1309.7133216556742\n",
      "Step 0984: 652,827 Ft/m² +8,090,333 Ft, error: 1309.3996393611085\n",
      "Step 0985: 652,729 Ft/m² +8,098,101 Ft, error: 1309.0863126660768\n",
      "Step 0986: 652,631 Ft/m² +8,105,864 Ft, error: 1308.773341167462\n",
      "Step 0987: 652,533 Ft/m² +8,113,623 Ft, error: 1308.4607244626009\n",
      "Step 0988: 652,435 Ft/m² +8,121,378 Ft, error: 1308.1484621492923\n",
      "Step 0989: 652,337 Ft/m² +8,129,128 Ft, error: 1307.8365538257851\n",
      "Step 0990: 652,239 Ft/m² +8,136,873 Ft, error: 1307.5249990907864\n",
      "Step 0991: 652,141 Ft/m² +8,144,615 Ft, error: 1307.213797543458\n",
      "Step 0992: 652,043 Ft/m² +8,152,352 Ft, error: 1306.9029487834164\n",
      "Step 0993: 651,946 Ft/m² +8,160,084 Ft, error: 1306.5924524107304\n",
      "Step 0994: 651,848 Ft/m² +8,167,812 Ft, error: 1306.2823080259227\n",
      "Step 0995: 651,750 Ft/m² +8,175,536 Ft, error: 1305.972515229973\n",
      "Step 0996: 651,653 Ft/m² +8,183,256 Ft, error: 1305.663073624306\n",
      "Step 0997: 651,555 Ft/m² +8,190,971 Ft, error: 1305.353982810803\n",
      "Step 0998: 651,458 Ft/m² +8,198,681 Ft, error: 1305.045242391796\n",
      "Step 0999: 651,360 Ft/m² +8,206,387 Ft, error: 1304.7368519700678\n",
      "Step 1000: 651,263 Ft/m² +8,214,089 Ft, error: 1304.4288111488504\n",
      "Step 1001: 651,166 Ft/m² +8,221,787 Ft, error: 1304.121119531827\n",
      "Step 1002: 651,069 Ft/m² +8,229,480 Ft, error: 1303.8137767231285\n",
      "Step 1003: 650,971 Ft/m² +8,237,169 Ft, error: 1303.5067823273346\n",
      "Step 1004: 650,874 Ft/m² +8,244,853 Ft, error: 1303.2001359494773\n",
      "Step 1005: 650,777 Ft/m² +8,252,533 Ft, error: 1302.89383719503\n",
      "Step 1006: 650,680 Ft/m² +8,260,209 Ft, error: 1302.5878856699192\n",
      "Step 1007: 650,583 Ft/m² +8,267,881 Ft, error: 1302.2822809805123\n",
      "Step 1008: 650,486 Ft/m² +8,275,548 Ft, error: 1301.9770227336296\n",
      "Step 1009: 650,390 Ft/m² +8,283,210 Ft, error: 1301.672110536531\n",
      "Step 1010: 650,293 Ft/m² +8,290,869 Ft, error: 1301.3675439969256\n",
      "Step 1011: 650,196 Ft/m² +8,298,523 Ft, error: 1301.0633227229637\n",
      "Step 1012: 650,099 Ft/m² +8,306,172 Ft, error: 1300.759446323245\n",
      "Step 1013: 650,003 Ft/m² +8,313,818 Ft, error: 1300.4559144068073\n",
      "Step 1014: 649,906 Ft/m² +8,321,459 Ft, error: 1300.1527265831376\n",
      "Step 1015: 649,810 Ft/m² +8,329,095 Ft, error: 1299.8498824621574\n",
      "Step 1016: 649,713 Ft/m² +8,336,728 Ft, error: 1299.5473816542385\n",
      "Step 1017: 649,617 Ft/m² +8,344,356 Ft, error: 1299.2452237701896\n",
      "Step 1018: 649,520 Ft/m² +8,351,979 Ft, error: 1298.943408421262\n",
      "Step 1019: 649,424 Ft/m² +8,359,599 Ft, error: 1298.6419352191492\n",
      "Step 1020: 649,328 Ft/m² +8,367,214 Ft, error: 1298.3408037759827\n",
      "Step 1021: 649,232 Ft/m² +8,374,824 Ft, error: 1298.0400137043341\n",
      "Step 1022: 649,136 Ft/m² +8,382,431 Ft, error: 1297.7395646172145\n",
      "Step 1023: 649,040 Ft/m² +8,390,033 Ft, error: 1297.4394561280735\n",
      "Step 1024: 648,943 Ft/m² +8,397,631 Ft, error: 1297.1396878508\n",
      "Step 1025: 648,848 Ft/m² +8,405,224 Ft, error: 1296.8402593997191\n",
      "Step 1026: 648,752 Ft/m² +8,412,813 Ft, error: 1296.5411703895943\n",
      "Step 1027: 648,656 Ft/m² +8,420,398 Ft, error: 1296.2424204356253\n",
      "Step 1028: 648,560 Ft/m² +8,427,979 Ft, error: 1295.9440091534477\n",
      "Step 1029: 648,464 Ft/m² +8,435,555 Ft, error: 1295.6459361591321\n",
      "Step 1030: 648,368 Ft/m² +8,443,127 Ft, error: 1295.3482010691876\n",
      "Step 1031: 648,273 Ft/m² +8,450,695 Ft, error: 1295.0508035005548\n",
      "Step 1032: 648,177 Ft/m² +8,458,258 Ft, error: 1294.7537430706088\n",
      "Step 1033: 648,082 Ft/m² +8,465,817 Ft, error: 1294.4570193971604\n",
      "Step 1034: 647,986 Ft/m² +8,473,372 Ft, error: 1294.1606320984515\n",
      "Step 1035: 647,891 Ft/m² +8,480,922 Ft, error: 1293.864580793157\n",
      "Step 1036: 647,795 Ft/m² +8,488,469 Ft, error: 1293.5688651003866\n",
      "Step 1037: 647,700 Ft/m² +8,496,011 Ft, error: 1293.2734846396786\n",
      "Step 1038: 647,605 Ft/m² +8,503,548 Ft, error: 1292.978439031006\n",
      "Step 1039: 647,510 Ft/m² +8,511,082 Ft, error: 1292.6837278947694\n",
      "Step 1040: 647,415 Ft/m² +8,518,611 Ft, error: 1292.3893508517995\n",
      "Step 1041: 647,319 Ft/m² +8,526,136 Ft, error: 1292.0953075233606\n",
      "Step 1042: 647,224 Ft/m² +8,533,656 Ft, error: 1291.8015975311437\n",
      "Step 1043: 647,129 Ft/m² +8,541,173 Ft, error: 1291.508220497267\n",
      "Step 1044: 647,034 Ft/m² +8,548,685 Ft, error: 1291.2151760442807\n",
      "Step 1045: 646,940 Ft/m² +8,556,193 Ft, error: 1290.9224637951618\n",
      "Step 1046: 646,845 Ft/m² +8,563,696 Ft, error: 1290.630083373313\n",
      "Step 1047: 646,750 Ft/m² +8,571,196 Ft, error: 1290.3380344025657\n",
      "Step 1048: 646,655 Ft/m² +8,578,691 Ft, error: 1290.0463165071765\n",
      "Step 1049: 646,561 Ft/m² +8,586,181 Ft, error: 1289.754929311829\n",
      "Step 1050: 646,466 Ft/m² +8,593,668 Ft, error: 1289.4638724416318\n",
      "Step 1051: 646,371 Ft/m² +8,601,150 Ft, error: 1289.1731455221186\n",
      "Step 1052: 646,277 Ft/m² +8,608,628 Ft, error: 1288.8827481792478\n",
      "Step 1053: 646,182 Ft/m² +8,616,102 Ft, error: 1288.5926800394006\n",
      "Step 1054: 646,088 Ft/m² +8,623,572 Ft, error: 1288.3029407293839\n",
      "Step 1055: 645,994 Ft/m² +8,631,037 Ft, error: 1288.0135298764255\n",
      "Step 1056: 645,899 Ft/m² +8,638,498 Ft, error: 1287.7244471081776\n",
      "Step 1057: 645,805 Ft/m² +8,645,955 Ft, error: 1287.435692052712\n",
      "Step 1058: 645,711 Ft/m² +8,653,408 Ft, error: 1287.1472643385262\n",
      "Step 1059: 645,617 Ft/m² +8,660,856 Ft, error: 1286.8591635945336\n",
      "Step 1060: 645,523 Ft/m² +8,668,301 Ft, error: 1286.5713894500743\n",
      "Step 1061: 645,429 Ft/m² +8,675,741 Ft, error: 1286.283941534904\n",
      "Step 1062: 645,335 Ft/m² +8,683,176 Ft, error: 1285.9968194791986\n",
      "Step 1063: 645,241 Ft/m² +8,690,608 Ft, error: 1285.7100229135556\n",
      "Step 1064: 645,147 Ft/m² +8,698,035 Ft, error: 1285.4235514689894\n",
      "Step 1065: 645,053 Ft/m² +8,705,459 Ft, error: 1285.1374047769323\n",
      "Step 1066: 644,959 Ft/m² +8,712,878 Ft, error: 1284.8515824692363\n",
      "Step 1067: 644,866 Ft/m² +8,720,292 Ft, error: 1284.5660841781678\n",
      "Step 1068: 644,772 Ft/m² +8,727,703 Ft, error: 1284.2809095364153\n",
      "Step 1069: 644,678 Ft/m² +8,735,109 Ft, error: 1283.9960581770765\n",
      "Step 1070: 644,585 Ft/m² +8,742,511 Ft, error: 1283.711529733672\n",
      "Step 1071: 644,491 Ft/m² +8,749,909 Ft, error: 1283.4273238401336\n",
      "Step 1072: 644,398 Ft/m² +8,757,303 Ft, error: 1283.1434401308088\n",
      "Step 1073: 644,305 Ft/m² +8,764,692 Ft, error: 1282.8598782404608\n",
      "Step 1074: 644,211 Ft/m² +8,772,078 Ft, error: 1282.5766378042656\n",
      "Step 1075: 644,118 Ft/m² +8,779,459 Ft, error: 1282.2937184578122\n",
      "Step 1076: 644,025 Ft/m² +8,786,836 Ft, error: 1282.011119837107\n",
      "Step 1077: 643,932 Ft/m² +8,794,209 Ft, error: 1281.7288415785622\n",
      "Step 1078: 643,838 Ft/m² +8,801,577 Ft, error: 1281.446883319008\n",
      "Step 1079: 643,745 Ft/m² +8,808,942 Ft, error: 1281.165244695683\n",
      "Step 1080: 643,652 Ft/m² +8,816,302 Ft, error: 1280.883925346238\n",
      "Step 1081: 643,559 Ft/m² +8,823,658 Ft, error: 1280.602924908737\n",
      "Step 1082: 643,466 Ft/m² +8,831,010 Ft, error: 1280.3222430216479\n",
      "Step 1083: 643,374 Ft/m² +8,838,358 Ft, error: 1280.0418793238555\n",
      "Step 1084: 643,281 Ft/m² +8,845,702 Ft, error: 1279.76183345465\n",
      "Step 1085: 643,188 Ft/m² +8,853,041 Ft, error: 1279.4821050537328\n",
      "Step 1086: 643,095 Ft/m² +8,860,376 Ft, error: 1279.20269376121\n",
      "Step 1087: 643,003 Ft/m² +8,867,707 Ft, error: 1278.9235992176004\n",
      "Step 1088: 642,910 Ft/m² +8,875,034 Ft, error: 1278.6448210638273\n",
      "Step 1089: 642,817 Ft/m² +8,882,357 Ft, error: 1278.3663589412215\n",
      "Step 1090: 642,725 Ft/m² +8,889,676 Ft, error: 1278.0882124915206\n",
      "Step 1091: 642,633 Ft/m² +8,896,990 Ft, error: 1277.8103813568696\n",
      "Step 1092: 642,540 Ft/m² +8,904,301 Ft, error: 1277.5328651798166\n",
      "Step 1093: 642,448 Ft/m² +8,911,607 Ft, error: 1277.2556636033164\n",
      "Step 1094: 642,356 Ft/m² +8,918,909 Ft, error: 1276.9787762707301\n",
      "Step 1095: 642,263 Ft/m² +8,926,207 Ft, error: 1276.7022028258195\n",
      "Step 1096: 642,171 Ft/m² +8,933,501 Ft, error: 1276.4259429127544\n",
      "Step 1097: 642,079 Ft/m² +8,940,790 Ft, error: 1276.1499961761035\n",
      "Step 1098: 641,987 Ft/m² +8,948,076 Ft, error: 1275.874362260842\n",
      "Step 1099: 641,895 Ft/m² +8,955,357 Ft, error: 1275.5990408123464\n",
      "Step 1100: 641,803 Ft/m² +8,962,634 Ft, error: 1275.324031476395\n",
      "Step 1101: 641,711 Ft/m² +8,969,907 Ft, error: 1275.0493338991673\n",
      "Step 1102: 641,619 Ft/m² +8,977,177 Ft, error: 1274.7749477272448\n",
      "Step 1103: 641,527 Ft/m² +8,984,441 Ft, error: 1274.5008726076094\n",
      "Step 1104: 641,436 Ft/m² +8,991,702 Ft, error: 1274.227108187643\n",
      "Step 1105: 641,344 Ft/m² +8,998,959 Ft, error: 1273.953654115127\n",
      "Step 1106: 641,252 Ft/m² +9,006,211 Ft, error: 1273.680510038242\n",
      "Step 1107: 641,161 Ft/m² +9,013,460 Ft, error: 1273.4076756055679\n",
      "Step 1108: 641,069 Ft/m² +9,020,704 Ft, error: 1273.1351504660834\n",
      "Step 1109: 640,978 Ft/m² +9,027,944 Ft, error: 1272.8629342691643\n",
      "Step 1110: 640,886 Ft/m² +9,035,180 Ft, error: 1272.5910266645844\n",
      "Step 1111: 640,795 Ft/m² +9,042,412 Ft, error: 1272.3194273025142\n",
      "Step 1112: 640,703 Ft/m² +9,049,640 Ft, error: 1272.0481358335205\n",
      "Step 1113: 640,612 Ft/m² +9,056,864 Ft, error: 1271.7771519085663\n",
      "Step 1114: 640,521 Ft/m² +9,064,084 Ft, error: 1271.506475179012\n",
      "Step 1115: 640,430 Ft/m² +9,071,299 Ft, error: 1271.2361052966107\n",
      "Step 1116: 640,338 Ft/m² +9,078,511 Ft, error: 1270.966041913511\n",
      "Step 1117: 640,247 Ft/m² +9,085,718 Ft, error: 1270.696284682257\n",
      "Step 1118: 640,156 Ft/m² +9,092,922 Ft, error: 1270.4268332557865\n",
      "Step 1119: 640,065 Ft/m² +9,100,121 Ft, error: 1270.1576872874284\n",
      "Step 1120: 639,974 Ft/m² +9,107,316 Ft, error: 1269.8888464309086\n",
      "Step 1121: 639,884 Ft/m² +9,114,507 Ft, error: 1269.6203103403395\n",
      "Step 1122: 639,793 Ft/m² +9,121,694 Ft, error: 1269.352078670234\n",
      "Step 1123: 639,702 Ft/m² +9,128,877 Ft, error: 1269.0841510754885\n",
      "Step 1124: 639,611 Ft/m² +9,136,056 Ft, error: 1268.816527211397\n",
      "Step 1125: 639,521 Ft/m² +9,143,231 Ft, error: 1268.5492067336402\n",
      "Step 1126: 639,430 Ft/m² +9,150,402 Ft, error: 1268.282189298289\n",
      "Step 1127: 639,339 Ft/m² +9,157,568 Ft, error: 1268.0154745618074\n",
      "Step 1128: 639,249 Ft/m² +9,164,731 Ft, error: 1267.7490621810462\n",
      "Step 1129: 639,158 Ft/m² +9,171,889 Ft, error: 1267.4829518132465\n",
      "Step 1130: 639,068 Ft/m² +9,179,044 Ft, error: 1267.2171431160364\n",
      "Step 1131: 638,978 Ft/m² +9,186,194 Ft, error: 1266.9516357474345\n",
      "Step 1132: 638,887 Ft/m² +9,193,341 Ft, error: 1266.6864293658443\n",
      "Step 1133: 638,797 Ft/m² +9,200,483 Ft, error: 1266.4215236300606\n",
      "Step 1134: 638,707 Ft/m² +9,207,621 Ft, error: 1266.1569181992588\n",
      "Step 1135: 638,617 Ft/m² +9,214,756 Ft, error: 1265.892612733008\n",
      "Step 1136: 638,527 Ft/m² +9,221,886 Ft, error: 1265.628606891256\n",
      "Step 1137: 638,436 Ft/m² +9,229,012 Ft, error: 1265.364900334342\n",
      "Step 1138: 638,346 Ft/m² +9,236,134 Ft, error: 1265.1014927229876\n",
      "Step 1139: 638,256 Ft/m² +9,243,252 Ft, error: 1264.8383837182996\n",
      "Step 1140: 638,167 Ft/m² +9,250,366 Ft, error: 1264.5755729817658\n",
      "Step 1141: 638,077 Ft/m² +9,257,476 Ft, error: 1264.3130601752641\n",
      "Step 1142: 637,987 Ft/m² +9,264,582 Ft, error: 1264.0508449610495\n",
      "Step 1143: 637,897 Ft/m² +9,271,684 Ft, error: 1263.7889270017658\n",
      "Step 1144: 637,807 Ft/m² +9,278,782 Ft, error: 1263.5273059604328\n",
      "Step 1145: 637,718 Ft/m² +9,285,876 Ft, error: 1263.2659815004565\n",
      "Step 1146: 637,628 Ft/m² +9,292,966 Ft, error: 1263.0049532856242\n",
      "Step 1147: 637,539 Ft/m² +9,300,052 Ft, error: 1262.7442209801031\n",
      "Step 1148: 637,449 Ft/m² +9,307,133 Ft, error: 1262.4837842484415\n",
      "Step 1149: 637,360 Ft/m² +9,314,211 Ft, error: 1262.2236427555692\n",
      "Step 1150: 637,270 Ft/m² +9,321,285 Ft, error: 1261.963796166793\n",
      "Step 1151: 637,181 Ft/m² +9,328,355 Ft, error: 1261.7042441478018\n",
      "Step 1152: 637,092 Ft/m² +9,335,421 Ft, error: 1261.4449863646637\n",
      "Step 1153: 637,002 Ft/m² +9,342,482 Ft, error: 1261.186022483822\n",
      "Step 1154: 636,913 Ft/m² +9,349,540 Ft, error: 1260.9273521721018\n",
      "Step 1155: 636,824 Ft/m² +9,356,594 Ft, error: 1260.6689750967043\n",
      "Step 1156: 636,735 Ft/m² +9,363,644 Ft, error: 1260.4108909252082\n",
      "Step 1157: 636,646 Ft/m² +9,370,689 Ft, error: 1260.153099325568\n",
      "Step 1158: 636,557 Ft/m² +9,377,731 Ft, error: 1259.8955999661168\n",
      "Step 1159: 636,468 Ft/m² +9,384,769 Ft, error: 1259.6383925155615\n",
      "Step 1160: 636,379 Ft/m² +9,391,803 Ft, error: 1259.3814766429855\n",
      "Step 1161: 636,290 Ft/m² +9,398,833 Ft, error: 1259.1248520178494\n",
      "Step 1162: 636,201 Ft/m² +9,405,858 Ft, error: 1258.868518309985\n",
      "Step 1163: 636,113 Ft/m² +9,412,880 Ft, error: 1258.6124751895984\n",
      "Step 1164: 636,024 Ft/m² +9,419,898 Ft, error: 1258.3567223272728\n",
      "Step 1165: 635,935 Ft/m² +9,426,912 Ft, error: 1258.1012593939636\n",
      "Step 1166: 635,847 Ft/m² +9,433,922 Ft, error: 1257.8460860609966\n",
      "Step 1167: 635,758 Ft/m² +9,440,928 Ft, error: 1257.591202000074\n",
      "Step 1168: 635,670 Ft/m² +9,447,930 Ft, error: 1257.3366068832688\n",
      "Step 1169: 635,581 Ft/m² +9,454,928 Ft, error: 1257.0823003830235\n",
      "Step 1170: 635,493 Ft/m² +9,461,922 Ft, error: 1256.8282821721555\n",
      "Step 1171: 635,405 Ft/m² +9,468,912 Ft, error: 1256.5745519238512\n",
      "Step 1172: 635,316 Ft/m² +9,475,898 Ft, error: 1256.3211093116659\n",
      "Step 1173: 635,228 Ft/m² +9,482,880 Ft, error: 1256.0679540095284\n",
      "Step 1174: 635,140 Ft/m² +9,489,858 Ft, error: 1255.815085691736\n",
      "Step 1175: 635,052 Ft/m² +9,496,832 Ft, error: 1255.5625040329535\n",
      "Step 1176: 634,964 Ft/m² +9,503,803 Ft, error: 1255.3102087082166\n",
      "Step 1177: 634,876 Ft/m² +9,510,769 Ft, error: 1255.0581993929284\n",
      "Step 1178: 634,788 Ft/m² +9,517,731 Ft, error: 1254.8064757628601\n",
      "Step 1179: 634,700 Ft/m² +9,524,690 Ft, error: 1254.55503749415\n",
      "Step 1180: 634,612 Ft/m² +9,531,644 Ft, error: 1254.3038842633036\n",
      "Step 1181: 634,524 Ft/m² +9,538,595 Ft, error: 1254.053015747197\n",
      "Step 1182: 634,436 Ft/m² +9,545,541 Ft, error: 1253.8024316230637\n",
      "Step 1183: 634,348 Ft/m² +9,552,484 Ft, error: 1253.552131568513\n",
      "Step 1184: 634,261 Ft/m² +9,559,423 Ft, error: 1253.3021152615129\n",
      "Step 1185: 634,173 Ft/m² +9,566,357 Ft, error: 1253.052382380399\n",
      "Step 1186: 634,085 Ft/m² +9,573,288 Ft, error: 1252.8029326038723\n",
      "Step 1187: 633,998 Ft/m² +9,580,215 Ft, error: 1252.5537656109955\n",
      "Step 1188: 633,910 Ft/m² +9,587,138 Ft, error: 1252.3048810811995\n",
      "Step 1189: 633,823 Ft/m² +9,594,057 Ft, error: 1252.056278694272\n",
      "Step 1190: 633,736 Ft/m² +9,600,972 Ft, error: 1251.8079581303703\n",
      "Step 1191: 633,648 Ft/m² +9,607,883 Ft, error: 1251.5599190700102\n",
      "Step 1192: 633,561 Ft/m² +9,614,791 Ft, error: 1251.3121611940724\n",
      "Step 1193: 633,474 Ft/m² +9,621,694 Ft, error: 1251.0646841837963\n",
      "Step 1194: 633,387 Ft/m² +9,628,594 Ft, error: 1250.8174877207855\n",
      "Step 1195: 633,299 Ft/m² +9,635,489 Ft, error: 1250.5705714870023\n",
      "Step 1196: 633,212 Ft/m² +9,642,381 Ft, error: 1250.3239351647699\n",
      "Step 1197: 633,125 Ft/m² +9,649,268 Ft, error: 1250.0775784367743\n",
      "Step 1198: 633,038 Ft/m² +9,656,152 Ft, error: 1249.8315009860587\n",
      "Step 1199: 632,951 Ft/m² +9,663,032 Ft, error: 1249.5857024960242\n",
      "Step 1200: 632,864 Ft/m² +9,669,908 Ft, error: 1249.340182650435\n",
      "Step 1201: 632,778 Ft/m² +9,676,780 Ft, error: 1249.0949411334109\n",
      "Step 1202: 632,691 Ft/m² +9,683,649 Ft, error: 1248.8499776294293\n",
      "Step 1203: 632,604 Ft/m² +9,690,513 Ft, error: 1248.605291823328\n",
      "Step 1204: 632,517 Ft/m² +9,697,373 Ft, error: 1248.3608834002991\n",
      "Step 1205: 632,431 Ft/m² +9,704,230 Ft, error: 1248.1167520458928\n",
      "Step 1206: 632,344 Ft/m² +9,711,083 Ft, error: 1247.8728974460187\n",
      "Step 1207: 632,257 Ft/m² +9,717,931 Ft, error: 1247.6293192869364\n",
      "Step 1208: 632,171 Ft/m² +9,724,776 Ft, error: 1247.3860172552659\n",
      "Step 1209: 632,085 Ft/m² +9,731,617 Ft, error: 1247.1429910379813\n",
      "Step 1210: 631,998 Ft/m² +9,738,454 Ft, error: 1246.900240322409\n",
      "Step 1211: 631,912 Ft/m² +9,745,288 Ft, error: 1246.6577647962345\n",
      "Step 1212: 631,825 Ft/m² +9,752,117 Ft, error: 1246.415564147495\n",
      "Step 1213: 631,739 Ft/m² +9,758,943 Ft, error: 1246.1736380645798\n",
      "Step 1214: 631,653 Ft/m² +9,765,764 Ft, error: 1245.9319862362336\n",
      "Step 1215: 631,567 Ft/m² +9,772,582 Ft, error: 1245.6906083515548\n",
      "Step 1216: 631,481 Ft/m² +9,779,396 Ft, error: 1245.4495040999902\n",
      "Step 1217: 631,395 Ft/m² +9,786,206 Ft, error: 1245.208673171341\n",
      "Step 1218: 631,309 Ft/m² +9,793,012 Ft, error: 1244.9681152557637\n",
      "Step 1219: 631,223 Ft/m² +9,799,814 Ft, error: 1244.7278300437608\n",
      "Step 1220: 631,137 Ft/m² +9,806,613 Ft, error: 1244.487817226185\n",
      "Step 1221: 631,051 Ft/m² +9,813,408 Ft, error: 1244.248076494245\n",
      "Step 1222: 630,965 Ft/m² +9,820,198 Ft, error: 1244.0086075394956\n",
      "Step 1223: 630,879 Ft/m² +9,826,985 Ft, error: 1243.7694100538424\n",
      "Step 1224: 630,794 Ft/m² +9,833,768 Ft, error: 1243.5304837295403\n",
      "Step 1225: 630,708 Ft/m² +9,840,548 Ft, error: 1243.2918282591907\n",
      "Step 1226: 630,622 Ft/m² +9,847,323 Ft, error: 1243.0534433357468\n",
      "Step 1227: 630,537 Ft/m² +9,854,094 Ft, error: 1242.8153286525094\n",
      "Step 1228: 630,451 Ft/m² +9,860,862 Ft, error: 1242.5774839031258\n",
      "Step 1229: 630,366 Ft/m² +9,867,626 Ft, error: 1242.339908781591\n",
      "Step 1230: 630,280 Ft/m² +9,874,386 Ft, error: 1242.1026029822472\n",
      "Step 1231: 630,195 Ft/m² +9,881,142 Ft, error: 1241.8655661997807\n",
      "Step 1232: 630,109 Ft/m² +9,887,895 Ft, error: 1241.6287981292278\n",
      "Step 1233: 630,024 Ft/m² +9,894,643 Ft, error: 1241.3922984659687\n",
      "Step 1234: 629,939 Ft/m² +9,901,388 Ft, error: 1241.1560669057294\n",
      "Step 1235: 629,854 Ft/m² +9,908,129 Ft, error: 1240.9201031445796\n",
      "Step 1236: 629,769 Ft/m² +9,914,866 Ft, error: 1240.6844068789342\n",
      "Step 1237: 629,684 Ft/m² +9,921,599 Ft, error: 1240.448977805552\n",
      "Step 1238: 629,598 Ft/m² +9,928,328 Ft, error: 1240.2138156215376\n",
      "Step 1239: 629,513 Ft/m² +9,935,054 Ft, error: 1239.9789200243365\n",
      "Step 1240: 629,429 Ft/m² +9,941,776 Ft, error: 1239.7442907117363\n",
      "Step 1241: 629,344 Ft/m² +9,948,494 Ft, error: 1239.5099273818712\n",
      "Step 1242: 629,259 Ft/m² +9,955,208 Ft, error: 1239.2758297332143\n",
      "Step 1243: 629,174 Ft/m² +9,961,918 Ft, error: 1239.041997464582\n",
      "Step 1244: 629,089 Ft/m² +9,968,625 Ft, error: 1238.8084302751304\n",
      "Step 1245: 629,004 Ft/m² +9,975,328 Ft, error: 1238.5751278643602\n",
      "Step 1246: 628,920 Ft/m² +9,982,027 Ft, error: 1238.3420899321086\n",
      "Step 1247: 628,835 Ft/m² +9,988,722 Ft, error: 1238.1093161785545\n",
      "Step 1248: 628,751 Ft/m² +9,995,413 Ft, error: 1237.8768063042182\n",
      "Step 1249: 628,666 Ft/m² +10,002,101 Ft, error: 1237.6445600099598\n",
      "Step 1250: 628,582 Ft/m² +10,008,784 Ft, error: 1237.4125769969742\n",
      "Step 1251: 628,497 Ft/m² +10,015,464 Ft, error: 1237.1808569667985\n",
      "Step 1252: 628,413 Ft/m² +10,022,141 Ft, error: 1236.9493996213098\n",
      "Step 1253: 628,329 Ft/m² +10,028,813 Ft, error: 1236.7182046627188\n",
      "Step 1254: 628,244 Ft/m² +10,035,482 Ft, error: 1236.4872717935764\n",
      "Step 1255: 628,160 Ft/m² +10,042,147 Ft, error: 1236.2566007167713\n",
      "Step 1256: 628,076 Ft/m² +10,048,808 Ft, error: 1236.0261911355276\n",
      "Step 1257: 627,992 Ft/m² +10,055,465 Ft, error: 1235.7960427534058\n",
      "Step 1258: 627,908 Ft/m² +10,062,118 Ft, error: 1235.5661552743013\n",
      "Step 1259: 627,824 Ft/m² +10,068,768 Ft, error: 1235.3365284024499\n",
      "Step 1260: 627,740 Ft/m² +10,075,414 Ft, error: 1235.1071618424169\n",
      "Step 1261: 627,656 Ft/m² +10,082,056 Ft, error: 1234.8780552991063\n",
      "Step 1262: 627,572 Ft/m² +10,088,695 Ft, error: 1234.6492084777549\n",
      "Step 1263: 627,488 Ft/m² +10,095,330 Ft, error: 1234.4206210839345\n",
      "Step 1264: 627,404 Ft/m² +10,101,960 Ft, error: 1234.1922928235506\n",
      "Step 1265: 627,320 Ft/m² +10,108,588 Ft, error: 1233.9642234028422\n",
      "Step 1266: 627,237 Ft/m² +10,115,211 Ft, error: 1233.736412528379\n",
      "Step 1267: 627,153 Ft/m² +10,121,831 Ft, error: 1233.5088599070687\n",
      "Step 1268: 627,069 Ft/m² +10,128,447 Ft, error: 1233.2815652461454\n",
      "Step 1269: 626,986 Ft/m² +10,135,059 Ft, error: 1233.0545282531768\n",
      "Step 1270: 626,902 Ft/m² +10,141,667 Ft, error: 1232.8277486360646\n",
      "Step 1271: 626,819 Ft/m² +10,148,272 Ft, error: 1232.6012261030407\n",
      "Step 1272: 626,735 Ft/m² +10,154,873 Ft, error: 1232.3749603626643\n",
      "Step 1273: 626,652 Ft/m² +10,161,470 Ft, error: 1232.1489511238294\n",
      "Step 1274: 626,569 Ft/m² +10,168,063 Ft, error: 1231.9231980957593\n",
      "Step 1275: 626,485 Ft/m² +10,174,653 Ft, error: 1231.6977009880031\n",
      "Step 1276: 626,402 Ft/m² +10,181,239 Ft, error: 1231.4724595104435\n",
      "Step 1277: 626,319 Ft/m² +10,187,821 Ft, error: 1231.2474733732909\n",
      "Step 1278: 626,236 Ft/m² +10,194,400 Ft, error: 1231.022742287083\n",
      "Step 1279: 626,153 Ft/m² +10,200,974 Ft, error: 1230.7982659626887\n",
      "Step 1280: 626,070 Ft/m² +10,207,545 Ft, error: 1230.5740441112994\n",
      "Step 1281: 625,987 Ft/m² +10,214,113 Ft, error: 1230.3500764444373\n",
      "Step 1282: 625,904 Ft/m² +10,220,676 Ft, error: 1230.1263626739526\n",
      "Step 1283: 625,821 Ft/m² +10,227,236 Ft, error: 1229.9029025120215\n",
      "Step 1284: 625,738 Ft/m² +10,233,792 Ft, error: 1229.6796956711444\n",
      "Step 1285: 625,655 Ft/m² +10,240,345 Ft, error: 1229.4567418641493\n",
      "Step 1286: 625,572 Ft/m² +10,246,893 Ft, error: 1229.2340408041898\n",
      "Step 1287: 625,490 Ft/m² +10,253,438 Ft, error: 1229.0115922047437\n",
      "Step 1288: 625,407 Ft/m² +10,259,980 Ft, error: 1228.7893957796155\n",
      "Step 1289: 625,324 Ft/m² +10,266,517 Ft, error: 1228.5674512429318\n",
      "Step 1290: 625,242 Ft/m² +10,273,051 Ft, error: 1228.3457583091465\n",
      "Step 1291: 625,159 Ft/m² +10,279,581 Ft, error: 1228.1243166930315\n",
      "Step 1292: 625,077 Ft/m² +10,286,108 Ft, error: 1227.9031261096884\n",
      "Step 1293: 624,994 Ft/m² +10,292,630 Ft, error: 1227.6821862745385\n",
      "Step 1294: 624,912 Ft/m² +10,299,149 Ft, error: 1227.4614969033257\n",
      "Step 1295: 624,830 Ft/m² +10,305,665 Ft, error: 1227.2410577121168\n",
      "Step 1296: 624,747 Ft/m² +10,312,177 Ft, error: 1227.0208684173008\n",
      "Step 1297: 624,665 Ft/m² +10,318,684 Ft, error: 1226.8009287355871\n",
      "Step 1298: 624,583 Ft/m² +10,325,189 Ft, error: 1226.5812383840077\n",
      "Step 1299: 624,501 Ft/m² +10,331,689 Ft, error: 1226.3617970799135\n",
      "Step 1300: 624,419 Ft/m² +10,338,186 Ft, error: 1226.1426045409778\n",
      "Step 1301: 624,337 Ft/m² +10,344,679 Ft, error: 1225.923660485193\n",
      "Step 1302: 624,255 Ft/m² +10,351,169 Ft, error: 1225.704964630872\n",
      "Step 1303: 624,173 Ft/m² +10,357,655 Ft, error: 1225.4865166966429\n",
      "Step 1304: 624,091 Ft/m² +10,364,137 Ft, error: 1225.2683164014604\n",
      "Step 1305: 624,009 Ft/m² +10,370,616 Ft, error: 1225.0503634645913\n",
      "Step 1306: 623,927 Ft/m² +10,377,090 Ft, error: 1224.8326576056224\n",
      "Step 1307: 623,845 Ft/m² +10,383,562 Ft, error: 1224.6151985444615\n",
      "Step 1308: 623,763 Ft/m² +10,390,029 Ft, error: 1224.3979860013276\n",
      "Step 1309: 623,682 Ft/m² +10,396,493 Ft, error: 1224.1810196967642\n",
      "Step 1310: 623,600 Ft/m² +10,402,953 Ft, error: 1223.964299351625\n",
      "Step 1311: 623,519 Ft/m² +10,409,410 Ft, error: 1223.7478246870855\n",
      "Step 1312: 623,437 Ft/m² +10,415,862 Ft, error: 1223.5315954246328\n",
      "Step 1313: 623,356 Ft/m² +10,422,312 Ft, error: 1223.315611286073\n",
      "Step 1314: 623,274 Ft/m² +10,428,757 Ft, error: 1223.099871993527\n",
      "Step 1315: 623,193 Ft/m² +10,435,199 Ft, error: 1222.884377269429\n",
      "Step 1316: 623,111 Ft/m² +10,441,637 Ft, error: 1222.6691268365287\n",
      "Step 1317: 623,030 Ft/m² +10,448,072 Ft, error: 1222.4541204178913\n",
      "Step 1318: 622,949 Ft/m² +10,454,503 Ft, error: 1222.239357736895\n",
      "Step 1319: 622,867 Ft/m² +10,460,930 Ft, error: 1222.024838517231\n",
      "Step 1320: 622,786 Ft/m² +10,467,354 Ft, error: 1221.8105624829052\n",
      "Step 1321: 622,705 Ft/m² +10,473,774 Ft, error: 1221.5965293582344\n",
      "Step 1322: 622,624 Ft/m² +10,480,190 Ft, error: 1221.3827388678494\n",
      "Step 1323: 622,543 Ft/m² +10,486,603 Ft, error: 1221.169190736693\n",
      "Step 1324: 622,462 Ft/m² +10,493,012 Ft, error: 1220.95588469002\n",
      "Step 1325: 622,381 Ft/m² +10,499,417 Ft, error: 1220.7428204533956\n",
      "Step 1326: 622,300 Ft/m² +10,505,819 Ft, error: 1220.5299977526963\n",
      "Step 1327: 622,219 Ft/m² +10,512,217 Ft, error: 1220.317416314111\n",
      "Step 1328: 622,138 Ft/m² +10,518,612 Ft, error: 1220.1050758641372\n",
      "Step 1329: 622,058 Ft/m² +10,525,003 Ft, error: 1219.8929761295835\n",
      "Step 1330: 621,977 Ft/m² +10,531,390 Ft, error: 1219.6811168375677\n",
      "Step 1331: 621,896 Ft/m² +10,537,774 Ft, error: 1219.4694977155157\n",
      "Step 1332: 621,816 Ft/m² +10,544,154 Ft, error: 1219.2581184911658\n",
      "Step 1333: 621,735 Ft/m² +10,550,530 Ft, error: 1219.0469788925616\n",
      "Step 1334: 621,655 Ft/m² +10,556,903 Ft, error: 1218.8360786480557\n",
      "Step 1335: 621,574 Ft/m² +10,563,272 Ft, error: 1218.6254174863113\n",
      "Step 1336: 621,494 Ft/m² +10,569,638 Ft, error: 1218.414995136295\n",
      "Step 1337: 621,413 Ft/m² +10,576,000 Ft, error: 1218.2048113272838\n",
      "Step 1338: 621,333 Ft/m² +10,582,358 Ft, error: 1217.9948657888608\n",
      "Step 1339: 621,253 Ft/m² +10,588,713 Ft, error: 1217.7851582509143\n",
      "Step 1340: 621,172 Ft/m² +10,595,064 Ft, error: 1217.5756884436412\n",
      "Step 1341: 621,092 Ft/m² +10,601,412 Ft, error: 1217.366456097542\n",
      "Step 1342: 621,012 Ft/m² +10,607,756 Ft, error: 1217.1574609434244\n",
      "Step 1343: 620,932 Ft/m² +10,614,096 Ft, error: 1216.9487027123998\n",
      "Step 1344: 620,852 Ft/m² +10,620,433 Ft, error: 1216.7401811358864\n",
      "Step 1345: 620,772 Ft/m² +10,626,766 Ft, error: 1216.531895945603\n",
      "Step 1346: 620,692 Ft/m² +10,633,096 Ft, error: 1216.3238468735785\n",
      "Step 1347: 620,612 Ft/m² +10,639,422 Ft, error: 1216.1160336521402\n",
      "Step 1348: 620,532 Ft/m² +10,645,744 Ft, error: 1215.9084560139215\n",
      "Step 1349: 620,452 Ft/m² +10,652,063 Ft, error: 1215.7011136918577\n",
      "Step 1350: 620,372 Ft/m² +10,658,378 Ft, error: 1215.4940064191885\n",
      "Step 1351: 620,292 Ft/m² +10,664,690 Ft, error: 1215.2871339294543\n",
      "Step 1352: 620,213 Ft/m² +10,670,998 Ft, error: 1215.0804959564985\n",
      "Step 1353: 620,133 Ft/m² +10,677,303 Ft, error: 1214.8740922344657\n",
      "Step 1354: 620,053 Ft/m² +10,683,604 Ft, error: 1214.6679224978018\n",
      "Step 1355: 619,974 Ft/m² +10,689,901 Ft, error: 1214.4619864812548\n",
      "Step 1356: 619,894 Ft/m² +10,696,195 Ft, error: 1214.256283919872\n",
      "Step 1357: 619,815 Ft/m² +10,702,485 Ft, error: 1214.050814549002\n",
      "Step 1358: 619,735 Ft/m² +10,708,772 Ft, error: 1213.845578104293\n",
      "Step 1359: 619,656 Ft/m² +10,715,055 Ft, error: 1213.6405743216935\n",
      "Step 1360: 619,576 Ft/m² +10,721,335 Ft, error: 1213.4358029374503\n",
      "Step 1361: 619,497 Ft/m² +10,727,611 Ft, error: 1213.2312636881095\n",
      "Step 1362: 619,418 Ft/m² +10,733,883 Ft, error: 1213.026956310517\n",
      "Step 1363: 619,339 Ft/m² +10,740,152 Ft, error: 1212.822880541815\n",
      "Step 1364: 619,259 Ft/m² +10,746,417 Ft, error: 1212.6190361194465\n",
      "Step 1365: 619,180 Ft/m² +10,752,679 Ft, error: 1212.4154227811487\n",
      "Step 1366: 619,101 Ft/m² +10,758,937 Ft, error: 1212.2120402649591\n",
      "Step 1367: 619,022 Ft/m² +10,765,192 Ft, error: 1212.00888830921\n",
      "Step 1368: 618,943 Ft/m² +10,771,443 Ft, error: 1211.8059666525317\n",
      "Step 1369: 618,864 Ft/m² +10,777,691 Ft, error: 1211.6032750338507\n",
      "Step 1370: 618,785 Ft/m² +10,783,935 Ft, error: 1211.400813192388\n",
      "Step 1371: 618,706 Ft/m² +10,790,175 Ft, error: 1211.1985808676618\n",
      "Step 1372: 618,628 Ft/m² +10,796,412 Ft, error: 1210.9965777994864\n",
      "Step 1373: 618,549 Ft/m² +10,802,645 Ft, error: 1210.794803727968\n",
      "Step 1374: 618,470 Ft/m² +10,808,875 Ft, error: 1210.5932583935105\n",
      "Step 1375: 618,391 Ft/m² +10,815,102 Ft, error: 1210.39194153681\n",
      "Step 1376: 618,313 Ft/m² +10,821,325 Ft, error: 1210.190852898858\n",
      "Step 1377: 618,234 Ft/m² +10,827,544 Ft, error: 1209.9899922209383\n",
      "Step 1378: 618,156 Ft/m² +10,833,760 Ft, error: 1209.7893592446285\n",
      "Step 1379: 618,077 Ft/m² +10,839,972 Ft, error: 1209.5889537118\n",
      "Step 1380: 617,999 Ft/m² +10,846,181 Ft, error: 1209.3887753646163\n",
      "Step 1381: 617,920 Ft/m² +10,852,386 Ft, error: 1209.1888239455332\n",
      "Step 1382: 617,842 Ft/m² +10,858,587 Ft, error: 1208.9890991972968\n",
      "Step 1383: 617,764 Ft/m² +10,864,786 Ft, error: 1208.7896008629473\n",
      "Step 1384: 617,685 Ft/m² +10,870,980 Ft, error: 1208.5903286858163\n",
      "Step 1385: 617,607 Ft/m² +10,877,171 Ft, error: 1208.3912824095223\n",
      "Step 1386: 617,529 Ft/m² +10,883,359 Ft, error: 1208.1924617779807\n",
      "Step 1387: 617,451 Ft/m² +10,889,543 Ft, error: 1207.9938665353916\n",
      "Step 1388: 617,373 Ft/m² +10,895,724 Ft, error: 1207.7954964262487\n",
      "Step 1389: 617,294 Ft/m² +10,901,901 Ft, error: 1207.5973511953343\n",
      "Step 1390: 617,216 Ft/m² +10,908,075 Ft, error: 1207.3994305877186\n",
      "Step 1391: 617,138 Ft/m² +10,914,245 Ft, error: 1207.201734348763\n",
      "Step 1392: 617,061 Ft/m² +10,920,411 Ft, error: 1207.0042622241149\n",
      "Step 1393: 616,983 Ft/m² +10,926,574 Ft, error: 1206.8070139597141\n",
      "Step 1394: 616,905 Ft/m² +10,932,734 Ft, error: 1206.609989301784\n",
      "Step 1395: 616,827 Ft/m² +10,938,890 Ft, error: 1206.4131879968388\n",
      "Step 1396: 616,749 Ft/m² +10,945,043 Ft, error: 1206.216609791678\n",
      "Step 1397: 616,671 Ft/m² +10,951,192 Ft, error: 1206.0202544333904\n",
      "Step 1398: 616,594 Ft/m² +10,957,338 Ft, error: 1205.8241216693493\n",
      "Step 1399: 616,516 Ft/m² +10,963,480 Ft, error: 1205.6282112472159\n",
      "Step 1400: 616,439 Ft/m² +10,969,619 Ft, error: 1205.4325229149356\n",
      "Step 1401: 616,361 Ft/m² +10,975,754 Ft, error: 1205.2370564207422\n",
      "Step 1402: 616,284 Ft/m² +10,981,886 Ft, error: 1205.0418115131527\n",
      "Step 1403: 616,206 Ft/m² +10,988,014 Ft, error: 1204.8467879409698\n",
      "Step 1404: 616,129 Ft/m² +10,994,139 Ft, error: 1204.651985453281\n",
      "Step 1405: 616,051 Ft/m² +11,000,260 Ft, error: 1204.4574037994591\n",
      "Step 1406: 615,974 Ft/m² +11,006,378 Ft, error: 1204.26304272916\n",
      "Step 1407: 615,897 Ft/m² +11,012,492 Ft, error: 1204.068901992324\n",
      "Step 1408: 615,820 Ft/m² +11,018,603 Ft, error: 1203.8749813391742\n",
      "Step 1409: 615,742 Ft/m² +11,024,710 Ft, error: 1203.6812805202162\n",
      "Step 1410: 615,665 Ft/m² +11,030,814 Ft, error: 1203.4877992862414\n",
      "Step 1411: 615,588 Ft/m² +11,036,915 Ft, error: 1203.2945373883206\n",
      "Step 1412: 615,511 Ft/m² +11,043,012 Ft, error: 1203.1014945778093\n",
      "Step 1413: 615,434 Ft/m² +11,049,106 Ft, error: 1202.908670606342\n",
      "Step 1414: 615,357 Ft/m² +11,055,196 Ft, error: 1202.7160652258356\n",
      "Step 1415: 615,280 Ft/m² +11,061,283 Ft, error: 1202.5236781884905\n",
      "Step 1416: 615,203 Ft/m² +11,067,366 Ft, error: 1202.331509246787\n",
      "Step 1417: 615,126 Ft/m² +11,073,446 Ft, error: 1202.139558153482\n",
      "Step 1418: 615,050 Ft/m² +11,079,522 Ft, error: 1201.9478246616213\n",
      "Step 1419: 614,973 Ft/m² +11,085,595 Ft, error: 1201.756308524522\n",
      "Step 1420: 614,896 Ft/m² +11,091,664 Ft, error: 1201.5650094957837\n",
      "Step 1421: 614,820 Ft/m² +11,097,730 Ft, error: 1201.3739273292886\n",
      "Step 1422: 614,743 Ft/m² +11,103,793 Ft, error: 1201.1830617791927\n",
      "Step 1423: 614,666 Ft/m² +11,109,852 Ft, error: 1200.992412599935\n",
      "Step 1424: 614,590 Ft/m² +11,115,908 Ft, error: 1200.80197954623\n",
      "Step 1425: 614,513 Ft/m² +11,121,960 Ft, error: 1200.6117623730722\n",
      "Step 1426: 614,437 Ft/m² +11,128,009 Ft, error: 1200.4217608357342\n",
      "Step 1427: 614,360 Ft/m² +11,134,054 Ft, error: 1200.2319746897615\n",
      "Step 1428: 614,284 Ft/m² +11,140,096 Ft, error: 1200.0424036909822\n",
      "Step 1429: 614,208 Ft/m² +11,146,135 Ft, error: 1199.8530475954994\n",
      "Step 1430: 614,132 Ft/m² +11,152,170 Ft, error: 1199.6639061596904\n",
      "Step 1431: 614,055 Ft/m² +11,158,202 Ft, error: 1199.4749791402132\n",
      "Step 1432: 613,979 Ft/m² +11,164,230 Ft, error: 1199.2862662939979\n",
      "Step 1433: 613,903 Ft/m² +11,170,255 Ft, error: 1199.0977673782504\n",
      "Step 1434: 613,827 Ft/m² +11,176,276 Ft, error: 1198.9094821504546\n",
      "Step 1435: 613,751 Ft/m² +11,182,294 Ft, error: 1198.7214103683668\n",
      "Step 1436: 613,675 Ft/m² +11,188,309 Ft, error: 1198.5335517900182\n",
      "Step 1437: 613,599 Ft/m² +11,194,320 Ft, error: 1198.3459061737146\n",
      "Step 1438: 613,523 Ft/m² +11,200,328 Ft, error: 1198.1584732780373\n",
      "Step 1439: 613,447 Ft/m² +11,206,333 Ft, error: 1197.971252861838\n",
      "Step 1440: 613,371 Ft/m² +11,212,334 Ft, error: 1197.7842446842449\n",
      "Step 1441: 613,295 Ft/m² +11,218,331 Ft, error: 1197.597448504658\n",
      "Step 1442: 613,220 Ft/m² +11,224,325 Ft, error: 1197.4108640827492\n",
      "Step 1443: 613,144 Ft/m² +11,230,316 Ft, error: 1197.2244911784649\n",
      "Step 1444: 613,068 Ft/m² +11,236,304 Ft, error: 1197.0383295520219\n",
      "Step 1445: 612,993 Ft/m² +11,242,288 Ft, error: 1196.8523789639087\n",
      "Step 1446: 612,917 Ft/m² +11,248,268 Ft, error: 1196.6666391748875\n",
      "Step 1447: 612,841 Ft/m² +11,254,245 Ft, error: 1196.4811099459885\n",
      "Step 1448: 612,766 Ft/m² +11,260,219 Ft, error: 1196.2957910385164\n",
      "Step 1449: 612,691 Ft/m² +11,266,190 Ft, error: 1196.1106822140428\n",
      "Step 1450: 612,615 Ft/m² +11,272,157 Ft, error: 1195.9257832344135\n",
      "Step 1451: 612,540 Ft/m² +11,278,121 Ft, error: 1195.74109386174\n",
      "Step 1452: 612,464 Ft/m² +11,284,081 Ft, error: 1195.5566138584054\n",
      "Step 1453: 612,389 Ft/m² +11,290,038 Ft, error: 1195.3723429870658\n",
      "Step 1454: 612,314 Ft/m² +11,295,991 Ft, error: 1195.18828101064\n",
      "Step 1455: 612,239 Ft/m² +11,301,941 Ft, error: 1195.004427692318\n",
      "Step 1456: 612,164 Ft/m² +11,307,888 Ft, error: 1194.820782795562\n",
      "Step 1457: 612,088 Ft/m² +11,313,832 Ft, error: 1194.637346084096\n",
      "Step 1458: 612,013 Ft/m² +11,319,772 Ft, error: 1194.4541173219159\n",
      "Step 1459: 611,938 Ft/m² +11,325,708 Ft, error: 1194.2710962732856\n",
      "Step 1460: 611,863 Ft/m² +11,331,642 Ft, error: 1194.088282702733\n",
      "Step 1461: 611,788 Ft/m² +11,337,572 Ft, error: 1193.9056763750561\n",
      "Step 1462: 611,714 Ft/m² +11,343,498 Ft, error: 1193.723277055318\n",
      "Step 1463: 611,639 Ft/m² +11,349,422 Ft, error: 1193.5410845088472\n",
      "Step 1464: 611,564 Ft/m² +11,355,341 Ft, error: 1193.3590985012413\n",
      "Step 1465: 611,489 Ft/m² +11,361,258 Ft, error: 1193.1773187983606\n",
      "Step 1466: 611,414 Ft/m² +11,367,171 Ft, error: 1192.9957451663313\n",
      "Step 1467: 611,340 Ft/m² +11,373,081 Ft, error: 1192.814377371546\n",
      "Step 1468: 611,265 Ft/m² +11,378,987 Ft, error: 1192.6332151806632\n",
      "Step 1469: 611,190 Ft/m² +11,384,891 Ft, error: 1192.4522583606029\n",
      "Step 1470: 611,116 Ft/m² +11,390,790 Ft, error: 1192.2715066785486\n",
      "Step 1471: 611,041 Ft/m² +11,396,687 Ft, error: 1192.0909599019526\n",
      "Step 1472: 610,967 Ft/m² +11,402,580 Ft, error: 1191.9106177985277\n",
      "Step 1473: 610,892 Ft/m² +11,408,470 Ft, error: 1191.7304801362493\n",
      "Step 1474: 610,818 Ft/m² +11,414,356 Ft, error: 1191.5505466833574\n",
      "Step 1475: 610,744 Ft/m² +11,420,239 Ft, error: 1191.3708172083536\n",
      "Step 1476: 610,669 Ft/m² +11,426,119 Ft, error: 1191.1912914800037\n",
      "Step 1477: 610,595 Ft/m² +11,431,995 Ft, error: 1191.0119692673338\n",
      "Step 1478: 610,521 Ft/m² +11,437,868 Ft, error: 1190.8328503396315\n",
      "Step 1479: 610,447 Ft/m² +11,443,738 Ft, error: 1190.6539344664482\n",
      "Step 1480: 610,373 Ft/m² +11,449,604 Ft, error: 1190.4752214175955\n",
      "Step 1481: 610,298 Ft/m² +11,455,468 Ft, error: 1190.2967109631447\n",
      "Step 1482: 610,224 Ft/m² +11,461,327 Ft, error: 1190.1184028734308\n",
      "Step 1483: 610,150 Ft/m² +11,467,184 Ft, error: 1189.9402969190446\n",
      "Step 1484: 610,076 Ft/m² +11,473,037 Ft, error: 1189.7623928708406\n",
      "Step 1485: 610,002 Ft/m² +11,478,887 Ft, error: 1189.584690499931\n",
      "Step 1486: 609,929 Ft/m² +11,484,733 Ft, error: 1189.4071895776915\n",
      "Step 1487: 609,855 Ft/m² +11,490,576 Ft, error: 1189.2298898757501\n",
      "Step 1488: 609,781 Ft/m² +11,496,416 Ft, error: 1189.0527911659995\n",
      "Step 1489: 609,707 Ft/m² +11,502,253 Ft, error: 1188.87589322059\n",
      "Step 1490: 609,633 Ft/m² +11,508,086 Ft, error: 1188.6991958119274\n",
      "Step 1491: 609,560 Ft/m² +11,513,916 Ft, error: 1188.5226987126762\n",
      "Step 1492: 609,486 Ft/m² +11,519,742 Ft, error: 1188.3464016957632\n",
      "Step 1493: 609,413 Ft/m² +11,525,566 Ft, error: 1188.1703045343668\n",
      "Step 1494: 609,339 Ft/m² +11,531,386 Ft, error: 1187.994407001925\n",
      "Step 1495: 609,265 Ft/m² +11,537,202 Ft, error: 1187.8187088721331\n",
      "Step 1496: 609,192 Ft/m² +11,543,016 Ft, error: 1187.6432099189426\n",
      "Step 1497: 609,119 Ft/m² +11,548,826 Ft, error: 1187.4679099165605\n",
      "Step 1498: 609,045 Ft/m² +11,554,633 Ft, error: 1187.29280863945\n",
      "Step 1499: 608,972 Ft/m² +11,560,436 Ft, error: 1187.1179058623304\n",
      "Step 1500: 608,899 Ft/m² +11,566,237 Ft, error: 1186.9432013601765\n",
      "Step 1501: 608,825 Ft/m² +11,572,034 Ft, error: 1186.768694908218\n",
      "Step 1502: 608,752 Ft/m² +11,577,827 Ft, error: 1186.5943862819402\n",
      "Step 1503: 608,679 Ft/m² +11,583,618 Ft, error: 1186.4202752570793\n",
      "Step 1504: 608,606 Ft/m² +11,589,405 Ft, error: 1186.2463616096313\n",
      "Step 1505: 608,533 Ft/m² +11,595,189 Ft, error: 1186.0726451158419\n",
      "Step 1506: 608,460 Ft/m² +11,600,969 Ft, error: 1185.8991255522124\n",
      "Step 1507: 608,387 Ft/m² +11,606,746 Ft, error: 1185.7258026954964\n",
      "Step 1508: 608,314 Ft/m² +11,612,520 Ft, error: 1185.552676322702\n",
      "Step 1509: 608,241 Ft/m² +11,618,291 Ft, error: 1185.379746211088\n",
      "Step 1510: 608,168 Ft/m² +11,624,058 Ft, error: 1185.2070121381687\n",
      "Step 1511: 608,095 Ft/m² +11,629,823 Ft, error: 1185.0344738817066\n",
      "Step 1512: 608,022 Ft/m² +11,635,584 Ft, error: 1184.8621312197195\n",
      "Step 1513: 607,949 Ft/m² +11,641,341 Ft, error: 1184.6899839304765\n",
      "Step 1514: 607,877 Ft/m² +11,647,096 Ft, error: 1184.5180317924955\n",
      "Step 1515: 607,804 Ft/m² +11,652,847 Ft, error: 1184.3462745845493\n",
      "Step 1516: 607,731 Ft/m² +11,658,594 Ft, error: 1184.174712085658\n",
      "Step 1517: 607,659 Ft/m² +11,664,339 Ft, error: 1184.0033440750938\n",
      "Step 1518: 607,586 Ft/m² +11,670,080 Ft, error: 1183.8321703323795\n",
      "Step 1519: 607,514 Ft/m² +11,675,818 Ft, error: 1183.6611906372868\n",
      "Step 1520: 607,441 Ft/m² +11,681,553 Ft, error: 1183.490404769838\n",
      "Step 1521: 607,369 Ft/m² +11,687,285 Ft, error: 1183.3198125103045\n",
      "Step 1522: 607,296 Ft/m² +11,693,013 Ft, error: 1183.1494136392057\n",
      "Step 1523: 607,224 Ft/m² +11,698,738 Ft, error: 1182.9792079373105\n",
      "Step 1524: 607,152 Ft/m² +11,704,460 Ft, error: 1182.8091951856388\n",
      "Step 1525: 607,079 Ft/m² +11,710,179 Ft, error: 1182.6393751654543\n",
      "Step 1526: 607,007 Ft/m² +11,715,894 Ft, error: 1182.4697476582721\n",
      "Step 1527: 606,935 Ft/m² +11,721,606 Ft, error: 1182.3003124458542\n",
      "Step 1528: 606,863 Ft/m² +11,727,315 Ft, error: 1182.1310693102077\n",
      "Step 1529: 606,791 Ft/m² +11,733,021 Ft, error: 1181.96201803359\n",
      "Step 1530: 606,719 Ft/m² +11,738,723 Ft, error: 1181.7931583985028\n",
      "Step 1531: 606,647 Ft/m² +11,744,422 Ft, error: 1181.6244901876978\n",
      "Step 1532: 606,575 Ft/m² +11,750,118 Ft, error: 1181.456013184169\n",
      "Step 1533: 606,503 Ft/m² +11,755,811 Ft, error: 1181.2877271711593\n",
      "Step 1534: 606,431 Ft/m² +11,761,500 Ft, error: 1181.1196319321537\n",
      "Step 1535: 606,359 Ft/m² +11,767,186 Ft, error: 1180.9517272508886\n",
      "Step 1536: 606,287 Ft/m² +11,772,870 Ft, error: 1180.7840129113406\n",
      "Step 1537: 606,215 Ft/m² +11,778,549 Ft, error: 1180.6164886977315\n",
      "Step 1538: 606,144 Ft/m² +11,784,226 Ft, error: 1180.4491543945305\n",
      "Step 1539: 606,072 Ft/m² +11,789,899 Ft, error: 1180.2820097864492\n",
      "Step 1540: 606,000 Ft/m² +11,795,569 Ft, error: 1180.1150546584436\n",
      "Step 1541: 605,929 Ft/m² +11,801,236 Ft, error: 1179.948288795713\n",
      "Step 1542: 605,857 Ft/m² +11,806,900 Ft, error: 1179.7817119837011\n",
      "Step 1543: 605,785 Ft/m² +11,812,561 Ft, error: 1179.6153240080944\n",
      "Step 1544: 605,714 Ft/m² +11,818,218 Ft, error: 1179.449124654822\n",
      "Step 1545: 605,643 Ft/m² +11,823,872 Ft, error: 1179.2831137100563\n",
      "Step 1546: 605,571 Ft/m² +11,829,523 Ft, error: 1179.1172909602124\n",
      "Step 1547: 605,500 Ft/m² +11,835,170 Ft, error: 1178.9516561919459\n",
      "Step 1548: 605,428 Ft/m² +11,840,815 Ft, error: 1178.7862091921552\n",
      "Step 1549: 605,357 Ft/m² +11,846,456 Ft, error: 1178.6209497479826\n",
      "Step 1550: 605,286 Ft/m² +11,852,094 Ft, error: 1178.455877646807\n",
      "Step 1551: 605,215 Ft/m² +11,857,729 Ft, error: 1178.290992676252\n",
      "Step 1552: 605,143 Ft/m² +11,863,361 Ft, error: 1178.1262946241795\n",
      "Step 1553: 605,072 Ft/m² +11,868,989 Ft, error: 1177.9617832786948\n",
      "Step 1554: 605,001 Ft/m² +11,874,615 Ft, error: 1177.797458428142\n",
      "Step 1555: 604,930 Ft/m² +11,880,237 Ft, error: 1177.6333198611035\n",
      "Step 1556: 604,859 Ft/m² +11,885,856 Ft, error: 1177.4693673664042\n",
      "Step 1557: 604,788 Ft/m² +11,891,471 Ft, error: 1177.3056007331045\n",
      "Step 1558: 604,717 Ft/m² +11,897,084 Ft, error: 1177.1420197505095\n",
      "Step 1559: 604,646 Ft/m² +11,902,693 Ft, error: 1176.9786242081589\n",
      "Step 1560: 604,576 Ft/m² +11,908,300 Ft, error: 1176.8154138958307\n",
      "Step 1561: 604,505 Ft/m² +11,913,903 Ft, error: 1176.6523886035445\n",
      "Step 1562: 604,434 Ft/m² +11,919,502 Ft, error: 1176.4895481215558\n",
      "Step 1563: 604,363 Ft/m² +11,925,099 Ft, error: 1176.326892240358\n",
      "Step 1564: 604,293 Ft/m² +11,930,693 Ft, error: 1176.164420750682\n",
      "Step 1565: 604,222 Ft/m² +11,936,283 Ft, error: 1176.0021334434946\n",
      "Step 1566: 604,151 Ft/m² +11,941,870 Ft, error: 1175.8400301100055\n",
      "Step 1567: 604,081 Ft/m² +11,947,454 Ft, error: 1175.678110541652\n",
      "Step 1568: 604,010 Ft/m² +11,953,035 Ft, error: 1175.516374530114\n",
      "Step 1569: 603,940 Ft/m² +11,958,612 Ft, error: 1175.354821867308\n",
      "Step 1570: 603,869 Ft/m² +11,964,187 Ft, error: 1175.1934523453813\n",
      "Step 1571: 603,799 Ft/m² +11,969,758 Ft, error: 1175.0322657567222\n",
      "Step 1572: 603,728 Ft/m² +11,975,326 Ft, error: 1174.8712618939517\n",
      "Step 1573: 603,658 Ft/m² +11,980,891 Ft, error: 1174.7104405499251\n",
      "Step 1574: 603,588 Ft/m² +11,986,453 Ft, error: 1174.5498015177357\n",
      "Step 1575: 603,518 Ft/m² +11,992,012 Ft, error: 1174.3893445907074\n",
      "Step 1576: 603,447 Ft/m² +11,997,568 Ft, error: 1174.2290695624035\n",
      "Step 1577: 603,377 Ft/m² +12,003,120 Ft, error: 1174.0689762266143\n",
      "Step 1578: 603,307 Ft/m² +12,008,669 Ft, error: 1173.9090643773698\n",
      "Step 1579: 603,237 Ft/m² +12,014,215 Ft, error: 1173.749333808932\n",
      "Step 1580: 603,167 Ft/m² +12,019,758 Ft, error: 1173.5897843157938\n",
      "Step 1581: 603,097 Ft/m² +12,025,298 Ft, error: 1173.430415692685\n",
      "Step 1582: 603,027 Ft/m² +12,030,835 Ft, error: 1173.271227734565\n",
      "Step 1583: 602,957 Ft/m² +12,036,368 Ft, error: 1173.1122202366269\n",
      "Step 1584: 602,887 Ft/m² +12,041,899 Ft, error: 1172.953392994294\n",
      "Step 1585: 602,817 Ft/m² +12,047,426 Ft, error: 1172.7947458032252\n",
      "Step 1586: 602,747 Ft/m² +12,052,950 Ft, error: 1172.636278459309\n",
      "Step 1587: 602,678 Ft/m² +12,058,471 Ft, error: 1172.4779907586644\n",
      "Step 1588: 602,608 Ft/m² +12,063,989 Ft, error: 1172.3198824976428\n",
      "Step 1589: 602,538 Ft/m² +12,069,504 Ft, error: 1172.1619534728266\n",
      "Step 1590: 602,469 Ft/m² +12,075,015 Ft, error: 1172.004203481028\n",
      "Step 1591: 602,399 Ft/m² +12,080,524 Ft, error: 1171.846632319289\n",
      "Step 1592: 602,329 Ft/m² +12,086,029 Ft, error: 1171.689239784885\n",
      "Step 1593: 602,260 Ft/m² +12,091,531 Ft, error: 1171.5320256753155\n",
      "Step 1594: 602,190 Ft/m² +12,097,031 Ft, error: 1171.3749897883145\n",
      "Step 1595: 602,121 Ft/m² +12,102,527 Ft, error: 1171.2181319218441\n",
      "Step 1596: 602,051 Ft/m² +12,108,019 Ft, error: 1171.0614518740945\n",
      "Step 1597: 601,982 Ft/m² +12,113,509 Ft, error: 1170.904949443485\n",
      "Step 1598: 601,913 Ft/m² +12,118,996 Ft, error: 1170.7486244286638\n",
      "Step 1599: 601,843 Ft/m² +12,124,479 Ft, error: 1170.5924766285068\n",
      "Step 1600: 601,774 Ft/m² +12,129,960 Ft, error: 1170.436505842118\n",
      "Step 1601: 601,705 Ft/m² +12,135,437 Ft, error: 1170.2807118688306\n",
      "Step 1602: 601,636 Ft/m² +12,140,911 Ft, error: 1170.125094508202\n",
      "Step 1603: 601,567 Ft/m² +12,146,383 Ft, error: 1169.9696535600208\n",
      "Step 1604: 601,498 Ft/m² +12,151,851 Ft, error: 1169.8143888243\n",
      "Step 1605: 601,428 Ft/m² +12,157,315 Ft, error: 1169.65930010128\n",
      "Step 1606: 601,359 Ft/m² +12,162,777 Ft, error: 1169.5043871914258\n",
      "Step 1607: 601,290 Ft/m² +12,168,236 Ft, error: 1169.349649895433\n",
      "Step 1608: 601,222 Ft/m² +12,173,692 Ft, error: 1169.1950880142194\n",
      "Step 1609: 601,153 Ft/m² +12,179,144 Ft, error: 1169.0407013489298\n",
      "Step 1610: 601,084 Ft/m² +12,184,594 Ft, error: 1168.8864897009341\n",
      "Step 1611: 601,015 Ft/m² +12,190,040 Ft, error: 1168.732452871827\n",
      "Step 1612: 600,946 Ft/m² +12,195,483 Ft, error: 1168.5785906634298\n",
      "Step 1613: 600,877 Ft/m² +12,200,923 Ft, error: 1168.4249028777858\n",
      "Step 1614: 600,809 Ft/m² +12,206,361 Ft, error: 1168.2713893171663\n",
      "Step 1615: 600,740 Ft/m² +12,211,795 Ft, error: 1168.118049784063\n",
      "Step 1616: 600,671 Ft/m² +12,217,226 Ft, error: 1167.9648840811928\n",
      "Step 1617: 600,603 Ft/m² +12,222,653 Ft, error: 1167.8118920114982\n",
      "Step 1618: 600,534 Ft/m² +12,228,078 Ft, error: 1167.6590733781427\n",
      "Step 1619: 600,466 Ft/m² +12,233,500 Ft, error: 1167.5064279845128\n",
      "Step 1620: 600,397 Ft/m² +12,238,919 Ft, error: 1167.3539556342203\n",
      "Step 1621: 600,329 Ft/m² +12,244,334 Ft, error: 1167.2016561310984\n",
      "Step 1622: 600,260 Ft/m² +12,249,747 Ft, error: 1167.0495292792014\n",
      "Step 1623: 600,192 Ft/m² +12,255,156 Ft, error: 1166.897574882805\n",
      "Step 1624: 600,124 Ft/m² +12,260,562 Ft, error: 1166.7457927464127\n",
      "Step 1625: 600,055 Ft/m² +12,265,966 Ft, error: 1166.5941826747421\n",
      "Step 1626: 599,987 Ft/m² +12,271,366 Ft, error: 1166.4427444727369\n",
      "Step 1627: 599,919 Ft/m² +12,276,763 Ft, error: 1166.2914779455612\n",
      "Step 1628: 599,851 Ft/m² +12,282,157 Ft, error: 1166.1403828985976\n",
      "Step 1629: 599,783 Ft/m² +12,287,548 Ft, error: 1165.9894591374523\n",
      "Step 1630: 599,714 Ft/m² +12,292,936 Ft, error: 1165.83870646795\n",
      "Step 1631: 599,646 Ft/m² +12,298,321 Ft, error: 1165.6881246961368\n",
      "Step 1632: 599,578 Ft/m² +12,303,703 Ft, error: 1165.5377136282773\n",
      "Step 1633: 599,510 Ft/m² +12,309,082 Ft, error: 1165.3874730708578\n",
      "Step 1634: 599,443 Ft/m² +12,314,458 Ft, error: 1165.2374028305808\n",
      "Step 1635: 599,375 Ft/m² +12,319,830 Ft, error: 1165.0875027143704\n",
      "Step 1636: 599,307 Ft/m² +12,325,200 Ft, error: 1164.937772529369\n",
      "Step 1637: 599,239 Ft/m² +12,330,567 Ft, error: 1164.7882120829377\n",
      "Step 1638: 599,171 Ft/m² +12,335,930 Ft, error: 1164.6388211826559\n",
      "Step 1639: 599,103 Ft/m² +12,341,291 Ft, error: 1164.4895996363205\n",
      "Step 1640: 599,036 Ft/m² +12,346,648 Ft, error: 1164.3405472519482\n",
      "Step 1641: 598,968 Ft/m² +12,352,003 Ft, error: 1164.1916638377706\n",
      "Step 1642: 598,900 Ft/m² +12,357,354 Ft, error: 1164.042949202239\n",
      "Step 1643: 598,833 Ft/m² +12,362,703 Ft, error: 1163.8944031540195\n",
      "Step 1644: 598,765 Ft/m² +12,368,048 Ft, error: 1163.7460255019976\n",
      "Step 1645: 598,698 Ft/m² +12,373,390 Ft, error: 1163.5978160552745\n",
      "Step 1646: 598,630 Ft/m² +12,378,730 Ft, error: 1163.4497746231684\n",
      "Step 1647: 598,563 Ft/m² +12,384,066 Ft, error: 1163.3019010152113\n",
      "Step 1648: 598,495 Ft/m² +12,389,399 Ft, error: 1163.1541950411545\n",
      "Step 1649: 598,428 Ft/m² +12,394,729 Ft, error: 1163.0066565109614\n",
      "Step 1650: 598,361 Ft/m² +12,400,057 Ft, error: 1162.859285234813\n",
      "Step 1651: 598,293 Ft/m² +12,405,381 Ft, error: 1162.7120810231065\n",
      "Step 1652: 598,226 Ft/m² +12,410,702 Ft, error: 1162.565043686452\n",
      "Step 1653: 598,159 Ft/m² +12,416,020 Ft, error: 1162.4181730356745\n",
      "Step 1654: 598,092 Ft/m² +12,421,335 Ft, error: 1162.271468881815\n",
      "Step 1655: 598,025 Ft/m² +12,426,647 Ft, error: 1162.1249310361263\n",
      "Step 1656: 597,958 Ft/m² +12,431,957 Ft, error: 1161.978559310078\n",
      "Step 1657: 597,890 Ft/m² +12,437,263 Ft, error: 1161.8323535153504\n",
      "Step 1658: 597,823 Ft/m² +12,442,566 Ft, error: 1161.6863134638404\n",
      "Step 1659: 597,756 Ft/m² +12,447,866 Ft, error: 1161.5404389676555\n",
      "Step 1660: 597,690 Ft/m² +12,453,163 Ft, error: 1161.3947298391174\n",
      "Step 1661: 597,623 Ft/m² +12,458,457 Ft, error: 1161.249185890762\n",
      "Step 1662: 597,556 Ft/m² +12,463,748 Ft, error: 1161.1038069353335\n",
      "Step 1663: 597,489 Ft/m² +12,469,036 Ft, error: 1160.958592785793\n",
      "Step 1664: 597,422 Ft/m² +12,474,321 Ft, error: 1160.8135432553104\n",
      "Step 1665: 597,355 Ft/m² +12,479,603 Ft, error: 1160.6686581572694\n",
      "Step 1666: 597,289 Ft/m² +12,484,883 Ft, error: 1160.523937305265\n",
      "Step 1667: 597,222 Ft/m² +12,490,159 Ft, error: 1160.3793805131027\n",
      "Step 1668: 597,155 Ft/m² +12,495,432 Ft, error: 1160.2349875947993\n",
      "Step 1669: 597,089 Ft/m² +12,500,702 Ft, error: 1160.090758364581\n",
      "Step 1670: 597,022 Ft/m² +12,505,969 Ft, error: 1159.9466926368887\n",
      "Step 1671: 596,956 Ft/m² +12,511,233 Ft, error: 1159.8027902263693\n",
      "Step 1672: 596,889 Ft/m² +12,516,494 Ft, error: 1159.6590509478824\n",
      "Step 1673: 596,823 Ft/m² +12,521,753 Ft, error: 1159.5154746164972\n",
      "Step 1674: 596,756 Ft/m² +12,527,008 Ft, error: 1159.372061047491\n",
      "Step 1675: 596,690 Ft/m² +12,532,260 Ft, error: 1159.228810056351\n",
      "Step 1676: 596,624 Ft/m² +12,537,509 Ft, error: 1159.085721458777\n",
      "Step 1677: 596,557 Ft/m² +12,542,755 Ft, error: 1158.9427950706715\n",
      "Step 1678: 596,491 Ft/m² +12,547,999 Ft, error: 1158.8000307081513\n",
      "Step 1679: 596,425 Ft/m² +12,553,239 Ft, error: 1158.6574281875378\n",
      "Step 1680: 596,359 Ft/m² +12,558,476 Ft, error: 1158.5149873253629\n",
      "Step 1681: 596,292 Ft/m² +12,563,711 Ft, error: 1158.3727079383666\n",
      "Step 1682: 596,226 Ft/m² +12,568,942 Ft, error: 1158.2305898434954\n",
      "Step 1683: 596,160 Ft/m² +12,574,171 Ft, error: 1158.0886328579022\n",
      "Step 1684: 596,094 Ft/m² +12,579,396 Ft, error: 1157.9468367989518\n",
      "Step 1685: 596,028 Ft/m² +12,584,619 Ft, error: 1157.8052014842099\n",
      "Step 1686: 595,962 Ft/m² +12,589,838 Ft, error: 1157.6637267314534\n",
      "Step 1687: 595,896 Ft/m² +12,595,055 Ft, error: 1157.5224123586656\n",
      "Step 1688: 595,830 Ft/m² +12,600,268 Ft, error: 1157.3812581840336\n",
      "Step 1689: 595,765 Ft/m² +12,605,479 Ft, error: 1157.2402640259527\n",
      "Step 1690: 595,699 Ft/m² +12,610,687 Ft, error: 1157.0994297030222\n",
      "Step 1691: 595,633 Ft/m² +12,615,892 Ft, error: 1156.9587550340495\n",
      "Step 1692: 595,567 Ft/m² +12,621,093 Ft, error: 1156.8182398380459\n",
      "Step 1693: 595,502 Ft/m² +12,626,292 Ft, error: 1156.6778839342285\n",
      "Step 1694: 595,436 Ft/m² +12,631,488 Ft, error: 1156.537687142018\n",
      "Step 1695: 595,370 Ft/m² +12,636,681 Ft, error: 1156.3976492810414\n",
      "Step 1696: 595,305 Ft/m² +12,641,871 Ft, error: 1156.2577701711282\n",
      "Step 1697: 595,239 Ft/m² +12,647,058 Ft, error: 1156.1180496323163\n",
      "Step 1698: 595,174 Ft/m² +12,652,243 Ft, error: 1155.9784874848428\n",
      "Step 1699: 595,108 Ft/m² +12,657,424 Ft, error: 1155.8390835491512\n",
      "Step 1700: 595,043 Ft/m² +12,662,602 Ft, error: 1155.699837645887\n",
      "Step 1701: 594,977 Ft/m² +12,667,777 Ft, error: 1155.5607495959016\n",
      "Step 1702: 594,912 Ft/m² +12,672,950 Ft, error: 1155.4218192202466\n",
      "Step 1703: 594,847 Ft/m² +12,678,119 Ft, error: 1155.2830463401776\n",
      "Step 1704: 594,781 Ft/m² +12,683,286 Ft, error: 1155.1444307771535\n",
      "Step 1705: 594,716 Ft/m² +12,688,449 Ft, error: 1155.0059723528354\n",
      "Step 1706: 594,651 Ft/m² +12,693,610 Ft, error: 1154.867670889085\n",
      "Step 1707: 594,586 Ft/m² +12,698,768 Ft, error: 1154.729526207969\n",
      "Step 1708: 594,520 Ft/m² +12,703,923 Ft, error: 1154.5915381317523\n",
      "Step 1709: 594,455 Ft/m² +12,709,075 Ft, error: 1154.4537064829035\n",
      "Step 1710: 594,390 Ft/m² +12,714,224 Ft, error: 1154.316031084092\n",
      "Step 1711: 594,325 Ft/m² +12,719,370 Ft, error: 1154.178511758188\n",
      "Step 1712: 594,260 Ft/m² +12,724,513 Ft, error: 1154.0411483282624\n",
      "Step 1713: 594,195 Ft/m² +12,729,653 Ft, error: 1153.9039406175878\n",
      "Step 1714: 594,130 Ft/m² +12,734,790 Ft, error: 1153.7668884496354\n",
      "Step 1715: 594,065 Ft/m² +12,739,925 Ft, error: 1153.6299916480773\n",
      "Step 1716: 594,001 Ft/m² +12,745,056 Ft, error: 1153.4932500367865\n",
      "Step 1717: 593,936 Ft/m² +12,750,185 Ft, error: 1153.3566634398328\n",
      "Step 1718: 593,871 Ft/m² +12,755,311 Ft, error: 1153.2202316814905\n",
      "Step 1719: 593,806 Ft/m² +12,760,433 Ft, error: 1153.083954586227\n",
      "Step 1720: 593,742 Ft/m² +12,765,553 Ft, error: 1152.9478319787129\n",
      "Step 1721: 593,677 Ft/m² +12,770,670 Ft, error: 1152.8118636838155\n",
      "Step 1722: 593,612 Ft/m² +12,775,784 Ft, error: 1152.6760495266035\n",
      "Step 1723: 593,548 Ft/m² +12,780,895 Ft, error: 1152.5403893323396\n",
      "Step 1724: 593,483 Ft/m² +12,786,004 Ft, error: 1152.4048829264882\n",
      "Step 1725: 593,419 Ft/m² +12,791,109 Ft, error: 1152.2695301347092\n",
      "Step 1726: 593,354 Ft/m² +12,796,212 Ft, error: 1152.134330782862\n",
      "Step 1727: 593,290 Ft/m² +12,801,311 Ft, error: 1151.9992846970026\n",
      "Step 1728: 593,225 Ft/m² +12,806,408 Ft, error: 1151.8643917033835\n",
      "Step 1729: 593,161 Ft/m² +12,811,502 Ft, error: 1151.729651628455\n",
      "Step 1730: 593,097 Ft/m² +12,816,593 Ft, error: 1151.5950642988635\n",
      "Step 1731: 593,032 Ft/m² +12,821,681 Ft, error: 1151.460629541453\n",
      "Step 1732: 592,968 Ft/m² +12,826,766 Ft, error: 1151.3263471832636\n",
      "Step 1733: 592,904 Ft/m² +12,831,848 Ft, error: 1151.1922170515304\n",
      "Step 1734: 592,840 Ft/m² +12,836,927 Ft, error: 1151.0582389736842\n",
      "Step 1735: 592,775 Ft/m² +12,842,004 Ft, error: 1150.924412777354\n",
      "Step 1736: 592,711 Ft/m² +12,847,077 Ft, error: 1150.7907382903618\n",
      "Step 1737: 592,647 Ft/m² +12,852,148 Ft, error: 1150.6572153407242\n",
      "Step 1738: 592,583 Ft/m² +12,857,216 Ft, error: 1150.5238437566554\n",
      "Step 1739: 592,519 Ft/m² +12,862,281 Ft, error: 1150.3906233665614\n",
      "Step 1740: 592,455 Ft/m² +12,867,343 Ft, error: 1150.2575539990466\n",
      "Step 1741: 592,391 Ft/m² +12,872,403 Ft, error: 1150.1246354829057\n",
      "Step 1742: 592,327 Ft/m² +12,877,459 Ft, error: 1149.9918676471289\n",
      "Step 1743: 592,263 Ft/m² +12,882,512 Ft, error: 1149.8592503209002\n",
      "Step 1744: 592,200 Ft/m² +12,887,563 Ft, error: 1149.7267833335993\n",
      "Step 1745: 592,136 Ft/m² +12,892,611 Ft, error: 1149.5944665147958\n",
      "Step 1746: 592,072 Ft/m² +12,897,656 Ft, error: 1149.4622996942558\n",
      "Step 1747: 592,008 Ft/m² +12,902,698 Ft, error: 1149.330282701935\n",
      "Step 1748: 591,945 Ft/m² +12,907,737 Ft, error: 1149.1984153679853\n",
      "Step 1749: 591,881 Ft/m² +12,912,773 Ft, error: 1149.066697522749\n",
      "Step 1750: 591,817 Ft/m² +12,917,807 Ft, error: 1148.9351289967608\n",
      "Step 1751: 591,754 Ft/m² +12,922,838 Ft, error: 1148.8037096207488\n",
      "Step 1752: 591,690 Ft/m² +12,927,865 Ft, error: 1148.6724392256313\n",
      "Step 1753: 591,627 Ft/m² +12,932,890 Ft, error: 1148.5413176425195\n",
      "Step 1754: 591,563 Ft/m² +12,937,912 Ft, error: 1148.4103447027157\n",
      "Step 1755: 591,500 Ft/m² +12,942,932 Ft, error: 1148.279520237715\n",
      "Step 1756: 591,436 Ft/m² +12,947,948 Ft, error: 1148.1488440791982\n",
      "Step 1757: 591,373 Ft/m² +12,952,962 Ft, error: 1148.0183160590443\n",
      "Step 1758: 591,310 Ft/m² +12,957,972 Ft, error: 1147.8879360093174\n",
      "Step 1759: 591,246 Ft/m² +12,962,980 Ft, error: 1147.7577037622743\n",
      "Step 1760: 591,183 Ft/m² +12,967,985 Ft, error: 1147.627619150362\n",
      "Step 1761: 591,120 Ft/m² +12,972,987 Ft, error: 1147.4976820062163\n",
      "Step 1762: 591,057 Ft/m² +12,977,987 Ft, error: 1147.367892162665\n",
      "Step 1763: 590,994 Ft/m² +12,982,983 Ft, error: 1147.23824945272\n",
      "Step 1764: 590,931 Ft/m² +12,987,977 Ft, error: 1147.1087537095902\n",
      "Step 1765: 590,867 Ft/m² +12,992,968 Ft, error: 1146.979404766668\n",
      "Step 1766: 590,804 Ft/m² +12,997,956 Ft, error: 1146.8502024575357\n",
      "Step 1767: 590,741 Ft/m² +13,002,941 Ft, error: 1146.7211466159665\n",
      "Step 1768: 590,678 Ft/m² +13,007,923 Ft, error: 1146.5922370759192\n",
      "Step 1769: 590,616 Ft/m² +13,012,903 Ft, error: 1146.4634736715427\n",
      "Step 1770: 590,553 Ft/m² +13,017,880 Ft, error: 1146.334856237173\n",
      "Step 1771: 590,490 Ft/m² +13,022,854 Ft, error: 1146.2063846073345\n",
      "Step 1772: 590,427 Ft/m² +13,027,825 Ft, error: 1146.0780586167377\n",
      "Step 1773: 590,364 Ft/m² +13,032,793 Ft, error: 1145.9498781002837\n",
      "Step 1774: 590,301 Ft/m² +13,037,758 Ft, error: 1145.8218428930568\n",
      "Step 1775: 590,239 Ft/m² +13,042,721 Ft, error: 1145.6939528303312\n",
      "Step 1776: 590,176 Ft/m² +13,047,681 Ft, error: 1145.5662077475665\n",
      "Step 1777: 590,113 Ft/m² +13,052,638 Ft, error: 1145.4386074804095\n",
      "Step 1778: 590,051 Ft/m² +13,057,592 Ft, error: 1145.3111518646915\n",
      "Step 1779: 589,988 Ft/m² +13,062,544 Ft, error: 1145.183840736433\n",
      "Step 1780: 589,926 Ft/m² +13,067,492 Ft, error: 1145.0566739318388\n",
      "Step 1781: 589,863 Ft/m² +13,072,438 Ft, error: 1144.9296512872972\n",
      "Step 1782: 589,801 Ft/m² +13,077,381 Ft, error: 1144.802772639387\n",
      "Step 1783: 589,738 Ft/m² +13,082,321 Ft, error: 1144.676037824868\n",
      "Step 1784: 589,676 Ft/m² +13,087,258 Ft, error: 1144.5494466806852\n",
      "Step 1785: 589,613 Ft/m² +13,092,193 Ft, error: 1144.4229990439705\n",
      "Step 1786: 589,551 Ft/m² +13,097,125 Ft, error: 1144.2966947520415\n",
      "Step 1787: 589,489 Ft/m² +13,102,054 Ft, error: 1144.1705336423963\n",
      "Step 1788: 589,427 Ft/m² +13,106,980 Ft, error: 1144.0445155527193\n",
      "Step 1789: 589,364 Ft/m² +13,111,903 Ft, error: 1143.9186403208791\n",
      "Step 1790: 589,302 Ft/m² +13,116,824 Ft, error: 1143.7929077849276\n",
      "Step 1791: 589,240 Ft/m² +13,121,742 Ft, error: 1143.6673177831008\n",
      "Step 1792: 589,178 Ft/m² +13,126,657 Ft, error: 1143.5418701538188\n",
      "Step 1793: 589,116 Ft/m² +13,131,569 Ft, error: 1143.4165647356815\n",
      "Step 1794: 589,054 Ft/m² +13,136,478 Ft, error: 1143.2914013674763\n",
      "Step 1795: 588,992 Ft/m² +13,141,385 Ft, error: 1143.1663798881702\n",
      "Step 1796: 588,930 Ft/m² +13,146,289 Ft, error: 1143.041500136914\n",
      "Step 1797: 588,868 Ft/m² +13,151,190 Ft, error: 1142.9167619530406\n",
      "Step 1798: 588,806 Ft/m² +13,156,088 Ft, error: 1142.7921651760641\n",
      "Step 1799: 588,744 Ft/m² +13,160,984 Ft, error: 1142.6677096456829\n",
      "Step 1800: 588,682 Ft/m² +13,165,877 Ft, error: 1142.5433952017754\n",
      "Step 1801: 588,620 Ft/m² +13,170,767 Ft, error: 1142.4192216844008\n",
      "Step 1802: 588,559 Ft/m² +13,175,654 Ft, error: 1142.2951889338015\n",
      "Step 1803: 588,497 Ft/m² +13,180,538 Ft, error: 1142.171296790401\n",
      "Step 1804: 588,435 Ft/m² +13,185,420 Ft, error: 1142.0475450948004\n",
      "Step 1805: 588,374 Ft/m² +13,190,299 Ft, error: 1141.9239336877852\n",
      "Step 1806: 588,312 Ft/m² +13,195,175 Ft, error: 1141.800462410321\n",
      "Step 1807: 588,250 Ft/m² +13,200,049 Ft, error: 1141.6771311035513\n",
      "Step 1808: 588,189 Ft/m² +13,204,919 Ft, error: 1141.5539396088018\n",
      "Step 1809: 588,127 Ft/m² +13,209,787 Ft, error: 1141.4308877675776\n",
      "Step 1810: 588,066 Ft/m² +13,214,652 Ft, error: 1141.3079754215628\n",
      "Step 1811: 588,004 Ft/m² +13,219,514 Ft, error: 1141.1852024126229\n",
      "Step 1812: 587,943 Ft/m² +13,224,374 Ft, error: 1141.0625685827993\n",
      "Step 1813: 587,882 Ft/m² +13,229,231 Ft, error: 1140.9400737743158\n",
      "Step 1814: 587,820 Ft/m² +13,234,085 Ft, error: 1140.8177178295737\n",
      "Step 1815: 587,759 Ft/m² +13,238,936 Ft, error: 1140.695500591152\n",
      "Step 1816: 587,698 Ft/m² +13,243,785 Ft, error: 1140.5734219018093\n",
      "Step 1817: 587,636 Ft/m² +13,248,631 Ft, error: 1140.4514816044843\n",
      "Step 1818: 587,575 Ft/m² +13,253,474 Ft, error: 1140.3296795422877\n",
      "Step 1819: 587,514 Ft/m² +13,258,314 Ft, error: 1140.2080155585159\n",
      "Step 1820: 587,453 Ft/m² +13,263,152 Ft, error: 1140.0864894966371\n",
      "Step 1821: 587,392 Ft/m² +13,267,987 Ft, error: 1139.9651012003\n",
      "Step 1822: 587,331 Ft/m² +13,272,819 Ft, error: 1139.8438505133279\n",
      "Step 1823: 587,270 Ft/m² +13,277,648 Ft, error: 1139.7227372797245\n",
      "Step 1824: 587,209 Ft/m² +13,282,475 Ft, error: 1139.6017613436677\n",
      "Step 1825: 587,148 Ft/m² +13,287,298 Ft, error: 1139.4809225495135\n",
      "Step 1826: 587,087 Ft/m² +13,292,120 Ft, error: 1139.360220741793\n",
      "Step 1827: 587,026 Ft/m² +13,296,938 Ft, error: 1139.2396557652146\n",
      "Step 1828: 586,965 Ft/m² +13,301,754 Ft, error: 1139.1192274646637\n",
      "Step 1829: 586,904 Ft/m² +13,306,567 Ft, error: 1138.9989356851986\n",
      "Step 1830: 586,843 Ft/m² +13,311,377 Ft, error: 1138.8787802720544\n",
      "Step 1831: 586,783 Ft/m² +13,316,184 Ft, error: 1138.7587610706448\n",
      "Step 1832: 586,722 Ft/m² +13,320,989 Ft, error: 1138.6388779265544\n",
      "Step 1833: 586,661 Ft/m² +13,325,791 Ft, error: 1138.519130685545\n",
      "Step 1834: 586,601 Ft/m² +13,330,591 Ft, error: 1138.3995191935526\n",
      "Step 1835: 586,540 Ft/m² +13,335,387 Ft, error: 1138.2800432966885\n",
      "Step 1836: 586,479 Ft/m² +13,340,181 Ft, error: 1138.1607028412373\n",
      "Step 1837: 586,419 Ft/m² +13,344,972 Ft, error: 1138.04149767366\n",
      "Step 1838: 586,358 Ft/m² +13,349,761 Ft, error: 1137.922427640588\n",
      "Step 1839: 586,298 Ft/m² +13,354,546 Ft, error: 1137.8034925888317\n",
      "Step 1840: 586,237 Ft/m² +13,359,329 Ft, error: 1137.6846923653693\n",
      "Step 1841: 586,177 Ft/m² +13,364,110 Ft, error: 1137.5660268173585\n",
      "Step 1842: 586,117 Ft/m² +13,368,887 Ft, error: 1137.4474957921245\n",
      "Step 1843: 586,056 Ft/m² +13,373,662 Ft, error: 1137.32909913717\n",
      "Step 1844: 585,996 Ft/m² +13,378,434 Ft, error: 1137.210836700168\n",
      "Step 1845: 585,936 Ft/m² +13,383,204 Ft, error: 1137.0927083289655\n",
      "Step 1846: 585,875 Ft/m² +13,387,971 Ft, error: 1136.974713871582\n",
      "Step 1847: 585,815 Ft/m² +13,392,735 Ft, error: 1136.856853176208\n",
      "Step 1848: 585,755 Ft/m² +13,397,496 Ft, error: 1136.7391260912066\n",
      "Step 1849: 585,695 Ft/m² +13,402,255 Ft, error: 1136.6215324651146\n",
      "Step 1850: 585,635 Ft/m² +13,407,011 Ft, error: 1136.5040721466369\n",
      "Step 1851: 585,575 Ft/m² +13,411,764 Ft, error: 1136.3867449846543\n",
      "Step 1852: 585,515 Ft/m² +13,416,515 Ft, error: 1136.2695508282152\n",
      "Step 1853: 585,455 Ft/m² +13,421,263 Ft, error: 1136.1524895265413\n",
      "Step 1854: 585,395 Ft/m² +13,426,008 Ft, error: 1136.035560929024\n",
      "Step 1855: 585,335 Ft/m² +13,430,750 Ft, error: 1135.9187648852271\n",
      "Step 1856: 585,275 Ft/m² +13,435,490 Ft, error: 1135.8021012448814\n",
      "Step 1857: 585,215 Ft/m² +13,440,227 Ft, error: 1135.685569857892\n",
      "Step 1858: 585,155 Ft/m² +13,444,962 Ft, error: 1135.5691705743336\n",
      "Step 1859: 585,095 Ft/m² +13,449,693 Ft, error: 1135.452903244448\n",
      "Step 1860: 585,036 Ft/m² +13,454,423 Ft, error: 1135.3367677186493\n",
      "Step 1861: 584,976 Ft/m² +13,459,149 Ft, error: 1135.2207638475204\n",
      "Step 1862: 584,916 Ft/m² +13,463,873 Ft, error: 1135.1048914818134\n",
      "Step 1863: 584,857 Ft/m² +13,468,594 Ft, error: 1134.9891504724508\n",
      "Step 1864: 584,797 Ft/m² +13,473,312 Ft, error: 1134.8735406705232\n",
      "Step 1865: 584,737 Ft/m² +13,478,028 Ft, error: 1134.7580619272885\n",
      "Step 1866: 584,678 Ft/m² +13,482,741 Ft, error: 1134.6427140941757\n",
      "Step 1867: 584,618 Ft/m² +13,487,451 Ft, error: 1134.5274970227808\n",
      "Step 1868: 584,559 Ft/m² +13,492,159 Ft, error: 1134.4124105648687\n",
      "Step 1869: 584,499 Ft/m² +13,496,864 Ft, error: 1134.2974545723725\n",
      "Step 1870: 584,440 Ft/m² +13,501,566 Ft, error: 1134.182628897392\n",
      "Step 1871: 584,380 Ft/m² +13,506,266 Ft, error: 1134.0679333921964\n",
      "Step 1872: 584,321 Ft/m² +13,510,963 Ft, error: 1133.95336790922\n",
      "Step 1873: 584,262 Ft/m² +13,515,657 Ft, error: 1133.8389323010663\n",
      "Step 1874: 584,202 Ft/m² +13,520,349 Ft, error: 1133.7246264205062\n",
      "Step 1875: 584,143 Ft/m² +13,525,038 Ft, error: 1133.610450120475\n",
      "Step 1876: 584,084 Ft/m² +13,529,724 Ft, error: 1133.4964032540786\n",
      "Step 1877: 584,025 Ft/m² +13,534,408 Ft, error: 1133.3824856745846\n",
      "Step 1878: 583,966 Ft/m² +13,539,089 Ft, error: 1133.268697235432\n",
      "Step 1879: 583,906 Ft/m² +13,543,767 Ft, error: 1133.1550377902227\n",
      "Step 1880: 583,847 Ft/m² +13,548,443 Ft, error: 1133.041507192724\n",
      "Step 1881: 583,788 Ft/m² +13,553,116 Ft, error: 1132.9281052968715\n",
      "Step 1882: 583,729 Ft/m² +13,557,787 Ft, error: 1132.8148319567645\n",
      "Step 1883: 583,670 Ft/m² +13,562,454 Ft, error: 1132.7016870266702\n",
      "Step 1884: 583,611 Ft/m² +13,567,120 Ft, error: 1132.5886703610174\n",
      "Step 1885: 583,552 Ft/m² +13,571,782 Ft, error: 1132.475781814403\n",
      "Step 1886: 583,494 Ft/m² +13,576,442 Ft, error: 1132.3630212415862\n",
      "Step 1887: 583,435 Ft/m² +13,581,099 Ft, error: 1132.2503884974922\n",
      "Step 1888: 583,376 Ft/m² +13,585,754 Ft, error: 1132.137883437212\n",
      "Step 1889: 583,317 Ft/m² +13,590,406 Ft, error: 1132.0255059159979\n",
      "Step 1890: 583,258 Ft/m² +13,595,055 Ft, error: 1131.913255789269\n",
      "Step 1891: 583,200 Ft/m² +13,599,702 Ft, error: 1131.8011329126057\n",
      "Step 1892: 583,141 Ft/m² +13,604,346 Ft, error: 1131.689137141755\n",
      "Step 1893: 583,082 Ft/m² +13,608,987 Ft, error: 1131.5772683326256\n",
      "Step 1894: 583,024 Ft/m² +13,613,626 Ft, error: 1131.4655263412894\n",
      "Step 1895: 582,965 Ft/m² +13,618,262 Ft, error: 1131.353911023982\n",
      "Step 1896: 582,906 Ft/m² +13,622,895 Ft, error: 1131.2424222371037\n",
      "Step 1897: 582,848 Ft/m² +13,627,526 Ft, error: 1131.1310598372136\n",
      "Step 1898: 582,789 Ft/m² +13,632,155 Ft, error: 1131.0198236810363\n",
      "Step 1899: 582,731 Ft/m² +13,636,780 Ft, error: 1130.9087136254586\n",
      "Step 1900: 582,673 Ft/m² +13,641,403 Ft, error: 1130.797729527529\n",
      "Step 1901: 582,614 Ft/m² +13,646,024 Ft, error: 1130.6868712444586\n",
      "Step 1902: 582,556 Ft/m² +13,650,641 Ft, error: 1130.5761386336192\n",
      "Step 1903: 582,497 Ft/m² +13,655,256 Ft, error: 1130.4655315525456\n",
      "Step 1904: 582,439 Ft/m² +13,659,869 Ft, error: 1130.3550498589327\n",
      "Step 1905: 582,381 Ft/m² +13,664,479 Ft, error: 1130.244693410638\n",
      "Step 1906: 582,323 Ft/m² +13,669,086 Ft, error: 1130.1344620656812\n",
      "Step 1907: 582,264 Ft/m² +13,673,691 Ft, error: 1130.0243556822395\n",
      "Step 1908: 582,206 Ft/m² +13,678,293 Ft, error: 1129.9143741186529\n",
      "Step 1909: 582,148 Ft/m² +13,682,892 Ft, error: 1129.8045172334228\n",
      "Step 1910: 582,090 Ft/m² +13,687,489 Ft, error: 1129.69478488521\n",
      "Step 1911: 582,032 Ft/m² +13,692,084 Ft, error: 1129.585176932835\n",
      "Step 1912: 581,974 Ft/m² +13,696,675 Ft, error: 1129.475693235279\n",
      "Step 1913: 581,916 Ft/m² +13,701,264 Ft, error: 1129.3663336516845\n",
      "Step 1914: 581,858 Ft/m² +13,705,851 Ft, error: 1129.2570980413507\n",
      "Step 1915: 581,800 Ft/m² +13,710,435 Ft, error: 1129.1479862637393\n",
      "Step 1916: 581,742 Ft/m² +13,715,016 Ft, error: 1129.0389981784679\n",
      "Step 1917: 581,684 Ft/m² +13,719,594 Ft, error: 1128.930133645316\n",
      "Step 1918: 581,627 Ft/m² +13,724,171 Ft, error: 1128.8213925242221\n",
      "Step 1919: 581,569 Ft/m² +13,728,744 Ft, error: 1128.712774675282\n",
      "Step 1920: 581,511 Ft/m² +13,733,315 Ft, error: 1128.6042799587506\n",
      "Step 1921: 581,453 Ft/m² +13,737,883 Ft, error: 1128.4959082350415\n",
      "Step 1922: 581,396 Ft/m² +13,742,449 Ft, error: 1128.3876593647265\n",
      "Step 1923: 581,338 Ft/m² +13,747,012 Ft, error: 1128.2795332085354\n",
      "Step 1924: 581,280 Ft/m² +13,751,572 Ft, error: 1128.171529627355\n",
      "Step 1925: 581,223 Ft/m² +13,756,130 Ft, error: 1128.0636484822323\n",
      "Step 1926: 581,165 Ft/m² +13,760,686 Ft, error: 1127.9558896343688\n",
      "Step 1927: 581,107 Ft/m² +13,765,238 Ft, error: 1127.8482529451248\n",
      "Step 1928: 581,050 Ft/m² +13,769,789 Ft, error: 1127.7407382760182\n",
      "Step 1929: 580,993 Ft/m² +13,774,336 Ft, error: 1127.633345488724\n",
      "Step 1930: 580,935 Ft/m² +13,778,881 Ft, error: 1127.5260744450713\n",
      "Step 1931: 580,878 Ft/m² +13,783,424 Ft, error: 1127.4189250070494\n",
      "Step 1932: 580,820 Ft/m² +13,787,963 Ft, error: 1127.311897036803\n",
      "Step 1933: 580,763 Ft/m² +13,792,501 Ft, error: 1127.2049903966306\n",
      "Step 1934: 580,706 Ft/m² +13,797,036 Ft, error: 1127.0982049489915\n",
      "Step 1935: 580,648 Ft/m² +13,801,568 Ft, error: 1126.991540556496\n",
      "Step 1936: 580,591 Ft/m² +13,806,097 Ft, error: 1126.8849970819138\n",
      "Step 1937: 580,534 Ft/m² +13,810,624 Ft, error: 1126.7785743881686\n",
      "Step 1938: 580,477 Ft/m² +13,815,149 Ft, error: 1126.6722723383386\n",
      "Step 1939: 580,420 Ft/m² +13,819,671 Ft, error: 1126.5660907956594\n",
      "Step 1940: 580,362 Ft/m² +13,824,190 Ft, error: 1126.4600296235205\n",
      "Step 1941: 580,305 Ft/m² +13,828,707 Ft, error: 1126.354088685465\n",
      "Step 1942: 580,248 Ft/m² +13,833,221 Ft, error: 1126.2482678451943\n",
      "Step 1943: 580,191 Ft/m² +13,837,732 Ft, error: 1126.1425669665596\n",
      "Step 1944: 580,134 Ft/m² +13,842,241 Ft, error: 1126.03698591357\n",
      "Step 1945: 580,077 Ft/m² +13,846,748 Ft, error: 1125.9315245503874\n",
      "Step 1946: 580,020 Ft/m² +13,851,252 Ft, error: 1125.8261827413276\n",
      "Step 1947: 579,964 Ft/m² +13,855,753 Ft, error: 1125.7209603508618\n",
      "Step 1948: 579,907 Ft/m² +13,860,252 Ft, error: 1125.6158572436123\n",
      "Step 1949: 579,850 Ft/m² +13,864,749 Ft, error: 1125.510873284357\n",
      "Step 1950: 579,793 Ft/m² +13,869,242 Ft, error: 1125.4060083380245\n",
      "Step 1951: 579,736 Ft/m² +13,873,733 Ft, error: 1125.3012622697\n",
      "Step 1952: 579,680 Ft/m² +13,878,222 Ft, error: 1125.1966349446193\n",
      "Step 1953: 579,623 Ft/m² +13,882,708 Ft, error: 1125.0921262281709\n",
      "Step 1954: 579,566 Ft/m² +13,887,192 Ft, error: 1124.9877359858983\n",
      "Step 1955: 579,510 Ft/m² +13,891,673 Ft, error: 1124.8834640834941\n",
      "Step 1956: 579,453 Ft/m² +13,896,151 Ft, error: 1124.7793103868041\n",
      "Step 1957: 579,396 Ft/m² +13,900,627 Ft, error: 1124.6752747618289\n",
      "Step 1958: 579,340 Ft/m² +13,905,101 Ft, error: 1124.5713570747173\n",
      "Step 1959: 579,283 Ft/m² +13,909,572 Ft, error: 1124.4675571917721\n",
      "Step 1960: 579,227 Ft/m² +13,914,040 Ft, error: 1124.3638749794477\n",
      "Step 1961: 579,170 Ft/m² +13,918,506 Ft, error: 1124.2603103043477\n",
      "Step 1962: 579,114 Ft/m² +13,922,969 Ft, error: 1124.1568630332285\n",
      "Step 1963: 579,058 Ft/m² +13,927,430 Ft, error: 1124.0535330329985\n",
      "Step 1964: 579,001 Ft/m² +13,931,888 Ft, error: 1123.9503201707157\n",
      "Step 1965: 578,945 Ft/m² +13,936,344 Ft, error: 1123.8472243135893\n",
      "Step 1966: 578,889 Ft/m² +13,940,797 Ft, error: 1123.744245328978\n",
      "Step 1967: 578,833 Ft/m² +13,945,247 Ft, error: 1123.641383084392\n",
      "Step 1968: 578,776 Ft/m² +13,949,696 Ft, error: 1123.5386374474915\n",
      "Step 1969: 578,720 Ft/m² +13,954,141 Ft, error: 1123.4360082860856\n",
      "Step 1970: 578,664 Ft/m² +13,958,584 Ft, error: 1123.3334954681363\n",
      "Step 1971: 578,608 Ft/m² +13,963,025 Ft, error: 1123.231098861752\n",
      "Step 1972: 578,552 Ft/m² +13,967,463 Ft, error: 1123.1288183351905\n",
      "Step 1973: 578,496 Ft/m² +13,971,898 Ft, error: 1123.026653756863\n",
      "Step 1974: 578,440 Ft/m² +13,976,331 Ft, error: 1122.9246049953256\n",
      "Step 1975: 578,384 Ft/m² +13,980,762 Ft, error: 1122.8226719192835\n",
      "Step 1976: 578,328 Ft/m² +13,985,190 Ft, error: 1122.720854397596\n",
      "Step 1977: 578,272 Ft/m² +13,989,615 Ft, error: 1122.6191522992638\n",
      "Step 1978: 578,216 Ft/m² +13,994,038 Ft, error: 1122.5175654934415\n",
      "Step 1979: 578,160 Ft/m² +13,998,459 Ft, error: 1122.41609384943\n",
      "Step 1980: 578,104 Ft/m² +14,002,877 Ft, error: 1122.314737236677\n",
      "Step 1981: 578,048 Ft/m² +14,007,292 Ft, error: 1122.2134955247807\n",
      "Step 1982: 577,993 Ft/m² +14,011,705 Ft, error: 1122.1123685834857\n",
      "Step 1983: 577,937 Ft/m² +14,016,115 Ft, error: 1122.0113562826857\n",
      "Step 1984: 577,881 Ft/m² +14,020,523 Ft, error: 1121.9104584924191\n",
      "Step 1985: 577,826 Ft/m² +14,024,929 Ft, error: 1121.809675082875\n",
      "Step 1986: 577,770 Ft/m² +14,029,332 Ft, error: 1121.709005924387\n",
      "Step 1987: 577,714 Ft/m² +14,033,732 Ft, error: 1121.608450887437\n",
      "Step 1988: 577,659 Ft/m² +14,038,130 Ft, error: 1121.5080098426533\n",
      "Step 1989: 577,603 Ft/m² +14,042,526 Ft, error: 1121.4076826608116\n",
      "Step 1990: 577,548 Ft/m² +14,046,919 Ft, error: 1121.3074692128334\n",
      "Step 1991: 577,492 Ft/m² +14,051,309 Ft, error: 1121.2073693697869\n",
      "Step 1992: 577,437 Ft/m² +14,055,697 Ft, error: 1121.1073830028843\n",
      "Step 1993: 577,381 Ft/m² +14,060,082 Ft, error: 1121.0075099834874\n",
      "Step 1994: 577,326 Ft/m² +14,064,465 Ft, error: 1120.9077501831018\n",
      "Step 1995: 577,270 Ft/m² +14,068,846 Ft, error: 1120.808103473379\n",
      "Step 1996: 577,215 Ft/m² +14,073,224 Ft, error: 1120.7085697261164\n",
      "Step 1997: 577,160 Ft/m² +14,077,600 Ft, error: 1120.6091488132558\n",
      "Step 1998: 577,105 Ft/m² +14,081,973 Ft, error: 1120.509840606885\n",
      "Step 1999: 577,049 Ft/m² +14,086,343 Ft, error: 1120.410644979237\n",
      "Step 2000: 576,994 Ft/m² +14,090,711 Ft, error: 1120.3115618026889\n",
      "Step 2001: 576,939 Ft/m² +14,095,077 Ft, error: 1120.212590949763\n",
      "Step 2002: 576,884 Ft/m² +14,099,440 Ft, error: 1120.113732293125\n",
      "Step 2003: 576,829 Ft/m² +14,103,801 Ft, error: 1120.0149857055865\n",
      "Step 2004: 576,774 Ft/m² +14,108,159 Ft, error: 1119.9163510601038\n",
      "Step 2005: 576,719 Ft/m² +14,112,515 Ft, error: 1119.8178282297738\n",
      "Step 2006: 576,664 Ft/m² +14,116,868 Ft, error: 1119.7194170878413\n",
      "Step 2007: 576,609 Ft/m² +14,121,219 Ft, error: 1119.6211175076924\n",
      "Step 2008: 576,554 Ft/m² +14,125,567 Ft, error: 1119.5229293628581\n",
      "Step 2009: 576,499 Ft/m² +14,129,913 Ft, error: 1119.4248525270098\n",
      "Step 2010: 576,444 Ft/m² +14,134,256 Ft, error: 1119.3268868739672\n",
      "Step 2011: 576,389 Ft/m² +14,138,597 Ft, error: 1119.229032277688\n",
      "Step 2012: 576,334 Ft/m² +14,142,936 Ft, error: 1119.1312886122766\n",
      "Step 2013: 576,279 Ft/m² +14,147,272 Ft, error: 1119.0336557519777\n",
      "Step 2014: 576,225 Ft/m² +14,151,606 Ft, error: 1118.9361335711787\n",
      "Step 2015: 576,170 Ft/m² +14,155,937 Ft, error: 1118.838721944411\n",
      "Step 2016: 576,115 Ft/m² +14,160,265 Ft, error: 1118.7414207463469\n",
      "Step 2017: 576,060 Ft/m² +14,164,592 Ft, error: 1118.6442298518018\n",
      "Step 2018: 576,006 Ft/m² +14,168,915 Ft, error: 1118.5471491357312\n",
      "Step 2019: 575,951 Ft/m² +14,173,237 Ft, error: 1118.4501784732345\n",
      "Step 2020: 575,897 Ft/m² +14,177,555 Ft, error: 1118.3533177395507\n",
      "Step 2021: 575,842 Ft/m² +14,181,872 Ft, error: 1118.2565668100622\n",
      "Step 2022: 575,788 Ft/m² +14,186,186 Ft, error: 1118.1599255602919\n",
      "Step 2023: 575,733 Ft/m² +14,190,497 Ft, error: 1118.0633938659028\n",
      "Step 2024: 575,679 Ft/m² +14,194,806 Ft, error: 1117.9669716026995\n",
      "Step 2025: 575,624 Ft/m² +14,199,113 Ft, error: 1117.8706586466285\n",
      "Step 2026: 575,570 Ft/m² +14,203,417 Ft, error: 1117.7744548737755\n",
      "Step 2027: 575,515 Ft/m² +14,207,719 Ft, error: 1117.6783601603672\n",
      "Step 2028: 575,461 Ft/m² +14,212,018 Ft, error: 1117.5823743827707\n",
      "Step 2029: 575,407 Ft/m² +14,216,315 Ft, error: 1117.4864974174934\n",
      "Step 2030: 575,353 Ft/m² +14,220,609 Ft, error: 1117.390729141182\n",
      "Step 2031: 575,298 Ft/m² +14,224,901 Ft, error: 1117.2950694306228\n",
      "Step 2032: 575,244 Ft/m² +14,229,191 Ft, error: 1117.199518162744\n",
      "Step 2033: 575,190 Ft/m² +14,233,478 Ft, error: 1117.1040752146105\n",
      "Step 2034: 575,136 Ft/m² +14,237,763 Ft, error: 1117.0087404634287\n",
      "Step 2035: 575,082 Ft/m² +14,242,045 Ft, error: 1116.913513786543\n",
      "Step 2036: 575,028 Ft/m² +14,246,325 Ft, error: 1116.8183950614364\n",
      "Step 2037: 574,973 Ft/m² +14,250,602 Ft, error: 1116.723384165733\n",
      "Step 2038: 574,919 Ft/m² +14,254,877 Ft, error: 1116.6284809771926\n",
      "Step 2039: 574,865 Ft/m² +14,259,150 Ft, error: 1116.5336853737172\n",
      "Step 2040: 574,811 Ft/m² +14,263,420 Ft, error: 1116.438997233343\n",
      "Step 2041: 574,758 Ft/m² +14,267,688 Ft, error: 1116.3444164342482\n",
      "Step 2042: 574,704 Ft/m² +14,271,953 Ft, error: 1116.2499428547471\n",
      "Step 2043: 574,650 Ft/m² +14,276,216 Ft, error: 1116.1555763732922\n",
      "Step 2044: 574,596 Ft/m² +14,280,476 Ft, error: 1116.0613168684743\n",
      "Step 2045: 574,542 Ft/m² +14,284,734 Ft, error: 1115.967164219021\n",
      "Step 2046: 574,488 Ft/m² +14,288,990 Ft, error: 1115.8731183037987\n",
      "Step 2047: 574,435 Ft/m² +14,293,243 Ft, error: 1115.779179001809\n",
      "Step 2048: 574,381 Ft/m² +14,297,494 Ft, error: 1115.6853461921937\n",
      "Step 2049: 574,327 Ft/m² +14,301,742 Ft, error: 1115.591619754229\n",
      "Step 2050: 574,273 Ft/m² +14,305,988 Ft, error: 1115.4979995673277\n",
      "Step 2051: 574,220 Ft/m² +14,310,232 Ft, error: 1115.4044855110424\n",
      "Step 2052: 574,166 Ft/m² +14,314,473 Ft, error: 1115.3110774650604\n",
      "Step 2053: 574,113 Ft/m² +14,318,712 Ft, error: 1115.217775309203\n",
      "Step 2054: 574,059 Ft/m² +14,322,948 Ft, error: 1115.1245789234324\n",
      "Step 2055: 574,006 Ft/m² +14,327,182 Ft, error: 1115.0314881878421\n",
      "Step 2056: 573,952 Ft/m² +14,331,414 Ft, error: 1114.9385029826672\n",
      "Step 2057: 573,899 Ft/m² +14,335,643 Ft, error: 1114.8456231882724\n",
      "Step 2058: 573,845 Ft/m² +14,339,870 Ft, error: 1114.7528486851622\n",
      "Step 2059: 573,792 Ft/m² +14,344,094 Ft, error: 1114.660179353975\n",
      "Step 2060: 573,739 Ft/m² +14,348,316 Ft, error: 1114.567615075485\n",
      "Step 2061: 573,685 Ft/m² +14,352,536 Ft, error: 1114.475155730601\n",
      "Step 2062: 573,632 Ft/m² +14,356,753 Ft, error: 1114.3828012003673\n",
      "Step 2063: 573,579 Ft/m² +14,360,968 Ft, error: 1114.2905513659628\n",
      "Step 2064: 573,525 Ft/m² +14,365,180 Ft, error: 1114.1984061087012\n",
      "Step 2065: 573,472 Ft/m² +14,369,390 Ft, error: 1114.1063653100314\n",
      "Step 2066: 573,419 Ft/m² +14,373,598 Ft, error: 1114.014428851535\n",
      "Step 2067: 573,366 Ft/m² +14,377,803 Ft, error: 1113.9225966149302\n",
      "Step 2068: 573,313 Ft/m² +14,382,006 Ft, error: 1113.830868482067\n",
      "Step 2069: 573,260 Ft/m² +14,386,206 Ft, error: 1113.7392443349308\n",
      "Step 2070: 573,207 Ft/m² +14,390,404 Ft, error: 1113.6477240556394\n",
      "Step 2071: 573,154 Ft/m² +14,394,600 Ft, error: 1113.5563075264463\n",
      "Step 2072: 573,101 Ft/m² +14,398,794 Ft, error: 1113.4649946297359\n",
      "Step 2073: 573,048 Ft/m² +14,402,984 Ft, error: 1113.3737852480301\n",
      "Step 2074: 572,995 Ft/m² +14,407,173 Ft, error: 1113.2826792639776\n",
      "Step 2075: 572,942 Ft/m² +14,411,359 Ft, error: 1113.191676560366\n",
      "Step 2076: 572,889 Ft/m² +14,415,543 Ft, error: 1113.1007770201134\n",
      "Step 2077: 572,836 Ft/m² +14,419,725 Ft, error: 1113.00998052627\n",
      "Step 2078: 572,783 Ft/m² +14,423,904 Ft, error: 1112.9192869620194\n",
      "Step 2079: 572,730 Ft/m² +14,428,080 Ft, error: 1112.8286962106795\n",
      "Step 2080: 572,678 Ft/m² +14,432,255 Ft, error: 1112.7382081556962\n",
      "Step 2081: 572,625 Ft/m² +14,436,427 Ft, error: 1112.64782268065\n",
      "Step 2082: 572,572 Ft/m² +14,440,596 Ft, error: 1112.557539669255\n",
      "Step 2083: 572,520 Ft/m² +14,444,764 Ft, error: 1112.467359005354\n",
      "Step 2084: 572,467 Ft/m² +14,448,929 Ft, error: 1112.377280572922\n",
      "Step 2085: 572,414 Ft/m² +14,453,091 Ft, error: 1112.287304256069\n",
      "Step 2086: 572,362 Ft/m² +14,457,251 Ft, error: 1112.1974299390315\n",
      "Step 2087: 572,309 Ft/m² +14,461,409 Ft, error: 1112.1076575061804\n",
      "Step 2088: 572,257 Ft/m² +14,465,565 Ft, error: 1112.0179868420169\n",
      "Step 2089: 572,204 Ft/m² +14,469,718 Ft, error: 1111.9284178311723\n",
      "Step 2090: 572,152 Ft/m² +14,473,868 Ft, error: 1111.8389503584094\n",
      "Step 2091: 572,099 Ft/m² +14,478,017 Ft, error: 1111.749584308623\n",
      "Step 2092: 572,047 Ft/m² +14,482,163 Ft, error: 1111.6603195668354\n",
      "Step 2093: 571,995 Ft/m² +14,486,307 Ft, error: 1111.5711560182021\n",
      "Step 2094: 571,942 Ft/m² +14,490,448 Ft, error: 1111.4820935480066\n",
      "Step 2095: 571,890 Ft/m² +14,494,587 Ft, error: 1111.3931320416636\n",
      "Step 2096: 571,838 Ft/m² +14,498,724 Ft, error: 1111.3042713847178\n",
      "Step 2097: 571,785 Ft/m² +14,502,858 Ft, error: 1111.2155114628429\n",
      "Step 2098: 571,733 Ft/m² +14,506,990 Ft, error: 1111.126852161844\n",
      "Step 2099: 571,681 Ft/m² +14,511,119 Ft, error: 1111.0382933676515\n",
      "Step 2100: 571,629 Ft/m² +14,515,247 Ft, error: 1110.9498349663306\n",
      "Step 2101: 571,577 Ft/m² +14,519,372 Ft, error: 1110.8614768440716\n",
      "Step 2102: 571,525 Ft/m² +14,523,494 Ft, error: 1110.773218887196\n",
      "Step 2103: 571,473 Ft/m² +14,527,614 Ft, error: 1110.6850609821527\n",
      "Step 2104: 571,421 Ft/m² +14,531,732 Ft, error: 1110.5970030155204\n",
      "Step 2105: 571,369 Ft/m² +14,535,848 Ft, error: 1110.5090448740057\n",
      "Step 2106: 571,317 Ft/m² +14,539,961 Ft, error: 1110.4211864444437\n",
      "Step 2107: 571,265 Ft/m² +14,544,072 Ft, error: 1110.3334276137987\n",
      "Step 2108: 571,213 Ft/m² +14,548,181 Ft, error: 1110.2457682691613\n",
      "Step 2109: 571,161 Ft/m² +14,552,287 Ft, error: 1110.1582082977523\n",
      "Step 2110: 571,109 Ft/m² +14,556,391 Ft, error: 1110.0707475869192\n",
      "Step 2111: 571,057 Ft/m² +14,560,493 Ft, error: 1109.9833860241358\n",
      "Step 2112: 571,005 Ft/m² +14,564,592 Ft, error: 1109.8961234970068\n",
      "Step 2113: 570,953 Ft/m² +14,568,689 Ft, error: 1109.8089598932615\n",
      "Step 2114: 570,902 Ft/m² +14,572,783 Ft, error: 1109.7218951007574\n",
      "Step 2115: 570,850 Ft/m² +14,576,876 Ft, error: 1109.6349290074804\n",
      "Step 2116: 570,798 Ft/m² +14,580,966 Ft, error: 1109.5480615015404\n",
      "Step 2117: 570,747 Ft/m² +14,585,053 Ft, error: 1109.4612924711764\n",
      "Step 2118: 570,695 Ft/m² +14,589,139 Ft, error: 1109.3746218047543\n",
      "Step 2119: 570,643 Ft/m² +14,593,222 Ft, error: 1109.288049390765\n",
      "Step 2120: 570,592 Ft/m² +14,597,303 Ft, error: 1109.2015751178265\n",
      "Step 2121: 570,540 Ft/m² +14,601,381 Ft, error: 1109.1151988746835\n",
      "Step 2122: 570,489 Ft/m² +14,605,457 Ft, error: 1109.028920550208\n",
      "Step 2123: 570,437 Ft/m² +14,609,531 Ft, error: 1108.9427400333936\n",
      "Step 2124: 570,386 Ft/m² +14,613,602 Ft, error: 1108.8566572133655\n",
      "Step 2125: 570,334 Ft/m² +14,617,672 Ft, error: 1108.7706719793698\n",
      "Step 2126: 570,283 Ft/m² +14,621,738 Ft, error: 1108.6847842207808\n",
      "Step 2127: 570,232 Ft/m² +14,625,803 Ft, error: 1108.5989938270973\n",
      "Step 2128: 570,180 Ft/m² +14,629,865 Ft, error: 1108.5133006879435\n",
      "Step 2129: 570,129 Ft/m² +14,633,925 Ft, error: 1108.4277046930688\n",
      "Step 2130: 570,078 Ft/m² +14,637,983 Ft, error: 1108.342205732348\n",
      "Step 2131: 570,026 Ft/m² +14,642,038 Ft, error: 1108.2568036957794\n",
      "Step 2132: 569,975 Ft/m² +14,646,091 Ft, error: 1108.1714984734888\n",
      "Step 2133: 569,924 Ft/m² +14,650,142 Ft, error: 1108.0862899557228\n",
      "Step 2134: 569,873 Ft/m² +14,654,190 Ft, error: 1108.0011780328543\n",
      "Step 2135: 569,822 Ft/m² +14,658,237 Ft, error: 1107.9161625953811\n",
      "Step 2136: 569,771 Ft/m² +14,662,280 Ft, error: 1107.8312435339255\n",
      "Step 2137: 569,720 Ft/m² +14,666,322 Ft, error: 1107.7464207392309\n",
      "Step 2138: 569,669 Ft/m² +14,670,361 Ft, error: 1107.6616941021673\n",
      "Step 2139: 569,618 Ft/m² +14,674,398 Ft, error: 1107.5770635137274\n",
      "Step 2140: 569,567 Ft/m² +14,678,433 Ft, error: 1107.4925288650286\n",
      "Step 2141: 569,516 Ft/m² +14,682,465 Ft, error: 1107.4080900473093\n",
      "Step 2142: 569,465 Ft/m² +14,686,496 Ft, error: 1107.3237469519336\n",
      "Step 2143: 569,414 Ft/m² +14,690,523 Ft, error: 1107.2394994703877\n",
      "Step 2144: 569,363 Ft/m² +14,694,549 Ft, error: 1107.1553474942798\n",
      "Step 2145: 569,312 Ft/m² +14,698,572 Ft, error: 1107.0712909153438\n",
      "Step 2146: 569,261 Ft/m² +14,702,593 Ft, error: 1106.9873296254343\n",
      "Step 2147: 569,210 Ft/m² +14,706,612 Ft, error: 1106.903463516528\n",
      "Step 2148: 569,160 Ft/m² +14,710,628 Ft, error: 1106.8196924807255\n",
      "Step 2149: 569,109 Ft/m² +14,714,643 Ft, error: 1106.7360164102492\n",
      "Step 2150: 569,058 Ft/m² +14,718,654 Ft, error: 1106.6524351974424\n",
      "Step 2151: 569,008 Ft/m² +14,722,664 Ft, error: 1106.5689487347734\n",
      "Step 2152: 568,957 Ft/m² +14,726,671 Ft, error: 1106.485556914831\n",
      "Step 2153: 568,906 Ft/m² +14,730,676 Ft, error: 1106.4022596303219\n",
      "Step 2154: 568,856 Ft/m² +14,734,679 Ft, error: 1106.319056774082\n",
      "Step 2155: 568,805 Ft/m² +14,738,680 Ft, error: 1106.2359482390614\n",
      "Step 2156: 568,755 Ft/m² +14,742,678 Ft, error: 1106.1529339183373\n",
      "Step 2157: 568,704 Ft/m² +14,746,674 Ft, error: 1106.0700137051049\n",
      "Step 2158: 568,654 Ft/m² +14,750,668 Ft, error: 1105.9871874926798\n",
      "Step 2159: 568,603 Ft/m² +14,754,659 Ft, error: 1105.904455174502\n",
      "Step 2160: 568,553 Ft/m² +14,758,648 Ft, error: 1105.8218166441281\n",
      "Step 2161: 568,502 Ft/m² +14,762,635 Ft, error: 1105.7392717952387\n",
      "Step 2162: 568,452 Ft/m² +14,766,620 Ft, error: 1105.6568205216345\n",
      "Step 2163: 568,402 Ft/m² +14,770,602 Ft, error: 1105.574462717233\n",
      "Step 2164: 568,351 Ft/m² +14,774,583 Ft, error: 1105.4921982760786\n",
      "Step 2165: 568,301 Ft/m² +14,778,560 Ft, error: 1105.4100270923282\n",
      "Step 2166: 568,251 Ft/m² +14,782,536 Ft, error: 1105.327949060265\n",
      "Step 2167: 568,201 Ft/m² +14,786,509 Ft, error: 1105.2459640742884\n",
      "Step 2168: 568,150 Ft/m² +14,790,481 Ft, error: 1105.164072028919\n",
      "Step 2169: 568,100 Ft/m² +14,794,449 Ft, error: 1105.0822728187966\n",
      "Step 2170: 568,050 Ft/m² +14,798,416 Ft, error: 1105.0005663386785\n",
      "Step 2171: 568,000 Ft/m² +14,802,381 Ft, error: 1104.918952483447\n",
      "Step 2172: 567,950 Ft/m² +14,806,343 Ft, error: 1104.8374311480977\n",
      "Step 2173: 567,900 Ft/m² +14,810,303 Ft, error: 1104.7560022277457\n",
      "Step 2174: 567,850 Ft/m² +14,814,260 Ft, error: 1104.6746656176306\n",
      "Step 2175: 567,800 Ft/m² +14,818,216 Ft, error: 1104.5934212131026\n",
      "Step 2176: 567,750 Ft/m² +14,822,169 Ft, error: 1104.512268909637\n",
      "Step 2177: 567,700 Ft/m² +14,826,120 Ft, error: 1104.4312086028244\n",
      "Step 2178: 567,650 Ft/m² +14,830,068 Ft, error: 1104.3502401883763\n",
      "Step 2179: 567,600 Ft/m² +14,834,015 Ft, error: 1104.2693635621185\n",
      "Step 2180: 567,550 Ft/m² +14,837,959 Ft, error: 1104.1885786199987\n",
      "Step 2181: 567,501 Ft/m² +14,841,901 Ft, error: 1104.1078852580815\n",
      "Step 2182: 567,451 Ft/m² +14,845,841 Ft, error: 1104.027283372547\n",
      "Step 2183: 567,401 Ft/m² +14,849,778 Ft, error: 1103.9467728596965\n",
      "Step 2184: 567,351 Ft/m² +14,853,713 Ft, error: 1103.8663536159465\n",
      "Step 2185: 567,302 Ft/m² +14,857,646 Ft, error: 1103.7860255378318\n",
      "Step 2186: 567,252 Ft/m² +14,861,577 Ft, error: 1103.7057885220036\n",
      "Step 2187: 567,202 Ft/m² +14,865,506 Ft, error: 1103.6256424652327\n",
      "Step 2188: 567,153 Ft/m² +14,869,432 Ft, error: 1103.545587264404\n",
      "Step 2189: 567,103 Ft/m² +14,873,356 Ft, error: 1103.4656228165204\n",
      "Step 2190: 567,054 Ft/m² +14,877,278 Ft, error: 1103.3857490187027\n",
      "Step 2191: 567,004 Ft/m² +14,881,198 Ft, error: 1103.3059657681865\n",
      "Step 2192: 566,954 Ft/m² +14,885,115 Ft, error: 1103.2262729623249\n",
      "Step 2193: 566,905 Ft/m² +14,889,031 Ft, error: 1103.1466704985862\n",
      "Step 2194: 566,856 Ft/m² +14,892,944 Ft, error: 1103.0671582745574\n",
      "Step 2195: 566,806 Ft/m² +14,896,854 Ft, error: 1102.9877361879394\n",
      "Step 2196: 566,757 Ft/m² +14,900,763 Ft, error: 1102.9084041365495\n",
      "Step 2197: 566,707 Ft/m² +14,904,669 Ft, error: 1102.8291620183222\n",
      "Step 2198: 566,658 Ft/m² +14,908,573 Ft, error: 1102.7500097313048\n",
      "Step 2199: 566,609 Ft/m² +14,912,475 Ft, error: 1102.670947173664\n",
      "Step 2200: 566,559 Ft/m² +14,916,375 Ft, error: 1102.5919742436793\n",
      "Step 2201: 566,510 Ft/m² +14,920,273 Ft, error: 1102.5130908397448\n",
      "Step 2202: 566,461 Ft/m² +14,924,168 Ft, error: 1102.4342968603721\n",
      "Step 2203: 566,412 Ft/m² +14,928,061 Ft, error: 1102.3555922041874\n",
      "Step 2204: 566,363 Ft/m² +14,931,952 Ft, error: 1102.2769767699308\n",
      "Step 2205: 566,313 Ft/m² +14,935,841 Ft, error: 1102.1984504564573\n",
      "Step 2206: 566,264 Ft/m² +14,939,727 Ft, error: 1102.1200131627365\n",
      "Step 2207: 566,215 Ft/m² +14,943,611 Ft, error: 1102.0416647878556\n",
      "Step 2208: 566,166 Ft/m² +14,947,493 Ft, error: 1101.9634052310107\n",
      "Step 2209: 566,117 Ft/m² +14,951,373 Ft, error: 1101.8852343915157\n",
      "Step 2210: 566,068 Ft/m² +14,955,251 Ft, error: 1101.8071521687993\n",
      "Step 2211: 566,019 Ft/m² +14,959,126 Ft, error: 1101.7291584624015\n",
      "Step 2212: 565,970 Ft/m² +14,963,000 Ft, error: 1101.6512531719773\n",
      "Step 2213: 565,921 Ft/m² +14,966,871 Ft, error: 1101.573436197298\n",
      "Step 2214: 565,872 Ft/m² +14,970,740 Ft, error: 1101.4957074382437\n",
      "Step 2215: 565,823 Ft/m² +14,974,606 Ft, error: 1101.418066794812\n",
      "Step 2216: 565,775 Ft/m² +14,978,471 Ft, error: 1101.3405141671121\n",
      "Step 2217: 565,726 Ft/m² +14,982,333 Ft, error: 1101.2630494553664\n",
      "Step 2218: 565,677 Ft/m² +14,986,193 Ft, error: 1101.185672559911\n",
      "Step 2219: 565,628 Ft/m² +14,990,051 Ft, error: 1101.1083833811954\n",
      "Step 2220: 565,580 Ft/m² +14,993,907 Ft, error: 1101.0311818197795\n",
      "Step 2221: 565,531 Ft/m² +14,997,760 Ft, error: 1100.9540677763398\n",
      "Step 2222: 565,482 Ft/m² +15,001,612 Ft, error: 1100.8770411516628\n",
      "Step 2223: 565,434 Ft/m² +15,005,461 Ft, error: 1100.8001018466466\n",
      "Step 2224: 565,385 Ft/m² +15,009,308 Ft, error: 1100.723249762305\n",
      "Step 2225: 565,336 Ft/m² +15,013,153 Ft, error: 1100.6464847997613\n",
      "Step 2226: 565,288 Ft/m² +15,016,995 Ft, error: 1100.5698068602505\n",
      "Step 2227: 565,239 Ft/m² +15,020,836 Ft, error: 1100.4932158451222\n",
      "Step 2228: 565,191 Ft/m² +15,024,674 Ft, error: 1100.416711655836\n",
      "Step 2229: 565,142 Ft/m² +15,028,510 Ft, error: 1100.3402941939637\n",
      "Step 2230: 565,094 Ft/m² +15,032,344 Ft, error: 1100.2639633611882\n",
      "Step 2231: 565,045 Ft/m² +15,036,176 Ft, error: 1100.187719059304\n",
      "Step 2232: 564,997 Ft/m² +15,040,005 Ft, error: 1100.111561190218\n",
      "Step 2233: 564,949 Ft/m² +15,043,833 Ft, error: 1100.0354896559463\n",
      "Step 2234: 564,900 Ft/m² +15,047,658 Ft, error: 1099.9595043586176\n",
      "Step 2235: 564,852 Ft/m² +15,051,481 Ft, error: 1099.883605200472\n",
      "Step 2236: 564,804 Ft/m² +15,055,302 Ft, error: 1099.807792083858\n",
      "Step 2237: 564,755 Ft/m² +15,059,121 Ft, error: 1099.7320649112378\n",
      "Step 2238: 564,707 Ft/m² +15,062,937 Ft, error: 1099.656423585182\n",
      "Step 2239: 564,659 Ft/m² +15,066,752 Ft, error: 1099.5808680083721\n",
      "Step 2240: 564,611 Ft/m² +15,070,564 Ft, error: 1099.5053980836014\n",
      "Step 2241: 564,563 Ft/m² +15,074,374 Ft, error: 1099.4300137137707\n",
      "Step 2242: 564,514 Ft/m² +15,078,182 Ft, error: 1099.3547148018936\n",
      "Step 2243: 564,466 Ft/m² +15,081,988 Ft, error: 1099.279501251092\n",
      "Step 2244: 564,418 Ft/m² +15,085,791 Ft, error: 1099.2043729645977\n",
      "Step 2245: 564,370 Ft/m² +15,089,593 Ft, error: 1099.129329845753\n",
      "Step 2246: 564,322 Ft/m² +15,093,392 Ft, error: 1099.0543717980104\n",
      "Step 2247: 564,274 Ft/m² +15,097,189 Ft, error: 1098.9794987249288\n",
      "Step 2248: 564,226 Ft/m² +15,100,984 Ft, error: 1098.9047105301784\n",
      "Step 2249: 564,178 Ft/m² +15,104,777 Ft, error: 1098.8300071175408\n",
      "Step 2250: 564,130 Ft/m² +15,108,568 Ft, error: 1098.7553883909027\n",
      "Step 2251: 564,083 Ft/m² +15,112,356 Ft, error: 1098.680854254262\n",
      "Step 2252: 564,035 Ft/m² +15,116,143 Ft, error: 1098.6064046117244\n",
      "Step 2253: 563,987 Ft/m² +15,119,927 Ft, error: 1098.5320393675063\n",
      "Step 2254: 563,939 Ft/m² +15,123,709 Ft, error: 1098.4577584259291\n",
      "Step 2255: 563,891 Ft/m² +15,127,489 Ft, error: 1098.383561691427\n",
      "Step 2256: 563,844 Ft/m² +15,131,267 Ft, error: 1098.3094490685398\n",
      "Step 2257: 563,796 Ft/m² +15,135,043 Ft, error: 1098.235420461915\n",
      "Step 2258: 563,748 Ft/m² +15,138,816 Ft, error: 1098.1614757763107\n",
      "Step 2259: 563,701 Ft/m² +15,142,587 Ft, error: 1098.0876149165908\n",
      "Step 2260: 563,653 Ft/m² +15,146,357 Ft, error: 1098.0138377877279\n",
      "Step 2261: 563,605 Ft/m² +15,150,124 Ft, error: 1097.940144294802\n",
      "Step 2262: 563,558 Ft/m² +15,153,889 Ft, error: 1097.866534343002\n",
      "Step 2263: 563,510 Ft/m² +15,157,652 Ft, error: 1097.793007837621\n",
      "Step 2264: 563,463 Ft/m² +15,161,412 Ft, error: 1097.7195646840642\n",
      "Step 2265: 563,415 Ft/m² +15,165,171 Ft, error: 1097.6462047878401\n",
      "Step 2266: 563,368 Ft/m² +15,168,927 Ft, error: 1097.5729280545654\n",
      "Step 2267: 563,320 Ft/m² +15,172,682 Ft, error: 1097.4997343899652\n",
      "Step 2268: 563,273 Ft/m² +15,176,434 Ft, error: 1097.4266236998692\n",
      "Step 2269: 563,225 Ft/m² +15,180,184 Ft, error: 1097.3535958902162\n",
      "Step 2270: 563,178 Ft/m² +15,183,932 Ft, error: 1097.28065086705\n",
      "Step 2271: 563,131 Ft/m² +15,187,678 Ft, error: 1097.207788536522\n",
      "Step 2272: 563,083 Ft/m² +15,191,421 Ft, error: 1097.1350088048878\n",
      "Step 2273: 563,036 Ft/m² +15,195,163 Ft, error: 1097.0623115785122\n",
      "Step 2274: 562,989 Ft/m² +15,198,902 Ft, error: 1096.989696763864\n",
      "Step 2275: 562,942 Ft/m² +15,202,640 Ft, error: 1096.91716426752\n",
      "Step 2276: 562,894 Ft/m² +15,206,375 Ft, error: 1096.8447139961602\n",
      "Step 2277: 562,847 Ft/m² +15,210,108 Ft, error: 1096.7723458565733\n",
      "Step 2278: 562,800 Ft/m² +15,213,839 Ft, error: 1096.7000597556512\n",
      "Step 2279: 562,753 Ft/m² +15,217,568 Ft, error: 1096.6278556003936\n",
      "Step 2280: 562,706 Ft/m² +15,221,295 Ft, error: 1096.5557332979026\n",
      "Step 2281: 562,659 Ft/m² +15,225,019 Ft, error: 1096.4836927553893\n",
      "Step 2282: 562,612 Ft/m² +15,228,742 Ft, error: 1096.4117338801677\n",
      "Step 2283: 562,565 Ft/m² +15,232,462 Ft, error: 1096.3398565796572\n",
      "Step 2284: 562,518 Ft/m² +15,236,180 Ft, error: 1096.268060761382\n",
      "Step 2285: 562,471 Ft/m² +15,239,897 Ft, error: 1096.196346332972\n",
      "Step 2286: 562,424 Ft/m² +15,243,611 Ft, error: 1096.1247132021606\n",
      "Step 2287: 562,377 Ft/m² +15,247,323 Ft, error: 1096.0531612767873\n",
      "Step 2288: 562,330 Ft/m² +15,251,032 Ft, error: 1095.9816904647935\n",
      "Step 2289: 562,283 Ft/m² +15,254,740 Ft, error: 1095.9103006742287\n",
      "Step 2290: 562,236 Ft/m² +15,258,446 Ft, error: 1095.8389918132443\n",
      "Step 2291: 562,189 Ft/m² +15,262,149 Ft, error: 1095.7677637900945\n",
      "Step 2292: 562,143 Ft/m² +15,265,851 Ft, error: 1095.6966165131414\n",
      "Step 2293: 562,096 Ft/m² +15,269,550 Ft, error: 1095.625549890847\n",
      "Step 2294: 562,049 Ft/m² +15,273,248 Ft, error: 1095.55456383178\n",
      "Step 2295: 562,003 Ft/m² +15,276,943 Ft, error: 1095.4836582446087\n",
      "Step 2296: 561,956 Ft/m² +15,280,636 Ft, error: 1095.4128330381127\n",
      "Step 2297: 561,909 Ft/m² +15,284,327 Ft, error: 1095.3420881211655\n",
      "Step 2298: 561,863 Ft/m² +15,288,016 Ft, error: 1095.2714234027512\n",
      "Step 2299: 561,816 Ft/m² +15,291,702 Ft, error: 1095.200838791953\n",
      "Step 2300: 561,769 Ft/m² +15,295,387 Ft, error: 1095.1303341979592\n",
      "Step 2301: 561,723 Ft/m² +15,299,070 Ft, error: 1095.0599095300602\n",
      "Step 2302: 561,676 Ft/m² +15,302,750 Ft, error: 1094.9895646976495\n",
      "Step 2303: 561,630 Ft/m² +15,306,429 Ft, error: 1094.9192996102229\n",
      "Step 2304: 561,583 Ft/m² +15,310,105 Ft, error: 1094.8491141773807\n",
      "Step 2305: 561,537 Ft/m² +15,313,779 Ft, error: 1094.7790083088214\n",
      "Step 2306: 561,491 Ft/m² +15,317,452 Ft, error: 1094.7089819143505\n",
      "Step 2307: 561,444 Ft/m² +15,321,122 Ft, error: 1094.6390349038736\n",
      "Step 2308: 561,398 Ft/m² +15,324,790 Ft, error: 1094.5691671873976\n",
      "Step 2309: 561,352 Ft/m² +15,328,456 Ft, error: 1094.4993786750335\n",
      "Step 2310: 561,305 Ft/m² +15,332,120 Ft, error: 1094.429669276993\n",
      "Step 2311: 561,259 Ft/m² +15,335,781 Ft, error: 1094.3600389035894\n",
      "Step 2312: 561,213 Ft/m² +15,339,441 Ft, error: 1094.2904874652388\n",
      "Step 2313: 561,166 Ft/m² +15,343,099 Ft, error: 1094.2210148724569\n",
      "Step 2314: 561,120 Ft/m² +15,346,754 Ft, error: 1094.1516210358632\n",
      "Step 2315: 561,074 Ft/m² +15,350,408 Ft, error: 1094.0823058661765\n",
      "Step 2316: 561,028 Ft/m² +15,354,059 Ft, error: 1094.0130692742184\n",
      "Step 2317: 560,982 Ft/m² +15,357,709 Ft, error: 1093.94391117091\n",
      "Step 2318: 560,936 Ft/m² +15,361,356 Ft, error: 1093.8748314672757\n",
      "Step 2319: 560,890 Ft/m² +15,365,001 Ft, error: 1093.8058300744374\n",
      "Step 2320: 560,844 Ft/m² +15,368,644 Ft, error: 1093.7369069036213\n",
      "Step 2321: 560,798 Ft/m² +15,372,285 Ft, error: 1093.6680618661505\n",
      "Step 2322: 560,752 Ft/m² +15,375,924 Ft, error: 1093.5992948734533\n",
      "Step 2323: 560,706 Ft/m² +15,379,561 Ft, error: 1093.5306058370552\n",
      "Step 2324: 560,660 Ft/m² +15,383,196 Ft, error: 1093.4619946685807\n",
      "Step 2325: 560,614 Ft/m² +15,386,829 Ft, error: 1093.3934612797586\n",
      "Step 2326: 560,568 Ft/m² +15,390,460 Ft, error: 1093.3250055824149\n",
      "Step 2327: 560,522 Ft/m² +15,394,088 Ft, error: 1093.2566274884762\n",
      "Step 2328: 560,476 Ft/m² +15,397,715 Ft, error: 1093.1883269099687\n",
      "Step 2329: 560,430 Ft/m² +15,401,340 Ft, error: 1093.1201037590185\n",
      "Step 2330: 560,385 Ft/m² +15,404,962 Ft, error: 1093.0519579478525\n",
      "Step 2331: 560,339 Ft/m² +15,408,583 Ft, error: 1092.9838893887945\n",
      "Step 2332: 560,293 Ft/m² +15,412,201 Ft, error: 1092.9158979942702\n",
      "Step 2333: 560,247 Ft/m² +15,415,818 Ft, error: 1092.8479836768038\n",
      "Step 2334: 560,202 Ft/m² +15,419,432 Ft, error: 1092.7801463490173\n",
      "Step 2335: 560,156 Ft/m² +15,423,044 Ft, error: 1092.712385923635\n",
      "Step 2336: 560,110 Ft/m² +15,426,654 Ft, error: 1092.6447023134763\n",
      "Step 2337: 560,065 Ft/m² +15,430,263 Ft, error: 1092.5770954314607\n",
      "Step 2338: 560,019 Ft/m² +15,433,869 Ft, error: 1092.5095651906083\n",
      "Step 2339: 559,974 Ft/m² +15,437,473 Ft, error: 1092.4421115040363\n",
      "Step 2340: 559,928 Ft/m² +15,441,075 Ft, error: 1092.3747342849595\n",
      "Step 2341: 559,883 Ft/m² +15,444,675 Ft, error: 1092.3074334466935\n",
      "Step 2342: 559,837 Ft/m² +15,448,273 Ft, error: 1092.2402089026502\n",
      "Step 2343: 559,792 Ft/m² +15,451,869 Ft, error: 1092.17306056634\n",
      "Step 2344: 559,746 Ft/m² +15,455,463 Ft, error: 1092.1059883513706\n",
      "Step 2345: 559,701 Ft/m² +15,459,055 Ft, error: 1092.0389921714498\n",
      "Step 2346: 559,656 Ft/m² +15,462,644 Ft, error: 1091.9720719403826\n",
      "Step 2347: 559,610 Ft/m² +15,466,232 Ft, error: 1091.90522757207\n",
      "Step 2348: 559,565 Ft/m² +15,469,818 Ft, error: 1091.838458980512\n",
      "Step 2349: 559,520 Ft/m² +15,473,402 Ft, error: 1091.7717660798055\n",
      "Step 2350: 559,474 Ft/m² +15,476,983 Ft, error: 1091.7051487841454\n",
      "Step 2351: 559,429 Ft/m² +15,480,563 Ft, error: 1091.638607007824\n",
      "Step 2352: 559,384 Ft/m² +15,484,141 Ft, error: 1091.57214066523\n",
      "Step 2353: 559,339 Ft/m² +15,487,716 Ft, error: 1091.5057496708496\n",
      "Step 2354: 559,294 Ft/m² +15,491,290 Ft, error: 1091.4394339392659\n",
      "Step 2355: 559,248 Ft/m² +15,494,861 Ft, error: 1091.373193385158\n",
      "Step 2356: 559,203 Ft/m² +15,498,431 Ft, error: 1091.3070279233036\n",
      "Step 2357: 559,158 Ft/m² +15,501,998 Ft, error: 1091.2409374685744\n",
      "Step 2358: 559,113 Ft/m² +15,505,564 Ft, error: 1091.174921935942\n",
      "Step 2359: 559,068 Ft/m² +15,509,127 Ft, error: 1091.1089812404718\n",
      "Step 2360: 559,023 Ft/m² +15,512,689 Ft, error: 1091.0431152973256\n",
      "Step 2361: 558,978 Ft/m² +15,516,248 Ft, error: 1090.9773240217626\n",
      "Step 2362: 558,933 Ft/m² +15,519,805 Ft, error: 1090.9116073291364\n",
      "Step 2363: 558,888 Ft/m² +15,523,361 Ft, error: 1090.8459651348987\n",
      "Step 2364: 558,843 Ft/m² +15,526,914 Ft, error: 1090.7803973545958\n",
      "Step 2365: 558,799 Ft/m² +15,530,466 Ft, error: 1090.7149039038693\n",
      "Step 2366: 558,754 Ft/m² +15,534,015 Ft, error: 1090.6494846984576\n",
      "Step 2367: 558,709 Ft/m² +15,537,562 Ft, error: 1090.5841396541937\n",
      "Step 2368: 558,664 Ft/m² +15,541,108 Ft, error: 1090.5188686870051\n",
      "Step 2369: 558,619 Ft/m² +15,544,651 Ft, error: 1090.453671712918\n",
      "Step 2370: 558,574 Ft/m² +15,548,192 Ft, error: 1090.388548648052\n",
      "Step 2371: 558,530 Ft/m² +15,551,731 Ft, error: 1090.3234994086185\n",
      "Step 2372: 558,485 Ft/m² +15,555,269 Ft, error: 1090.258523910928\n",
      "Step 2373: 558,440 Ft/m² +15,558,804 Ft, error: 1090.1936220713865\n",
      "Step 2374: 558,396 Ft/m² +15,562,337 Ft, error: 1090.1287938064906\n",
      "Step 2375: 558,351 Ft/m² +15,565,868 Ft, error: 1090.064039032835\n",
      "Step 2376: 558,306 Ft/m² +15,569,398 Ft, error: 1089.9993576671081\n",
      "Step 2377: 558,262 Ft/m² +15,572,925 Ft, error: 1089.9347496260907\n",
      "Step 2378: 558,217 Ft/m² +15,576,450 Ft, error: 1089.8702148266627\n",
      "Step 2379: 558,173 Ft/m² +15,579,974 Ft, error: 1089.805753185793\n",
      "Step 2380: 558,128 Ft/m² +15,583,495 Ft, error: 1089.7413646205478\n",
      "Step 2381: 558,084 Ft/m² +15,587,014 Ft, error: 1089.6770490480865\n",
      "Step 2382: 558,039 Ft/m² +15,590,531 Ft, error: 1089.6128063856615\n",
      "Step 2383: 557,995 Ft/m² +15,594,047 Ft, error: 1089.5486365506208\n",
      "Step 2384: 557,951 Ft/m² +15,597,560 Ft, error: 1089.4845394604044\n",
      "Step 2385: 557,906 Ft/m² +15,601,071 Ft, error: 1089.4205150325463\n",
      "Step 2386: 557,862 Ft/m² +15,604,580 Ft, error: 1089.3565631846757\n",
      "Step 2387: 557,818 Ft/m² +15,608,088 Ft, error: 1089.2926838345124\n",
      "Step 2388: 557,773 Ft/m² +15,611,593 Ft, error: 1089.228876899872\n",
      "Step 2389: 557,729 Ft/m² +15,615,096 Ft, error: 1089.1651422986608\n",
      "Step 2390: 557,685 Ft/m² +15,618,598 Ft, error: 1089.1014799488805\n",
      "Step 2391: 557,640 Ft/m² +15,622,097 Ft, error: 1089.037889768625\n",
      "Step 2392: 557,596 Ft/m² +15,625,595 Ft, error: 1088.97437167608\n",
      "Step 2393: 557,552 Ft/m² +15,629,090 Ft, error: 1088.9109255895248\n",
      "Step 2394: 557,508 Ft/m² +15,632,583 Ft, error: 1088.8475514273307\n",
      "Step 2395: 557,464 Ft/m² +15,636,075 Ft, error: 1088.7842491079637\n",
      "Step 2396: 557,420 Ft/m² +15,639,564 Ft, error: 1088.7210185499798\n",
      "Step 2397: 557,376 Ft/m² +15,643,052 Ft, error: 1088.657859672028\n",
      "Step 2398: 557,332 Ft/m² +15,646,537 Ft, error: 1088.5947723928498\n",
      "Step 2399: 557,288 Ft/m² +15,650,021 Ft, error: 1088.5317566312792\n",
      "Step 2400: 557,244 Ft/m² +15,653,502 Ft, error: 1088.4688123062413\n",
      "Step 2401: 557,200 Ft/m² +15,656,982 Ft, error: 1088.4059393367525\n",
      "Step 2402: 557,156 Ft/m² +15,660,459 Ft, error: 1088.3431376419242\n",
      "Step 2403: 557,112 Ft/m² +15,663,935 Ft, error: 1088.280407140955\n",
      "Step 2404: 557,068 Ft/m² +15,667,409 Ft, error: 1088.2177477531395\n",
      "Step 2405: 557,024 Ft/m² +15,670,880 Ft, error: 1088.1551593978609\n",
      "Step 2406: 556,980 Ft/m² +15,674,350 Ft, error: 1088.092641994595\n",
      "Step 2407: 556,936 Ft/m² +15,677,818 Ft, error: 1088.030195462907\n",
      "Step 2408: 556,892 Ft/m² +15,681,284 Ft, error: 1087.9678197224573\n",
      "Step 2409: 556,849 Ft/m² +15,684,748 Ft, error: 1087.905514692992\n",
      "Step 2410: 556,805 Ft/m² +15,688,209 Ft, error: 1087.8432802943537\n",
      "Step 2411: 556,761 Ft/m² +15,691,669 Ft, error: 1087.7811164464713\n",
      "Step 2412: 556,718 Ft/m² +15,695,127 Ft, error: 1087.719023069367\n",
      "Step 2413: 556,674 Ft/m² +15,698,583 Ft, error: 1087.6570000831528\n",
      "Step 2414: 556,630 Ft/m² +15,702,037 Ft, error: 1087.595047408032\n",
      "Step 2415: 556,587 Ft/m² +15,705,489 Ft, error: 1087.533164964298\n",
      "Step 2416: 556,543 Ft/m² +15,708,939 Ft, error: 1087.4713526723335\n",
      "Step 2417: 556,499 Ft/m² +15,712,387 Ft, error: 1087.4096104526134\n",
      "Step 2418: 556,456 Ft/m² +15,715,834 Ft, error: 1087.3479382257012\n",
      "Step 2419: 556,412 Ft/m² +15,719,278 Ft, error: 1087.2863359122507\n",
      "Step 2420: 556,369 Ft/m² +15,722,720 Ft, error: 1087.2248034330066\n",
      "Step 2421: 556,325 Ft/m² +15,726,161 Ft, error: 1087.1633407088023\n",
      "Step 2422: 556,282 Ft/m² +15,729,599 Ft, error: 1087.1019476605622\n",
      "Step 2423: 556,238 Ft/m² +15,733,035 Ft, error: 1087.0406242092977\n",
      "Step 2424: 556,195 Ft/m² +15,736,470 Ft, error: 1086.9793702761135\n",
      "Step 2425: 556,152 Ft/m² +15,739,902 Ft, error: 1086.918185782202\n",
      "Step 2426: 556,108 Ft/m² +15,743,333 Ft, error: 1086.8570706488435\n",
      "Step 2427: 556,065 Ft/m² +15,746,762 Ft, error: 1086.7960247974086\n",
      "Step 2428: 556,022 Ft/m² +15,750,188 Ft, error: 1086.7350481493584\n",
      "Step 2429: 555,978 Ft/m² +15,753,613 Ft, error: 1086.6741406262408\n",
      "Step 2430: 555,935 Ft/m² +15,757,036 Ft, error: 1086.613302149695\n",
      "Step 2431: 555,892 Ft/m² +15,760,457 Ft, error: 1086.5525326414477\n",
      "Step 2432: 555,849 Ft/m² +15,763,876 Ft, error: 1086.4918320233135\n",
      "Step 2433: 555,805 Ft/m² +15,767,293 Ft, error: 1086.4312002171962\n",
      "Step 2434: 555,762 Ft/m² +15,770,708 Ft, error: 1086.37063714509\n",
      "Step 2435: 555,719 Ft/m² +15,774,121 Ft, error: 1086.3101427290749\n",
      "Step 2436: 555,676 Ft/m² +15,777,532 Ft, error: 1086.2497168913205\n",
      "Step 2437: 555,633 Ft/m² +15,780,941 Ft, error: 1086.1893595540844\n",
      "Step 2438: 555,590 Ft/m² +15,784,349 Ft, error: 1086.1290706397124\n",
      "Step 2439: 555,547 Ft/m² +15,787,754 Ft, error: 1086.0688500706385\n",
      "Step 2440: 555,504 Ft/m² +15,791,157 Ft, error: 1086.008697769385\n",
      "Step 2441: 555,461 Ft/m² +15,794,559 Ft, error: 1085.9486136585601\n",
      "Step 2442: 555,418 Ft/m² +15,797,959 Ft, error: 1085.888597660862\n",
      "Step 2443: 555,375 Ft/m² +15,801,356 Ft, error: 1085.828649699075\n",
      "Step 2444: 555,332 Ft/m² +15,804,752 Ft, error: 1085.7687696960722\n",
      "Step 2445: 555,289 Ft/m² +15,808,146 Ft, error: 1085.7089575748137\n",
      "Step 2446: 555,246 Ft/m² +15,811,538 Ft, error: 1085.649213258347\n",
      "Step 2447: 555,203 Ft/m² +15,814,928 Ft, error: 1085.589536669805\n",
      "Step 2448: 555,161 Ft/m² +15,818,316 Ft, error: 1085.529927732411\n",
      "Step 2449: 555,118 Ft/m² +15,821,702 Ft, error: 1085.4703863694726\n",
      "Step 2450: 555,075 Ft/m² +15,825,086 Ft, error: 1085.4109125043865\n",
      "Step 2451: 555,032 Ft/m² +15,828,468 Ft, error: 1085.3515060606328\n",
      "Step 2452: 554,990 Ft/m² +15,831,849 Ft, error: 1085.2921669617836\n",
      "Step 2453: 554,947 Ft/m² +15,835,227 Ft, error: 1085.232895131493\n",
      "Step 2454: 554,904 Ft/m² +15,838,604 Ft, error: 1085.1736904935037\n",
      "Step 2455: 554,862 Ft/m² +15,841,978 Ft, error: 1085.114552971645\n",
      "Step 2456: 554,819 Ft/m² +15,845,351 Ft, error: 1085.0554824898309\n",
      "Step 2457: 554,776 Ft/m² +15,848,722 Ft, error: 1084.9964789720643\n",
      "Step 2458: 554,734 Ft/m² +15,852,091 Ft, error: 1084.9375423424324\n",
      "Step 2459: 554,691 Ft/m² +15,855,458 Ft, error: 1084.8786725251073\n",
      "Step 2460: 554,649 Ft/m² +15,858,823 Ft, error: 1084.8198694443508\n",
      "Step 2461: 554,606 Ft/m² +15,862,186 Ft, error: 1084.7611330245072\n",
      "Step 2462: 554,564 Ft/m² +15,865,547 Ft, error: 1084.7024631900072\n",
      "Step 2463: 554,521 Ft/m² +15,868,907 Ft, error: 1084.6438598653688\n",
      "Step 2464: 554,479 Ft/m² +15,872,264 Ft, error: 1084.5853229751942\n",
      "Step 2465: 554,436 Ft/m² +15,875,620 Ft, error: 1084.5268524441706\n",
      "Step 2466: 554,394 Ft/m² +15,878,973 Ft, error: 1084.468448197072\n",
      "Step 2467: 554,352 Ft/m² +15,882,325 Ft, error: 1084.4101101587578\n",
      "Step 2468: 554,309 Ft/m² +15,885,675 Ft, error: 1084.3518382541695\n",
      "Step 2469: 554,267 Ft/m² +15,889,023 Ft, error: 1084.2936324083369\n",
      "Step 2470: 554,225 Ft/m² +15,892,369 Ft, error: 1084.2354925463746\n",
      "Step 2471: 554,183 Ft/m² +15,895,713 Ft, error: 1084.1774185934812\n",
      "Step 2472: 554,140 Ft/m² +15,899,055 Ft, error: 1084.1194104749402\n",
      "Step 2473: 554,098 Ft/m² +15,902,395 Ft, error: 1084.0614681161187\n",
      "Step 2474: 554,056 Ft/m² +15,905,734 Ft, error: 1084.0035914424714\n",
      "Step 2475: 554,014 Ft/m² +15,909,070 Ft, error: 1083.9457803795337\n",
      "Step 2476: 553,972 Ft/m² +15,912,405 Ft, error: 1083.888034852928\n",
      "Step 2477: 553,929 Ft/m² +15,915,738 Ft, error: 1083.830354788362\n",
      "Step 2478: 553,887 Ft/m² +15,919,069 Ft, error: 1083.7727401116235\n",
      "Step 2479: 553,845 Ft/m² +15,922,398 Ft, error: 1083.715190748589\n",
      "Step 2480: 553,803 Ft/m² +15,925,725 Ft, error: 1083.6577066252153\n",
      "Step 2481: 553,761 Ft/m² +15,929,050 Ft, error: 1083.6002876675452\n",
      "Step 2482: 553,719 Ft/m² +15,932,373 Ft, error: 1083.5429338017059\n",
      "Step 2483: 553,677 Ft/m² +15,935,695 Ft, error: 1083.4856449539059\n",
      "Step 2484: 553,635 Ft/m² +15,939,015 Ft, error: 1083.4284210504409\n",
      "Step 2485: 553,593 Ft/m² +15,942,332 Ft, error: 1083.371262017686\n",
      "Step 2486: 553,551 Ft/m² +15,945,648 Ft, error: 1083.314167782102\n",
      "Step 2487: 553,510 Ft/m² +15,948,962 Ft, error: 1083.2571382702342\n",
      "Step 2488: 553,468 Ft/m² +15,952,274 Ft, error: 1083.2001734087096\n",
      "Step 2489: 553,426 Ft/m² +15,955,584 Ft, error: 1083.1432731242385\n",
      "Step 2490: 553,384 Ft/m² +15,958,893 Ft, error: 1083.0864373436132\n",
      "Step 2491: 553,342 Ft/m² +15,962,199 Ft, error: 1083.0296659937121\n",
      "Step 2492: 553,300 Ft/m² +15,965,503 Ft, error: 1082.9729590014933\n",
      "Step 2493: 553,259 Ft/m² +15,968,806 Ft, error: 1082.9163162939994\n",
      "Step 2494: 553,217 Ft/m² +15,972,107 Ft, error: 1082.8597377983565\n",
      "Step 2495: 553,175 Ft/m² +15,975,406 Ft, error: 1082.8032234417701\n",
      "Step 2496: 553,134 Ft/m² +15,978,703 Ft, error: 1082.746773151532\n",
      "Step 2497: 553,092 Ft/m² +15,981,998 Ft, error: 1082.6903868550137\n",
      "Step 2498: 553,050 Ft/m² +15,985,291 Ft, error: 1082.63406447967\n",
      "Step 2499: 553,009 Ft/m² +15,988,583 Ft, error: 1082.5778059530385\n",
      "Step 2500: 552,967 Ft/m² +15,991,873 Ft, error: 1082.5216112027379\n",
      "Step 2501: 552,926 Ft/m² +15,995,160 Ft, error: 1082.4654801564698\n",
      "Step 2502: 552,884 Ft/m² +15,998,446 Ft, error: 1082.4094127420171\n",
      "Step 2503: 552,843 Ft/m² +16,001,730 Ft, error: 1082.3534088872455\n",
      "Step 2504: 552,801 Ft/m² +16,005,012 Ft, error: 1082.2974685201013\n",
      "Step 2505: 552,760 Ft/m² +16,008,293 Ft, error: 1082.2415915686133\n",
      "Step 2506: 552,718 Ft/m² +16,011,571 Ft, error: 1082.1857779608915\n",
      "Step 2507: 552,677 Ft/m² +16,014,848 Ft, error: 1082.130027625128\n",
      "Step 2508: 552,635 Ft/m² +16,018,122 Ft, error: 1082.0743404895943\n",
      "Step 2509: 552,594 Ft/m² +16,021,395 Ft, error: 1082.0187164826473\n",
      "Step 2510: 552,553 Ft/m² +16,024,666 Ft, error: 1081.9631555327207\n",
      "Step 2511: 552,511 Ft/m² +16,027,935 Ft, error: 1081.9076575683312\n",
      "Step 2512: 552,470 Ft/m² +16,031,202 Ft, error: 1081.8522225180782\n",
      "Step 2513: 552,429 Ft/m² +16,034,468 Ft, error: 1081.7968503106376\n",
      "Step 2514: 552,388 Ft/m² +16,037,731 Ft, error: 1081.7415408747713\n",
      "Step 2515: 552,346 Ft/m² +16,040,993 Ft, error: 1081.6862941393188\n",
      "Step 2516: 552,305 Ft/m² +16,044,253 Ft, error: 1081.6311100332005\n",
      "Step 2517: 552,264 Ft/m² +16,047,511 Ft, error: 1081.575988485419\n",
      "Step 2518: 552,223 Ft/m² +16,050,767 Ft, error: 1081.520929425056\n",
      "Step 2519: 552,182 Ft/m² +16,054,022 Ft, error: 1081.4659327812726\n",
      "Step 2520: 552,141 Ft/m² +16,057,274 Ft, error: 1081.4109984833137\n",
      "Step 2521: 552,100 Ft/m² +16,060,525 Ft, error: 1081.3561264605007\n",
      "Step 2522: 552,059 Ft/m² +16,063,774 Ft, error: 1081.3013166422375\n",
      "Step 2523: 552,018 Ft/m² +16,067,020 Ft, error: 1081.2465689580056\n",
      "Step 2524: 551,976 Ft/m² +16,070,266 Ft, error: 1081.19188333737\n",
      "Step 2525: 551,936 Ft/m² +16,073,509 Ft, error: 1081.1372597099728\n",
      "Step 2526: 551,895 Ft/m² +16,076,750 Ft, error: 1081.0826980055365\n",
      "Step 2527: 551,854 Ft/m² +16,079,990 Ft, error: 1081.028198153864\n",
      "Step 2528: 551,813 Ft/m² +16,083,228 Ft, error: 1080.9737600848355\n",
      "Step 2529: 551,772 Ft/m² +16,086,464 Ft, error: 1080.9193837284138\n",
      "Step 2530: 551,731 Ft/m² +16,089,698 Ft, error: 1080.86506901464\n",
      "Step 2531: 551,690 Ft/m² +16,092,930 Ft, error: 1080.8108158736334\n",
      "Step 2532: 551,649 Ft/m² +16,096,160 Ft, error: 1080.7566242355936\n",
      "Step 2533: 551,608 Ft/m² +16,099,389 Ft, error: 1080.7024940307986\n",
      "Step 2534: 551,568 Ft/m² +16,102,616 Ft, error: 1080.6484251896056\n",
      "Step 2535: 551,527 Ft/m² +16,105,841 Ft, error: 1080.594417642452\n",
      "Step 2536: 551,486 Ft/m² +16,109,064 Ft, error: 1080.540471319853\n",
      "Step 2537: 551,445 Ft/m² +16,112,285 Ft, error: 1080.4865861524022\n",
      "Step 2538: 551,405 Ft/m² +16,115,505 Ft, error: 1080.4327620707713\n",
      "Step 2539: 551,364 Ft/m² +16,118,722 Ft, error: 1080.3789990057137\n",
      "Step 2540: 551,323 Ft/m² +16,121,938 Ft, error: 1080.325296888058\n",
      "Step 2541: 551,283 Ft/m² +16,125,152 Ft, error: 1080.2716556487117\n",
      "Step 2542: 551,242 Ft/m² +16,128,364 Ft, error: 1080.2180752186632\n",
      "Step 2543: 551,202 Ft/m² +16,131,574 Ft, error: 1080.1645555289758\n",
      "Step 2544: 551,161 Ft/m² +16,134,783 Ft, error: 1080.1110965107935\n",
      "Step 2545: 551,121 Ft/m² +16,137,990 Ft, error: 1080.0576980953358\n",
      "Step 2546: 551,080 Ft/m² +16,141,195 Ft, error: 1080.0043602139035\n",
      "Step 2547: 551,040 Ft/m² +16,144,398 Ft, error: 1079.9510827978722\n",
      "Step 2548: 550,999 Ft/m² +16,147,599 Ft, error: 1079.8978657786959\n",
      "Step 2549: 550,959 Ft/m² +16,150,798 Ft, error: 1079.8447090879085\n",
      "Step 2550: 550,918 Ft/m² +16,153,996 Ft, error: 1079.79161265712\n",
      "Step 2551: 550,878 Ft/m² +16,157,192 Ft, error: 1079.7385764180165\n",
      "Step 2552: 550,838 Ft/m² +16,160,386 Ft, error: 1079.6856003023636\n",
      "Step 2553: 550,797 Ft/m² +16,163,578 Ft, error: 1079.6326842420042\n",
      "Step 2554: 550,757 Ft/m² +16,166,768 Ft, error: 1079.579828168857\n",
      "Step 2555: 550,717 Ft/m² +16,169,957 Ft, error: 1079.5270320149184\n",
      "Step 2556: 550,676 Ft/m² +16,173,144 Ft, error: 1079.4742957122635\n",
      "Step 2557: 550,636 Ft/m² +16,176,329 Ft, error: 1079.4216191930416\n",
      "Step 2558: 550,596 Ft/m² +16,179,512 Ft, error: 1079.369002389482\n",
      "Step 2559: 550,556 Ft/m² +16,182,693 Ft, error: 1079.3164452338876\n",
      "Step 2560: 550,515 Ft/m² +16,185,873 Ft, error: 1079.2639476586414\n",
      "Step 2561: 550,475 Ft/m² +16,189,050 Ft, error: 1079.2115095962\n",
      "Step 2562: 550,435 Ft/m² +16,192,226 Ft, error: 1079.159130979099\n",
      "Step 2563: 550,395 Ft/m² +16,195,400 Ft, error: 1079.1068117399482\n",
      "Step 2564: 550,355 Ft/m² +16,198,573 Ft, error: 1079.0545518114363\n",
      "Step 2565: 550,315 Ft/m² +16,201,743 Ft, error: 1079.0023511263257\n",
      "Step 2566: 550,275 Ft/m² +16,204,912 Ft, error: 1078.9502096174579\n",
      "Step 2567: 550,235 Ft/m² +16,208,079 Ft, error: 1078.898127217747\n",
      "Step 2568: 550,195 Ft/m² +16,211,244 Ft, error: 1078.8461038601865\n",
      "Step 2569: 550,155 Ft/m² +16,214,407 Ft, error: 1078.794139477845\n",
      "Step 2570: 550,115 Ft/m² +16,217,569 Ft, error: 1078.7422340038643\n",
      "Step 2571: 550,075 Ft/m² +16,220,729 Ft, error: 1078.6903873714668\n",
      "Step 2572: 550,035 Ft/m² +16,223,887 Ft, error: 1078.6385995139456\n",
      "Step 2573: 549,995 Ft/m² +16,227,043 Ft, error: 1078.5868703646722\n",
      "Step 2574: 549,955 Ft/m² +16,230,197 Ft, error: 1078.5351998570954\n",
      "Step 2575: 549,915 Ft/m² +16,233,350 Ft, error: 1078.4835879247335\n",
      "Step 2576: 549,876 Ft/m² +16,236,501 Ft, error: 1078.4320345011877\n",
      "Step 2577: 549,836 Ft/m² +16,239,650 Ft, error: 1078.3805395201277\n",
      "Step 2578: 549,796 Ft/m² +16,242,797 Ft, error: 1078.3291029153033\n",
      "Step 2579: 549,756 Ft/m² +16,245,942 Ft, error: 1078.2777246205362\n",
      "Step 2580: 549,717 Ft/m² +16,249,086 Ft, error: 1078.226404569725\n",
      "Step 2581: 549,677 Ft/m² +16,252,228 Ft, error: 1078.1751426968428\n",
      "Step 2582: 549,637 Ft/m² +16,255,368 Ft, error: 1078.1239389359373\n",
      "Step 2583: 549,598 Ft/m² +16,258,506 Ft, error: 1078.0727932211307\n",
      "Step 2584: 549,558 Ft/m² +16,261,643 Ft, error: 1078.0217054866212\n",
      "Step 2585: 549,518 Ft/m² +16,264,778 Ft, error: 1077.9706756666785\n",
      "Step 2586: 549,479 Ft/m² +16,267,911 Ft, error: 1077.9197036956507\n",
      "Step 2587: 549,439 Ft/m² +16,271,042 Ft, error: 1077.8687895079584\n",
      "Step 2588: 549,400 Ft/m² +16,274,171 Ft, error: 1077.8179330380965\n",
      "Step 2589: 549,360 Ft/m² +16,277,299 Ft, error: 1077.767134220634\n",
      "Step 2590: 549,320 Ft/m² +16,280,425 Ft, error: 1077.716392990215\n",
      "Step 2591: 549,281 Ft/m² +16,283,549 Ft, error: 1077.6657092815565\n",
      "Step 2592: 549,242 Ft/m² +16,286,671 Ft, error: 1077.6150830294507\n",
      "Step 2593: 549,202 Ft/m² +16,289,792 Ft, error: 1077.5645141687626\n",
      "Step 2594: 549,163 Ft/m² +16,292,911 Ft, error: 1077.5140026344322\n",
      "Step 2595: 549,123 Ft/m² +16,296,028 Ft, error: 1077.4635483614727\n",
      "Step 2596: 549,084 Ft/m² +16,299,143 Ft, error: 1077.4131512849706\n",
      "Step 2597: 549,045 Ft/m² +16,302,257 Ft, error: 1077.3628113400857\n",
      "Step 2598: 549,005 Ft/m² +16,305,368 Ft, error: 1077.3125284620523\n",
      "Step 2599: 548,966 Ft/m² +16,308,478 Ft, error: 1077.2623025861787\n",
      "Step 2600: 548,927 Ft/m² +16,311,587 Ft, error: 1077.2121336478444\n",
      "Step 2601: 548,887 Ft/m² +16,314,693 Ft, error: 1077.1620215825037\n",
      "Step 2602: 548,848 Ft/m² +16,317,798 Ft, error: 1077.1119663256836\n",
      "Step 2603: 548,809 Ft/m² +16,320,901 Ft, error: 1077.0619678129844\n",
      "Step 2604: 548,770 Ft/m² +16,324,002 Ft, error: 1077.01202598008\n",
      "Step 2605: 548,731 Ft/m² +16,327,101 Ft, error: 1076.9621407627144\n",
      "Step 2606: 548,691 Ft/m² +16,330,199 Ft, error: 1076.9123120967085\n",
      "Step 2607: 548,652 Ft/m² +16,333,295 Ft, error: 1076.8625399179537\n",
      "Step 2608: 548,613 Ft/m² +16,336,389 Ft, error: 1076.812824162414\n",
      "Step 2609: 548,574 Ft/m² +16,339,481 Ft, error: 1076.7631647661256\n",
      "Step 2610: 548,535 Ft/m² +16,342,572 Ft, error: 1076.7135616651994\n",
      "Step 2611: 548,496 Ft/m² +16,345,661 Ft, error: 1076.6640147958171\n",
      "Step 2612: 548,457 Ft/m² +16,348,748 Ft, error: 1076.6145240942326\n",
      "Step 2613: 548,418 Ft/m² +16,351,833 Ft, error: 1076.5650894967725\n",
      "Step 2614: 548,379 Ft/m² +16,354,917 Ft, error: 1076.5157109398358\n",
      "Step 2615: 548,340 Ft/m² +16,357,999 Ft, error: 1076.4663883598926\n",
      "Step 2616: 548,301 Ft/m² +16,361,079 Ft, error: 1076.4171216934856\n",
      "Step 2617: 548,262 Ft/m² +16,364,158 Ft, error: 1076.36791087723\n",
      "Step 2618: 548,223 Ft/m² +16,367,234 Ft, error: 1076.3187558478128\n",
      "Step 2619: 548,185 Ft/m² +16,370,309 Ft, error: 1076.269656541992\n",
      "Step 2620: 548,146 Ft/m² +16,373,382 Ft, error: 1076.220612896597\n",
      "Step 2621: 548,107 Ft/m² +16,376,454 Ft, error: 1076.1716248485316\n",
      "Step 2622: 548,068 Ft/m² +16,379,523 Ft, error: 1076.122692334767\n",
      "Step 2623: 548,029 Ft/m² +16,382,591 Ft, error: 1076.0738152923486\n",
      "Step 2624: 547,991 Ft/m² +16,385,657 Ft, error: 1076.0249936583912\n",
      "Step 2625: 547,952 Ft/m² +16,388,722 Ft, error: 1075.9762273700849\n",
      "Step 2626: 547,913 Ft/m² +16,391,785 Ft, error: 1075.927516364686\n",
      "Step 2627: 547,874 Ft/m² +16,394,846 Ft, error: 1075.8788605795248\n",
      "Step 2628: 547,836 Ft/m² +16,397,905 Ft, error: 1075.8302599520016\n",
      "Step 2629: 547,797 Ft/m² +16,400,962 Ft, error: 1075.7817144195892\n",
      "Step 2630: 547,759 Ft/m² +16,404,018 Ft, error: 1075.7332239198286\n",
      "Step 2631: 547,720 Ft/m² +16,407,072 Ft, error: 1075.6847883903338\n",
      "Step 2632: 547,681 Ft/m² +16,410,125 Ft, error: 1075.63640776879\n",
      "Step 2633: 547,643 Ft/m² +16,413,175 Ft, error: 1075.5880819929505\n",
      "Step 2634: 547,604 Ft/m² +16,416,224 Ft, error: 1075.5398110006408\n",
      "Step 2635: 547,566 Ft/m² +16,419,271 Ft, error: 1075.4915947297568\n",
      "Step 2636: 547,527 Ft/m² +16,422,317 Ft, error: 1075.4434331182658\n",
      "Step 2637: 547,489 Ft/m² +16,425,360 Ft, error: 1075.395326104202\n",
      "Step 2638: 547,450 Ft/m² +16,428,402 Ft, error: 1075.3472736256738\n",
      "Step 2639: 547,412 Ft/m² +16,431,442 Ft, error: 1075.2992756208582\n",
      "Step 2640: 547,374 Ft/m² +16,434,481 Ft, error: 1075.251332028001\n",
      "Step 2641: 547,335 Ft/m² +16,437,518 Ft, error: 1075.20344278542\n",
      "Step 2642: 547,297 Ft/m² +16,440,553 Ft, error: 1075.1556078315023\n",
      "Step 2643: 547,258 Ft/m² +16,443,586 Ft, error: 1075.1078271047045\n",
      "Step 2644: 547,220 Ft/m² +16,446,618 Ft, error: 1075.0601005435526\n",
      "Step 2645: 547,182 Ft/m² +16,449,648 Ft, error: 1075.0124280866441\n",
      "Step 2646: 547,144 Ft/m² +16,452,676 Ft, error: 1074.9648096726426\n",
      "Step 2647: 547,105 Ft/m² +16,455,702 Ft, error: 1074.9172452402852\n",
      "Step 2648: 547,067 Ft/m² +16,458,727 Ft, error: 1074.8697347283771\n",
      "Step 2649: 547,029 Ft/m² +16,461,750 Ft, error: 1074.8222780757912\n",
      "Step 2650: 546,991 Ft/m² +16,464,771 Ft, error: 1074.774875221471\n",
      "Step 2651: 546,953 Ft/m² +16,467,791 Ft, error: 1074.72752610443\n",
      "Step 2652: 546,914 Ft/m² +16,470,809 Ft, error: 1074.68023066375\n",
      "Step 2653: 546,876 Ft/m² +16,473,825 Ft, error: 1074.632988838582\n",
      "Step 2654: 546,838 Ft/m² +16,476,839 Ft, error: 1074.5858005681446\n",
      "Step 2655: 546,800 Ft/m² +16,479,852 Ft, error: 1074.538665791728\n",
      "Step 2656: 546,762 Ft/m² +16,482,863 Ft, error: 1074.4915844486884\n",
      "Step 2657: 546,724 Ft/m² +16,485,873 Ft, error: 1074.4445564784537\n",
      "Step 2658: 546,686 Ft/m² +16,488,880 Ft, error: 1074.397581820518\n",
      "Step 2659: 546,648 Ft/m² +16,491,886 Ft, error: 1074.3506604144457\n",
      "Step 2660: 546,610 Ft/m² +16,494,890 Ft, error: 1074.303792199867\n",
      "Step 2661: 546,572 Ft/m² +16,497,893 Ft, error: 1074.2569771164844\n",
      "Step 2662: 546,534 Ft/m² +16,500,894 Ft, error: 1074.2102151040665\n",
      "Step 2663: 546,496 Ft/m² +16,503,893 Ft, error: 1074.1635061024501\n",
      "Step 2664: 546,458 Ft/m² +16,506,890 Ft, error: 1074.1168500515407\n",
      "Step 2665: 546,421 Ft/m² +16,509,886 Ft, error: 1074.070246891311\n",
      "Step 2666: 546,383 Ft/m² +16,512,880 Ft, error: 1074.0236965618035\n",
      "Step 2667: 546,345 Ft/m² +16,515,872 Ft, error: 1073.977199003127\n",
      "Step 2668: 546,307 Ft/m² +16,518,863 Ft, error: 1073.9307541554604\n",
      "Step 2669: 546,269 Ft/m² +16,521,852 Ft, error: 1073.8843619590477\n",
      "Step 2670: 546,232 Ft/m² +16,524,839 Ft, error: 1073.8380223542026\n",
      "Step 2671: 546,194 Ft/m² +16,527,825 Ft, error: 1073.791735281304\n",
      "Step 2672: 546,156 Ft/m² +16,530,809 Ft, error: 1073.7455006808032\n",
      "Step 2673: 546,118 Ft/m² +16,533,791 Ft, error: 1073.6993184932123\n",
      "Step 2674: 546,081 Ft/m² +16,536,771 Ft, error: 1073.6531886591174\n",
      "Step 2675: 546,043 Ft/m² +16,539,750 Ft, error: 1073.6071111191684\n",
      "Step 2676: 546,006 Ft/m² +16,542,727 Ft, error: 1073.561085814082\n",
      "Step 2677: 545,968 Ft/m² +16,545,703 Ft, error: 1073.5151126846436\n",
      "Step 2678: 545,930 Ft/m² +16,548,676 Ft, error: 1073.4691916717063\n",
      "Step 2679: 545,893 Ft/m² +16,551,648 Ft, error: 1073.423322716188\n",
      "Step 2680: 545,855 Ft/m² +16,554,619 Ft, error: 1073.3775057590763\n",
      "Step 2681: 545,818 Ft/m² +16,557,587 Ft, error: 1073.331740741423\n",
      "Step 2682: 545,780 Ft/m² +16,560,554 Ft, error: 1073.2860276043484\n",
      "Step 2683: 545,743 Ft/m² +16,563,520 Ft, error: 1073.240366289039\n",
      "Step 2684: 545,705 Ft/m² +16,566,483 Ft, error: 1073.1947567367479\n",
      "Step 2685: 545,668 Ft/m² +16,569,445 Ft, error: 1073.149198888797\n",
      "Step 2686: 545,630 Ft/m² +16,572,405 Ft, error: 1073.10369268657\n",
      "Step 2687: 545,593 Ft/m² +16,575,364 Ft, error: 1073.0582380715207\n",
      "Step 2688: 545,556 Ft/m² +16,578,321 Ft, error: 1073.0128349851693\n",
      "Step 2689: 545,518 Ft/m² +16,581,276 Ft, error: 1072.9674833691001\n",
      "Step 2690: 545,481 Ft/m² +16,584,230 Ft, error: 1072.9221831649652\n",
      "Step 2691: 545,444 Ft/m² +16,587,181 Ft, error: 1072.8769343144834\n",
      "Step 2692: 545,406 Ft/m² +16,590,132 Ft, error: 1072.831736759437\n",
      "Step 2693: 545,369 Ft/m² +16,593,080 Ft, error: 1072.7865904416776\n",
      "Step 2694: 545,332 Ft/m² +16,596,027 Ft, error: 1072.7414953031207\n",
      "Step 2695: 545,295 Ft/m² +16,598,972 Ft, error: 1072.6964512857467\n",
      "Step 2696: 545,257 Ft/m² +16,601,916 Ft, error: 1072.6514583316057\n",
      "Step 2697: 545,220 Ft/m² +16,604,858 Ft, error: 1072.6065163828082\n",
      "Step 2698: 545,183 Ft/m² +16,607,798 Ft, error: 1072.5616253815344\n",
      "Step 2699: 545,146 Ft/m² +16,610,736 Ft, error: 1072.516785270029\n",
      "Step 2700: 545,109 Ft/m² +16,613,673 Ft, error: 1072.4719959906006\n",
      "Step 2701: 545,072 Ft/m² +16,616,608 Ft, error: 1072.427257485626\n",
      "Step 2702: 545,035 Ft/m² +16,619,542 Ft, error: 1072.3825696975446\n",
      "Step 2703: 544,998 Ft/m² +16,622,474 Ft, error: 1072.337932568863\n",
      "Step 2704: 544,961 Ft/m² +16,625,404 Ft, error: 1072.2933460421514\n",
      "Step 2705: 544,924 Ft/m² +16,628,332 Ft, error: 1072.2488100600463\n",
      "Step 2706: 544,887 Ft/m² +16,631,259 Ft, error: 1072.204324565249\n",
      "Step 2707: 544,850 Ft/m² +16,634,185 Ft, error: 1072.1598895005259\n",
      "Step 2708: 544,813 Ft/m² +16,637,108 Ft, error: 1072.115504808707\n",
      "Step 2709: 544,776 Ft/m² +16,640,030 Ft, error: 1072.071170432688\n",
      "Step 2710: 544,739 Ft/m² +16,642,950 Ft, error: 1072.0268863154315\n",
      "Step 2711: 544,702 Ft/m² +16,645,869 Ft, error: 1071.98265239996\n",
      "Step 2712: 544,665 Ft/m² +16,648,786 Ft, error: 1071.9384686293654\n",
      "Step 2713: 544,628 Ft/m² +16,651,701 Ft, error: 1071.8943349468007\n",
      "Step 2714: 544,591 Ft/m² +16,654,615 Ft, error: 1071.8502512954856\n",
      "Step 2715: 544,555 Ft/m² +16,657,527 Ft, error: 1071.8062176187013\n",
      "Step 2716: 544,518 Ft/m² +16,660,437 Ft, error: 1071.762233859797\n",
      "Step 2717: 544,481 Ft/m² +16,663,346 Ft, error: 1071.7182999621837\n",
      "Step 2718: 544,444 Ft/m² +16,666,253 Ft, error: 1071.6744158693377\n",
      "Step 2719: 544,408 Ft/m² +16,669,158 Ft, error: 1071.6305815247983\n",
      "Step 2720: 544,371 Ft/m² +16,672,062 Ft, error: 1071.5867968721698\n",
      "Step 2721: 544,334 Ft/m² +16,674,964 Ft, error: 1071.5430618551193\n",
      "Step 2722: 544,298 Ft/m² +16,677,864 Ft, error: 1071.499376417378\n",
      "Step 2723: 544,261 Ft/m² +16,680,763 Ft, error: 1071.4557405027426\n",
      "Step 2724: 544,224 Ft/m² +16,683,660 Ft, error: 1071.4121540550723\n",
      "Step 2725: 544,188 Ft/m² +16,686,556 Ft, error: 1071.3686170182891\n",
      "Step 2726: 544,151 Ft/m² +16,689,449 Ft, error: 1071.3251293363792\n",
      "Step 2727: 544,115 Ft/m² +16,692,342 Ft, error: 1071.2816909533929\n",
      "Step 2728: 544,078 Ft/m² +16,695,232 Ft, error: 1071.2383018134437\n",
      "Step 2729: 544,042 Ft/m² +16,698,121 Ft, error: 1071.194961860708\n",
      "Step 2730: 544,005 Ft/m² +16,701,008 Ft, error: 1071.151671039426\n",
      "Step 2731: 543,969 Ft/m² +16,703,894 Ft, error: 1071.1084292939\n",
      "Step 2732: 543,932 Ft/m² +16,706,778 Ft, error: 1071.0652365684966\n",
      "Step 2733: 543,896 Ft/m² +16,709,661 Ft, error: 1071.0220928076449\n",
      "Step 2734: 543,859 Ft/m² +16,712,541 Ft, error: 1070.9789979558384\n",
      "Step 2735: 543,823 Ft/m² +16,715,420 Ft, error: 1070.9359519576315\n",
      "Step 2736: 543,787 Ft/m² +16,718,298 Ft, error: 1070.8929547576427\n",
      "Step 2737: 543,750 Ft/m² +16,721,174 Ft, error: 1070.850006300552\n",
      "Step 2738: 543,714 Ft/m² +16,724,048 Ft, error: 1070.807106531104\n",
      "Step 2739: 543,678 Ft/m² +16,726,921 Ft, error: 1070.7642553941048\n",
      "Step 2740: 543,641 Ft/m² +16,729,792 Ft, error: 1070.7214528344223\n",
      "Step 2741: 543,605 Ft/m² +16,732,661 Ft, error: 1070.6786987969886\n",
      "Step 2742: 543,569 Ft/m² +16,735,529 Ft, error: 1070.6359932267978\n",
      "Step 2743: 543,533 Ft/m² +16,738,395 Ft, error: 1070.593336068905\n",
      "Step 2744: 543,496 Ft/m² +16,741,259 Ft, error: 1070.5507272684295\n",
      "Step 2745: 543,460 Ft/m² +16,744,122 Ft, error: 1070.508166770552\n",
      "Step 2746: 543,424 Ft/m² +16,746,983 Ft, error: 1070.4656545205137\n",
      "Step 2747: 543,388 Ft/m² +16,749,843 Ft, error: 1070.423190463621\n",
      "Step 2748: 543,352 Ft/m² +16,752,701 Ft, error: 1070.3807745452407\n",
      "Step 2749: 543,316 Ft/m² +16,755,557 Ft, error: 1070.3384067108\n",
      "Step 2750: 543,280 Ft/m² +16,758,412 Ft, error: 1070.2960869057913\n",
      "Step 2751: 543,244 Ft/m² +16,761,265 Ft, error: 1070.2538150757666\n",
      "Step 2752: 543,208 Ft/m² +16,764,117 Ft, error: 1070.211591166339\n",
      "Step 2753: 543,172 Ft/m² +16,766,966 Ft, error: 1070.169415123186\n",
      "Step 2754: 543,136 Ft/m² +16,769,815 Ft, error: 1070.127286892043\n",
      "Step 2755: 543,100 Ft/m² +16,772,661 Ft, error: 1070.0852064187106\n",
      "Step 2756: 543,064 Ft/m² +16,775,506 Ft, error: 1070.043173649048\n",
      "Step 2757: 543,028 Ft/m² +16,778,350 Ft, error: 1070.0011885289778\n",
      "Step 2758: 542,992 Ft/m² +16,781,192 Ft, error: 1069.9592510044822\n",
      "Step 2759: 542,956 Ft/m² +16,784,032 Ft, error: 1069.917361021605\n",
      "Step 2760: 542,920 Ft/m² +16,786,870 Ft, error: 1069.8755185264538\n",
      "Step 2761: 542,884 Ft/m² +16,789,707 Ft, error: 1069.8337234651929\n",
      "Step 2762: 542,848 Ft/m² +16,792,543 Ft, error: 1069.7919757840511\n",
      "Step 2763: 542,813 Ft/m² +16,795,377 Ft, error: 1069.7502754293164\n",
      "Step 2764: 542,777 Ft/m² +16,798,209 Ft, error: 1069.7086223473382\n",
      "Step 2765: 542,741 Ft/m² +16,801,039 Ft, error: 1069.6670164845268\n",
      "Step 2766: 542,705 Ft/m² +16,803,868 Ft, error: 1069.6254577873528\n",
      "Step 2767: 542,669 Ft/m² +16,806,696 Ft, error: 1069.5839462023484\n",
      "Step 2768: 542,634 Ft/m² +16,809,521 Ft, error: 1069.542481676105\n",
      "Step 2769: 542,598 Ft/m² +16,812,345 Ft, error: 1069.5010641552765\n",
      "Step 2770: 542,562 Ft/m² +16,815,168 Ft, error: 1069.459693586576\n",
      "Step 2771: 542,527 Ft/m² +16,817,989 Ft, error: 1069.4183699167763\n",
      "Step 2772: 542,491 Ft/m² +16,820,808 Ft, error: 1069.3770930927121\n",
      "Step 2773: 542,456 Ft/m² +16,823,626 Ft, error: 1069.335863061278\n",
      "Step 2774: 542,420 Ft/m² +16,826,442 Ft, error: 1069.2946797694271\n",
      "Step 2775: 542,384 Ft/m² +16,829,257 Ft, error: 1069.2535431641759\n",
      "Step 2776: 542,349 Ft/m² +16,832,070 Ft, error: 1069.2124531925974\n",
      "Step 2777: 542,313 Ft/m² +16,834,881 Ft, error: 1069.1714098018274\n",
      "Step 2778: 542,278 Ft/m² +16,837,691 Ft, error: 1069.13041293906\n",
      "Step 2779: 542,242 Ft/m² +16,840,499 Ft, error: 1069.08946255155\n",
      "Step 2780: 542,207 Ft/m² +16,843,305 Ft, error: 1069.0485585866113\n",
      "Step 2781: 542,171 Ft/m² +16,846,110 Ft, error: 1069.0077009916179\n",
      "Step 2782: 542,136 Ft/m² +16,848,914 Ft, error: 1068.9668897140045\n",
      "Step 2783: 542,101 Ft/m² +16,851,716 Ft, error: 1068.9261247012628\n",
      "Step 2784: 542,065 Ft/m² +16,854,516 Ft, error: 1068.8854059009464\n",
      "Step 2785: 542,030 Ft/m² +16,857,315 Ft, error: 1068.8447332606668\n",
      "Step 2786: 541,994 Ft/m² +16,860,112 Ft, error: 1068.804106728097\n",
      "Step 2787: 541,959 Ft/m² +16,862,907 Ft, error: 1068.7635262509668\n",
      "Step 2788: 541,924 Ft/m² +16,865,701 Ft, error: 1068.7229917770671\n",
      "Step 2789: 541,888 Ft/m² +16,868,493 Ft, error: 1068.6825032542465\n",
      "Step 2790: 541,853 Ft/m² +16,871,284 Ft, error: 1068.6420606304143\n",
      "Step 2791: 541,818 Ft/m² +16,874,073 Ft, error: 1068.6016638535377\n",
      "Step 2792: 541,783 Ft/m² +16,876,861 Ft, error: 1068.5613128716427\n",
      "Step 2793: 541,748 Ft/m² +16,879,646 Ft, error: 1068.521007632815\n",
      "Step 2794: 541,712 Ft/m² +16,882,431 Ft, error: 1068.4807480852\n",
      "Step 2795: 541,677 Ft/m² +16,885,214 Ft, error: 1068.4405341769998\n",
      "Step 2796: 541,642 Ft/m² +16,887,995 Ft, error: 1068.400365856476\n",
      "Step 2797: 541,607 Ft/m² +16,890,775 Ft, error: 1068.3602430719495\n",
      "Step 2798: 541,572 Ft/m² +16,893,553 Ft, error: 1068.320165771799\n",
      "Step 2799: 541,537 Ft/m² +16,896,329 Ft, error: 1068.2801339044627\n",
      "Step 2800: 541,502 Ft/m² +16,899,104 Ft, error: 1068.2401474184362\n",
      "Step 2801: 541,467 Ft/m² +16,901,877 Ft, error: 1068.2002062622742\n",
      "Step 2802: 541,432 Ft/m² +16,904,649 Ft, error: 1068.1603103845887\n",
      "Step 2803: 541,397 Ft/m² +16,907,419 Ft, error: 1068.1204597340509\n",
      "Step 2804: 541,362 Ft/m² +16,910,188 Ft, error: 1068.0806542593912\n",
      "Step 2805: 541,327 Ft/m² +16,912,955 Ft, error: 1068.0408939093945\n",
      "Step 2806: 541,292 Ft/m² +16,915,721 Ft, error: 1068.0011786329092\n",
      "Step 2807: 541,257 Ft/m² +16,918,484 Ft, error: 1067.9615083788362\n",
      "Step 2808: 541,222 Ft/m² +16,921,247 Ft, error: 1067.9218830961372\n",
      "Step 2809: 541,187 Ft/m² +16,924,008 Ft, error: 1067.882302733832\n",
      "Step 2810: 541,152 Ft/m² +16,926,767 Ft, error: 1067.8427672409969\n",
      "Step 2811: 541,117 Ft/m² +16,929,525 Ft, error: 1067.8032765667672\n",
      "Step 2812: 541,082 Ft/m² +16,932,281 Ft, error: 1067.7638306603346\n",
      "Step 2813: 541,048 Ft/m² +16,935,035 Ft, error: 1067.7244294709492\n",
      "Step 2814: 541,013 Ft/m² +16,937,788 Ft, error: 1067.6850729479186\n",
      "Step 2815: 540,978 Ft/m² +16,940,540 Ft, error: 1067.645761040607\n",
      "Step 2816: 540,943 Ft/m² +16,943,289 Ft, error: 1067.6064936984378\n",
      "Step 2817: 540,908 Ft/m² +16,946,038 Ft, error: 1067.56727087089\n",
      "Step 2818: 540,874 Ft/m² +16,948,784 Ft, error: 1067.5280925075\n",
      "Step 2819: 540,839 Ft/m² +16,951,530 Ft, error: 1067.4889585578635\n",
      "Step 2820: 540,804 Ft/m² +16,954,273 Ft, error: 1067.4498689716306\n",
      "Step 2821: 540,770 Ft/m² +16,957,015 Ft, error: 1067.4108236985091\n",
      "Step 2822: 540,735 Ft/m² +16,959,756 Ft, error: 1067.371822688265\n",
      "Step 2823: 540,700 Ft/m² +16,962,495 Ft, error: 1067.3328658907212\n",
      "Step 2824: 540,666 Ft/m² +16,965,232 Ft, error: 1067.293953255756\n",
      "Step 2825: 540,631 Ft/m² +16,967,968 Ft, error: 1067.2550847333057\n",
      "Step 2826: 540,597 Ft/m² +16,970,702 Ft, error: 1067.2162602733626\n",
      "Step 2827: 540,562 Ft/m² +16,973,435 Ft, error: 1067.1774798259773\n",
      "Step 2828: 540,528 Ft/m² +16,976,166 Ft, error: 1067.138743341255\n",
      "Step 2829: 540,493 Ft/m² +16,978,896 Ft, error: 1067.100050769358\n",
      "Step 2830: 540,459 Ft/m² +16,981,624 Ft, error: 1067.061402060506\n",
      "Step 2831: 540,424 Ft/m² +16,984,351 Ft, error: 1067.0227971649754\n",
      "Step 2832: 540,390 Ft/m² +16,987,076 Ft, error: 1066.9842360330963\n",
      "Step 2833: 540,355 Ft/m² +16,989,799 Ft, error: 1066.9457186152579\n",
      "Step 2834: 540,321 Ft/m² +16,992,521 Ft, error: 1066.9072448619045\n",
      "Step 2835: 540,287 Ft/m² +16,995,241 Ft, error: 1066.868814723537\n",
      "Step 2836: 540,252 Ft/m² +16,997,960 Ft, error: 1066.830428150712\n",
      "Step 2837: 540,218 Ft/m² +17,000,678 Ft, error: 1066.7920850940418\n",
      "Step 2838: 540,184 Ft/m² +17,003,393 Ft, error: 1066.7537855041955\n",
      "Step 2839: 540,149 Ft/m² +17,006,108 Ft, error: 1066.7155293318983\n",
      "Step 2840: 540,115 Ft/m² +17,008,820 Ft, error: 1066.6773165279308\n",
      "Step 2841: 540,081 Ft/m² +17,011,531 Ft, error: 1066.6391470431288\n",
      "Step 2842: 540,047 Ft/m² +17,014,241 Ft, error: 1066.601020828385\n",
      "Step 2843: 540,012 Ft/m² +17,016,949 Ft, error: 1066.5629378346464\n",
      "Step 2844: 539,978 Ft/m² +17,019,656 Ft, error: 1066.5248980129174\n",
      "Step 2845: 539,944 Ft/m² +17,022,361 Ft, error: 1066.4869013142556\n",
      "Step 2846: 539,910 Ft/m² +17,025,064 Ft, error: 1066.4489476897768\n",
      "Step 2847: 539,876 Ft/m² +17,027,766 Ft, error: 1066.41103709065\n",
      "Step 2848: 539,841 Ft/m² +17,030,466 Ft, error: 1066.3731694681005\n",
      "Step 2849: 539,807 Ft/m² +17,033,165 Ft, error: 1066.3353447734091\n",
      "Step 2850: 539,773 Ft/m² +17,035,863 Ft, error: 1066.2975629579114\n",
      "Step 2851: 539,739 Ft/m² +17,038,558 Ft, error: 1066.2598239729978\n",
      "Step 2852: 539,705 Ft/m² +17,041,253 Ft, error: 1066.2221277701146\n",
      "Step 2853: 539,671 Ft/m² +17,043,945 Ft, error: 1066.1844743007628\n",
      "Step 2854: 539,637 Ft/m² +17,046,637 Ft, error: 1066.1468635164988\n",
      "Step 2855: 539,603 Ft/m² +17,049,326 Ft, error: 1066.1092953689335\n",
      "Step 2856: 539,569 Ft/m² +17,052,015 Ft, error: 1066.0717698097314\n",
      "Step 2857: 539,535 Ft/m² +17,054,701 Ft, error: 1066.0342867906143\n",
      "Step 2858: 539,501 Ft/m² +17,057,386 Ft, error: 1065.9968462633578\n",
      "Step 2859: 539,467 Ft/m² +17,060,070 Ft, error: 1065.9594481797913\n",
      "Step 2860: 539,433 Ft/m² +17,062,752 Ft, error: 1065.9220924917993\n",
      "Step 2861: 539,400 Ft/m² +17,065,433 Ft, error: 1065.88477915132\n",
      "Step 2862: 539,366 Ft/m² +17,068,112 Ft, error: 1065.8475081103495\n",
      "Step 2863: 539,332 Ft/m² +17,070,789 Ft, error: 1065.8102793209341\n",
      "Step 2864: 539,298 Ft/m² +17,073,465 Ft, error: 1065.7730927351763\n",
      "Step 2865: 539,264 Ft/m² +17,076,140 Ft, error: 1065.7359483052321\n",
      "Step 2866: 539,230 Ft/m² +17,078,813 Ft, error: 1065.6988459833137\n",
      "Step 2867: 539,197 Ft/m² +17,081,484 Ft, error: 1065.6617857216863\n",
      "Step 2868: 539,163 Ft/m² +17,084,154 Ft, error: 1065.624767472668\n",
      "Step 2869: 539,129 Ft/m² +17,086,822 Ft, error: 1065.5877911886323\n",
      "Step 2870: 539,096 Ft/m² +17,089,489 Ft, error: 1065.5508568220073\n",
      "Step 2871: 539,062 Ft/m² +17,092,155 Ft, error: 1065.5139643252735\n",
      "Step 2872: 539,028 Ft/m² +17,094,819 Ft, error: 1065.4771136509667\n",
      "Step 2873: 538,995 Ft/m² +17,097,481 Ft, error: 1065.4403047516741\n",
      "Step 2874: 538,961 Ft/m² +17,100,142 Ft, error: 1065.4035375800395\n",
      "Step 2875: 538,927 Ft/m² +17,102,801 Ft, error: 1065.3668120887596\n",
      "Step 2876: 538,894 Ft/m² +17,105,459 Ft, error: 1065.3301282305836\n",
      "Step 2877: 538,860 Ft/m² +17,108,115 Ft, error: 1065.293485958315\n",
      "Step 2878: 538,827 Ft/m² +17,110,770 Ft, error: 1065.2568852248107\n",
      "Step 2879: 538,793 Ft/m² +17,113,424 Ft, error: 1065.2203259829819\n",
      "Step 2880: 538,760 Ft/m² +17,116,075 Ft, error: 1065.1838081857916\n",
      "Step 2881: 538,726 Ft/m² +17,118,726 Ft, error: 1065.147331786257\n",
      "Step 2882: 538,693 Ft/m² +17,121,375 Ft, error: 1065.1108967374487\n",
      "Step 2883: 538,659 Ft/m² +17,124,022 Ft, error: 1065.0745029924906\n",
      "Step 2884: 538,626 Ft/m² +17,126,668 Ft, error: 1065.0381505045586\n",
      "Step 2885: 538,592 Ft/m² +17,129,312 Ft, error: 1065.001839226883\n",
      "Step 2886: 538,559 Ft/m² +17,131,955 Ft, error: 1064.9655691127473\n",
      "Step 2887: 538,525 Ft/m² +17,134,596 Ft, error: 1064.9293401154866\n",
      "Step 2888: 538,492 Ft/m² +17,137,236 Ft, error: 1064.8931521884895\n",
      "Step 2889: 538,459 Ft/m² +17,139,874 Ft, error: 1064.8570052851976\n",
      "Step 2890: 538,425 Ft/m² +17,142,511 Ft, error: 1064.8208993591054\n",
      "Step 2891: 538,392 Ft/m² +17,145,147 Ft, error: 1064.78483436376\n",
      "Step 2892: 538,359 Ft/m² +17,147,780 Ft, error: 1064.7488102527604\n",
      "Step 2893: 538,326 Ft/m² +17,150,413 Ft, error: 1064.7128269797595\n",
      "Step 2894: 538,292 Ft/m² +17,153,044 Ft, error: 1064.6768844984622\n",
      "Step 2895: 538,259 Ft/m² +17,155,673 Ft, error: 1064.6409827626255\n",
      "Step 2896: 538,226 Ft/m² +17,158,301 Ft, error: 1064.6051217260595\n",
      "Step 2897: 538,193 Ft/m² +17,160,927 Ft, error: 1064.569301342626\n",
      "Step 2898: 538,160 Ft/m² +17,163,552 Ft, error: 1064.53352156624\n",
      "Step 2899: 538,126 Ft/m² +17,166,176 Ft, error: 1064.4977823508668\n",
      "Step 2900: 538,093 Ft/m² +17,168,798 Ft, error: 1064.4620836505271\n",
      "Step 2901: 538,060 Ft/m² +17,171,418 Ft, error: 1064.42642541929\n",
      "Step 2902: 538,027 Ft/m² +17,174,037 Ft, error: 1064.3908076112793\n",
      "Step 2903: 537,994 Ft/m² +17,176,654 Ft, error: 1064.355230180671\n",
      "Step 2904: 537,961 Ft/m² +17,179,270 Ft, error: 1064.319693081691\n",
      "Step 2905: 537,928 Ft/m² +17,181,885 Ft, error: 1064.2841962686182\n",
      "Step 2906: 537,895 Ft/m² +17,184,498 Ft, error: 1064.2487396957831\n",
      "Step 2907: 537,862 Ft/m² +17,187,109 Ft, error: 1064.2133233175687\n",
      "Step 2908: 537,829 Ft/m² +17,189,720 Ft, error: 1064.1779470884096\n",
      "Step 2909: 537,796 Ft/m² +17,192,328 Ft, error: 1064.14261096279\n",
      "Step 2910: 537,763 Ft/m² +17,194,935 Ft, error: 1064.1073148952498\n",
      "Step 2911: 537,730 Ft/m² +17,197,541 Ft, error: 1064.0720588403751\n",
      "Step 2912: 537,697 Ft/m² +17,200,145 Ft, error: 1064.036842752809\n",
      "Step 2913: 537,664 Ft/m² +17,202,748 Ft, error: 1064.001666587242\n",
      "Step 2914: 537,631 Ft/m² +17,205,349 Ft, error: 1063.9665302984176\n",
      "Step 2915: 537,598 Ft/m² +17,207,949 Ft, error: 1063.9314338411293\n",
      "Step 2916: 537,566 Ft/m² +17,210,547 Ft, error: 1063.8963771702256\n",
      "Step 2917: 537,533 Ft/m² +17,213,144 Ft, error: 1063.8613602406\n",
      "Step 2918: 537,500 Ft/m² +17,215,739 Ft, error: 1063.826383007204\n",
      "Step 2919: 537,467 Ft/m² +17,218,333 Ft, error: 1063.7914454250345\n",
      "Step 2920: 537,434 Ft/m² +17,220,925 Ft, error: 1063.756547449142\n",
      "Step 2921: 537,402 Ft/m² +17,223,516 Ft, error: 1063.721689034629\n",
      "Step 2922: 537,369 Ft/m² +17,226,105 Ft, error: 1063.6868701366457\n",
      "Step 2923: 537,336 Ft/m² +17,228,693 Ft, error: 1063.6520907103957\n",
      "Step 2924: 537,304 Ft/m² +17,231,280 Ft, error: 1063.6173507111337\n",
      "Step 2925: 537,271 Ft/m² +17,233,865 Ft, error: 1063.5826500941632\n",
      "Step 2926: 537,238 Ft/m² +17,236,448 Ft, error: 1063.5479888148388\n",
      "Step 2927: 537,206 Ft/m² +17,239,030 Ft, error: 1063.5133668285662\n",
      "Step 2928: 537,173 Ft/m² +17,241,611 Ft, error: 1063.4787840908032\n",
      "Step 2929: 537,140 Ft/m² +17,244,190 Ft, error: 1063.444240557055\n",
      "Step 2930: 537,108 Ft/m² +17,246,768 Ft, error: 1063.409736182879\n",
      "Step 2931: 537,075 Ft/m² +17,249,344 Ft, error: 1063.3752709238834\n",
      "Step 2932: 537,043 Ft/m² +17,251,919 Ft, error: 1063.3408447357256\n",
      "Step 2933: 537,010 Ft/m² +17,254,492 Ft, error: 1063.3064575741128\n",
      "Step 2934: 536,978 Ft/m² +17,257,064 Ft, error: 1063.2721093948055\n",
      "Step 2935: 536,945 Ft/m² +17,259,634 Ft, error: 1063.2378001536108\n",
      "Step 2936: 536,913 Ft/m² +17,262,203 Ft, error: 1063.2035298063875\n",
      "Step 2937: 536,880 Ft/m² +17,264,771 Ft, error: 1063.1692983090431\n",
      "Step 2938: 536,848 Ft/m² +17,267,337 Ft, error: 1063.1351056175395\n",
      "Step 2939: 536,815 Ft/m² +17,269,901 Ft, error: 1063.1009516878817\n",
      "Step 2940: 536,783 Ft/m² +17,272,465 Ft, error: 1063.0668364761304\n",
      "Step 2941: 536,751 Ft/m² +17,275,026 Ft, error: 1063.0327599383922\n",
      "Step 2942: 536,718 Ft/m² +17,277,586 Ft, error: 1062.998722030827\n",
      "Step 2943: 536,686 Ft/m² +17,280,145 Ft, error: 1062.96472270964\n",
      "Step 2944: 536,654 Ft/m² +17,282,702 Ft, error: 1062.9307619310907\n",
      "Step 2945: 536,621 Ft/m² +17,285,258 Ft, error: 1062.8968396514856\n",
      "Step 2946: 536,589 Ft/m² +17,287,813 Ft, error: 1062.86295582718\n",
      "Step 2947: 536,557 Ft/m² +17,290,366 Ft, error: 1062.8291104145815\n",
      "Step 2948: 536,525 Ft/m² +17,292,917 Ft, error: 1062.7953033701444\n",
      "Step 2949: 536,492 Ft/m² +17,295,467 Ft, error: 1062.761534650373\n",
      "Step 2950: 536,460 Ft/m² +17,298,016 Ft, error: 1062.7278042118223\n",
      "Step 2951: 536,428 Ft/m² +17,300,563 Ft, error: 1062.6941120110966\n",
      "Step 2952: 536,396 Ft/m² +17,303,109 Ft, error: 1062.660458004845\n",
      "Step 2953: 536,364 Ft/m² +17,305,653 Ft, error: 1062.6268421497723\n",
      "Step 2954: 536,331 Ft/m² +17,308,196 Ft, error: 1062.5932644026273\n",
      "Step 2955: 536,299 Ft/m² +17,310,737 Ft, error: 1062.5597247202109\n",
      "Step 2956: 536,267 Ft/m² +17,313,277 Ft, error: 1062.5262230593714\n",
      "Step 2957: 536,235 Ft/m² +17,315,816 Ft, error: 1062.4927593770058\n",
      "Step 2958: 536,203 Ft/m² +17,318,353 Ft, error: 1062.4593336300613\n",
      "Step 2959: 536,171 Ft/m² +17,320,889 Ft, error: 1062.4259457755334\n",
      "Step 2960: 536,139 Ft/m² +17,323,423 Ft, error: 1062.3925957704655\n",
      "Step 2961: 536,107 Ft/m² +17,325,955 Ft, error: 1062.3592835719508\n",
      "Step 2962: 536,075 Ft/m² +17,328,487 Ft, error: 1062.3260091371296\n",
      "Step 2963: 536,043 Ft/m² +17,331,017 Ft, error: 1062.2927724231938\n",
      "Step 2964: 536,011 Ft/m² +17,333,545 Ft, error: 1062.2595733873802\n",
      "Step 2965: 535,979 Ft/m² +17,336,072 Ft, error: 1062.2264119869762\n",
      "Step 2966: 535,947 Ft/m² +17,338,598 Ft, error: 1062.1932881793177\n",
      "Step 2967: 535,915 Ft/m² +17,341,122 Ft, error: 1062.160201921788\n",
      "Step 2968: 535,883 Ft/m² +17,343,645 Ft, error: 1062.1271531718194\n",
      "Step 2969: 535,852 Ft/m² +17,346,166 Ft, error: 1062.094141886892\n",
      "Step 2970: 535,820 Ft/m² +17,348,686 Ft, error: 1062.0611680245343\n",
      "Step 2971: 535,788 Ft/m² +17,351,204 Ft, error: 1062.0282315423226\n",
      "Step 2972: 535,756 Ft/m² +17,353,721 Ft, error: 1061.9953323978827\n",
      "Step 2973: 535,724 Ft/m² +17,356,237 Ft, error: 1061.962470548886\n",
      "Step 2974: 535,693 Ft/m² +17,358,751 Ft, error: 1061.9296459530558\n",
      "Step 2975: 535,661 Ft/m² +17,361,264 Ft, error: 1061.896858568158\n",
      "Step 2976: 535,629 Ft/m² +17,363,775 Ft, error: 1061.86410835201\n",
      "Step 2977: 535,597 Ft/m² +17,366,285 Ft, error: 1061.831395262477\n",
      "Step 2978: 535,566 Ft/m² +17,368,794 Ft, error: 1061.7987192574706\n",
      "Step 2979: 535,534 Ft/m² +17,371,301 Ft, error: 1061.7660802949508\n",
      "Step 2980: 535,502 Ft/m² +17,373,806 Ft, error: 1061.7334783329252\n",
      "Step 2981: 535,471 Ft/m² +17,376,310 Ft, error: 1061.7009133294482\n",
      "Step 2982: 535,439 Ft/m² +17,378,813 Ft, error: 1061.6683852426238\n",
      "Step 2983: 535,407 Ft/m² +17,381,315 Ft, error: 1061.6358940306009\n",
      "Step 2984: 535,376 Ft/m² +17,383,814 Ft, error: 1061.6034396515786\n",
      "Step 2985: 535,344 Ft/m² +17,386,313 Ft, error: 1061.571022063801\n",
      "Step 2986: 535,313 Ft/m² +17,388,810 Ft, error: 1061.5386412255598\n",
      "Step 2987: 535,281 Ft/m² +17,391,306 Ft, error: 1061.5062970951958\n",
      "Step 2988: 535,250 Ft/m² +17,393,800 Ft, error: 1061.4739896310953\n",
      "Step 2989: 535,218 Ft/m² +17,396,293 Ft, error: 1061.4417187916927\n",
      "Step 2990: 535,187 Ft/m² +17,398,784 Ft, error: 1061.4094845354687\n",
      "Step 2991: 535,155 Ft/m² +17,401,274 Ft, error: 1061.377286820952\n",
      "Step 2992: 535,124 Ft/m² +17,403,763 Ft, error: 1061.3451256067174\n",
      "Step 2993: 535,092 Ft/m² +17,406,250 Ft, error: 1061.313000851387\n",
      "Step 2994: 535,061 Ft/m² +17,408,736 Ft, error: 1061.2809125136305\n",
      "Step 2995: 535,029 Ft/m² +17,411,221 Ft, error: 1061.2488605521637\n",
      "Step 2996: 534,998 Ft/m² +17,413,704 Ft, error: 1061.2168449257485\n",
      "Step 2997: 534,967 Ft/m² +17,416,185 Ft, error: 1061.1848655931965\n",
      "Step 2998: 534,935 Ft/m² +17,418,665 Ft, error: 1061.1529225133609\n",
      "Step 2999: 534,904 Ft/m² +17,421,144 Ft, error: 1061.1210156451473\n",
      "Step 3000: 534,873 Ft/m² +17,423,621 Ft, error: 1061.0891449475034\n",
      "Step 3001: 534,841 Ft/m² +17,426,097 Ft, error: 1061.0573103794263\n",
      "Step 3002: 534,810 Ft/m² +17,428,572 Ft, error: 1061.0255118999578\n",
      "Step 3003: 534,779 Ft/m² +17,431,045 Ft, error: 1060.9937494681874\n",
      "Step 3004: 534,748 Ft/m² +17,433,517 Ft, error: 1060.962023043249\n",
      "Step 3005: 534,716 Ft/m² +17,435,987 Ft, error: 1060.930332584326\n",
      "Step 3006: 534,685 Ft/m² +17,438,456 Ft, error: 1060.898678050644\n",
      "Step 3007: 534,654 Ft/m² +17,440,924 Ft, error: 1060.8670594014793\n",
      "Step 3008: 534,623 Ft/m² +17,443,390 Ft, error: 1060.8354765961515\n",
      "Step 3009: 534,592 Ft/m² +17,445,855 Ft, error: 1060.8039295940262\n",
      "Step 3010: 534,561 Ft/m² +17,448,318 Ft, error: 1060.7724183545165\n",
      "Step 3011: 534,530 Ft/m² +17,450,780 Ft, error: 1060.7409428370804\n",
      "Step 3012: 534,498 Ft/m² +17,453,240 Ft, error: 1060.7095030012229\n",
      "Step 3013: 534,467 Ft/m² +17,455,700 Ft, error: 1060.6780988064943\n",
      "Step 3014: 534,436 Ft/m² +17,458,157 Ft, error: 1060.6467302124904\n",
      "Step 3015: 534,405 Ft/m² +17,460,614 Ft, error: 1060.6153971788535\n",
      "Step 3016: 534,374 Ft/m² +17,463,069 Ft, error: 1060.5840996652705\n",
      "Step 3017: 534,343 Ft/m² +17,465,522 Ft, error: 1060.5528376314755\n",
      "Step 3018: 534,312 Ft/m² +17,467,975 Ft, error: 1060.5216110372473\n",
      "Step 3019: 534,281 Ft/m² +17,470,425 Ft, error: 1060.4904198424106\n",
      "Step 3020: 534,250 Ft/m² +17,472,875 Ft, error: 1060.4592640068363\n",
      "Step 3021: 534,219 Ft/m² +17,475,323 Ft, error: 1060.428143490439\n",
      "Step 3022: 534,188 Ft/m² +17,477,769 Ft, error: 1060.3970582531806\n",
      "Step 3023: 534,158 Ft/m² +17,480,215 Ft, error: 1060.3660082550664\n",
      "Step 3024: 534,127 Ft/m² +17,482,659 Ft, error: 1060.3349934561504\n",
      "Step 3025: 534,096 Ft/m² +17,485,101 Ft, error: 1060.304013816528\n",
      "Step 3026: 534,065 Ft/m² +17,487,542 Ft, error: 1060.2730692963428\n",
      "Step 3027: 534,034 Ft/m² +17,489,982 Ft, error: 1060.2421598557805\n",
      "Step 3028: 534,003 Ft/m² +17,492,420 Ft, error: 1060.211285455076\n",
      "Step 3029: 533,972 Ft/m² +17,494,857 Ft, error: 1060.1804460545052\n",
      "Step 3030: 533,942 Ft/m² +17,497,293 Ft, error: 1060.1496416143918\n",
      "Step 3031: 533,911 Ft/m² +17,499,727 Ft, error: 1060.1188720951047\n",
      "Step 3032: 533,880 Ft/m² +17,502,160 Ft, error: 1060.0881374570552\n",
      "Step 3033: 533,849 Ft/m² +17,504,591 Ft, error: 1060.0574376607005\n",
      "Step 3034: 533,819 Ft/m² +17,507,021 Ft, error: 1060.0267726665443\n",
      "Step 3035: 533,788 Ft/m² +17,509,450 Ft, error: 1059.996142435133\n",
      "Step 3036: 533,757 Ft/m² +17,511,877 Ft, error: 1059.9655469270585\n",
      "Step 3037: 533,727 Ft/m² +17,514,303 Ft, error: 1059.934986102958\n",
      "Step 3038: 533,696 Ft/m² +17,516,728 Ft, error: 1059.9044599235124\n",
      "Step 3039: 533,665 Ft/m² +17,519,151 Ft, error: 1059.8739683494473\n",
      "Step 3040: 533,635 Ft/m² +17,521,573 Ft, error: 1059.843511341533\n",
      "Step 3041: 533,604 Ft/m² +17,523,993 Ft, error: 1059.8130888605854\n",
      "Step 3042: 533,574 Ft/m² +17,526,412 Ft, error: 1059.7827008674615\n",
      "Step 3043: 533,543 Ft/m² +17,528,830 Ft, error: 1059.7523473230674\n",
      "Step 3044: 533,513 Ft/m² +17,531,246 Ft, error: 1059.7220281883485\n",
      "Step 3045: 533,482 Ft/m² +17,533,661 Ft, error: 1059.6917434242991\n",
      "Step 3046: 533,452 Ft/m² +17,536,075 Ft, error: 1059.6614929919542\n",
      "Step 3047: 533,421 Ft/m² +17,538,487 Ft, error: 1059.631276852395\n",
      "Step 3048: 533,391 Ft/m² +17,540,898 Ft, error: 1059.6010949667457\n",
      "Step 3049: 533,360 Ft/m² +17,543,307 Ft, error: 1059.5709472961767\n",
      "Step 3050: 533,330 Ft/m² +17,545,715 Ft, error: 1059.5408338018985\n",
      "Step 3051: 533,299 Ft/m² +17,548,122 Ft, error: 1059.5107544451685\n",
      "Step 3052: 533,269 Ft/m² +17,550,527 Ft, error: 1059.480709187288\n",
      "Step 3053: 533,239 Ft/m² +17,552,931 Ft, error: 1059.4506979896016\n",
      "Step 3054: 533,208 Ft/m² +17,555,334 Ft, error: 1059.420720813497\n",
      "Step 3055: 533,178 Ft/m² +17,557,735 Ft, error: 1059.3907776204064\n",
      "Step 3056: 533,147 Ft/m² +17,560,135 Ft, error: 1059.360868371806\n",
      "Step 3057: 533,117 Ft/m² +17,562,534 Ft, error: 1059.330993029216\n",
      "Step 3058: 533,087 Ft/m² +17,564,931 Ft, error: 1059.3011515541978\n",
      "Step 3059: 533,057 Ft/m² +17,567,327 Ft, error: 1059.27134390836\n",
      "Step 3060: 533,026 Ft/m² +17,569,721 Ft, error: 1059.2415700533509\n",
      "Step 3061: 532,996 Ft/m² +17,572,114 Ft, error: 1059.2118299508656\n",
      "Step 3062: 532,966 Ft/m² +17,574,506 Ft, error: 1059.1821235626408\n",
      "Step 3063: 532,936 Ft/m² +17,576,897 Ft, error: 1059.152450850457\n",
      "Step 3064: 532,905 Ft/m² +17,579,286 Ft, error: 1059.1228117761389\n",
      "Step 3065: 532,875 Ft/m² +17,581,673 Ft, error: 1059.093206301551\n",
      "Step 3066: 532,845 Ft/m² +17,584,060 Ft, error: 1059.063634388607\n",
      "Step 3067: 532,815 Ft/m² +17,586,445 Ft, error: 1059.0340959992582\n",
      "Step 3068: 532,785 Ft/m² +17,588,828 Ft, error: 1059.0045910955018\n",
      "Step 3069: 532,755 Ft/m² +17,591,211 Ft, error: 1058.9751196393781\n",
      "Step 3070: 532,725 Ft/m² +17,593,592 Ft, error: 1058.9456815929695\n",
      "Step 3071: 532,695 Ft/m² +17,595,971 Ft, error: 1058.9162769184018\n",
      "Step 3072: 532,665 Ft/m² +17,598,349 Ft, error: 1058.8869055778437\n",
      "Step 3073: 532,634 Ft/m² +17,600,726 Ft, error: 1058.857567533507\n",
      "Step 3074: 532,604 Ft/m² +17,603,102 Ft, error: 1058.828262747645\n",
      "Step 3075: 532,574 Ft/m² +17,605,476 Ft, error: 1058.7989911825562\n",
      "Step 3076: 532,544 Ft/m² +17,607,849 Ft, error: 1058.76975280058\n",
      "Step 3077: 532,515 Ft/m² +17,610,220 Ft, error: 1058.7405475640992\n",
      "Step 3078: 532,485 Ft/m² +17,612,591 Ft, error: 1058.7113754355391\n",
      "Step 3079: 532,455 Ft/m² +17,614,959 Ft, error: 1058.682236377367\n",
      "Step 3080: 532,425 Ft/m² +17,617,327 Ft, error: 1058.6531303520944\n",
      "Step 3081: 532,395 Ft/m² +17,619,693 Ft, error: 1058.624057322273\n",
      "Step 3082: 532,365 Ft/m² +17,622,058 Ft, error: 1058.5950172504993\n",
      "Step 3083: 532,335 Ft/m² +17,624,421 Ft, error: 1058.56601009941\n",
      "Step 3084: 532,305 Ft/m² +17,626,783 Ft, error: 1058.537035831687\n",
      "Step 3085: 532,275 Ft/m² +17,629,144 Ft, error: 1058.5080944100503\n",
      "Step 3086: 532,246 Ft/m² +17,631,504 Ft, error: 1058.4791857972673\n",
      "Step 3087: 532,216 Ft/m² +17,633,862 Ft, error: 1058.4503099561423\n",
      "Step 3088: 532,186 Ft/m² +17,636,218 Ft, error: 1058.4214668495258\n",
      "Step 3089: 532,156 Ft/m² +17,638,574 Ft, error: 1058.3926564403087\n",
      "Step 3090: 532,126 Ft/m² +17,640,928 Ft, error: 1058.363878691425\n",
      "Step 3091: 532,097 Ft/m² +17,643,281 Ft, error: 1058.3351335658488\n",
      "Step 3092: 532,067 Ft/m² +17,645,632 Ft, error: 1058.3064210265986\n",
      "Step 3093: 532,037 Ft/m² +17,647,982 Ft, error: 1058.2777410367316\n",
      "Step 3094: 532,008 Ft/m² +17,650,331 Ft, error: 1058.2490935593507\n",
      "Step 3095: 531,978 Ft/m² +17,652,678 Ft, error: 1058.2204785575984\n",
      "Step 3096: 531,948 Ft/m² +17,655,024 Ft, error: 1058.191895994659\n",
      "Step 3097: 531,919 Ft/m² +17,657,369 Ft, error: 1058.163345833759\n",
      "Step 3098: 531,889 Ft/m² +17,659,713 Ft, error: 1058.134828038167\n",
      "Step 3099: 531,859 Ft/m² +17,662,055 Ft, error: 1058.1063425711914\n",
      "Step 3100: 531,830 Ft/m² +17,664,395 Ft, error: 1058.0778893961854\n",
      "Step 3101: 531,800 Ft/m² +17,666,735 Ft, error: 1058.0494684765395\n",
      "Step 3102: 531,771 Ft/m² +17,669,073 Ft, error: 1058.0210797756906\n",
      "Step 3103: 531,741 Ft/m² +17,671,410 Ft, error: 1057.9927232571124\n",
      "Step 3104: 531,712 Ft/m² +17,673,745 Ft, error: 1057.9643988843243\n",
      "Step 3105: 531,682 Ft/m² +17,676,079 Ft, error: 1057.9361066208824\n",
      "Step 3106: 531,653 Ft/m² +17,678,412 Ft, error: 1057.9078464303884\n",
      "Step 3107: 531,623 Ft/m² +17,680,744 Ft, error: 1057.879618276483\n",
      "Step 3108: 531,594 Ft/m² +17,683,074 Ft, error: 1057.851422122849\n",
      "Step 3109: 531,564 Ft/m² +17,685,403 Ft, error: 1057.8232579332087\n",
      "Step 3110: 531,535 Ft/m² +17,687,730 Ft, error: 1057.7951256713272\n",
      "Step 3111: 531,506 Ft/m² +17,690,057 Ft, error: 1057.7670253010106\n",
      "Step 3112: 531,476 Ft/m² +17,692,381 Ft, error: 1057.7389567861064\n",
      "Step 3113: 531,447 Ft/m² +17,694,705 Ft, error: 1057.7109200905013\n",
      "Step 3114: 531,417 Ft/m² +17,697,027 Ft, error: 1057.6829151781237\n",
      "Step 3115: 531,388 Ft/m² +17,699,348 Ft, error: 1057.6549420129443\n",
      "Step 3116: 531,359 Ft/m² +17,701,668 Ft, error: 1057.627000558973\n",
      "Step 3117: 531,329 Ft/m² +17,703,986 Ft, error: 1057.599090780261\n",
      "Step 3118: 531,300 Ft/m² +17,706,303 Ft, error: 1057.5712126409\n",
      "Step 3119: 531,271 Ft/m² +17,708,619 Ft, error: 1057.5433661050236\n",
      "Step 3120: 531,242 Ft/m² +17,710,933 Ft, error: 1057.5155511368043\n",
      "Step 3121: 531,212 Ft/m² +17,713,246 Ft, error: 1057.4877677004565\n",
      "Step 3122: 531,183 Ft/m² +17,715,558 Ft, error: 1057.4600157602345\n",
      "Step 3123: 531,154 Ft/m² +17,717,868 Ft, error: 1057.4322952804332\n",
      "Step 3124: 531,125 Ft/m² +17,720,178 Ft, error: 1057.4046062253885\n",
      "Step 3125: 531,096 Ft/m² +17,722,485 Ft, error: 1057.376948559476\n",
      "Step 3126: 531,067 Ft/m² +17,724,792 Ft, error: 1057.349322247113\n",
      "Step 3127: 531,037 Ft/m² +17,727,097 Ft, error: 1057.3217272527552\n",
      "Step 3128: 531,008 Ft/m² +17,729,401 Ft, error: 1057.2941635408995\n",
      "Step 3129: 530,979 Ft/m² +17,731,704 Ft, error: 1057.2666310760835\n",
      "Step 3130: 530,950 Ft/m² +17,734,005 Ft, error: 1057.239129822885\n",
      "Step 3131: 530,921 Ft/m² +17,736,305 Ft, error: 1057.2116597459215\n",
      "Step 3132: 530,892 Ft/m² +17,738,604 Ft, error: 1057.1842208098492\n",
      "Step 3133: 530,863 Ft/m² +17,740,901 Ft, error: 1057.1568129793686\n",
      "Step 3134: 530,834 Ft/m² +17,743,197 Ft, error: 1057.129436219215\n",
      "Step 3135: 530,805 Ft/m² +17,745,492 Ft, error: 1057.1020904941672\n",
      "Step 3136: 530,776 Ft/m² +17,747,785 Ft, error: 1057.074775769043\n",
      "Step 3137: 530,747 Ft/m² +17,750,077 Ft, error: 1057.0474920087\n",
      "Step 3138: 530,718 Ft/m² +17,752,368 Ft, error: 1057.0202391780351\n",
      "Step 3139: 530,689 Ft/m² +17,754,658 Ft, error: 1056.9930172419859\n",
      "Step 3140: 530,660 Ft/m² +17,756,946 Ft, error: 1056.9658261655293\n",
      "Step 3141: 530,631 Ft/m² +17,759,233 Ft, error: 1056.9386659136821\n",
      "Step 3142: 530,602 Ft/m² +17,761,519 Ft, error: 1056.9115364514996\n",
      "Step 3143: 530,574 Ft/m² +17,763,803 Ft, error: 1056.8844377440792\n",
      "Step 3144: 530,545 Ft/m² +17,766,086 Ft, error: 1056.8573697565548\n",
      "Step 3145: 530,516 Ft/m² +17,768,368 Ft, error: 1056.830332454103\n",
      "Step 3146: 530,487 Ft/m² +17,770,649 Ft, error: 1056.803325801938\n",
      "Step 3147: 530,458 Ft/m² +17,772,928 Ft, error: 1056.7763497653127\n",
      "Step 3148: 530,429 Ft/m² +17,775,206 Ft, error: 1056.7494043095212\n",
      "Step 3149: 530,401 Ft/m² +17,777,482 Ft, error: 1056.7224893998966\n",
      "Step 3150: 530,372 Ft/m² +17,779,758 Ft, error: 1056.6956050018096\n",
      "Step 3151: 530,343 Ft/m² +17,782,032 Ft, error: 1056.668751080672\n",
      "Step 3152: 530,314 Ft/m² +17,784,304 Ft, error: 1056.6419276019346\n",
      "Step 3153: 530,286 Ft/m² +17,786,576 Ft, error: 1056.615134531087\n",
      "Step 3154: 530,257 Ft/m² +17,788,846 Ft, error: 1056.5883718336574\n",
      "Step 3155: 530,228 Ft/m² +17,791,115 Ft, error: 1056.561639475214\n",
      "Step 3156: 530,200 Ft/m² +17,793,383 Ft, error: 1056.5349374213633\n",
      "Step 3157: 530,171 Ft/m² +17,795,649 Ft, error: 1056.5082656377513\n",
      "Step 3158: 530,142 Ft/m² +17,797,914 Ft, error: 1056.481624090063\n",
      "Step 3159: 530,114 Ft/m² +17,800,178 Ft, error: 1056.455012744021\n",
      "Step 3160: 530,085 Ft/m² +17,802,440 Ft, error: 1056.4284315653892\n",
      "Step 3161: 530,057 Ft/m² +17,804,701 Ft, error: 1056.4018805199685\n",
      "Step 3162: 530,028 Ft/m² +17,806,961 Ft, error: 1056.3753595735986\n",
      "Step 3163: 530,000 Ft/m² +17,809,220 Ft, error: 1056.3488686921585\n",
      "Step 3164: 529,971 Ft/m² +17,811,477 Ft, error: 1056.3224078415665\n",
      "Step 3165: 529,943 Ft/m² +17,813,733 Ft, error: 1056.295976987777\n",
      "Step 3166: 529,914 Ft/m² +17,815,988 Ft, error: 1056.2695760967863\n",
      "Step 3167: 529,886 Ft/m² +17,818,241 Ft, error: 1056.2432051346268\n",
      "Step 3168: 529,857 Ft/m² +17,820,494 Ft, error: 1056.2168640673708\n",
      "Step 3169: 529,829 Ft/m² +17,822,745 Ft, error: 1056.1905528611285\n",
      "Step 3170: 529,800 Ft/m² +17,824,994 Ft, error: 1056.1642714820487\n",
      "Step 3171: 529,772 Ft/m² +17,827,243 Ft, error: 1056.138019896318\n",
      "Step 3172: 529,743 Ft/m² +17,829,490 Ft, error: 1056.111798070162\n",
      "Step 3173: 529,715 Ft/m² +17,831,736 Ft, error: 1056.0856059698444\n",
      "Step 3174: 529,687 Ft/m² +17,833,980 Ft, error: 1056.059443561667\n",
      "Step 3175: 529,658 Ft/m² +17,836,223 Ft, error: 1056.0333108119698\n",
      "Step 3176: 529,630 Ft/m² +17,838,465 Ft, error: 1056.0072076871309\n",
      "Step 3177: 529,602 Ft/m² +17,840,706 Ft, error: 1055.9811341535678\n",
      "Step 3178: 529,573 Ft/m² +17,842,946 Ft, error: 1055.9550901777338\n",
      "Step 3179: 529,545 Ft/m² +17,845,184 Ft, error: 1055.9290757261215\n",
      "Step 3180: 529,517 Ft/m² +17,847,421 Ft, error: 1055.903090765262\n",
      "Step 3181: 529,489 Ft/m² +17,849,657 Ft, error: 1055.877135261723\n",
      "Step 3182: 529,460 Ft/m² +17,851,891 Ft, error: 1055.851209182112\n",
      "Step 3183: 529,432 Ft/m² +17,854,124 Ft, error: 1055.8253124930718\n",
      "Step 3184: 529,404 Ft/m² +17,856,356 Ft, error: 1055.7994451612844\n",
      "Step 3185: 529,376 Ft/m² +17,858,587 Ft, error: 1055.7736071534707\n",
      "Step 3186: 529,347 Ft/m² +17,860,816 Ft, error: 1055.7477984363873\n",
      "Step 3187: 529,319 Ft/m² +17,863,044 Ft, error: 1055.7220189768293\n",
      "Step 3188: 529,291 Ft/m² +17,865,271 Ft, error: 1055.69626874163\n",
      "Step 3189: 529,263 Ft/m² +17,867,496 Ft, error: 1055.6705476976601\n",
      "Step 3190: 529,235 Ft/m² +17,869,721 Ft, error: 1055.6448558118263\n",
      "Step 3191: 529,207 Ft/m² +17,871,944 Ft, error: 1055.6191930510745\n",
      "Step 3192: 529,179 Ft/m² +17,874,165 Ft, error: 1055.5935593823892\n",
      "Step 3193: 529,151 Ft/m² +17,876,386 Ft, error: 1055.5679547727887\n",
      "Step 3194: 529,123 Ft/m² +17,878,605 Ft, error: 1055.5423791893315\n",
      "Step 3195: 529,095 Ft/m² +17,880,823 Ft, error: 1055.5168325991135\n",
      "Step 3196: 529,067 Ft/m² +17,883,040 Ft, error: 1055.4913149692659\n",
      "Step 3197: 529,039 Ft/m² +17,885,255 Ft, error: 1055.4658262669589\n",
      "Step 3198: 529,011 Ft/m² +17,887,470 Ft, error: 1055.440366459399\n",
      "Step 3199: 528,983 Ft/m² +17,889,683 Ft, error: 1055.4149355138313\n",
      "Step 3200: 528,955 Ft/m² +17,891,894 Ft, error: 1055.3895333975354\n",
      "Step 3201: 528,927 Ft/m² +17,894,105 Ft, error: 1055.3641600778315\n",
      "Step 3202: 528,899 Ft/m² +17,896,314 Ft, error: 1055.3388155220732\n",
      "Step 3203: 528,871 Ft/m² +17,898,522 Ft, error: 1055.3134996976542\n",
      "Step 3204: 528,843 Ft/m² +17,900,729 Ft, error: 1055.2882125720023\n",
      "Step 3205: 528,815 Ft/m² +17,902,934 Ft, error: 1055.2629541125855\n",
      "Step 3206: 528,787 Ft/m² +17,905,138 Ft, error: 1055.2377242869054\n",
      "Step 3207: 528,759 Ft/m² +17,907,341 Ft, error: 1055.2125230625024\n",
      "Step 3208: 528,732 Ft/m² +17,909,543 Ft, error: 1055.187350406954\n",
      "Step 3209: 528,704 Ft/m² +17,911,743 Ft, error: 1055.1622062878728\n",
      "Step 3210: 528,676 Ft/m² +17,913,943 Ft, error: 1055.1370906729092\n",
      "Step 3211: 528,648 Ft/m² +17,916,141 Ft, error: 1055.1120035297502\n",
      "Step 3212: 528,621 Ft/m² +17,918,337 Ft, error: 1055.0869448261196\n",
      "Step 3213: 528,593 Ft/m² +17,920,533 Ft, error: 1055.0619145297771\n",
      "Step 3214: 528,565 Ft/m² +17,922,727 Ft, error: 1055.0369126085193\n",
      "Step 3215: 528,537 Ft/m² +17,924,920 Ft, error: 1055.01193903018\n",
      "Step 3216: 528,510 Ft/m² +17,927,112 Ft, error: 1054.9869937626277\n",
      "Step 3217: 528,482 Ft/m² +17,929,302 Ft, error: 1054.96207677377\n",
      "Step 3218: 528,454 Ft/m² +17,931,491 Ft, error: 1054.9371880315477\n",
      "Step 3219: 528,427 Ft/m² +17,933,679 Ft, error: 1054.91232750394\n",
      "Step 3220: 528,399 Ft/m² +17,935,866 Ft, error: 1054.8874951589628\n",
      "Step 3221: 528,371 Ft/m² +17,938,052 Ft, error: 1054.8626909646678\n",
      "Step 3222: 528,344 Ft/m² +17,940,236 Ft, error: 1054.8379148891408\n",
      "Step 3223: 528,316 Ft/m² +17,942,419 Ft, error: 1054.8131669005065\n",
      "Step 3224: 528,289 Ft/m² +17,944,601 Ft, error: 1054.7884469669245\n",
      "Step 3225: 528,261 Ft/m² +17,946,782 Ft, error: 1054.763755056592\n",
      "Step 3226: 528,233 Ft/m² +17,948,961 Ft, error: 1054.7390911377381\n",
      "Step 3227: 528,206 Ft/m² +17,951,139 Ft, error: 1054.7144551786346\n",
      "Step 3228: 528,178 Ft/m² +17,953,316 Ft, error: 1054.689847147583\n",
      "Step 3229: 528,151 Ft/m² +17,955,491 Ft, error: 1054.665267012923\n",
      "Step 3230: 528,123 Ft/m² +17,957,666 Ft, error: 1054.6407147430323\n",
      "Step 3231: 528,096 Ft/m² +17,959,839 Ft, error: 1054.6161903063212\n",
      "Step 3232: 528,069 Ft/m² +17,962,011 Ft, error: 1054.5916936712376\n",
      "Step 3233: 528,041 Ft/m² +17,964,182 Ft, error: 1054.567224806265\n",
      "Step 3234: 528,014 Ft/m² +17,966,351 Ft, error: 1054.5427836799213\n",
      "Step 3235: 527,986 Ft/m² +17,968,519 Ft, error: 1054.518370260763\n",
      "Step 3236: 527,959 Ft/m² +17,970,686 Ft, error: 1054.493984517378\n",
      "Step 3237: 527,932 Ft/m² +17,972,852 Ft, error: 1054.469626418394\n",
      "Step 3238: 527,904 Ft/m² +17,975,017 Ft, error: 1054.445295932473\n",
      "Step 3239: 527,877 Ft/m² +17,977,180 Ft, error: 1054.42099302831\n",
      "Step 3240: 527,850 Ft/m² +17,979,342 Ft, error: 1054.3967176746394\n",
      "Step 3241: 527,822 Ft/m² +17,981,503 Ft, error: 1054.3724698402277\n",
      "Step 3242: 527,795 Ft/m² +17,983,663 Ft, error: 1054.3482494938787\n",
      "Step 3243: 527,768 Ft/m² +17,985,821 Ft, error: 1054.3240566044321\n",
      "Step 3244: 527,740 Ft/m² +17,987,978 Ft, error: 1054.2998911407606\n",
      "Step 3245: 527,713 Ft/m² +17,990,134 Ft, error: 1054.275753071774\n",
      "Step 3246: 527,686 Ft/m² +17,992,289 Ft, error: 1054.251642366417\n",
      "Step 3247: 527,659 Ft/m² +17,994,443 Ft, error: 1054.2275589936694\n",
      "Step 3248: 527,631 Ft/m² +17,996,595 Ft, error: 1054.2035029225462\n",
      "Step 3249: 527,604 Ft/m² +17,998,746 Ft, error: 1054.179474122097\n",
      "Step 3250: 527,577 Ft/m² +18,000,896 Ft, error: 1054.155472561407\n",
      "Step 3251: 527,550 Ft/m² +18,003,045 Ft, error: 1054.1314982095976\n",
      "Step 3252: 527,523 Ft/m² +18,005,192 Ft, error: 1054.1075510358223\n",
      "Step 3253: 527,496 Ft/m² +18,007,338 Ft, error: 1054.0836310092723\n",
      "Step 3254: 527,469 Ft/m² +18,009,483 Ft, error: 1054.0597380991735\n",
      "Step 3255: 527,442 Ft/m² +18,011,627 Ft, error: 1054.0358722747837\n",
      "Step 3256: 527,414 Ft/m² +18,013,770 Ft, error: 1054.0120335053991\n",
      "Step 3257: 527,387 Ft/m² +18,015,911 Ft, error: 1053.9882217603495\n",
      "Step 3258: 527,360 Ft/m² +18,018,051 Ft, error: 1053.9644370089986\n",
      "Step 3259: 527,333 Ft/m² +18,020,190 Ft, error: 1053.9406792207456\n",
      "Step 3260: 527,306 Ft/m² +18,022,328 Ft, error: 1053.916948365025\n",
      "Step 3261: 527,279 Ft/m² +18,024,464 Ft, error: 1053.893244411305\n",
      "Step 3262: 527,252 Ft/m² +18,026,600 Ft, error: 1053.8695673290895\n",
      "Step 3263: 527,225 Ft/m² +18,028,734 Ft, error: 1053.8459170879137\n",
      "Step 3264: 527,198 Ft/m² +18,030,867 Ft, error: 1053.8222936573518\n",
      "Step 3265: 527,171 Ft/m² +18,032,998 Ft, error: 1053.7986970070112\n",
      "Step 3266: 527,145 Ft/m² +18,035,129 Ft, error: 1053.7751271065304\n",
      "Step 3267: 527,118 Ft/m² +18,037,258 Ft, error: 1053.7515839255873\n",
      "Step 3268: 527,091 Ft/m² +18,039,386 Ft, error: 1053.7280674338908\n",
      "Step 3269: 527,064 Ft/m² +18,041,513 Ft, error: 1053.7045776011857\n",
      "Step 3270: 527,037 Ft/m² +18,043,638 Ft, error: 1053.6811143972502\n",
      "Step 3271: 527,010 Ft/m² +18,045,763 Ft, error: 1053.6576777918974\n",
      "Step 3272: 526,983 Ft/m² +18,047,886 Ft, error: 1053.6342677549737\n",
      "Step 3273: 526,956 Ft/m² +18,050,008 Ft, error: 1053.6108842563615\n",
      "Step 3274: 526,930 Ft/m² +18,052,129 Ft, error: 1053.5875272659744\n",
      "Step 3275: 526,903 Ft/m² +18,054,249 Ft, error: 1053.5641967537645\n",
      "Step 3276: 526,876 Ft/m² +18,056,367 Ft, error: 1053.540892689713\n",
      "Step 3277: 526,849 Ft/m² +18,058,484 Ft, error: 1053.517615043838\n",
      "Step 3278: 526,823 Ft/m² +18,060,600 Ft, error: 1053.494363786192\n",
      "Step 3279: 526,796 Ft/m² +18,062,715 Ft, error: 1053.4711388868602\n",
      "Step 3280: 526,769 Ft/m² +18,064,829 Ft, error: 1053.4479403159617\n",
      "Step 3281: 526,742 Ft/m² +18,066,941 Ft, error: 1053.4247680436495\n",
      "Step 3282: 526,716 Ft/m² +18,069,052 Ft, error: 1053.4016220401115\n",
      "Step 3283: 526,689 Ft/m² +18,071,162 Ft, error: 1053.3785022755678\n",
      "Step 3284: 526,662 Ft/m² +18,073,271 Ft, error: 1053.3554087202738\n",
      "Step 3285: 526,636 Ft/m² +18,075,379 Ft, error: 1053.3323413445178\n",
      "Step 3286: 526,609 Ft/m² +18,077,485 Ft, error: 1053.3093001186214\n",
      "Step 3287: 526,583 Ft/m² +18,079,590 Ft, error: 1053.2862850129413\n",
      "Step 3288: 526,556 Ft/m² +18,081,694 Ft, error: 1053.2632959978664\n",
      "Step 3289: 526,529 Ft/m² +18,083,797 Ft, error: 1053.2403330438187\n",
      "Step 3290: 526,503 Ft/m² +18,085,899 Ft, error: 1053.2173961212563\n",
      "Step 3291: 526,476 Ft/m² +18,087,999 Ft, error: 1053.1944852006677\n",
      "Step 3292: 526,450 Ft/m² +18,090,099 Ft, error: 1053.1716002525777\n",
      "Step 3293: 526,423 Ft/m² +18,092,197 Ft, error: 1053.1487412475412\n",
      "Step 3294: 526,397 Ft/m² +18,094,294 Ft, error: 1053.1259081561502\n",
      "Step 3295: 526,370 Ft/m² +18,096,389 Ft, error: 1053.1031009490277\n",
      "Step 3296: 526,344 Ft/m² +18,098,484 Ft, error: 1053.08031959683\n",
      "Step 3297: 526,317 Ft/m² +18,100,577 Ft, error: 1053.0575640702473\n",
      "Step 3298: 526,291 Ft/m² +18,102,669 Ft, error: 1053.034834340003\n",
      "Step 3299: 526,264 Ft/m² +18,104,760 Ft, error: 1053.0121303768544\n",
      "Step 3300: 526,238 Ft/m² +18,106,850 Ft, error: 1052.98945215159\n",
      "Step 3301: 526,212 Ft/m² +18,108,939 Ft, error: 1052.9667996350329\n",
      "Step 3302: 526,185 Ft/m² +18,111,026 Ft, error: 1052.9441727980402\n",
      "Step 3303: 526,159 Ft/m² +18,113,112 Ft, error: 1052.9215716114984\n",
      "Step 3304: 526,133 Ft/m² +18,115,197 Ft, error: 1052.8989960463311\n",
      "Step 3305: 526,106 Ft/m² +18,117,281 Ft, error: 1052.8764460734935\n",
      "Step 3306: 526,080 Ft/m² +18,119,364 Ft, error: 1052.853921663972\n",
      "Step 3307: 526,054 Ft/m² +18,121,445 Ft, error: 1052.8314227887872\n",
      "Step 3308: 526,027 Ft/m² +18,123,526 Ft, error: 1052.808949418995\n",
      "Step 3309: 526,001 Ft/m² +18,125,605 Ft, error: 1052.7865015256791\n",
      "Step 3310: 525,975 Ft/m² +18,127,683 Ft, error: 1052.7640790799592\n",
      "Step 3311: 525,949 Ft/m² +18,129,759 Ft, error: 1052.741682052988\n",
      "Step 3312: 525,922 Ft/m² +18,131,835 Ft, error: 1052.7193104159496\n",
      "Step 3313: 525,896 Ft/m² +18,133,909 Ft, error: 1052.696964140061\n",
      "Step 3314: 525,870 Ft/m² +18,135,983 Ft, error: 1052.6746431965728\n",
      "Step 3315: 525,844 Ft/m² +18,138,055 Ft, error: 1052.6523475567662\n",
      "Step 3316: 525,818 Ft/m² +18,140,126 Ft, error: 1052.6300771919573\n",
      "Step 3317: 525,791 Ft/m² +18,142,195 Ft, error: 1052.6078320734928\n",
      "Step 3318: 525,765 Ft/m² +18,144,264 Ft, error: 1052.5856121727534\n",
      "Step 3319: 525,739 Ft/m² +18,146,331 Ft, error: 1052.5634174611514\n",
      "Step 3320: 525,713 Ft/m² +18,148,397 Ft, error: 1052.541247910131\n",
      "Step 3321: 525,687 Ft/m² +18,150,463 Ft, error: 1052.5191034911702\n",
      "Step 3322: 525,661 Ft/m² +18,152,526 Ft, error: 1052.4969841757782\n",
      "Step 3323: 525,635 Ft/m² +18,154,589 Ft, error: 1052.474889935497\n",
      "Step 3324: 525,609 Ft/m² +18,156,651 Ft, error: 1052.4528207419003\n",
      "Step 3325: 525,583 Ft/m² +18,158,711 Ft, error: 1052.430776566595\n",
      "Step 3326: 525,557 Ft/m² +18,160,770 Ft, error: 1052.4087573812192\n",
      "Step 3327: 525,531 Ft/m² +18,162,828 Ft, error: 1052.3867631574442\n",
      "Step 3328: 525,505 Ft/m² +18,164,885 Ft, error: 1052.364793866972\n",
      "Step 3329: 525,479 Ft/m² +18,166,941 Ft, error: 1052.3428494815378\n",
      "Step 3330: 525,453 Ft/m² +18,168,995 Ft, error: 1052.3209299729085\n",
      "Step 3331: 525,427 Ft/m² +18,171,049 Ft, error: 1052.299035312883\n",
      "Step 3332: 525,401 Ft/m² +18,173,101 Ft, error: 1052.2771654732924\n",
      "Step 3333: 525,375 Ft/m² +18,175,152 Ft, error: 1052.2553204259991\n",
      "Step 3334: 525,349 Ft/m² +18,177,202 Ft, error: 1052.2335001428985\n",
      "Step 3335: 525,323 Ft/m² +18,179,250 Ft, error: 1052.2117045959164\n",
      "Step 3336: 525,297 Ft/m² +18,181,298 Ft, error: 1052.1899337570119\n",
      "Step 3337: 525,271 Ft/m² +18,183,344 Ft, error: 1052.1681875981744\n",
      "Step 3338: 525,246 Ft/m² +18,185,389 Ft, error: 1052.1464660914262\n",
      "Step 3339: 525,220 Ft/m² +18,187,433 Ft, error: 1052.1247692088214\n",
      "Step 3340: 525,194 Ft/m² +18,189,476 Ft, error: 1052.103096922445\n",
      "Step 3341: 525,168 Ft/m² +18,191,518 Ft, error: 1052.0814492044142\n",
      "Step 3342: 525,142 Ft/m² +18,193,559 Ft, error: 1052.059826026877\n",
      "Step 3343: 525,116 Ft/m² +18,195,598 Ft, error: 1052.0382273620146\n",
      "Step 3344: 525,091 Ft/m² +18,197,636 Ft, error: 1052.016653182037\n",
      "Step 3345: 525,065 Ft/m² +18,199,673 Ft, error: 1051.9951034591893\n",
      "Step 3346: 525,039 Ft/m² +18,201,709 Ft, error: 1051.9735781657446\n",
      "Step 3347: 525,014 Ft/m² +18,203,744 Ft, error: 1051.9520772740098\n",
      "Step 3348: 524,988 Ft/m² +18,205,778 Ft, error: 1051.9306007563234\n",
      "Step 3349: 524,962 Ft/m² +18,207,810 Ft, error: 1051.909148585052\n",
      "Step 3350: 524,936 Ft/m² +18,209,842 Ft, error: 1051.8877207325972\n",
      "Step 3351: 524,911 Ft/m² +18,211,872 Ft, error: 1051.8663171713908\n",
      "Step 3352: 524,885 Ft/m² +18,213,901 Ft, error: 1051.8449378738944\n",
      "Step 3353: 524,860 Ft/m² +18,215,929 Ft, error: 1051.823582812603\n",
      "Step 3354: 524,834 Ft/m² +18,217,956 Ft, error: 1051.8022519600408\n",
      "Step 3355: 524,808 Ft/m² +18,219,981 Ft, error: 1051.7809452887648\n",
      "Step 3356: 524,783 Ft/m² +18,222,006 Ft, error: 1051.7596627713622\n",
      "Step 3357: 524,757 Ft/m² +18,224,029 Ft, error: 1051.738404380451\n",
      "Step 3358: 524,732 Ft/m² +18,226,051 Ft, error: 1051.7171700886809\n",
      "Step 3359: 524,706 Ft/m² +18,228,072 Ft, error: 1051.695959868733\n",
      "Step 3360: 524,681 Ft/m² +18,230,092 Ft, error: 1051.6747736933175\n",
      "Step 3361: 524,655 Ft/m² +18,232,111 Ft, error: 1051.6536115351787\n",
      "Step 3362: 524,630 Ft/m² +18,234,128 Ft, error: 1051.6324733670886\n",
      "Step 3363: 524,604 Ft/m² +18,236,145 Ft, error: 1051.6113591618507\n",
      "Step 3364: 524,579 Ft/m² +18,238,160 Ft, error: 1051.5902688923015\n",
      "Step 3365: 524,553 Ft/m² +18,240,174 Ft, error: 1051.5692025313065\n",
      "Step 3366: 524,528 Ft/m² +18,242,187 Ft, error: 1051.548160051761\n",
      "Step 3367: 524,502 Ft/m² +18,244,199 Ft, error: 1051.5271414265942\n",
      "Step 3368: 524,477 Ft/m² +18,246,210 Ft, error: 1051.5061466287623\n",
      "Step 3369: 524,451 Ft/m² +18,248,219 Ft, error: 1051.485175631255\n",
      "Step 3370: 524,426 Ft/m² +18,250,228 Ft, error: 1051.464228407091\n",
      "Step 3371: 524,401 Ft/m² +18,252,235 Ft, error: 1051.4433049293214\n",
      "Step 3372: 524,375 Ft/m² +18,254,241 Ft, error: 1051.4224051710244\n",
      "Step 3373: 524,350 Ft/m² +18,256,246 Ft, error: 1051.401529105313\n",
      "Step 3374: 524,325 Ft/m² +18,258,250 Ft, error: 1051.3806767053272\n",
      "Step 3375: 524,299 Ft/m² +18,260,253 Ft, error: 1051.3598479442387\n",
      "Step 3376: 524,274 Ft/m² +18,262,254 Ft, error: 1051.3390427952515\n",
      "Step 3377: 524,249 Ft/m² +18,264,255 Ft, error: 1051.3182612315964\n",
      "Step 3378: 524,224 Ft/m² +18,266,254 Ft, error: 1051.2975032265374\n",
      "Step 3379: 524,198 Ft/m² +18,268,252 Ft, error: 1051.276768753367\n",
      "Step 3380: 524,173 Ft/m² +18,270,249 Ft, error: 1051.2560577854094\n",
      "Step 3381: 524,148 Ft/m² +18,272,245 Ft, error: 1051.235370296018\n",
      "Step 3382: 524,123 Ft/m² +18,274,240 Ft, error: 1051.2147062585773\n",
      "Step 3383: 524,097 Ft/m² +18,276,234 Ft, error: 1051.1940656465008\n",
      "Step 3384: 524,072 Ft/m² +18,278,226 Ft, error: 1051.173448433233\n",
      "Step 3385: 524,047 Ft/m² +18,280,218 Ft, error: 1051.1528545922483\n",
      "Step 3386: 524,022 Ft/m² +18,282,208 Ft, error: 1051.132284097052\n",
      "Step 3387: 523,997 Ft/m² +18,284,197 Ft, error: 1051.1117369211788\n",
      "Step 3388: 523,972 Ft/m² +18,286,185 Ft, error: 1051.0912130381905\n",
      "Step 3389: 523,947 Ft/m² +18,288,172 Ft, error: 1051.070712421685\n",
      "Step 3390: 523,921 Ft/m² +18,290,158 Ft, error: 1051.0502350452846\n",
      "Step 3391: 523,896 Ft/m² +18,292,143 Ft, error: 1051.0297808826442\n",
      "Step 3392: 523,871 Ft/m² +18,294,126 Ft, error: 1051.0093499074476\n",
      "Step 3393: 523,846 Ft/m² +18,296,109 Ft, error: 1050.98894209341\n",
      "Step 3394: 523,821 Ft/m² +18,298,090 Ft, error: 1050.9685574142743\n",
      "Step 3395: 523,796 Ft/m² +18,300,070 Ft, error: 1050.9481958438137\n",
      "Step 3396: 523,771 Ft/m² +18,302,049 Ft, error: 1050.927857355833\n",
      "Step 3397: 523,746 Ft/m² +18,304,027 Ft, error: 1050.9075419241644\n",
      "Step 3398: 523,721 Ft/m² +18,306,004 Ft, error: 1050.8872495226701\n",
      "Step 3399: 523,696 Ft/m² +18,307,979 Ft, error: 1050.866980125243\n",
      "Step 3400: 523,671 Ft/m² +18,309,954 Ft, error: 1050.8467337058044\n",
      "Step 3401: 523,646 Ft/m² +18,311,927 Ft, error: 1050.826510238307\n",
      "Step 3402: 523,621 Ft/m² +18,313,900 Ft, error: 1050.8063096967305\n",
      "Step 3403: 523,596 Ft/m² +18,315,871 Ft, error: 1050.7861320550865\n",
      "Step 3404: 523,572 Ft/m² +18,317,841 Ft, error: 1050.765977287413\n",
      "Step 3405: 523,547 Ft/m² +18,319,810 Ft, error: 1050.7458453677818\n",
      "Step 3406: 523,522 Ft/m² +18,321,778 Ft, error: 1050.7257362702908\n",
      "Step 3407: 523,497 Ft/m² +18,323,745 Ft, error: 1050.7056499690673\n",
      "Step 3408: 523,472 Ft/m² +18,325,710 Ft, error: 1050.6855864382699\n",
      "Step 3409: 523,447 Ft/m² +18,327,675 Ft, error: 1050.6655456520846\n",
      "Step 3410: 523,422 Ft/m² +18,329,638 Ft, error: 1050.645527584728\n",
      "Step 3411: 523,398 Ft/m² +18,331,600 Ft, error: 1050.6255322104455\n",
      "Step 3412: 523,373 Ft/m² +18,333,561 Ft, error: 1050.6055595035104\n",
      "Step 3413: 523,348 Ft/m² +18,335,521 Ft, error: 1050.5856094382277\n",
      "Step 3414: 523,323 Ft/m² +18,337,480 Ft, error: 1050.5656819889293\n",
      "Step 3415: 523,299 Ft/m² +18,339,438 Ft, error: 1050.5457771299778\n",
      "Step 3416: 523,274 Ft/m² +18,341,395 Ft, error: 1050.525894835763\n",
      "Step 3417: 523,249 Ft/m² +18,343,351 Ft, error: 1050.5060350807055\n",
      "Step 3418: 523,224 Ft/m² +18,345,305 Ft, error: 1050.4861978392541\n",
      "Step 3419: 523,200 Ft/m² +18,347,258 Ft, error: 1050.4663830858876\n",
      "Step 3420: 523,175 Ft/m² +18,349,211 Ft, error: 1050.4465907951114\n",
      "Step 3421: 523,150 Ft/m² +18,351,162 Ft, error: 1050.4268209414624\n",
      "Step 3422: 523,126 Ft/m² +18,353,112 Ft, error: 1050.4070734995041\n",
      "Step 3423: 523,101 Ft/m² +18,355,061 Ft, error: 1050.3873484438313\n",
      "Step 3424: 523,077 Ft/m² +18,357,009 Ft, error: 1050.367645749065\n",
      "Step 3425: 523,052 Ft/m² +18,358,956 Ft, error: 1050.347965389857\n",
      "Step 3426: 523,027 Ft/m² +18,360,901 Ft, error: 1050.3283073408863\n",
      "Step 3427: 523,003 Ft/m² +18,362,846 Ft, error: 1050.3086715768627\n",
      "Step 3428: 522,978 Ft/m² +18,364,789 Ft, error: 1050.2890580725214\n",
      "Step 3429: 522,954 Ft/m² +18,366,732 Ft, error: 1050.2694668026293\n",
      "Step 3430: 522,929 Ft/m² +18,368,673 Ft, error: 1050.2498977419818\n",
      "Step 3431: 522,905 Ft/m² +18,370,613 Ft, error: 1050.2303508654\n",
      "Step 3432: 522,880 Ft/m² +18,372,552 Ft, error: 1050.2108261477358\n",
      "Step 3433: 522,856 Ft/m² +18,374,490 Ft, error: 1050.1913235638704\n",
      "Step 3434: 522,831 Ft/m² +18,376,427 Ft, error: 1050.1718430887113\n",
      "Step 3435: 522,807 Ft/m² +18,378,362 Ft, error: 1050.1523846971945\n",
      "Step 3436: 522,782 Ft/m² +18,380,297 Ft, error: 1050.1329483642874\n",
      "Step 3437: 522,758 Ft/m² +18,382,231 Ft, error: 1050.113534064982\n",
      "Step 3438: 522,733 Ft/m² +18,384,163 Ft, error: 1050.0941417743009\n",
      "Step 3439: 522,709 Ft/m² +18,386,094 Ft, error: 1050.0747714672948\n",
      "Step 3440: 522,685 Ft/m² +18,388,025 Ft, error: 1050.055423119042\n",
      "Step 3441: 522,660 Ft/m² +18,389,954 Ft, error: 1050.03609670465\n",
      "Step 3442: 522,636 Ft/m² +18,391,882 Ft, error: 1050.0167921992531\n",
      "Step 3443: 522,611 Ft/m² +18,393,809 Ft, error: 1049.9975095780148\n",
      "Step 3444: 522,587 Ft/m² +18,395,735 Ft, error: 1049.978248816127\n",
      "Step 3445: 522,563 Ft/m² +18,397,660 Ft, error: 1049.9590098888089\n",
      "Step 3446: 522,539 Ft/m² +18,399,583 Ft, error: 1049.9397927713087\n",
      "Step 3447: 522,514 Ft/m² +18,401,506 Ft, error: 1049.9205974389015\n",
      "Step 3448: 522,490 Ft/m² +18,403,427 Ft, error: 1049.9014238668913\n",
      "Step 3449: 522,466 Ft/m² +18,405,348 Ft, error: 1049.8822720306102\n",
      "Step 3450: 522,441 Ft/m² +18,407,267 Ft, error: 1049.8631419054166\n",
      "Step 3451: 522,417 Ft/m² +18,409,185 Ft, error: 1049.8440334667007\n",
      "Step 3452: 522,393 Ft/m² +18,411,103 Ft, error: 1049.8249466898756\n",
      "Step 3453: 522,369 Ft/m² +18,413,019 Ft, error: 1049.8058815503857\n",
      "Step 3454: 522,345 Ft/m² +18,414,934 Ft, error: 1049.7868380237023\n",
      "Step 3455: 522,320 Ft/m² +18,416,848 Ft, error: 1049.7678160853252\n",
      "Step 3456: 522,296 Ft/m² +18,418,760 Ft, error: 1049.7488157107796\n",
      "Step 3457: 522,272 Ft/m² +18,420,672 Ft, error: 1049.729836875622\n",
      "Step 3458: 522,248 Ft/m² +18,422,583 Ft, error: 1049.7108795554332\n",
      "Step 3459: 522,224 Ft/m² +18,424,492 Ft, error: 1049.6919437258234\n",
      "Step 3460: 522,200 Ft/m² +18,426,401 Ft, error: 1049.6730293624312\n",
      "Step 3461: 522,175 Ft/m² +18,428,308 Ft, error: 1049.6541364409209\n",
      "Step 3462: 522,151 Ft/m² +18,430,215 Ft, error: 1049.6352649369855\n",
      "Step 3463: 522,127 Ft/m² +18,432,120 Ft, error: 1049.616414826346\n",
      "Step 3464: 522,103 Ft/m² +18,434,024 Ft, error: 1049.5975860847502\n",
      "Step 3465: 522,079 Ft/m² +18,435,927 Ft, error: 1049.5787786879732\n",
      "Step 3466: 522,055 Ft/m² +18,437,829 Ft, error: 1049.5599926118173\n",
      "Step 3467: 522,031 Ft/m² +18,439,730 Ft, error: 1049.5412278321132\n",
      "Step 3468: 522,007 Ft/m² +18,441,630 Ft, error: 1049.5224843247195\n",
      "Step 3469: 521,983 Ft/m² +18,443,529 Ft, error: 1049.5037620655207\n",
      "Step 3470: 521,959 Ft/m² +18,445,426 Ft, error: 1049.4850610304286\n",
      "Step 3471: 521,935 Ft/m² +18,447,323 Ft, error: 1049.4663811953835\n",
      "Step 3472: 521,911 Ft/m² +18,449,219 Ft, error: 1049.447722536353\n",
      "Step 3473: 521,887 Ft/m² +18,451,113 Ft, error: 1049.4290850293305\n",
      "Step 3474: 521,863 Ft/m² +18,453,006 Ft, error: 1049.4104686503374\n",
      "Step 3475: 521,839 Ft/m² +18,454,899 Ft, error: 1049.3918733754228\n",
      "Step 3476: 521,816 Ft/m² +18,456,790 Ft, error: 1049.3732991806626\n",
      "Step 3477: 521,792 Ft/m² +18,458,680 Ft, error: 1049.3547460421591\n",
      "Step 3478: 521,768 Ft/m² +18,460,569 Ft, error: 1049.3362139360422\n",
      "Step 3479: 521,744 Ft/m² +18,462,457 Ft, error: 1049.3177028384698\n",
      "Step 3480: 521,720 Ft/m² +18,464,344 Ft, error: 1049.2992127256257\n",
      "Step 3481: 521,696 Ft/m² +18,466,230 Ft, error: 1049.2807435737207\n",
      "Step 3482: 521,672 Ft/m² +18,468,115 Ft, error: 1049.262295358993\n",
      "Step 3483: 521,649 Ft/m² +18,469,999 Ft, error: 1049.2438680577072\n",
      "Step 3484: 521,625 Ft/m² +18,471,881 Ft, error: 1049.2254616461564\n",
      "Step 3485: 521,601 Ft/m² +18,473,763 Ft, error: 1049.2070761006585\n",
      "Step 3486: 521,577 Ft/m² +18,475,644 Ft, error: 1049.1887113975592\n",
      "Step 3487: 521,554 Ft/m² +18,477,523 Ft, error: 1049.1703675132305\n",
      "Step 3488: 521,530 Ft/m² +18,479,402 Ft, error: 1049.1520444240723\n",
      "Step 3489: 521,506 Ft/m² +18,481,279 Ft, error: 1049.13374210651\n",
      "Step 3490: 521,482 Ft/m² +18,483,155 Ft, error: 1049.1154605369973\n",
      "Step 3491: 521,459 Ft/m² +18,485,030 Ft, error: 1049.097199692013\n",
      "Step 3492: 521,435 Ft/m² +18,486,905 Ft, error: 1049.0789595480626\n",
      "Step 3493: 521,411 Ft/m² +18,488,778 Ft, error: 1049.06074008168\n",
      "Step 3494: 521,388 Ft/m² +18,490,650 Ft, error: 1049.042541269423\n",
      "Step 3495: 521,364 Ft/m² +18,492,521 Ft, error: 1049.024363087879\n",
      "Step 3496: 521,340 Ft/m² +18,494,391 Ft, error: 1049.006205513659\n",
      "Step 3497: 521,317 Ft/m² +18,496,260 Ft, error: 1048.9880685234036\n",
      "Step 3498: 521,293 Ft/m² +18,498,127 Ft, error: 1048.9699520937768\n",
      "Step 3499: 521,270 Ft/m² +18,499,994 Ft, error: 1048.9518562014707\n",
      "Step 3500: 521,246 Ft/m² +18,501,860 Ft, error: 1048.933780823204\n",
      "Step 3501: 521,222 Ft/m² +18,503,724 Ft, error: 1048.9157259357214\n",
      "Step 3502: 521,199 Ft/m² +18,505,588 Ft, error: 1048.8976915157932\n",
      "Step 3503: 521,175 Ft/m² +18,507,450 Ft, error: 1048.8796775402172\n",
      "Step 3504: 521,152 Ft/m² +18,509,312 Ft, error: 1048.8616839858173\n",
      "Step 3505: 521,128 Ft/m² +18,511,172 Ft, error: 1048.8437108294438\n",
      "Step 3506: 521,105 Ft/m² +18,513,032 Ft, error: 1048.825758047972\n",
      "Step 3507: 521,081 Ft/m² +18,514,890 Ft, error: 1048.8078256183042\n",
      "Step 3508: 521,058 Ft/m² +18,516,747 Ft, error: 1048.7899135173707\n",
      "Step 3509: 521,034 Ft/m² +18,518,603 Ft, error: 1048.7720217221242\n",
      "Step 3510: 521,011 Ft/m² +18,520,458 Ft, error: 1048.7541502095462\n",
      "Step 3511: 520,987 Ft/m² +18,522,313 Ft, error: 1048.7362989566452\n",
      "Step 3512: 520,964 Ft/m² +18,524,166 Ft, error: 1048.7184679404518\n",
      "Step 3513: 520,941 Ft/m² +18,526,018 Ft, error: 1048.7006571380266\n",
      "Step 3514: 520,917 Ft/m² +18,527,869 Ft, error: 1048.6828665264543\n",
      "Step 3515: 520,894 Ft/m² +18,529,718 Ft, error: 1048.6650960828454\n",
      "Step 3516: 520,870 Ft/m² +18,531,567 Ft, error: 1048.6473457843379\n",
      "Step 3517: 520,847 Ft/m² +18,533,415 Ft, error: 1048.6296156080941\n",
      "Step 3518: 520,824 Ft/m² +18,535,262 Ft, error: 1048.611905531303\n",
      "Step 3519: 520,800 Ft/m² +18,537,107 Ft, error: 1048.5942155311789\n",
      "Step 3520: 520,777 Ft/m² +18,538,952 Ft, error: 1048.5765455849628\n",
      "Step 3521: 520,754 Ft/m² +18,540,796 Ft, error: 1048.5588956699207\n",
      "Step 3522: 520,731 Ft/m² +18,542,638 Ft, error: 1048.541265763345\n",
      "Step 3523: 520,707 Ft/m² +18,544,480 Ft, error: 1048.5236558425536\n",
      "Step 3524: 520,684 Ft/m² +18,546,320 Ft, error: 1048.5060658848895\n",
      "Step 3525: 520,661 Ft/m² +18,548,160 Ft, error: 1048.4884958677212\n",
      "Step 3526: 520,638 Ft/m² +18,549,998 Ft, error: 1048.4709457684455\n",
      "Step 3527: 520,614 Ft/m² +18,551,835 Ft, error: 1048.453415564482\n",
      "Step 3528: 520,591 Ft/m² +18,553,672 Ft, error: 1048.4359052332754\n",
      "Step 3529: 520,568 Ft/m² +18,555,507 Ft, error: 1048.4184147523001\n",
      "Step 3530: 520,545 Ft/m² +18,557,341 Ft, error: 1048.4009440990508\n",
      "Step 3531: 520,522 Ft/m² +18,559,174 Ft, error: 1048.3834932510513\n",
      "Step 3532: 520,498 Ft/m² +18,561,006 Ft, error: 1048.3660621858498\n",
      "Step 3533: 520,475 Ft/m² +18,562,837 Ft, error: 1048.3486508810195\n",
      "Step 3534: 520,452 Ft/m² +18,564,667 Ft, error: 1048.3312593141604\n",
      "Step 3535: 520,429 Ft/m² +18,566,496 Ft, error: 1048.3138874628962\n",
      "Step 3536: 520,406 Ft/m² +18,568,324 Ft, error: 1048.296535304876\n",
      "Step 3537: 520,383 Ft/m² +18,570,151 Ft, error: 1048.279202817777\n",
      "Step 3538: 520,360 Ft/m² +18,571,977 Ft, error: 1048.2618899792974\n",
      "Step 3539: 520,337 Ft/m² +18,573,802 Ft, error: 1048.244596767165\n",
      "Step 3540: 520,314 Ft/m² +18,575,626 Ft, error: 1048.2273231591291\n",
      "Step 3541: 520,291 Ft/m² +18,577,449 Ft, error: 1048.2100691329665\n",
      "Step 3542: 520,268 Ft/m² +18,579,271 Ft, error: 1048.1928346664793\n",
      "Step 3543: 520,245 Ft/m² +18,581,091 Ft, error: 1048.1756197374928\n",
      "Step 3544: 520,222 Ft/m² +18,582,911 Ft, error: 1048.15842432386\n",
      "Step 3545: 520,199 Ft/m² +18,584,730 Ft, error: 1048.141248403457\n",
      "Step 3546: 520,176 Ft/m² +18,586,547 Ft, error: 1048.1240919541854\n",
      "Step 3547: 520,153 Ft/m² +18,588,364 Ft, error: 1048.1069549539727\n",
      "Step 3548: 520,130 Ft/m² +18,590,180 Ft, error: 1048.0898373807709\n",
      "Step 3549: 520,107 Ft/m² +18,591,994 Ft, error: 1048.0727392125566\n",
      "Step 3550: 520,084 Ft/m² +18,593,808 Ft, error: 1048.055660427332\n",
      "Step 3551: 520,061 Ft/m² +18,595,620 Ft, error: 1048.038601003124\n",
      "Step 3552: 520,038 Ft/m² +18,597,432 Ft, error: 1048.0215609179843\n",
      "Step 3553: 520,015 Ft/m² +18,599,242 Ft, error: 1048.00454014999\n",
      "Step 3554: 519,992 Ft/m² +18,601,051 Ft, error: 1047.9875386772417\n",
      "Step 3555: 519,969 Ft/m² +18,602,860 Ft, error: 1047.9705564778656\n",
      "Step 3556: 519,947 Ft/m² +18,604,667 Ft, error: 1047.9535935300137\n",
      "Step 3557: 519,924 Ft/m² +18,606,473 Ft, error: 1047.9366498118627\n",
      "Step 3558: 519,901 Ft/m² +18,608,279 Ft, error: 1047.9197253016107\n",
      "Step 3559: 519,878 Ft/m² +18,610,083 Ft, error: 1047.9028199774857\n",
      "Step 3560: 519,855 Ft/m² +18,611,886 Ft, error: 1047.8859338177356\n",
      "Step 3561: 519,833 Ft/m² +18,613,689 Ft, error: 1047.8690668006368\n",
      "Step 3562: 519,810 Ft/m² +18,615,490 Ft, error: 1047.8522189044872\n",
      "Step 3563: 519,787 Ft/m² +18,617,290 Ft, error: 1047.8353901076116\n",
      "Step 3564: 519,764 Ft/m² +18,619,089 Ft, error: 1047.8185803883584\n",
      "Step 3565: 519,742 Ft/m² +18,620,887 Ft, error: 1047.801789725101\n",
      "Step 3566: 519,719 Ft/m² +18,622,684 Ft, error: 1047.785018096236\n",
      "Step 3567: 519,696 Ft/m² +18,624,481 Ft, error: 1047.7682654801858\n",
      "Step 3568: 519,674 Ft/m² +18,626,276 Ft, error: 1047.7515318553972\n",
      "Step 3569: 519,651 Ft/m² +18,628,070 Ft, error: 1047.7348172003415\n",
      "Step 3570: 519,628 Ft/m² +18,629,863 Ft, error: 1047.718121493513\n",
      "Step 3571: 519,606 Ft/m² +18,631,655 Ft, error: 1047.701444713432\n",
      "Step 3572: 519,583 Ft/m² +18,633,446 Ft, error: 1047.6847868386424\n",
      "Step 3573: 519,560 Ft/m² +18,635,236 Ft, error: 1047.6681478477135\n",
      "Step 3574: 519,538 Ft/m² +18,637,025 Ft, error: 1047.651527719237\n",
      "Step 3575: 519,515 Ft/m² +18,638,813 Ft, error: 1047.63492643183\n",
      "Step 3576: 519,493 Ft/m² +18,640,600 Ft, error: 1047.6183439641338\n",
      "Step 3577: 519,470 Ft/m² +18,642,386 Ft, error: 1047.601780294814\n",
      "Step 3578: 519,447 Ft/m² +18,644,171 Ft, error: 1047.58523540256\n",
      "Step 3579: 519,425 Ft/m² +18,645,955 Ft, error: 1047.5687092660858\n",
      "Step 3580: 519,402 Ft/m² +18,647,738 Ft, error: 1047.5522018641288\n",
      "Step 3581: 519,380 Ft/m² +18,649,520 Ft, error: 1047.5357131754513\n",
      "Step 3582: 519,357 Ft/m² +18,651,301 Ft, error: 1047.5192431788396\n",
      "Step 3583: 519,335 Ft/m² +18,653,080 Ft, error: 1047.502791853103\n",
      "Step 3584: 519,312 Ft/m² +18,654,859 Ft, error: 1047.4863591770777\n",
      "Step 3585: 519,290 Ft/m² +18,656,637 Ft, error: 1047.469945129619\n",
      "Step 3586: 519,267 Ft/m² +18,658,414 Ft, error: 1047.453549689611\n",
      "Step 3587: 519,245 Ft/m² +18,660,190 Ft, error: 1047.4371728359588\n",
      "Step 3588: 519,223 Ft/m² +18,661,965 Ft, error: 1047.420814547593\n",
      "Step 3589: 519,200 Ft/m² +18,663,739 Ft, error: 1047.4044748034667\n",
      "Step 3590: 519,178 Ft/m² +18,665,511 Ft, error: 1047.388153582558\n",
      "Step 3591: 519,155 Ft/m² +18,667,283 Ft, error: 1047.3718508638692\n",
      "Step 3592: 519,133 Ft/m² +18,669,054 Ft, error: 1047.3555666264244\n",
      "Step 3593: 519,111 Ft/m² +18,670,824 Ft, error: 1047.3393008492735\n",
      "Step 3594: 519,088 Ft/m² +18,672,593 Ft, error: 1047.3230535114888\n",
      "Step 3595: 519,066 Ft/m² +18,674,361 Ft, error: 1047.3068245921668\n",
      "Step 3596: 519,044 Ft/m² +18,676,127 Ft, error: 1047.2906140704288\n",
      "Step 3597: 519,021 Ft/m² +18,677,893 Ft, error: 1047.2744219254178\n",
      "Step 3598: 518,999 Ft/m² +18,679,658 Ft, error: 1047.2582481363015\n",
      "Step 3599: 518,977 Ft/m² +18,681,422 Ft, error: 1047.2420926822713\n",
      "Step 3600: 518,954 Ft/m² +18,683,185 Ft, error: 1047.2259555425424\n",
      "Step 3601: 518,932 Ft/m² +18,684,947 Ft, error: 1047.2098366963528\n",
      "Step 3602: 518,910 Ft/m² +18,686,707 Ft, error: 1047.1937361229648\n",
      "Step 3603: 518,888 Ft/m² +18,688,467 Ft, error: 1047.1776538016627\n",
      "Step 3604: 518,865 Ft/m² +18,690,226 Ft, error: 1047.1615897117558\n",
      "Step 3605: 518,843 Ft/m² +18,691,984 Ft, error: 1047.145543832578\n",
      "Step 3606: 518,821 Ft/m² +18,693,741 Ft, error: 1047.129516143483\n",
      "Step 3607: 518,799 Ft/m² +18,695,496 Ft, error: 1047.1135066238505\n",
      "Step 3608: 518,777 Ft/m² +18,697,251 Ft, error: 1047.097515253084\n",
      "Step 3609: 518,754 Ft/m² +18,699,005 Ft, error: 1047.081542010608\n",
      "Step 3610: 518,732 Ft/m² +18,700,758 Ft, error: 1047.0655868758731\n",
      "Step 3611: 518,710 Ft/m² +18,702,510 Ft, error: 1047.0496498283512\n",
      "Step 3612: 518,688 Ft/m² +18,704,261 Ft, error: 1047.0337308475384\n",
      "Step 3613: 518,666 Ft/m² +18,706,011 Ft, error: 1047.0178299129527\n",
      "Step 3614: 518,644 Ft/m² +18,707,759 Ft, error: 1047.0019470041382\n",
      "Step 3615: 518,622 Ft/m² +18,709,507 Ft, error: 1046.9860821006587\n",
      "Step 3616: 518,600 Ft/m² +18,711,254 Ft, error: 1046.9702351821034\n",
      "Step 3617: 518,578 Ft/m² +18,713,000 Ft, error: 1046.954406228084\n",
      "Step 3618: 518,555 Ft/m² +18,714,745 Ft, error: 1046.9385952182354\n",
      "Step 3619: 518,533 Ft/m² +18,716,489 Ft, error: 1046.9228021322162\n",
      "Step 3620: 518,511 Ft/m² +18,718,232 Ft, error: 1046.9070269497063\n",
      "Step 3621: 518,489 Ft/m² +18,719,974 Ft, error: 1046.8912696504105\n",
      "Step 3622: 518,467 Ft/m² +18,721,715 Ft, error: 1046.8755302140555\n",
      "Step 3623: 518,445 Ft/m² +18,723,455 Ft, error: 1046.859808620391\n",
      "Step 3624: 518,423 Ft/m² +18,725,194 Ft, error: 1046.8441048491907\n",
      "Step 3625: 518,401 Ft/m² +18,726,932 Ft, error: 1046.8284188802506\n",
      "Step 3626: 518,380 Ft/m² +18,728,669 Ft, error: 1046.8127506933893\n",
      "Step 3627: 518,358 Ft/m² +18,730,405 Ft, error: 1046.7971002684485\n",
      "Step 3628: 518,336 Ft/m² +18,732,140 Ft, error: 1046.7814675852924\n",
      "Step 3629: 518,314 Ft/m² +18,733,874 Ft, error: 1046.7658526238088\n",
      "Step 3630: 518,292 Ft/m² +18,735,607 Ft, error: 1046.750255363908\n",
      "Step 3631: 518,270 Ft/m² +18,737,339 Ft, error: 1046.734675785523\n",
      "Step 3632: 518,248 Ft/m² +18,739,070 Ft, error: 1046.7191138686078\n",
      "Step 3633: 518,226 Ft/m² +18,740,800 Ft, error: 1046.7035695931436\n",
      "Step 3634: 518,204 Ft/m² +18,742,530 Ft, error: 1046.6880429391294\n",
      "Step 3635: 518,183 Ft/m² +18,744,258 Ft, error: 1046.6725338865906\n",
      "Step 3636: 518,161 Ft/m² +18,745,985 Ft, error: 1046.6570424155723\n",
      "Step 3637: 518,139 Ft/m² +18,747,711 Ft, error: 1046.6415685061443\n",
      "Step 3638: 518,117 Ft/m² +18,749,436 Ft, error: 1046.626112138398\n",
      "Step 3639: 518,095 Ft/m² +18,751,161 Ft, error: 1046.6106732924477\n",
      "Step 3640: 518,073 Ft/m² +18,752,884 Ft, error: 1046.5952519484304\n",
      "Step 3641: 518,052 Ft/m² +18,754,606 Ft, error: 1046.579848086505\n",
      "Step 3642: 518,030 Ft/m² +18,756,327 Ft, error: 1046.5644616868535\n",
      "Step 3643: 518,008 Ft/m² +18,758,048 Ft, error: 1046.5490927296805\n",
      "Step 3644: 517,986 Ft/m² +18,759,767 Ft, error: 1046.5337411952116\n",
      "Step 3645: 517,965 Ft/m² +18,761,486 Ft, error: 1046.5184070636976\n",
      "Step 3646: 517,943 Ft/m² +18,763,203 Ft, error: 1046.5030903154077\n",
      "Step 3647: 517,921 Ft/m² +18,764,919 Ft, error: 1046.4877909306379\n",
      "Step 3648: 517,900 Ft/m² +18,766,635 Ft, error: 1046.4725088897037\n",
      "Step 3649: 517,878 Ft/m² +18,768,349 Ft, error: 1046.4572441729429\n",
      "Step 3650: 517,856 Ft/m² +18,770,063 Ft, error: 1046.441996760717\n",
      "Step 3651: 517,835 Ft/m² +18,771,776 Ft, error: 1046.4267666334094\n",
      "Step 3652: 517,813 Ft/m² +18,773,487 Ft, error: 1046.411553771425\n",
      "Step 3653: 517,791 Ft/m² +18,775,198 Ft, error: 1046.396358155191\n",
      "Step 3654: 517,770 Ft/m² +18,776,907 Ft, error: 1046.381179765157\n",
      "Step 3655: 517,748 Ft/m² +18,778,616 Ft, error: 1046.3660185817957\n",
      "Step 3656: 517,727 Ft/m² +18,780,324 Ft, error: 1046.3508745856\n",
      "Step 3657: 517,705 Ft/m² +18,782,031 Ft, error: 1046.3357477570878\n",
      "Step 3658: 517,684 Ft/m² +18,783,736 Ft, error: 1046.3206380767954\n",
      "Step 3659: 517,662 Ft/m² +18,785,441 Ft, error: 1046.305545525284\n",
      "Step 3660: 517,640 Ft/m² +18,787,145 Ft, error: 1046.290470083136\n",
      "Step 3661: 517,619 Ft/m² +18,788,848 Ft, error: 1046.2754117309557\n",
      "Step 3662: 517,597 Ft/m² +18,790,550 Ft, error: 1046.2603704493688\n",
      "Step 3663: 517,576 Ft/m² +18,792,251 Ft, error: 1046.2453462190238\n",
      "Step 3664: 517,554 Ft/m² +18,793,951 Ft, error: 1046.230339020591\n",
      "Step 3665: 517,533 Ft/m² +18,795,650 Ft, error: 1046.215348834763\n",
      "Step 3666: 517,512 Ft/m² +18,797,348 Ft, error: 1046.200375642253\n",
      "Step 3667: 517,490 Ft/m² +18,799,045 Ft, error: 1046.1854194237978\n",
      "Step 3668: 517,469 Ft/m² +18,800,741 Ft, error: 1046.1704801601545\n",
      "Step 3669: 517,447 Ft/m² +18,802,436 Ft, error: 1046.155557832102\n",
      "Step 3670: 517,426 Ft/m² +18,804,130 Ft, error: 1046.140652420443\n",
      "Step 3671: 517,404 Ft/m² +18,805,824 Ft, error: 1046.125763905999\n",
      "Step 3672: 517,383 Ft/m² +18,807,516 Ft, error: 1046.110892269617\n",
      "Step 3673: 517,362 Ft/m² +18,809,207 Ft, error: 1046.0960374921615\n",
      "Step 3674: 517,340 Ft/m² +18,810,898 Ft, error: 1046.0811995545212\n",
      "Step 3675: 517,319 Ft/m² +18,812,587 Ft, error: 1046.0663784376065\n",
      "Step 3676: 517,298 Ft/m² +18,814,275 Ft, error: 1046.0515741223492\n",
      "Step 3677: 517,276 Ft/m² +18,815,963 Ft, error: 1046.0367865897015\n",
      "Step 3678: 517,255 Ft/m² +18,817,649 Ft, error: 1046.0220158206384\n",
      "Step 3679: 517,234 Ft/m² +18,819,335 Ft, error: 1046.0072617961562\n",
      "Step 3680: 517,212 Ft/m² +18,821,020 Ft, error: 1045.992524497273\n",
      "Step 3681: 517,191 Ft/m² +18,822,703 Ft, error: 1045.977803905029\n",
      "Step 3682: 517,170 Ft/m² +18,824,386 Ft, error: 1045.963100000483\n",
      "Step 3683: 517,149 Ft/m² +18,826,068 Ft, error: 1045.9484127647193\n",
      "Step 3684: 517,127 Ft/m² +18,827,749 Ft, error: 1045.9337421788398\n",
      "Step 3685: 517,106 Ft/m² +18,829,428 Ft, error: 1045.9190882239716\n",
      "Step 3686: 517,085 Ft/m² +18,831,107 Ft, error: 1045.90445088126\n",
      "Step 3687: 517,064 Ft/m² +18,832,785 Ft, error: 1045.8898301318732\n",
      "Step 3688: 517,043 Ft/m² +18,834,462 Ft, error: 1045.8752259570008\n",
      "Step 3689: 517,021 Ft/m² +18,836,138 Ft, error: 1045.860638337854\n",
      "Step 3690: 517,000 Ft/m² +18,837,813 Ft, error: 1045.8460672556635\n",
      "Step 3691: 516,979 Ft/m² +18,839,488 Ft, error: 1045.831512691683\n",
      "Step 3692: 516,958 Ft/m² +18,841,161 Ft, error: 1045.816974627188\n",
      "Step 3693: 516,937 Ft/m² +18,842,833 Ft, error: 1045.802453043473\n",
      "Step 3694: 516,916 Ft/m² +18,844,504 Ft, error: 1045.7879479218543\n",
      "Step 3695: 516,894 Ft/m² +18,846,175 Ft, error: 1045.7734592436711\n",
      "Step 3696: 516,873 Ft/m² +18,847,844 Ft, error: 1045.7589869902827\n",
      "Step 3697: 516,852 Ft/m² +18,849,513 Ft, error: 1045.7445311430683\n",
      "Step 3698: 516,831 Ft/m² +18,851,180 Ft, error: 1045.730091683432\n",
      "Step 3699: 516,810 Ft/m² +18,852,847 Ft, error: 1045.715668592793\n",
      "Step 3700: 516,789 Ft/m² +18,854,512 Ft, error: 1045.701261852597\n",
      "Step 3701: 516,768 Ft/m² +18,856,177 Ft, error: 1045.686871444308\n",
      "Step 3702: 516,747 Ft/m² +18,857,841 Ft, error: 1045.6724973494129\n",
      "Step 3703: 516,726 Ft/m² +18,859,503 Ft, error: 1045.6581395494154\n",
      "Step 3704: 516,705 Ft/m² +18,861,165 Ft, error: 1045.6437980258463\n",
      "Step 3705: 516,684 Ft/m² +18,862,826 Ft, error: 1045.6294727602528\n",
      "Step 3706: 516,663 Ft/m² +18,864,486 Ft, error: 1045.6151637342043\n",
      "Step 3707: 516,642 Ft/m² +18,866,145 Ft, error: 1045.600870929291\n",
      "Step 3708: 516,621 Ft/m² +18,867,803 Ft, error: 1045.5865943271244\n",
      "Step 3709: 516,600 Ft/m² +18,869,460 Ft, error: 1045.572333909337\n",
      "Step 3710: 516,579 Ft/m² +18,871,117 Ft, error: 1045.558089657581\n",
      "Step 3711: 516,558 Ft/m² +18,872,772 Ft, error: 1045.5438615535309\n",
      "Step 3712: 516,537 Ft/m² +18,874,426 Ft, error: 1045.5296495788807\n",
      "Step 3713: 516,517 Ft/m² +18,876,080 Ft, error: 1045.5154537153455\n",
      "Step 3714: 516,496 Ft/m² +18,877,732 Ft, error: 1045.5012739446613\n",
      "Step 3715: 516,475 Ft/m² +18,879,384 Ft, error: 1045.487110248585\n",
      "Step 3716: 516,454 Ft/m² +18,881,034 Ft, error: 1045.4729626088942\n",
      "Step 3717: 516,433 Ft/m² +18,882,684 Ft, error: 1045.4588310073857\n",
      "Step 3718: 516,412 Ft/m² +18,884,333 Ft, error: 1045.4447154258798\n",
      "Step 3719: 516,391 Ft/m² +18,885,980 Ft, error: 1045.4306158462143\n",
      "Step 3720: 516,371 Ft/m² +18,887,627 Ft, error: 1045.41653225025\n",
      "Step 3721: 516,350 Ft/m² +18,889,273 Ft, error: 1045.402464619867\n",
      "Step 3722: 516,329 Ft/m² +18,890,918 Ft, error: 1045.388412936966\n",
      "Step 3723: 516,308 Ft/m² +18,892,562 Ft, error: 1045.3743771834693\n",
      "Step 3724: 516,287 Ft/m² +18,894,205 Ft, error: 1045.3603573413181\n",
      "Step 3725: 516,267 Ft/m² +18,895,847 Ft, error: 1045.3463533924746\n",
      "Step 3726: 516,246 Ft/m² +18,897,489 Ft, error: 1045.3323653189218\n",
      "Step 3727: 516,225 Ft/m² +18,899,129 Ft, error: 1045.3183931026635\n",
      "Step 3728: 516,205 Ft/m² +18,900,768 Ft, error: 1045.3044367257237\n",
      "Step 3729: 516,184 Ft/m² +18,902,407 Ft, error: 1045.290496170145\n",
      "Step 3730: 516,163 Ft/m² +18,904,044 Ft, error: 1045.2765714179932\n",
      "Step 3731: 516,142 Ft/m² +18,905,681 Ft, error: 1045.2626624513534\n",
      "Step 3732: 516,122 Ft/m² +18,907,317 Ft, error: 1045.2487692523293\n",
      "Step 3733: 516,101 Ft/m² +18,908,951 Ft, error: 1045.2348918030468\n",
      "Step 3734: 516,080 Ft/m² +18,910,585 Ft, error: 1045.2210300856516\n",
      "Step 3735: 516,060 Ft/m² +18,912,218 Ft, error: 1045.2071840823098\n",
      "Step 3736: 516,039 Ft/m² +18,913,850 Ft, error: 1045.1933537752072\n",
      "Step 3737: 516,019 Ft/m² +18,915,481 Ft, error: 1045.1795391465505\n",
      "Step 3738: 515,998 Ft/m² +18,917,111 Ft, error: 1045.1657401785644\n",
      "Step 3739: 515,977 Ft/m² +18,918,740 Ft, error: 1045.1519568534982\n",
      "Step 3740: 515,957 Ft/m² +18,920,369 Ft, error: 1045.138189153617\n",
      "Step 3741: 515,936 Ft/m² +18,921,996 Ft, error: 1045.1244370612073\n",
      "Step 3742: 515,916 Ft/m² +18,923,622 Ft, error: 1045.1107005585773\n",
      "Step 3743: 515,895 Ft/m² +18,925,248 Ft, error: 1045.0969796280535\n",
      "Step 3744: 515,875 Ft/m² +18,926,872 Ft, error: 1045.0832742519824\n",
      "Step 3745: 515,854 Ft/m² +18,928,496 Ft, error: 1045.0695844127313\n",
      "Step 3746: 515,834 Ft/m² +18,930,119 Ft, error: 1045.055910092687\n",
      "Step 3747: 515,813 Ft/m² +18,931,741 Ft, error: 1045.042251274257\n",
      "Step 3748: 515,793 Ft/m² +18,933,361 Ft, error: 1045.0286079398682\n",
      "Step 3749: 515,772 Ft/m² +18,934,981 Ft, error: 1045.014980071967\n",
      "Step 3750: 515,752 Ft/m² +18,936,600 Ft, error: 1045.0013676530198\n",
      "Step 3751: 515,731 Ft/m² +18,938,219 Ft, error: 1044.9877706655136\n",
      "Step 3752: 515,711 Ft/m² +18,939,836 Ft, error: 1044.9741890919552\n",
      "Step 3753: 515,690 Ft/m² +18,941,452 Ft, error: 1044.9606229148706\n",
      "Step 3754: 515,670 Ft/m² +18,943,068 Ft, error: 1044.9470721168063\n",
      "Step 3755: 515,650 Ft/m² +18,944,682 Ft, error: 1044.9335366803273\n",
      "Step 3756: 515,629 Ft/m² +18,946,296 Ft, error: 1044.92001658802\n",
      "Step 3757: 515,609 Ft/m² +18,947,908 Ft, error: 1044.90651182249\n",
      "Step 3758: 515,588 Ft/m² +18,949,520 Ft, error: 1044.8930223663615\n",
      "Step 3759: 515,568 Ft/m² +18,951,131 Ft, error: 1044.8795482022795\n",
      "Step 3760: 515,548 Ft/m² +18,952,741 Ft, error: 1044.8660893129093\n",
      "Step 3761: 515,527 Ft/m² +18,954,350 Ft, error: 1044.8526456809343\n",
      "Step 3762: 515,507 Ft/m² +18,955,958 Ft, error: 1044.839217289058\n",
      "Step 3763: 515,487 Ft/m² +18,957,565 Ft, error: 1044.8258041200052\n",
      "Step 3764: 515,466 Ft/m² +18,959,171 Ft, error: 1044.8124061565172\n",
      "Step 3765: 515,446 Ft/m² +18,960,776 Ft, error: 1044.7990233813573\n",
      "Step 3766: 515,426 Ft/m² +18,962,381 Ft, error: 1044.7856557773073\n",
      "Step 3767: 515,406 Ft/m² +18,963,984 Ft, error: 1044.7723033271693\n",
      "Step 3768: 515,385 Ft/m² +18,965,587 Ft, error: 1044.7589660137642\n",
      "Step 3769: 515,365 Ft/m² +18,967,189 Ft, error: 1044.745643819932\n",
      "Step 3770: 515,345 Ft/m² +18,968,789 Ft, error: 1044.7323367285335\n",
      "Step 3771: 515,325 Ft/m² +18,970,389 Ft, error: 1044.719044722447\n",
      "Step 3772: 515,304 Ft/m² +18,971,988 Ft, error: 1044.7057677845728\n",
      "Step 3773: 515,284 Ft/m² +18,973,586 Ft, error: 1044.692505897828\n",
      "Step 3774: 515,264 Ft/m² +18,975,184 Ft, error: 1044.679259045151\n",
      "Step 3775: 515,244 Ft/m² +18,976,780 Ft, error: 1044.6660272094978\n",
      "Step 3776: 515,224 Ft/m² +18,978,375 Ft, error: 1044.652810373845\n",
      "Step 3777: 515,204 Ft/m² +18,979,970 Ft, error: 1044.6396085211893\n",
      "Step 3778: 515,183 Ft/m² +18,981,563 Ft, error: 1044.6264216345437\n",
      "Step 3779: 515,163 Ft/m² +18,983,156 Ft, error: 1044.613249696944\n",
      "Step 3780: 515,143 Ft/m² +18,984,748 Ft, error: 1044.6000926914421\n",
      "Step 3781: 515,123 Ft/m² +18,986,338 Ft, error: 1044.5869506011109\n",
      "Step 3782: 515,103 Ft/m² +18,987,928 Ft, error: 1044.573823409043\n",
      "Step 3783: 515,083 Ft/m² +18,989,517 Ft, error: 1044.560711098348\n",
      "Step 3784: 515,063 Ft/m² +18,991,106 Ft, error: 1044.5476136521565\n",
      "Step 3785: 515,043 Ft/m² +18,992,693 Ft, error: 1044.5345310536188\n",
      "Step 3786: 515,023 Ft/m² +18,994,279 Ft, error: 1044.5214632859013\n",
      "Step 3787: 515,003 Ft/m² +18,995,865 Ft, error: 1044.508410332192\n",
      "Step 3788: 514,983 Ft/m² +18,997,449 Ft, error: 1044.4953721756972\n",
      "Step 3789: 514,963 Ft/m² +18,999,033 Ft, error: 1044.4823487996434\n",
      "Step 3790: 514,943 Ft/m² +19,000,615 Ft, error: 1044.469340187273\n",
      "Step 3791: 514,923 Ft/m² +19,002,197 Ft, error: 1044.456346321852\n",
      "Step 3792: 514,903 Ft/m² +19,003,778 Ft, error: 1044.4433671866607\n",
      "Step 3793: 514,883 Ft/m² +19,005,358 Ft, error: 1044.4304027650016\n",
      "Step 3794: 514,863 Ft/m² +19,006,937 Ft, error: 1044.4174530401938\n",
      "Step 3795: 514,843 Ft/m² +19,008,516 Ft, error: 1044.404517995578\n",
      "Step 3796: 514,823 Ft/m² +19,010,093 Ft, error: 1044.3915976145115\n",
      "Step 3797: 514,803 Ft/m² +19,011,670 Ft, error: 1044.3786918803721\n",
      "Step 3798: 514,783 Ft/m² +19,013,245 Ft, error: 1044.3658007765548\n",
      "Step 3799: 514,763 Ft/m² +19,014,820 Ft, error: 1044.352924286474\n",
      "Step 3800: 514,743 Ft/m² +19,016,394 Ft, error: 1044.3400623935634\n",
      "Step 3801: 514,723 Ft/m² +19,017,966 Ft, error: 1044.3272150812759\n",
      "Step 3802: 514,704 Ft/m² +19,019,538 Ft, error: 1044.3143823330813\n",
      "Step 3803: 514,684 Ft/m² +19,021,110 Ft, error: 1044.30156413247\n",
      "Step 3804: 514,664 Ft/m² +19,022,680 Ft, error: 1044.2887604629514\n",
      "Step 3805: 514,644 Ft/m² +19,024,249 Ft, error: 1044.2759713080507\n",
      "Step 3806: 514,624 Ft/m² +19,025,818 Ft, error: 1044.2631966513143\n",
      "Step 3807: 514,604 Ft/m² +19,027,385 Ft, error: 1044.250436476307\n",
      "Step 3808: 514,585 Ft/m² +19,028,952 Ft, error: 1044.2376907666123\n",
      "Step 3809: 514,565 Ft/m² +19,030,518 Ft, error: 1044.2249595058308\n",
      "Step 3810: 514,545 Ft/m² +19,032,082 Ft, error: 1044.212242677584\n",
      "Step 3811: 514,525 Ft/m² +19,033,646 Ft, error: 1044.1995402655102\n",
      "Step 3812: 514,505 Ft/m² +19,035,210 Ft, error: 1044.1868522532664\n",
      "Step 3813: 514,486 Ft/m² +19,036,772 Ft, error: 1044.1741786245293\n",
      "Step 3814: 514,466 Ft/m² +19,038,333 Ft, error: 1044.1615193629923\n",
      "Step 3815: 514,446 Ft/m² +19,039,894 Ft, error: 1044.1488744523692\n",
      "Step 3816: 514,427 Ft/m² +19,041,453 Ft, error: 1044.1362438763908\n",
      "Step 3817: 514,407 Ft/m² +19,043,012 Ft, error: 1044.1236276188074\n",
      "Step 3818: 514,387 Ft/m² +19,044,570 Ft, error: 1044.1110256633876\n",
      "Step 3819: 514,367 Ft/m² +19,046,127 Ft, error: 1044.098437993917\n",
      "Step 3820: 514,348 Ft/m² +19,047,683 Ft, error: 1044.0858645942014\n",
      "Step 3821: 514,328 Ft/m² +19,049,238 Ft, error: 1044.0733054480631\n",
      "Step 3822: 514,309 Ft/m² +19,050,792 Ft, error: 1044.060760539346\n",
      "Step 3823: 514,289 Ft/m² +19,052,345 Ft, error: 1044.0482298519078\n",
      "Step 3824: 514,269 Ft/m² +19,053,898 Ft, error: 1044.0357133696284\n",
      "Step 3825: 514,250 Ft/m² +19,055,450 Ft, error: 1044.023211076403\n",
      "Step 3826: 514,230 Ft/m² +19,057,000 Ft, error: 1044.010722956148\n",
      "Step 3827: 514,210 Ft/m² +19,058,550 Ft, error: 1043.9982489927952\n",
      "Step 3828: 514,191 Ft/m² +19,060,099 Ft, error: 1043.9857891702968\n",
      "Step 3829: 514,171 Ft/m² +19,061,647 Ft, error: 1043.9733434726224\n",
      "Step 3830: 514,152 Ft/m² +19,063,195 Ft, error: 1043.9609118837593\n",
      "Step 3831: 514,132 Ft/m² +19,064,741 Ft, error: 1043.948494387712\n",
      "Step 3832: 514,113 Ft/m² +19,066,286 Ft, error: 1043.9360909685072\n",
      "Step 3833: 514,093 Ft/m² +19,067,831 Ft, error: 1043.9237016101854\n",
      "Step 3834: 514,074 Ft/m² +19,069,375 Ft, error: 1043.9113262968071\n",
      "Step 3835: 514,054 Ft/m² +19,070,918 Ft, error: 1043.8989650124495\n",
      "Step 3836: 514,035 Ft/m² +19,072,460 Ft, error: 1043.8866177412106\n",
      "Step 3837: 514,015 Ft/m² +19,074,001 Ft, error: 1043.874284467203\n",
      "Step 3838: 513,996 Ft/m² +19,075,541 Ft, error: 1043.8619651745607\n",
      "Step 3839: 513,976 Ft/m² +19,077,080 Ft, error: 1043.8496598474335\n",
      "Step 3840: 513,957 Ft/m² +19,078,619 Ft, error: 1043.837368469988\n",
      "Step 3841: 513,937 Ft/m² +19,080,156 Ft, error: 1043.8250910264137\n",
      "Step 3842: 513,918 Ft/m² +19,081,693 Ft, error: 1043.812827500911\n",
      "Step 3843: 513,899 Ft/m² +19,083,229 Ft, error: 1043.800577877705\n",
      "Step 3844: 513,879 Ft/m² +19,084,764 Ft, error: 1043.7883421410343\n",
      "Step 3845: 513,860 Ft/m² +19,086,298 Ft, error: 1043.7761202751565\n",
      "Step 3846: 513,840 Ft/m² +19,087,831 Ft, error: 1043.7639122643482\n",
      "Step 3847: 513,821 Ft/m² +19,089,364 Ft, error: 1043.7517180929021\n",
      "Step 3848: 513,802 Ft/m² +19,090,895 Ft, error: 1043.7395377451294\n",
      "Step 3849: 513,782 Ft/m² +19,092,426 Ft, error: 1043.7273712053598\n",
      "Step 3850: 513,763 Ft/m² +19,093,956 Ft, error: 1043.7152184579404\n",
      "Step 3851: 513,744 Ft/m² +19,095,485 Ft, error: 1043.7030794872342\n",
      "Step 3852: 513,724 Ft/m² +19,097,013 Ft, error: 1043.690954277625\n",
      "Step 3853: 513,705 Ft/m² +19,098,540 Ft, error: 1043.6788428135123\n",
      "Step 3854: 513,686 Ft/m² +19,100,066 Ft, error: 1043.6667450793138\n",
      "Step 3855: 513,667 Ft/m² +19,101,592 Ft, error: 1043.654661059465\n",
      "Step 3856: 513,647 Ft/m² +19,103,116 Ft, error: 1043.6425907384187\n",
      "Step 3857: 513,628 Ft/m² +19,104,640 Ft, error: 1043.6305341006457\n",
      "Step 3858: 513,609 Ft/m² +19,106,163 Ft, error: 1043.6184911306343\n",
      "Step 3859: 513,590 Ft/m² +19,107,685 Ft, error: 1043.60646181289\n",
      "Step 3860: 513,570 Ft/m² +19,109,206 Ft, error: 1043.5944461319366\n",
      "Step 3861: 513,551 Ft/m² +19,110,726 Ft, error: 1043.582444072315\n",
      "Step 3862: 513,532 Ft/m² +19,112,246 Ft, error: 1043.5704556185829\n",
      "Step 3863: 513,513 Ft/m² +19,113,764 Ft, error: 1043.558480755317\n",
      "Step 3864: 513,493 Ft/m² +19,115,282 Ft, error: 1043.5465194671112\n",
      "Step 3865: 513,474 Ft/m² +19,116,799 Ft, error: 1043.534571738575\n",
      "Step 3866: 513,455 Ft/m² +19,118,315 Ft, error: 1043.5226375543377\n",
      "Step 3867: 513,436 Ft/m² +19,119,830 Ft, error: 1043.510716899045\n",
      "Step 3868: 513,417 Ft/m² +19,121,344 Ft, error: 1043.49880975736\n",
      "Step 3869: 513,398 Ft/m² +19,122,858 Ft, error: 1043.4869161139643\n",
      "Step 3870: 513,379 Ft/m² +19,124,370 Ft, error: 1043.4750359535535\n",
      "Step 3871: 513,360 Ft/m² +19,125,882 Ft, error: 1043.4631692608443\n",
      "Step 3872: 513,340 Ft/m² +19,127,393 Ft, error: 1043.4513160205693\n",
      "Step 3873: 513,321 Ft/m² +19,128,903 Ft, error: 1043.4394762174782\n",
      "Step 3874: 513,302 Ft/m² +19,130,412 Ft, error: 1043.427649836339\n",
      "Step 3875: 513,283 Ft/m² +19,131,920 Ft, error: 1043.4158368619355\n",
      "Step 3876: 513,264 Ft/m² +19,133,427 Ft, error: 1043.4040372790687\n",
      "Step 3877: 513,245 Ft/m² +19,134,934 Ft, error: 1043.3922510725595\n",
      "Step 3878: 513,226 Ft/m² +19,136,440 Ft, error: 1043.3804782272423\n",
      "Step 3879: 513,207 Ft/m² +19,137,944 Ft, error: 1043.3687187279709\n",
      "Step 3880: 513,188 Ft/m² +19,139,448 Ft, error: 1043.3569725596162\n",
      "Step 3881: 513,169 Ft/m² +19,140,951 Ft, error: 1043.3452397070657\n",
      "Step 3882: 513,150 Ft/m² +19,142,454 Ft, error: 1043.333520155224\n",
      "Step 3883: 513,131 Ft/m² +19,143,955 Ft, error: 1043.3218138890131\n",
      "Step 3884: 513,112 Ft/m² +19,145,456 Ft, error: 1043.3101208933726\n",
      "Step 3885: 513,093 Ft/m² +19,146,955 Ft, error: 1043.2984411532577\n",
      "Step 3886: 513,074 Ft/m² +19,148,454 Ft, error: 1043.286774653642\n",
      "Step 3887: 513,055 Ft/m² +19,149,952 Ft, error: 1043.2751213795154\n",
      "Step 3888: 513,036 Ft/m² +19,151,450 Ft, error: 1043.2634813158857\n",
      "Step 3889: 513,017 Ft/m² +19,152,946 Ft, error: 1043.2518544477762\n",
      "Step 3890: 512,999 Ft/m² +19,154,441 Ft, error: 1043.2402407602285\n",
      "Step 3891: 512,980 Ft/m² +19,155,936 Ft, error: 1043.2286402383013\n",
      "Step 3892: 512,961 Ft/m² +19,157,430 Ft, error: 1043.217052867069\n",
      "Step 3893: 512,942 Ft/m² +19,158,923 Ft, error: 1043.2054786316244\n",
      "Step 3894: 512,923 Ft/m² +19,160,415 Ft, error: 1043.1939175170749\n",
      "Step 3895: 512,904 Ft/m² +19,161,906 Ft, error: 1043.1823695085473\n",
      "Step 3896: 512,885 Ft/m² +19,163,396 Ft, error: 1043.170834591184\n",
      "Step 3897: 512,867 Ft/m² +19,164,886 Ft, error: 1043.1593127501442\n",
      "Step 3898: 512,848 Ft/m² +19,166,375 Ft, error: 1043.147803970605\n",
      "Step 3899: 512,829 Ft/m² +19,167,863 Ft, error: 1043.1363082377582\n",
      "Step 3900: 512,810 Ft/m² +19,169,350 Ft, error: 1043.124825536815\n",
      "Step 3901: 512,791 Ft/m² +19,170,836 Ft, error: 1043.1133558530016\n",
      "Step 3902: 512,773 Ft/m² +19,172,321 Ft, error: 1043.101899171561\n",
      "Step 3903: 512,754 Ft/m² +19,173,806 Ft, error: 1043.0904554777542\n",
      "Step 3904: 512,735 Ft/m² +19,175,289 Ft, error: 1043.0790247568568\n",
      "Step 3905: 512,716 Ft/m² +19,176,772 Ft, error: 1043.0676069941626\n",
      "Step 3906: 512,698 Ft/m² +19,178,254 Ft, error: 1043.056202174983\n",
      "Step 3907: 512,679 Ft/m² +19,179,735 Ft, error: 1043.044810284644\n",
      "Step 3908: 512,660 Ft/m² +19,181,215 Ft, error: 1043.033431308489\n",
      "Step 3909: 512,642 Ft/m² +19,182,695 Ft, error: 1043.022065231878\n",
      "Step 3910: 512,623 Ft/m² +19,184,173 Ft, error: 1043.010712040188\n",
      "Step 3911: 512,604 Ft/m² +19,185,651 Ft, error: 1042.9993717188124\n",
      "Step 3912: 512,585 Ft/m² +19,187,128 Ft, error: 1042.9880442531605\n",
      "Step 3913: 512,567 Ft/m² +19,188,604 Ft, error: 1042.9767296286593\n",
      "Step 3914: 512,548 Ft/m² +19,190,079 Ft, error: 1042.9654278307512\n",
      "Step 3915: 512,530 Ft/m² +19,191,554 Ft, error: 1042.9541388448954\n",
      "Step 3916: 512,511 Ft/m² +19,193,027 Ft, error: 1042.9428626565686\n",
      "Step 3917: 512,492 Ft/m² +19,194,500 Ft, error: 1042.9315992512627\n",
      "Step 3918: 512,474 Ft/m² +19,195,972 Ft, error: 1042.9203486144863\n",
      "Step 3919: 512,455 Ft/m² +19,197,443 Ft, error: 1042.9091107317645\n",
      "Step 3920: 512,437 Ft/m² +19,198,913 Ft, error: 1042.8978855886398\n",
      "Step 3921: 512,418 Ft/m² +19,200,383 Ft, error: 1042.8866731706694\n",
      "Step 3922: 512,399 Ft/m² +19,201,851 Ft, error: 1042.8754734634279\n",
      "Step 3923: 512,381 Ft/m² +19,203,319 Ft, error: 1042.864286452506\n",
      "Step 3924: 512,362 Ft/m² +19,204,786 Ft, error: 1042.853112123511\n",
      "Step 3925: 512,344 Ft/m² +19,206,252 Ft, error: 1042.8419504620658\n",
      "Step 3926: 512,325 Ft/m² +19,207,717 Ft, error: 1042.8308014538106\n",
      "Step 3927: 512,307 Ft/m² +19,209,182 Ft, error: 1042.8196650844013\n",
      "Step 3928: 512,288 Ft/m² +19,210,645 Ft, error: 1042.8085413395102\n",
      "Step 3929: 512,270 Ft/m² +19,212,108 Ft, error: 1042.7974302048256\n",
      "Step 3930: 512,251 Ft/m² +19,213,570 Ft, error: 1042.7863316660514\n",
      "Step 3931: 512,233 Ft/m² +19,215,031 Ft, error: 1042.7752457089105\n",
      "Step 3932: 512,214 Ft/m² +19,216,492 Ft, error: 1042.7641723191373\n",
      "Step 3933: 512,196 Ft/m² +19,217,951 Ft, error: 1042.7531114824876\n",
      "Step 3934: 512,178 Ft/m² +19,219,410 Ft, error: 1042.7420631847294\n",
      "Step 3935: 512,159 Ft/m² +19,220,867 Ft, error: 1042.7310274116485\n",
      "Step 3936: 512,141 Ft/m² +19,222,324 Ft, error: 1042.7200041490473\n",
      "Step 3937: 512,122 Ft/m² +19,223,780 Ft, error: 1042.7089933827424\n",
      "Step 3938: 512,104 Ft/m² +19,225,236 Ft, error: 1042.6979950985678\n",
      "Step 3939: 512,086 Ft/m² +19,226,690 Ft, error: 1042.6870092823744\n",
      "Step 3940: 512,067 Ft/m² +19,228,144 Ft, error: 1042.676035920027\n",
      "Step 3941: 512,049 Ft/m² +19,229,597 Ft, error: 1042.665074997408\n",
      "Step 3942: 512,030 Ft/m² +19,231,049 Ft, error: 1042.6541265004157\n",
      "Step 3943: 512,012 Ft/m² +19,232,500 Ft, error: 1042.6431904149633\n",
      "Step 3944: 511,994 Ft/m² +19,233,950 Ft, error: 1042.6322667269815\n",
      "Step 3945: 511,975 Ft/m² +19,235,400 Ft, error: 1042.6213554224153\n",
      "Step 3946: 511,957 Ft/m² +19,236,849 Ft, error: 1042.610456487227\n",
      "Step 3947: 511,939 Ft/m² +19,238,297 Ft, error: 1042.5995699073942\n",
      "Step 3948: 511,921 Ft/m² +19,239,744 Ft, error: 1042.5886956689112\n",
      "Step 3949: 511,902 Ft/m² +19,241,190 Ft, error: 1042.5778337577863\n",
      "Step 3950: 511,884 Ft/m² +19,242,635 Ft, error: 1042.566984160045\n",
      "Step 3951: 511,866 Ft/m² +19,244,080 Ft, error: 1042.55614686173\n",
      "Step 3952: 511,847 Ft/m² +19,245,524 Ft, error: 1042.545321848897\n",
      "Step 3953: 511,829 Ft/m² +19,246,967 Ft, error: 1042.5345091076179\n",
      "Step 3954: 511,811 Ft/m² +19,248,409 Ft, error: 1042.523708623983\n",
      "Step 3955: 511,793 Ft/m² +19,249,850 Ft, error: 1042.5129203840959\n",
      "Step 3956: 511,775 Ft/m² +19,251,291 Ft, error: 1042.5021443740773\n",
      "Step 3957: 511,756 Ft/m² +19,252,731 Ft, error: 1042.4913805800622\n",
      "Step 3958: 511,738 Ft/m² +19,254,169 Ft, error: 1042.480628988203\n",
      "Step 3959: 511,720 Ft/m² +19,255,608 Ft, error: 1042.4698895846668\n",
      "Step 3960: 511,702 Ft/m² +19,257,045 Ft, error: 1042.4591623556357\n",
      "Step 3961: 511,684 Ft/m² +19,258,481 Ft, error: 1042.4484472873091\n",
      "Step 3962: 511,666 Ft/m² +19,259,917 Ft, error: 1042.4377443659018\n",
      "Step 3963: 511,647 Ft/m² +19,261,352 Ft, error: 1042.4270535776423\n",
      "Step 3964: 511,629 Ft/m² +19,262,786 Ft, error: 1042.4163749087772\n",
      "Step 3965: 511,611 Ft/m² +19,264,219 Ft, error: 1042.4057083455673\n",
      "Step 3966: 511,593 Ft/m² +19,265,651 Ft, error: 1042.395053874289\n",
      "Step 3967: 511,575 Ft/m² +19,267,083 Ft, error: 1042.3844114812346\n",
      "Step 3968: 511,557 Ft/m² +19,268,514 Ft, error: 1042.3737811527121\n",
      "Step 3969: 511,539 Ft/m² +19,269,944 Ft, error: 1042.363162875045\n",
      "Step 3970: 511,521 Ft/m² +19,271,373 Ft, error: 1042.3525566345713\n",
      "Step 3971: 511,503 Ft/m² +19,272,801 Ft, error: 1042.3419624176463\n",
      "Step 3972: 511,485 Ft/m² +19,274,229 Ft, error: 1042.3313802106388\n",
      "Step 3973: 511,467 Ft/m² +19,275,655 Ft, error: 1042.320809999935\n",
      "Step 3974: 511,449 Ft/m² +19,277,081 Ft, error: 1042.310251771934\n",
      "Step 3975: 511,431 Ft/m² +19,278,506 Ft, error: 1042.2997055130531\n",
      "Step 3976: 511,413 Ft/m² +19,279,931 Ft, error: 1042.2891712097237\n",
      "Step 3977: 511,395 Ft/m² +19,281,354 Ft, error: 1042.2786488483923\n",
      "Step 3978: 511,377 Ft/m² +19,282,777 Ft, error: 1042.268138415522\n",
      "Step 3979: 511,359 Ft/m² +19,284,199 Ft, error: 1042.2576398975884\n",
      "Step 3980: 511,341 Ft/m² +19,285,620 Ft, error: 1042.247153281086\n",
      "Step 3981: 511,323 Ft/m² +19,287,040 Ft, error: 1042.2366785525223\n",
      "Step 3982: 511,305 Ft/m² +19,288,459 Ft, error: 1042.226215698421\n",
      "Step 3983: 511,287 Ft/m² +19,289,878 Ft, error: 1042.215764705321\n",
      "Step 3984: 511,269 Ft/m² +19,291,296 Ft, error: 1042.205325559776\n",
      "Step 3985: 511,251 Ft/m² +19,292,713 Ft, error: 1042.1948982483555\n",
      "Step 3986: 511,233 Ft/m² +19,294,129 Ft, error: 1042.1844827576438\n",
      "Step 3987: 511,215 Ft/m² +19,295,544 Ft, error: 1042.1740790742408\n",
      "Step 3988: 511,197 Ft/m² +19,296,959 Ft, error: 1042.1636871847613\n",
      "Step 3989: 511,180 Ft/m² +19,298,373 Ft, error: 1042.1533070758355\n",
      "Step 3990: 511,162 Ft/m² +19,299,786 Ft, error: 1042.1429387341072\n",
      "Step 3991: 511,144 Ft/m² +19,301,198 Ft, error: 1042.1325821462394\n",
      "Step 3992: 511,126 Ft/m² +19,302,610 Ft, error: 1042.122237298906\n",
      "Step 3993: 511,108 Ft/m² +19,304,020 Ft, error: 1042.1119041787977\n",
      "Step 3994: 511,090 Ft/m² +19,305,430 Ft, error: 1042.1015827726198\n",
      "Step 3995: 511,073 Ft/m² +19,306,839 Ft, error: 1042.0912730670937\n",
      "Step 3996: 511,055 Ft/m² +19,308,247 Ft, error: 1042.080975048955\n",
      "Step 3997: 511,037 Ft/m² +19,309,655 Ft, error: 1042.0706887049548\n",
      "Step 3998: 511,019 Ft/m² +19,311,061 Ft, error: 1042.060414021858\n",
      "Step 3999: 511,001 Ft/m² +19,312,467 Ft, error: 1042.0501509864469\n",
      "Step 4000: 510,984 Ft/m² +19,313,872 Ft, error: 1042.0398995855162\n"
     ]
    }
   ],
   "source": [
    "# use numpy arrays for simpler and faster operations\n",
    "x = np.array(area, dtype=np.float64)\n",
    "y = np.array(price, dtype=np.float64)\n",
    "a = 800_000\n",
    "b = 100_000\n",
    "alpha = 1e-6\n",
    "alpha1 = 1e-6\n",
    "alpha2 = 1e-2\n",
    "step_limit = 4000\n",
    "for step in range(step_limit):\n",
    "    f = a * x + b - y  # the common part\n",
    "    f /= len(area)\n",
    "    a -= alpha1 * np.dot(x, f)\n",
    "    b -= alpha2 * np.sum(f)\n",
    "    print(\n",
    "        f\"Step {step+1:04}: {int(a):,} Ft/m² {int(b):+,} Ft, error: {error(a,b)/100_000_000_000}\"\n",
    "    )"
   ]
  },
  {
   "cell_type": "code",
   "execution_count": 33,
   "metadata": {},
   "outputs": [
    {
     "data": {
      "application/vnd.plotly.v1+json": {
       "config": {
        "plotlyServerURL": "https://plot.ly"
       },
       "data": [
        {
         "hovertemplate": "x=%{x}<br>y=%{y}<extra></extra>",
         "legendgroup": "",
         "line": {
          "color": "#636efa",
          "dash": "solid"
         },
         "marker": {
          "symbol": "circle"
         },
         "mode": "lines",
         "name": "",
         "orientation": "v",
         "showlegend": false,
         "type": "scatter",
         "x": [
          34,
          120
         ],
         "xaxis": "x",
         "y": [
          36687335.65125516,
          80631977.26621833
         ],
         "yaxis": "y"
        },
        {
         "hovertemplate": "Area [m²]=%{x}<br>Price [Ft]=%{y}<extra></extra>",
         "legendgroup": "",
         "marker": {
          "color": "#636efa",
          "symbol": "circle"
         },
         "mode": "markers",
         "name": "",
         "orientation": "v",
         "showlegend": false,
         "type": "scatter",
         "x": [
          38,
          38,
          120,
          57,
          34,
          116,
          75,
          97,
          111,
          110,
          72,
          115,
          47,
          57,
          57,
          78,
          35,
          37,
          82,
          55,
          90,
          83,
          106,
          120,
          47,
          44,
          115,
          34,
          57,
          116,
          113,
          72,
          68,
          34,
          50,
          96,
          88,
          106,
          46,
          46,
          91,
          115,
          45,
          54,
          120,
          34,
          120,
          64,
          49,
          78
         ],
         "xaxis": "x",
         "y": [
          38099490,
          36277995,
          64527260,
          44747174,
          27939275,
          76546920,
          60578232,
          52698438,
          81580905,
          78668330,
          67871823,
          84218940,
          49088112,
          51676898,
          54029378,
          59516862,
          34198560,
          36920534,
          76839906,
          55316520,
          93545270,
          68554332,
          64645560,
          85039780,
          37038480,
          46331190,
          58616325,
          27058430,
          54931858,
          82836784,
          78581188,
          67686111,
          52355682,
          32260340,
          50784015,
          71961296,
          92137873,
          76911912,
          35507748,
          44850220,
          54146355,
          58576095,
          36928064,
          45836725,
          64897700,
          27812575,
          64033480,
          66276080,
          43388350,
          64836485
         ],
         "yaxis": "y"
        }
       ],
       "layout": {
        "legend": {
         "tracegroupgap": 0
        },
        "margin": {
         "t": 60
        },
        "template": {
         "data": {
          "bar": [
           {
            "error_x": {
             "color": "#2a3f5f"
            },
            "error_y": {
             "color": "#2a3f5f"
            },
            "marker": {
             "line": {
              "color": "#E5ECF6",
              "width": 0.5
             },
             "pattern": {
              "fillmode": "overlay",
              "size": 10,
              "solidity": 0.2
             }
            },
            "type": "bar"
           }
          ],
          "barpolar": [
           {
            "marker": {
             "line": {
              "color": "#E5ECF6",
              "width": 0.5
             },
             "pattern": {
              "fillmode": "overlay",
              "size": 10,
              "solidity": 0.2
             }
            },
            "type": "barpolar"
           }
          ],
          "carpet": [
           {
            "aaxis": {
             "endlinecolor": "#2a3f5f",
             "gridcolor": "white",
             "linecolor": "white",
             "minorgridcolor": "white",
             "startlinecolor": "#2a3f5f"
            },
            "baxis": {
             "endlinecolor": "#2a3f5f",
             "gridcolor": "white",
             "linecolor": "white",
             "minorgridcolor": "white",
             "startlinecolor": "#2a3f5f"
            },
            "type": "carpet"
           }
          ],
          "choropleth": [
           {
            "colorbar": {
             "outlinewidth": 0,
             "ticks": ""
            },
            "type": "choropleth"
           }
          ],
          "contour": [
           {
            "colorbar": {
             "outlinewidth": 0,
             "ticks": ""
            },
            "colorscale": [
             [
              0,
              "#0d0887"
             ],
             [
              0.1111111111111111,
              "#46039f"
             ],
             [
              0.2222222222222222,
              "#7201a8"
             ],
             [
              0.3333333333333333,
              "#9c179e"
             ],
             [
              0.4444444444444444,
              "#bd3786"
             ],
             [
              0.5555555555555556,
              "#d8576b"
             ],
             [
              0.6666666666666666,
              "#ed7953"
             ],
             [
              0.7777777777777778,
              "#fb9f3a"
             ],
             [
              0.8888888888888888,
              "#fdca26"
             ],
             [
              1,
              "#f0f921"
             ]
            ],
            "type": "contour"
           }
          ],
          "contourcarpet": [
           {
            "colorbar": {
             "outlinewidth": 0,
             "ticks": ""
            },
            "type": "contourcarpet"
           }
          ],
          "heatmap": [
           {
            "colorbar": {
             "outlinewidth": 0,
             "ticks": ""
            },
            "colorscale": [
             [
              0,
              "#0d0887"
             ],
             [
              0.1111111111111111,
              "#46039f"
             ],
             [
              0.2222222222222222,
              "#7201a8"
             ],
             [
              0.3333333333333333,
              "#9c179e"
             ],
             [
              0.4444444444444444,
              "#bd3786"
             ],
             [
              0.5555555555555556,
              "#d8576b"
             ],
             [
              0.6666666666666666,
              "#ed7953"
             ],
             [
              0.7777777777777778,
              "#fb9f3a"
             ],
             [
              0.8888888888888888,
              "#fdca26"
             ],
             [
              1,
              "#f0f921"
             ]
            ],
            "type": "heatmap"
           }
          ],
          "heatmapgl": [
           {
            "colorbar": {
             "outlinewidth": 0,
             "ticks": ""
            },
            "colorscale": [
             [
              0,
              "#0d0887"
             ],
             [
              0.1111111111111111,
              "#46039f"
             ],
             [
              0.2222222222222222,
              "#7201a8"
             ],
             [
              0.3333333333333333,
              "#9c179e"
             ],
             [
              0.4444444444444444,
              "#bd3786"
             ],
             [
              0.5555555555555556,
              "#d8576b"
             ],
             [
              0.6666666666666666,
              "#ed7953"
             ],
             [
              0.7777777777777778,
              "#fb9f3a"
             ],
             [
              0.8888888888888888,
              "#fdca26"
             ],
             [
              1,
              "#f0f921"
             ]
            ],
            "type": "heatmapgl"
           }
          ],
          "histogram": [
           {
            "marker": {
             "pattern": {
              "fillmode": "overlay",
              "size": 10,
              "solidity": 0.2
             }
            },
            "type": "histogram"
           }
          ],
          "histogram2d": [
           {
            "colorbar": {
             "outlinewidth": 0,
             "ticks": ""
            },
            "colorscale": [
             [
              0,
              "#0d0887"
             ],
             [
              0.1111111111111111,
              "#46039f"
             ],
             [
              0.2222222222222222,
              "#7201a8"
             ],
             [
              0.3333333333333333,
              "#9c179e"
             ],
             [
              0.4444444444444444,
              "#bd3786"
             ],
             [
              0.5555555555555556,
              "#d8576b"
             ],
             [
              0.6666666666666666,
              "#ed7953"
             ],
             [
              0.7777777777777778,
              "#fb9f3a"
             ],
             [
              0.8888888888888888,
              "#fdca26"
             ],
             [
              1,
              "#f0f921"
             ]
            ],
            "type": "histogram2d"
           }
          ],
          "histogram2dcontour": [
           {
            "colorbar": {
             "outlinewidth": 0,
             "ticks": ""
            },
            "colorscale": [
             [
              0,
              "#0d0887"
             ],
             [
              0.1111111111111111,
              "#46039f"
             ],
             [
              0.2222222222222222,
              "#7201a8"
             ],
             [
              0.3333333333333333,
              "#9c179e"
             ],
             [
              0.4444444444444444,
              "#bd3786"
             ],
             [
              0.5555555555555556,
              "#d8576b"
             ],
             [
              0.6666666666666666,
              "#ed7953"
             ],
             [
              0.7777777777777778,
              "#fb9f3a"
             ],
             [
              0.8888888888888888,
              "#fdca26"
             ],
             [
              1,
              "#f0f921"
             ]
            ],
            "type": "histogram2dcontour"
           }
          ],
          "mesh3d": [
           {
            "colorbar": {
             "outlinewidth": 0,
             "ticks": ""
            },
            "type": "mesh3d"
           }
          ],
          "parcoords": [
           {
            "line": {
             "colorbar": {
              "outlinewidth": 0,
              "ticks": ""
             }
            },
            "type": "parcoords"
           }
          ],
          "pie": [
           {
            "automargin": true,
            "type": "pie"
           }
          ],
          "scatter": [
           {
            "fillpattern": {
             "fillmode": "overlay",
             "size": 10,
             "solidity": 0.2
            },
            "type": "scatter"
           }
          ],
          "scatter3d": [
           {
            "line": {
             "colorbar": {
              "outlinewidth": 0,
              "ticks": ""
             }
            },
            "marker": {
             "colorbar": {
              "outlinewidth": 0,
              "ticks": ""
             }
            },
            "type": "scatter3d"
           }
          ],
          "scattercarpet": [
           {
            "marker": {
             "colorbar": {
              "outlinewidth": 0,
              "ticks": ""
             }
            },
            "type": "scattercarpet"
           }
          ],
          "scattergeo": [
           {
            "marker": {
             "colorbar": {
              "outlinewidth": 0,
              "ticks": ""
             }
            },
            "type": "scattergeo"
           }
          ],
          "scattergl": [
           {
            "marker": {
             "colorbar": {
              "outlinewidth": 0,
              "ticks": ""
             }
            },
            "type": "scattergl"
           }
          ],
          "scattermapbox": [
           {
            "marker": {
             "colorbar": {
              "outlinewidth": 0,
              "ticks": ""
             }
            },
            "type": "scattermapbox"
           }
          ],
          "scatterpolar": [
           {
            "marker": {
             "colorbar": {
              "outlinewidth": 0,
              "ticks": ""
             }
            },
            "type": "scatterpolar"
           }
          ],
          "scatterpolargl": [
           {
            "marker": {
             "colorbar": {
              "outlinewidth": 0,
              "ticks": ""
             }
            },
            "type": "scatterpolargl"
           }
          ],
          "scatterternary": [
           {
            "marker": {
             "colorbar": {
              "outlinewidth": 0,
              "ticks": ""
             }
            },
            "type": "scatterternary"
           }
          ],
          "surface": [
           {
            "colorbar": {
             "outlinewidth": 0,
             "ticks": ""
            },
            "colorscale": [
             [
              0,
              "#0d0887"
             ],
             [
              0.1111111111111111,
              "#46039f"
             ],
             [
              0.2222222222222222,
              "#7201a8"
             ],
             [
              0.3333333333333333,
              "#9c179e"
             ],
             [
              0.4444444444444444,
              "#bd3786"
             ],
             [
              0.5555555555555556,
              "#d8576b"
             ],
             [
              0.6666666666666666,
              "#ed7953"
             ],
             [
              0.7777777777777778,
              "#fb9f3a"
             ],
             [
              0.8888888888888888,
              "#fdca26"
             ],
             [
              1,
              "#f0f921"
             ]
            ],
            "type": "surface"
           }
          ],
          "table": [
           {
            "cells": {
             "fill": {
              "color": "#EBF0F8"
             },
             "line": {
              "color": "white"
             }
            },
            "header": {
             "fill": {
              "color": "#C8D4E3"
             },
             "line": {
              "color": "white"
             }
            },
            "type": "table"
           }
          ]
         },
         "layout": {
          "annotationdefaults": {
           "arrowcolor": "#2a3f5f",
           "arrowhead": 0,
           "arrowwidth": 1
          },
          "autotypenumbers": "strict",
          "coloraxis": {
           "colorbar": {
            "outlinewidth": 0,
            "ticks": ""
           }
          },
          "colorscale": {
           "diverging": [
            [
             0,
             "#8e0152"
            ],
            [
             0.1,
             "#c51b7d"
            ],
            [
             0.2,
             "#de77ae"
            ],
            [
             0.3,
             "#f1b6da"
            ],
            [
             0.4,
             "#fde0ef"
            ],
            [
             0.5,
             "#f7f7f7"
            ],
            [
             0.6,
             "#e6f5d0"
            ],
            [
             0.7,
             "#b8e186"
            ],
            [
             0.8,
             "#7fbc41"
            ],
            [
             0.9,
             "#4d9221"
            ],
            [
             1,
             "#276419"
            ]
           ],
           "sequential": [
            [
             0,
             "#0d0887"
            ],
            [
             0.1111111111111111,
             "#46039f"
            ],
            [
             0.2222222222222222,
             "#7201a8"
            ],
            [
             0.3333333333333333,
             "#9c179e"
            ],
            [
             0.4444444444444444,
             "#bd3786"
            ],
            [
             0.5555555555555556,
             "#d8576b"
            ],
            [
             0.6666666666666666,
             "#ed7953"
            ],
            [
             0.7777777777777778,
             "#fb9f3a"
            ],
            [
             0.8888888888888888,
             "#fdca26"
            ],
            [
             1,
             "#f0f921"
            ]
           ],
           "sequentialminus": [
            [
             0,
             "#0d0887"
            ],
            [
             0.1111111111111111,
             "#46039f"
            ],
            [
             0.2222222222222222,
             "#7201a8"
            ],
            [
             0.3333333333333333,
             "#9c179e"
            ],
            [
             0.4444444444444444,
             "#bd3786"
            ],
            [
             0.5555555555555556,
             "#d8576b"
            ],
            [
             0.6666666666666666,
             "#ed7953"
            ],
            [
             0.7777777777777778,
             "#fb9f3a"
            ],
            [
             0.8888888888888888,
             "#fdca26"
            ],
            [
             1,
             "#f0f921"
            ]
           ]
          },
          "colorway": [
           "#636efa",
           "#EF553B",
           "#00cc96",
           "#ab63fa",
           "#FFA15A",
           "#19d3f3",
           "#FF6692",
           "#B6E880",
           "#FF97FF",
           "#FECB52"
          ],
          "font": {
           "color": "#2a3f5f"
          },
          "geo": {
           "bgcolor": "white",
           "lakecolor": "white",
           "landcolor": "#E5ECF6",
           "showlakes": true,
           "showland": true,
           "subunitcolor": "white"
          },
          "hoverlabel": {
           "align": "left"
          },
          "hovermode": "closest",
          "mapbox": {
           "style": "light"
          },
          "paper_bgcolor": "white",
          "plot_bgcolor": "#E5ECF6",
          "polar": {
           "angularaxis": {
            "gridcolor": "white",
            "linecolor": "white",
            "ticks": ""
           },
           "bgcolor": "#E5ECF6",
           "radialaxis": {
            "gridcolor": "white",
            "linecolor": "white",
            "ticks": ""
           }
          },
          "scene": {
           "xaxis": {
            "backgroundcolor": "#E5ECF6",
            "gridcolor": "white",
            "gridwidth": 2,
            "linecolor": "white",
            "showbackground": true,
            "ticks": "",
            "zerolinecolor": "white"
           },
           "yaxis": {
            "backgroundcolor": "#E5ECF6",
            "gridcolor": "white",
            "gridwidth": 2,
            "linecolor": "white",
            "showbackground": true,
            "ticks": "",
            "zerolinecolor": "white"
           },
           "zaxis": {
            "backgroundcolor": "#E5ECF6",
            "gridcolor": "white",
            "gridwidth": 2,
            "linecolor": "white",
            "showbackground": true,
            "ticks": "",
            "zerolinecolor": "white"
           }
          },
          "shapedefaults": {
           "line": {
            "color": "#2a3f5f"
           }
          },
          "ternary": {
           "aaxis": {
            "gridcolor": "white",
            "linecolor": "white",
            "ticks": ""
           },
           "baxis": {
            "gridcolor": "white",
            "linecolor": "white",
            "ticks": ""
           },
           "bgcolor": "#E5ECF6",
           "caxis": {
            "gridcolor": "white",
            "linecolor": "white",
            "ticks": ""
           }
          },
          "title": {
           "x": 0.05
          },
          "xaxis": {
           "automargin": true,
           "gridcolor": "white",
           "linecolor": "white",
           "ticks": "",
           "title": {
            "standoff": 15
           },
           "zerolinecolor": "white",
           "zerolinewidth": 2
          },
          "yaxis": {
           "automargin": true,
           "gridcolor": "white",
           "linecolor": "white",
           "ticks": "",
           "title": {
            "standoff": 15
           },
           "zerolinecolor": "white",
           "zerolinewidth": 2
          }
         }
        },
        "xaxis": {
         "anchor": "y",
         "domain": [
          0,
          1
         ],
         "title": {
          "text": "x"
         }
        },
        "yaxis": {
         "anchor": "x",
         "domain": [
          0,
          1
         ],
         "title": {
          "text": "y"
         }
        }
       }
      }
     },
     "metadata": {},
     "output_type": "display_data"
    }
   ],
   "source": [
    "x_range = [min(area), max(area)]\n",
    "fig4 = px.line(x=x_range, y=[a * x + b for x in x_range])\n",
    "fig4.add_traces(fig.data)\n",
    "fig4.show()"
   ]
  },
  {
   "cell_type": "markdown",
   "metadata": {},
   "source": [
    "### Off-the-shelf solutions"
   ]
  },
  {
   "cell_type": "code",
   "execution_count": 34,
   "metadata": {},
   "outputs": [
    {
     "name": "stdout",
     "output_type": "stream",
     "text": [
      "LinregressResult(slope=479683.4804592968, intercept=21790582.11851809, rvalue=0.8170916135071871, pvalue=4.583654255657513e-13, stderr=48850.45486446517, intercept_stderr=3930249.0698368335)\n"
     ]
    },
    {
     "data": {
      "application/vnd.plotly.v1+json": {
       "config": {
        "plotlyServerURL": "https://plot.ly"
       },
       "data": [
        {
         "line": {
          "color": "red"
         },
         "mode": "lines",
         "showlegend": false,
         "type": "scatter",
         "x": [
          34,
          34.86868686868687,
          35.73737373737374,
          36.60606060606061,
          37.474747474747474,
          38.343434343434346,
          39.21212121212121,
          40.08080808080808,
          40.94949494949495,
          41.81818181818182,
          42.686868686868685,
          43.55555555555556,
          44.42424242424242,
          45.292929292929294,
          46.161616161616166,
          47.03030303030303,
          47.898989898989896,
          48.76767676767677,
          49.63636363636364,
          50.505050505050505,
          51.37373737373737,
          52.24242424242424,
          53.111111111111114,
          53.97979797979798,
          54.84848484848485,
          55.71717171717172,
          56.58585858585859,
          57.45454545454545,
          58.323232323232325,
          59.1919191919192,
          60.06060606060606,
          60.92929292929293,
          61.7979797979798,
          62.66666666666667,
          63.535353535353536,
          64.4040404040404,
          65.27272727272728,
          66.14141414141415,
          67.01010101010101,
          67.87878787878788,
          68.74747474747474,
          69.61616161616162,
          70.48484848484848,
          71.35353535353536,
          72.22222222222223,
          73.0909090909091,
          73.95959595959596,
          74.82828282828282,
          75.6969696969697,
          76.56565656565657,
          77.43434343434345,
          78.30303030303031,
          79.17171717171718,
          80.04040404040404,
          80.9090909090909,
          81.77777777777777,
          82.64646464646465,
          83.51515151515152,
          84.3838383838384,
          85.25252525252526,
          86.12121212121212,
          86.98989898989899,
          87.85858585858585,
          88.72727272727272,
          89.5959595959596,
          90.46464646464648,
          91.33333333333334,
          92.20202020202021,
          93.07070707070707,
          93.93939393939394,
          94.8080808080808,
          95.67676767676768,
          96.54545454545455,
          97.41414141414143,
          98.28282828282829,
          99.15151515151516,
          100.02020202020202,
          100.88888888888889,
          101.75757575757576,
          102.62626262626263,
          103.4949494949495,
          104.36363636363637,
          105.23232323232324,
          106.1010101010101,
          106.96969696969697,
          107.83838383838385,
          108.70707070707071,
          109.57575757575758,
          110.44444444444444,
          111.31313131313132,
          112.18181818181819,
          113.05050505050505,
          113.91919191919192,
          114.7878787878788,
          115.65656565656566,
          116.52525252525253,
          117.3939393939394,
          118.26262626262627,
          119.13131313131314,
          120
         ],
         "y": [
          38099820.45413418,
          38516515.19473519,
          38933209.93533619,
          39349904.6759372,
          39766599.41653821,
          40183294.15713921,
          40599988.897740215,
          41016683.63834122,
          41433378.37894222,
          41850073.11954323,
          42266767.860144235,
          42683462.600745246,
          43100157.34134625,
          43516852.08194725,
          43933546.822548255,
          44350241.56314926,
          44766936.30375026,
          45183631.04435127,
          45600325.78495228,
          46017020.525553286,
          46433715.26615429,
          46850410.00675529,
          47267104.747356296,
          47683799.4879573,
          48100494.22855831,
          48517188.96915932,
          48933883.70976032,
          49350578.45036133,
          49767273.19096233,
          50183967.93156334,
          50600662.67216434,
          51017357.41276535,
          51434052.15336636,
          51850746.89396736,
          52267441.63456836,
          52684136.37516937,
          53100831.11577038,
          53517525.85637138,
          53934220.59697238,
          54350915.33757339,
          54767610.07817439,
          55184304.8187754,
          55600999.5593764,
          56017694.299977414,
          56434389.04057842,
          56851083.78117942,
          57267778.521780424,
          57684473.26238143,
          58101168.00298244,
          58517862.74358344,
          58934557.48418445,
          59351252.224785455,
          59767946.96538646,
          60184641.70598746,
          60601336.446588464,
          61018031.18718947,
          61434725.92779048,
          61851420.66839148,
          62268115.40899249,
          62684810.149593495,
          63101504.8901945,
          63518199.6307955,
          63934894.37139651,
          64351589.111997515,
          64768283.852598526,
          65184978.59319953,
          65601673.33380054,
          66018368.07440154,
          66435062.815002546,
          66851757.55560355,
          67268452.29620455,
          67685147.03680557,
          68101841.77740657,
          68518536.51800758,
          68935231.25860858,
          69351925.99920958,
          69768620.73981059,
          70185315.48041159,
          70602010.22101259,
          71018704.9616136,
          71435399.7022146,
          71852094.44281562,
          72268789.18341662,
          72685483.92401762,
          73102178.66461863,
          73518873.40521964,
          73935568.14582065,
          74352262.88642165,
          74768957.62702265,
          75185652.36762366,
          75602347.10822466,
          76019041.84882566,
          76435736.58942667,
          76852431.33002767,
          77269126.07062867,
          77685820.81122968,
          78102515.5518307,
          78519210.2924317,
          78935905.0330327,
          79352599.7736337
         ]
        },
        {
         "hovertemplate": "x=%{x}<br>y=%{y}<extra></extra>",
         "legendgroup": "",
         "line": {
          "color": "#636efa",
          "dash": "solid"
         },
         "marker": {
          "symbol": "circle"
         },
         "mode": "lines",
         "name": "",
         "orientation": "v",
         "showlegend": false,
         "type": "scatter",
         "x": [
          34,
          120
         ],
         "xaxis": "x",
         "y": [
          36687335.65125516,
          80631977.26621833
         ],
         "yaxis": "y"
        },
        {
         "hovertemplate": "Area [m²]=%{x}<br>Price [Ft]=%{y}<extra></extra>",
         "legendgroup": "",
         "marker": {
          "color": "#636efa",
          "symbol": "circle"
         },
         "mode": "markers",
         "name": "",
         "orientation": "v",
         "showlegend": false,
         "type": "scatter",
         "x": [
          38,
          38,
          120,
          57,
          34,
          116,
          75,
          97,
          111,
          110,
          72,
          115,
          47,
          57,
          57,
          78,
          35,
          37,
          82,
          55,
          90,
          83,
          106,
          120,
          47,
          44,
          115,
          34,
          57,
          116,
          113,
          72,
          68,
          34,
          50,
          96,
          88,
          106,
          46,
          46,
          91,
          115,
          45,
          54,
          120,
          34,
          120,
          64,
          49,
          78
         ],
         "xaxis": "x",
         "y": [
          38099490,
          36277995,
          64527260,
          44747174,
          27939275,
          76546920,
          60578232,
          52698438,
          81580905,
          78668330,
          67871823,
          84218940,
          49088112,
          51676898,
          54029378,
          59516862,
          34198560,
          36920534,
          76839906,
          55316520,
          93545270,
          68554332,
          64645560,
          85039780,
          37038480,
          46331190,
          58616325,
          27058430,
          54931858,
          82836784,
          78581188,
          67686111,
          52355682,
          32260340,
          50784015,
          71961296,
          92137873,
          76911912,
          35507748,
          44850220,
          54146355,
          58576095,
          36928064,
          45836725,
          64897700,
          27812575,
          64033480,
          66276080,
          43388350,
          64836485
         ],
         "yaxis": "y"
        }
       ],
       "layout": {
        "template": {
         "data": {
          "bar": [
           {
            "error_x": {
             "color": "#2a3f5f"
            },
            "error_y": {
             "color": "#2a3f5f"
            },
            "marker": {
             "line": {
              "color": "#E5ECF6",
              "width": 0.5
             },
             "pattern": {
              "fillmode": "overlay",
              "size": 10,
              "solidity": 0.2
             }
            },
            "type": "bar"
           }
          ],
          "barpolar": [
           {
            "marker": {
             "line": {
              "color": "#E5ECF6",
              "width": 0.5
             },
             "pattern": {
              "fillmode": "overlay",
              "size": 10,
              "solidity": 0.2
             }
            },
            "type": "barpolar"
           }
          ],
          "carpet": [
           {
            "aaxis": {
             "endlinecolor": "#2a3f5f",
             "gridcolor": "white",
             "linecolor": "white",
             "minorgridcolor": "white",
             "startlinecolor": "#2a3f5f"
            },
            "baxis": {
             "endlinecolor": "#2a3f5f",
             "gridcolor": "white",
             "linecolor": "white",
             "minorgridcolor": "white",
             "startlinecolor": "#2a3f5f"
            },
            "type": "carpet"
           }
          ],
          "choropleth": [
           {
            "colorbar": {
             "outlinewidth": 0,
             "ticks": ""
            },
            "type": "choropleth"
           }
          ],
          "contour": [
           {
            "colorbar": {
             "outlinewidth": 0,
             "ticks": ""
            },
            "colorscale": [
             [
              0,
              "#0d0887"
             ],
             [
              0.1111111111111111,
              "#46039f"
             ],
             [
              0.2222222222222222,
              "#7201a8"
             ],
             [
              0.3333333333333333,
              "#9c179e"
             ],
             [
              0.4444444444444444,
              "#bd3786"
             ],
             [
              0.5555555555555556,
              "#d8576b"
             ],
             [
              0.6666666666666666,
              "#ed7953"
             ],
             [
              0.7777777777777778,
              "#fb9f3a"
             ],
             [
              0.8888888888888888,
              "#fdca26"
             ],
             [
              1,
              "#f0f921"
             ]
            ],
            "type": "contour"
           }
          ],
          "contourcarpet": [
           {
            "colorbar": {
             "outlinewidth": 0,
             "ticks": ""
            },
            "type": "contourcarpet"
           }
          ],
          "heatmap": [
           {
            "colorbar": {
             "outlinewidth": 0,
             "ticks": ""
            },
            "colorscale": [
             [
              0,
              "#0d0887"
             ],
             [
              0.1111111111111111,
              "#46039f"
             ],
             [
              0.2222222222222222,
              "#7201a8"
             ],
             [
              0.3333333333333333,
              "#9c179e"
             ],
             [
              0.4444444444444444,
              "#bd3786"
             ],
             [
              0.5555555555555556,
              "#d8576b"
             ],
             [
              0.6666666666666666,
              "#ed7953"
             ],
             [
              0.7777777777777778,
              "#fb9f3a"
             ],
             [
              0.8888888888888888,
              "#fdca26"
             ],
             [
              1,
              "#f0f921"
             ]
            ],
            "type": "heatmap"
           }
          ],
          "heatmapgl": [
           {
            "colorbar": {
             "outlinewidth": 0,
             "ticks": ""
            },
            "colorscale": [
             [
              0,
              "#0d0887"
             ],
             [
              0.1111111111111111,
              "#46039f"
             ],
             [
              0.2222222222222222,
              "#7201a8"
             ],
             [
              0.3333333333333333,
              "#9c179e"
             ],
             [
              0.4444444444444444,
              "#bd3786"
             ],
             [
              0.5555555555555556,
              "#d8576b"
             ],
             [
              0.6666666666666666,
              "#ed7953"
             ],
             [
              0.7777777777777778,
              "#fb9f3a"
             ],
             [
              0.8888888888888888,
              "#fdca26"
             ],
             [
              1,
              "#f0f921"
             ]
            ],
            "type": "heatmapgl"
           }
          ],
          "histogram": [
           {
            "marker": {
             "pattern": {
              "fillmode": "overlay",
              "size": 10,
              "solidity": 0.2
             }
            },
            "type": "histogram"
           }
          ],
          "histogram2d": [
           {
            "colorbar": {
             "outlinewidth": 0,
             "ticks": ""
            },
            "colorscale": [
             [
              0,
              "#0d0887"
             ],
             [
              0.1111111111111111,
              "#46039f"
             ],
             [
              0.2222222222222222,
              "#7201a8"
             ],
             [
              0.3333333333333333,
              "#9c179e"
             ],
             [
              0.4444444444444444,
              "#bd3786"
             ],
             [
              0.5555555555555556,
              "#d8576b"
             ],
             [
              0.6666666666666666,
              "#ed7953"
             ],
             [
              0.7777777777777778,
              "#fb9f3a"
             ],
             [
              0.8888888888888888,
              "#fdca26"
             ],
             [
              1,
              "#f0f921"
             ]
            ],
            "type": "histogram2d"
           }
          ],
          "histogram2dcontour": [
           {
            "colorbar": {
             "outlinewidth": 0,
             "ticks": ""
            },
            "colorscale": [
             [
              0,
              "#0d0887"
             ],
             [
              0.1111111111111111,
              "#46039f"
             ],
             [
              0.2222222222222222,
              "#7201a8"
             ],
             [
              0.3333333333333333,
              "#9c179e"
             ],
             [
              0.4444444444444444,
              "#bd3786"
             ],
             [
              0.5555555555555556,
              "#d8576b"
             ],
             [
              0.6666666666666666,
              "#ed7953"
             ],
             [
              0.7777777777777778,
              "#fb9f3a"
             ],
             [
              0.8888888888888888,
              "#fdca26"
             ],
             [
              1,
              "#f0f921"
             ]
            ],
            "type": "histogram2dcontour"
           }
          ],
          "mesh3d": [
           {
            "colorbar": {
             "outlinewidth": 0,
             "ticks": ""
            },
            "type": "mesh3d"
           }
          ],
          "parcoords": [
           {
            "line": {
             "colorbar": {
              "outlinewidth": 0,
              "ticks": ""
             }
            },
            "type": "parcoords"
           }
          ],
          "pie": [
           {
            "automargin": true,
            "type": "pie"
           }
          ],
          "scatter": [
           {
            "fillpattern": {
             "fillmode": "overlay",
             "size": 10,
             "solidity": 0.2
            },
            "type": "scatter"
           }
          ],
          "scatter3d": [
           {
            "line": {
             "colorbar": {
              "outlinewidth": 0,
              "ticks": ""
             }
            },
            "marker": {
             "colorbar": {
              "outlinewidth": 0,
              "ticks": ""
             }
            },
            "type": "scatter3d"
           }
          ],
          "scattercarpet": [
           {
            "marker": {
             "colorbar": {
              "outlinewidth": 0,
              "ticks": ""
             }
            },
            "type": "scattercarpet"
           }
          ],
          "scattergeo": [
           {
            "marker": {
             "colorbar": {
              "outlinewidth": 0,
              "ticks": ""
             }
            },
            "type": "scattergeo"
           }
          ],
          "scattergl": [
           {
            "marker": {
             "colorbar": {
              "outlinewidth": 0,
              "ticks": ""
             }
            },
            "type": "scattergl"
           }
          ],
          "scattermapbox": [
           {
            "marker": {
             "colorbar": {
              "outlinewidth": 0,
              "ticks": ""
             }
            },
            "type": "scattermapbox"
           }
          ],
          "scatterpolar": [
           {
            "marker": {
             "colorbar": {
              "outlinewidth": 0,
              "ticks": ""
             }
            },
            "type": "scatterpolar"
           }
          ],
          "scatterpolargl": [
           {
            "marker": {
             "colorbar": {
              "outlinewidth": 0,
              "ticks": ""
             }
            },
            "type": "scatterpolargl"
           }
          ],
          "scatterternary": [
           {
            "marker": {
             "colorbar": {
              "outlinewidth": 0,
              "ticks": ""
             }
            },
            "type": "scatterternary"
           }
          ],
          "surface": [
           {
            "colorbar": {
             "outlinewidth": 0,
             "ticks": ""
            },
            "colorscale": [
             [
              0,
              "#0d0887"
             ],
             [
              0.1111111111111111,
              "#46039f"
             ],
             [
              0.2222222222222222,
              "#7201a8"
             ],
             [
              0.3333333333333333,
              "#9c179e"
             ],
             [
              0.4444444444444444,
              "#bd3786"
             ],
             [
              0.5555555555555556,
              "#d8576b"
             ],
             [
              0.6666666666666666,
              "#ed7953"
             ],
             [
              0.7777777777777778,
              "#fb9f3a"
             ],
             [
              0.8888888888888888,
              "#fdca26"
             ],
             [
              1,
              "#f0f921"
             ]
            ],
            "type": "surface"
           }
          ],
          "table": [
           {
            "cells": {
             "fill": {
              "color": "#EBF0F8"
             },
             "line": {
              "color": "white"
             }
            },
            "header": {
             "fill": {
              "color": "#C8D4E3"
             },
             "line": {
              "color": "white"
             }
            },
            "type": "table"
           }
          ]
         },
         "layout": {
          "annotationdefaults": {
           "arrowcolor": "#2a3f5f",
           "arrowhead": 0,
           "arrowwidth": 1
          },
          "autotypenumbers": "strict",
          "coloraxis": {
           "colorbar": {
            "outlinewidth": 0,
            "ticks": ""
           }
          },
          "colorscale": {
           "diverging": [
            [
             0,
             "#8e0152"
            ],
            [
             0.1,
             "#c51b7d"
            ],
            [
             0.2,
             "#de77ae"
            ],
            [
             0.3,
             "#f1b6da"
            ],
            [
             0.4,
             "#fde0ef"
            ],
            [
             0.5,
             "#f7f7f7"
            ],
            [
             0.6,
             "#e6f5d0"
            ],
            [
             0.7,
             "#b8e186"
            ],
            [
             0.8,
             "#7fbc41"
            ],
            [
             0.9,
             "#4d9221"
            ],
            [
             1,
             "#276419"
            ]
           ],
           "sequential": [
            [
             0,
             "#0d0887"
            ],
            [
             0.1111111111111111,
             "#46039f"
            ],
            [
             0.2222222222222222,
             "#7201a8"
            ],
            [
             0.3333333333333333,
             "#9c179e"
            ],
            [
             0.4444444444444444,
             "#bd3786"
            ],
            [
             0.5555555555555556,
             "#d8576b"
            ],
            [
             0.6666666666666666,
             "#ed7953"
            ],
            [
             0.7777777777777778,
             "#fb9f3a"
            ],
            [
             0.8888888888888888,
             "#fdca26"
            ],
            [
             1,
             "#f0f921"
            ]
           ],
           "sequentialminus": [
            [
             0,
             "#0d0887"
            ],
            [
             0.1111111111111111,
             "#46039f"
            ],
            [
             0.2222222222222222,
             "#7201a8"
            ],
            [
             0.3333333333333333,
             "#9c179e"
            ],
            [
             0.4444444444444444,
             "#bd3786"
            ],
            [
             0.5555555555555556,
             "#d8576b"
            ],
            [
             0.6666666666666666,
             "#ed7953"
            ],
            [
             0.7777777777777778,
             "#fb9f3a"
            ],
            [
             0.8888888888888888,
             "#fdca26"
            ],
            [
             1,
             "#f0f921"
            ]
           ]
          },
          "colorway": [
           "#636efa",
           "#EF553B",
           "#00cc96",
           "#ab63fa",
           "#FFA15A",
           "#19d3f3",
           "#FF6692",
           "#B6E880",
           "#FF97FF",
           "#FECB52"
          ],
          "font": {
           "color": "#2a3f5f"
          },
          "geo": {
           "bgcolor": "white",
           "lakecolor": "white",
           "landcolor": "#E5ECF6",
           "showlakes": true,
           "showland": true,
           "subunitcolor": "white"
          },
          "hoverlabel": {
           "align": "left"
          },
          "hovermode": "closest",
          "mapbox": {
           "style": "light"
          },
          "paper_bgcolor": "white",
          "plot_bgcolor": "#E5ECF6",
          "polar": {
           "angularaxis": {
            "gridcolor": "white",
            "linecolor": "white",
            "ticks": ""
           },
           "bgcolor": "#E5ECF6",
           "radialaxis": {
            "gridcolor": "white",
            "linecolor": "white",
            "ticks": ""
           }
          },
          "scene": {
           "xaxis": {
            "backgroundcolor": "#E5ECF6",
            "gridcolor": "white",
            "gridwidth": 2,
            "linecolor": "white",
            "showbackground": true,
            "ticks": "",
            "zerolinecolor": "white"
           },
           "yaxis": {
            "backgroundcolor": "#E5ECF6",
            "gridcolor": "white",
            "gridwidth": 2,
            "linecolor": "white",
            "showbackground": true,
            "ticks": "",
            "zerolinecolor": "white"
           },
           "zaxis": {
            "backgroundcolor": "#E5ECF6",
            "gridcolor": "white",
            "gridwidth": 2,
            "linecolor": "white",
            "showbackground": true,
            "ticks": "",
            "zerolinecolor": "white"
           }
          },
          "shapedefaults": {
           "line": {
            "color": "#2a3f5f"
           }
          },
          "ternary": {
           "aaxis": {
            "gridcolor": "white",
            "linecolor": "white",
            "ticks": ""
           },
           "baxis": {
            "gridcolor": "white",
            "linecolor": "white",
            "ticks": ""
           },
           "bgcolor": "#E5ECF6",
           "caxis": {
            "gridcolor": "white",
            "linecolor": "white",
            "ticks": ""
           }
          },
          "title": {
           "x": 0.05
          },
          "xaxis": {
           "automargin": true,
           "gridcolor": "white",
           "linecolor": "white",
           "ticks": "",
           "title": {
            "standoff": 15
           },
           "zerolinecolor": "white",
           "zerolinewidth": 2
          },
          "yaxis": {
           "automargin": true,
           "gridcolor": "white",
           "linecolor": "white",
           "ticks": "",
           "title": {
            "standoff": 15
           },
           "zerolinecolor": "white",
           "zerolinewidth": 2
          }
         }
        }
       }
      }
     },
     "metadata": {},
     "output_type": "display_data"
    }
   ],
   "source": [
    "from scipy import stats\n",
    "\n",
    "result = stats.linregress(area, price)\n",
    "print(result)\n",
    "slope, intercept, r, p, std_err = result\n",
    "# plot\n",
    "x_range = np.linspace(min(area), max(area), 100)\n",
    "trace = go.Scatter(\n",
    "    x=x_range,\n",
    "    y=[slope * x + intercept for x in x_range],\n",
    "    mode=\"lines\",\n",
    "    showlegend=False,\n",
    ")\n",
    "trace.line[\"color\"] = \"red\"\n",
    "fig5 = go.Figure(data=(trace,) + fig4.data)\n",
    "fig5.show()"
   ]
  },
  {
   "cell_type": "code",
   "execution_count": 40,
   "metadata": {},
   "outputs": [
    {
     "name": "stdout",
     "output_type": "stream",
     "text": [
      "a=479_683.48045929713 b=21_790_582.11851807\n"
     ]
    },
    {
     "data": {
      "application/vnd.plotly.v1+json": {
       "config": {
        "plotlyServerURL": "https://plot.ly"
       },
       "data": [
        {
         "line": {
          "color": "orange"
         },
         "mode": "lines",
         "showlegend": false,
         "type": "scatter",
         "x": [
          34,
          34.86868686868687,
          35.73737373737374,
          36.60606060606061,
          37.474747474747474,
          38.343434343434346,
          39.21212121212121,
          40.08080808080808,
          40.94949494949495,
          41.81818181818182,
          42.686868686868685,
          43.55555555555556,
          44.42424242424242,
          45.292929292929294,
          46.161616161616166,
          47.03030303030303,
          47.898989898989896,
          48.76767676767677,
          49.63636363636364,
          50.505050505050505,
          51.37373737373737,
          52.24242424242424,
          53.111111111111114,
          53.97979797979798,
          54.84848484848485,
          55.71717171717172,
          56.58585858585859,
          57.45454545454545,
          58.323232323232325,
          59.1919191919192,
          60.06060606060606,
          60.92929292929293,
          61.7979797979798,
          62.66666666666667,
          63.535353535353536,
          64.4040404040404,
          65.27272727272728,
          66.14141414141415,
          67.01010101010101,
          67.87878787878788,
          68.74747474747474,
          69.61616161616162,
          70.48484848484848,
          71.35353535353536,
          72.22222222222223,
          73.0909090909091,
          73.95959595959596,
          74.82828282828282,
          75.6969696969697,
          76.56565656565657,
          77.43434343434345,
          78.30303030303031,
          79.17171717171718,
          80.04040404040404,
          80.9090909090909,
          81.77777777777777,
          82.64646464646465,
          83.51515151515152,
          84.3838383838384,
          85.25252525252526,
          86.12121212121212,
          86.98989898989899,
          87.85858585858585,
          88.72727272727272,
          89.5959595959596,
          90.46464646464648,
          91.33333333333334,
          92.20202020202021,
          93.07070707070707,
          93.93939393939394,
          94.8080808080808,
          95.67676767676768,
          96.54545454545455,
          97.41414141414143,
          98.28282828282829,
          99.15151515151516,
          100.02020202020202,
          100.88888888888889,
          101.75757575757576,
          102.62626262626263,
          103.4949494949495,
          104.36363636363637,
          105.23232323232324,
          106.1010101010101,
          106.96969696969697,
          107.83838383838385,
          108.70707070707071,
          109.57575757575758,
          110.44444444444444,
          111.31313131313132,
          112.18181818181819,
          113.05050505050505,
          113.91919191919192,
          114.7878787878788,
          115.65656565656566,
          116.52525252525253,
          117.3939393939394,
          118.26262626262627,
          119.13131313131314,
          120
         ],
         "y": [
          38099820.45413417,
          38516515.19473518,
          38933209.93533619,
          39349904.67593719,
          39766599.416538194,
          40183294.1571392,
          40599988.8977402,
          41016683.63834121,
          41433378.37894222,
          41850073.119543225,
          42266767.86014423,
          42683462.60074523,
          43100157.341346234,
          43516852.081947245,
          43933546.822548255,
          44350241.56314926,
          44766936.30375026,
          45183631.044351265,
          45600325.784952275,
          46017020.52555328,
          46433715.26615428,
          46850410.00675529,
          47267104.747356296,
          47683799.4879573,
          48100494.2285583,
          48517188.96915932,
          48933883.70976032,
          49350578.45036133,
          49767273.19096233,
          50183967.93156333,
          50600662.672164336,
          51017357.41276534,
          51434052.15336636,
          51850746.89396736,
          52267441.63456836,
          52684136.37516937,
          53100831.11577038,
          53517525.85637138,
          53934220.59697238,
          54350915.33757339,
          54767610.0781744,
          55184304.8187754,
          55600999.5593764,
          56017694.299977414,
          56434389.04057842,
          56851083.78117943,
          57267778.52178043,
          57684473.262381434,
          58101168.002982445,
          58517862.74358345,
          58934557.48418446,
          59351252.22478546,
          59767946.965386465,
          60184641.70598747,
          60601336.44658847,
          61018031.187189475,
          61434725.927790485,
          61851420.66839149,
          62268115.4089925,
          62684810.1495935,
          63101504.890194505,
          63518199.630795516,
          63934894.37139652,
          64351589.11199752,
          64768283.85259853,
          65184978.59319954,
          65601673.33380055,
          66018368.07440155,
          66435062.81500255,
          66851757.55560356,
          67268452.29620457,
          67685147.03680557,
          68101841.77740657,
          68518536.51800758,
          68935231.25860858,
          69351925.99920958,
          69768620.7398106,
          70185315.4804116,
          70602010.22101262,
          71018704.96161363,
          71435399.70221463,
          71852094.44281563,
          72268789.18341663,
          72685483.92401764,
          73102178.66461864,
          73518873.40521964,
          73935568.14582065,
          74352262.88642165,
          74768957.62702265,
          75185652.36762367,
          75602347.10822468,
          76019041.84882568,
          76435736.5894267,
          76852431.3300277,
          77269126.0706287,
          77685820.8112297,
          78102515.55183071,
          78519210.29243171,
          78935905.03303272,
          79352599.77363372
         ]
        },
        {
         "hovertemplate": "x=%{x}<br>y=%{y}<extra></extra>",
         "legendgroup": "",
         "line": {
          "color": "#636efa",
          "dash": "solid"
         },
         "marker": {
          "symbol": "circle"
         },
         "mode": "lines",
         "name": "",
         "orientation": "v",
         "showlegend": false,
         "type": "scatter",
         "x": [
          34,
          120
         ],
         "xaxis": "x",
         "y": [
          36687335.65125516,
          80631977.26621833
         ],
         "yaxis": "y"
        },
        {
         "hovertemplate": "Area [m²]=%{x}<br>Price [Ft]=%{y}<extra></extra>",
         "legendgroup": "",
         "marker": {
          "color": "#636efa",
          "symbol": "circle"
         },
         "mode": "markers",
         "name": "",
         "orientation": "v",
         "showlegend": false,
         "type": "scatter",
         "x": [
          38,
          38,
          120,
          57,
          34,
          116,
          75,
          97,
          111,
          110,
          72,
          115,
          47,
          57,
          57,
          78,
          35,
          37,
          82,
          55,
          90,
          83,
          106,
          120,
          47,
          44,
          115,
          34,
          57,
          116,
          113,
          72,
          68,
          34,
          50,
          96,
          88,
          106,
          46,
          46,
          91,
          115,
          45,
          54,
          120,
          34,
          120,
          64,
          49,
          78
         ],
         "xaxis": "x",
         "y": [
          38099490,
          36277995,
          64527260,
          44747174,
          27939275,
          76546920,
          60578232,
          52698438,
          81580905,
          78668330,
          67871823,
          84218940,
          49088112,
          51676898,
          54029378,
          59516862,
          34198560,
          36920534,
          76839906,
          55316520,
          93545270,
          68554332,
          64645560,
          85039780,
          37038480,
          46331190,
          58616325,
          27058430,
          54931858,
          82836784,
          78581188,
          67686111,
          52355682,
          32260340,
          50784015,
          71961296,
          92137873,
          76911912,
          35507748,
          44850220,
          54146355,
          58576095,
          36928064,
          45836725,
          64897700,
          27812575,
          64033480,
          66276080,
          43388350,
          64836485
         ],
         "yaxis": "y"
        }
       ],
       "layout": {
        "template": {
         "data": {
          "bar": [
           {
            "error_x": {
             "color": "#2a3f5f"
            },
            "error_y": {
             "color": "#2a3f5f"
            },
            "marker": {
             "line": {
              "color": "#E5ECF6",
              "width": 0.5
             },
             "pattern": {
              "fillmode": "overlay",
              "size": 10,
              "solidity": 0.2
             }
            },
            "type": "bar"
           }
          ],
          "barpolar": [
           {
            "marker": {
             "line": {
              "color": "#E5ECF6",
              "width": 0.5
             },
             "pattern": {
              "fillmode": "overlay",
              "size": 10,
              "solidity": 0.2
             }
            },
            "type": "barpolar"
           }
          ],
          "carpet": [
           {
            "aaxis": {
             "endlinecolor": "#2a3f5f",
             "gridcolor": "white",
             "linecolor": "white",
             "minorgridcolor": "white",
             "startlinecolor": "#2a3f5f"
            },
            "baxis": {
             "endlinecolor": "#2a3f5f",
             "gridcolor": "white",
             "linecolor": "white",
             "minorgridcolor": "white",
             "startlinecolor": "#2a3f5f"
            },
            "type": "carpet"
           }
          ],
          "choropleth": [
           {
            "colorbar": {
             "outlinewidth": 0,
             "ticks": ""
            },
            "type": "choropleth"
           }
          ],
          "contour": [
           {
            "colorbar": {
             "outlinewidth": 0,
             "ticks": ""
            },
            "colorscale": [
             [
              0,
              "#0d0887"
             ],
             [
              0.1111111111111111,
              "#46039f"
             ],
             [
              0.2222222222222222,
              "#7201a8"
             ],
             [
              0.3333333333333333,
              "#9c179e"
             ],
             [
              0.4444444444444444,
              "#bd3786"
             ],
             [
              0.5555555555555556,
              "#d8576b"
             ],
             [
              0.6666666666666666,
              "#ed7953"
             ],
             [
              0.7777777777777778,
              "#fb9f3a"
             ],
             [
              0.8888888888888888,
              "#fdca26"
             ],
             [
              1,
              "#f0f921"
             ]
            ],
            "type": "contour"
           }
          ],
          "contourcarpet": [
           {
            "colorbar": {
             "outlinewidth": 0,
             "ticks": ""
            },
            "type": "contourcarpet"
           }
          ],
          "heatmap": [
           {
            "colorbar": {
             "outlinewidth": 0,
             "ticks": ""
            },
            "colorscale": [
             [
              0,
              "#0d0887"
             ],
             [
              0.1111111111111111,
              "#46039f"
             ],
             [
              0.2222222222222222,
              "#7201a8"
             ],
             [
              0.3333333333333333,
              "#9c179e"
             ],
             [
              0.4444444444444444,
              "#bd3786"
             ],
             [
              0.5555555555555556,
              "#d8576b"
             ],
             [
              0.6666666666666666,
              "#ed7953"
             ],
             [
              0.7777777777777778,
              "#fb9f3a"
             ],
             [
              0.8888888888888888,
              "#fdca26"
             ],
             [
              1,
              "#f0f921"
             ]
            ],
            "type": "heatmap"
           }
          ],
          "heatmapgl": [
           {
            "colorbar": {
             "outlinewidth": 0,
             "ticks": ""
            },
            "colorscale": [
             [
              0,
              "#0d0887"
             ],
             [
              0.1111111111111111,
              "#46039f"
             ],
             [
              0.2222222222222222,
              "#7201a8"
             ],
             [
              0.3333333333333333,
              "#9c179e"
             ],
             [
              0.4444444444444444,
              "#bd3786"
             ],
             [
              0.5555555555555556,
              "#d8576b"
             ],
             [
              0.6666666666666666,
              "#ed7953"
             ],
             [
              0.7777777777777778,
              "#fb9f3a"
             ],
             [
              0.8888888888888888,
              "#fdca26"
             ],
             [
              1,
              "#f0f921"
             ]
            ],
            "type": "heatmapgl"
           }
          ],
          "histogram": [
           {
            "marker": {
             "pattern": {
              "fillmode": "overlay",
              "size": 10,
              "solidity": 0.2
             }
            },
            "type": "histogram"
           }
          ],
          "histogram2d": [
           {
            "colorbar": {
             "outlinewidth": 0,
             "ticks": ""
            },
            "colorscale": [
             [
              0,
              "#0d0887"
             ],
             [
              0.1111111111111111,
              "#46039f"
             ],
             [
              0.2222222222222222,
              "#7201a8"
             ],
             [
              0.3333333333333333,
              "#9c179e"
             ],
             [
              0.4444444444444444,
              "#bd3786"
             ],
             [
              0.5555555555555556,
              "#d8576b"
             ],
             [
              0.6666666666666666,
              "#ed7953"
             ],
             [
              0.7777777777777778,
              "#fb9f3a"
             ],
             [
              0.8888888888888888,
              "#fdca26"
             ],
             [
              1,
              "#f0f921"
             ]
            ],
            "type": "histogram2d"
           }
          ],
          "histogram2dcontour": [
           {
            "colorbar": {
             "outlinewidth": 0,
             "ticks": ""
            },
            "colorscale": [
             [
              0,
              "#0d0887"
             ],
             [
              0.1111111111111111,
              "#46039f"
             ],
             [
              0.2222222222222222,
              "#7201a8"
             ],
             [
              0.3333333333333333,
              "#9c179e"
             ],
             [
              0.4444444444444444,
              "#bd3786"
             ],
             [
              0.5555555555555556,
              "#d8576b"
             ],
             [
              0.6666666666666666,
              "#ed7953"
             ],
             [
              0.7777777777777778,
              "#fb9f3a"
             ],
             [
              0.8888888888888888,
              "#fdca26"
             ],
             [
              1,
              "#f0f921"
             ]
            ],
            "type": "histogram2dcontour"
           }
          ],
          "mesh3d": [
           {
            "colorbar": {
             "outlinewidth": 0,
             "ticks": ""
            },
            "type": "mesh3d"
           }
          ],
          "parcoords": [
           {
            "line": {
             "colorbar": {
              "outlinewidth": 0,
              "ticks": ""
             }
            },
            "type": "parcoords"
           }
          ],
          "pie": [
           {
            "automargin": true,
            "type": "pie"
           }
          ],
          "scatter": [
           {
            "fillpattern": {
             "fillmode": "overlay",
             "size": 10,
             "solidity": 0.2
            },
            "type": "scatter"
           }
          ],
          "scatter3d": [
           {
            "line": {
             "colorbar": {
              "outlinewidth": 0,
              "ticks": ""
             }
            },
            "marker": {
             "colorbar": {
              "outlinewidth": 0,
              "ticks": ""
             }
            },
            "type": "scatter3d"
           }
          ],
          "scattercarpet": [
           {
            "marker": {
             "colorbar": {
              "outlinewidth": 0,
              "ticks": ""
             }
            },
            "type": "scattercarpet"
           }
          ],
          "scattergeo": [
           {
            "marker": {
             "colorbar": {
              "outlinewidth": 0,
              "ticks": ""
             }
            },
            "type": "scattergeo"
           }
          ],
          "scattergl": [
           {
            "marker": {
             "colorbar": {
              "outlinewidth": 0,
              "ticks": ""
             }
            },
            "type": "scattergl"
           }
          ],
          "scattermapbox": [
           {
            "marker": {
             "colorbar": {
              "outlinewidth": 0,
              "ticks": ""
             }
            },
            "type": "scattermapbox"
           }
          ],
          "scatterpolar": [
           {
            "marker": {
             "colorbar": {
              "outlinewidth": 0,
              "ticks": ""
             }
            },
            "type": "scatterpolar"
           }
          ],
          "scatterpolargl": [
           {
            "marker": {
             "colorbar": {
              "outlinewidth": 0,
              "ticks": ""
             }
            },
            "type": "scatterpolargl"
           }
          ],
          "scatterternary": [
           {
            "marker": {
             "colorbar": {
              "outlinewidth": 0,
              "ticks": ""
             }
            },
            "type": "scatterternary"
           }
          ],
          "surface": [
           {
            "colorbar": {
             "outlinewidth": 0,
             "ticks": ""
            },
            "colorscale": [
             [
              0,
              "#0d0887"
             ],
             [
              0.1111111111111111,
              "#46039f"
             ],
             [
              0.2222222222222222,
              "#7201a8"
             ],
             [
              0.3333333333333333,
              "#9c179e"
             ],
             [
              0.4444444444444444,
              "#bd3786"
             ],
             [
              0.5555555555555556,
              "#d8576b"
             ],
             [
              0.6666666666666666,
              "#ed7953"
             ],
             [
              0.7777777777777778,
              "#fb9f3a"
             ],
             [
              0.8888888888888888,
              "#fdca26"
             ],
             [
              1,
              "#f0f921"
             ]
            ],
            "type": "surface"
           }
          ],
          "table": [
           {
            "cells": {
             "fill": {
              "color": "#EBF0F8"
             },
             "line": {
              "color": "white"
             }
            },
            "header": {
             "fill": {
              "color": "#C8D4E3"
             },
             "line": {
              "color": "white"
             }
            },
            "type": "table"
           }
          ]
         },
         "layout": {
          "annotationdefaults": {
           "arrowcolor": "#2a3f5f",
           "arrowhead": 0,
           "arrowwidth": 1
          },
          "autotypenumbers": "strict",
          "coloraxis": {
           "colorbar": {
            "outlinewidth": 0,
            "ticks": ""
           }
          },
          "colorscale": {
           "diverging": [
            [
             0,
             "#8e0152"
            ],
            [
             0.1,
             "#c51b7d"
            ],
            [
             0.2,
             "#de77ae"
            ],
            [
             0.3,
             "#f1b6da"
            ],
            [
             0.4,
             "#fde0ef"
            ],
            [
             0.5,
             "#f7f7f7"
            ],
            [
             0.6,
             "#e6f5d0"
            ],
            [
             0.7,
             "#b8e186"
            ],
            [
             0.8,
             "#7fbc41"
            ],
            [
             0.9,
             "#4d9221"
            ],
            [
             1,
             "#276419"
            ]
           ],
           "sequential": [
            [
             0,
             "#0d0887"
            ],
            [
             0.1111111111111111,
             "#46039f"
            ],
            [
             0.2222222222222222,
             "#7201a8"
            ],
            [
             0.3333333333333333,
             "#9c179e"
            ],
            [
             0.4444444444444444,
             "#bd3786"
            ],
            [
             0.5555555555555556,
             "#d8576b"
            ],
            [
             0.6666666666666666,
             "#ed7953"
            ],
            [
             0.7777777777777778,
             "#fb9f3a"
            ],
            [
             0.8888888888888888,
             "#fdca26"
            ],
            [
             1,
             "#f0f921"
            ]
           ],
           "sequentialminus": [
            [
             0,
             "#0d0887"
            ],
            [
             0.1111111111111111,
             "#46039f"
            ],
            [
             0.2222222222222222,
             "#7201a8"
            ],
            [
             0.3333333333333333,
             "#9c179e"
            ],
            [
             0.4444444444444444,
             "#bd3786"
            ],
            [
             0.5555555555555556,
             "#d8576b"
            ],
            [
             0.6666666666666666,
             "#ed7953"
            ],
            [
             0.7777777777777778,
             "#fb9f3a"
            ],
            [
             0.8888888888888888,
             "#fdca26"
            ],
            [
             1,
             "#f0f921"
            ]
           ]
          },
          "colorway": [
           "#636efa",
           "#EF553B",
           "#00cc96",
           "#ab63fa",
           "#FFA15A",
           "#19d3f3",
           "#FF6692",
           "#B6E880",
           "#FF97FF",
           "#FECB52"
          ],
          "font": {
           "color": "#2a3f5f"
          },
          "geo": {
           "bgcolor": "white",
           "lakecolor": "white",
           "landcolor": "#E5ECF6",
           "showlakes": true,
           "showland": true,
           "subunitcolor": "white"
          },
          "hoverlabel": {
           "align": "left"
          },
          "hovermode": "closest",
          "mapbox": {
           "style": "light"
          },
          "paper_bgcolor": "white",
          "plot_bgcolor": "#E5ECF6",
          "polar": {
           "angularaxis": {
            "gridcolor": "white",
            "linecolor": "white",
            "ticks": ""
           },
           "bgcolor": "#E5ECF6",
           "radialaxis": {
            "gridcolor": "white",
            "linecolor": "white",
            "ticks": ""
           }
          },
          "scene": {
           "xaxis": {
            "backgroundcolor": "#E5ECF6",
            "gridcolor": "white",
            "gridwidth": 2,
            "linecolor": "white",
            "showbackground": true,
            "ticks": "",
            "zerolinecolor": "white"
           },
           "yaxis": {
            "backgroundcolor": "#E5ECF6",
            "gridcolor": "white",
            "gridwidth": 2,
            "linecolor": "white",
            "showbackground": true,
            "ticks": "",
            "zerolinecolor": "white"
           },
           "zaxis": {
            "backgroundcolor": "#E5ECF6",
            "gridcolor": "white",
            "gridwidth": 2,
            "linecolor": "white",
            "showbackground": true,
            "ticks": "",
            "zerolinecolor": "white"
           }
          },
          "shapedefaults": {
           "line": {
            "color": "#2a3f5f"
           }
          },
          "ternary": {
           "aaxis": {
            "gridcolor": "white",
            "linecolor": "white",
            "ticks": ""
           },
           "baxis": {
            "gridcolor": "white",
            "linecolor": "white",
            "ticks": ""
           },
           "bgcolor": "#E5ECF6",
           "caxis": {
            "gridcolor": "white",
            "linecolor": "white",
            "ticks": ""
           }
          },
          "title": {
           "x": 0.05
          },
          "xaxis": {
           "automargin": true,
           "gridcolor": "white",
           "linecolor": "white",
           "ticks": "",
           "title": {
            "standoff": 15
           },
           "zerolinecolor": "white",
           "zerolinewidth": 2
          },
          "yaxis": {
           "automargin": true,
           "gridcolor": "white",
           "linecolor": "white",
           "ticks": "",
           "title": {
            "standoff": 15
           },
           "zerolinecolor": "white",
           "zerolinewidth": 2
          }
         }
        }
       }
      }
     },
     "metadata": {},
     "output_type": "display_data"
    }
   ],
   "source": [
    "# using numpy.polynomial\n",
    "from numpy.polynomial import Polynomial\n",
    "\n",
    "b, a = Polynomial.fit(area, price, 1).convert()\n",
    "print(f\"{a=:_} {b=:_}\")\n",
    "trace = go.Scatter(\n",
    "    x=x_range, y=[a * x + b for x in x_range], mode=\"lines\", showlegend=False\n",
    ")\n",
    "trace.line[\"color\"] = \"orange\"\n",
    "fig6 = go.Figure(data=(trace,) + fig4.data)\n",
    "fig6.show()"
   ]
  },
  {
   "cell_type": "code",
   "execution_count": 41,
   "metadata": {},
   "outputs": [
    {
     "name": "stdout",
     "output_type": "stream",
     "text": [
      "a=-8_631.678523361405 b=1_817_352.0110138934 c=-22_180_487.18749953\n"
     ]
    },
    {
     "data": {
      "application/vnd.plotly.v1+json": {
       "config": {
        "plotlyServerURL": "https://plot.ly"
       },
       "data": [
        {
         "line": {
          "color": "red"
         },
         "mode": "lines",
         "showlegend": false,
         "type": "scatter",
         "x": [
          34,
          34.86868686868687,
          35.73737373737374,
          36.60606060606061,
          37.474747474747474,
          38.343434343434346,
          39.21212121212121,
          40.08080808080808,
          40.94949494949495,
          41.81818181818182,
          42.686868686868685,
          43.55555555555556,
          44.42424242424242,
          45.292929292929294,
          46.161616161616166,
          47.03030303030303,
          47.898989898989896,
          48.76767676767677,
          49.63636363636364,
          50.505050505050505,
          51.37373737373737,
          52.24242424242424,
          53.111111111111114,
          53.97979797979798,
          54.84848484848485,
          55.71717171717172,
          56.58585858585859,
          57.45454545454545,
          58.323232323232325,
          59.1919191919192,
          60.06060606060606,
          60.92929292929293,
          61.7979797979798,
          62.66666666666667,
          63.535353535353536,
          64.4040404040404,
          65.27272727272728,
          66.14141414141415,
          67.01010101010101,
          67.87878787878788,
          68.74747474747474,
          69.61616161616162,
          70.48484848484848,
          71.35353535353536,
          72.22222222222223,
          73.0909090909091,
          73.95959595959596,
          74.82828282828282,
          75.6969696969697,
          76.56565656565657,
          77.43434343434345,
          78.30303030303031,
          79.17171717171718,
          80.04040404040404,
          80.9090909090909,
          81.77777777777777,
          82.64646464646465,
          83.51515151515152,
          84.3838383838384,
          85.25252525252526,
          86.12121212121212,
          86.98989898989899,
          87.85858585858585,
          88.72727272727272,
          89.5959595959596,
          90.46464646464648,
          91.33333333333334,
          92.20202020202021,
          93.07070707070707,
          93.93939393939394,
          94.8080808080808,
          95.67676767676768,
          96.54545454545455,
          97.41414141414143,
          98.28282828282829,
          99.15151515151516,
          100.02020202020202,
          100.88888888888889,
          101.75757575757576,
          102.62626262626263,
          103.4949494949495,
          104.36363636363637,
          105.23232323232324,
          106.1010101010101,
          106.96969696969697,
          107.83838383838385,
          108.70707070707071,
          109.57575757575758,
          110.44444444444444,
          111.31313131313132,
          112.18181818181819,
          113.05050505050505,
          113.91919191919192,
          114.7878787878788,
          115.65656565656566,
          116.52525252525253,
          117.3939393939394,
          118.26262626262627,
          119.13131313131314,
          120
         ],
         "y": [
          29631260.813967064,
          30693577.677854054,
          31742867.321180128,
          32779129.74394528,
          33802364.946149506,
          34812572.927792825,
          35809753.688875206,
          36793907.22939669,
          37765033.54935726,
          38723132.6487569,
          39668204.52759561,
          40600249.18587343,
          41519266.623590305,
          42425256.840746276,
          43318219.83734132,
          44198155.61337546,
          45065064.168848656,
          45918945.503760956,
          46759799.61811233,
          47587626.5119028,
          48402426.18513232,
          49204198.63780094,
          49992943.86990865,
          50768661.88145543,
          51531352.6724413,
          52281016.24286624,
          53017652.59273026,
          53741261.722033374,
          54451843.63077556,
          55149398.318956845,
          55833925.78657719,
          56505426.03363662,
          57163899.06013513,
          57809344.86607274,
          58441763.45144942,
          59061154.81626519,
          59667518.96052002,
          60260855.88421395,
          60841165.587346934,
          61408448.06991904,
          61962703.3319302,
          62503931.373380445,
          63032132.19426977,
          63547305.794598214,
          64049452.17436569,
          64538571.33357226,
          65014663.27221792,
          65477727.99030266,
          65927765.48782649,
          66364775.764789395,
          66788758.82119136,
          67199714.65703243,
          67597643.27231258,
          67982544.66703182,
          68354418.84119013,
          68713265.79478753,
          69059085.52782398,
          69391878.04029953,
          69711643.33221418,
          70018381.40356788,
          70312092.25436068,
          70592775.8845926,
          70860432.29426354,
          71115061.48337358,
          71356663.45192271,
          71585238.19991091,
          71800785.7273382,
          72003306.03420457,
          72192799.12051004,
          72369264.98625457,
          72532703.63143817,
          72683115.05606088,
          72820499.26012266,
          72944856.2436235,
          73056186.00656343,
          73154488.54894245,
          73239763.87076059,
          73312011.97201777,
          73371232.85271403,
          73417426.51284936,
          73450592.95242378,
          73470732.1714373,
          73477844.1698899,
          73471928.94778156,
          73452986.50511235,
          73421016.84188217,
          73376019.95809108,
          73317995.85373908,
          73246944.52882618,
          73162865.98335233,
          73065760.21731758,
          72955627.23072189,
          72832467.02356532,
          72696279.59584782,
          72547064.94756937,
          72384823.07873002,
          72209553.98932976,
          72021257.67936856,
          71819934.14884648,
          71605583.39776343
         ]
        },
        {
         "hovertemplate": "x=%{x}<br>y=%{y}<extra></extra>",
         "legendgroup": "",
         "line": {
          "color": "#636efa",
          "dash": "solid"
         },
         "marker": {
          "symbol": "circle"
         },
         "mode": "lines",
         "name": "",
         "orientation": "v",
         "showlegend": false,
         "type": "scatter",
         "x": [
          34,
          120
         ],
         "xaxis": "x",
         "y": [
          36687335.65125516,
          80631977.26621833
         ],
         "yaxis": "y"
        },
        {
         "hovertemplate": "Area [m²]=%{x}<br>Price [Ft]=%{y}<extra></extra>",
         "legendgroup": "",
         "marker": {
          "color": "#636efa",
          "symbol": "circle"
         },
         "mode": "markers",
         "name": "",
         "orientation": "v",
         "showlegend": false,
         "type": "scatter",
         "x": [
          38,
          38,
          120,
          57,
          34,
          116,
          75,
          97,
          111,
          110,
          72,
          115,
          47,
          57,
          57,
          78,
          35,
          37,
          82,
          55,
          90,
          83,
          106,
          120,
          47,
          44,
          115,
          34,
          57,
          116,
          113,
          72,
          68,
          34,
          50,
          96,
          88,
          106,
          46,
          46,
          91,
          115,
          45,
          54,
          120,
          34,
          120,
          64,
          49,
          78
         ],
         "xaxis": "x",
         "y": [
          38099490,
          36277995,
          64527260,
          44747174,
          27939275,
          76546920,
          60578232,
          52698438,
          81580905,
          78668330,
          67871823,
          84218940,
          49088112,
          51676898,
          54029378,
          59516862,
          34198560,
          36920534,
          76839906,
          55316520,
          93545270,
          68554332,
          64645560,
          85039780,
          37038480,
          46331190,
          58616325,
          27058430,
          54931858,
          82836784,
          78581188,
          67686111,
          52355682,
          32260340,
          50784015,
          71961296,
          92137873,
          76911912,
          35507748,
          44850220,
          54146355,
          58576095,
          36928064,
          45836725,
          64897700,
          27812575,
          64033480,
          66276080,
          43388350,
          64836485
         ],
         "yaxis": "y"
        }
       ],
       "layout": {
        "template": {
         "data": {
          "bar": [
           {
            "error_x": {
             "color": "#2a3f5f"
            },
            "error_y": {
             "color": "#2a3f5f"
            },
            "marker": {
             "line": {
              "color": "#E5ECF6",
              "width": 0.5
             },
             "pattern": {
              "fillmode": "overlay",
              "size": 10,
              "solidity": 0.2
             }
            },
            "type": "bar"
           }
          ],
          "barpolar": [
           {
            "marker": {
             "line": {
              "color": "#E5ECF6",
              "width": 0.5
             },
             "pattern": {
              "fillmode": "overlay",
              "size": 10,
              "solidity": 0.2
             }
            },
            "type": "barpolar"
           }
          ],
          "carpet": [
           {
            "aaxis": {
             "endlinecolor": "#2a3f5f",
             "gridcolor": "white",
             "linecolor": "white",
             "minorgridcolor": "white",
             "startlinecolor": "#2a3f5f"
            },
            "baxis": {
             "endlinecolor": "#2a3f5f",
             "gridcolor": "white",
             "linecolor": "white",
             "minorgridcolor": "white",
             "startlinecolor": "#2a3f5f"
            },
            "type": "carpet"
           }
          ],
          "choropleth": [
           {
            "colorbar": {
             "outlinewidth": 0,
             "ticks": ""
            },
            "type": "choropleth"
           }
          ],
          "contour": [
           {
            "colorbar": {
             "outlinewidth": 0,
             "ticks": ""
            },
            "colorscale": [
             [
              0,
              "#0d0887"
             ],
             [
              0.1111111111111111,
              "#46039f"
             ],
             [
              0.2222222222222222,
              "#7201a8"
             ],
             [
              0.3333333333333333,
              "#9c179e"
             ],
             [
              0.4444444444444444,
              "#bd3786"
             ],
             [
              0.5555555555555556,
              "#d8576b"
             ],
             [
              0.6666666666666666,
              "#ed7953"
             ],
             [
              0.7777777777777778,
              "#fb9f3a"
             ],
             [
              0.8888888888888888,
              "#fdca26"
             ],
             [
              1,
              "#f0f921"
             ]
            ],
            "type": "contour"
           }
          ],
          "contourcarpet": [
           {
            "colorbar": {
             "outlinewidth": 0,
             "ticks": ""
            },
            "type": "contourcarpet"
           }
          ],
          "heatmap": [
           {
            "colorbar": {
             "outlinewidth": 0,
             "ticks": ""
            },
            "colorscale": [
             [
              0,
              "#0d0887"
             ],
             [
              0.1111111111111111,
              "#46039f"
             ],
             [
              0.2222222222222222,
              "#7201a8"
             ],
             [
              0.3333333333333333,
              "#9c179e"
             ],
             [
              0.4444444444444444,
              "#bd3786"
             ],
             [
              0.5555555555555556,
              "#d8576b"
             ],
             [
              0.6666666666666666,
              "#ed7953"
             ],
             [
              0.7777777777777778,
              "#fb9f3a"
             ],
             [
              0.8888888888888888,
              "#fdca26"
             ],
             [
              1,
              "#f0f921"
             ]
            ],
            "type": "heatmap"
           }
          ],
          "heatmapgl": [
           {
            "colorbar": {
             "outlinewidth": 0,
             "ticks": ""
            },
            "colorscale": [
             [
              0,
              "#0d0887"
             ],
             [
              0.1111111111111111,
              "#46039f"
             ],
             [
              0.2222222222222222,
              "#7201a8"
             ],
             [
              0.3333333333333333,
              "#9c179e"
             ],
             [
              0.4444444444444444,
              "#bd3786"
             ],
             [
              0.5555555555555556,
              "#d8576b"
             ],
             [
              0.6666666666666666,
              "#ed7953"
             ],
             [
              0.7777777777777778,
              "#fb9f3a"
             ],
             [
              0.8888888888888888,
              "#fdca26"
             ],
             [
              1,
              "#f0f921"
             ]
            ],
            "type": "heatmapgl"
           }
          ],
          "histogram": [
           {
            "marker": {
             "pattern": {
              "fillmode": "overlay",
              "size": 10,
              "solidity": 0.2
             }
            },
            "type": "histogram"
           }
          ],
          "histogram2d": [
           {
            "colorbar": {
             "outlinewidth": 0,
             "ticks": ""
            },
            "colorscale": [
             [
              0,
              "#0d0887"
             ],
             [
              0.1111111111111111,
              "#46039f"
             ],
             [
              0.2222222222222222,
              "#7201a8"
             ],
             [
              0.3333333333333333,
              "#9c179e"
             ],
             [
              0.4444444444444444,
              "#bd3786"
             ],
             [
              0.5555555555555556,
              "#d8576b"
             ],
             [
              0.6666666666666666,
              "#ed7953"
             ],
             [
              0.7777777777777778,
              "#fb9f3a"
             ],
             [
              0.8888888888888888,
              "#fdca26"
             ],
             [
              1,
              "#f0f921"
             ]
            ],
            "type": "histogram2d"
           }
          ],
          "histogram2dcontour": [
           {
            "colorbar": {
             "outlinewidth": 0,
             "ticks": ""
            },
            "colorscale": [
             [
              0,
              "#0d0887"
             ],
             [
              0.1111111111111111,
              "#46039f"
             ],
             [
              0.2222222222222222,
              "#7201a8"
             ],
             [
              0.3333333333333333,
              "#9c179e"
             ],
             [
              0.4444444444444444,
              "#bd3786"
             ],
             [
              0.5555555555555556,
              "#d8576b"
             ],
             [
              0.6666666666666666,
              "#ed7953"
             ],
             [
              0.7777777777777778,
              "#fb9f3a"
             ],
             [
              0.8888888888888888,
              "#fdca26"
             ],
             [
              1,
              "#f0f921"
             ]
            ],
            "type": "histogram2dcontour"
           }
          ],
          "mesh3d": [
           {
            "colorbar": {
             "outlinewidth": 0,
             "ticks": ""
            },
            "type": "mesh3d"
           }
          ],
          "parcoords": [
           {
            "line": {
             "colorbar": {
              "outlinewidth": 0,
              "ticks": ""
             }
            },
            "type": "parcoords"
           }
          ],
          "pie": [
           {
            "automargin": true,
            "type": "pie"
           }
          ],
          "scatter": [
           {
            "fillpattern": {
             "fillmode": "overlay",
             "size": 10,
             "solidity": 0.2
            },
            "type": "scatter"
           }
          ],
          "scatter3d": [
           {
            "line": {
             "colorbar": {
              "outlinewidth": 0,
              "ticks": ""
             }
            },
            "marker": {
             "colorbar": {
              "outlinewidth": 0,
              "ticks": ""
             }
            },
            "type": "scatter3d"
           }
          ],
          "scattercarpet": [
           {
            "marker": {
             "colorbar": {
              "outlinewidth": 0,
              "ticks": ""
             }
            },
            "type": "scattercarpet"
           }
          ],
          "scattergeo": [
           {
            "marker": {
             "colorbar": {
              "outlinewidth": 0,
              "ticks": ""
             }
            },
            "type": "scattergeo"
           }
          ],
          "scattergl": [
           {
            "marker": {
             "colorbar": {
              "outlinewidth": 0,
              "ticks": ""
             }
            },
            "type": "scattergl"
           }
          ],
          "scattermapbox": [
           {
            "marker": {
             "colorbar": {
              "outlinewidth": 0,
              "ticks": ""
             }
            },
            "type": "scattermapbox"
           }
          ],
          "scatterpolar": [
           {
            "marker": {
             "colorbar": {
              "outlinewidth": 0,
              "ticks": ""
             }
            },
            "type": "scatterpolar"
           }
          ],
          "scatterpolargl": [
           {
            "marker": {
             "colorbar": {
              "outlinewidth": 0,
              "ticks": ""
             }
            },
            "type": "scatterpolargl"
           }
          ],
          "scatterternary": [
           {
            "marker": {
             "colorbar": {
              "outlinewidth": 0,
              "ticks": ""
             }
            },
            "type": "scatterternary"
           }
          ],
          "surface": [
           {
            "colorbar": {
             "outlinewidth": 0,
             "ticks": ""
            },
            "colorscale": [
             [
              0,
              "#0d0887"
             ],
             [
              0.1111111111111111,
              "#46039f"
             ],
             [
              0.2222222222222222,
              "#7201a8"
             ],
             [
              0.3333333333333333,
              "#9c179e"
             ],
             [
              0.4444444444444444,
              "#bd3786"
             ],
             [
              0.5555555555555556,
              "#d8576b"
             ],
             [
              0.6666666666666666,
              "#ed7953"
             ],
             [
              0.7777777777777778,
              "#fb9f3a"
             ],
             [
              0.8888888888888888,
              "#fdca26"
             ],
             [
              1,
              "#f0f921"
             ]
            ],
            "type": "surface"
           }
          ],
          "table": [
           {
            "cells": {
             "fill": {
              "color": "#EBF0F8"
             },
             "line": {
              "color": "white"
             }
            },
            "header": {
             "fill": {
              "color": "#C8D4E3"
             },
             "line": {
              "color": "white"
             }
            },
            "type": "table"
           }
          ]
         },
         "layout": {
          "annotationdefaults": {
           "arrowcolor": "#2a3f5f",
           "arrowhead": 0,
           "arrowwidth": 1
          },
          "autotypenumbers": "strict",
          "coloraxis": {
           "colorbar": {
            "outlinewidth": 0,
            "ticks": ""
           }
          },
          "colorscale": {
           "diverging": [
            [
             0,
             "#8e0152"
            ],
            [
             0.1,
             "#c51b7d"
            ],
            [
             0.2,
             "#de77ae"
            ],
            [
             0.3,
             "#f1b6da"
            ],
            [
             0.4,
             "#fde0ef"
            ],
            [
             0.5,
             "#f7f7f7"
            ],
            [
             0.6,
             "#e6f5d0"
            ],
            [
             0.7,
             "#b8e186"
            ],
            [
             0.8,
             "#7fbc41"
            ],
            [
             0.9,
             "#4d9221"
            ],
            [
             1,
             "#276419"
            ]
           ],
           "sequential": [
            [
             0,
             "#0d0887"
            ],
            [
             0.1111111111111111,
             "#46039f"
            ],
            [
             0.2222222222222222,
             "#7201a8"
            ],
            [
             0.3333333333333333,
             "#9c179e"
            ],
            [
             0.4444444444444444,
             "#bd3786"
            ],
            [
             0.5555555555555556,
             "#d8576b"
            ],
            [
             0.6666666666666666,
             "#ed7953"
            ],
            [
             0.7777777777777778,
             "#fb9f3a"
            ],
            [
             0.8888888888888888,
             "#fdca26"
            ],
            [
             1,
             "#f0f921"
            ]
           ],
           "sequentialminus": [
            [
             0,
             "#0d0887"
            ],
            [
             0.1111111111111111,
             "#46039f"
            ],
            [
             0.2222222222222222,
             "#7201a8"
            ],
            [
             0.3333333333333333,
             "#9c179e"
            ],
            [
             0.4444444444444444,
             "#bd3786"
            ],
            [
             0.5555555555555556,
             "#d8576b"
            ],
            [
             0.6666666666666666,
             "#ed7953"
            ],
            [
             0.7777777777777778,
             "#fb9f3a"
            ],
            [
             0.8888888888888888,
             "#fdca26"
            ],
            [
             1,
             "#f0f921"
            ]
           ]
          },
          "colorway": [
           "#636efa",
           "#EF553B",
           "#00cc96",
           "#ab63fa",
           "#FFA15A",
           "#19d3f3",
           "#FF6692",
           "#B6E880",
           "#FF97FF",
           "#FECB52"
          ],
          "font": {
           "color": "#2a3f5f"
          },
          "geo": {
           "bgcolor": "white",
           "lakecolor": "white",
           "landcolor": "#E5ECF6",
           "showlakes": true,
           "showland": true,
           "subunitcolor": "white"
          },
          "hoverlabel": {
           "align": "left"
          },
          "hovermode": "closest",
          "mapbox": {
           "style": "light"
          },
          "paper_bgcolor": "white",
          "plot_bgcolor": "#E5ECF6",
          "polar": {
           "angularaxis": {
            "gridcolor": "white",
            "linecolor": "white",
            "ticks": ""
           },
           "bgcolor": "#E5ECF6",
           "radialaxis": {
            "gridcolor": "white",
            "linecolor": "white",
            "ticks": ""
           }
          },
          "scene": {
           "xaxis": {
            "backgroundcolor": "#E5ECF6",
            "gridcolor": "white",
            "gridwidth": 2,
            "linecolor": "white",
            "showbackground": true,
            "ticks": "",
            "zerolinecolor": "white"
           },
           "yaxis": {
            "backgroundcolor": "#E5ECF6",
            "gridcolor": "white",
            "gridwidth": 2,
            "linecolor": "white",
            "showbackground": true,
            "ticks": "",
            "zerolinecolor": "white"
           },
           "zaxis": {
            "backgroundcolor": "#E5ECF6",
            "gridcolor": "white",
            "gridwidth": 2,
            "linecolor": "white",
            "showbackground": true,
            "ticks": "",
            "zerolinecolor": "white"
           }
          },
          "shapedefaults": {
           "line": {
            "color": "#2a3f5f"
           }
          },
          "ternary": {
           "aaxis": {
            "gridcolor": "white",
            "linecolor": "white",
            "ticks": ""
           },
           "baxis": {
            "gridcolor": "white",
            "linecolor": "white",
            "ticks": ""
           },
           "bgcolor": "#E5ECF6",
           "caxis": {
            "gridcolor": "white",
            "linecolor": "white",
            "ticks": ""
           }
          },
          "title": {
           "x": 0.05
          },
          "xaxis": {
           "automargin": true,
           "gridcolor": "white",
           "linecolor": "white",
           "ticks": "",
           "title": {
            "standoff": 15
           },
           "zerolinecolor": "white",
           "zerolinewidth": 2
          },
          "yaxis": {
           "automargin": true,
           "gridcolor": "white",
           "linecolor": "white",
           "ticks": "",
           "title": {
            "standoff": 15
           },
           "zerolinecolor": "white",
           "zerolinewidth": 2
          }
         }
        }
       }
      }
     },
     "metadata": {},
     "output_type": "display_data"
    }
   ],
   "source": [
    "# approximate with quadratic polynomial\n",
    "c, b, a = Polynomial.fit(area, price, 2).convert()\n",
    "print(f\"{a=:_} {b=:_} {c=:_}\")\n",
    "trace = go.Scatter(\n",
    "    x=x_range,\n",
    "    y=[a * x * x + b * x + c for x in x_range],\n",
    "    mode=\"lines\",\n",
    "    showlegend=False,\n",
    ")\n",
    "trace.line[\"color\"] = \"red\"\n",
    "fig7 = go.Figure(data=(trace,) + fig4.data)\n",
    "fig7.show()"
   ]
  },
  {
   "cell_type": "code",
   "execution_count": 44,
   "metadata": {},
   "outputs": [
    {
     "name": "stdout",
     "output_type": "stream",
     "text": [
      "-7726860.8830838 + 1137097.76247377 x + 1043.64027003 x**2 -\n",
      "42.233733 x**3\n"
     ]
    },
    {
     "data": {
      "application/vnd.plotly.v1+json": {
       "config": {
        "plotlyServerURL": "https://plot.ly"
       },
       "data": [
        {
         "line": {
          "color": "red"
         },
         "mode": "lines",
         "showlegend": false,
         "type": "scatter",
         "x": [
          34,
          34.86868686868687,
          35.73737373737374,
          36.60606060606061,
          37.474747474747474,
          38.343434343434346,
          39.21212121212121,
          40.08080808080808,
          40.94949494949495,
          41.81818181818182,
          42.686868686868685,
          43.55555555555556,
          44.42424242424242,
          45.292929292929294,
          46.161616161616166,
          47.03030303030303,
          47.898989898989896,
          48.76767676767677,
          49.63636363636364,
          50.505050505050505,
          51.37373737373737,
          52.24242424242424,
          53.111111111111114,
          53.97979797979798,
          54.84848484848485,
          55.71717171717172,
          56.58585858585859,
          57.45454545454545,
          58.323232323232325,
          59.1919191919192,
          60.06060606060606,
          60.92929292929293,
          61.7979797979798,
          62.66666666666667,
          63.535353535353536,
          64.4040404040404,
          65.27272727272728,
          66.14141414141415,
          67.01010101010101,
          67.87878787878788,
          68.74747474747474,
          69.61616161616162,
          70.48484848484848,
          71.35353535353536,
          72.22222222222223,
          73.0909090909091,
          73.95959595959596,
          74.82828282828282,
          75.6969696969697,
          76.56565656565657,
          77.43434343434345,
          78.30303030303031,
          79.17171717171718,
          80.04040404040404,
          80.9090909090909,
          81.77777777777777,
          82.64646464646465,
          83.51515151515152,
          84.3838383838384,
          85.25252525252526,
          86.12121212121212,
          86.98989898989899,
          87.85858585858585,
          88.72727272727272,
          89.5959595959596,
          90.46464646464648,
          91.33333333333334,
          92.20202020202021,
          93.07070707070707,
          93.93939393939394,
          94.8080808080808,
          95.67676767676768,
          96.54545454545455,
          97.41414141414143,
          98.28282828282829,
          99.15151515151516,
          100.02020202020202,
          100.88888888888889,
          101.75757575757576,
          102.62626262626263,
          103.4949494949495,
          104.36363636363637,
          105.23232323232324,
          106.1010101010101,
          106.96969696969697,
          107.83838383838385,
          108.70707070707071,
          109.57575757575758,
          110.44444444444444,
          111.31313131313132,
          112.18181818181819,
          113.05050505050505,
          113.91919191919192,
          114.7878787878788,
          115.65656565656566,
          116.52525252525253,
          117.3939393939394,
          118.26262626262627,
          119.13131313131314,
          120
         ],
         "y": [
          30480956.551482074,
          31400662.508766606,
          32315275.912688695,
          33224630.65144606,
          34128560.61323639,
          35026899.68625743,
          35919481.75870686,
          36806140.71878241,
          37686710.45468179,
          38561024.85460271,
          39428917.80674288,
          40290223.19930001,
          41144774.92047181,
          41992406.858456,
          42832952.90145029,
          43666246.93765238,
          44492122.855259985,
          45310414.542470835,
          46120955.88748262,
          46923580.77849306,
          47718123.10369986,
          48504416.75130075,
          49282295.60949343,
          50051593.5664756,
          50812144.51044499,
          51563782.329599306,
          52306340.91213625,
          53039654.14625354,
          53763555.920148894,
          54477880.12202002,
          55182460.64006462,
          55877131.36248042,
          56561726.17746512,
          57236078.97321644,
          57900023.637932085,
          58553394.059809774,
          59196024.1270472,
          59827747.727842115,
          60448398.75039219,
          61057811.08289514,
          61655818.61354869,
          62242255.23055058,
          62816954.82209846,
          63379751.27639008,
          63930478.481623136,
          64468970.32599535,
          64995060.69770444,
          65508583.48494809,
          66009372.57592406,
          66497261.85883001,
          66972085.221863694,
          67433676.55322278,
          67881869.74110502,
          68316498.67370808,
          68737397.23922971,
          69144399.32586762,
          69537338.82181951,
          69916049.6152831,
          70280365.5944561,
          70630120.64753619,
          70965148.66272113,
          71285283.52820861,
          71590359.13219634,
          71880209.36288202,
          72154668.1084634,
          72413569.25713813,
          72656746.697104,
          72884034.31655866,
          73095266.00369984,
          73290275.64672527,
          73468897.13383263,
          73630964.35321963,
          73776311.19308403,
          73904771.5416235,
          74016179.28703573,
          74110368.3175185,
          74187172.52126947,
          74246425.78648636,
          74287962.00136691,
          74311615.0541088,
          74317218.83290973,
          74304607.22596744,
          74273614.12147963,
          74224073.40764403,
          74155818.97265834,
          74068684.70472026,
          73962504.49202749,
          73837112.22277778,
          73692341.7851688,
          73528027.06739831,
          73344001.95766401,
          73140100.34416357,
          72916156.11509475,
          72672003.15865523,
          72407475.36304271,
          72122406.61645496,
          71816630.80708963,
          71489981.82314447,
          71142293.55281717,
          70773399.88430548
         ]
        },
        {
         "hovertemplate": "x=%{x}<br>y=%{y}<extra></extra>",
         "legendgroup": "",
         "line": {
          "color": "#636efa",
          "dash": "solid"
         },
         "marker": {
          "symbol": "circle"
         },
         "mode": "lines",
         "name": "",
         "orientation": "v",
         "showlegend": false,
         "type": "scatter",
         "x": [
          34,
          120
         ],
         "xaxis": "x",
         "y": [
          36687335.65125516,
          80631977.26621833
         ],
         "yaxis": "y"
        },
        {
         "hovertemplate": "Area [m²]=%{x}<br>Price [Ft]=%{y}<extra></extra>",
         "legendgroup": "",
         "marker": {
          "color": "#636efa",
          "symbol": "circle"
         },
         "mode": "markers",
         "name": "",
         "orientation": "v",
         "showlegend": false,
         "type": "scatter",
         "x": [
          38,
          38,
          120,
          57,
          34,
          116,
          75,
          97,
          111,
          110,
          72,
          115,
          47,
          57,
          57,
          78,
          35,
          37,
          82,
          55,
          90,
          83,
          106,
          120,
          47,
          44,
          115,
          34,
          57,
          116,
          113,
          72,
          68,
          34,
          50,
          96,
          88,
          106,
          46,
          46,
          91,
          115,
          45,
          54,
          120,
          34,
          120,
          64,
          49,
          78
         ],
         "xaxis": "x",
         "y": [
          38099490,
          36277995,
          64527260,
          44747174,
          27939275,
          76546920,
          60578232,
          52698438,
          81580905,
          78668330,
          67871823,
          84218940,
          49088112,
          51676898,
          54029378,
          59516862,
          34198560,
          36920534,
          76839906,
          55316520,
          93545270,
          68554332,
          64645560,
          85039780,
          37038480,
          46331190,
          58616325,
          27058430,
          54931858,
          82836784,
          78581188,
          67686111,
          52355682,
          32260340,
          50784015,
          71961296,
          92137873,
          76911912,
          35507748,
          44850220,
          54146355,
          58576095,
          36928064,
          45836725,
          64897700,
          27812575,
          64033480,
          66276080,
          43388350,
          64836485
         ],
         "yaxis": "y"
        }
       ],
       "layout": {
        "template": {
         "data": {
          "bar": [
           {
            "error_x": {
             "color": "#2a3f5f"
            },
            "error_y": {
             "color": "#2a3f5f"
            },
            "marker": {
             "line": {
              "color": "#E5ECF6",
              "width": 0.5
             },
             "pattern": {
              "fillmode": "overlay",
              "size": 10,
              "solidity": 0.2
             }
            },
            "type": "bar"
           }
          ],
          "barpolar": [
           {
            "marker": {
             "line": {
              "color": "#E5ECF6",
              "width": 0.5
             },
             "pattern": {
              "fillmode": "overlay",
              "size": 10,
              "solidity": 0.2
             }
            },
            "type": "barpolar"
           }
          ],
          "carpet": [
           {
            "aaxis": {
             "endlinecolor": "#2a3f5f",
             "gridcolor": "white",
             "linecolor": "white",
             "minorgridcolor": "white",
             "startlinecolor": "#2a3f5f"
            },
            "baxis": {
             "endlinecolor": "#2a3f5f",
             "gridcolor": "white",
             "linecolor": "white",
             "minorgridcolor": "white",
             "startlinecolor": "#2a3f5f"
            },
            "type": "carpet"
           }
          ],
          "choropleth": [
           {
            "colorbar": {
             "outlinewidth": 0,
             "ticks": ""
            },
            "type": "choropleth"
           }
          ],
          "contour": [
           {
            "colorbar": {
             "outlinewidth": 0,
             "ticks": ""
            },
            "colorscale": [
             [
              0,
              "#0d0887"
             ],
             [
              0.1111111111111111,
              "#46039f"
             ],
             [
              0.2222222222222222,
              "#7201a8"
             ],
             [
              0.3333333333333333,
              "#9c179e"
             ],
             [
              0.4444444444444444,
              "#bd3786"
             ],
             [
              0.5555555555555556,
              "#d8576b"
             ],
             [
              0.6666666666666666,
              "#ed7953"
             ],
             [
              0.7777777777777778,
              "#fb9f3a"
             ],
             [
              0.8888888888888888,
              "#fdca26"
             ],
             [
              1,
              "#f0f921"
             ]
            ],
            "type": "contour"
           }
          ],
          "contourcarpet": [
           {
            "colorbar": {
             "outlinewidth": 0,
             "ticks": ""
            },
            "type": "contourcarpet"
           }
          ],
          "heatmap": [
           {
            "colorbar": {
             "outlinewidth": 0,
             "ticks": ""
            },
            "colorscale": [
             [
              0,
              "#0d0887"
             ],
             [
              0.1111111111111111,
              "#46039f"
             ],
             [
              0.2222222222222222,
              "#7201a8"
             ],
             [
              0.3333333333333333,
              "#9c179e"
             ],
             [
              0.4444444444444444,
              "#bd3786"
             ],
             [
              0.5555555555555556,
              "#d8576b"
             ],
             [
              0.6666666666666666,
              "#ed7953"
             ],
             [
              0.7777777777777778,
              "#fb9f3a"
             ],
             [
              0.8888888888888888,
              "#fdca26"
             ],
             [
              1,
              "#f0f921"
             ]
            ],
            "type": "heatmap"
           }
          ],
          "heatmapgl": [
           {
            "colorbar": {
             "outlinewidth": 0,
             "ticks": ""
            },
            "colorscale": [
             [
              0,
              "#0d0887"
             ],
             [
              0.1111111111111111,
              "#46039f"
             ],
             [
              0.2222222222222222,
              "#7201a8"
             ],
             [
              0.3333333333333333,
              "#9c179e"
             ],
             [
              0.4444444444444444,
              "#bd3786"
             ],
             [
              0.5555555555555556,
              "#d8576b"
             ],
             [
              0.6666666666666666,
              "#ed7953"
             ],
             [
              0.7777777777777778,
              "#fb9f3a"
             ],
             [
              0.8888888888888888,
              "#fdca26"
             ],
             [
              1,
              "#f0f921"
             ]
            ],
            "type": "heatmapgl"
           }
          ],
          "histogram": [
           {
            "marker": {
             "pattern": {
              "fillmode": "overlay",
              "size": 10,
              "solidity": 0.2
             }
            },
            "type": "histogram"
           }
          ],
          "histogram2d": [
           {
            "colorbar": {
             "outlinewidth": 0,
             "ticks": ""
            },
            "colorscale": [
             [
              0,
              "#0d0887"
             ],
             [
              0.1111111111111111,
              "#46039f"
             ],
             [
              0.2222222222222222,
              "#7201a8"
             ],
             [
              0.3333333333333333,
              "#9c179e"
             ],
             [
              0.4444444444444444,
              "#bd3786"
             ],
             [
              0.5555555555555556,
              "#d8576b"
             ],
             [
              0.6666666666666666,
              "#ed7953"
             ],
             [
              0.7777777777777778,
              "#fb9f3a"
             ],
             [
              0.8888888888888888,
              "#fdca26"
             ],
             [
              1,
              "#f0f921"
             ]
            ],
            "type": "histogram2d"
           }
          ],
          "histogram2dcontour": [
           {
            "colorbar": {
             "outlinewidth": 0,
             "ticks": ""
            },
            "colorscale": [
             [
              0,
              "#0d0887"
             ],
             [
              0.1111111111111111,
              "#46039f"
             ],
             [
              0.2222222222222222,
              "#7201a8"
             ],
             [
              0.3333333333333333,
              "#9c179e"
             ],
             [
              0.4444444444444444,
              "#bd3786"
             ],
             [
              0.5555555555555556,
              "#d8576b"
             ],
             [
              0.6666666666666666,
              "#ed7953"
             ],
             [
              0.7777777777777778,
              "#fb9f3a"
             ],
             [
              0.8888888888888888,
              "#fdca26"
             ],
             [
              1,
              "#f0f921"
             ]
            ],
            "type": "histogram2dcontour"
           }
          ],
          "mesh3d": [
           {
            "colorbar": {
             "outlinewidth": 0,
             "ticks": ""
            },
            "type": "mesh3d"
           }
          ],
          "parcoords": [
           {
            "line": {
             "colorbar": {
              "outlinewidth": 0,
              "ticks": ""
             }
            },
            "type": "parcoords"
           }
          ],
          "pie": [
           {
            "automargin": true,
            "type": "pie"
           }
          ],
          "scatter": [
           {
            "fillpattern": {
             "fillmode": "overlay",
             "size": 10,
             "solidity": 0.2
            },
            "type": "scatter"
           }
          ],
          "scatter3d": [
           {
            "line": {
             "colorbar": {
              "outlinewidth": 0,
              "ticks": ""
             }
            },
            "marker": {
             "colorbar": {
              "outlinewidth": 0,
              "ticks": ""
             }
            },
            "type": "scatter3d"
           }
          ],
          "scattercarpet": [
           {
            "marker": {
             "colorbar": {
              "outlinewidth": 0,
              "ticks": ""
             }
            },
            "type": "scattercarpet"
           }
          ],
          "scattergeo": [
           {
            "marker": {
             "colorbar": {
              "outlinewidth": 0,
              "ticks": ""
             }
            },
            "type": "scattergeo"
           }
          ],
          "scattergl": [
           {
            "marker": {
             "colorbar": {
              "outlinewidth": 0,
              "ticks": ""
             }
            },
            "type": "scattergl"
           }
          ],
          "scattermapbox": [
           {
            "marker": {
             "colorbar": {
              "outlinewidth": 0,
              "ticks": ""
             }
            },
            "type": "scattermapbox"
           }
          ],
          "scatterpolar": [
           {
            "marker": {
             "colorbar": {
              "outlinewidth": 0,
              "ticks": ""
             }
            },
            "type": "scatterpolar"
           }
          ],
          "scatterpolargl": [
           {
            "marker": {
             "colorbar": {
              "outlinewidth": 0,
              "ticks": ""
             }
            },
            "type": "scatterpolargl"
           }
          ],
          "scatterternary": [
           {
            "marker": {
             "colorbar": {
              "outlinewidth": 0,
              "ticks": ""
             }
            },
            "type": "scatterternary"
           }
          ],
          "surface": [
           {
            "colorbar": {
             "outlinewidth": 0,
             "ticks": ""
            },
            "colorscale": [
             [
              0,
              "#0d0887"
             ],
             [
              0.1111111111111111,
              "#46039f"
             ],
             [
              0.2222222222222222,
              "#7201a8"
             ],
             [
              0.3333333333333333,
              "#9c179e"
             ],
             [
              0.4444444444444444,
              "#bd3786"
             ],
             [
              0.5555555555555556,
              "#d8576b"
             ],
             [
              0.6666666666666666,
              "#ed7953"
             ],
             [
              0.7777777777777778,
              "#fb9f3a"
             ],
             [
              0.8888888888888888,
              "#fdca26"
             ],
             [
              1,
              "#f0f921"
             ]
            ],
            "type": "surface"
           }
          ],
          "table": [
           {
            "cells": {
             "fill": {
              "color": "#EBF0F8"
             },
             "line": {
              "color": "white"
             }
            },
            "header": {
             "fill": {
              "color": "#C8D4E3"
             },
             "line": {
              "color": "white"
             }
            },
            "type": "table"
           }
          ]
         },
         "layout": {
          "annotationdefaults": {
           "arrowcolor": "#2a3f5f",
           "arrowhead": 0,
           "arrowwidth": 1
          },
          "autotypenumbers": "strict",
          "coloraxis": {
           "colorbar": {
            "outlinewidth": 0,
            "ticks": ""
           }
          },
          "colorscale": {
           "diverging": [
            [
             0,
             "#8e0152"
            ],
            [
             0.1,
             "#c51b7d"
            ],
            [
             0.2,
             "#de77ae"
            ],
            [
             0.3,
             "#f1b6da"
            ],
            [
             0.4,
             "#fde0ef"
            ],
            [
             0.5,
             "#f7f7f7"
            ],
            [
             0.6,
             "#e6f5d0"
            ],
            [
             0.7,
             "#b8e186"
            ],
            [
             0.8,
             "#7fbc41"
            ],
            [
             0.9,
             "#4d9221"
            ],
            [
             1,
             "#276419"
            ]
           ],
           "sequential": [
            [
             0,
             "#0d0887"
            ],
            [
             0.1111111111111111,
             "#46039f"
            ],
            [
             0.2222222222222222,
             "#7201a8"
            ],
            [
             0.3333333333333333,
             "#9c179e"
            ],
            [
             0.4444444444444444,
             "#bd3786"
            ],
            [
             0.5555555555555556,
             "#d8576b"
            ],
            [
             0.6666666666666666,
             "#ed7953"
            ],
            [
             0.7777777777777778,
             "#fb9f3a"
            ],
            [
             0.8888888888888888,
             "#fdca26"
            ],
            [
             1,
             "#f0f921"
            ]
           ],
           "sequentialminus": [
            [
             0,
             "#0d0887"
            ],
            [
             0.1111111111111111,
             "#46039f"
            ],
            [
             0.2222222222222222,
             "#7201a8"
            ],
            [
             0.3333333333333333,
             "#9c179e"
            ],
            [
             0.4444444444444444,
             "#bd3786"
            ],
            [
             0.5555555555555556,
             "#d8576b"
            ],
            [
             0.6666666666666666,
             "#ed7953"
            ],
            [
             0.7777777777777778,
             "#fb9f3a"
            ],
            [
             0.8888888888888888,
             "#fdca26"
            ],
            [
             1,
             "#f0f921"
            ]
           ]
          },
          "colorway": [
           "#636efa",
           "#EF553B",
           "#00cc96",
           "#ab63fa",
           "#FFA15A",
           "#19d3f3",
           "#FF6692",
           "#B6E880",
           "#FF97FF",
           "#FECB52"
          ],
          "font": {
           "color": "#2a3f5f"
          },
          "geo": {
           "bgcolor": "white",
           "lakecolor": "white",
           "landcolor": "#E5ECF6",
           "showlakes": true,
           "showland": true,
           "subunitcolor": "white"
          },
          "hoverlabel": {
           "align": "left"
          },
          "hovermode": "closest",
          "mapbox": {
           "style": "light"
          },
          "paper_bgcolor": "white",
          "plot_bgcolor": "#E5ECF6",
          "polar": {
           "angularaxis": {
            "gridcolor": "white",
            "linecolor": "white",
            "ticks": ""
           },
           "bgcolor": "#E5ECF6",
           "radialaxis": {
            "gridcolor": "white",
            "linecolor": "white",
            "ticks": ""
           }
          },
          "scene": {
           "xaxis": {
            "backgroundcolor": "#E5ECF6",
            "gridcolor": "white",
            "gridwidth": 2,
            "linecolor": "white",
            "showbackground": true,
            "ticks": "",
            "zerolinecolor": "white"
           },
           "yaxis": {
            "backgroundcolor": "#E5ECF6",
            "gridcolor": "white",
            "gridwidth": 2,
            "linecolor": "white",
            "showbackground": true,
            "ticks": "",
            "zerolinecolor": "white"
           },
           "zaxis": {
            "backgroundcolor": "#E5ECF6",
            "gridcolor": "white",
            "gridwidth": 2,
            "linecolor": "white",
            "showbackground": true,
            "ticks": "",
            "zerolinecolor": "white"
           }
          },
          "shapedefaults": {
           "line": {
            "color": "#2a3f5f"
           }
          },
          "ternary": {
           "aaxis": {
            "gridcolor": "white",
            "linecolor": "white",
            "ticks": ""
           },
           "baxis": {
            "gridcolor": "white",
            "linecolor": "white",
            "ticks": ""
           },
           "bgcolor": "#E5ECF6",
           "caxis": {
            "gridcolor": "white",
            "linecolor": "white",
            "ticks": ""
           }
          },
          "title": {
           "x": 0.05
          },
          "xaxis": {
           "automargin": true,
           "gridcolor": "white",
           "linecolor": "white",
           "ticks": "",
           "title": {
            "standoff": 15
           },
           "zerolinecolor": "white",
           "zerolinewidth": 2
          },
          "yaxis": {
           "automargin": true,
           "gridcolor": "white",
           "linecolor": "white",
           "ticks": "",
           "title": {
            "standoff": 15
           },
           "zerolinecolor": "white",
           "zerolinewidth": 2
          }
         }
        }
       }
      }
     },
     "metadata": {},
     "output_type": "display_data"
    }
   ],
   "source": [
    "# approximate with cubic polynomial\n",
    "factors = Polynomial.fit(area, price, 3).convert()\n",
    "print(f\"{factors}\")\n",
    "# Coefficient `a` is very small compared to the others, so it is similar to the quadratic\n",
    "trace = go.Scatter(\n",
    "    x=x_range,\n",
    "    y=[a * x**3 + b * x**2 + c * x + d for x in x_range],\n",
    "    mode=\"lines\",\n",
    "    showlegend=False,\n",
    ")\n",
    "trace.line[\"color\"] = \"red\"\n",
    "fig7 = go.Figure(data=(trace,) + fig4.data)\n",
    "fig7.show()\n",
    "# Higher order polynomials can fit the training set more closely but watch out for overfitting!"
   ]
  },
  {
   "cell_type": "markdown",
   "metadata": {},
   "source": [
    "Use the `statsmodel` integration in Plotly Express to draw a trendline."
   ]
  },
  {
   "cell_type": "code",
   "execution_count": 38,
   "metadata": {},
   "outputs": [
    {
     "data": {
      "application/vnd.plotly.v1+json": {
       "config": {
        "plotlyServerURL": "https://plot.ly"
       },
       "data": [
        {
         "hovertemplate": "Area [m²]=%{x}<br>Price [Ft]=%{y}<extra></extra>",
         "legendgroup": "",
         "marker": {
          "color": "#636efa",
          "symbol": "circle"
         },
         "mode": "markers",
         "name": "",
         "orientation": "v",
         "showlegend": false,
         "type": "scatter",
         "x": [
          38,
          38,
          120,
          57,
          34,
          116,
          75,
          97,
          111,
          110,
          72,
          115,
          47,
          57,
          57,
          78,
          35,
          37,
          82,
          55,
          90,
          83,
          106,
          120,
          47,
          44,
          115,
          34,
          57,
          116,
          113,
          72,
          68,
          34,
          50,
          96,
          88,
          106,
          46,
          46,
          91,
          115,
          45,
          54,
          120,
          34,
          120,
          64,
          49,
          78
         ],
         "xaxis": "x",
         "y": [
          38099490,
          36277995,
          64527260,
          44747174,
          27939275,
          76546920,
          60578232,
          52698438,
          81580905,
          78668330,
          67871823,
          84218940,
          49088112,
          51676898,
          54029378,
          59516862,
          34198560,
          36920534,
          76839906,
          55316520,
          93545270,
          68554332,
          64645560,
          85039780,
          37038480,
          46331190,
          58616325,
          27058430,
          54931858,
          82836784,
          78581188,
          67686111,
          52355682,
          32260340,
          50784015,
          71961296,
          92137873,
          76911912,
          35507748,
          44850220,
          54146355,
          58576095,
          36928064,
          45836725,
          64897700,
          27812575,
          64033480,
          66276080,
          43388350,
          64836485
         ],
         "yaxis": "y"
        },
        {
         "hovertemplate": "<b>OLS trendline</b><br>y = 479683 * x + 2.17906e+07<br>R<sup>2</sup>=0.667639<br><br>Area [m²]=%{x}<br>Price [Ft]=%{y} <b>(trend)</b><extra></extra>",
         "legendgroup": "",
         "marker": {
          "color": "#636efa",
          "symbol": "circle"
         },
         "mode": "lines",
         "name": "",
         "showlegend": false,
         "type": "scatter",
         "x": [
          34,
          34,
          34,
          34,
          35,
          37,
          38,
          38,
          44,
          45,
          46,
          46,
          47,
          47,
          49,
          50,
          54,
          55,
          57,
          57,
          57,
          57,
          64,
          68,
          72,
          72,
          75,
          78,
          78,
          82,
          83,
          88,
          90,
          91,
          96,
          97,
          106,
          106,
          110,
          111,
          113,
          115,
          115,
          115,
          116,
          116,
          120,
          120,
          120,
          120
         ],
         "xaxis": "x",
         "y": [
          38099820.45413419,
          38099820.45413419,
          38099820.45413419,
          38099820.45413419,
          38579503.934593484,
          39538870.895512074,
          40018554.37597138,
          40018554.37597138,
          42896655.25872716,
          43376338.73918645,
          43856022.21964575,
          43856022.21964575,
          44335705.70010505,
          44335705.70010505,
          45295072.66102365,
          45774756.141482934,
          47693490.06332013,
          48173173.543779425,
          49132540.50469802,
          49132540.50469802,
          49132540.50469802,
          49132540.50469802,
          52490324.8679131,
          54409058.789750285,
          56327792.711587474,
          56327792.711587474,
          57766843.15296537,
          59205893.59434325,
          59205893.59434325,
          61124627.51618044,
          61604310.996639736,
          64002728.39893623,
          64962095.35985482,
          65441778.84031411,
          67840196.2426106,
          68319879.7230699,
          72637031.04720357,
          72637031.04720357,
          74555764.96904075,
          75035448.44950005,
          75994815.41041864,
          76954182.37133723,
          76954182.37133723,
          76954182.37133723,
          77433865.85179654,
          77433865.85179654,
          79352599.77363372,
          79352599.77363372,
          79352599.77363372,
          79352599.77363372
         ],
         "yaxis": "y"
        }
       ],
       "layout": {
        "legend": {
         "tracegroupgap": 0
        },
        "margin": {
         "t": 60
        },
        "template": {
         "data": {
          "bar": [
           {
            "error_x": {
             "color": "#2a3f5f"
            },
            "error_y": {
             "color": "#2a3f5f"
            },
            "marker": {
             "line": {
              "color": "#E5ECF6",
              "width": 0.5
             },
             "pattern": {
              "fillmode": "overlay",
              "size": 10,
              "solidity": 0.2
             }
            },
            "type": "bar"
           }
          ],
          "barpolar": [
           {
            "marker": {
             "line": {
              "color": "#E5ECF6",
              "width": 0.5
             },
             "pattern": {
              "fillmode": "overlay",
              "size": 10,
              "solidity": 0.2
             }
            },
            "type": "barpolar"
           }
          ],
          "carpet": [
           {
            "aaxis": {
             "endlinecolor": "#2a3f5f",
             "gridcolor": "white",
             "linecolor": "white",
             "minorgridcolor": "white",
             "startlinecolor": "#2a3f5f"
            },
            "baxis": {
             "endlinecolor": "#2a3f5f",
             "gridcolor": "white",
             "linecolor": "white",
             "minorgridcolor": "white",
             "startlinecolor": "#2a3f5f"
            },
            "type": "carpet"
           }
          ],
          "choropleth": [
           {
            "colorbar": {
             "outlinewidth": 0,
             "ticks": ""
            },
            "type": "choropleth"
           }
          ],
          "contour": [
           {
            "colorbar": {
             "outlinewidth": 0,
             "ticks": ""
            },
            "colorscale": [
             [
              0,
              "#0d0887"
             ],
             [
              0.1111111111111111,
              "#46039f"
             ],
             [
              0.2222222222222222,
              "#7201a8"
             ],
             [
              0.3333333333333333,
              "#9c179e"
             ],
             [
              0.4444444444444444,
              "#bd3786"
             ],
             [
              0.5555555555555556,
              "#d8576b"
             ],
             [
              0.6666666666666666,
              "#ed7953"
             ],
             [
              0.7777777777777778,
              "#fb9f3a"
             ],
             [
              0.8888888888888888,
              "#fdca26"
             ],
             [
              1,
              "#f0f921"
             ]
            ],
            "type": "contour"
           }
          ],
          "contourcarpet": [
           {
            "colorbar": {
             "outlinewidth": 0,
             "ticks": ""
            },
            "type": "contourcarpet"
           }
          ],
          "heatmap": [
           {
            "colorbar": {
             "outlinewidth": 0,
             "ticks": ""
            },
            "colorscale": [
             [
              0,
              "#0d0887"
             ],
             [
              0.1111111111111111,
              "#46039f"
             ],
             [
              0.2222222222222222,
              "#7201a8"
             ],
             [
              0.3333333333333333,
              "#9c179e"
             ],
             [
              0.4444444444444444,
              "#bd3786"
             ],
             [
              0.5555555555555556,
              "#d8576b"
             ],
             [
              0.6666666666666666,
              "#ed7953"
             ],
             [
              0.7777777777777778,
              "#fb9f3a"
             ],
             [
              0.8888888888888888,
              "#fdca26"
             ],
             [
              1,
              "#f0f921"
             ]
            ],
            "type": "heatmap"
           }
          ],
          "heatmapgl": [
           {
            "colorbar": {
             "outlinewidth": 0,
             "ticks": ""
            },
            "colorscale": [
             [
              0,
              "#0d0887"
             ],
             [
              0.1111111111111111,
              "#46039f"
             ],
             [
              0.2222222222222222,
              "#7201a8"
             ],
             [
              0.3333333333333333,
              "#9c179e"
             ],
             [
              0.4444444444444444,
              "#bd3786"
             ],
             [
              0.5555555555555556,
              "#d8576b"
             ],
             [
              0.6666666666666666,
              "#ed7953"
             ],
             [
              0.7777777777777778,
              "#fb9f3a"
             ],
             [
              0.8888888888888888,
              "#fdca26"
             ],
             [
              1,
              "#f0f921"
             ]
            ],
            "type": "heatmapgl"
           }
          ],
          "histogram": [
           {
            "marker": {
             "pattern": {
              "fillmode": "overlay",
              "size": 10,
              "solidity": 0.2
             }
            },
            "type": "histogram"
           }
          ],
          "histogram2d": [
           {
            "colorbar": {
             "outlinewidth": 0,
             "ticks": ""
            },
            "colorscale": [
             [
              0,
              "#0d0887"
             ],
             [
              0.1111111111111111,
              "#46039f"
             ],
             [
              0.2222222222222222,
              "#7201a8"
             ],
             [
              0.3333333333333333,
              "#9c179e"
             ],
             [
              0.4444444444444444,
              "#bd3786"
             ],
             [
              0.5555555555555556,
              "#d8576b"
             ],
             [
              0.6666666666666666,
              "#ed7953"
             ],
             [
              0.7777777777777778,
              "#fb9f3a"
             ],
             [
              0.8888888888888888,
              "#fdca26"
             ],
             [
              1,
              "#f0f921"
             ]
            ],
            "type": "histogram2d"
           }
          ],
          "histogram2dcontour": [
           {
            "colorbar": {
             "outlinewidth": 0,
             "ticks": ""
            },
            "colorscale": [
             [
              0,
              "#0d0887"
             ],
             [
              0.1111111111111111,
              "#46039f"
             ],
             [
              0.2222222222222222,
              "#7201a8"
             ],
             [
              0.3333333333333333,
              "#9c179e"
             ],
             [
              0.4444444444444444,
              "#bd3786"
             ],
             [
              0.5555555555555556,
              "#d8576b"
             ],
             [
              0.6666666666666666,
              "#ed7953"
             ],
             [
              0.7777777777777778,
              "#fb9f3a"
             ],
             [
              0.8888888888888888,
              "#fdca26"
             ],
             [
              1,
              "#f0f921"
             ]
            ],
            "type": "histogram2dcontour"
           }
          ],
          "mesh3d": [
           {
            "colorbar": {
             "outlinewidth": 0,
             "ticks": ""
            },
            "type": "mesh3d"
           }
          ],
          "parcoords": [
           {
            "line": {
             "colorbar": {
              "outlinewidth": 0,
              "ticks": ""
             }
            },
            "type": "parcoords"
           }
          ],
          "pie": [
           {
            "automargin": true,
            "type": "pie"
           }
          ],
          "scatter": [
           {
            "fillpattern": {
             "fillmode": "overlay",
             "size": 10,
             "solidity": 0.2
            },
            "type": "scatter"
           }
          ],
          "scatter3d": [
           {
            "line": {
             "colorbar": {
              "outlinewidth": 0,
              "ticks": ""
             }
            },
            "marker": {
             "colorbar": {
              "outlinewidth": 0,
              "ticks": ""
             }
            },
            "type": "scatter3d"
           }
          ],
          "scattercarpet": [
           {
            "marker": {
             "colorbar": {
              "outlinewidth": 0,
              "ticks": ""
             }
            },
            "type": "scattercarpet"
           }
          ],
          "scattergeo": [
           {
            "marker": {
             "colorbar": {
              "outlinewidth": 0,
              "ticks": ""
             }
            },
            "type": "scattergeo"
           }
          ],
          "scattergl": [
           {
            "marker": {
             "colorbar": {
              "outlinewidth": 0,
              "ticks": ""
             }
            },
            "type": "scattergl"
           }
          ],
          "scattermapbox": [
           {
            "marker": {
             "colorbar": {
              "outlinewidth": 0,
              "ticks": ""
             }
            },
            "type": "scattermapbox"
           }
          ],
          "scatterpolar": [
           {
            "marker": {
             "colorbar": {
              "outlinewidth": 0,
              "ticks": ""
             }
            },
            "type": "scatterpolar"
           }
          ],
          "scatterpolargl": [
           {
            "marker": {
             "colorbar": {
              "outlinewidth": 0,
              "ticks": ""
             }
            },
            "type": "scatterpolargl"
           }
          ],
          "scatterternary": [
           {
            "marker": {
             "colorbar": {
              "outlinewidth": 0,
              "ticks": ""
             }
            },
            "type": "scatterternary"
           }
          ],
          "surface": [
           {
            "colorbar": {
             "outlinewidth": 0,
             "ticks": ""
            },
            "colorscale": [
             [
              0,
              "#0d0887"
             ],
             [
              0.1111111111111111,
              "#46039f"
             ],
             [
              0.2222222222222222,
              "#7201a8"
             ],
             [
              0.3333333333333333,
              "#9c179e"
             ],
             [
              0.4444444444444444,
              "#bd3786"
             ],
             [
              0.5555555555555556,
              "#d8576b"
             ],
             [
              0.6666666666666666,
              "#ed7953"
             ],
             [
              0.7777777777777778,
              "#fb9f3a"
             ],
             [
              0.8888888888888888,
              "#fdca26"
             ],
             [
              1,
              "#f0f921"
             ]
            ],
            "type": "surface"
           }
          ],
          "table": [
           {
            "cells": {
             "fill": {
              "color": "#EBF0F8"
             },
             "line": {
              "color": "white"
             }
            },
            "header": {
             "fill": {
              "color": "#C8D4E3"
             },
             "line": {
              "color": "white"
             }
            },
            "type": "table"
           }
          ]
         },
         "layout": {
          "annotationdefaults": {
           "arrowcolor": "#2a3f5f",
           "arrowhead": 0,
           "arrowwidth": 1
          },
          "autotypenumbers": "strict",
          "coloraxis": {
           "colorbar": {
            "outlinewidth": 0,
            "ticks": ""
           }
          },
          "colorscale": {
           "diverging": [
            [
             0,
             "#8e0152"
            ],
            [
             0.1,
             "#c51b7d"
            ],
            [
             0.2,
             "#de77ae"
            ],
            [
             0.3,
             "#f1b6da"
            ],
            [
             0.4,
             "#fde0ef"
            ],
            [
             0.5,
             "#f7f7f7"
            ],
            [
             0.6,
             "#e6f5d0"
            ],
            [
             0.7,
             "#b8e186"
            ],
            [
             0.8,
             "#7fbc41"
            ],
            [
             0.9,
             "#4d9221"
            ],
            [
             1,
             "#276419"
            ]
           ],
           "sequential": [
            [
             0,
             "#0d0887"
            ],
            [
             0.1111111111111111,
             "#46039f"
            ],
            [
             0.2222222222222222,
             "#7201a8"
            ],
            [
             0.3333333333333333,
             "#9c179e"
            ],
            [
             0.4444444444444444,
             "#bd3786"
            ],
            [
             0.5555555555555556,
             "#d8576b"
            ],
            [
             0.6666666666666666,
             "#ed7953"
            ],
            [
             0.7777777777777778,
             "#fb9f3a"
            ],
            [
             0.8888888888888888,
             "#fdca26"
            ],
            [
             1,
             "#f0f921"
            ]
           ],
           "sequentialminus": [
            [
             0,
             "#0d0887"
            ],
            [
             0.1111111111111111,
             "#46039f"
            ],
            [
             0.2222222222222222,
             "#7201a8"
            ],
            [
             0.3333333333333333,
             "#9c179e"
            ],
            [
             0.4444444444444444,
             "#bd3786"
            ],
            [
             0.5555555555555556,
             "#d8576b"
            ],
            [
             0.6666666666666666,
             "#ed7953"
            ],
            [
             0.7777777777777778,
             "#fb9f3a"
            ],
            [
             0.8888888888888888,
             "#fdca26"
            ],
            [
             1,
             "#f0f921"
            ]
           ]
          },
          "colorway": [
           "#636efa",
           "#EF553B",
           "#00cc96",
           "#ab63fa",
           "#FFA15A",
           "#19d3f3",
           "#FF6692",
           "#B6E880",
           "#FF97FF",
           "#FECB52"
          ],
          "font": {
           "color": "#2a3f5f"
          },
          "geo": {
           "bgcolor": "white",
           "lakecolor": "white",
           "landcolor": "#E5ECF6",
           "showlakes": true,
           "showland": true,
           "subunitcolor": "white"
          },
          "hoverlabel": {
           "align": "left"
          },
          "hovermode": "closest",
          "mapbox": {
           "style": "light"
          },
          "paper_bgcolor": "white",
          "plot_bgcolor": "#E5ECF6",
          "polar": {
           "angularaxis": {
            "gridcolor": "white",
            "linecolor": "white",
            "ticks": ""
           },
           "bgcolor": "#E5ECF6",
           "radialaxis": {
            "gridcolor": "white",
            "linecolor": "white",
            "ticks": ""
           }
          },
          "scene": {
           "xaxis": {
            "backgroundcolor": "#E5ECF6",
            "gridcolor": "white",
            "gridwidth": 2,
            "linecolor": "white",
            "showbackground": true,
            "ticks": "",
            "zerolinecolor": "white"
           },
           "yaxis": {
            "backgroundcolor": "#E5ECF6",
            "gridcolor": "white",
            "gridwidth": 2,
            "linecolor": "white",
            "showbackground": true,
            "ticks": "",
            "zerolinecolor": "white"
           },
           "zaxis": {
            "backgroundcolor": "#E5ECF6",
            "gridcolor": "white",
            "gridwidth": 2,
            "linecolor": "white",
            "showbackground": true,
            "ticks": "",
            "zerolinecolor": "white"
           }
          },
          "shapedefaults": {
           "line": {
            "color": "#2a3f5f"
           }
          },
          "ternary": {
           "aaxis": {
            "gridcolor": "white",
            "linecolor": "white",
            "ticks": ""
           },
           "baxis": {
            "gridcolor": "white",
            "linecolor": "white",
            "ticks": ""
           },
           "bgcolor": "#E5ECF6",
           "caxis": {
            "gridcolor": "white",
            "linecolor": "white",
            "ticks": ""
           }
          },
          "title": {
           "x": 0.05
          },
          "xaxis": {
           "automargin": true,
           "gridcolor": "white",
           "linecolor": "white",
           "ticks": "",
           "title": {
            "standoff": 15
           },
           "zerolinecolor": "white",
           "zerolinewidth": 2
          },
          "yaxis": {
           "automargin": true,
           "gridcolor": "white",
           "linecolor": "white",
           "ticks": "",
           "title": {
            "standoff": 15
           },
           "zerolinecolor": "white",
           "zerolinewidth": 2
          }
         }
        },
        "xaxis": {
         "anchor": "y",
         "domain": [
          0,
          1
         ],
         "title": {
          "text": "Area [m²]"
         }
        },
        "yaxis": {
         "anchor": "x",
         "domain": [
          0,
          1
         ],
         "title": {
          "text": "Price [Ft]"
         }
        }
       }
      }
     },
     "metadata": {},
     "output_type": "display_data"
    }
   ],
   "source": [
    "# use the statsmodels module integration\n",
    "ols_fig = px.scatter(\n",
    "    # OLS = Ordinary Least Squares\n",
    "    x=area,\n",
    "    y=price,\n",
    "    labels={\"x\": \"Area [m²]\", \"y\": \"Price [Ft]\"},\n",
    "    trendline=\"ols\",\n",
    ")\n",
    "ols_fig.show()"
   ]
  },
  {
   "cell_type": "markdown",
   "metadata": {},
   "source": [
    "[LOWESS](https://en.wikipedia.org/wiki/Local_regression) trendline (LOcally WEighted Scatterplot Smoothing)"
   ]
  },
  {
   "cell_type": "code",
   "execution_count": 45,
   "metadata": {},
   "outputs": [
    {
     "data": {
      "application/vnd.plotly.v1+json": {
       "config": {
        "plotlyServerURL": "https://plot.ly"
       },
       "data": [
        {
         "hovertemplate": "Area [m²]=%{x}<br>Price [Ft]=%{y}<extra></extra>",
         "legendgroup": "",
         "marker": {
          "color": "#636efa",
          "symbol": "circle"
         },
         "mode": "markers",
         "name": "",
         "orientation": "v",
         "showlegend": false,
         "type": "scatter",
         "x": [
          38,
          38,
          120,
          57,
          34,
          116,
          75,
          97,
          111,
          110,
          72,
          115,
          47,
          57,
          57,
          78,
          35,
          37,
          82,
          55,
          90,
          83,
          106,
          120,
          47,
          44,
          115,
          34,
          57,
          116,
          113,
          72,
          68,
          34,
          50,
          96,
          88,
          106,
          46,
          46,
          91,
          115,
          45,
          54,
          120,
          34,
          120,
          64,
          49,
          78
         ],
         "xaxis": "x",
         "y": [
          38099490,
          36277995,
          64527260,
          44747174,
          27939275,
          76546920,
          60578232,
          52698438,
          81580905,
          78668330,
          67871823,
          84218940,
          49088112,
          51676898,
          54029378,
          59516862,
          34198560,
          36920534,
          76839906,
          55316520,
          93545270,
          68554332,
          64645560,
          85039780,
          37038480,
          46331190,
          58616325,
          27058430,
          54931858,
          82836784,
          78581188,
          67686111,
          52355682,
          32260340,
          50784015,
          71961296,
          92137873,
          76911912,
          35507748,
          44850220,
          54146355,
          58576095,
          36928064,
          45836725,
          64897700,
          27812575,
          64033480,
          66276080,
          43388350,
          64836485
         ],
         "yaxis": "y"
        },
        {
         "hovertemplate": "<b>LOWESS trendline</b><br><br>Area [m²]=%{x}<br>Price [Ft]=%{y} <b>(trend)</b><extra></extra>",
         "legendgroup": "",
         "marker": {
          "color": "#636efa",
          "symbol": "circle"
         },
         "mode": "lines",
         "name": "",
         "showlegend": false,
         "type": "scatter",
         "x": [
          34,
          34,
          34,
          34,
          35,
          37,
          38,
          38,
          44,
          45,
          46,
          46,
          47,
          47,
          49,
          50,
          54,
          55,
          57,
          57,
          57,
          57,
          64,
          68,
          72,
          72,
          75,
          78,
          78,
          82,
          83,
          88,
          90,
          91,
          96,
          97,
          106,
          106,
          110,
          111,
          113,
          115,
          115,
          115,
          116,
          116,
          120,
          120,
          120,
          120
         ],
         "xaxis": "x",
         "y": [
          31531541.939186294,
          31531541.939186294,
          31531541.939186294,
          31531541.939186294,
          32417543.843734708,
          34183592.281482816,
          35063803.1079845,
          35063803.1079845,
          40304742.067037165,
          41170808.41351475,
          42034398.08050458,
          42034398.08050458,
          42895332.24561659,
          42895332.24561659,
          44608648.49231518,
          45460721.06112878,
          48833411.67759503,
          49666083.63722667,
          51316105.39065346,
          51316105.39065346,
          51316105.39065346,
          51316105.39065346,
          56741949.37219706,
          59339353.66202488,
          61533703.07434719,
          61533703.07434719,
          62721462.47626927,
          64243904.689557955,
          64243904.689557955,
          65713607.276333734,
          65989687.54213088,
          67879567.93869148,
          68395814.94592783,
          68606716.35094991,
          69549060.58883414,
          69727679.80573097,
          71255689.07095625,
          71255689.07095625,
          71917627.50692277,
          72083026.86864588,
          72413562.65483315,
          72742630.50530322,
          72742630.50530322,
          72742630.50530322,
          72906115.24578919,
          72906115.24578919,
          73549235.78446774,
          73549235.78446774,
          73549235.78446774,
          73549235.78446774
         ],
         "yaxis": "y"
        }
       ],
       "layout": {
        "legend": {
         "tracegroupgap": 0
        },
        "margin": {
         "t": 60
        },
        "template": {
         "data": {
          "bar": [
           {
            "error_x": {
             "color": "#2a3f5f"
            },
            "error_y": {
             "color": "#2a3f5f"
            },
            "marker": {
             "line": {
              "color": "#E5ECF6",
              "width": 0.5
             },
             "pattern": {
              "fillmode": "overlay",
              "size": 10,
              "solidity": 0.2
             }
            },
            "type": "bar"
           }
          ],
          "barpolar": [
           {
            "marker": {
             "line": {
              "color": "#E5ECF6",
              "width": 0.5
             },
             "pattern": {
              "fillmode": "overlay",
              "size": 10,
              "solidity": 0.2
             }
            },
            "type": "barpolar"
           }
          ],
          "carpet": [
           {
            "aaxis": {
             "endlinecolor": "#2a3f5f",
             "gridcolor": "white",
             "linecolor": "white",
             "minorgridcolor": "white",
             "startlinecolor": "#2a3f5f"
            },
            "baxis": {
             "endlinecolor": "#2a3f5f",
             "gridcolor": "white",
             "linecolor": "white",
             "minorgridcolor": "white",
             "startlinecolor": "#2a3f5f"
            },
            "type": "carpet"
           }
          ],
          "choropleth": [
           {
            "colorbar": {
             "outlinewidth": 0,
             "ticks": ""
            },
            "type": "choropleth"
           }
          ],
          "contour": [
           {
            "colorbar": {
             "outlinewidth": 0,
             "ticks": ""
            },
            "colorscale": [
             [
              0,
              "#0d0887"
             ],
             [
              0.1111111111111111,
              "#46039f"
             ],
             [
              0.2222222222222222,
              "#7201a8"
             ],
             [
              0.3333333333333333,
              "#9c179e"
             ],
             [
              0.4444444444444444,
              "#bd3786"
             ],
             [
              0.5555555555555556,
              "#d8576b"
             ],
             [
              0.6666666666666666,
              "#ed7953"
             ],
             [
              0.7777777777777778,
              "#fb9f3a"
             ],
             [
              0.8888888888888888,
              "#fdca26"
             ],
             [
              1,
              "#f0f921"
             ]
            ],
            "type": "contour"
           }
          ],
          "contourcarpet": [
           {
            "colorbar": {
             "outlinewidth": 0,
             "ticks": ""
            },
            "type": "contourcarpet"
           }
          ],
          "heatmap": [
           {
            "colorbar": {
             "outlinewidth": 0,
             "ticks": ""
            },
            "colorscale": [
             [
              0,
              "#0d0887"
             ],
             [
              0.1111111111111111,
              "#46039f"
             ],
             [
              0.2222222222222222,
              "#7201a8"
             ],
             [
              0.3333333333333333,
              "#9c179e"
             ],
             [
              0.4444444444444444,
              "#bd3786"
             ],
             [
              0.5555555555555556,
              "#d8576b"
             ],
             [
              0.6666666666666666,
              "#ed7953"
             ],
             [
              0.7777777777777778,
              "#fb9f3a"
             ],
             [
              0.8888888888888888,
              "#fdca26"
             ],
             [
              1,
              "#f0f921"
             ]
            ],
            "type": "heatmap"
           }
          ],
          "heatmapgl": [
           {
            "colorbar": {
             "outlinewidth": 0,
             "ticks": ""
            },
            "colorscale": [
             [
              0,
              "#0d0887"
             ],
             [
              0.1111111111111111,
              "#46039f"
             ],
             [
              0.2222222222222222,
              "#7201a8"
             ],
             [
              0.3333333333333333,
              "#9c179e"
             ],
             [
              0.4444444444444444,
              "#bd3786"
             ],
             [
              0.5555555555555556,
              "#d8576b"
             ],
             [
              0.6666666666666666,
              "#ed7953"
             ],
             [
              0.7777777777777778,
              "#fb9f3a"
             ],
             [
              0.8888888888888888,
              "#fdca26"
             ],
             [
              1,
              "#f0f921"
             ]
            ],
            "type": "heatmapgl"
           }
          ],
          "histogram": [
           {
            "marker": {
             "pattern": {
              "fillmode": "overlay",
              "size": 10,
              "solidity": 0.2
             }
            },
            "type": "histogram"
           }
          ],
          "histogram2d": [
           {
            "colorbar": {
             "outlinewidth": 0,
             "ticks": ""
            },
            "colorscale": [
             [
              0,
              "#0d0887"
             ],
             [
              0.1111111111111111,
              "#46039f"
             ],
             [
              0.2222222222222222,
              "#7201a8"
             ],
             [
              0.3333333333333333,
              "#9c179e"
             ],
             [
              0.4444444444444444,
              "#bd3786"
             ],
             [
              0.5555555555555556,
              "#d8576b"
             ],
             [
              0.6666666666666666,
              "#ed7953"
             ],
             [
              0.7777777777777778,
              "#fb9f3a"
             ],
             [
              0.8888888888888888,
              "#fdca26"
             ],
             [
              1,
              "#f0f921"
             ]
            ],
            "type": "histogram2d"
           }
          ],
          "histogram2dcontour": [
           {
            "colorbar": {
             "outlinewidth": 0,
             "ticks": ""
            },
            "colorscale": [
             [
              0,
              "#0d0887"
             ],
             [
              0.1111111111111111,
              "#46039f"
             ],
             [
              0.2222222222222222,
              "#7201a8"
             ],
             [
              0.3333333333333333,
              "#9c179e"
             ],
             [
              0.4444444444444444,
              "#bd3786"
             ],
             [
              0.5555555555555556,
              "#d8576b"
             ],
             [
              0.6666666666666666,
              "#ed7953"
             ],
             [
              0.7777777777777778,
              "#fb9f3a"
             ],
             [
              0.8888888888888888,
              "#fdca26"
             ],
             [
              1,
              "#f0f921"
             ]
            ],
            "type": "histogram2dcontour"
           }
          ],
          "mesh3d": [
           {
            "colorbar": {
             "outlinewidth": 0,
             "ticks": ""
            },
            "type": "mesh3d"
           }
          ],
          "parcoords": [
           {
            "line": {
             "colorbar": {
              "outlinewidth": 0,
              "ticks": ""
             }
            },
            "type": "parcoords"
           }
          ],
          "pie": [
           {
            "automargin": true,
            "type": "pie"
           }
          ],
          "scatter": [
           {
            "fillpattern": {
             "fillmode": "overlay",
             "size": 10,
             "solidity": 0.2
            },
            "type": "scatter"
           }
          ],
          "scatter3d": [
           {
            "line": {
             "colorbar": {
              "outlinewidth": 0,
              "ticks": ""
             }
            },
            "marker": {
             "colorbar": {
              "outlinewidth": 0,
              "ticks": ""
             }
            },
            "type": "scatter3d"
           }
          ],
          "scattercarpet": [
           {
            "marker": {
             "colorbar": {
              "outlinewidth": 0,
              "ticks": ""
             }
            },
            "type": "scattercarpet"
           }
          ],
          "scattergeo": [
           {
            "marker": {
             "colorbar": {
              "outlinewidth": 0,
              "ticks": ""
             }
            },
            "type": "scattergeo"
           }
          ],
          "scattergl": [
           {
            "marker": {
             "colorbar": {
              "outlinewidth": 0,
              "ticks": ""
             }
            },
            "type": "scattergl"
           }
          ],
          "scattermapbox": [
           {
            "marker": {
             "colorbar": {
              "outlinewidth": 0,
              "ticks": ""
             }
            },
            "type": "scattermapbox"
           }
          ],
          "scatterpolar": [
           {
            "marker": {
             "colorbar": {
              "outlinewidth": 0,
              "ticks": ""
             }
            },
            "type": "scatterpolar"
           }
          ],
          "scatterpolargl": [
           {
            "marker": {
             "colorbar": {
              "outlinewidth": 0,
              "ticks": ""
             }
            },
            "type": "scatterpolargl"
           }
          ],
          "scatterternary": [
           {
            "marker": {
             "colorbar": {
              "outlinewidth": 0,
              "ticks": ""
             }
            },
            "type": "scatterternary"
           }
          ],
          "surface": [
           {
            "colorbar": {
             "outlinewidth": 0,
             "ticks": ""
            },
            "colorscale": [
             [
              0,
              "#0d0887"
             ],
             [
              0.1111111111111111,
              "#46039f"
             ],
             [
              0.2222222222222222,
              "#7201a8"
             ],
             [
              0.3333333333333333,
              "#9c179e"
             ],
             [
              0.4444444444444444,
              "#bd3786"
             ],
             [
              0.5555555555555556,
              "#d8576b"
             ],
             [
              0.6666666666666666,
              "#ed7953"
             ],
             [
              0.7777777777777778,
              "#fb9f3a"
             ],
             [
              0.8888888888888888,
              "#fdca26"
             ],
             [
              1,
              "#f0f921"
             ]
            ],
            "type": "surface"
           }
          ],
          "table": [
           {
            "cells": {
             "fill": {
              "color": "#EBF0F8"
             },
             "line": {
              "color": "white"
             }
            },
            "header": {
             "fill": {
              "color": "#C8D4E3"
             },
             "line": {
              "color": "white"
             }
            },
            "type": "table"
           }
          ]
         },
         "layout": {
          "annotationdefaults": {
           "arrowcolor": "#2a3f5f",
           "arrowhead": 0,
           "arrowwidth": 1
          },
          "autotypenumbers": "strict",
          "coloraxis": {
           "colorbar": {
            "outlinewidth": 0,
            "ticks": ""
           }
          },
          "colorscale": {
           "diverging": [
            [
             0,
             "#8e0152"
            ],
            [
             0.1,
             "#c51b7d"
            ],
            [
             0.2,
             "#de77ae"
            ],
            [
             0.3,
             "#f1b6da"
            ],
            [
             0.4,
             "#fde0ef"
            ],
            [
             0.5,
             "#f7f7f7"
            ],
            [
             0.6,
             "#e6f5d0"
            ],
            [
             0.7,
             "#b8e186"
            ],
            [
             0.8,
             "#7fbc41"
            ],
            [
             0.9,
             "#4d9221"
            ],
            [
             1,
             "#276419"
            ]
           ],
           "sequential": [
            [
             0,
             "#0d0887"
            ],
            [
             0.1111111111111111,
             "#46039f"
            ],
            [
             0.2222222222222222,
             "#7201a8"
            ],
            [
             0.3333333333333333,
             "#9c179e"
            ],
            [
             0.4444444444444444,
             "#bd3786"
            ],
            [
             0.5555555555555556,
             "#d8576b"
            ],
            [
             0.6666666666666666,
             "#ed7953"
            ],
            [
             0.7777777777777778,
             "#fb9f3a"
            ],
            [
             0.8888888888888888,
             "#fdca26"
            ],
            [
             1,
             "#f0f921"
            ]
           ],
           "sequentialminus": [
            [
             0,
             "#0d0887"
            ],
            [
             0.1111111111111111,
             "#46039f"
            ],
            [
             0.2222222222222222,
             "#7201a8"
            ],
            [
             0.3333333333333333,
             "#9c179e"
            ],
            [
             0.4444444444444444,
             "#bd3786"
            ],
            [
             0.5555555555555556,
             "#d8576b"
            ],
            [
             0.6666666666666666,
             "#ed7953"
            ],
            [
             0.7777777777777778,
             "#fb9f3a"
            ],
            [
             0.8888888888888888,
             "#fdca26"
            ],
            [
             1,
             "#f0f921"
            ]
           ]
          },
          "colorway": [
           "#636efa",
           "#EF553B",
           "#00cc96",
           "#ab63fa",
           "#FFA15A",
           "#19d3f3",
           "#FF6692",
           "#B6E880",
           "#FF97FF",
           "#FECB52"
          ],
          "font": {
           "color": "#2a3f5f"
          },
          "geo": {
           "bgcolor": "white",
           "lakecolor": "white",
           "landcolor": "#E5ECF6",
           "showlakes": true,
           "showland": true,
           "subunitcolor": "white"
          },
          "hoverlabel": {
           "align": "left"
          },
          "hovermode": "closest",
          "mapbox": {
           "style": "light"
          },
          "paper_bgcolor": "white",
          "plot_bgcolor": "#E5ECF6",
          "polar": {
           "angularaxis": {
            "gridcolor": "white",
            "linecolor": "white",
            "ticks": ""
           },
           "bgcolor": "#E5ECF6",
           "radialaxis": {
            "gridcolor": "white",
            "linecolor": "white",
            "ticks": ""
           }
          },
          "scene": {
           "xaxis": {
            "backgroundcolor": "#E5ECF6",
            "gridcolor": "white",
            "gridwidth": 2,
            "linecolor": "white",
            "showbackground": true,
            "ticks": "",
            "zerolinecolor": "white"
           },
           "yaxis": {
            "backgroundcolor": "#E5ECF6",
            "gridcolor": "white",
            "gridwidth": 2,
            "linecolor": "white",
            "showbackground": true,
            "ticks": "",
            "zerolinecolor": "white"
           },
           "zaxis": {
            "backgroundcolor": "#E5ECF6",
            "gridcolor": "white",
            "gridwidth": 2,
            "linecolor": "white",
            "showbackground": true,
            "ticks": "",
            "zerolinecolor": "white"
           }
          },
          "shapedefaults": {
           "line": {
            "color": "#2a3f5f"
           }
          },
          "ternary": {
           "aaxis": {
            "gridcolor": "white",
            "linecolor": "white",
            "ticks": ""
           },
           "baxis": {
            "gridcolor": "white",
            "linecolor": "white",
            "ticks": ""
           },
           "bgcolor": "#E5ECF6",
           "caxis": {
            "gridcolor": "white",
            "linecolor": "white",
            "ticks": ""
           }
          },
          "title": {
           "x": 0.05
          },
          "xaxis": {
           "automargin": true,
           "gridcolor": "white",
           "linecolor": "white",
           "ticks": "",
           "title": {
            "standoff": 15
           },
           "zerolinecolor": "white",
           "zerolinewidth": 2
          },
          "yaxis": {
           "automargin": true,
           "gridcolor": "white",
           "linecolor": "white",
           "ticks": "",
           "title": {
            "standoff": 15
           },
           "zerolinecolor": "white",
           "zerolinewidth": 2
          }
         }
        },
        "xaxis": {
         "anchor": "y",
         "domain": [
          0,
          1
         ],
         "title": {
          "text": "Area [m²]"
         }
        },
        "yaxis": {
         "anchor": "x",
         "domain": [
          0,
          1
         ],
         "title": {
          "text": "Price [Ft]"
         }
        }
       }
      }
     },
     "metadata": {},
     "output_type": "display_data"
    }
   ],
   "source": [
    "lowess_fig = px.scatter(\n",
    "    x=area, y=price, labels={\"x\": \"Area [m²]\", \"y\": \"Price [Ft]\"}, trendline=\"lowess\"\n",
    ")\n",
    "lowess_fig.show()"
   ]
  }
 ],
 "metadata": {
  "kernelspec": {
   "display_name": "Python 3.10.0 64-bit",
   "language": "python",
   "name": "python3"
  },
  "language_info": {
   "codemirror_mode": {
    "name": "ipython",
    "version": 3
   },
   "file_extension": ".py",
   "mimetype": "text/x-python",
   "name": "python",
   "nbconvert_exporter": "python",
   "pygments_lexer": "ipython3",
   "version": "3.11.3"
  },
  "orig_nbformat": 4,
  "vscode": {
   "interpreter": {
    "hash": "10213d5d3bfbb90c435c171fdf3f7b3db0669a75aa9809df715e84a75ee4f001"
   }
  }
 },
 "nbformat": 4,
 "nbformat_minor": 2
}
