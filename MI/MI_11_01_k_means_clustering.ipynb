{
  "cells": [
    {
      "cell_type": "markdown",
      "metadata": {
        "id": "P7Y14-7gEwpP"
      },
      "source": [
        "# Clustering\n",
        "\n",
        "In clustering, the goal is to partition the set of inputs into disjoint groups, aka clusters.\n",
        "\n",
        "It's similar to the classification problem but we have no prior information about the meaning of the groups.\n",
        "We just want to group similar inputs together.\n",
        "\n",
        "Hence, this problem requires unsupervised learning, as we don't have labelled training data.\n",
        "(Or maybe we have but want to find out if there is a better grouping.)"
      ]
    },
    {
      "cell_type": "markdown",
      "metadata": {
        "id": "LjAb7pEwEwpR"
      },
      "source": [
        "## k-means clustering\n",
        "\n",
        "Let's start with a simple case: we have 2-dimensional numerical data and know the number of clusters we want is 3."
      ]
    },
    {
      "cell_type": "code",
      "execution_count": 10,
      "metadata": {
        "colab": {
          "base_uri": "https://localhost:8080/",
          "height": 542
        },
        "id": "6VgsjT68EwpR",
        "outputId": "83f1213b-b64a-445c-b91e-98850a6bf513"
      },
      "outputs": [
        {
          "data": {
            "application/vnd.plotly.v1+json": {
              "config": {
                "plotlyServerURL": "https://plot.ly"
              },
              "data": [
                {
                  "hovertemplate": "x=%{x}<br>y=%{y}<extra></extra>",
                  "legendgroup": "",
                  "marker": {
                    "color": "#636efa",
                    "symbol": "circle"
                  },
                  "mode": "markers",
                  "name": "",
                  "orientation": "v",
                  "showlegend": false,
                  "type": "scatter",
                  "x": [
                    2.5165401747248306,
                    0.25989682959155447,
                    2.8130690956518762,
                    -0.3148481994998662,
                    0.13742770649282088,
                    0.697940359085573,
                    -2.444878935150787,
                    -0.7673673676812967,
                    2.5931033270428263,
                    0.46881240360172416,
                    1.5595425282885245,
                    1.9605026231286717,
                    2.427797473217246,
                    2.202493450033261,
                    -2.1227078708606575,
                    3.5493146897741337,
                    -1.6056660327622512,
                    0.3257530529109318,
                    -1.5814972974816104,
                    -2.410410684764666,
                    -2.041798735488218,
                    -1.558330267803902,
                    -1.0147987923438317,
                    0.26604148044240483,
                    1.1986654242244439,
                    2.156797195595774,
                    1.4393346618766247,
                    1.1231476488061927,
                    -1.8222494835758603,
                    -0.9094715722509714,
                    1.0915049354751973,
                    3.2458692764693575,
                    1.72437233682508,
                    2.17153333707258,
                    -1.89133001603578,
                    0.37961180666924843,
                    0.8936949971116488,
                    1.515801392906977,
                    2.3403606391723994,
                    -2.118554410334956,
                    -0.6255952755366998,
                    2.3771408343749174,
                    2.2938580607977226,
                    -0.3887460739535151,
                    1.1002280191040281,
                    0.5685483331451722,
                    1.3586298020873726,
                    1.4996132336477856,
                    -2.2571617935772323,
                    -1.1082826847965024,
                    0.20368474620264654,
                    1.546590658729773,
                    0.2504313870399013,
                    2.221887503894366,
                    -1.9253299737757494,
                    -0.8414395236997524,
                    2.9982911783605983,
                    2.0636675380095344,
                    1.0128768923876519,
                    3.5617880790778815,
                    1.038879522644291,
                    -2.5611895410006644,
                    -2.169631744560978,
                    -1.3935652169238821,
                    -2.71991008738639,
                    1.7327259638543342,
                    1.5851002586640899,
                    -2.327076291133557,
                    1.8060254957309798,
                    1.7363408125669666,
                    -0.7902169541972501,
                    2.792073777736581,
                    -1.0661217741207678,
                    3.593621142617186,
                    1.3662869733891159,
                    1.8877906261811357,
                    1.1182109923494974,
                    0.4383017203257342,
                    -1.8100991422246926,
                    2.3564079463573817,
                    -0.025966209493445858,
                    1.0294838564530293,
                    1.8408648246717736,
                    -0.3278885990263407,
                    1.11676879734155,
                    1.3313606647428355,
                    0.9537242958755712,
                    0.5676259684913967,
                    2.546531017709742,
                    0.6664086246201333,
                    1.7071446800555679,
                    2.372072891562194,
                    -0.6471763365122148,
                    -2.354298286649477,
                    -2.579629941631122,
                    -0.5764801793400639,
                    1.2267242398672162,
                    1.6678190376340996,
                    -1.0267188524001554,
                    -2.50725242828604
                  ],
                  "xaxis": "x",
                  "y": [
                    0.731024655475541,
                    4.613309325735799,
                    0.7736555854652695,
                    4.133595103277215,
                    3.1677729777052095,
                    4.428866502731574,
                    2.5676262255375755,
                    2.9879232544412755,
                    1.223633128930825,
                    4.013594394658679,
                    4.406973656054318,
                    5.265691206475919,
                    -0.33133128908384224,
                    5.479274343368618,
                    2.256731430405911,
                    1.622499386558245,
                    2.387099632243437,
                    2.9227612455830485,
                    4.288556438652616,
                    2.9596143247419024,
                    1.1391597395535813,
                    1.9834074631401648,
                    1.6243174258844553,
                    2.7191501528692483,
                    1.741225041482846,
                    1.2192551506936982,
                    1.3290630129713907,
                    1.6183248495012865,
                    2.7263789192723817,
                    3.576685584504108,
                    5.46720613301877,
                    2.414375000762403,
                    0.2996998107853306,
                    4.139660716435749,
                    2.931865588553168,
                    3.673465850925454,
                    4.632266128999088,
                    0.9231281065574178,
                    1.4629221944914954,
                    4.152293937658511,
                    2.0539370546423843,
                    0.3498155871856863,
                    1.9587723772875612,
                    5.864407643633822,
                    4.6063173431301285,
                    3.9533278861594408,
                    0.43458392812640445,
                    0.7779560276758002,
                    3.811495291809805,
                    2.7806451963553243,
                    3.9871046208822367,
                    1.4388102958951365,
                    4.345343644085301,
                    1.6789748891249072,
                    4.461507904386711,
                    2.3970617866930053,
                    0.7537237912880561,
                    2.3263600550626053,
                    4.154040247427723,
                    -0.1805435889760203,
                    1.6731810264643459,
                    3.131522956812469,
                    2.366242439132962,
                    3.4259074108468077,
                    3.2693956223447525,
                    1.8756197162438788,
                    4.4011273406426525,
                    1.6820653839110333,
                    0.9425959337217332,
                    4.182701560810232,
                    3.1728643836875396,
                    3.140294787769378,
                    4.8266822038006785,
                    2.082075493085476,
                    2.425715622417164,
                    3.315926671165468,
                    3.9823625784817804,
                    4.016144798215957,
                    1.8179212265987077,
                    0.018143027470581163,
                    4.925779612113918,
                    4.545764845640215,
                    1.5396287765750531,
                    4.6740131318690095,
                    2.452560608457371,
                    4.570726789347804,
                    4.646452823872724,
                    3.3592815801504603,
                    1.6354289971911582,
                    4.061945126988122,
                    2.3770746427214107,
                    0.023214452953532194,
                    3.442093245911201,
                    3.4631578759584243,
                    2.548614577481356,
                    3.1714363508730026,
                    3.6205107360070103,
                    3.710055311123236,
                    1.6362361368477245,
                    3.5933726424543604
                  ],
                  "yaxis": "y"
                }
              ],
              "layout": {
                "legend": {
                  "tracegroupgap": 0
                },
                "margin": {
                  "t": 60
                },
                "template": {
                  "data": {
                    "bar": [
                      {
                        "error_x": {
                          "color": "#2a3f5f"
                        },
                        "error_y": {
                          "color": "#2a3f5f"
                        },
                        "marker": {
                          "line": {
                            "color": "#E5ECF6",
                            "width": 0.5
                          },
                          "pattern": {
                            "fillmode": "overlay",
                            "size": 10,
                            "solidity": 0.2
                          }
                        },
                        "type": "bar"
                      }
                    ],
                    "barpolar": [
                      {
                        "marker": {
                          "line": {
                            "color": "#E5ECF6",
                            "width": 0.5
                          },
                          "pattern": {
                            "fillmode": "overlay",
                            "size": 10,
                            "solidity": 0.2
                          }
                        },
                        "type": "barpolar"
                      }
                    ],
                    "carpet": [
                      {
                        "aaxis": {
                          "endlinecolor": "#2a3f5f",
                          "gridcolor": "white",
                          "linecolor": "white",
                          "minorgridcolor": "white",
                          "startlinecolor": "#2a3f5f"
                        },
                        "baxis": {
                          "endlinecolor": "#2a3f5f",
                          "gridcolor": "white",
                          "linecolor": "white",
                          "minorgridcolor": "white",
                          "startlinecolor": "#2a3f5f"
                        },
                        "type": "carpet"
                      }
                    ],
                    "choropleth": [
                      {
                        "colorbar": {
                          "outlinewidth": 0,
                          "ticks": ""
                        },
                        "type": "choropleth"
                      }
                    ],
                    "contour": [
                      {
                        "colorbar": {
                          "outlinewidth": 0,
                          "ticks": ""
                        },
                        "colorscale": [
                          [
                            0,
                            "#0d0887"
                          ],
                          [
                            0.1111111111111111,
                            "#46039f"
                          ],
                          [
                            0.2222222222222222,
                            "#7201a8"
                          ],
                          [
                            0.3333333333333333,
                            "#9c179e"
                          ],
                          [
                            0.4444444444444444,
                            "#bd3786"
                          ],
                          [
                            0.5555555555555556,
                            "#d8576b"
                          ],
                          [
                            0.6666666666666666,
                            "#ed7953"
                          ],
                          [
                            0.7777777777777778,
                            "#fb9f3a"
                          ],
                          [
                            0.8888888888888888,
                            "#fdca26"
                          ],
                          [
                            1,
                            "#f0f921"
                          ]
                        ],
                        "type": "contour"
                      }
                    ],
                    "contourcarpet": [
                      {
                        "colorbar": {
                          "outlinewidth": 0,
                          "ticks": ""
                        },
                        "type": "contourcarpet"
                      }
                    ],
                    "heatmap": [
                      {
                        "colorbar": {
                          "outlinewidth": 0,
                          "ticks": ""
                        },
                        "colorscale": [
                          [
                            0,
                            "#0d0887"
                          ],
                          [
                            0.1111111111111111,
                            "#46039f"
                          ],
                          [
                            0.2222222222222222,
                            "#7201a8"
                          ],
                          [
                            0.3333333333333333,
                            "#9c179e"
                          ],
                          [
                            0.4444444444444444,
                            "#bd3786"
                          ],
                          [
                            0.5555555555555556,
                            "#d8576b"
                          ],
                          [
                            0.6666666666666666,
                            "#ed7953"
                          ],
                          [
                            0.7777777777777778,
                            "#fb9f3a"
                          ],
                          [
                            0.8888888888888888,
                            "#fdca26"
                          ],
                          [
                            1,
                            "#f0f921"
                          ]
                        ],
                        "type": "heatmap"
                      }
                    ],
                    "heatmapgl": [
                      {
                        "colorbar": {
                          "outlinewidth": 0,
                          "ticks": ""
                        },
                        "colorscale": [
                          [
                            0,
                            "#0d0887"
                          ],
                          [
                            0.1111111111111111,
                            "#46039f"
                          ],
                          [
                            0.2222222222222222,
                            "#7201a8"
                          ],
                          [
                            0.3333333333333333,
                            "#9c179e"
                          ],
                          [
                            0.4444444444444444,
                            "#bd3786"
                          ],
                          [
                            0.5555555555555556,
                            "#d8576b"
                          ],
                          [
                            0.6666666666666666,
                            "#ed7953"
                          ],
                          [
                            0.7777777777777778,
                            "#fb9f3a"
                          ],
                          [
                            0.8888888888888888,
                            "#fdca26"
                          ],
                          [
                            1,
                            "#f0f921"
                          ]
                        ],
                        "type": "heatmapgl"
                      }
                    ],
                    "histogram": [
                      {
                        "marker": {
                          "pattern": {
                            "fillmode": "overlay",
                            "size": 10,
                            "solidity": 0.2
                          }
                        },
                        "type": "histogram"
                      }
                    ],
                    "histogram2d": [
                      {
                        "colorbar": {
                          "outlinewidth": 0,
                          "ticks": ""
                        },
                        "colorscale": [
                          [
                            0,
                            "#0d0887"
                          ],
                          [
                            0.1111111111111111,
                            "#46039f"
                          ],
                          [
                            0.2222222222222222,
                            "#7201a8"
                          ],
                          [
                            0.3333333333333333,
                            "#9c179e"
                          ],
                          [
                            0.4444444444444444,
                            "#bd3786"
                          ],
                          [
                            0.5555555555555556,
                            "#d8576b"
                          ],
                          [
                            0.6666666666666666,
                            "#ed7953"
                          ],
                          [
                            0.7777777777777778,
                            "#fb9f3a"
                          ],
                          [
                            0.8888888888888888,
                            "#fdca26"
                          ],
                          [
                            1,
                            "#f0f921"
                          ]
                        ],
                        "type": "histogram2d"
                      }
                    ],
                    "histogram2dcontour": [
                      {
                        "colorbar": {
                          "outlinewidth": 0,
                          "ticks": ""
                        },
                        "colorscale": [
                          [
                            0,
                            "#0d0887"
                          ],
                          [
                            0.1111111111111111,
                            "#46039f"
                          ],
                          [
                            0.2222222222222222,
                            "#7201a8"
                          ],
                          [
                            0.3333333333333333,
                            "#9c179e"
                          ],
                          [
                            0.4444444444444444,
                            "#bd3786"
                          ],
                          [
                            0.5555555555555556,
                            "#d8576b"
                          ],
                          [
                            0.6666666666666666,
                            "#ed7953"
                          ],
                          [
                            0.7777777777777778,
                            "#fb9f3a"
                          ],
                          [
                            0.8888888888888888,
                            "#fdca26"
                          ],
                          [
                            1,
                            "#f0f921"
                          ]
                        ],
                        "type": "histogram2dcontour"
                      }
                    ],
                    "mesh3d": [
                      {
                        "colorbar": {
                          "outlinewidth": 0,
                          "ticks": ""
                        },
                        "type": "mesh3d"
                      }
                    ],
                    "parcoords": [
                      {
                        "line": {
                          "colorbar": {
                            "outlinewidth": 0,
                            "ticks": ""
                          }
                        },
                        "type": "parcoords"
                      }
                    ],
                    "pie": [
                      {
                        "automargin": true,
                        "type": "pie"
                      }
                    ],
                    "scatter": [
                      {
                        "fillpattern": {
                          "fillmode": "overlay",
                          "size": 10,
                          "solidity": 0.2
                        },
                        "type": "scatter"
                      }
                    ],
                    "scatter3d": [
                      {
                        "line": {
                          "colorbar": {
                            "outlinewidth": 0,
                            "ticks": ""
                          }
                        },
                        "marker": {
                          "colorbar": {
                            "outlinewidth": 0,
                            "ticks": ""
                          }
                        },
                        "type": "scatter3d"
                      }
                    ],
                    "scattercarpet": [
                      {
                        "marker": {
                          "colorbar": {
                            "outlinewidth": 0,
                            "ticks": ""
                          }
                        },
                        "type": "scattercarpet"
                      }
                    ],
                    "scattergeo": [
                      {
                        "marker": {
                          "colorbar": {
                            "outlinewidth": 0,
                            "ticks": ""
                          }
                        },
                        "type": "scattergeo"
                      }
                    ],
                    "scattergl": [
                      {
                        "marker": {
                          "colorbar": {
                            "outlinewidth": 0,
                            "ticks": ""
                          }
                        },
                        "type": "scattergl"
                      }
                    ],
                    "scattermapbox": [
                      {
                        "marker": {
                          "colorbar": {
                            "outlinewidth": 0,
                            "ticks": ""
                          }
                        },
                        "type": "scattermapbox"
                      }
                    ],
                    "scatterpolar": [
                      {
                        "marker": {
                          "colorbar": {
                            "outlinewidth": 0,
                            "ticks": ""
                          }
                        },
                        "type": "scatterpolar"
                      }
                    ],
                    "scatterpolargl": [
                      {
                        "marker": {
                          "colorbar": {
                            "outlinewidth": 0,
                            "ticks": ""
                          }
                        },
                        "type": "scatterpolargl"
                      }
                    ],
                    "scatterternary": [
                      {
                        "marker": {
                          "colorbar": {
                            "outlinewidth": 0,
                            "ticks": ""
                          }
                        },
                        "type": "scatterternary"
                      }
                    ],
                    "surface": [
                      {
                        "colorbar": {
                          "outlinewidth": 0,
                          "ticks": ""
                        },
                        "colorscale": [
                          [
                            0,
                            "#0d0887"
                          ],
                          [
                            0.1111111111111111,
                            "#46039f"
                          ],
                          [
                            0.2222222222222222,
                            "#7201a8"
                          ],
                          [
                            0.3333333333333333,
                            "#9c179e"
                          ],
                          [
                            0.4444444444444444,
                            "#bd3786"
                          ],
                          [
                            0.5555555555555556,
                            "#d8576b"
                          ],
                          [
                            0.6666666666666666,
                            "#ed7953"
                          ],
                          [
                            0.7777777777777778,
                            "#fb9f3a"
                          ],
                          [
                            0.8888888888888888,
                            "#fdca26"
                          ],
                          [
                            1,
                            "#f0f921"
                          ]
                        ],
                        "type": "surface"
                      }
                    ],
                    "table": [
                      {
                        "cells": {
                          "fill": {
                            "color": "#EBF0F8"
                          },
                          "line": {
                            "color": "white"
                          }
                        },
                        "header": {
                          "fill": {
                            "color": "#C8D4E3"
                          },
                          "line": {
                            "color": "white"
                          }
                        },
                        "type": "table"
                      }
                    ]
                  },
                  "layout": {
                    "annotationdefaults": {
                      "arrowcolor": "#2a3f5f",
                      "arrowhead": 0,
                      "arrowwidth": 1
                    },
                    "autotypenumbers": "strict",
                    "coloraxis": {
                      "colorbar": {
                        "outlinewidth": 0,
                        "ticks": ""
                      }
                    },
                    "colorscale": {
                      "diverging": [
                        [
                          0,
                          "#8e0152"
                        ],
                        [
                          0.1,
                          "#c51b7d"
                        ],
                        [
                          0.2,
                          "#de77ae"
                        ],
                        [
                          0.3,
                          "#f1b6da"
                        ],
                        [
                          0.4,
                          "#fde0ef"
                        ],
                        [
                          0.5,
                          "#f7f7f7"
                        ],
                        [
                          0.6,
                          "#e6f5d0"
                        ],
                        [
                          0.7,
                          "#b8e186"
                        ],
                        [
                          0.8,
                          "#7fbc41"
                        ],
                        [
                          0.9,
                          "#4d9221"
                        ],
                        [
                          1,
                          "#276419"
                        ]
                      ],
                      "sequential": [
                        [
                          0,
                          "#0d0887"
                        ],
                        [
                          0.1111111111111111,
                          "#46039f"
                        ],
                        [
                          0.2222222222222222,
                          "#7201a8"
                        ],
                        [
                          0.3333333333333333,
                          "#9c179e"
                        ],
                        [
                          0.4444444444444444,
                          "#bd3786"
                        ],
                        [
                          0.5555555555555556,
                          "#d8576b"
                        ],
                        [
                          0.6666666666666666,
                          "#ed7953"
                        ],
                        [
                          0.7777777777777778,
                          "#fb9f3a"
                        ],
                        [
                          0.8888888888888888,
                          "#fdca26"
                        ],
                        [
                          1,
                          "#f0f921"
                        ]
                      ],
                      "sequentialminus": [
                        [
                          0,
                          "#0d0887"
                        ],
                        [
                          0.1111111111111111,
                          "#46039f"
                        ],
                        [
                          0.2222222222222222,
                          "#7201a8"
                        ],
                        [
                          0.3333333333333333,
                          "#9c179e"
                        ],
                        [
                          0.4444444444444444,
                          "#bd3786"
                        ],
                        [
                          0.5555555555555556,
                          "#d8576b"
                        ],
                        [
                          0.6666666666666666,
                          "#ed7953"
                        ],
                        [
                          0.7777777777777778,
                          "#fb9f3a"
                        ],
                        [
                          0.8888888888888888,
                          "#fdca26"
                        ],
                        [
                          1,
                          "#f0f921"
                        ]
                      ]
                    },
                    "colorway": [
                      "#636efa",
                      "#EF553B",
                      "#00cc96",
                      "#ab63fa",
                      "#FFA15A",
                      "#19d3f3",
                      "#FF6692",
                      "#B6E880",
                      "#FF97FF",
                      "#FECB52"
                    ],
                    "font": {
                      "color": "#2a3f5f"
                    },
                    "geo": {
                      "bgcolor": "white",
                      "lakecolor": "white",
                      "landcolor": "#E5ECF6",
                      "showlakes": true,
                      "showland": true,
                      "subunitcolor": "white"
                    },
                    "hoverlabel": {
                      "align": "left"
                    },
                    "hovermode": "closest",
                    "mapbox": {
                      "style": "light"
                    },
                    "paper_bgcolor": "white",
                    "plot_bgcolor": "#E5ECF6",
                    "polar": {
                      "angularaxis": {
                        "gridcolor": "white",
                        "linecolor": "white",
                        "ticks": ""
                      },
                      "bgcolor": "#E5ECF6",
                      "radialaxis": {
                        "gridcolor": "white",
                        "linecolor": "white",
                        "ticks": ""
                      }
                    },
                    "scene": {
                      "xaxis": {
                        "backgroundcolor": "#E5ECF6",
                        "gridcolor": "white",
                        "gridwidth": 2,
                        "linecolor": "white",
                        "showbackground": true,
                        "ticks": "",
                        "zerolinecolor": "white"
                      },
                      "yaxis": {
                        "backgroundcolor": "#E5ECF6",
                        "gridcolor": "white",
                        "gridwidth": 2,
                        "linecolor": "white",
                        "showbackground": true,
                        "ticks": "",
                        "zerolinecolor": "white"
                      },
                      "zaxis": {
                        "backgroundcolor": "#E5ECF6",
                        "gridcolor": "white",
                        "gridwidth": 2,
                        "linecolor": "white",
                        "showbackground": true,
                        "ticks": "",
                        "zerolinecolor": "white"
                      }
                    },
                    "shapedefaults": {
                      "line": {
                        "color": "#2a3f5f"
                      }
                    },
                    "ternary": {
                      "aaxis": {
                        "gridcolor": "white",
                        "linecolor": "white",
                        "ticks": ""
                      },
                      "baxis": {
                        "gridcolor": "white",
                        "linecolor": "white",
                        "ticks": ""
                      },
                      "bgcolor": "#E5ECF6",
                      "caxis": {
                        "gridcolor": "white",
                        "linecolor": "white",
                        "ticks": ""
                      }
                    },
                    "title": {
                      "x": 0.05
                    },
                    "xaxis": {
                      "automargin": true,
                      "gridcolor": "white",
                      "linecolor": "white",
                      "ticks": "",
                      "title": {
                        "standoff": 15
                      },
                      "zerolinecolor": "white",
                      "zerolinewidth": 2
                    },
                    "yaxis": {
                      "automargin": true,
                      "gridcolor": "white",
                      "linecolor": "white",
                      "ticks": "",
                      "title": {
                        "standoff": 15
                      },
                      "zerolinecolor": "white",
                      "zerolinewidth": 2
                    }
                  }
                },
                "xaxis": {
                  "anchor": "y",
                  "domain": [
                    0,
                    1
                  ],
                  "title": {
                    "text": "x"
                  }
                },
                "yaxis": {
                  "anchor": "x",
                  "domain": [
                    0,
                    1
                  ],
                  "scaleanchor": "x",
                  "scaleratio": 1,
                  "title": {
                    "text": "y"
                  }
                }
              }
            }
          },
          "metadata": {},
          "output_type": "display_data"
        }
      ],
      "source": [
        "from sklearn.datasets import make_blobs\n",
        "import plotly.express as px\n",
        "\n",
        "X, _ = make_blobs(cluster_std=0.8, random_state=0)\n",
        "fig = px.scatter(x=X[:, 0], y=X[:, 1])\n",
        "fig.update_yaxes(\n",
        "    scaleanchor=\"x\",\n",
        "    scaleratio=1,\n",
        ")\n",
        "fig.show()"
      ]
    },
    {
      "cell_type": "markdown",
      "metadata": {
        "id": "0ol60ivAEwpS"
      },
      "source": [
        "### Intuition\n",
        "\n",
        "How should we approach?"
      ]
    },
    {
      "cell_type": "markdown",
      "metadata": {
        "id": "zlq0zsEOEwpS"
      },
      "source": [
        "In classification, we used lines to separate the groups, and adjusted the position of the lines so the groups better match their labels.\n",
        "\n",
        "Here, we don't have labels.\n",
        "We can draw lines anywhere but how would we know which grouping is better?\n",
        "\n",
        "Idea: Instead of separators, define center points (called centroids) for the groups, and assign inputs to the nearest group."
      ]
    },
    {
      "cell_type": "code",
      "execution_count": 11,
      "metadata": {
        "colab": {
          "base_uri": "https://localhost:8080/"
        },
        "id": "gLVIwho9EwpT",
        "outputId": "23a3933d-67cc-45de-83ea-f37382760927"
      },
      "outputs": [
        {
          "name": "stdout",
          "output_type": "stream",
          "text": [
            "[[5.05444203 4.53034707 0.553246  ]\n",
            " [2.77667079 0.83503436 4.53477339]\n",
            " [5.30304097 4.59882666 0.29355571]\n",
            " [2.03095407 1.57463749 4.56153887]\n",
            " [2.14400209 2.02511403 3.59076034]]\n",
            "[2 1 2 1 1 1 0 0 2 1 1 1 2 1 0 2 0 1 0 0 0 0 0 0 2 2 2 2 0 0 1 2 2 1 0 1 1\n",
            " 2 2 0 0 2 2 1 1 1 2 2 0 0 1 2 1 2 0 0 2 2 1 2 2 0 0 0 0 2 1 0 2 1 0 2 0 2\n",
            " 2 1 1 1 0 2 1 1 2 1 2 1 1 1 2 1 2 2 0 0 0 0 1 1 0 0]\n"
          ]
        }
      ],
      "source": [
        "import numpy as np\n",
        "\n",
        "centroids = np.array([(-2, 3), (1, 5), (3, 1)], dtype=np.float64)\n",
        "distances = np.array([[np.linalg.norm(p - c) for c in centroids] for p in X])\n",
        "print(distances[:5])\n",
        "groups = np.argmin(distances, axis=1)\n",
        "print(groups)"
      ]
    },
    {
      "cell_type": "code",
      "execution_count": 12,
      "metadata": {
        "colab": {
          "base_uri": "https://localhost:8080/",
          "height": 542
        },
        "id": "va5lXxOiEwpT",
        "outputId": "74b118a4-15fa-4d7a-ad4a-9f3bb40bc435"
      },
      "outputs": [
        {
          "data": {
            "application/vnd.plotly.v1+json": {
              "config": {
                "plotlyServerURL": "https://plot.ly"
              },
              "data": [
                {
                  "hovertemplate": "x=%{x}<br>y=%{y}<br>color=%{marker.color}<extra></extra>",
                  "legendgroup": "",
                  "marker": {
                    "color": [
                      2,
                      1,
                      2,
                      1,
                      1,
                      1,
                      0,
                      0,
                      2,
                      1,
                      1,
                      1,
                      2,
                      1,
                      0,
                      2,
                      0,
                      1,
                      0,
                      0,
                      0,
                      0,
                      0,
                      0,
                      2,
                      2,
                      2,
                      2,
                      0,
                      0,
                      1,
                      2,
                      2,
                      1,
                      0,
                      1,
                      1,
                      2,
                      2,
                      0,
                      0,
                      2,
                      2,
                      1,
                      1,
                      1,
                      2,
                      2,
                      0,
                      0,
                      1,
                      2,
                      1,
                      2,
                      0,
                      0,
                      2,
                      2,
                      1,
                      2,
                      2,
                      0,
                      0,
                      0,
                      0,
                      2,
                      1,
                      0,
                      2,
                      1,
                      0,
                      2,
                      0,
                      2,
                      2,
                      1,
                      1,
                      1,
                      0,
                      2,
                      1,
                      1,
                      2,
                      1,
                      2,
                      1,
                      1,
                      1,
                      2,
                      1,
                      2,
                      2,
                      0,
                      0,
                      0,
                      0,
                      1,
                      1,
                      0,
                      0
                    ],
                    "coloraxis": "coloraxis",
                    "symbol": "circle"
                  },
                  "mode": "markers",
                  "name": "",
                  "orientation": "v",
                  "showlegend": false,
                  "type": "scatter",
                  "x": [
                    2.5165401747248306,
                    0.25989682959155447,
                    2.8130690956518762,
                    -0.3148481994998662,
                    0.13742770649282088,
                    0.697940359085573,
                    -2.444878935150787,
                    -0.7673673676812967,
                    2.5931033270428263,
                    0.46881240360172416,
                    1.5595425282885245,
                    1.9605026231286717,
                    2.427797473217246,
                    2.202493450033261,
                    -2.1227078708606575,
                    3.5493146897741337,
                    -1.6056660327622512,
                    0.3257530529109318,
                    -1.5814972974816104,
                    -2.410410684764666,
                    -2.041798735488218,
                    -1.558330267803902,
                    -1.0147987923438317,
                    0.26604148044240483,
                    1.1986654242244439,
                    2.156797195595774,
                    1.4393346618766247,
                    1.1231476488061927,
                    -1.8222494835758603,
                    -0.9094715722509714,
                    1.0915049354751973,
                    3.2458692764693575,
                    1.72437233682508,
                    2.17153333707258,
                    -1.89133001603578,
                    0.37961180666924843,
                    0.8936949971116488,
                    1.515801392906977,
                    2.3403606391723994,
                    -2.118554410334956,
                    -0.6255952755366998,
                    2.3771408343749174,
                    2.2938580607977226,
                    -0.3887460739535151,
                    1.1002280191040281,
                    0.5685483331451722,
                    1.3586298020873726,
                    1.4996132336477856,
                    -2.2571617935772323,
                    -1.1082826847965024,
                    0.20368474620264654,
                    1.546590658729773,
                    0.2504313870399013,
                    2.221887503894366,
                    -1.9253299737757494,
                    -0.8414395236997524,
                    2.9982911783605983,
                    2.0636675380095344,
                    1.0128768923876519,
                    3.5617880790778815,
                    1.038879522644291,
                    -2.5611895410006644,
                    -2.169631744560978,
                    -1.3935652169238821,
                    -2.71991008738639,
                    1.7327259638543342,
                    1.5851002586640899,
                    -2.327076291133557,
                    1.8060254957309798,
                    1.7363408125669666,
                    -0.7902169541972501,
                    2.792073777736581,
                    -1.0661217741207678,
                    3.593621142617186,
                    1.3662869733891159,
                    1.8877906261811357,
                    1.1182109923494974,
                    0.4383017203257342,
                    -1.8100991422246926,
                    2.3564079463573817,
                    -0.025966209493445858,
                    1.0294838564530293,
                    1.8408648246717736,
                    -0.3278885990263407,
                    1.11676879734155,
                    1.3313606647428355,
                    0.9537242958755712,
                    0.5676259684913967,
                    2.546531017709742,
                    0.6664086246201333,
                    1.7071446800555679,
                    2.372072891562194,
                    -0.6471763365122148,
                    -2.354298286649477,
                    -2.579629941631122,
                    -0.5764801793400639,
                    1.2267242398672162,
                    1.6678190376340996,
                    -1.0267188524001554,
                    -2.50725242828604
                  ],
                  "xaxis": "x",
                  "y": [
                    0.731024655475541,
                    4.613309325735799,
                    0.7736555854652695,
                    4.133595103277215,
                    3.1677729777052095,
                    4.428866502731574,
                    2.5676262255375755,
                    2.9879232544412755,
                    1.223633128930825,
                    4.013594394658679,
                    4.406973656054318,
                    5.265691206475919,
                    -0.33133128908384224,
                    5.479274343368618,
                    2.256731430405911,
                    1.622499386558245,
                    2.387099632243437,
                    2.9227612455830485,
                    4.288556438652616,
                    2.9596143247419024,
                    1.1391597395535813,
                    1.9834074631401648,
                    1.6243174258844553,
                    2.7191501528692483,
                    1.741225041482846,
                    1.2192551506936982,
                    1.3290630129713907,
                    1.6183248495012865,
                    2.7263789192723817,
                    3.576685584504108,
                    5.46720613301877,
                    2.414375000762403,
                    0.2996998107853306,
                    4.139660716435749,
                    2.931865588553168,
                    3.673465850925454,
                    4.632266128999088,
                    0.9231281065574178,
                    1.4629221944914954,
                    4.152293937658511,
                    2.0539370546423843,
                    0.3498155871856863,
                    1.9587723772875612,
                    5.864407643633822,
                    4.6063173431301285,
                    3.9533278861594408,
                    0.43458392812640445,
                    0.7779560276758002,
                    3.811495291809805,
                    2.7806451963553243,
                    3.9871046208822367,
                    1.4388102958951365,
                    4.345343644085301,
                    1.6789748891249072,
                    4.461507904386711,
                    2.3970617866930053,
                    0.7537237912880561,
                    2.3263600550626053,
                    4.154040247427723,
                    -0.1805435889760203,
                    1.6731810264643459,
                    3.131522956812469,
                    2.366242439132962,
                    3.4259074108468077,
                    3.2693956223447525,
                    1.8756197162438788,
                    4.4011273406426525,
                    1.6820653839110333,
                    0.9425959337217332,
                    4.182701560810232,
                    3.1728643836875396,
                    3.140294787769378,
                    4.8266822038006785,
                    2.082075493085476,
                    2.425715622417164,
                    3.315926671165468,
                    3.9823625784817804,
                    4.016144798215957,
                    1.8179212265987077,
                    0.018143027470581163,
                    4.925779612113918,
                    4.545764845640215,
                    1.5396287765750531,
                    4.6740131318690095,
                    2.452560608457371,
                    4.570726789347804,
                    4.646452823872724,
                    3.3592815801504603,
                    1.6354289971911582,
                    4.061945126988122,
                    2.3770746427214107,
                    0.023214452953532194,
                    3.442093245911201,
                    3.4631578759584243,
                    2.548614577481356,
                    3.1714363508730026,
                    3.6205107360070103,
                    3.710055311123236,
                    1.6362361368477245,
                    3.5933726424543604
                  ],
                  "yaxis": "y"
                },
                {
                  "marker": {
                    "color": "green",
                    "symbol": "x"
                  },
                  "mode": "markers",
                  "type": "scatter",
                  "x": [
                    -2,
                    1,
                    3
                  ],
                  "y": [
                    3,
                    5,
                    1
                  ]
                }
              ],
              "layout": {
                "coloraxis": {
                  "colorbar": {
                    "title": {
                      "text": "color"
                    }
                  },
                  "colorscale": [
                    [
                      0,
                      "rgb(0,0,255)"
                    ],
                    [
                      1,
                      "rgb(255,0,0)"
                    ]
                  ]
                },
                "legend": {
                  "tracegroupgap": 0
                },
                "margin": {
                  "t": 60
                },
                "showlegend": false,
                "template": {
                  "data": {
                    "bar": [
                      {
                        "error_x": {
                          "color": "#2a3f5f"
                        },
                        "error_y": {
                          "color": "#2a3f5f"
                        },
                        "marker": {
                          "line": {
                            "color": "#E5ECF6",
                            "width": 0.5
                          },
                          "pattern": {
                            "fillmode": "overlay",
                            "size": 10,
                            "solidity": 0.2
                          }
                        },
                        "type": "bar"
                      }
                    ],
                    "barpolar": [
                      {
                        "marker": {
                          "line": {
                            "color": "#E5ECF6",
                            "width": 0.5
                          },
                          "pattern": {
                            "fillmode": "overlay",
                            "size": 10,
                            "solidity": 0.2
                          }
                        },
                        "type": "barpolar"
                      }
                    ],
                    "carpet": [
                      {
                        "aaxis": {
                          "endlinecolor": "#2a3f5f",
                          "gridcolor": "white",
                          "linecolor": "white",
                          "minorgridcolor": "white",
                          "startlinecolor": "#2a3f5f"
                        },
                        "baxis": {
                          "endlinecolor": "#2a3f5f",
                          "gridcolor": "white",
                          "linecolor": "white",
                          "minorgridcolor": "white",
                          "startlinecolor": "#2a3f5f"
                        },
                        "type": "carpet"
                      }
                    ],
                    "choropleth": [
                      {
                        "colorbar": {
                          "outlinewidth": 0,
                          "ticks": ""
                        },
                        "type": "choropleth"
                      }
                    ],
                    "contour": [
                      {
                        "colorbar": {
                          "outlinewidth": 0,
                          "ticks": ""
                        },
                        "colorscale": [
                          [
                            0,
                            "#0d0887"
                          ],
                          [
                            0.1111111111111111,
                            "#46039f"
                          ],
                          [
                            0.2222222222222222,
                            "#7201a8"
                          ],
                          [
                            0.3333333333333333,
                            "#9c179e"
                          ],
                          [
                            0.4444444444444444,
                            "#bd3786"
                          ],
                          [
                            0.5555555555555556,
                            "#d8576b"
                          ],
                          [
                            0.6666666666666666,
                            "#ed7953"
                          ],
                          [
                            0.7777777777777778,
                            "#fb9f3a"
                          ],
                          [
                            0.8888888888888888,
                            "#fdca26"
                          ],
                          [
                            1,
                            "#f0f921"
                          ]
                        ],
                        "type": "contour"
                      }
                    ],
                    "contourcarpet": [
                      {
                        "colorbar": {
                          "outlinewidth": 0,
                          "ticks": ""
                        },
                        "type": "contourcarpet"
                      }
                    ],
                    "heatmap": [
                      {
                        "colorbar": {
                          "outlinewidth": 0,
                          "ticks": ""
                        },
                        "colorscale": [
                          [
                            0,
                            "#0d0887"
                          ],
                          [
                            0.1111111111111111,
                            "#46039f"
                          ],
                          [
                            0.2222222222222222,
                            "#7201a8"
                          ],
                          [
                            0.3333333333333333,
                            "#9c179e"
                          ],
                          [
                            0.4444444444444444,
                            "#bd3786"
                          ],
                          [
                            0.5555555555555556,
                            "#d8576b"
                          ],
                          [
                            0.6666666666666666,
                            "#ed7953"
                          ],
                          [
                            0.7777777777777778,
                            "#fb9f3a"
                          ],
                          [
                            0.8888888888888888,
                            "#fdca26"
                          ],
                          [
                            1,
                            "#f0f921"
                          ]
                        ],
                        "type": "heatmap"
                      }
                    ],
                    "heatmapgl": [
                      {
                        "colorbar": {
                          "outlinewidth": 0,
                          "ticks": ""
                        },
                        "colorscale": [
                          [
                            0,
                            "#0d0887"
                          ],
                          [
                            0.1111111111111111,
                            "#46039f"
                          ],
                          [
                            0.2222222222222222,
                            "#7201a8"
                          ],
                          [
                            0.3333333333333333,
                            "#9c179e"
                          ],
                          [
                            0.4444444444444444,
                            "#bd3786"
                          ],
                          [
                            0.5555555555555556,
                            "#d8576b"
                          ],
                          [
                            0.6666666666666666,
                            "#ed7953"
                          ],
                          [
                            0.7777777777777778,
                            "#fb9f3a"
                          ],
                          [
                            0.8888888888888888,
                            "#fdca26"
                          ],
                          [
                            1,
                            "#f0f921"
                          ]
                        ],
                        "type": "heatmapgl"
                      }
                    ],
                    "histogram": [
                      {
                        "marker": {
                          "pattern": {
                            "fillmode": "overlay",
                            "size": 10,
                            "solidity": 0.2
                          }
                        },
                        "type": "histogram"
                      }
                    ],
                    "histogram2d": [
                      {
                        "colorbar": {
                          "outlinewidth": 0,
                          "ticks": ""
                        },
                        "colorscale": [
                          [
                            0,
                            "#0d0887"
                          ],
                          [
                            0.1111111111111111,
                            "#46039f"
                          ],
                          [
                            0.2222222222222222,
                            "#7201a8"
                          ],
                          [
                            0.3333333333333333,
                            "#9c179e"
                          ],
                          [
                            0.4444444444444444,
                            "#bd3786"
                          ],
                          [
                            0.5555555555555556,
                            "#d8576b"
                          ],
                          [
                            0.6666666666666666,
                            "#ed7953"
                          ],
                          [
                            0.7777777777777778,
                            "#fb9f3a"
                          ],
                          [
                            0.8888888888888888,
                            "#fdca26"
                          ],
                          [
                            1,
                            "#f0f921"
                          ]
                        ],
                        "type": "histogram2d"
                      }
                    ],
                    "histogram2dcontour": [
                      {
                        "colorbar": {
                          "outlinewidth": 0,
                          "ticks": ""
                        },
                        "colorscale": [
                          [
                            0,
                            "#0d0887"
                          ],
                          [
                            0.1111111111111111,
                            "#46039f"
                          ],
                          [
                            0.2222222222222222,
                            "#7201a8"
                          ],
                          [
                            0.3333333333333333,
                            "#9c179e"
                          ],
                          [
                            0.4444444444444444,
                            "#bd3786"
                          ],
                          [
                            0.5555555555555556,
                            "#d8576b"
                          ],
                          [
                            0.6666666666666666,
                            "#ed7953"
                          ],
                          [
                            0.7777777777777778,
                            "#fb9f3a"
                          ],
                          [
                            0.8888888888888888,
                            "#fdca26"
                          ],
                          [
                            1,
                            "#f0f921"
                          ]
                        ],
                        "type": "histogram2dcontour"
                      }
                    ],
                    "mesh3d": [
                      {
                        "colorbar": {
                          "outlinewidth": 0,
                          "ticks": ""
                        },
                        "type": "mesh3d"
                      }
                    ],
                    "parcoords": [
                      {
                        "line": {
                          "colorbar": {
                            "outlinewidth": 0,
                            "ticks": ""
                          }
                        },
                        "type": "parcoords"
                      }
                    ],
                    "pie": [
                      {
                        "automargin": true,
                        "type": "pie"
                      }
                    ],
                    "scatter": [
                      {
                        "fillpattern": {
                          "fillmode": "overlay",
                          "size": 10,
                          "solidity": 0.2
                        },
                        "type": "scatter"
                      }
                    ],
                    "scatter3d": [
                      {
                        "line": {
                          "colorbar": {
                            "outlinewidth": 0,
                            "ticks": ""
                          }
                        },
                        "marker": {
                          "colorbar": {
                            "outlinewidth": 0,
                            "ticks": ""
                          }
                        },
                        "type": "scatter3d"
                      }
                    ],
                    "scattercarpet": [
                      {
                        "marker": {
                          "colorbar": {
                            "outlinewidth": 0,
                            "ticks": ""
                          }
                        },
                        "type": "scattercarpet"
                      }
                    ],
                    "scattergeo": [
                      {
                        "marker": {
                          "colorbar": {
                            "outlinewidth": 0,
                            "ticks": ""
                          }
                        },
                        "type": "scattergeo"
                      }
                    ],
                    "scattergl": [
                      {
                        "marker": {
                          "colorbar": {
                            "outlinewidth": 0,
                            "ticks": ""
                          }
                        },
                        "type": "scattergl"
                      }
                    ],
                    "scattermapbox": [
                      {
                        "marker": {
                          "colorbar": {
                            "outlinewidth": 0,
                            "ticks": ""
                          }
                        },
                        "type": "scattermapbox"
                      }
                    ],
                    "scatterpolar": [
                      {
                        "marker": {
                          "colorbar": {
                            "outlinewidth": 0,
                            "ticks": ""
                          }
                        },
                        "type": "scatterpolar"
                      }
                    ],
                    "scatterpolargl": [
                      {
                        "marker": {
                          "colorbar": {
                            "outlinewidth": 0,
                            "ticks": ""
                          }
                        },
                        "type": "scatterpolargl"
                      }
                    ],
                    "scatterternary": [
                      {
                        "marker": {
                          "colorbar": {
                            "outlinewidth": 0,
                            "ticks": ""
                          }
                        },
                        "type": "scatterternary"
                      }
                    ],
                    "surface": [
                      {
                        "colorbar": {
                          "outlinewidth": 0,
                          "ticks": ""
                        },
                        "colorscale": [
                          [
                            0,
                            "#0d0887"
                          ],
                          [
                            0.1111111111111111,
                            "#46039f"
                          ],
                          [
                            0.2222222222222222,
                            "#7201a8"
                          ],
                          [
                            0.3333333333333333,
                            "#9c179e"
                          ],
                          [
                            0.4444444444444444,
                            "#bd3786"
                          ],
                          [
                            0.5555555555555556,
                            "#d8576b"
                          ],
                          [
                            0.6666666666666666,
                            "#ed7953"
                          ],
                          [
                            0.7777777777777778,
                            "#fb9f3a"
                          ],
                          [
                            0.8888888888888888,
                            "#fdca26"
                          ],
                          [
                            1,
                            "#f0f921"
                          ]
                        ],
                        "type": "surface"
                      }
                    ],
                    "table": [
                      {
                        "cells": {
                          "fill": {
                            "color": "#EBF0F8"
                          },
                          "line": {
                            "color": "white"
                          }
                        },
                        "header": {
                          "fill": {
                            "color": "#C8D4E3"
                          },
                          "line": {
                            "color": "white"
                          }
                        },
                        "type": "table"
                      }
                    ]
                  },
                  "layout": {
                    "annotationdefaults": {
                      "arrowcolor": "#2a3f5f",
                      "arrowhead": 0,
                      "arrowwidth": 1
                    },
                    "autotypenumbers": "strict",
                    "coloraxis": {
                      "colorbar": {
                        "outlinewidth": 0,
                        "ticks": ""
                      }
                    },
                    "colorscale": {
                      "diverging": [
                        [
                          0,
                          "#8e0152"
                        ],
                        [
                          0.1,
                          "#c51b7d"
                        ],
                        [
                          0.2,
                          "#de77ae"
                        ],
                        [
                          0.3,
                          "#f1b6da"
                        ],
                        [
                          0.4,
                          "#fde0ef"
                        ],
                        [
                          0.5,
                          "#f7f7f7"
                        ],
                        [
                          0.6,
                          "#e6f5d0"
                        ],
                        [
                          0.7,
                          "#b8e186"
                        ],
                        [
                          0.8,
                          "#7fbc41"
                        ],
                        [
                          0.9,
                          "#4d9221"
                        ],
                        [
                          1,
                          "#276419"
                        ]
                      ],
                      "sequential": [
                        [
                          0,
                          "#0d0887"
                        ],
                        [
                          0.1111111111111111,
                          "#46039f"
                        ],
                        [
                          0.2222222222222222,
                          "#7201a8"
                        ],
                        [
                          0.3333333333333333,
                          "#9c179e"
                        ],
                        [
                          0.4444444444444444,
                          "#bd3786"
                        ],
                        [
                          0.5555555555555556,
                          "#d8576b"
                        ],
                        [
                          0.6666666666666666,
                          "#ed7953"
                        ],
                        [
                          0.7777777777777778,
                          "#fb9f3a"
                        ],
                        [
                          0.8888888888888888,
                          "#fdca26"
                        ],
                        [
                          1,
                          "#f0f921"
                        ]
                      ],
                      "sequentialminus": [
                        [
                          0,
                          "#0d0887"
                        ],
                        [
                          0.1111111111111111,
                          "#46039f"
                        ],
                        [
                          0.2222222222222222,
                          "#7201a8"
                        ],
                        [
                          0.3333333333333333,
                          "#9c179e"
                        ],
                        [
                          0.4444444444444444,
                          "#bd3786"
                        ],
                        [
                          0.5555555555555556,
                          "#d8576b"
                        ],
                        [
                          0.6666666666666666,
                          "#ed7953"
                        ],
                        [
                          0.7777777777777778,
                          "#fb9f3a"
                        ],
                        [
                          0.8888888888888888,
                          "#fdca26"
                        ],
                        [
                          1,
                          "#f0f921"
                        ]
                      ]
                    },
                    "colorway": [
                      "#636efa",
                      "#EF553B",
                      "#00cc96",
                      "#ab63fa",
                      "#FFA15A",
                      "#19d3f3",
                      "#FF6692",
                      "#B6E880",
                      "#FF97FF",
                      "#FECB52"
                    ],
                    "font": {
                      "color": "#2a3f5f"
                    },
                    "geo": {
                      "bgcolor": "white",
                      "lakecolor": "white",
                      "landcolor": "#E5ECF6",
                      "showlakes": true,
                      "showland": true,
                      "subunitcolor": "white"
                    },
                    "hoverlabel": {
                      "align": "left"
                    },
                    "hovermode": "closest",
                    "mapbox": {
                      "style": "light"
                    },
                    "paper_bgcolor": "white",
                    "plot_bgcolor": "#E5ECF6",
                    "polar": {
                      "angularaxis": {
                        "gridcolor": "white",
                        "linecolor": "white",
                        "ticks": ""
                      },
                      "bgcolor": "#E5ECF6",
                      "radialaxis": {
                        "gridcolor": "white",
                        "linecolor": "white",
                        "ticks": ""
                      }
                    },
                    "scene": {
                      "xaxis": {
                        "backgroundcolor": "#E5ECF6",
                        "gridcolor": "white",
                        "gridwidth": 2,
                        "linecolor": "white",
                        "showbackground": true,
                        "ticks": "",
                        "zerolinecolor": "white"
                      },
                      "yaxis": {
                        "backgroundcolor": "#E5ECF6",
                        "gridcolor": "white",
                        "gridwidth": 2,
                        "linecolor": "white",
                        "showbackground": true,
                        "ticks": "",
                        "zerolinecolor": "white"
                      },
                      "zaxis": {
                        "backgroundcolor": "#E5ECF6",
                        "gridcolor": "white",
                        "gridwidth": 2,
                        "linecolor": "white",
                        "showbackground": true,
                        "ticks": "",
                        "zerolinecolor": "white"
                      }
                    },
                    "shapedefaults": {
                      "line": {
                        "color": "#2a3f5f"
                      }
                    },
                    "ternary": {
                      "aaxis": {
                        "gridcolor": "white",
                        "linecolor": "white",
                        "ticks": ""
                      },
                      "baxis": {
                        "gridcolor": "white",
                        "linecolor": "white",
                        "ticks": ""
                      },
                      "bgcolor": "#E5ECF6",
                      "caxis": {
                        "gridcolor": "white",
                        "linecolor": "white",
                        "ticks": ""
                      }
                    },
                    "title": {
                      "x": 0.05
                    },
                    "xaxis": {
                      "automargin": true,
                      "gridcolor": "white",
                      "linecolor": "white",
                      "ticks": "",
                      "title": {
                        "standoff": 15
                      },
                      "zerolinecolor": "white",
                      "zerolinewidth": 2
                    },
                    "yaxis": {
                      "automargin": true,
                      "gridcolor": "white",
                      "linecolor": "white",
                      "ticks": "",
                      "title": {
                        "standoff": 15
                      },
                      "zerolinecolor": "white",
                      "zerolinewidth": 2
                    }
                  }
                },
                "xaxis": {
                  "anchor": "y",
                  "domain": [
                    0,
                    1
                  ],
                  "title": {
                    "text": "x"
                  }
                },
                "yaxis": {
                  "anchor": "x",
                  "domain": [
                    0,
                    1
                  ],
                  "scaleanchor": "x",
                  "scaleratio": 1,
                  "title": {
                    "text": "y"
                  }
                }
              }
            }
          },
          "metadata": {},
          "output_type": "display_data"
        }
      ],
      "source": [
        "from plotly import graph_objects as go\n",
        "\n",
        "fig = px.scatter(\n",
        "    x=X[:, 0],\n",
        "    y=X[:, 1],\n",
        "    color=groups,\n",
        "    color_continuous_scale=px.colors.sequential.Bluered,\n",
        ")\n",
        "fig.add_scatter(\n",
        "    x=centroids[:, 0],\n",
        "    y=centroids[:, 1],\n",
        "    mode=\"markers\",\n",
        "    marker=go.scatter.Marker({\"symbol\": \"x\", \"color\": \"green\"}),\n",
        ")\n",
        "fig.update_layout(showlegend=False)\n",
        "fig.update_yaxes(\n",
        "    scaleanchor=\"x\",\n",
        "    scaleratio=1,\n",
        ")\n",
        "fig.show()"
      ]
    },
    {
      "cell_type": "markdown",
      "metadata": {
        "id": "CGNwz0YMEwpT"
      },
      "source": [
        "Next step: Adjust the position of centroids.\n",
        "\n",
        "Calculate the actual center points of the groups, and make them the new centroids.\n",
        "These are actually the means of the groups, hence the name, k-means algorithm."
      ]
    },
    {
      "cell_type": "code",
      "execution_count": 13,
      "metadata": {
        "colab": {
          "base_uri": "https://localhost:8080/"
        },
        "id": "BO1j-T5OEwpT",
        "outputId": "b496c3c9-9360-4e13-ee72-a455cdd4e50d"
      },
      "outputs": [
        {
          "name": "stdout",
          "output_type": "stream",
          "text": [
            "[[-1.61546049  2.88948393]\n",
            " [ 0.86169471  4.28084157]\n",
            " [ 2.14220715  1.31621944]]\n",
            "[ True  True  True  True  True  True  True  True  True  True  True  True\n",
            "  True  True  True  True  True  True  True  True  True  True  True False\n",
            "  True  True  True  True  True  True  True  True  True  True  True  True\n",
            "  True  True  True  True  True  True  True  True  True  True  True  True\n",
            "  True  True  True  True  True  True  True  True  True  True  True  True\n",
            "  True  True  True  True  True  True  True  True  True  True  True  True\n",
            " False  True  True  True  True  True  True  True  True  True  True  True\n",
            "  True  True  True  True  True  True  True  True  True  True  True  True\n",
            "  True  True  True  True]\n"
          ]
        }
      ],
      "source": [
        "for i in range(len(centroids)):\n",
        "    points = [x for j, x in enumerate(X) if groups[j] == i]\n",
        "    centroids[i] = np.mean(points, axis=0)\n",
        "print(centroids)\n",
        "distances = np.array([[np.linalg.norm(p - c) for c in centroids] for p in X])\n",
        "newgroups = np.argmin(distances, axis=1)\n",
        "print(newgroups == groups)"
      ]
    },
    {
      "cell_type": "code",
      "execution_count": 14,
      "metadata": {
        "colab": {
          "base_uri": "https://localhost:8080/",
          "height": 542
        },
        "id": "jg3OjkyaEwpT",
        "outputId": "711c0b1c-d46a-4163-c180-efb1c2938ebb"
      },
      "outputs": [
        {
          "data": {
            "application/vnd.plotly.v1+json": {
              "config": {
                "plotlyServerURL": "https://plot.ly"
              },
              "data": [
                {
                  "hovertemplate": "x=%{x}<br>y=%{y}<br>color=%{marker.color}<extra></extra>",
                  "legendgroup": "",
                  "marker": {
                    "color": [
                      2,
                      1,
                      2,
                      1,
                      1,
                      1,
                      0,
                      0,
                      2,
                      1,
                      1,
                      1,
                      2,
                      1,
                      0,
                      2,
                      0,
                      1,
                      0,
                      0,
                      0,
                      0,
                      0,
                      1,
                      2,
                      2,
                      2,
                      2,
                      0,
                      0,
                      1,
                      2,
                      2,
                      1,
                      0,
                      1,
                      1,
                      2,
                      2,
                      0,
                      0,
                      2,
                      2,
                      1,
                      1,
                      1,
                      2,
                      2,
                      0,
                      0,
                      1,
                      2,
                      1,
                      2,
                      0,
                      0,
                      2,
                      2,
                      1,
                      2,
                      2,
                      0,
                      0,
                      0,
                      0,
                      2,
                      1,
                      0,
                      2,
                      1,
                      0,
                      2,
                      1,
                      2,
                      2,
                      1,
                      1,
                      1,
                      0,
                      2,
                      1,
                      1,
                      2,
                      1,
                      2,
                      1,
                      1,
                      1,
                      2,
                      1,
                      2,
                      2,
                      0,
                      0,
                      0,
                      0,
                      1,
                      1,
                      0,
                      0
                    ],
                    "coloraxis": "coloraxis",
                    "symbol": "circle"
                  },
                  "mode": "markers",
                  "name": "",
                  "orientation": "v",
                  "showlegend": false,
                  "type": "scatter",
                  "x": [
                    2.5165401747248306,
                    0.25989682959155447,
                    2.8130690956518762,
                    -0.3148481994998662,
                    0.13742770649282088,
                    0.697940359085573,
                    -2.444878935150787,
                    -0.7673673676812967,
                    2.5931033270428263,
                    0.46881240360172416,
                    1.5595425282885245,
                    1.9605026231286717,
                    2.427797473217246,
                    2.202493450033261,
                    -2.1227078708606575,
                    3.5493146897741337,
                    -1.6056660327622512,
                    0.3257530529109318,
                    -1.5814972974816104,
                    -2.410410684764666,
                    -2.041798735488218,
                    -1.558330267803902,
                    -1.0147987923438317,
                    0.26604148044240483,
                    1.1986654242244439,
                    2.156797195595774,
                    1.4393346618766247,
                    1.1231476488061927,
                    -1.8222494835758603,
                    -0.9094715722509714,
                    1.0915049354751973,
                    3.2458692764693575,
                    1.72437233682508,
                    2.17153333707258,
                    -1.89133001603578,
                    0.37961180666924843,
                    0.8936949971116488,
                    1.515801392906977,
                    2.3403606391723994,
                    -2.118554410334956,
                    -0.6255952755366998,
                    2.3771408343749174,
                    2.2938580607977226,
                    -0.3887460739535151,
                    1.1002280191040281,
                    0.5685483331451722,
                    1.3586298020873726,
                    1.4996132336477856,
                    -2.2571617935772323,
                    -1.1082826847965024,
                    0.20368474620264654,
                    1.546590658729773,
                    0.2504313870399013,
                    2.221887503894366,
                    -1.9253299737757494,
                    -0.8414395236997524,
                    2.9982911783605983,
                    2.0636675380095344,
                    1.0128768923876519,
                    3.5617880790778815,
                    1.038879522644291,
                    -2.5611895410006644,
                    -2.169631744560978,
                    -1.3935652169238821,
                    -2.71991008738639,
                    1.7327259638543342,
                    1.5851002586640899,
                    -2.327076291133557,
                    1.8060254957309798,
                    1.7363408125669666,
                    -0.7902169541972501,
                    2.792073777736581,
                    -1.0661217741207678,
                    3.593621142617186,
                    1.3662869733891159,
                    1.8877906261811357,
                    1.1182109923494974,
                    0.4383017203257342,
                    -1.8100991422246926,
                    2.3564079463573817,
                    -0.025966209493445858,
                    1.0294838564530293,
                    1.8408648246717736,
                    -0.3278885990263407,
                    1.11676879734155,
                    1.3313606647428355,
                    0.9537242958755712,
                    0.5676259684913967,
                    2.546531017709742,
                    0.6664086246201333,
                    1.7071446800555679,
                    2.372072891562194,
                    -0.6471763365122148,
                    -2.354298286649477,
                    -2.579629941631122,
                    -0.5764801793400639,
                    1.2267242398672162,
                    1.6678190376340996,
                    -1.0267188524001554,
                    -2.50725242828604
                  ],
                  "xaxis": "x",
                  "y": [
                    0.731024655475541,
                    4.613309325735799,
                    0.7736555854652695,
                    4.133595103277215,
                    3.1677729777052095,
                    4.428866502731574,
                    2.5676262255375755,
                    2.9879232544412755,
                    1.223633128930825,
                    4.013594394658679,
                    4.406973656054318,
                    5.265691206475919,
                    -0.33133128908384224,
                    5.479274343368618,
                    2.256731430405911,
                    1.622499386558245,
                    2.387099632243437,
                    2.9227612455830485,
                    4.288556438652616,
                    2.9596143247419024,
                    1.1391597395535813,
                    1.9834074631401648,
                    1.6243174258844553,
                    2.7191501528692483,
                    1.741225041482846,
                    1.2192551506936982,
                    1.3290630129713907,
                    1.6183248495012865,
                    2.7263789192723817,
                    3.576685584504108,
                    5.46720613301877,
                    2.414375000762403,
                    0.2996998107853306,
                    4.139660716435749,
                    2.931865588553168,
                    3.673465850925454,
                    4.632266128999088,
                    0.9231281065574178,
                    1.4629221944914954,
                    4.152293937658511,
                    2.0539370546423843,
                    0.3498155871856863,
                    1.9587723772875612,
                    5.864407643633822,
                    4.6063173431301285,
                    3.9533278861594408,
                    0.43458392812640445,
                    0.7779560276758002,
                    3.811495291809805,
                    2.7806451963553243,
                    3.9871046208822367,
                    1.4388102958951365,
                    4.345343644085301,
                    1.6789748891249072,
                    4.461507904386711,
                    2.3970617866930053,
                    0.7537237912880561,
                    2.3263600550626053,
                    4.154040247427723,
                    -0.1805435889760203,
                    1.6731810264643459,
                    3.131522956812469,
                    2.366242439132962,
                    3.4259074108468077,
                    3.2693956223447525,
                    1.8756197162438788,
                    4.4011273406426525,
                    1.6820653839110333,
                    0.9425959337217332,
                    4.182701560810232,
                    3.1728643836875396,
                    3.140294787769378,
                    4.8266822038006785,
                    2.082075493085476,
                    2.425715622417164,
                    3.315926671165468,
                    3.9823625784817804,
                    4.016144798215957,
                    1.8179212265987077,
                    0.018143027470581163,
                    4.925779612113918,
                    4.545764845640215,
                    1.5396287765750531,
                    4.6740131318690095,
                    2.452560608457371,
                    4.570726789347804,
                    4.646452823872724,
                    3.3592815801504603,
                    1.6354289971911582,
                    4.061945126988122,
                    2.3770746427214107,
                    0.023214452953532194,
                    3.442093245911201,
                    3.4631578759584243,
                    2.548614577481356,
                    3.1714363508730026,
                    3.6205107360070103,
                    3.710055311123236,
                    1.6362361368477245,
                    3.5933726424543604
                  ],
                  "yaxis": "y"
                },
                {
                  "marker": {
                    "color": "green",
                    "symbol": "x"
                  },
                  "mode": "markers",
                  "type": "scatter",
                  "x": [
                    -1.6154604852680479,
                    0.861694709792111,
                    2.142207154674659
                  ],
                  "y": [
                    2.8894839335759572,
                    4.280841572021718,
                    1.3162194435980328
                  ]
                }
              ],
              "layout": {
                "coloraxis": {
                  "colorbar": {
                    "title": {
                      "text": "color"
                    }
                  },
                  "colorscale": [
                    [
                      0,
                      "rgb(0,0,255)"
                    ],
                    [
                      1,
                      "rgb(255,0,0)"
                    ]
                  ]
                },
                "legend": {
                  "tracegroupgap": 0
                },
                "margin": {
                  "t": 60
                },
                "showlegend": false,
                "template": {
                  "data": {
                    "bar": [
                      {
                        "error_x": {
                          "color": "#2a3f5f"
                        },
                        "error_y": {
                          "color": "#2a3f5f"
                        },
                        "marker": {
                          "line": {
                            "color": "#E5ECF6",
                            "width": 0.5
                          },
                          "pattern": {
                            "fillmode": "overlay",
                            "size": 10,
                            "solidity": 0.2
                          }
                        },
                        "type": "bar"
                      }
                    ],
                    "barpolar": [
                      {
                        "marker": {
                          "line": {
                            "color": "#E5ECF6",
                            "width": 0.5
                          },
                          "pattern": {
                            "fillmode": "overlay",
                            "size": 10,
                            "solidity": 0.2
                          }
                        },
                        "type": "barpolar"
                      }
                    ],
                    "carpet": [
                      {
                        "aaxis": {
                          "endlinecolor": "#2a3f5f",
                          "gridcolor": "white",
                          "linecolor": "white",
                          "minorgridcolor": "white",
                          "startlinecolor": "#2a3f5f"
                        },
                        "baxis": {
                          "endlinecolor": "#2a3f5f",
                          "gridcolor": "white",
                          "linecolor": "white",
                          "minorgridcolor": "white",
                          "startlinecolor": "#2a3f5f"
                        },
                        "type": "carpet"
                      }
                    ],
                    "choropleth": [
                      {
                        "colorbar": {
                          "outlinewidth": 0,
                          "ticks": ""
                        },
                        "type": "choropleth"
                      }
                    ],
                    "contour": [
                      {
                        "colorbar": {
                          "outlinewidth": 0,
                          "ticks": ""
                        },
                        "colorscale": [
                          [
                            0,
                            "#0d0887"
                          ],
                          [
                            0.1111111111111111,
                            "#46039f"
                          ],
                          [
                            0.2222222222222222,
                            "#7201a8"
                          ],
                          [
                            0.3333333333333333,
                            "#9c179e"
                          ],
                          [
                            0.4444444444444444,
                            "#bd3786"
                          ],
                          [
                            0.5555555555555556,
                            "#d8576b"
                          ],
                          [
                            0.6666666666666666,
                            "#ed7953"
                          ],
                          [
                            0.7777777777777778,
                            "#fb9f3a"
                          ],
                          [
                            0.8888888888888888,
                            "#fdca26"
                          ],
                          [
                            1,
                            "#f0f921"
                          ]
                        ],
                        "type": "contour"
                      }
                    ],
                    "contourcarpet": [
                      {
                        "colorbar": {
                          "outlinewidth": 0,
                          "ticks": ""
                        },
                        "type": "contourcarpet"
                      }
                    ],
                    "heatmap": [
                      {
                        "colorbar": {
                          "outlinewidth": 0,
                          "ticks": ""
                        },
                        "colorscale": [
                          [
                            0,
                            "#0d0887"
                          ],
                          [
                            0.1111111111111111,
                            "#46039f"
                          ],
                          [
                            0.2222222222222222,
                            "#7201a8"
                          ],
                          [
                            0.3333333333333333,
                            "#9c179e"
                          ],
                          [
                            0.4444444444444444,
                            "#bd3786"
                          ],
                          [
                            0.5555555555555556,
                            "#d8576b"
                          ],
                          [
                            0.6666666666666666,
                            "#ed7953"
                          ],
                          [
                            0.7777777777777778,
                            "#fb9f3a"
                          ],
                          [
                            0.8888888888888888,
                            "#fdca26"
                          ],
                          [
                            1,
                            "#f0f921"
                          ]
                        ],
                        "type": "heatmap"
                      }
                    ],
                    "heatmapgl": [
                      {
                        "colorbar": {
                          "outlinewidth": 0,
                          "ticks": ""
                        },
                        "colorscale": [
                          [
                            0,
                            "#0d0887"
                          ],
                          [
                            0.1111111111111111,
                            "#46039f"
                          ],
                          [
                            0.2222222222222222,
                            "#7201a8"
                          ],
                          [
                            0.3333333333333333,
                            "#9c179e"
                          ],
                          [
                            0.4444444444444444,
                            "#bd3786"
                          ],
                          [
                            0.5555555555555556,
                            "#d8576b"
                          ],
                          [
                            0.6666666666666666,
                            "#ed7953"
                          ],
                          [
                            0.7777777777777778,
                            "#fb9f3a"
                          ],
                          [
                            0.8888888888888888,
                            "#fdca26"
                          ],
                          [
                            1,
                            "#f0f921"
                          ]
                        ],
                        "type": "heatmapgl"
                      }
                    ],
                    "histogram": [
                      {
                        "marker": {
                          "pattern": {
                            "fillmode": "overlay",
                            "size": 10,
                            "solidity": 0.2
                          }
                        },
                        "type": "histogram"
                      }
                    ],
                    "histogram2d": [
                      {
                        "colorbar": {
                          "outlinewidth": 0,
                          "ticks": ""
                        },
                        "colorscale": [
                          [
                            0,
                            "#0d0887"
                          ],
                          [
                            0.1111111111111111,
                            "#46039f"
                          ],
                          [
                            0.2222222222222222,
                            "#7201a8"
                          ],
                          [
                            0.3333333333333333,
                            "#9c179e"
                          ],
                          [
                            0.4444444444444444,
                            "#bd3786"
                          ],
                          [
                            0.5555555555555556,
                            "#d8576b"
                          ],
                          [
                            0.6666666666666666,
                            "#ed7953"
                          ],
                          [
                            0.7777777777777778,
                            "#fb9f3a"
                          ],
                          [
                            0.8888888888888888,
                            "#fdca26"
                          ],
                          [
                            1,
                            "#f0f921"
                          ]
                        ],
                        "type": "histogram2d"
                      }
                    ],
                    "histogram2dcontour": [
                      {
                        "colorbar": {
                          "outlinewidth": 0,
                          "ticks": ""
                        },
                        "colorscale": [
                          [
                            0,
                            "#0d0887"
                          ],
                          [
                            0.1111111111111111,
                            "#46039f"
                          ],
                          [
                            0.2222222222222222,
                            "#7201a8"
                          ],
                          [
                            0.3333333333333333,
                            "#9c179e"
                          ],
                          [
                            0.4444444444444444,
                            "#bd3786"
                          ],
                          [
                            0.5555555555555556,
                            "#d8576b"
                          ],
                          [
                            0.6666666666666666,
                            "#ed7953"
                          ],
                          [
                            0.7777777777777778,
                            "#fb9f3a"
                          ],
                          [
                            0.8888888888888888,
                            "#fdca26"
                          ],
                          [
                            1,
                            "#f0f921"
                          ]
                        ],
                        "type": "histogram2dcontour"
                      }
                    ],
                    "mesh3d": [
                      {
                        "colorbar": {
                          "outlinewidth": 0,
                          "ticks": ""
                        },
                        "type": "mesh3d"
                      }
                    ],
                    "parcoords": [
                      {
                        "line": {
                          "colorbar": {
                            "outlinewidth": 0,
                            "ticks": ""
                          }
                        },
                        "type": "parcoords"
                      }
                    ],
                    "pie": [
                      {
                        "automargin": true,
                        "type": "pie"
                      }
                    ],
                    "scatter": [
                      {
                        "fillpattern": {
                          "fillmode": "overlay",
                          "size": 10,
                          "solidity": 0.2
                        },
                        "type": "scatter"
                      }
                    ],
                    "scatter3d": [
                      {
                        "line": {
                          "colorbar": {
                            "outlinewidth": 0,
                            "ticks": ""
                          }
                        },
                        "marker": {
                          "colorbar": {
                            "outlinewidth": 0,
                            "ticks": ""
                          }
                        },
                        "type": "scatter3d"
                      }
                    ],
                    "scattercarpet": [
                      {
                        "marker": {
                          "colorbar": {
                            "outlinewidth": 0,
                            "ticks": ""
                          }
                        },
                        "type": "scattercarpet"
                      }
                    ],
                    "scattergeo": [
                      {
                        "marker": {
                          "colorbar": {
                            "outlinewidth": 0,
                            "ticks": ""
                          }
                        },
                        "type": "scattergeo"
                      }
                    ],
                    "scattergl": [
                      {
                        "marker": {
                          "colorbar": {
                            "outlinewidth": 0,
                            "ticks": ""
                          }
                        },
                        "type": "scattergl"
                      }
                    ],
                    "scattermapbox": [
                      {
                        "marker": {
                          "colorbar": {
                            "outlinewidth": 0,
                            "ticks": ""
                          }
                        },
                        "type": "scattermapbox"
                      }
                    ],
                    "scatterpolar": [
                      {
                        "marker": {
                          "colorbar": {
                            "outlinewidth": 0,
                            "ticks": ""
                          }
                        },
                        "type": "scatterpolar"
                      }
                    ],
                    "scatterpolargl": [
                      {
                        "marker": {
                          "colorbar": {
                            "outlinewidth": 0,
                            "ticks": ""
                          }
                        },
                        "type": "scatterpolargl"
                      }
                    ],
                    "scatterternary": [
                      {
                        "marker": {
                          "colorbar": {
                            "outlinewidth": 0,
                            "ticks": ""
                          }
                        },
                        "type": "scatterternary"
                      }
                    ],
                    "surface": [
                      {
                        "colorbar": {
                          "outlinewidth": 0,
                          "ticks": ""
                        },
                        "colorscale": [
                          [
                            0,
                            "#0d0887"
                          ],
                          [
                            0.1111111111111111,
                            "#46039f"
                          ],
                          [
                            0.2222222222222222,
                            "#7201a8"
                          ],
                          [
                            0.3333333333333333,
                            "#9c179e"
                          ],
                          [
                            0.4444444444444444,
                            "#bd3786"
                          ],
                          [
                            0.5555555555555556,
                            "#d8576b"
                          ],
                          [
                            0.6666666666666666,
                            "#ed7953"
                          ],
                          [
                            0.7777777777777778,
                            "#fb9f3a"
                          ],
                          [
                            0.8888888888888888,
                            "#fdca26"
                          ],
                          [
                            1,
                            "#f0f921"
                          ]
                        ],
                        "type": "surface"
                      }
                    ],
                    "table": [
                      {
                        "cells": {
                          "fill": {
                            "color": "#EBF0F8"
                          },
                          "line": {
                            "color": "white"
                          }
                        },
                        "header": {
                          "fill": {
                            "color": "#C8D4E3"
                          },
                          "line": {
                            "color": "white"
                          }
                        },
                        "type": "table"
                      }
                    ]
                  },
                  "layout": {
                    "annotationdefaults": {
                      "arrowcolor": "#2a3f5f",
                      "arrowhead": 0,
                      "arrowwidth": 1
                    },
                    "autotypenumbers": "strict",
                    "coloraxis": {
                      "colorbar": {
                        "outlinewidth": 0,
                        "ticks": ""
                      }
                    },
                    "colorscale": {
                      "diverging": [
                        [
                          0,
                          "#8e0152"
                        ],
                        [
                          0.1,
                          "#c51b7d"
                        ],
                        [
                          0.2,
                          "#de77ae"
                        ],
                        [
                          0.3,
                          "#f1b6da"
                        ],
                        [
                          0.4,
                          "#fde0ef"
                        ],
                        [
                          0.5,
                          "#f7f7f7"
                        ],
                        [
                          0.6,
                          "#e6f5d0"
                        ],
                        [
                          0.7,
                          "#b8e186"
                        ],
                        [
                          0.8,
                          "#7fbc41"
                        ],
                        [
                          0.9,
                          "#4d9221"
                        ],
                        [
                          1,
                          "#276419"
                        ]
                      ],
                      "sequential": [
                        [
                          0,
                          "#0d0887"
                        ],
                        [
                          0.1111111111111111,
                          "#46039f"
                        ],
                        [
                          0.2222222222222222,
                          "#7201a8"
                        ],
                        [
                          0.3333333333333333,
                          "#9c179e"
                        ],
                        [
                          0.4444444444444444,
                          "#bd3786"
                        ],
                        [
                          0.5555555555555556,
                          "#d8576b"
                        ],
                        [
                          0.6666666666666666,
                          "#ed7953"
                        ],
                        [
                          0.7777777777777778,
                          "#fb9f3a"
                        ],
                        [
                          0.8888888888888888,
                          "#fdca26"
                        ],
                        [
                          1,
                          "#f0f921"
                        ]
                      ],
                      "sequentialminus": [
                        [
                          0,
                          "#0d0887"
                        ],
                        [
                          0.1111111111111111,
                          "#46039f"
                        ],
                        [
                          0.2222222222222222,
                          "#7201a8"
                        ],
                        [
                          0.3333333333333333,
                          "#9c179e"
                        ],
                        [
                          0.4444444444444444,
                          "#bd3786"
                        ],
                        [
                          0.5555555555555556,
                          "#d8576b"
                        ],
                        [
                          0.6666666666666666,
                          "#ed7953"
                        ],
                        [
                          0.7777777777777778,
                          "#fb9f3a"
                        ],
                        [
                          0.8888888888888888,
                          "#fdca26"
                        ],
                        [
                          1,
                          "#f0f921"
                        ]
                      ]
                    },
                    "colorway": [
                      "#636efa",
                      "#EF553B",
                      "#00cc96",
                      "#ab63fa",
                      "#FFA15A",
                      "#19d3f3",
                      "#FF6692",
                      "#B6E880",
                      "#FF97FF",
                      "#FECB52"
                    ],
                    "font": {
                      "color": "#2a3f5f"
                    },
                    "geo": {
                      "bgcolor": "white",
                      "lakecolor": "white",
                      "landcolor": "#E5ECF6",
                      "showlakes": true,
                      "showland": true,
                      "subunitcolor": "white"
                    },
                    "hoverlabel": {
                      "align": "left"
                    },
                    "hovermode": "closest",
                    "mapbox": {
                      "style": "light"
                    },
                    "paper_bgcolor": "white",
                    "plot_bgcolor": "#E5ECF6",
                    "polar": {
                      "angularaxis": {
                        "gridcolor": "white",
                        "linecolor": "white",
                        "ticks": ""
                      },
                      "bgcolor": "#E5ECF6",
                      "radialaxis": {
                        "gridcolor": "white",
                        "linecolor": "white",
                        "ticks": ""
                      }
                    },
                    "scene": {
                      "xaxis": {
                        "backgroundcolor": "#E5ECF6",
                        "gridcolor": "white",
                        "gridwidth": 2,
                        "linecolor": "white",
                        "showbackground": true,
                        "ticks": "",
                        "zerolinecolor": "white"
                      },
                      "yaxis": {
                        "backgroundcolor": "#E5ECF6",
                        "gridcolor": "white",
                        "gridwidth": 2,
                        "linecolor": "white",
                        "showbackground": true,
                        "ticks": "",
                        "zerolinecolor": "white"
                      },
                      "zaxis": {
                        "backgroundcolor": "#E5ECF6",
                        "gridcolor": "white",
                        "gridwidth": 2,
                        "linecolor": "white",
                        "showbackground": true,
                        "ticks": "",
                        "zerolinecolor": "white"
                      }
                    },
                    "shapedefaults": {
                      "line": {
                        "color": "#2a3f5f"
                      }
                    },
                    "ternary": {
                      "aaxis": {
                        "gridcolor": "white",
                        "linecolor": "white",
                        "ticks": ""
                      },
                      "baxis": {
                        "gridcolor": "white",
                        "linecolor": "white",
                        "ticks": ""
                      },
                      "bgcolor": "#E5ECF6",
                      "caxis": {
                        "gridcolor": "white",
                        "linecolor": "white",
                        "ticks": ""
                      }
                    },
                    "title": {
                      "x": 0.05
                    },
                    "xaxis": {
                      "automargin": true,
                      "gridcolor": "white",
                      "linecolor": "white",
                      "ticks": "",
                      "title": {
                        "standoff": 15
                      },
                      "zerolinecolor": "white",
                      "zerolinewidth": 2
                    },
                    "yaxis": {
                      "automargin": true,
                      "gridcolor": "white",
                      "linecolor": "white",
                      "ticks": "",
                      "title": {
                        "standoff": 15
                      },
                      "zerolinecolor": "white",
                      "zerolinewidth": 2
                    }
                  }
                },
                "xaxis": {
                  "anchor": "y",
                  "domain": [
                    0,
                    1
                  ],
                  "title": {
                    "text": "x"
                  }
                },
                "yaxis": {
                  "anchor": "x",
                  "domain": [
                    0,
                    1
                  ],
                  "scaleanchor": "x",
                  "scaleratio": 1,
                  "title": {
                    "text": "y"
                  }
                }
              }
            }
          },
          "metadata": {},
          "output_type": "display_data"
        }
      ],
      "source": [
        "fig = px.scatter(\n",
        "    x=X[:, 0],\n",
        "    y=X[:, 1],\n",
        "    color=newgroups,\n",
        "    color_continuous_scale=px.colors.sequential.Bluered,\n",
        ")\n",
        "fig.add_scatter(\n",
        "    x=centroids[:, 0],\n",
        "    y=centroids[:, 1],\n",
        "    mode=\"markers\",\n",
        "    marker=go.scatter.Marker({\"symbol\": \"x\", \"color\": \"green\"}),\n",
        ")\n",
        "fig.update_layout(showlegend=False)\n",
        "fig.update_yaxes(\n",
        "    scaleanchor=\"x\",\n",
        "    scaleratio=1,\n",
        ")\n",
        "fig.show()"
      ]
    },
    {
      "cell_type": "code",
      "execution_count": 15,
      "metadata": {
        "colab": {
          "base_uri": "https://localhost:8080/"
        },
        "id": "sMJ8-aLOEwpT",
        "outputId": "2a71debb-e978-48f1-b173-513943c0e923"
      },
      "outputs": [
        {
          "name": "stdout",
          "output_type": "stream",
          "text": [
            "[[-1.61546049  2.88948393]\n",
            " [ 0.86169471  4.28084157]\n",
            " [ 2.14220715  1.31621944]]\n",
            "[[-1.6938747   2.8324883 ]\n",
            " [ 0.78959558  4.25181726]\n",
            " [ 2.14220715  1.31621944]]\n",
            "[ True  True  True  True  True  True  True  True  True  True  True  True\n",
            "  True  True  True  True  True  True  True  True  True  True  True  True\n",
            "  True  True  True  True  True  True  True  True  True  True  True  True\n",
            "  True  True  True  True  True  True  True  True  True  True  True  True\n",
            "  True  True  True  True  True  True  True  True  True  True  True  True\n",
            "  True  True  True  True  True  True  True  True  True  True  True  True\n",
            "  True  True  True  True  True  True  True  True  True  True  True  True\n",
            "  True  True  True  True  True  True  True  True  True  True  True  True\n",
            "  True  True  True  True]\n"
          ]
        }
      ],
      "source": [
        "groups = newgroups\n",
        "print(centroids)\n",
        "for i in range(len(centroids)):\n",
        "    points = [x for j, x in enumerate(X) if groups[j] == i]\n",
        "    centroids[i] = np.mean(points, axis=0)\n",
        "print(centroids)\n",
        "distances = np.array([[np.linalg.norm(p - c) for c in centroids] for p in X])\n",
        "newgroups = np.argmin(distances, axis=1)\n",
        "print(newgroups == groups)"
      ]
    },
    {
      "cell_type": "markdown",
      "metadata": {
        "id": "1She1UzlEwpT"
      },
      "source": [
        "The centroids will converge to their optimal position, which minimizes the average distance to the group members.\n",
        "However, this is only a local optimum, depending on the initial centroid values.\n",
        "\n",
        "One solution is to repeat the process with different starting positions.\n",
        "\n",
        "But how to choose initial centroids? Previously, we've chosen them manually but when the number of dimensions is high, it becomes difficult to select good values.\n",
        "\n",
        "Idea: Select k input points randomly as initial centroids."
      ]
    },
    {
      "cell_type": "code",
      "execution_count": 20,
      "metadata": {
        "colab": {
          "base_uri": "https://localhost:8080/",
          "height": 542
        },
        "id": "krT2ssTlEwpU",
        "outputId": "73f8feca-97c8-487c-d6a8-2b6dd1647a92"
      },
      "outputs": [
        {
          "name": "stdout",
          "output_type": "stream",
          "text": [
            "bestinertia=96.33503550534058\n"
          ]
        },
        {
          "data": {
            "application/vnd.plotly.v1+json": {
              "config": {
                "plotlyServerURL": "https://plot.ly"
              },
              "data": [
                {
                  "hovertemplate": "x=%{x}<br>y=%{y}<br>color=%{marker.color}<extra></extra>",
                  "legendgroup": "",
                  "marker": {
                    "color": [
                      0,
                      1,
                      0,
                      1,
                      1,
                      1,
                      2,
                      2,
                      0,
                      1,
                      1,
                      1,
                      0,
                      1,
                      2,
                      0,
                      2,
                      1,
                      2,
                      2,
                      2,
                      2,
                      2,
                      1,
                      0,
                      0,
                      0,
                      0,
                      2,
                      2,
                      1,
                      0,
                      0,
                      1,
                      2,
                      1,
                      1,
                      0,
                      0,
                      2,
                      2,
                      0,
                      0,
                      1,
                      1,
                      1,
                      0,
                      0,
                      2,
                      2,
                      1,
                      0,
                      1,
                      0,
                      2,
                      2,
                      0,
                      0,
                      1,
                      0,
                      0,
                      2,
                      2,
                      2,
                      2,
                      0,
                      1,
                      2,
                      0,
                      1,
                      2,
                      0,
                      1,
                      0,
                      0,
                      1,
                      1,
                      1,
                      2,
                      0,
                      1,
                      1,
                      0,
                      1,
                      0,
                      1,
                      1,
                      1,
                      0,
                      1,
                      0,
                      0,
                      2,
                      2,
                      2,
                      2,
                      1,
                      1,
                      2,
                      2
                    ],
                    "coloraxis": "coloraxis",
                    "symbol": "circle"
                  },
                  "mode": "markers",
                  "name": "",
                  "orientation": "v",
                  "showlegend": false,
                  "type": "scatter",
                  "x": [
                    2.5165401747248306,
                    0.25989682959155447,
                    2.8130690956518762,
                    -0.3148481994998662,
                    0.13742770649282088,
                    0.697940359085573,
                    -2.444878935150787,
                    -0.7673673676812967,
                    2.5931033270428263,
                    0.46881240360172416,
                    1.5595425282885245,
                    1.9605026231286717,
                    2.427797473217246,
                    2.202493450033261,
                    -2.1227078708606575,
                    3.5493146897741337,
                    -1.6056660327622512,
                    0.3257530529109318,
                    -1.5814972974816104,
                    -2.410410684764666,
                    -2.041798735488218,
                    -1.558330267803902,
                    -1.0147987923438317,
                    0.26604148044240483,
                    1.1986654242244439,
                    2.156797195595774,
                    1.4393346618766247,
                    1.1231476488061927,
                    -1.8222494835758603,
                    -0.9094715722509714,
                    1.0915049354751973,
                    3.2458692764693575,
                    1.72437233682508,
                    2.17153333707258,
                    -1.89133001603578,
                    0.37961180666924843,
                    0.8936949971116488,
                    1.515801392906977,
                    2.3403606391723994,
                    -2.118554410334956,
                    -0.6255952755366998,
                    2.3771408343749174,
                    2.2938580607977226,
                    -0.3887460739535151,
                    1.1002280191040281,
                    0.5685483331451722,
                    1.3586298020873726,
                    1.4996132336477856,
                    -2.2571617935772323,
                    -1.1082826847965024,
                    0.20368474620264654,
                    1.546590658729773,
                    0.2504313870399013,
                    2.221887503894366,
                    -1.9253299737757494,
                    -0.8414395236997524,
                    2.9982911783605983,
                    2.0636675380095344,
                    1.0128768923876519,
                    3.5617880790778815,
                    1.038879522644291,
                    -2.5611895410006644,
                    -2.169631744560978,
                    -1.3935652169238821,
                    -2.71991008738639,
                    1.7327259638543342,
                    1.5851002586640899,
                    -2.327076291133557,
                    1.8060254957309798,
                    1.7363408125669666,
                    -0.7902169541972501,
                    2.792073777736581,
                    -1.0661217741207678,
                    3.593621142617186,
                    1.3662869733891159,
                    1.8877906261811357,
                    1.1182109923494974,
                    0.4383017203257342,
                    -1.8100991422246926,
                    2.3564079463573817,
                    -0.025966209493445858,
                    1.0294838564530293,
                    1.8408648246717736,
                    -0.3278885990263407,
                    1.11676879734155,
                    1.3313606647428355,
                    0.9537242958755712,
                    0.5676259684913967,
                    2.546531017709742,
                    0.6664086246201333,
                    1.7071446800555679,
                    2.372072891562194,
                    -0.6471763365122148,
                    -2.354298286649477,
                    -2.579629941631122,
                    -0.5764801793400639,
                    1.2267242398672162,
                    1.6678190376340996,
                    -1.0267188524001554,
                    -2.50725242828604
                  ],
                  "xaxis": "x",
                  "y": [
                    0.731024655475541,
                    4.613309325735799,
                    0.7736555854652695,
                    4.133595103277215,
                    3.1677729777052095,
                    4.428866502731574,
                    2.5676262255375755,
                    2.9879232544412755,
                    1.223633128930825,
                    4.013594394658679,
                    4.406973656054318,
                    5.265691206475919,
                    -0.33133128908384224,
                    5.479274343368618,
                    2.256731430405911,
                    1.622499386558245,
                    2.387099632243437,
                    2.9227612455830485,
                    4.288556438652616,
                    2.9596143247419024,
                    1.1391597395535813,
                    1.9834074631401648,
                    1.6243174258844553,
                    2.7191501528692483,
                    1.741225041482846,
                    1.2192551506936982,
                    1.3290630129713907,
                    1.6183248495012865,
                    2.7263789192723817,
                    3.576685584504108,
                    5.46720613301877,
                    2.414375000762403,
                    0.2996998107853306,
                    4.139660716435749,
                    2.931865588553168,
                    3.673465850925454,
                    4.632266128999088,
                    0.9231281065574178,
                    1.4629221944914954,
                    4.152293937658511,
                    2.0539370546423843,
                    0.3498155871856863,
                    1.9587723772875612,
                    5.864407643633822,
                    4.6063173431301285,
                    3.9533278861594408,
                    0.43458392812640445,
                    0.7779560276758002,
                    3.811495291809805,
                    2.7806451963553243,
                    3.9871046208822367,
                    1.4388102958951365,
                    4.345343644085301,
                    1.6789748891249072,
                    4.461507904386711,
                    2.3970617866930053,
                    0.7537237912880561,
                    2.3263600550626053,
                    4.154040247427723,
                    -0.1805435889760203,
                    1.6731810264643459,
                    3.131522956812469,
                    2.366242439132962,
                    3.4259074108468077,
                    3.2693956223447525,
                    1.8756197162438788,
                    4.4011273406426525,
                    1.6820653839110333,
                    0.9425959337217332,
                    4.182701560810232,
                    3.1728643836875396,
                    3.140294787769378,
                    4.8266822038006785,
                    2.082075493085476,
                    2.425715622417164,
                    3.315926671165468,
                    3.9823625784817804,
                    4.016144798215957,
                    1.8179212265987077,
                    0.018143027470581163,
                    4.925779612113918,
                    4.545764845640215,
                    1.5396287765750531,
                    4.6740131318690095,
                    2.452560608457371,
                    4.570726789347804,
                    4.646452823872724,
                    3.3592815801504603,
                    1.6354289971911582,
                    4.061945126988122,
                    2.3770746427214107,
                    0.023214452953532194,
                    3.442093245911201,
                    3.4631578759584243,
                    2.548614577481356,
                    3.1714363508730026,
                    3.6205107360070103,
                    3.710055311123236,
                    1.6362361368477245,
                    3.5933726424543604
                  ],
                  "yaxis": "y"
                },
                {
                  "marker": {
                    "color": "green",
                    "symbol": "x"
                  },
                  "mode": "markers",
                  "type": "scatter",
                  "x": [
                    2.142207154674659,
                    0.7895955751274658,
                    -1.6938747006505552
                  ],
                  "y": [
                    1.3162194435980328,
                    4.251817263811047,
                    2.8324883048818283
                  ]
                }
              ],
              "layout": {
                "coloraxis": {
                  "colorbar": {
                    "title": {
                      "text": "color"
                    }
                  },
                  "colorscale": [
                    [
                      0,
                      "rgb(0,0,255)"
                    ],
                    [
                      1,
                      "rgb(255,0,0)"
                    ]
                  ]
                },
                "legend": {
                  "tracegroupgap": 0
                },
                "margin": {
                  "t": 60
                },
                "showlegend": false,
                "template": {
                  "data": {
                    "bar": [
                      {
                        "error_x": {
                          "color": "#2a3f5f"
                        },
                        "error_y": {
                          "color": "#2a3f5f"
                        },
                        "marker": {
                          "line": {
                            "color": "#E5ECF6",
                            "width": 0.5
                          },
                          "pattern": {
                            "fillmode": "overlay",
                            "size": 10,
                            "solidity": 0.2
                          }
                        },
                        "type": "bar"
                      }
                    ],
                    "barpolar": [
                      {
                        "marker": {
                          "line": {
                            "color": "#E5ECF6",
                            "width": 0.5
                          },
                          "pattern": {
                            "fillmode": "overlay",
                            "size": 10,
                            "solidity": 0.2
                          }
                        },
                        "type": "barpolar"
                      }
                    ],
                    "carpet": [
                      {
                        "aaxis": {
                          "endlinecolor": "#2a3f5f",
                          "gridcolor": "white",
                          "linecolor": "white",
                          "minorgridcolor": "white",
                          "startlinecolor": "#2a3f5f"
                        },
                        "baxis": {
                          "endlinecolor": "#2a3f5f",
                          "gridcolor": "white",
                          "linecolor": "white",
                          "minorgridcolor": "white",
                          "startlinecolor": "#2a3f5f"
                        },
                        "type": "carpet"
                      }
                    ],
                    "choropleth": [
                      {
                        "colorbar": {
                          "outlinewidth": 0,
                          "ticks": ""
                        },
                        "type": "choropleth"
                      }
                    ],
                    "contour": [
                      {
                        "colorbar": {
                          "outlinewidth": 0,
                          "ticks": ""
                        },
                        "colorscale": [
                          [
                            0,
                            "#0d0887"
                          ],
                          [
                            0.1111111111111111,
                            "#46039f"
                          ],
                          [
                            0.2222222222222222,
                            "#7201a8"
                          ],
                          [
                            0.3333333333333333,
                            "#9c179e"
                          ],
                          [
                            0.4444444444444444,
                            "#bd3786"
                          ],
                          [
                            0.5555555555555556,
                            "#d8576b"
                          ],
                          [
                            0.6666666666666666,
                            "#ed7953"
                          ],
                          [
                            0.7777777777777778,
                            "#fb9f3a"
                          ],
                          [
                            0.8888888888888888,
                            "#fdca26"
                          ],
                          [
                            1,
                            "#f0f921"
                          ]
                        ],
                        "type": "contour"
                      }
                    ],
                    "contourcarpet": [
                      {
                        "colorbar": {
                          "outlinewidth": 0,
                          "ticks": ""
                        },
                        "type": "contourcarpet"
                      }
                    ],
                    "heatmap": [
                      {
                        "colorbar": {
                          "outlinewidth": 0,
                          "ticks": ""
                        },
                        "colorscale": [
                          [
                            0,
                            "#0d0887"
                          ],
                          [
                            0.1111111111111111,
                            "#46039f"
                          ],
                          [
                            0.2222222222222222,
                            "#7201a8"
                          ],
                          [
                            0.3333333333333333,
                            "#9c179e"
                          ],
                          [
                            0.4444444444444444,
                            "#bd3786"
                          ],
                          [
                            0.5555555555555556,
                            "#d8576b"
                          ],
                          [
                            0.6666666666666666,
                            "#ed7953"
                          ],
                          [
                            0.7777777777777778,
                            "#fb9f3a"
                          ],
                          [
                            0.8888888888888888,
                            "#fdca26"
                          ],
                          [
                            1,
                            "#f0f921"
                          ]
                        ],
                        "type": "heatmap"
                      }
                    ],
                    "heatmapgl": [
                      {
                        "colorbar": {
                          "outlinewidth": 0,
                          "ticks": ""
                        },
                        "colorscale": [
                          [
                            0,
                            "#0d0887"
                          ],
                          [
                            0.1111111111111111,
                            "#46039f"
                          ],
                          [
                            0.2222222222222222,
                            "#7201a8"
                          ],
                          [
                            0.3333333333333333,
                            "#9c179e"
                          ],
                          [
                            0.4444444444444444,
                            "#bd3786"
                          ],
                          [
                            0.5555555555555556,
                            "#d8576b"
                          ],
                          [
                            0.6666666666666666,
                            "#ed7953"
                          ],
                          [
                            0.7777777777777778,
                            "#fb9f3a"
                          ],
                          [
                            0.8888888888888888,
                            "#fdca26"
                          ],
                          [
                            1,
                            "#f0f921"
                          ]
                        ],
                        "type": "heatmapgl"
                      }
                    ],
                    "histogram": [
                      {
                        "marker": {
                          "pattern": {
                            "fillmode": "overlay",
                            "size": 10,
                            "solidity": 0.2
                          }
                        },
                        "type": "histogram"
                      }
                    ],
                    "histogram2d": [
                      {
                        "colorbar": {
                          "outlinewidth": 0,
                          "ticks": ""
                        },
                        "colorscale": [
                          [
                            0,
                            "#0d0887"
                          ],
                          [
                            0.1111111111111111,
                            "#46039f"
                          ],
                          [
                            0.2222222222222222,
                            "#7201a8"
                          ],
                          [
                            0.3333333333333333,
                            "#9c179e"
                          ],
                          [
                            0.4444444444444444,
                            "#bd3786"
                          ],
                          [
                            0.5555555555555556,
                            "#d8576b"
                          ],
                          [
                            0.6666666666666666,
                            "#ed7953"
                          ],
                          [
                            0.7777777777777778,
                            "#fb9f3a"
                          ],
                          [
                            0.8888888888888888,
                            "#fdca26"
                          ],
                          [
                            1,
                            "#f0f921"
                          ]
                        ],
                        "type": "histogram2d"
                      }
                    ],
                    "histogram2dcontour": [
                      {
                        "colorbar": {
                          "outlinewidth": 0,
                          "ticks": ""
                        },
                        "colorscale": [
                          [
                            0,
                            "#0d0887"
                          ],
                          [
                            0.1111111111111111,
                            "#46039f"
                          ],
                          [
                            0.2222222222222222,
                            "#7201a8"
                          ],
                          [
                            0.3333333333333333,
                            "#9c179e"
                          ],
                          [
                            0.4444444444444444,
                            "#bd3786"
                          ],
                          [
                            0.5555555555555556,
                            "#d8576b"
                          ],
                          [
                            0.6666666666666666,
                            "#ed7953"
                          ],
                          [
                            0.7777777777777778,
                            "#fb9f3a"
                          ],
                          [
                            0.8888888888888888,
                            "#fdca26"
                          ],
                          [
                            1,
                            "#f0f921"
                          ]
                        ],
                        "type": "histogram2dcontour"
                      }
                    ],
                    "mesh3d": [
                      {
                        "colorbar": {
                          "outlinewidth": 0,
                          "ticks": ""
                        },
                        "type": "mesh3d"
                      }
                    ],
                    "parcoords": [
                      {
                        "line": {
                          "colorbar": {
                            "outlinewidth": 0,
                            "ticks": ""
                          }
                        },
                        "type": "parcoords"
                      }
                    ],
                    "pie": [
                      {
                        "automargin": true,
                        "type": "pie"
                      }
                    ],
                    "scatter": [
                      {
                        "fillpattern": {
                          "fillmode": "overlay",
                          "size": 10,
                          "solidity": 0.2
                        },
                        "type": "scatter"
                      }
                    ],
                    "scatter3d": [
                      {
                        "line": {
                          "colorbar": {
                            "outlinewidth": 0,
                            "ticks": ""
                          }
                        },
                        "marker": {
                          "colorbar": {
                            "outlinewidth": 0,
                            "ticks": ""
                          }
                        },
                        "type": "scatter3d"
                      }
                    ],
                    "scattercarpet": [
                      {
                        "marker": {
                          "colorbar": {
                            "outlinewidth": 0,
                            "ticks": ""
                          }
                        },
                        "type": "scattercarpet"
                      }
                    ],
                    "scattergeo": [
                      {
                        "marker": {
                          "colorbar": {
                            "outlinewidth": 0,
                            "ticks": ""
                          }
                        },
                        "type": "scattergeo"
                      }
                    ],
                    "scattergl": [
                      {
                        "marker": {
                          "colorbar": {
                            "outlinewidth": 0,
                            "ticks": ""
                          }
                        },
                        "type": "scattergl"
                      }
                    ],
                    "scattermapbox": [
                      {
                        "marker": {
                          "colorbar": {
                            "outlinewidth": 0,
                            "ticks": ""
                          }
                        },
                        "type": "scattermapbox"
                      }
                    ],
                    "scatterpolar": [
                      {
                        "marker": {
                          "colorbar": {
                            "outlinewidth": 0,
                            "ticks": ""
                          }
                        },
                        "type": "scatterpolar"
                      }
                    ],
                    "scatterpolargl": [
                      {
                        "marker": {
                          "colorbar": {
                            "outlinewidth": 0,
                            "ticks": ""
                          }
                        },
                        "type": "scatterpolargl"
                      }
                    ],
                    "scatterternary": [
                      {
                        "marker": {
                          "colorbar": {
                            "outlinewidth": 0,
                            "ticks": ""
                          }
                        },
                        "type": "scatterternary"
                      }
                    ],
                    "surface": [
                      {
                        "colorbar": {
                          "outlinewidth": 0,
                          "ticks": ""
                        },
                        "colorscale": [
                          [
                            0,
                            "#0d0887"
                          ],
                          [
                            0.1111111111111111,
                            "#46039f"
                          ],
                          [
                            0.2222222222222222,
                            "#7201a8"
                          ],
                          [
                            0.3333333333333333,
                            "#9c179e"
                          ],
                          [
                            0.4444444444444444,
                            "#bd3786"
                          ],
                          [
                            0.5555555555555556,
                            "#d8576b"
                          ],
                          [
                            0.6666666666666666,
                            "#ed7953"
                          ],
                          [
                            0.7777777777777778,
                            "#fb9f3a"
                          ],
                          [
                            0.8888888888888888,
                            "#fdca26"
                          ],
                          [
                            1,
                            "#f0f921"
                          ]
                        ],
                        "type": "surface"
                      }
                    ],
                    "table": [
                      {
                        "cells": {
                          "fill": {
                            "color": "#EBF0F8"
                          },
                          "line": {
                            "color": "white"
                          }
                        },
                        "header": {
                          "fill": {
                            "color": "#C8D4E3"
                          },
                          "line": {
                            "color": "white"
                          }
                        },
                        "type": "table"
                      }
                    ]
                  },
                  "layout": {
                    "annotationdefaults": {
                      "arrowcolor": "#2a3f5f",
                      "arrowhead": 0,
                      "arrowwidth": 1
                    },
                    "autotypenumbers": "strict",
                    "coloraxis": {
                      "colorbar": {
                        "outlinewidth": 0,
                        "ticks": ""
                      }
                    },
                    "colorscale": {
                      "diverging": [
                        [
                          0,
                          "#8e0152"
                        ],
                        [
                          0.1,
                          "#c51b7d"
                        ],
                        [
                          0.2,
                          "#de77ae"
                        ],
                        [
                          0.3,
                          "#f1b6da"
                        ],
                        [
                          0.4,
                          "#fde0ef"
                        ],
                        [
                          0.5,
                          "#f7f7f7"
                        ],
                        [
                          0.6,
                          "#e6f5d0"
                        ],
                        [
                          0.7,
                          "#b8e186"
                        ],
                        [
                          0.8,
                          "#7fbc41"
                        ],
                        [
                          0.9,
                          "#4d9221"
                        ],
                        [
                          1,
                          "#276419"
                        ]
                      ],
                      "sequential": [
                        [
                          0,
                          "#0d0887"
                        ],
                        [
                          0.1111111111111111,
                          "#46039f"
                        ],
                        [
                          0.2222222222222222,
                          "#7201a8"
                        ],
                        [
                          0.3333333333333333,
                          "#9c179e"
                        ],
                        [
                          0.4444444444444444,
                          "#bd3786"
                        ],
                        [
                          0.5555555555555556,
                          "#d8576b"
                        ],
                        [
                          0.6666666666666666,
                          "#ed7953"
                        ],
                        [
                          0.7777777777777778,
                          "#fb9f3a"
                        ],
                        [
                          0.8888888888888888,
                          "#fdca26"
                        ],
                        [
                          1,
                          "#f0f921"
                        ]
                      ],
                      "sequentialminus": [
                        [
                          0,
                          "#0d0887"
                        ],
                        [
                          0.1111111111111111,
                          "#46039f"
                        ],
                        [
                          0.2222222222222222,
                          "#7201a8"
                        ],
                        [
                          0.3333333333333333,
                          "#9c179e"
                        ],
                        [
                          0.4444444444444444,
                          "#bd3786"
                        ],
                        [
                          0.5555555555555556,
                          "#d8576b"
                        ],
                        [
                          0.6666666666666666,
                          "#ed7953"
                        ],
                        [
                          0.7777777777777778,
                          "#fb9f3a"
                        ],
                        [
                          0.8888888888888888,
                          "#fdca26"
                        ],
                        [
                          1,
                          "#f0f921"
                        ]
                      ]
                    },
                    "colorway": [
                      "#636efa",
                      "#EF553B",
                      "#00cc96",
                      "#ab63fa",
                      "#FFA15A",
                      "#19d3f3",
                      "#FF6692",
                      "#B6E880",
                      "#FF97FF",
                      "#FECB52"
                    ],
                    "font": {
                      "color": "#2a3f5f"
                    },
                    "geo": {
                      "bgcolor": "white",
                      "lakecolor": "white",
                      "landcolor": "#E5ECF6",
                      "showlakes": true,
                      "showland": true,
                      "subunitcolor": "white"
                    },
                    "hoverlabel": {
                      "align": "left"
                    },
                    "hovermode": "closest",
                    "mapbox": {
                      "style": "light"
                    },
                    "paper_bgcolor": "white",
                    "plot_bgcolor": "#E5ECF6",
                    "polar": {
                      "angularaxis": {
                        "gridcolor": "white",
                        "linecolor": "white",
                        "ticks": ""
                      },
                      "bgcolor": "#E5ECF6",
                      "radialaxis": {
                        "gridcolor": "white",
                        "linecolor": "white",
                        "ticks": ""
                      }
                    },
                    "scene": {
                      "xaxis": {
                        "backgroundcolor": "#E5ECF6",
                        "gridcolor": "white",
                        "gridwidth": 2,
                        "linecolor": "white",
                        "showbackground": true,
                        "ticks": "",
                        "zerolinecolor": "white"
                      },
                      "yaxis": {
                        "backgroundcolor": "#E5ECF6",
                        "gridcolor": "white",
                        "gridwidth": 2,
                        "linecolor": "white",
                        "showbackground": true,
                        "ticks": "",
                        "zerolinecolor": "white"
                      },
                      "zaxis": {
                        "backgroundcolor": "#E5ECF6",
                        "gridcolor": "white",
                        "gridwidth": 2,
                        "linecolor": "white",
                        "showbackground": true,
                        "ticks": "",
                        "zerolinecolor": "white"
                      }
                    },
                    "shapedefaults": {
                      "line": {
                        "color": "#2a3f5f"
                      }
                    },
                    "ternary": {
                      "aaxis": {
                        "gridcolor": "white",
                        "linecolor": "white",
                        "ticks": ""
                      },
                      "baxis": {
                        "gridcolor": "white",
                        "linecolor": "white",
                        "ticks": ""
                      },
                      "bgcolor": "#E5ECF6",
                      "caxis": {
                        "gridcolor": "white",
                        "linecolor": "white",
                        "ticks": ""
                      }
                    },
                    "title": {
                      "x": 0.05
                    },
                    "xaxis": {
                      "automargin": true,
                      "gridcolor": "white",
                      "linecolor": "white",
                      "ticks": "",
                      "title": {
                        "standoff": 15
                      },
                      "zerolinecolor": "white",
                      "zerolinewidth": 2
                    },
                    "yaxis": {
                      "automargin": true,
                      "gridcolor": "white",
                      "linecolor": "white",
                      "ticks": "",
                      "title": {
                        "standoff": 15
                      },
                      "zerolinecolor": "white",
                      "zerolinewidth": 2
                    }
                  }
                },
                "xaxis": {
                  "anchor": "y",
                  "domain": [
                    0,
                    1
                  ],
                  "title": {
                    "text": "x"
                  }
                },
                "yaxis": {
                  "anchor": "x",
                  "domain": [
                    0,
                    1
                  ],
                  "scaleanchor": "x",
                  "scaleratio": 1,
                  "title": {
                    "text": "y"
                  }
                }
              }
            }
          },
          "metadata": {},
          "output_type": "display_data"
        }
      ],
      "source": [
        "k = 3\n",
        "bestcentroids = None\n",
        "bestgroups = None\n",
        "bestinertia = None\n",
        "# try 10 times\n",
        "for _ in range(10):\n",
        "    # initial centroids\n",
        "    centroids = X[\n",
        "        np.random.choice(X.shape[0], k, replace=False)\n",
        "    ]  # with pandas: df.sample(n=k)\n",
        "    distances = np.array([[np.linalg.norm(p - c) for c in centroids] for p in X])\n",
        "    newgroups = np.argmin(distances, axis=1)\n",
        "    groups = np.array([])\n",
        "    while not np.array_equal(groups, newgroups):\n",
        "        groups = newgroups\n",
        "        for i in range(len(centroids)):\n",
        "            points = [x for j, x in enumerate(X) if groups[j] == i]\n",
        "            centroids[i] = np.mean(points, axis=0)\n",
        "        distances = np.array([[np.linalg.norm(p - c) for c in centroids] for p in X])\n",
        "        newgroups = np.argmin(distances, axis=1)\n",
        "    # sum of distances from closest centroid\n",
        "    inertia = np.sum(np.min(distances, axis=1))\n",
        "    if bestcentroids is None or inertia < bestinertia:\n",
        "        bestcentroids = centroids.copy()\n",
        "        bestgroups = groups.copy()\n",
        "        bestinertia = inertia\n",
        "print(f\"{bestinertia=}\")\n",
        "fig = px.scatter(\n",
        "    x=X[:, 0],\n",
        "    y=X[:, 1],\n",
        "    color=bestgroups,\n",
        "    color_continuous_scale=px.colors.sequential.Bluered,\n",
        ")\n",
        "fig.add_scatter(\n",
        "    x=bestcentroids[:, 0],\n",
        "    y=bestcentroids[:, 1],\n",
        "    mode=\"markers\",\n",
        "    marker=go.scatter.Marker({\"symbol\": \"x\", \"color\": \"green\"}),\n",
        ")\n",
        "fig.update_layout(showlegend=False)\n",
        "fig.update_yaxes(\n",
        "    scaleanchor=\"x\",\n",
        "    scaleratio=1,\n",
        ")\n",
        "fig.show()"
      ]
    },
    {
      "cell_type": "markdown",
      "metadata": {
        "id": "16Jb7V1pEwpU"
      },
      "source": [
        "### Using scikit-learn"
      ]
    },
    {
      "cell_type": "code",
      "execution_count": 21,
      "metadata": {
        "colab": {
          "base_uri": "https://localhost:8080/"
        },
        "id": "mYNAIb1REwpU",
        "outputId": "53d36f16-b6c2-47d9-a944-43df83d2707e"
      },
      "outputs": [
        {
          "name": "stdout",
          "output_type": "stream",
          "text": [
            "[[-1.6938747   2.8324883 ]\n",
            " [ 2.14220715  1.31621944]\n",
            " [ 0.78959558  4.25181726]]\n",
            "[1 2 1 2 2 2 0 0 1 2 2 2 1 2 0 1 0 2 0 0 0 0 0 2 1 1 1 1 0 0 2 1 1 2 0 2 2\n",
            " 1 1 0 0 1 1 2 2 2 1 1 0 0 2 1 2 1 0 0 1 1 2 1 1 0 0 0 0 1 2 0 1 2 0 1 2 1\n",
            " 1 2 2 2 0 1 2 2 1 2 1 2 2 2 1 2 1 1 0 0 0 0 2 2 0 0]\n",
            "[False False False False False False False False False False False False\n",
            " False False False False False False False False False False False False\n",
            " False False False False False False False False False False False False\n",
            " False False False False False False False False False False False False\n",
            " False False False False False False False False False False False False\n",
            " False False False False False False False False False False False False\n",
            " False False False False False False False False False False False False\n",
            " False False False False False False False False False False False False\n",
            " False False False False]\n",
            "113.9404779820813\n"
          ]
        }
      ],
      "source": [
        "from sklearn.cluster import KMeans\n",
        "\n",
        "k = 3\n",
        "kmeans = KMeans(n_clusters=k, n_init=10)\n",
        "kmeans.fit(X)\n",
        "print(kmeans.cluster_centers_)\n",
        "print(kmeans.labels_)\n",
        "print(kmeans.labels_ == bestgroups)\n",
        "print(kmeans.inertia_)"
      ]
    },
    {
      "cell_type": "markdown",
      "metadata": {
        "id": "_wTQmIt6EwpU"
      },
      "source": [
        "So, what if we don't know how many clusters there should be?\n",
        "\n",
        "Try with different k-values, and observe the drops in the inertia.\n",
        "This is called the *elbow method*."
      ]
    },
    {
      "cell_type": "code",
      "execution_count": 22,
      "metadata": {
        "colab": {
          "base_uri": "https://localhost:8080/",
          "height": 542
        },
        "id": "cDQvxOcWEwpU",
        "outputId": "c85867a7-3c88-44f2-e16d-92687b9d6999"
      },
      "outputs": [
        {
          "data": {
            "application/vnd.plotly.v1+json": {
              "config": {
                "plotlyServerURL": "https://plot.ly"
              },
              "data": [
                {
                  "hovertemplate": "x=%{x}<br>y=%{y}<extra></extra>",
                  "legendgroup": "",
                  "line": {
                    "color": "#636efa",
                    "dash": "solid"
                  },
                  "marker": {
                    "symbol": "circle"
                  },
                  "mode": "markers+lines",
                  "name": "",
                  "orientation": "v",
                  "showlegend": false,
                  "type": "scatter",
                  "x": [
                    1,
                    2,
                    3,
                    4,
                    5,
                    6,
                    7,
                    8,
                    9,
                    10,
                    11,
                    12,
                    13,
                    14,
                    15,
                    16,
                    17,
                    18,
                    19,
                    20,
                    21,
                    22,
                    23,
                    24,
                    25,
                    26,
                    27,
                    28,
                    29,
                    30,
                    31,
                    32,
                    33,
                    34,
                    35,
                    36,
                    37,
                    38,
                    39,
                    40,
                    41,
                    42,
                    43,
                    44,
                    45,
                    46,
                    47,
                    48,
                    49
                  ],
                  "xaxis": "x",
                  "y": [
                    506.37308898048605,
                    494.2315248984959,
                    341.8214339462439,
                    386.4316200578327,
                    403.80378817681986,
                    400.7258264404666,
                    401.8119434757427,
                    419.7036233762471,
                    385.14756504166587,
                    386.5132072398234,
                    391.553653289684,
                    384.8079724231979,
                    380.0703996151239,
                    359.36137815070475,
                    346.76501081632165,
                    325.6821564572483,
                    329.0982987702224,
                    323.7986359258326,
                    310.5720845603739,
                    306.5690296234876,
                    287.90723924760016,
                    277.7645920910613,
                    265.36737878246134,
                    273.59659230305556,
                    261.45099714339824,
                    253.99388078553727,
                    254.7772349088471,
                    247.0640047899121,
                    240.00436313338037,
                    237.55052393038918,
                    219.80338082637755,
                    220.86916422260052,
                    216.11792998632632,
                    213.36426872523478,
                    192.3326494423898,
                    193.28851728415125,
                    183.13474626262783,
                    178.36313490742344,
                    177.21802566059705,
                    167.204023137153,
                    167.87054388747538,
                    166.30195836428038,
                    156.8783747742953,
                    148.186035038025,
                    145.05509064184685,
                    140.99077080717043,
                    140.02529732641685,
                    124.99975688283969,
                    127.49306891783276
                  ],
                  "yaxis": "y"
                }
              ],
              "layout": {
                "legend": {
                  "tracegroupgap": 0
                },
                "margin": {
                  "t": 60
                },
                "template": {
                  "data": {
                    "bar": [
                      {
                        "error_x": {
                          "color": "#2a3f5f"
                        },
                        "error_y": {
                          "color": "#2a3f5f"
                        },
                        "marker": {
                          "line": {
                            "color": "#E5ECF6",
                            "width": 0.5
                          },
                          "pattern": {
                            "fillmode": "overlay",
                            "size": 10,
                            "solidity": 0.2
                          }
                        },
                        "type": "bar"
                      }
                    ],
                    "barpolar": [
                      {
                        "marker": {
                          "line": {
                            "color": "#E5ECF6",
                            "width": 0.5
                          },
                          "pattern": {
                            "fillmode": "overlay",
                            "size": 10,
                            "solidity": 0.2
                          }
                        },
                        "type": "barpolar"
                      }
                    ],
                    "carpet": [
                      {
                        "aaxis": {
                          "endlinecolor": "#2a3f5f",
                          "gridcolor": "white",
                          "linecolor": "white",
                          "minorgridcolor": "white",
                          "startlinecolor": "#2a3f5f"
                        },
                        "baxis": {
                          "endlinecolor": "#2a3f5f",
                          "gridcolor": "white",
                          "linecolor": "white",
                          "minorgridcolor": "white",
                          "startlinecolor": "#2a3f5f"
                        },
                        "type": "carpet"
                      }
                    ],
                    "choropleth": [
                      {
                        "colorbar": {
                          "outlinewidth": 0,
                          "ticks": ""
                        },
                        "type": "choropleth"
                      }
                    ],
                    "contour": [
                      {
                        "colorbar": {
                          "outlinewidth": 0,
                          "ticks": ""
                        },
                        "colorscale": [
                          [
                            0,
                            "#0d0887"
                          ],
                          [
                            0.1111111111111111,
                            "#46039f"
                          ],
                          [
                            0.2222222222222222,
                            "#7201a8"
                          ],
                          [
                            0.3333333333333333,
                            "#9c179e"
                          ],
                          [
                            0.4444444444444444,
                            "#bd3786"
                          ],
                          [
                            0.5555555555555556,
                            "#d8576b"
                          ],
                          [
                            0.6666666666666666,
                            "#ed7953"
                          ],
                          [
                            0.7777777777777778,
                            "#fb9f3a"
                          ],
                          [
                            0.8888888888888888,
                            "#fdca26"
                          ],
                          [
                            1,
                            "#f0f921"
                          ]
                        ],
                        "type": "contour"
                      }
                    ],
                    "contourcarpet": [
                      {
                        "colorbar": {
                          "outlinewidth": 0,
                          "ticks": ""
                        },
                        "type": "contourcarpet"
                      }
                    ],
                    "heatmap": [
                      {
                        "colorbar": {
                          "outlinewidth": 0,
                          "ticks": ""
                        },
                        "colorscale": [
                          [
                            0,
                            "#0d0887"
                          ],
                          [
                            0.1111111111111111,
                            "#46039f"
                          ],
                          [
                            0.2222222222222222,
                            "#7201a8"
                          ],
                          [
                            0.3333333333333333,
                            "#9c179e"
                          ],
                          [
                            0.4444444444444444,
                            "#bd3786"
                          ],
                          [
                            0.5555555555555556,
                            "#d8576b"
                          ],
                          [
                            0.6666666666666666,
                            "#ed7953"
                          ],
                          [
                            0.7777777777777778,
                            "#fb9f3a"
                          ],
                          [
                            0.8888888888888888,
                            "#fdca26"
                          ],
                          [
                            1,
                            "#f0f921"
                          ]
                        ],
                        "type": "heatmap"
                      }
                    ],
                    "heatmapgl": [
                      {
                        "colorbar": {
                          "outlinewidth": 0,
                          "ticks": ""
                        },
                        "colorscale": [
                          [
                            0,
                            "#0d0887"
                          ],
                          [
                            0.1111111111111111,
                            "#46039f"
                          ],
                          [
                            0.2222222222222222,
                            "#7201a8"
                          ],
                          [
                            0.3333333333333333,
                            "#9c179e"
                          ],
                          [
                            0.4444444444444444,
                            "#bd3786"
                          ],
                          [
                            0.5555555555555556,
                            "#d8576b"
                          ],
                          [
                            0.6666666666666666,
                            "#ed7953"
                          ],
                          [
                            0.7777777777777778,
                            "#fb9f3a"
                          ],
                          [
                            0.8888888888888888,
                            "#fdca26"
                          ],
                          [
                            1,
                            "#f0f921"
                          ]
                        ],
                        "type": "heatmapgl"
                      }
                    ],
                    "histogram": [
                      {
                        "marker": {
                          "pattern": {
                            "fillmode": "overlay",
                            "size": 10,
                            "solidity": 0.2
                          }
                        },
                        "type": "histogram"
                      }
                    ],
                    "histogram2d": [
                      {
                        "colorbar": {
                          "outlinewidth": 0,
                          "ticks": ""
                        },
                        "colorscale": [
                          [
                            0,
                            "#0d0887"
                          ],
                          [
                            0.1111111111111111,
                            "#46039f"
                          ],
                          [
                            0.2222222222222222,
                            "#7201a8"
                          ],
                          [
                            0.3333333333333333,
                            "#9c179e"
                          ],
                          [
                            0.4444444444444444,
                            "#bd3786"
                          ],
                          [
                            0.5555555555555556,
                            "#d8576b"
                          ],
                          [
                            0.6666666666666666,
                            "#ed7953"
                          ],
                          [
                            0.7777777777777778,
                            "#fb9f3a"
                          ],
                          [
                            0.8888888888888888,
                            "#fdca26"
                          ],
                          [
                            1,
                            "#f0f921"
                          ]
                        ],
                        "type": "histogram2d"
                      }
                    ],
                    "histogram2dcontour": [
                      {
                        "colorbar": {
                          "outlinewidth": 0,
                          "ticks": ""
                        },
                        "colorscale": [
                          [
                            0,
                            "#0d0887"
                          ],
                          [
                            0.1111111111111111,
                            "#46039f"
                          ],
                          [
                            0.2222222222222222,
                            "#7201a8"
                          ],
                          [
                            0.3333333333333333,
                            "#9c179e"
                          ],
                          [
                            0.4444444444444444,
                            "#bd3786"
                          ],
                          [
                            0.5555555555555556,
                            "#d8576b"
                          ],
                          [
                            0.6666666666666666,
                            "#ed7953"
                          ],
                          [
                            0.7777777777777778,
                            "#fb9f3a"
                          ],
                          [
                            0.8888888888888888,
                            "#fdca26"
                          ],
                          [
                            1,
                            "#f0f921"
                          ]
                        ],
                        "type": "histogram2dcontour"
                      }
                    ],
                    "mesh3d": [
                      {
                        "colorbar": {
                          "outlinewidth": 0,
                          "ticks": ""
                        },
                        "type": "mesh3d"
                      }
                    ],
                    "parcoords": [
                      {
                        "line": {
                          "colorbar": {
                            "outlinewidth": 0,
                            "ticks": ""
                          }
                        },
                        "type": "parcoords"
                      }
                    ],
                    "pie": [
                      {
                        "automargin": true,
                        "type": "pie"
                      }
                    ],
                    "scatter": [
                      {
                        "fillpattern": {
                          "fillmode": "overlay",
                          "size": 10,
                          "solidity": 0.2
                        },
                        "type": "scatter"
                      }
                    ],
                    "scatter3d": [
                      {
                        "line": {
                          "colorbar": {
                            "outlinewidth": 0,
                            "ticks": ""
                          }
                        },
                        "marker": {
                          "colorbar": {
                            "outlinewidth": 0,
                            "ticks": ""
                          }
                        },
                        "type": "scatter3d"
                      }
                    ],
                    "scattercarpet": [
                      {
                        "marker": {
                          "colorbar": {
                            "outlinewidth": 0,
                            "ticks": ""
                          }
                        },
                        "type": "scattercarpet"
                      }
                    ],
                    "scattergeo": [
                      {
                        "marker": {
                          "colorbar": {
                            "outlinewidth": 0,
                            "ticks": ""
                          }
                        },
                        "type": "scattergeo"
                      }
                    ],
                    "scattergl": [
                      {
                        "marker": {
                          "colorbar": {
                            "outlinewidth": 0,
                            "ticks": ""
                          }
                        },
                        "type": "scattergl"
                      }
                    ],
                    "scattermapbox": [
                      {
                        "marker": {
                          "colorbar": {
                            "outlinewidth": 0,
                            "ticks": ""
                          }
                        },
                        "type": "scattermapbox"
                      }
                    ],
                    "scatterpolar": [
                      {
                        "marker": {
                          "colorbar": {
                            "outlinewidth": 0,
                            "ticks": ""
                          }
                        },
                        "type": "scatterpolar"
                      }
                    ],
                    "scatterpolargl": [
                      {
                        "marker": {
                          "colorbar": {
                            "outlinewidth": 0,
                            "ticks": ""
                          }
                        },
                        "type": "scatterpolargl"
                      }
                    ],
                    "scatterternary": [
                      {
                        "marker": {
                          "colorbar": {
                            "outlinewidth": 0,
                            "ticks": ""
                          }
                        },
                        "type": "scatterternary"
                      }
                    ],
                    "surface": [
                      {
                        "colorbar": {
                          "outlinewidth": 0,
                          "ticks": ""
                        },
                        "colorscale": [
                          [
                            0,
                            "#0d0887"
                          ],
                          [
                            0.1111111111111111,
                            "#46039f"
                          ],
                          [
                            0.2222222222222222,
                            "#7201a8"
                          ],
                          [
                            0.3333333333333333,
                            "#9c179e"
                          ],
                          [
                            0.4444444444444444,
                            "#bd3786"
                          ],
                          [
                            0.5555555555555556,
                            "#d8576b"
                          ],
                          [
                            0.6666666666666666,
                            "#ed7953"
                          ],
                          [
                            0.7777777777777778,
                            "#fb9f3a"
                          ],
                          [
                            0.8888888888888888,
                            "#fdca26"
                          ],
                          [
                            1,
                            "#f0f921"
                          ]
                        ],
                        "type": "surface"
                      }
                    ],
                    "table": [
                      {
                        "cells": {
                          "fill": {
                            "color": "#EBF0F8"
                          },
                          "line": {
                            "color": "white"
                          }
                        },
                        "header": {
                          "fill": {
                            "color": "#C8D4E3"
                          },
                          "line": {
                            "color": "white"
                          }
                        },
                        "type": "table"
                      }
                    ]
                  },
                  "layout": {
                    "annotationdefaults": {
                      "arrowcolor": "#2a3f5f",
                      "arrowhead": 0,
                      "arrowwidth": 1
                    },
                    "autotypenumbers": "strict",
                    "coloraxis": {
                      "colorbar": {
                        "outlinewidth": 0,
                        "ticks": ""
                      }
                    },
                    "colorscale": {
                      "diverging": [
                        [
                          0,
                          "#8e0152"
                        ],
                        [
                          0.1,
                          "#c51b7d"
                        ],
                        [
                          0.2,
                          "#de77ae"
                        ],
                        [
                          0.3,
                          "#f1b6da"
                        ],
                        [
                          0.4,
                          "#fde0ef"
                        ],
                        [
                          0.5,
                          "#f7f7f7"
                        ],
                        [
                          0.6,
                          "#e6f5d0"
                        ],
                        [
                          0.7,
                          "#b8e186"
                        ],
                        [
                          0.8,
                          "#7fbc41"
                        ],
                        [
                          0.9,
                          "#4d9221"
                        ],
                        [
                          1,
                          "#276419"
                        ]
                      ],
                      "sequential": [
                        [
                          0,
                          "#0d0887"
                        ],
                        [
                          0.1111111111111111,
                          "#46039f"
                        ],
                        [
                          0.2222222222222222,
                          "#7201a8"
                        ],
                        [
                          0.3333333333333333,
                          "#9c179e"
                        ],
                        [
                          0.4444444444444444,
                          "#bd3786"
                        ],
                        [
                          0.5555555555555556,
                          "#d8576b"
                        ],
                        [
                          0.6666666666666666,
                          "#ed7953"
                        ],
                        [
                          0.7777777777777778,
                          "#fb9f3a"
                        ],
                        [
                          0.8888888888888888,
                          "#fdca26"
                        ],
                        [
                          1,
                          "#f0f921"
                        ]
                      ],
                      "sequentialminus": [
                        [
                          0,
                          "#0d0887"
                        ],
                        [
                          0.1111111111111111,
                          "#46039f"
                        ],
                        [
                          0.2222222222222222,
                          "#7201a8"
                        ],
                        [
                          0.3333333333333333,
                          "#9c179e"
                        ],
                        [
                          0.4444444444444444,
                          "#bd3786"
                        ],
                        [
                          0.5555555555555556,
                          "#d8576b"
                        ],
                        [
                          0.6666666666666666,
                          "#ed7953"
                        ],
                        [
                          0.7777777777777778,
                          "#fb9f3a"
                        ],
                        [
                          0.8888888888888888,
                          "#fdca26"
                        ],
                        [
                          1,
                          "#f0f921"
                        ]
                      ]
                    },
                    "colorway": [
                      "#636efa",
                      "#EF553B",
                      "#00cc96",
                      "#ab63fa",
                      "#FFA15A",
                      "#19d3f3",
                      "#FF6692",
                      "#B6E880",
                      "#FF97FF",
                      "#FECB52"
                    ],
                    "font": {
                      "color": "#2a3f5f"
                    },
                    "geo": {
                      "bgcolor": "white",
                      "lakecolor": "white",
                      "landcolor": "#E5ECF6",
                      "showlakes": true,
                      "showland": true,
                      "subunitcolor": "white"
                    },
                    "hoverlabel": {
                      "align": "left"
                    },
                    "hovermode": "closest",
                    "mapbox": {
                      "style": "light"
                    },
                    "paper_bgcolor": "white",
                    "plot_bgcolor": "#E5ECF6",
                    "polar": {
                      "angularaxis": {
                        "gridcolor": "white",
                        "linecolor": "white",
                        "ticks": ""
                      },
                      "bgcolor": "#E5ECF6",
                      "radialaxis": {
                        "gridcolor": "white",
                        "linecolor": "white",
                        "ticks": ""
                      }
                    },
                    "scene": {
                      "xaxis": {
                        "backgroundcolor": "#E5ECF6",
                        "gridcolor": "white",
                        "gridwidth": 2,
                        "linecolor": "white",
                        "showbackground": true,
                        "ticks": "",
                        "zerolinecolor": "white"
                      },
                      "yaxis": {
                        "backgroundcolor": "#E5ECF6",
                        "gridcolor": "white",
                        "gridwidth": 2,
                        "linecolor": "white",
                        "showbackground": true,
                        "ticks": "",
                        "zerolinecolor": "white"
                      },
                      "zaxis": {
                        "backgroundcolor": "#E5ECF6",
                        "gridcolor": "white",
                        "gridwidth": 2,
                        "linecolor": "white",
                        "showbackground": true,
                        "ticks": "",
                        "zerolinecolor": "white"
                      }
                    },
                    "shapedefaults": {
                      "line": {
                        "color": "#2a3f5f"
                      }
                    },
                    "ternary": {
                      "aaxis": {
                        "gridcolor": "white",
                        "linecolor": "white",
                        "ticks": ""
                      },
                      "baxis": {
                        "gridcolor": "white",
                        "linecolor": "white",
                        "ticks": ""
                      },
                      "bgcolor": "#E5ECF6",
                      "caxis": {
                        "gridcolor": "white",
                        "linecolor": "white",
                        "ticks": ""
                      }
                    },
                    "title": {
                      "x": 0.05
                    },
                    "xaxis": {
                      "automargin": true,
                      "gridcolor": "white",
                      "linecolor": "white",
                      "ticks": "",
                      "title": {
                        "standoff": 15
                      },
                      "zerolinecolor": "white",
                      "zerolinewidth": 2
                    },
                    "yaxis": {
                      "automargin": true,
                      "gridcolor": "white",
                      "linecolor": "white",
                      "ticks": "",
                      "title": {
                        "standoff": 15
                      },
                      "zerolinecolor": "white",
                      "zerolinewidth": 2
                    }
                  }
                },
                "xaxis": {
                  "anchor": "y",
                  "domain": [
                    0,
                    1
                  ],
                  "title": {
                    "text": "x"
                  }
                },
                "yaxis": {
                  "anchor": "x",
                  "domain": [
                    0,
                    1
                  ],
                  "title": {
                    "text": "y"
                  }
                }
              }
            }
          },
          "metadata": {},
          "output_type": "display_data"
        }
      ],
      "source": [
        "inertia = []\n",
        "maxK = 50\n",
        "for k in range(1, maxK):\n",
        "    kmeans = KMeans(n_clusters=k, n_init=10)\n",
        "    kmeans.fit(X)\n",
        "    inertia.append(kmeans.inertia_)\n",
        "# fig = px.line(y=inertia, x=range(1, maxK), markers=\"o\")\n",
        "fig = px.line(y=inertia * np.arange(1, maxK), x=range(1, maxK), markers=\"o\")\n",
        "fig.show()\n"
      ]
    },
    {
      "cell_type": "code",
      "execution_count": 23,
      "metadata": {
        "colab": {
          "base_uri": "https://localhost:8080/",
          "height": 542
        },
        "id": "m6t0l1g1EwpU",
        "outputId": "8076853b-cb0b-4025-ca69-f8cb2ff7ee40"
      },
      "outputs": [
        {
          "data": {
            "application/vnd.plotly.v1+json": {
              "config": {
                "plotlyServerURL": "https://plot.ly"
              },
              "data": [
                {
                  "hovertemplate": "x=%{x}<br>y=%{y}<br>color=%{marker.color}<extra></extra>",
                  "legendgroup": "",
                  "marker": {
                    "color": [
                      1,
                      0,
                      1,
                      0,
                      0,
                      0,
                      2,
                      2,
                      1,
                      0,
                      0,
                      0,
                      1,
                      0,
                      2,
                      1,
                      2,
                      0,
                      2,
                      2,
                      2,
                      2,
                      2,
                      3,
                      3,
                      1,
                      3,
                      3,
                      2,
                      2,
                      0,
                      3,
                      1,
                      0,
                      2,
                      0,
                      0,
                      1,
                      1,
                      2,
                      2,
                      1,
                      3,
                      0,
                      0,
                      0,
                      1,
                      1,
                      2,
                      2,
                      0,
                      3,
                      0,
                      3,
                      2,
                      2,
                      1,
                      3,
                      0,
                      1,
                      3,
                      2,
                      2,
                      2,
                      2,
                      3,
                      0,
                      2,
                      1,
                      0,
                      2,
                      3,
                      0,
                      1,
                      3,
                      3,
                      0,
                      0,
                      2,
                      1,
                      0,
                      0,
                      3,
                      0,
                      3,
                      0,
                      0,
                      0,
                      1,
                      0,
                      3,
                      1,
                      2,
                      2,
                      2,
                      2,
                      0,
                      0,
                      2,
                      2
                    ],
                    "coloraxis": "coloraxis",
                    "symbol": "circle"
                  },
                  "mode": "markers",
                  "name": "",
                  "orientation": "v",
                  "showlegend": false,
                  "type": "scatter",
                  "x": [
                    2.5165401747248306,
                    0.25989682959155447,
                    2.8130690956518762,
                    -0.3148481994998662,
                    0.13742770649282088,
                    0.697940359085573,
                    -2.444878935150787,
                    -0.7673673676812967,
                    2.5931033270428263,
                    0.46881240360172416,
                    1.5595425282885245,
                    1.9605026231286717,
                    2.427797473217246,
                    2.202493450033261,
                    -2.1227078708606575,
                    3.5493146897741337,
                    -1.6056660327622512,
                    0.3257530529109318,
                    -1.5814972974816104,
                    -2.410410684764666,
                    -2.041798735488218,
                    -1.558330267803902,
                    -1.0147987923438317,
                    0.26604148044240483,
                    1.1986654242244439,
                    2.156797195595774,
                    1.4393346618766247,
                    1.1231476488061927,
                    -1.8222494835758603,
                    -0.9094715722509714,
                    1.0915049354751973,
                    3.2458692764693575,
                    1.72437233682508,
                    2.17153333707258,
                    -1.89133001603578,
                    0.37961180666924843,
                    0.8936949971116488,
                    1.515801392906977,
                    2.3403606391723994,
                    -2.118554410334956,
                    -0.6255952755366998,
                    2.3771408343749174,
                    2.2938580607977226,
                    -0.3887460739535151,
                    1.1002280191040281,
                    0.5685483331451722,
                    1.3586298020873726,
                    1.4996132336477856,
                    -2.2571617935772323,
                    -1.1082826847965024,
                    0.20368474620264654,
                    1.546590658729773,
                    0.2504313870399013,
                    2.221887503894366,
                    -1.9253299737757494,
                    -0.8414395236997524,
                    2.9982911783605983,
                    2.0636675380095344,
                    1.0128768923876519,
                    3.5617880790778815,
                    1.038879522644291,
                    -2.5611895410006644,
                    -2.169631744560978,
                    -1.3935652169238821,
                    -2.71991008738639,
                    1.7327259638543342,
                    1.5851002586640899,
                    -2.327076291133557,
                    1.8060254957309798,
                    1.7363408125669666,
                    -0.7902169541972501,
                    2.792073777736581,
                    -1.0661217741207678,
                    3.593621142617186,
                    1.3662869733891159,
                    1.8877906261811357,
                    1.1182109923494974,
                    0.4383017203257342,
                    -1.8100991422246926,
                    2.3564079463573817,
                    -0.025966209493445858,
                    1.0294838564530293,
                    1.8408648246717736,
                    -0.3278885990263407,
                    1.11676879734155,
                    1.3313606647428355,
                    0.9537242958755712,
                    0.5676259684913967,
                    2.546531017709742,
                    0.6664086246201333,
                    1.7071446800555679,
                    2.372072891562194,
                    -0.6471763365122148,
                    -2.354298286649477,
                    -2.579629941631122,
                    -0.5764801793400639,
                    1.2267242398672162,
                    1.6678190376340996,
                    -1.0267188524001554,
                    -2.50725242828604
                  ],
                  "xaxis": "x",
                  "y": [
                    0.731024655475541,
                    4.613309325735799,
                    0.7736555854652695,
                    4.133595103277215,
                    3.1677729777052095,
                    4.428866502731574,
                    2.5676262255375755,
                    2.9879232544412755,
                    1.223633128930825,
                    4.013594394658679,
                    4.406973656054318,
                    5.265691206475919,
                    -0.33133128908384224,
                    5.479274343368618,
                    2.256731430405911,
                    1.622499386558245,
                    2.387099632243437,
                    2.9227612455830485,
                    4.288556438652616,
                    2.9596143247419024,
                    1.1391597395535813,
                    1.9834074631401648,
                    1.6243174258844553,
                    2.7191501528692483,
                    1.741225041482846,
                    1.2192551506936982,
                    1.3290630129713907,
                    1.6183248495012865,
                    2.7263789192723817,
                    3.576685584504108,
                    5.46720613301877,
                    2.414375000762403,
                    0.2996998107853306,
                    4.139660716435749,
                    2.931865588553168,
                    3.673465850925454,
                    4.632266128999088,
                    0.9231281065574178,
                    1.4629221944914954,
                    4.152293937658511,
                    2.0539370546423843,
                    0.3498155871856863,
                    1.9587723772875612,
                    5.864407643633822,
                    4.6063173431301285,
                    3.9533278861594408,
                    0.43458392812640445,
                    0.7779560276758002,
                    3.811495291809805,
                    2.7806451963553243,
                    3.9871046208822367,
                    1.4388102958951365,
                    4.345343644085301,
                    1.6789748891249072,
                    4.461507904386711,
                    2.3970617866930053,
                    0.7537237912880561,
                    2.3263600550626053,
                    4.154040247427723,
                    -0.1805435889760203,
                    1.6731810264643459,
                    3.131522956812469,
                    2.366242439132962,
                    3.4259074108468077,
                    3.2693956223447525,
                    1.8756197162438788,
                    4.4011273406426525,
                    1.6820653839110333,
                    0.9425959337217332,
                    4.182701560810232,
                    3.1728643836875396,
                    3.140294787769378,
                    4.8266822038006785,
                    2.082075493085476,
                    2.425715622417164,
                    3.315926671165468,
                    3.9823625784817804,
                    4.016144798215957,
                    1.8179212265987077,
                    0.018143027470581163,
                    4.925779612113918,
                    4.545764845640215,
                    1.5396287765750531,
                    4.6740131318690095,
                    2.452560608457371,
                    4.570726789347804,
                    4.646452823872724,
                    3.3592815801504603,
                    1.6354289971911582,
                    4.061945126988122,
                    2.3770746427214107,
                    0.023214452953532194,
                    3.442093245911201,
                    3.4631578759584243,
                    2.548614577481356,
                    3.1714363508730026,
                    3.6205107360070103,
                    3.710055311123236,
                    1.6362361368477245,
                    3.5933726424543604
                  ],
                  "yaxis": "y"
                },
                {
                  "marker": {
                    "color": "green",
                    "symbol": "x"
                  },
                  "mode": "markers",
                  "type": "scatter",
                  "x": [
                    0.7721822128132658,
                    2.426698839286167,
                    -1.693874700650556,
                    1.6989174952426336
                  ],
                  "y": [
                    4.326622042707633,
                    0.7769200199787569,
                    2.832488304881828,
                    2.1191210309865562
                  ]
                }
              ],
              "layout": {
                "coloraxis": {
                  "colorbar": {
                    "title": {
                      "text": "color"
                    }
                  },
                  "colorscale": [
                    [
                      0,
                      "rgb(0,0,255)"
                    ],
                    [
                      1,
                      "rgb(255,0,0)"
                    ]
                  ]
                },
                "legend": {
                  "tracegroupgap": 0
                },
                "margin": {
                  "t": 60
                },
                "showlegend": false,
                "template": {
                  "data": {
                    "bar": [
                      {
                        "error_x": {
                          "color": "#2a3f5f"
                        },
                        "error_y": {
                          "color": "#2a3f5f"
                        },
                        "marker": {
                          "line": {
                            "color": "#E5ECF6",
                            "width": 0.5
                          },
                          "pattern": {
                            "fillmode": "overlay",
                            "size": 10,
                            "solidity": 0.2
                          }
                        },
                        "type": "bar"
                      }
                    ],
                    "barpolar": [
                      {
                        "marker": {
                          "line": {
                            "color": "#E5ECF6",
                            "width": 0.5
                          },
                          "pattern": {
                            "fillmode": "overlay",
                            "size": 10,
                            "solidity": 0.2
                          }
                        },
                        "type": "barpolar"
                      }
                    ],
                    "carpet": [
                      {
                        "aaxis": {
                          "endlinecolor": "#2a3f5f",
                          "gridcolor": "white",
                          "linecolor": "white",
                          "minorgridcolor": "white",
                          "startlinecolor": "#2a3f5f"
                        },
                        "baxis": {
                          "endlinecolor": "#2a3f5f",
                          "gridcolor": "white",
                          "linecolor": "white",
                          "minorgridcolor": "white",
                          "startlinecolor": "#2a3f5f"
                        },
                        "type": "carpet"
                      }
                    ],
                    "choropleth": [
                      {
                        "colorbar": {
                          "outlinewidth": 0,
                          "ticks": ""
                        },
                        "type": "choropleth"
                      }
                    ],
                    "contour": [
                      {
                        "colorbar": {
                          "outlinewidth": 0,
                          "ticks": ""
                        },
                        "colorscale": [
                          [
                            0,
                            "#0d0887"
                          ],
                          [
                            0.1111111111111111,
                            "#46039f"
                          ],
                          [
                            0.2222222222222222,
                            "#7201a8"
                          ],
                          [
                            0.3333333333333333,
                            "#9c179e"
                          ],
                          [
                            0.4444444444444444,
                            "#bd3786"
                          ],
                          [
                            0.5555555555555556,
                            "#d8576b"
                          ],
                          [
                            0.6666666666666666,
                            "#ed7953"
                          ],
                          [
                            0.7777777777777778,
                            "#fb9f3a"
                          ],
                          [
                            0.8888888888888888,
                            "#fdca26"
                          ],
                          [
                            1,
                            "#f0f921"
                          ]
                        ],
                        "type": "contour"
                      }
                    ],
                    "contourcarpet": [
                      {
                        "colorbar": {
                          "outlinewidth": 0,
                          "ticks": ""
                        },
                        "type": "contourcarpet"
                      }
                    ],
                    "heatmap": [
                      {
                        "colorbar": {
                          "outlinewidth": 0,
                          "ticks": ""
                        },
                        "colorscale": [
                          [
                            0,
                            "#0d0887"
                          ],
                          [
                            0.1111111111111111,
                            "#46039f"
                          ],
                          [
                            0.2222222222222222,
                            "#7201a8"
                          ],
                          [
                            0.3333333333333333,
                            "#9c179e"
                          ],
                          [
                            0.4444444444444444,
                            "#bd3786"
                          ],
                          [
                            0.5555555555555556,
                            "#d8576b"
                          ],
                          [
                            0.6666666666666666,
                            "#ed7953"
                          ],
                          [
                            0.7777777777777778,
                            "#fb9f3a"
                          ],
                          [
                            0.8888888888888888,
                            "#fdca26"
                          ],
                          [
                            1,
                            "#f0f921"
                          ]
                        ],
                        "type": "heatmap"
                      }
                    ],
                    "heatmapgl": [
                      {
                        "colorbar": {
                          "outlinewidth": 0,
                          "ticks": ""
                        },
                        "colorscale": [
                          [
                            0,
                            "#0d0887"
                          ],
                          [
                            0.1111111111111111,
                            "#46039f"
                          ],
                          [
                            0.2222222222222222,
                            "#7201a8"
                          ],
                          [
                            0.3333333333333333,
                            "#9c179e"
                          ],
                          [
                            0.4444444444444444,
                            "#bd3786"
                          ],
                          [
                            0.5555555555555556,
                            "#d8576b"
                          ],
                          [
                            0.6666666666666666,
                            "#ed7953"
                          ],
                          [
                            0.7777777777777778,
                            "#fb9f3a"
                          ],
                          [
                            0.8888888888888888,
                            "#fdca26"
                          ],
                          [
                            1,
                            "#f0f921"
                          ]
                        ],
                        "type": "heatmapgl"
                      }
                    ],
                    "histogram": [
                      {
                        "marker": {
                          "pattern": {
                            "fillmode": "overlay",
                            "size": 10,
                            "solidity": 0.2
                          }
                        },
                        "type": "histogram"
                      }
                    ],
                    "histogram2d": [
                      {
                        "colorbar": {
                          "outlinewidth": 0,
                          "ticks": ""
                        },
                        "colorscale": [
                          [
                            0,
                            "#0d0887"
                          ],
                          [
                            0.1111111111111111,
                            "#46039f"
                          ],
                          [
                            0.2222222222222222,
                            "#7201a8"
                          ],
                          [
                            0.3333333333333333,
                            "#9c179e"
                          ],
                          [
                            0.4444444444444444,
                            "#bd3786"
                          ],
                          [
                            0.5555555555555556,
                            "#d8576b"
                          ],
                          [
                            0.6666666666666666,
                            "#ed7953"
                          ],
                          [
                            0.7777777777777778,
                            "#fb9f3a"
                          ],
                          [
                            0.8888888888888888,
                            "#fdca26"
                          ],
                          [
                            1,
                            "#f0f921"
                          ]
                        ],
                        "type": "histogram2d"
                      }
                    ],
                    "histogram2dcontour": [
                      {
                        "colorbar": {
                          "outlinewidth": 0,
                          "ticks": ""
                        },
                        "colorscale": [
                          [
                            0,
                            "#0d0887"
                          ],
                          [
                            0.1111111111111111,
                            "#46039f"
                          ],
                          [
                            0.2222222222222222,
                            "#7201a8"
                          ],
                          [
                            0.3333333333333333,
                            "#9c179e"
                          ],
                          [
                            0.4444444444444444,
                            "#bd3786"
                          ],
                          [
                            0.5555555555555556,
                            "#d8576b"
                          ],
                          [
                            0.6666666666666666,
                            "#ed7953"
                          ],
                          [
                            0.7777777777777778,
                            "#fb9f3a"
                          ],
                          [
                            0.8888888888888888,
                            "#fdca26"
                          ],
                          [
                            1,
                            "#f0f921"
                          ]
                        ],
                        "type": "histogram2dcontour"
                      }
                    ],
                    "mesh3d": [
                      {
                        "colorbar": {
                          "outlinewidth": 0,
                          "ticks": ""
                        },
                        "type": "mesh3d"
                      }
                    ],
                    "parcoords": [
                      {
                        "line": {
                          "colorbar": {
                            "outlinewidth": 0,
                            "ticks": ""
                          }
                        },
                        "type": "parcoords"
                      }
                    ],
                    "pie": [
                      {
                        "automargin": true,
                        "type": "pie"
                      }
                    ],
                    "scatter": [
                      {
                        "fillpattern": {
                          "fillmode": "overlay",
                          "size": 10,
                          "solidity": 0.2
                        },
                        "type": "scatter"
                      }
                    ],
                    "scatter3d": [
                      {
                        "line": {
                          "colorbar": {
                            "outlinewidth": 0,
                            "ticks": ""
                          }
                        },
                        "marker": {
                          "colorbar": {
                            "outlinewidth": 0,
                            "ticks": ""
                          }
                        },
                        "type": "scatter3d"
                      }
                    ],
                    "scattercarpet": [
                      {
                        "marker": {
                          "colorbar": {
                            "outlinewidth": 0,
                            "ticks": ""
                          }
                        },
                        "type": "scattercarpet"
                      }
                    ],
                    "scattergeo": [
                      {
                        "marker": {
                          "colorbar": {
                            "outlinewidth": 0,
                            "ticks": ""
                          }
                        },
                        "type": "scattergeo"
                      }
                    ],
                    "scattergl": [
                      {
                        "marker": {
                          "colorbar": {
                            "outlinewidth": 0,
                            "ticks": ""
                          }
                        },
                        "type": "scattergl"
                      }
                    ],
                    "scattermapbox": [
                      {
                        "marker": {
                          "colorbar": {
                            "outlinewidth": 0,
                            "ticks": ""
                          }
                        },
                        "type": "scattermapbox"
                      }
                    ],
                    "scatterpolar": [
                      {
                        "marker": {
                          "colorbar": {
                            "outlinewidth": 0,
                            "ticks": ""
                          }
                        },
                        "type": "scatterpolar"
                      }
                    ],
                    "scatterpolargl": [
                      {
                        "marker": {
                          "colorbar": {
                            "outlinewidth": 0,
                            "ticks": ""
                          }
                        },
                        "type": "scatterpolargl"
                      }
                    ],
                    "scatterternary": [
                      {
                        "marker": {
                          "colorbar": {
                            "outlinewidth": 0,
                            "ticks": ""
                          }
                        },
                        "type": "scatterternary"
                      }
                    ],
                    "surface": [
                      {
                        "colorbar": {
                          "outlinewidth": 0,
                          "ticks": ""
                        },
                        "colorscale": [
                          [
                            0,
                            "#0d0887"
                          ],
                          [
                            0.1111111111111111,
                            "#46039f"
                          ],
                          [
                            0.2222222222222222,
                            "#7201a8"
                          ],
                          [
                            0.3333333333333333,
                            "#9c179e"
                          ],
                          [
                            0.4444444444444444,
                            "#bd3786"
                          ],
                          [
                            0.5555555555555556,
                            "#d8576b"
                          ],
                          [
                            0.6666666666666666,
                            "#ed7953"
                          ],
                          [
                            0.7777777777777778,
                            "#fb9f3a"
                          ],
                          [
                            0.8888888888888888,
                            "#fdca26"
                          ],
                          [
                            1,
                            "#f0f921"
                          ]
                        ],
                        "type": "surface"
                      }
                    ],
                    "table": [
                      {
                        "cells": {
                          "fill": {
                            "color": "#EBF0F8"
                          },
                          "line": {
                            "color": "white"
                          }
                        },
                        "header": {
                          "fill": {
                            "color": "#C8D4E3"
                          },
                          "line": {
                            "color": "white"
                          }
                        },
                        "type": "table"
                      }
                    ]
                  },
                  "layout": {
                    "annotationdefaults": {
                      "arrowcolor": "#2a3f5f",
                      "arrowhead": 0,
                      "arrowwidth": 1
                    },
                    "autotypenumbers": "strict",
                    "coloraxis": {
                      "colorbar": {
                        "outlinewidth": 0,
                        "ticks": ""
                      }
                    },
                    "colorscale": {
                      "diverging": [
                        [
                          0,
                          "#8e0152"
                        ],
                        [
                          0.1,
                          "#c51b7d"
                        ],
                        [
                          0.2,
                          "#de77ae"
                        ],
                        [
                          0.3,
                          "#f1b6da"
                        ],
                        [
                          0.4,
                          "#fde0ef"
                        ],
                        [
                          0.5,
                          "#f7f7f7"
                        ],
                        [
                          0.6,
                          "#e6f5d0"
                        ],
                        [
                          0.7,
                          "#b8e186"
                        ],
                        [
                          0.8,
                          "#7fbc41"
                        ],
                        [
                          0.9,
                          "#4d9221"
                        ],
                        [
                          1,
                          "#276419"
                        ]
                      ],
                      "sequential": [
                        [
                          0,
                          "#0d0887"
                        ],
                        [
                          0.1111111111111111,
                          "#46039f"
                        ],
                        [
                          0.2222222222222222,
                          "#7201a8"
                        ],
                        [
                          0.3333333333333333,
                          "#9c179e"
                        ],
                        [
                          0.4444444444444444,
                          "#bd3786"
                        ],
                        [
                          0.5555555555555556,
                          "#d8576b"
                        ],
                        [
                          0.6666666666666666,
                          "#ed7953"
                        ],
                        [
                          0.7777777777777778,
                          "#fb9f3a"
                        ],
                        [
                          0.8888888888888888,
                          "#fdca26"
                        ],
                        [
                          1,
                          "#f0f921"
                        ]
                      ],
                      "sequentialminus": [
                        [
                          0,
                          "#0d0887"
                        ],
                        [
                          0.1111111111111111,
                          "#46039f"
                        ],
                        [
                          0.2222222222222222,
                          "#7201a8"
                        ],
                        [
                          0.3333333333333333,
                          "#9c179e"
                        ],
                        [
                          0.4444444444444444,
                          "#bd3786"
                        ],
                        [
                          0.5555555555555556,
                          "#d8576b"
                        ],
                        [
                          0.6666666666666666,
                          "#ed7953"
                        ],
                        [
                          0.7777777777777778,
                          "#fb9f3a"
                        ],
                        [
                          0.8888888888888888,
                          "#fdca26"
                        ],
                        [
                          1,
                          "#f0f921"
                        ]
                      ]
                    },
                    "colorway": [
                      "#636efa",
                      "#EF553B",
                      "#00cc96",
                      "#ab63fa",
                      "#FFA15A",
                      "#19d3f3",
                      "#FF6692",
                      "#B6E880",
                      "#FF97FF",
                      "#FECB52"
                    ],
                    "font": {
                      "color": "#2a3f5f"
                    },
                    "geo": {
                      "bgcolor": "white",
                      "lakecolor": "white",
                      "landcolor": "#E5ECF6",
                      "showlakes": true,
                      "showland": true,
                      "subunitcolor": "white"
                    },
                    "hoverlabel": {
                      "align": "left"
                    },
                    "hovermode": "closest",
                    "mapbox": {
                      "style": "light"
                    },
                    "paper_bgcolor": "white",
                    "plot_bgcolor": "#E5ECF6",
                    "polar": {
                      "angularaxis": {
                        "gridcolor": "white",
                        "linecolor": "white",
                        "ticks": ""
                      },
                      "bgcolor": "#E5ECF6",
                      "radialaxis": {
                        "gridcolor": "white",
                        "linecolor": "white",
                        "ticks": ""
                      }
                    },
                    "scene": {
                      "xaxis": {
                        "backgroundcolor": "#E5ECF6",
                        "gridcolor": "white",
                        "gridwidth": 2,
                        "linecolor": "white",
                        "showbackground": true,
                        "ticks": "",
                        "zerolinecolor": "white"
                      },
                      "yaxis": {
                        "backgroundcolor": "#E5ECF6",
                        "gridcolor": "white",
                        "gridwidth": 2,
                        "linecolor": "white",
                        "showbackground": true,
                        "ticks": "",
                        "zerolinecolor": "white"
                      },
                      "zaxis": {
                        "backgroundcolor": "#E5ECF6",
                        "gridcolor": "white",
                        "gridwidth": 2,
                        "linecolor": "white",
                        "showbackground": true,
                        "ticks": "",
                        "zerolinecolor": "white"
                      }
                    },
                    "shapedefaults": {
                      "line": {
                        "color": "#2a3f5f"
                      }
                    },
                    "ternary": {
                      "aaxis": {
                        "gridcolor": "white",
                        "linecolor": "white",
                        "ticks": ""
                      },
                      "baxis": {
                        "gridcolor": "white",
                        "linecolor": "white",
                        "ticks": ""
                      },
                      "bgcolor": "#E5ECF6",
                      "caxis": {
                        "gridcolor": "white",
                        "linecolor": "white",
                        "ticks": ""
                      }
                    },
                    "title": {
                      "x": 0.05
                    },
                    "xaxis": {
                      "automargin": true,
                      "gridcolor": "white",
                      "linecolor": "white",
                      "ticks": "",
                      "title": {
                        "standoff": 15
                      },
                      "zerolinecolor": "white",
                      "zerolinewidth": 2
                    },
                    "yaxis": {
                      "automargin": true,
                      "gridcolor": "white",
                      "linecolor": "white",
                      "ticks": "",
                      "title": {
                        "standoff": 15
                      },
                      "zerolinecolor": "white",
                      "zerolinewidth": 2
                    }
                  }
                },
                "xaxis": {
                  "anchor": "y",
                  "domain": [
                    0,
                    1
                  ],
                  "title": {
                    "text": "x"
                  }
                },
                "yaxis": {
                  "anchor": "x",
                  "domain": [
                    0,
                    1
                  ],
                  "scaleanchor": "x",
                  "scaleratio": 1,
                  "title": {
                    "text": "y"
                  }
                }
              }
            }
          },
          "metadata": {},
          "output_type": "display_data"
        }
      ],
      "source": [
        "kmeans = KMeans(n_clusters=4, n_init=10)\n",
        "kmeans.fit(X)\n",
        "fig = px.scatter(\n",
        "    x=X[:, 0],\n",
        "    y=X[:, 1],\n",
        "    color=kmeans.labels_,\n",
        "    color_continuous_scale=px.colors.sequential.Bluered,\n",
        ")\n",
        "fig.add_scatter(\n",
        "    x=kmeans.cluster_centers_[:, 0],\n",
        "    y=kmeans.cluster_centers_[:, 1],\n",
        "    mode=\"markers\",\n",
        "    marker=go.scatter.Marker({\"symbol\": \"x\", \"color\": \"green\"}),\n",
        ")\n",
        "fig.update_layout(showlegend=False)\n",
        "fig.update_yaxes(\n",
        "    scaleanchor=\"x\",\n",
        "    scaleratio=1,\n",
        ")\n",
        "fig.show()"
      ]
    }
  ],
  "metadata": {
    "accelerator": "GPU",
    "colab": {
      "provenance": [],
      "toc_visible": true
    },
    "kernelspec": {
      "display_name": "Python 3",
      "name": "python3"
    },
    "language_info": {
      "codemirror_mode": {
        "name": "ipython",
        "version": 3
      },
      "file_extension": ".py",
      "mimetype": "text/x-python",
      "name": "python",
      "nbconvert_exporter": "python",
      "pygments_lexer": "ipython3",
      "version": "3.11.3"
    },
    "vscode": {
      "interpreter": {
        "hash": "10213d5d3bfbb90c435c171fdf3f7b3db0669a75aa9809df715e84a75ee4f001"
      }
    }
  },
  "nbformat": 4,
  "nbformat_minor": 0
}
